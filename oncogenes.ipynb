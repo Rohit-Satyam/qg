{
 "cells": [
  {
   "cell_type": "code",
   "execution_count": 1,
   "metadata": {
    "ExecuteTime": {
     "end_time": "2017-04-17T06:08:20.982715Z",
     "start_time": "2017-04-17T06:08:18.930355Z"
    },
    "collapsed": true,
    "run_control": {
     "frozen": false,
     "read_only": false
    }
   },
   "outputs": [],
   "source": [
    "import numpy as np\n",
    "from tqdm import tqdm\n",
    "import glob\n",
    "import matplotlib.pyplot as plt\n",
    "from scipy.stats import mannwhitneyu, ttest_ind, zscore, pearsonr, wilcoxon\n",
    "import pybedtools as pbt\n",
    "from scipy.integrate import simps\n",
    "from IPython.display import clear_output\n",
    "import json\n",
    "\n",
    "plt.style.use('fivethirtyeight')\n",
    "def clean_axis(ax):\n",
    "    ax.xaxis.set_tick_params(labelsize=9)\n",
    "    ax.yaxis.set_tick_params(labelsize=9)\n",
    "    for i in ['top', 'bottom', 'left', 'right']:\n",
    "        ax.spines[i].set_visible(False)\n",
    "    ax.grid(which='major', linestyle='--', alpha=0.5)\n",
    "    return True"
   ]
  },
  {
   "cell_type": "markdown",
   "metadata": {
    "run_control": {
     "frozen": false,
     "read_only": false
    }
   },
   "source": [
    "### Load names of oncogenes downloaded from COSMIC (cancer Genes census list) and obtain there corresponding ENSEMBL transcript ids"
   ]
  },
  {
   "cell_type": "code",
   "execution_count": 2,
   "metadata": {
    "ExecuteTime": {
     "end_time": "2017-04-17T06:08:24.410314Z",
     "start_time": "2017-04-17T06:08:20.987557Z"
    },
    "run_control": {
     "frozen": false,
     "read_only": false
    }
   },
   "outputs": [
    {
     "data": {
      "text/plain": [
       "(616, 6627)"
      ]
     },
     "execution_count": 2,
     "metadata": {},
     "output_type": "execute_result"
    }
   ],
   "source": [
    "oncogenes = []\n",
    "with open('../data/oncogenes/Census_allFri Apr 14 21-33-23 2017.tsv') as h:\n",
    "    next(h)\n",
    "    for l in h:\n",
    "        c = l.split('\\t', 1)\n",
    "        oncogenes.append(c[0])\n",
    "\n",
    "tid_to_gene = json.load(open('../data/annotation/gencode_tid_to_gene_name.json'))\n",
    "oncogenes_tid = {}\n",
    "for k,v in tid_to_gene.items():\n",
    "    if v in oncogenes:\n",
    "        oncogenes_tid[k] = v\n",
    "len(oncogenes), len(oncogenes_tid)"
   ]
  },
  {
   "cell_type": "markdown",
   "metadata": {
    "ExecuteTime": {
     "end_time": "2017-04-15T10:08:05.322624Z",
     "start_time": "2017-04-15T10:08:05.318787Z"
    },
    "run_control": {
     "frozen": false,
     "read_only": false
    }
   },
   "source": [
    "### Load the TSS inf|ormation for all above transcripts and calculate +/- 1 kb tss region"
   ]
  },
  {
   "cell_type": "code",
   "execution_count": 3,
   "metadata": {
    "ExecuteTime": {
     "end_time": "2017-04-17T06:08:24.985691Z",
     "start_time": "2017-04-17T06:08:24.413092Z"
    },
    "run_control": {
     "frozen": false,
     "read_only": false
    }
   },
   "outputs": [
    {
     "data": {
      "text/plain": [
       "(5804, 602)"
      ]
     },
     "execution_count": 3,
     "metadata": {},
     "output_type": "execute_result"
    }
   ],
   "source": [
    "chroms = ['chr'+str(x) for x in range(1,23)] + ['chrX', 'chrY']\n",
    "chrom_wise_oncogene_info = {}\n",
    "\n",
    "temp_starts = {}\n",
    "for chrom in chroms:\n",
    "    chrom_wise_oncogene_info[chrom] = {'positive': [], 'negative': []}\n",
    "    with open('../data/annotation/chrom_wise_gencode_tss/%s.bed' % chrom) as h:\n",
    "        for l in h:\n",
    "            c = l.rstrip('\\n').split('\\t')\n",
    "            if c[3] in oncogenes_tid:\n",
    "                gene_name = oncogenes_tid[c[3]]\n",
    "                if gene_name not in temp_starts:\n",
    "                    temp_starts[gene_name] = []\n",
    "                if c[5] == '+':\n",
    "                    start = int(c[1])\n",
    "                else:\n",
    "                    start= int(c[2])\n",
    "                if start not in temp_starts[gene_name]:\n",
    "                    up = start - 1000\n",
    "                    down = start + 1000 + 1\n",
    "                    strand = 'positive' if c[5] == '+' else 'negative'\n",
    "                    chrom_wise_oncogene_info[chrom][strand].append(\n",
    "                        (up, down, gene_name, c[3]))\n",
    "                    temp_starts[gene_name].append(start)\n",
    "                    \n",
    "sum([len(x) for x in temp_starts.values()]), len(temp_starts)"
   ]
  },
  {
   "cell_type": "markdown",
   "metadata": {
    "run_control": {
     "frozen": false,
     "read_only": false
    }
   },
   "source": [
    "### Load the expectation scores in the above regions"
   ]
  },
  {
   "cell_type": "code",
   "execution_count": 4,
   "metadata": {
    "ExecuteTime": {
     "end_time": "2017-04-17T06:08:26.442561Z",
     "start_time": "2017-04-17T06:08:25.164498Z"
    },
    "run_control": {
     "frozen": false,
     "read_only": false
    }
   },
   "outputs": [
    {
     "name": "stderr",
     "output_type": "stream",
     "text": [
      "100%|██████████| 24/24 [00:00<00:00, 43.29it/s]\n"
     ]
    },
    {
     "data": {
      "text/plain": [
       "((5804, 2001), (5804, 2001), 5804)"
      ]
     },
     "execution_count": 4,
     "metadata": {},
     "output_type": "execute_result"
    }
   ],
   "source": [
    "def load_scores(chrom, strand):\n",
    "    in_dir = '/home/parashar/scratch/quadcomb/data/QG_expectation_scores_corrected_values'\n",
    "    fn = '%s/%s_%s.npy' % (in_dir, chrom, strand)\n",
    "    return np.load(fn, mmap_mode='r')\n",
    "\n",
    "gene_sense_exp = []\n",
    "gene_antisense_exp = []\n",
    "tid_list = []\n",
    "for chrom in tqdm(chroms):\n",
    "    pos_exp = load_scores(chrom, 'positive')\n",
    "    neg_exp = load_scores(chrom, 'negative')\n",
    "    for i in chrom_wise_oncogene_info[chrom]['positive']:\n",
    "        gene_sense_exp.append(pos_exp[i[0]:i[1]])\n",
    "        gene_antisense_exp.append(neg_exp[i[0]:i[1]])\n",
    "        tid_list.append(i[3])\n",
    "    for i in chrom_wise_oncogene_info[chrom]['negative']:\n",
    "        gene_sense_exp.append(neg_exp[i[0]:i[1]][::-1])\n",
    "        gene_antisense_exp.append(pos_exp[i[0]:i[1]][::-1])\n",
    "        tid_list.append(i[3])\n",
    "gene_sense_exp = np.array(gene_sense_exp)\n",
    "gene_antisense_exp = np.array(gene_antisense_exp)\n",
    "gene_sense_exp.shape, gene_antisense_exp.shape, len(tid_list)"
   ]
  },
  {
   "cell_type": "markdown",
   "metadata": {
    "ExecuteTime": {
     "end_time": "2017-04-17T08:40:42.062080Z",
     "start_time": "2017-04-17T08:40:42.056979Z"
    },
    "run_control": {
     "frozen": false,
     "read_only": false
    }
   },
   "source": [
    "### Load G4 motifs in the above regions"
   ]
  },
  {
   "cell_type": "code",
   "execution_count": 146,
   "metadata": {
    "ExecuteTime": {
     "end_time": "2017-04-17T09:04:04.108870Z",
     "start_time": "2017-04-17T09:03:57.721419Z"
    },
    "run_control": {
     "frozen": false,
     "read_only": false
    }
   },
   "outputs": [
    {
     "name": "stderr",
     "output_type": "stream",
     "text": [
      "100%|██████████| 24/24 [00:06<00:00,  3.94it/s]\n"
     ]
    },
    {
     "data": {
      "text/plain": [
       "((5804, 2001), (5804, 2001))"
      ]
     },
     "execution_count": 146,
     "metadata": {},
     "output_type": "execute_result"
    }
   ],
   "source": [
    "def g4_intersect(chrom, bed, loop_len=15):\n",
    "    g4_fn = \"g3_%d_0_%s_nov.bed\" % (loop_len, chrom)\n",
    "    g4 = pbt.BedTool(\"/home/parashar/scratch/quadruplexes/hg19/%s\" % g4_fn)\n",
    "    intersect = bed.intersect(g4, wo=True)\n",
    "    tids = {}\n",
    "    for l in intersect:\n",
    "        c = str(l).rstrip('\\n').split('\\t')\n",
    "        start = max(0, int(c[7]) - int(c[1]))\n",
    "        end = min(2000, int(c[8]) - int(c[1]))\n",
    "        a = np.zeros(2001)\n",
    "        a[start:end] += 1\n",
    "        t_strand = c[5]\n",
    "        if t_strand == '-':\n",
    "            a = a[::-1]\n",
    "        tname = c[4]\n",
    "        if tname not in tids:\n",
    "            tids[tname] = {'sense': np.zeros(2001), 'antisense': np.zeros(2001)}\n",
    "        \n",
    "        g4_strand = '+' if c[10][0].upper() == 'G' else '-'\n",
    "        if g4_strand == t_strand:\n",
    "            tids[tname]['sense'] += a\n",
    "        else:\n",
    "            tids[tname]['antisense'] += a\n",
    "    return tids\n",
    "\n",
    "tid_arrays = {}\n",
    "for chrom in tqdm(chroms):\n",
    "    t_bed = []\n",
    "    for strand,s in zip(['positive', 'negative'], ['+', '-']):\n",
    "        for i in chrom_wise_oncogene_info[chrom][strand]:\n",
    "            bedline = \"\\t\".join(map(str,\n",
    "                                [chrom, i[0], i[1], i[2], i[3], s]))\n",
    "            t_bed.append(bedline)\n",
    "    t_bed = pbt.BedTool('\\n'.join(t_bed), from_string=True)    \n",
    "    temp_dict = g4_intersect(chrom, t_bed)\n",
    "    for tid in temp_dict:\n",
    "        tid_arrays[tid] = temp_dict[tid]\n",
    "\n",
    "gene_sense_g4 = []\n",
    "gene_antisense_g4 = []\n",
    "for tid in tid_list:\n",
    "    if tid in tid_arrays:\n",
    "        gene_sense_g4.append(tid_arrays[tid]['sense'])\n",
    "        gene_antisense_g4.append(tid_arrays[tid]['antisense'])\n",
    "    else:\n",
    "        gene_sense_g4.append(np.zeros(2001))\n",
    "        gene_antisense_g4.append(np.zeros(2001))\n",
    "gene_sense_g4 = np.array(gene_sense_g4)\n",
    "gene_antisense_g4 = np.array(gene_antisense_g4)\n",
    "gene_sense_g4.shape, gene_antisense_g4.shape"
   ]
  },
  {
   "cell_type": "markdown",
   "metadata": {
    "ExecuteTime": {
     "end_time": "2017-04-17T08:41:01.135595Z",
     "start_time": "2017-04-17T08:41:01.130333Z"
    },
    "run_control": {
     "frozen": false,
     "read_only": false
    }
   },
   "source": [
    "### Load OQs in the above regions"
   ]
  },
  {
   "cell_type": "code",
   "execution_count": 196,
   "metadata": {
    "ExecuteTime": {
     "end_time": "2017-04-17T21:56:29.754420Z",
     "start_time": "2017-04-17T21:56:25.255213Z"
    },
    "run_control": {
     "frozen": false,
     "read_only": false
    }
   },
   "outputs": [
    {
     "name": "stderr",
     "output_type": "stream",
     "text": [
      "100%|██████████| 24/24 [00:04<00:00,  5.77it/s]\n"
     ]
    },
    {
     "data": {
      "text/plain": [
       "((5804, 2001), (5804, 2001))"
      ]
     },
     "execution_count": 196,
     "metadata": {},
     "output_type": "execute_result"
    }
   ],
   "source": [
    "def oq_intersect(chrom, transcript_bed):\n",
    "    oq_fn = '../data/ROC_data/regions/chrom_wise/Na_K_2_oq_regions_%s.bed' % chrom\n",
    "    oq_bed = pbt.BedTool(oq_fn)\n",
    "    intersect = transcript_bed.intersect(oq_bed, wo=True)\n",
    "    tids = {}\n",
    "    for l in intersect:\n",
    "        c = str(l).rstrip('\\n').split('\\t')\n",
    "        if int(c[10]) > 1:\n",
    "            start = max(0, int(c[7]) - int(c[1]))\n",
    "            end = min(2000, int(c[8]) - int(c[1]))\n",
    "            a = np.zeros(2001)\n",
    "            a[start:end] += 1\n",
    "            t_strand = c[5]\n",
    "            if t_strand == '-':\n",
    "                a = a[::-1]\n",
    "            tname = c[4]\n",
    "            if tname not in tids:\n",
    "                tids[tname] = {'sense': np.zeros(2001), 'antisense': np.zeros(2001)}\n",
    "            oq_strand = '+' if c[9] == '-' else '-'\n",
    "            if oq_strand == t_strand:\n",
    "                tids[tname]['sense'] += a\n",
    "            else:\n",
    "                tids[tname]['antisense'] += a\n",
    "    return tids\n",
    "\n",
    "tid_arrays = {}\n",
    "for chrom in tqdm(chroms):\n",
    "    t_bed = []\n",
    "    for strand,s in zip(['positive', 'negative'], ['+', '-']):\n",
    "        for i in chrom_wise_oncogene_info[chrom][strand]:\n",
    "            bedline = \"\\t\".join(map(str,\n",
    "                                [chrom, i[0], i[1], i[2], i[3], s]))\n",
    "            t_bed.append(bedline)\n",
    "    t_bed = pbt.BedTool('\\n'.join(t_bed), from_string=True)    \n",
    "    temp_dict = oq_intersect(chrom, t_bed)\n",
    "    for tid in temp_dict:\n",
    "        tid_arrays[tid] = temp_dict[tid]\n",
    "\n",
    "gene_sense_oq = []\n",
    "gene_antisense_oq = []\n",
    "for tid in tid_list:\n",
    "    if tid in tid_arrays:\n",
    "        gene_sense_oq.append(tid_arrays[tid]['sense'])\n",
    "        gene_antisense_oq.append(tid_arrays[tid]['antisense'])\n",
    "    else:\n",
    "        gene_sense_oq.append(np.zeros(2001))\n",
    "        gene_antisense_oq.append(np.zeros(2001))\n",
    "gene_sense_oq = np.array(gene_sense_oq)\n",
    "gene_antisense_oq = np.array(gene_antisense_oq)\n",
    "gene_sense_oq.shape, gene_antisense_oq.shape"
   ]
  },
  {
   "cell_type": "code",
   "execution_count": 182,
   "metadata": {
    "ExecuteTime": {
     "end_time": "2017-04-17T21:47:08.758937Z",
     "start_time": "2017-04-17T21:47:07.001271Z"
    },
    "collapsed": true,
    "run_control": {
     "frozen": false,
     "read_only": false
    }
   },
   "outputs": [],
   "source": [
    "def make_ranges(a):\n",
    "    ranges = []\n",
    "    for s,e in zip(np.where(np.diff(a) > 0)[0], np.where(np.diff(a) < 0)[0]):\n",
    "        ranges.append(list(range(s+1,e+1)))\n",
    "    return ranges   \n",
    "\n",
    "def g4_exp_overlap(g4_arrays, exp_arrays, cutoff=0.01):    \n",
    "    overlap = []\n",
    "    total = []\n",
    "    for g,e in zip(g4_arrays, exp_arrays):\n",
    "        e = np.where(e > cutoff)[0]\n",
    "        tg, tl, to, tot = len(e), 0, 0, 0\n",
    "        for r in make_ranges(g):\n",
    "            tot += 1\n",
    "            len_intersect = len(set(r).intersection(e))\n",
    "            if len_intersect > 0:\n",
    "                to += 1\n",
    "        overlap.append(to)\n",
    "        total.append(tot)\n",
    "    return np.array(overlap), np.array(total)\n",
    "\n",
    "s_overlap, s_total_g4s = g4_exp_overlap(gene_sense_g4, gene_sense_exp)\n",
    "as_overlap, as_total_g4s = g4_exp_overlap(gene_antisense_g4, gene_antisense_exp)"
   ]
  },
  {
   "cell_type": "code",
   "execution_count": 101,
   "metadata": {
    "ExecuteTime": {
     "end_time": "2017-04-17T07:08:20.042374Z",
     "start_time": "2017-04-17T07:08:20.031156Z"
    },
    "run_control": {
     "frozen": false,
     "read_only": false
    }
   },
   "outputs": [
    {
     "data": {
      "text/plain": [
       "(12246, 10033, 22279)"
      ]
     },
     "execution_count": 101,
     "metadata": {},
     "output_type": "execute_result"
    }
   ],
   "source": [
    "sum(s_total_g4s), sum(as_total_g4s), sum(s_total_g4s) + sum(as_total_g4s)"
   ]
  },
  {
   "cell_type": "code",
   "execution_count": 112,
   "metadata": {
    "ExecuteTime": {
     "end_time": "2017-04-17T07:10:48.550094Z",
     "start_time": "2017-04-17T07:10:48.540706Z"
    },
    "run_control": {
     "frozen": false,
     "read_only": false
    }
   },
   "outputs": [
    {
     "name": "stdout",
     "output_type": "stream",
     "text": [
      "4307 74.20744314266024\n"
     ]
    }
   ],
   "source": [
    "print (len(np.where((s_total_g4s + as_total_g4s) > 0)[0]),\n",
    "       len(np.where((s_total_g4s + as_total_g4s) > 0)[0])/len(as_total_g4s)*100)"
   ]
  },
  {
   "cell_type": "code",
   "execution_count": 116,
   "metadata": {
    "ExecuteTime": {
     "end_time": "2017-04-17T07:14:59.814482Z",
     "start_time": "2017-04-17T07:14:59.702992Z"
    },
    "run_control": {
     "frozen": false,
     "read_only": false
    }
   },
   "outputs": [
    {
     "name": "stdout",
     "output_type": "stream",
     "text": [
      "5210 89.7656788421778\n"
     ]
    }
   ],
   "source": [
    "exp_ctr = 0\n",
    "for i in range(gene_sense_exp.shape[0]):\n",
    "    if len(np.where(gene_sense_exp[i] > 0.01)[0]) > 0 or \\\n",
    "       len(np.where(gene_antisense_exp[i] > 0.01)[0]) > 0:\n",
    "        exp_ctr += 1\n",
    "print (exp_ctr, exp_ctr/gene_sense_g4.shape[0]*100)"
   ]
  },
  {
   "cell_type": "code",
   "execution_count": 119,
   "metadata": {
    "ExecuteTime": {
     "end_time": "2017-04-17T07:20:39.130918Z",
     "start_time": "2017-04-17T07:20:39.118160Z"
    },
    "run_control": {
     "frozen": false,
     "read_only": false
    }
   },
   "outputs": [
    {
     "data": {
      "text/plain": [
       "(17568, 0.78854526684321558)"
      ]
     },
     "execution_count": 119,
     "metadata": {},
     "output_type": "execute_result"
    }
   ],
   "source": [
    "sum(s_overlap) + sum(as_overlap), (sum(s_overlap) + sum(as_overlap))/(sum(s_total_g4s) + sum(as_total_g4s))"
   ]
  },
  {
   "cell_type": "code",
   "execution_count": 121,
   "metadata": {
    "ExecuteTime": {
     "end_time": "2017-04-17T07:22:18.054540Z",
     "start_time": "2017-04-17T07:22:18.046933Z"
    },
    "run_control": {
     "frozen": false,
     "read_only": false
    }
   },
   "outputs": [
    {
     "data": {
      "text/plain": [
       "4055"
      ]
     },
     "execution_count": 121,
     "metadata": {},
     "output_type": "execute_result"
    }
   ],
   "source": [
    "len(np.where((s_overlap + as_overlap) > 0)[0])"
   ]
  },
  {
   "cell_type": "code",
   "execution_count": 240,
   "metadata": {
    "ExecuteTime": {
     "end_time": "2017-04-17T22:35:01.263167Z",
     "start_time": "2017-04-17T22:34:57.590327Z"
    },
    "run_control": {
     "frozen": false,
     "read_only": false
    }
   },
   "outputs": [
    {
     "data": {
      "text/plain": [
       "938"
      ]
     },
     "execution_count": 240,
     "metadata": {},
     "output_type": "execute_result"
    }
   ],
   "source": [
    "ctr = []\n",
    "for i,j,a,b,n in zip(gene_sense_g4, gene_antisense_g4,\n",
    "                   gene_sense_exp, gene_antisense_exp, range(gene_antisense_exp.shape[0])):\n",
    "    if sum(i)+sum(j) == 0:\n",
    "        if len(np.where(a > 0.01)[0]) > 0 or len(np.where(b > 0.01)[0]) > 0:\n",
    "            ctr.append(n)\n",
    "len(ctr)"
   ]
  },
  {
   "cell_type": "code",
   "execution_count": 241,
   "metadata": {
    "ExecuteTime": {
     "end_time": "2017-04-17T22:35:01.295893Z",
     "start_time": "2017-04-17T22:35:01.265842Z"
    },
    "run_control": {
     "frozen": false,
     "read_only": false
    }
   },
   "outputs": [
    {
     "name": "stdout",
     "output_type": "stream",
     "text": [
      "323\n",
      "CREBBP 11 20\n",
      "SETD2 6 8\n",
      "HIST1H3B 1 1\n",
      "WRN 2 3\n",
      "LRIG3 5 9\n",
      "BUB1B 6 11\n",
      "SND1 11 16\n",
      "SBDS 5 5\n",
      "TAL2 1 1\n",
      "BIRC3 6 7\n",
      "MDS2 2 3\n",
      "LCP1 4 7\n",
      "PRDM1 6 7\n",
      "PDCD1LG2 1 1\n",
      "SFPQ 6 10\n",
      "FANCD2 9 13\n",
      "IL7R 8 10\n",
      "SSX2 2 3\n",
      "FCRL4 2 3\n",
      "SSX1 1 1\n",
      "ARHGAP26 11 20\n",
      "TNFRSF17 2 3\n"
     ]
    }
   ],
   "source": [
    "high_conf_genes = {}\n",
    "for i in np.array(tid_list)[ctr]:\n",
    "    if oncogenes_tid[i] not in high_conf_genes:\n",
    "        high_conf_genes[oncogenes_tid[i]] = []\n",
    "    high_conf_genes[oncogenes_tid[i]].append(i)\n",
    "print (len(high_conf_genes))\n",
    "    \n",
    "for i in high_conf_genes:\n",
    "    if len(high_conf_genes[i]) > num_transcripts[i]/2:\n",
    "        print (i, len(high_conf_genes[i]),  num_transcripts[i])"
   ]
  },
  {
   "cell_type": "code",
   "execution_count": 197,
   "metadata": {
    "ExecuteTime": {
     "end_time": "2017-04-17T21:56:39.049704Z",
     "start_time": "2017-04-17T21:56:38.117969Z"
    },
    "collapsed": true,
    "run_control": {
     "frozen": false,
     "read_only": false
    }
   },
   "outputs": [],
   "source": [
    "def g4_oq_overlap(g4_arrays, oq_arrays):\n",
    "    overlap = []\n",
    "    total = []\n",
    "    for g,o in zip(g4_arrays, oq_arrays):\n",
    "        to, tot = 0, 0\n",
    "        g = np.where(g > 0)[0]\n",
    "        for r in make_ranges(o):\n",
    "            tot += 1\n",
    "            len_intersect = len(set(r).intersection(g))\n",
    "            if len_intersect > 0:\n",
    "                to += 1\n",
    "        overlap.append(to)\n",
    "        total.append(tot)\n",
    "    return np.array(overlap), np.array(total)\n",
    "\n",
    "gq_s_overlap, gq_s_total_g4s = g4_oq_overlap(gene_sense_g4, gene_sense_oq)\n",
    "gq_as_overlap, gq_as_total_g4s = g4_oq_overlap(\n",
    "    gene_antisense_g4, gene_antisense_oq)"
   ]
  },
  {
   "cell_type": "code",
   "execution_count": 198,
   "metadata": {
    "ExecuteTime": {
     "end_time": "2017-04-17T21:56:39.633247Z",
     "start_time": "2017-04-17T21:56:39.623049Z"
    },
    "run_control": {
     "frozen": false,
     "read_only": false
    }
   },
   "outputs": [
    {
     "data": {
      "text/plain": [
       "2760"
      ]
     },
     "execution_count": 198,
     "metadata": {},
     "output_type": "execute_result"
    }
   ],
   "source": [
    "gq_s_total_g4s.sum() + gq_as_total_g4s.sum()"
   ]
  },
  {
   "cell_type": "code",
   "execution_count": 199,
   "metadata": {
    "ExecuteTime": {
     "end_time": "2017-04-17T21:56:42.245733Z",
     "start_time": "2017-04-17T21:56:42.238398Z"
    },
    "run_control": {
     "frozen": false,
     "read_only": false
    }
   },
   "outputs": [
    {
     "name": "stdout",
     "output_type": "stream",
     "text": [
      "2051 35.33769813921433\n"
     ]
    }
   ],
   "source": [
    "print (len(np.where((gq_s_total_g4s + gq_as_total_g4s) > 0)[0]),\n",
    "       len(np.where((gq_s_total_g4s + gq_as_total_g4s) > 0)[0])/len(gq_s_total_g4s)*100)"
   ]
  },
  {
   "cell_type": "code",
   "execution_count": 200,
   "metadata": {
    "ExecuteTime": {
     "end_time": "2017-04-17T21:56:43.142668Z",
     "start_time": "2017-04-17T21:56:43.134978Z"
    },
    "run_control": {
     "frozen": false,
     "read_only": false
    }
   },
   "outputs": [
    {
     "name": "stdout",
     "output_type": "stream",
     "text": [
      "1981 0.717753623188\n"
     ]
    }
   ],
   "source": [
    "print (gq_s_overlap.sum() + gq_as_overlap.sum(),\n",
    "       (gq_s_overlap.sum() + gq_as_overlap.sum())/ (gq_s_total_g4s.sum() + gq_as_total_g4s.sum()))"
   ]
  },
  {
   "cell_type": "code",
   "execution_count": 201,
   "metadata": {
    "ExecuteTime": {
     "end_time": "2017-04-17T21:56:47.064016Z",
     "start_time": "2017-04-17T21:56:47.054819Z"
    },
    "run_control": {
     "frozen": false,
     "read_only": false
    }
   },
   "outputs": [
    {
     "name": "stdout",
     "output_type": "stream",
     "text": [
      "1605 27.653342522398344\n"
     ]
    }
   ],
   "source": [
    "print (len(np.where((gq_s_overlap + gq_as_overlap) > 0)[0]),\n",
    "       len(np.where((gq_s_overlap + gq_as_overlap) > 0)[0])/len(gq_s_total_g4s)*100)"
   ]
  },
  {
   "cell_type": "code",
   "execution_count": 202,
   "metadata": {
    "ExecuteTime": {
     "end_time": "2017-04-17T21:56:50.089786Z",
     "start_time": "2017-04-17T21:56:49.102673Z"
    },
    "collapsed": true,
    "run_control": {
     "frozen": false,
     "read_only": false
    }
   },
   "outputs": [],
   "source": [
    "def oq_exp_overlap(oq_arrays, exp_arrays, cutoff=0.01):    \n",
    "    overlap = []\n",
    "    total = []\n",
    "    for o,e in zip(oq_arrays, exp_arrays):\n",
    "        e = np.where(e > cutoff)[0]\n",
    "        to, tot = 0, 0\n",
    "        for r in make_ranges(o):\n",
    "            tot += 1\n",
    "            len_intersect = len(set(r).intersection(e))\n",
    "            if len_intersect > 0:\n",
    "                to += 1\n",
    "        overlap.append(to)\n",
    "        total.append(tot)\n",
    "    return np.array(overlap), np.array(total)\n",
    "\n",
    "oe_s_overlap, oe_s_total_g4s = oq_exp_overlap(gene_sense_oq, gene_sense_exp)\n",
    "oe_as_overlap, oe_as_total_g4s = oq_exp_overlap(\n",
    "    gene_antisense_oq, gene_antisense_exp)"
   ]
  },
  {
   "cell_type": "code",
   "execution_count": 203,
   "metadata": {
    "ExecuteTime": {
     "end_time": "2017-04-17T21:56:50.098154Z",
     "start_time": "2017-04-17T21:56:50.092350Z"
    },
    "run_control": {
     "frozen": false,
     "read_only": false
    }
   },
   "outputs": [
    {
     "name": "stdout",
     "output_type": "stream",
     "text": [
      "2051 35.33769813921433\n"
     ]
    }
   ],
   "source": [
    "print (len(np.where((oe_s_total_g4s + oe_as_total_g4s) > 0)[0]),\n",
    "       len(np.where((oe_s_total_g4s + oe_as_total_g4s) > 0)[0])/len(oe_s_total_g4s)*100)"
   ]
  },
  {
   "cell_type": "code",
   "execution_count": 204,
   "metadata": {
    "ExecuteTime": {
     "end_time": "2017-04-17T21:56:51.711389Z",
     "start_time": "2017-04-17T21:56:51.702308Z"
    },
    "run_control": {
     "frozen": false,
     "read_only": false
    }
   },
   "outputs": [
    {
     "name": "stdout",
     "output_type": "stream",
     "text": [
      "2417 0.875724637681\n"
     ]
    }
   ],
   "source": [
    "print (oe_s_overlap.sum() + oe_as_overlap.sum(),\n",
    "       (oe_s_overlap.sum() + oe_as_overlap.sum())/ (oe_s_total_g4s.sum() + oe_as_total_g4s.sum()))"
   ]
  },
  {
   "cell_type": "code",
   "execution_count": 180,
   "metadata": {
    "ExecuteTime": {
     "end_time": "2017-04-17T21:41:49.074862Z",
     "start_time": "2017-04-17T21:41:49.067703Z"
    },
    "run_control": {
     "frozen": false,
     "read_only": false
    }
   },
   "outputs": [
    {
     "name": "stdout",
     "output_type": "stream",
     "text": [
      "3052 52.58442453480359\n"
     ]
    }
   ],
   "source": [
    "print (len(np.where((oe_s_overlap + oe_as_overlap) > 0)[0]),\n",
    "       len(np.where((oe_s_overlap + oe_as_overlap) > 0)[0])/len(oe_s_total_g4s)*100)"
   ]
  },
  {
   "cell_type": "code",
   "execution_count": null,
   "metadata": {
    "collapsed": true,
    "run_control": {
     "frozen": false,
     "read_only": false
    }
   },
   "outputs": [],
   "source": []
  },
  {
   "cell_type": "code",
   "execution_count": 322,
   "metadata": {
    "ExecuteTime": {
     "end_time": "2017-02-23T00:10:16.776841",
     "start_time": "2017-02-23T00:10:09.920090"
    },
    "run_control": {
     "frozen": false,
     "read_only": false
    }
   },
   "outputs": [
    {
     "data": {
      "image/png": "[encoded data removed]",
      "text/plain": [
       "<matplotlib.figure.Figure at 0x2b2dffbe9128>"
      ]
     },
     "metadata": {},
     "output_type": "display_data"
    }
   ],
   "source": [
    "fig, axis = plt.subplots(10, 2, figsize=(6, 10))\n",
    "for row,gene in enumerate(promoters):\n",
    "    strand = promoters[gene][3]\n",
    "    sense = get_span_exp_score(promoters[gene][0], promoters[gene][1],\n",
    "                               promoters[gene][2], strand)\n",
    "    antistrand = '+' if strand == '-' else '-'\n",
    "    antisense = get_span_exp_score(promoters[gene][0], promoters[gene][1],\n",
    "                                   promoters[gene][2], antistrand)\n",
    "    if strand == '-':\n",
    "        sense = sense[::-1]\n",
    "        antisense = antisense[::-1]\n",
    "    promoter_exp = [sense, antisense]\n",
    "    \n",
    "    for col in [0, 1]:\n",
    "        ax = axis[row, col]\n",
    "        ax.plot(list(range(2000)), promoter_exp[col], lw=0.5, alpha=0.6, color='k')\n",
    "        ax.axvline(1000, ls='--', color='k', alpha=0.7, lw=0.5)\n",
    "        print_strand = '%s\\nSense' % gene if col == 0 else '%s\\nAntisense' % gene\n",
    "        ax.text(0.76, 0.6, print_strand, transform=ax.transAxes, fontsize=9)\n",
    "        for g4_span in g4_promoters[gene][col]:\n",
    "            r = list(range(g4_span[0], g4_span[1]))\n",
    "            ax.plot(r, [-0.05 for x in range(r[-1] - r[0] + 1)], lw=3, color='crimson')\n",
    "\n",
    "        for j in ['top', 'bottom', 'left', 'right']:\n",
    "            ax.spines[j].set_visible(False)\n",
    "        ax.grid(which='major', linestyle='--', alpha=0.5)\n",
    "        ax.set_yticks([0, 0.4])\n",
    "        if col == 1:\n",
    "            ax.set_yticklabels([])\n",
    "        else:\n",
    "            ax.set_yticklabels([0, 0.4])\n",
    "            ax.set_ylabel(r'$\\xi$' + ' score', fontsize=10)\n",
    "        ax.set_xticks([0, 500, 1000, 1500, 2000])\n",
    "        if row == 9:\n",
    "            ax.set_xticklabels([-1000, -500, 0, 500, 1000], rotation=40, fontsize=9)\n",
    "            ax.set_xlabel('Distance from TSS', fontsize=10)\n",
    "        else:\n",
    "            ax.set_xticklabels([])\n",
    "        ax.xaxis.set_tick_params(labelsize=9)\n",
    "        ax.yaxis.set_tick_params(labelsize=9) \n",
    "        ax.set_xlim(-10, 2010)\n",
    "        ax.set_ylim((-0.1, 0.41))\n",
    "plt.savefig('../images/promoters_blow_out.png', dpi=300, transparent=True, edgecolor='none')\n",
    "plt.savefig('../images/promoter_blow_out.svg', transparent=True, edgecolor='none')\n",
    "plt.tight_layout()\n",
    "plt.show()"
   ]
  },
  {
   "cell_type": "code",
   "execution_count": null,
   "metadata": {
    "collapsed": true,
    "run_control": {
     "frozen": false,
     "read_only": false
    }
   },
   "outputs": [],
   "source": []
  }
 ],
 "metadata": {
  "kernelspec": {
   "display_name": "Python [default]",
   "language": "python",
   "name": "python3"
  },
  "language_info": {
   "codemirror_mode": {
    "name": "ipython",
    "version": 3
   },
   "file_extension": ".py",
   "mimetype": "text/x-python",
   "name": "python",
   "nbconvert_exporter": "python",
   "pygments_lexer": "ipython3",
   "version": "3.5.2"
  }
 },
 "nbformat": 4,
 "nbformat_minor": 1
}
