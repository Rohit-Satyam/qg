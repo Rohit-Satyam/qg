{
 "cells": [
  {
   "cell_type": "code",
   "execution_count": 1,
   "metadata": {
    "ExecuteTime": {
     "end_time": "2017-06-09T02:43:28.746228Z",
     "start_time": "2017-06-09T02:43:25.892489Z"
    },
    "collapsed": true,
    "run_control": {
     "frozen": false,
     "read_only": false
    }
   },
   "outputs": [],
   "source": [
    "import numpy as np\n",
    "from tqdm import tqdm\n",
    "import glob\n",
    "import matplotlib.pyplot as plt\n",
    "from scipy.stats import mannwhitneyu, ttest_ind, zscore, pearsonr, wilcoxon\n",
    "import pybedtools as pbt\n",
    "from scipy.integrate import simps\n",
    "from IPython.display import clear_output\n",
    "import json\n",
    "from QuadFinder import QuadMotifFinder\n",
    "\n",
    "plt.style.use('fivethirtyeight')\n",
    "def clean_axis(ax):\n",
    "    ax.xaxis.set_tick_params(labelsize=9)\n",
    "    ax.yaxis.set_tick_params(labelsize=9)\n",
    "    for i in ['top', 'bottom', 'left', 'right']:\n",
    "        ax.spines[i].set_visible(False)\n",
    "    ax.grid(which='major', linestyle='--', alpha=0.5)\n",
    "    return True"
   ]
  },
  {
   "cell_type": "markdown",
   "metadata": {
    "run_control": {
     "frozen": false,
     "read_only": false
    }
   },
   "source": [
    "### Load names of oncogenes downloaded from COSMIC (cancer Genes census list) and obtain there corresponding ENSEMBL transcript ids"
   ]
  },
  {
   "cell_type": "code",
   "execution_count": 2,
   "metadata": {
    "ExecuteTime": {
     "end_time": "2017-06-09T02:43:32.198876Z",
     "start_time": "2017-06-09T02:43:28.752148Z"
    },
    "run_control": {
     "frozen": false,
     "read_only": false
    }
   },
   "outputs": [
    {
     "data": {
      "text/plain": [
       "(616, 6627)"
      ]
     },
     "execution_count": 2,
     "metadata": {},
     "output_type": "execute_result"
    }
   ],
   "source": [
    "oncogenes = []\n",
    "with open('../data/oncogenes/Census_allFri Apr 14 21-33-23 2017.tsv') as h:\n",
    "    next(h)\n",
    "    for l in h:\n",
    "        c = l.split('\\t', 1)\n",
    "        oncogenes.append(c[0])\n",
    "\n",
    "tid_to_gene = json.load(open('../data/annotation/gencode_tid_to_gene_name.json'))\n",
    "oncogenes_tid = {}\n",
    "for k,v in tid_to_gene.items():\n",
    "    if v in oncogenes:\n",
    "        oncogenes_tid[k] = v\n",
    "len(oncogenes), len(oncogenes_tid)"
   ]
  },
  {
   "cell_type": "markdown",
   "metadata": {
    "ExecuteTime": {
     "end_time": "2017-04-15T10:08:05.322624Z",
     "start_time": "2017-04-15T10:08:05.318787Z"
    },
    "run_control": {
     "frozen": false,
     "read_only": false
    }
   },
   "source": [
    "### Load the TSS inf|ormation for all above transcripts and calculate +/- 1 kb tss region"
   ]
  },
  {
   "cell_type": "code",
   "execution_count": 3,
   "metadata": {
    "ExecuteTime": {
     "end_time": "2017-06-09T02:43:32.733091Z",
     "start_time": "2017-06-09T02:43:32.202066Z"
    },
    "run_control": {
     "frozen": false,
     "read_only": false
    }
   },
   "outputs": [
    {
     "data": {
      "text/plain": [
       "602"
      ]
     },
     "execution_count": 3,
     "metadata": {},
     "output_type": "execute_result"
    }
   ],
   "source": [
    "chroms = ['chr'+str(x) for x in range(1,23)] + ['chrX', 'chrY']\n",
    "chrom_wise_oncogene_info = {}\n",
    "\n",
    "min_starts = {}\n",
    "for chrom in chroms:\n",
    "    chrom_wise_oncogene_info[chrom] = {'positive': [], 'negative': []}\n",
    "    with open('../data/annotation/chrom_wise_gencode_tss/%s.bed' % chrom) as h:\n",
    "        for l in h:\n",
    "            c = l.rstrip('\\n').split('\\t')\n",
    "            if c[3] in oncogenes_tid:\n",
    "                gene_name = oncogenes_tid[c[3]]\n",
    "                if c[5] == '+':\n",
    "                    start = int(c[1])\n",
    "                else:\n",
    "                    start= int(c[2])\n",
    "                up = start - 1000\n",
    "                down = start + 1000 + 1\n",
    "                strand = 'positive' if c[5] == '+' else 'negative'\n",
    "                chrom_wise_oncogene_info[chrom][strand].append(\n",
    "                    (up, down, gene_name, c[3]))\n",
    "                if strand == 'positive':\n",
    "                    if gene_name not in min_starts:\n",
    "                        min_starts[gene_name] = (up, c[3])\n",
    "                    else:\n",
    "                        min_starts[gene_name] = (min(min_starts[gene_name][0], up), c[3])\n",
    "                else:\n",
    "                    if gene_name not in min_starts:\n",
    "                        min_starts[gene_name] = (down, c[3])\n",
    "                    else:\n",
    "                        min_starts[gene_name] = (max(min_starts[gene_name][0], down), c[3])\n",
    "min_transcripts = [x[1] for x in min_starts.values()]\n",
    "len(min_starts)"
   ]
  },
  {
   "cell_type": "markdown",
   "metadata": {
    "run_control": {
     "frozen": false,
     "read_only": false
    }
   },
   "source": [
    "### Load the SNIPR-Q scores in the above regions"
   ]
  },
  {
   "cell_type": "code",
   "execution_count": 4,
   "metadata": {
    "ExecuteTime": {
     "end_time": "2017-06-09T02:46:08.202715Z",
     "start_time": "2017-06-09T02:43:35.557670Z"
    },
    "code_folding": [],
    "run_control": {
     "frozen": false,
     "read_only": false
    }
   },
   "outputs": [
    {
     "name": "stderr",
     "output_type": "stream",
     "text": [
      "100%|██████████| 24/24 [02:31<00:00,  9.71s/it]\n"
     ]
    },
    {
     "data": {
      "text/plain": [
       "((6627, 2001), (6627, 2001), 6627)"
      ]
     },
     "execution_count": 4,
     "metadata": {},
     "output_type": "execute_result"
    }
   ],
   "source": [
    "def load_scores(chrom, strand):\n",
    "    in_dir = '/home/parashar/scratch/quadcomb/data/snipr/'\n",
    "    fn = '%s/%s_%s_scores.npy' % (in_dir, chrom, strand)\n",
    "    return np.load(fn, mmap_mode='r')\n",
    "\n",
    "def get_g4s(seq, strand):\n",
    "    g4s = []\n",
    "    for l,b in zip((7, 25, 25), (0, 0, 5)):\n",
    "        q = QuadMotifFinder([seq], stem=3, loop_start=1, loop_stop=l, greedy=True,\n",
    "                            bulge=b, is_seq=True, strands=[strand], verbose=False)\n",
    "        q.run()\n",
    "        g4s.append([(x.split('\\t')[1], x.split('\\t')[2]) for x in q.resNov])\n",
    "    return g4s\n",
    "    \n",
    "gene_sense_exp = []\n",
    "gene_antisense_exp = []\n",
    "gene_sense_g4 = []\n",
    "gene_antisense_g4 = []\n",
    "tid_list = []\n",
    "\n",
    "for chrom in tqdm(chroms[::-1]):\n",
    "    fasta_dir = '/home/parashar/scratch/hg19_resource/chromosomes'\n",
    "    chrom_seq = ''.join([x.rstrip('\\n').upper() for x in open(\"%s/%s.fa\" % (\n",
    "                                                fasta_dir, chrom)).readlines()[1:]])\n",
    "    pos_exp = load_scores(chrom, 'positive')\n",
    "    neg_exp = load_scores(chrom, 'negative')\n",
    "    for i in chrom_wise_oncogene_info[chrom]['positive']:\n",
    "        seq = chrom_seq[i[0]:i[1]]\n",
    "        gene_sense_exp.append(pos_exp[i[0]:i[1]])\n",
    "        gene_antisense_exp.append(neg_exp[i[0]:i[1]])\n",
    "        tid_list.append(i[3])\n",
    "        gene_sense_g4.append(get_g4s(seq, '+'))\n",
    "        gene_antisense_g4.append(get_g4s(seq, '-'))\n",
    "    for i in chrom_wise_oncogene_info[chrom]['negative']:\n",
    "        seq = chrom_seq[i[0]:i[1]][::-1]\n",
    "        gene_sense_exp.append(neg_exp[i[0]:i[1]][::-1])\n",
    "        gene_antisense_exp.append(pos_exp[i[0]:i[1]][::-1])\n",
    "        tid_list.append(i[3])\n",
    "        gene_sense_g4.append(get_g4s(seq, '-'))\n",
    "        gene_antisense_g4.append(get_g4s(seq, '+'))\n",
    "gene_sense_exp = np.array(gene_sense_exp)\n",
    "gene_antisense_exp = np.array(gene_antisense_exp)\n",
    "gene_sense_exp.shape, gene_antisense_exp.shape, len(tid_list)"
   ]
  },
  {
   "cell_type": "code",
   "execution_count": 40,
   "metadata": {
    "ExecuteTime": {
     "end_time": "2017-06-10T08:52:53.615521Z",
     "start_time": "2017-06-10T08:45:36.140677Z"
    }
   },
   "outputs": [
    {
     "name": "stdout",
     "output_type": "stream",
     "text": [
      "6626"
     ]
    }
   ],
   "source": [
    "for n,transcript in enumerate(tid_list):\n",
    "    if transcript not in min_transcripts:\n",
    "        continue\n",
    "    print (\"\\r%d\" % n, end='', flush=True)\n",
    "    gene = oncogenes_tid[transcript]\n",
    "    fig, axis = plt.subplots(1, 2, figsize=(8, 2.5))\n",
    "    for col in [0, 1]:\n",
    "        ax = axis[col]\n",
    "        if col == 0:\n",
    "            ax.plot(list(range(2001)), gene_sense_exp[n], lw=0.4, alpha=0.6, color='k')\n",
    "        else:\n",
    "            ax.plot(list(range(2001)), gene_antisense_exp[n], lw=0.4, alpha=0.6, color='k')\n",
    "        ax.axvline(1000, ls='--', color='k', alpha=0.7, lw=0.5)\n",
    "        print_strand = '%s\\nSense' % gene if col == 0 else '%s\\nAntisense' % gene\n",
    "        ax.text(0.76, 0.6, print_strand, transform=ax.transAxes, fontsize=9)\n",
    "        if col == 0:\n",
    "            spans = gene_sense_g4[n]\n",
    "        else:\n",
    "            spans = gene_antisense_g4[n]\n",
    "        for p,i in zip((-100, -200, -300), range(3)):\n",
    "            for g4_span in spans[i]:\n",
    "                r = list(range(int(g4_span[0]), int(g4_span[1])))\n",
    "                ax.plot(r, [p for x in range(r[-1] - r[0] + 1)], lw=6, color='crimson')\n",
    "        for j in ['top', 'bottom', 'left', 'right']:\n",
    "            ax.spines[j].set_visible(False)\n",
    "        ax.grid(which='major', linestyle='--', alpha=0.5)\n",
    "        ax.set_yticks([0, 250, 500, 750, 1000])\n",
    "        if col == 1:\n",
    "            ax.set_yticklabels([])\n",
    "        else:\n",
    "            ax.set_yticklabels([0, 250, 500, 750, 1000])\n",
    "            ax.set_ylabel('SNIPR-Q score', fontsize=10)\n",
    "        ax.set_xticks([0, 500, 1000, 1500, 2000])\n",
    "        ax.set_xticklabels([-1000, -500, 0, 500, 1000], rotation=40, fontsize=9)\n",
    "        ax.set_xlabel('Distance from TSS', fontsize=10)\n",
    "        ax.xaxis.set_tick_params(labelsize=9)\n",
    "        ax.yaxis.set_tick_params(labelsize=9) \n",
    "        ax.set_xlim(-10, 2010)\n",
    "        ax.set_ylim((-400, 1010))\n",
    "    plt.tight_layout()\n",
    "    plt.savefig('../images/blow_out_oncogenes/%s_%s.svg' % (gene, transcript),\n",
    "                 transparent=True, edgecolor='none')\n",
    "    plt.savefig('../images/blow_out_oncogenes/%s_%s.png' % (gene, transcript),\n",
    "                transparent=True, edgecolor='none', dpi=150)\n",
    "    plt.close()"
   ]
  },
  {
   "cell_type": "code",
   "execution_count": 38,
   "metadata": {
    "ExecuteTime": {
     "end_time": "2017-06-10T06:27:21.961208Z",
     "start_time": "2017-06-10T06:27:21.343025Z"
    },
    "scrolled": true
   },
   "outputs": [
    {
     "name": "stdout",
     "output_type": "stream",
     "text": [
      "CRLF2\n",
      "P2RY8\n",
      "STAG2\n",
      "BCORL1\n",
      "ATP2B3\n",
      "RPL10\n",
      "PHF6\n",
      "RBM10\n",
      "KDM6A\n",
      "DDX3X\n",
      "ZRSR2\n",
      "AR\n",
      "MSN\n",
      "NONO\n",
      "FOXO4\n",
      "MED12\n",
      "SSX1\n",
      "SSX4\n",
      "GATA1\n",
      "WAS\n",
      "ELF4\n",
      "SEPT6\n",
      "BTK\n",
      "ATRX\n",
      "MTCP1\n",
      "GPC3\n",
      "BCOR\n",
      "AMER1\n",
      "TFE3\n",
      "KDM5C\n",
      "SSX2\n",
      "APOBEC3B\n",
      "EP300\n",
      "LZTR1\n",
      "SEPT5\n",
      "EWSR1\n",
      "NF2\n",
      "BCR\n",
      "SMARCB1\n",
      "PDGFB\n",
      "MYH9\n",
      "MKL1\n",
      "MAPK1\n",
      "CLTCL1\n",
      "MN1\n",
      "CHEK2\n",
      "OLIG2\n",
      "TMPRSS2\n",
      "ERG\n",
      "U2AF1\n",
      "RUNX1\n",
      "TOP1\n",
      "SRC\n",
      "PLCG1\n",
      "SS18L1\n",
      "GNAS\n",
      "ASXL1\n",
      "SDC4\n",
      "MAFB\n",
      "PTPRT\n",
      "PTK6\n",
      "NFATC2\n",
      "SALL4\n",
      "CBLC\n",
      "BCL3\n",
      "CIC\n",
      "CD79A\n",
      "ZNF331\n",
      "CNOT3\n",
      "PPP2R1A\n",
      "KLK2\n",
      "DNM2\n",
      "SMARCA4\n",
      "FSTL3\n",
      "STK11\n",
      "GNA11\n",
      "CRTC1\n",
      "CCNE1\n",
      "LSM14A\n",
      "CALR\n",
      "TPM4\n",
      "ERCC2\n",
      "AKT2\n",
      "TFPT\n",
      "MLLT1\n",
      "KEAP1\n",
      "TCF3\n",
      "SH3GL1\n",
      "MAP2K2\n",
      "CEP89\n",
      "CEBPA\n",
      "DNAJB1\n",
      "PRKACA\n",
      "BRD4\n",
      "LYL1\n",
      "JAK3\n",
      "ELL\n",
      "SMAD4\n",
      "SETBP1\n",
      "MALT1\n",
      "SMAD2\n",
      "BCL2\n",
      "KDSR\n",
      "ZNF521\n",
      "SS18\n",
      "HLF\n",
      "MSI2\n",
      "PPM1D\n",
      "CLTC\n",
      "RNF213\n",
      "SEPT9\n",
      "ASPSCR1\n",
      "PRKAR1A\n",
      "MAP2K4\n",
      "USP6\n",
      "RABEP1\n",
      "LASP1\n",
      "MLLT6\n",
      "TAF15\n",
      "ERBB2\n",
      "CDK12\n",
      "RARA\n",
      "SPECC1\n",
      "NF1\n",
      "SUZ12\n",
      "COL1A1\n",
      "SPOP\n",
      "BRIP1\n",
      "RNF43\n",
      "ETV4\n",
      "BRCA1\n",
      "CANT1\n",
      "SRSF2\n",
      "CD79B\n",
      "DDX5\n",
      "AXIN2\n",
      "H3F3B\n",
      "GAS7\n",
      "TP53\n",
      "PER1\n",
      "NCOR1\n",
      "FLCN\n",
      "YWHAE\n",
      "STAT5B\n",
      "STAT3\n",
      "SMARCE1\n",
      "CTCF\n",
      "CBFB\n",
      "HERPUD1\n",
      "CYLD\n",
      "CDH1\n",
      "CIITA\n",
      "RMI2\n",
      "TRAF7\n",
      "TSC2\n",
      "IL21R\n",
      "FUS\n",
      "TNFRSF17\n",
      "ERCC4\n",
      "CDH11\n",
      "FANCA\n",
      "CBFA2T3\n",
      "MAF\n",
      "ZFHX3\n",
      "CREBBP\n",
      "GRIN2A\n",
      "SOCS1\n",
      "AXIN1\n",
      "MYH11\n",
      "PALB2\n",
      "PML\n",
      "MAP2K1\n",
      "SMAD3\n",
      "CRTC3\n",
      "FES\n",
      "BLM\n",
      "BUB1B\n",
      "NUTM1\n",
      "CASC5\n",
      "C15orf65\n",
      "TCF12\n",
      "B2M\n",
      "USP8\n",
      "HMGN2P46\n",
      "IDH2\n",
      "NTRK3\n",
      "MYO5A\n",
      "TSHR\n",
      "RAD51B\n",
      "GPHN\n",
      "TCL6\n",
      "GOLGA5\n",
      "KTN1\n",
      "HIF1A\n",
      "TRIP11\n",
      "MAX\n",
      "HSP90AA1\n",
      "AKT1\n",
      "DICER1\n",
      "TCL1A\n",
      "BCL11B\n",
      "CCNB1IP1\n",
      "NKX2-1\n",
      "FOXA1\n",
      "NIN\n",
      "ERCC5\n",
      "BRCA2\n",
      "RB1\n",
      "CDX2\n",
      "FLT3\n",
      "LCP1\n",
      "LHFP\n",
      "FOXO1\n",
      "NAB2\n",
      "MDM2\n",
      "HMGA2\n",
      "HNF1A\n",
      "BCL7A\n",
      "ALDH2\n",
      "SH2B3\n",
      "PTPN11\n",
      "CDKN1B\n",
      "ETV6\n",
      "PPFIBP1\n",
      "ETNK1\n",
      "CCND2\n",
      "ERC1\n",
      "ERBB3\n",
      "HOXC11\n",
      "HOXC13\n",
      "ARID2\n",
      "ATF1\n",
      "SMARCD1\n",
      "BTG1\n",
      "DDIT3\n",
      "LRIG3\n",
      "CDK4\n",
      "NACA\n",
      "STAT6\n",
      "PTPRB\n",
      "WIF1\n",
      "ZCCHC8\n",
      "CLIP1\n",
      "POLE\n",
      "NCOR2\n",
      "TBX3\n",
      "KRAS\n",
      "KDM5A\n",
      "CHD4\n",
      "ZNF384\n",
      "COL2A1\n",
      "KMT2D\n",
      "MALAT1\n",
      "CCND1\n",
      "CBL\n",
      "ARHGEF12\n",
      "KMT2A\n",
      "KCNJ5\n",
      "FLI1\n",
      "BIRC3\n",
      "ZBTB16\n",
      "PAFAH1B2\n",
      "ATM\n",
      "DDX10\n",
      "SDHD\n",
      "MYOD1\n",
      "SDHAF2\n",
      "EXT2\n",
      "CREB3L1\n",
      "CLP1\n",
      "DDB2\n",
      "NUMA1\n",
      "PICALM\n",
      "DDX6\n",
      "BCL9L\n",
      "MAML2\n",
      "PCSK7\n",
      "POU2AF1\n",
      "LMO1\n",
      "FANCF\n",
      "WT1\n",
      "HRAS\n",
      "CARS\n",
      "NUP98\n",
      "MEN1\n",
      "LMO2\n",
      "FAS\n",
      "KAT6B\n",
      "BMPR1A\n",
      "PTEN\n",
      "NUTM2A\n",
      "NUTM2B\n",
      "TLX1\n",
      "SUFU\n",
      "NFKB2\n",
      "VTI1A\n",
      "TCF7L2\n",
      "MLLT10\n",
      "GATA3\n",
      "TET1\n",
      "RET\n",
      "NCOA4\n",
      "FGFR2\n",
      "NT5C2\n",
      "KIF5B\n",
      "ABI1\n",
      "KLF6\n",
      "CCDC6\n",
      "PRF1\n",
      "CNTRL\n",
      "NR4A3\n",
      "TAL2\n",
      "SET\n",
      "NUP214\n",
      "ABL1\n",
      "PDCD1LG2\n",
      "CD274\n",
      "JAK2\n",
      "SYK\n",
      "PPP6C\n",
      "XPA\n",
      "FANCC\n",
      "PTCH1\n",
      "KLF4\n",
      "NOTCH1\n",
      "BRD3\n",
      "TSC1\n",
      "RALGDS\n",
      "FNBP1\n",
      "PAX5\n",
      "FANCG\n",
      "MLLT3\n",
      "CDKN2A\n",
      "PSIP1\n",
      "NFIB\n",
      "GNAQ\n",
      "OMD\n",
      "MYC\n",
      "PCM1\n",
      "CHCHD7\n",
      "PREX2\n",
      "WRN\n",
      "NRG1\n",
      "IKBKB\n",
      "HOOK3\n",
      "COX6C\n",
      "RSPO2\n",
      "EIF3E\n",
      "UBR5\n",
      "HEY1\n",
      "RUNX1T1\n",
      "NBN\n",
      "RECQL4\n",
      "RAD21\n",
      "EXT1\n",
      "NDRG1\n",
      "PLAG1\n",
      "TCEA1\n",
      "NCOA2\n",
      "FGFR1\n",
      "WHSC1L1\n",
      "KAT6A\n",
      "CUX1\n",
      "MET\n",
      "AKAP9\n",
      "TRRAP\n",
      "SMO\n",
      "SND1\n",
      "TRIM24\n",
      "RAC1\n",
      "ELN\n",
      "IKZF1\n",
      "EGFR\n",
      "CDK6\n",
      "EZH2\n",
      "FAM131B\n",
      "KMT2C\n",
      "MNX1\n",
      "POT1\n",
      "KIAA1549\n",
      "BRAF\n",
      "CREB3L2\n",
      "HOXA11\n",
      "HOXA13\n",
      "JAZF1\n",
      "HOXA9\n",
      "HNRNPA2B1\n",
      "SFRP4\n",
      "CARD11\n",
      "PMS2\n",
      "ETV1\n",
      "HIP1\n",
      "SBDS\n",
      "PRDM1\n",
      "FOXO3\n",
      "ARID1B\n",
      "ESR1\n",
      "MLLT4\n",
      "FGFR1OP\n",
      "QKI\n",
      "RSPO3\n",
      "MYB\n",
      "ECT2L\n",
      "TNFAIP3\n",
      "HLA-A\n",
      "HIST1H4I\n",
      "IRF4\n",
      "PIM1\n",
      "HSP90AB1\n",
      "FANCE\n",
      "HMGA1\n",
      "SRSF3\n",
      "ROS1\n",
      "GOPC\n",
      "EZR\n",
      "RNF217-AS1\n",
      "PTPRK\n",
      "TRIM27\n",
      "POU5F1\n",
      "HIST1H3B\n",
      "DEK\n",
      "TFEB\n",
      "CCND3\n",
      "NFKBIE\n",
      "DAXX\n",
      "ARHGAP26\n",
      "FGFR4\n",
      "NSD1\n",
      "ITK\n",
      "RANBP17\n",
      "TLX3\n",
      "NPM1\n",
      "IL7R\n",
      "MAP3K1\n",
      "SDHA\n",
      "APC\n",
      "PIK3R1\n",
      "ACSL6\n",
      "AFF4\n",
      "FLT4\n",
      "CD74\n",
      "PDGFRB\n",
      "PWWP2A\n",
      "EBF1\n",
      "LIFR\n",
      "IL6ST\n",
      "TERT\n",
      "DROSHA\n",
      "FAT4\n",
      "RAP1GDS1\n",
      "PTPN13\n",
      "AFF1\n",
      "TET2\n",
      "DUX4L1\n",
      "SLC34A2\n",
      "FGFR3\n",
      "WHSC1\n",
      "RHOH\n",
      "PDGFRA\n",
      "FIP1L1\n",
      "KIT\n",
      "LEF1\n",
      "IL2\n",
      "FAT1\n",
      "FBXW7\n",
      "PHOX2B\n",
      "CHIC2\n",
      "KDR\n",
      "EIF4A2\n",
      "TP63\n",
      "LPP\n",
      "MAP3K13\n",
      "GMPS\n",
      "MLF1\n",
      "SOX2\n",
      "PIK3CA\n",
      "MLH1\n",
      "MYD88\n",
      "TGFBR2\n",
      "CTNNB1\n",
      "VHL\n",
      "FANCD2\n",
      "PPARG\n",
      "MITF\n",
      "CACNA1D\n",
      "TFG\n",
      "FOXL2\n",
      "WWTR1\n",
      "ATR\n",
      "GATA2\n",
      "RPN1\n",
      "CNBP\n",
      "BCL6\n",
      "ETV5\n",
      "TFRC\n",
      "MECOM\n",
      "TBL1XR1\n",
      "SETD2\n",
      "SRGAP3\n",
      "XPC\n",
      "RAF1\n",
      "FHIT\n",
      "CBLB\n",
      "FOXP1\n",
      "RHOA\n",
      "NCKIPSD\n",
      "BAP1\n",
      "PBRM1\n",
      "HOXD13\n",
      "HOXD11\n",
      "PMS1\n",
      "ACVR2A\n",
      "ACSL3\n",
      "ACKR3\n",
      "CREB1\n",
      "CASP8\n",
      "ATIC\n",
      "EML4\n",
      "EPAS1\n",
      "REL\n",
      "MSH6\n",
      "MSH2\n",
      "MYCN\n",
      "NCOA1\n",
      "RANBP2\n",
      "TTL\n",
      "NFE2L2\n",
      "SF3B1\n",
      "CXCR4\n",
      "LRP1B\n",
      "ERCC3\n",
      "ACVR1\n",
      "PAX3\n",
      "IDH1\n",
      "FEV\n",
      "ERBB4\n",
      "STRN\n",
      "BCL11A\n",
      "XPO1\n",
      "FBXO11\n",
      "ALK\n",
      "DNMT3A\n",
      "AFF3\n",
      "TMEM127\n",
      "PAX8\n",
      "DCTN1\n",
      "LMNA\n",
      "NTRK1\n",
      "PRCC\n",
      "FCGR2B\n",
      "DDR2\n",
      "SDHC\n",
      "PBX1\n",
      "ATP1A1\n",
      "FAM46C\n",
      "MLLT11\n",
      "BCL9\n",
      "H3F3A\n",
      "CDC73\n",
      "PRRX1\n",
      "MDM4\n",
      "PTPRC\n",
      "ARID1A\n",
      "MDS2\n",
      "THRAP3\n",
      "LCK\n",
      "TNFRSF14\n",
      "PRDM16\n",
      "SPEN\n",
      "PAX7\n",
      "CAMTA1\n",
      "RBM15\n",
      "RPL5\n",
      "MPL\n",
      "CDKN2C\n",
      "TPM3\n",
      "MUC1\n",
      "FCRL4\n",
      "NOTCH2\n",
      "PDE4DIP\n",
      "TRIM33\n",
      "NRAS\n",
      "ARNT\n",
      "FH\n",
      "TPR\n",
      "ABL2\n",
      "SLC45A3\n",
      "ELK4\n",
      "SFPQ\n",
      "CSF3R\n",
      "RPL22\n",
      "SDHB\n",
      "MTOR\n",
      "FUBP1\n",
      "BCL10\n",
      "JAK1\n",
      "MUTYH\n",
      "MYCL\n",
      "JUN\n",
      "STIL\n",
      "TAL1\n",
      "EPS15\n"
     ]
    }
   ],
   "source": [
    "snipr_cutoffs = {\n",
    "    'sense': { 185: [], 500: [], 750: [], 900: []},\n",
    "    'antisense': { 185: [], 500: [], 750: [], 900: []},\n",
    "}\n",
    "g4s_cutoffs = {\n",
    "    'sense': { 70: [], 250: [], 255: []},\n",
    "    'antisense': { 70: [], 250: [], 255: [], }\n",
    "}\n",
    "for n,transcript in enumerate(tid_list):\n",
    "    if transcript not in min_transcripts:\n",
    "        continue\n",
    "    gene = oncogenes_tid[transcript]\n",
    "    print (gene)\n",
    "    max_sense = max(gene_sense_exp[n])\n",
    "    for i in snipr_cutoffs['sense']:\n",
    "        if max_sense > i:\n",
    "            snipr_cutoffs['sense'][i].append(gene)\n",
    "    max_antisense = max(gene_antisense_exp[n])\n",
    "    for i in snipr_cutoffs['antisense']:\n",
    "        if max_antisense > i:\n",
    "            snipr_cutoffs['antisense'][i].append(gene)\n",
    "        \n",
    "    if len(gene_sense_g4[n][0]) > 0:\n",
    "        g4s_cutoffs['sense'][70].append(gene)\n",
    "    if len(gene_sense_g4[n][1]) > 0:\n",
    "        g4s_cutoffs['sense'][250].append(gene)\n",
    "    if len(gene_sense_g4[n][2]) > 0:\n",
    "        g4s_cutoffs['sense'][255].append(gene)\n",
    "        \n",
    "    if len(gene_antisense_g4[n][0]) > 0:\n",
    "        g4s_cutoffs['antisense'][70].append(gene)\n",
    "    if len(gene_antisense_g4[n][1]) > 0:\n",
    "        g4s_cutoffs['antisense'][250].append(gene)\n",
    "    if len(gene_antisense_g4[n][2]) > 0:\n",
    "        g4s_cutoffs['antisense'][255].append(gene)"
   ]
  },
  {
   "cell_type": "code",
   "execution_count": 39,
   "metadata": {
    "ExecuteTime": {
     "end_time": "2017-06-10T06:27:22.650533Z",
     "start_time": "2017-06-10T06:27:22.614680Z"
    }
   },
   "outputs": [
    {
     "name": "stdout",
     "output_type": "stream",
     "text": [
      "sense 185 548\n",
      "275 448 548\n",
      "sense 900 82\n",
      "72 82 82\n",
      "{'ELF4', 'ELL', 'SET', 'ERBB4', 'CANT1', 'H3F3B', 'EIF4A2', 'WT1', 'DDR2', 'NUMA1'}\n",
      "sense 500 429\n",
      "264 403 429\n",
      "sense 750 257\n",
      "196 251 257\n",
      "{'OMD', 'ESR1', 'ACVR1', 'NPM1', 'PHOX2B', 'ATIC'}\n",
      "antisense 185 527\n",
      "248 434 527\n",
      "antisense 900 60\n",
      "55 60 60\n",
      "{'ETV1', 'BRD3', 'NCKIPSD', 'RECQL4', 'MLH1'}\n",
      "antisense 500 401\n",
      "241 380 401\n",
      "antisense 750 229\n",
      "173 222 229\n",
      "{'CREB3L2', 'BRCA1', 'EZR', 'NPM1', 'TFE3', 'CLP1', 'TP53'}\n"
     ]
    }
   ],
   "source": [
    "for i in ['sense', 'antisense']:\n",
    "    for j in snipr_cutoffs[i]:\n",
    "        print (i, j, len(snipr_cutoffs[i][j]))\n",
    "        print (\n",
    "            len(set(snipr_cutoffs[i][j]).intersection(g4s_cutoffs[i][70])),\n",
    "            len(set(snipr_cutoffs[i][j]).intersection(g4s_cutoffs[i][250])),\n",
    "            len(set(snipr_cutoffs[i][j]).intersection(g4s_cutoffs[i][255])),\n",
    "        )\n",
    "        if j in [900]:\n",
    "            print (set(snipr_cutoffs[i][j]).difference(g4s_cutoffs[i][70]))\n",
    "        if j in [750]:\n",
    "            print (set(snipr_cutoffs[i][j]).difference(g4s_cutoffs[i][250]))"
   ]
  },
  {
   "cell_type": "markdown",
   "metadata": {},
   "source": [
    "G4s in the promoters of cancer genes are considered to be viable switches to regulate their expression using ligands which bind to G4 structures. However, using current computational methodologies it remains unclear which promoters can be best targeted and hence, researchers have sought to individually characterize the G4s in the promoters of cancer genes. SNIPR-Q can be specially useful as it can not only indicate the G4 scores, which proxies for their probability of formation, but also help pinpoint the exact bases which would be involved in the structure formation. Chamber et al, showed that BRCA1, BRCA2 and MAP3K8 promoters contains a G-quadruplex structure which were not previously known harbor any G4s (by virtue of presence of G3L1-7 motif), thus opening avenues to therapeutically target these gene using G4 binding ligands.\n",
    "\n",
    "We tested 602 cancer associated gene promoters and identified those with high SNIPR-Q scores and different G4 motifs (using Quadparser  and QuadBase2) in a strand specific manner. We found that, for the sense strands, 82 promoters had bases with SNIPR-Q scores over 900 and 10 among them (ex. NUMA1, ELF4 and ERBB4) did not harbor PG4s of G3L1-7 configuration. For the antisense stand, we found that 60 promoters had bases with SNIPR-Q scores over 900 and 5 (viz. ETV1, BRD3, NCKIPSD, RECQL4 and MLH1) among them had no G3L1-7 PG4. Further, we found that there were 6 and 7 promoters in the sense and antisense strand respectively that contained scores over 750 but were had no detectable unbulged PG4s with even with considering loop lengths upto 25. These included BRCA1, TP53, ESR1, NPM1 and CLP1."
   ]
  },
  {
   "cell_type": "markdown",
   "metadata": {
    "ExecuteTime": {
     "end_time": "2017-04-17T08:40:42.062080Z",
     "start_time": "2017-04-17T08:40:42.056979Z"
    },
    "run_control": {
     "frozen": false,
     "read_only": false
    }
   },
   "source": [
    "### Load G4 motifs in the above regions"
   ]
  },
  {
   "cell_type": "code",
   "execution_count": 146,
   "metadata": {
    "ExecuteTime": {
     "end_time": "2017-04-17T09:04:04.108870Z",
     "start_time": "2017-04-17T09:03:57.721419Z"
    },
    "run_control": {
     "frozen": false,
     "read_only": false
    }
   },
   "outputs": [
    {
     "name": "stderr",
     "output_type": "stream",
     "text": [
      "100%|██████████| 24/24 [00:06<00:00,  3.94it/s]\n"
     ]
    },
    {
     "data": {
      "text/plain": [
       "((5804, 2001), (5804, 2001))"
      ]
     },
     "execution_count": 146,
     "metadata": {},
     "output_type": "execute_result"
    }
   ],
   "source": [
    "def g4_intersect(chrom, bed, loop_len=15):\n",
    "    g4_fn = \"g3_%d_0_%s_nov.bed\" % (loop_len, chrom)\n",
    "    g4 = pbt.BedTool(\"/home/parashar/scratch/quadruplexes/hg19/%s\" % g4_fn)\n",
    "    intersect = bed.intersect(g4, wo=True)\n",
    "    tids = {}\n",
    "    for l in intersect:\n",
    "        c = str(l).rstrip('\\n').split('\\t')\n",
    "        start = max(0, int(c[7]) - int(c[1]))\n",
    "        end = min(2000, int(c[8]) - int(c[1]))\n",
    "        a = np.zeros(2001)\n",
    "        a[start:end] += 1\n",
    "        t_strand = c[5]\n",
    "        if t_strand == '-':\n",
    "            a = a[::-1]\n",
    "        tname = c[4]\n",
    "        if tname not in tids:\n",
    "            tids[tname] = {'sense': np.zeros(2001), 'antisense': np.zeros(2001)}\n",
    "        \n",
    "        g4_strand = '+' if c[10][0].upper() == 'G' else '-'\n",
    "        if g4_strand == t_strand:\n",
    "            tids[tname]['sense'] += a\n",
    "        else:\n",
    "            tids[tname]['antisense'] += a\n",
    "    return tids\n",
    "\n",
    "tid_arrays = {}\n",
    "for chrom in tqdm(chroms):\n",
    "    t_bed = []\n",
    "    for strand,s in zip(['positive', 'negative'], ['+', '-']):\n",
    "        for i in chrom_wise_oncogene_info[chrom][strand]:\n",
    "            bedline = \"\\t\".join(map(str,\n",
    "                                [chrom, i[0], i[1], i[2], i[3], s]))\n",
    "            t_bed.append(bedline)\n",
    "    t_bed = pbt.BedTool('\\n'.join(t_bed), from_string=True)    \n",
    "    temp_dict = g4_intersect(chrom, t_bed)\n",
    "    for tid in temp_dict:\n",
    "        tid_arrays[tid] = temp_dict[tid]\n",
    "\n",
    "gene_sense_g4 = []\n",
    "gene_antisense_g4 = []\n",
    "for tid in tid_list:\n",
    "    if tid in tid_arrays:\n",
    "        gene_sense_g4.append(tid_arrays[tid]['sense'])\n",
    "        gene_antisense_g4.append(tid_arrays[tid]['antisense'])\n",
    "    else:\n",
    "        gene_sense_g4.append(np.zeros(2001))\n",
    "        gene_antisense_g4.append(np.zeros(2001))\n",
    "gene_sense_g4 = np.array(gene_sense_g4)\n",
    "gene_antisense_g4 = np.array(gene_antisense_g4)\n",
    "gene_sense_g4.shape, gene_antisense_g4.shape"
   ]
  },
  {
   "cell_type": "markdown",
   "metadata": {
    "ExecuteTime": {
     "end_time": "2017-04-17T08:41:01.135595Z",
     "start_time": "2017-04-17T08:41:01.130333Z"
    },
    "run_control": {
     "frozen": false,
     "read_only": false
    }
   },
   "source": [
    "### Load OQs in the above regions"
   ]
  },
  {
   "cell_type": "code",
   "execution_count": 196,
   "metadata": {
    "ExecuteTime": {
     "end_time": "2017-04-17T21:56:29.754420Z",
     "start_time": "2017-04-17T21:56:25.255213Z"
    },
    "run_control": {
     "frozen": false,
     "read_only": false
    }
   },
   "outputs": [
    {
     "name": "stderr",
     "output_type": "stream",
     "text": [
      "100%|██████████| 24/24 [00:04<00:00,  5.77it/s]\n"
     ]
    },
    {
     "data": {
      "text/plain": [
       "((5804, 2001), (5804, 2001))"
      ]
     },
     "execution_count": 196,
     "metadata": {},
     "output_type": "execute_result"
    }
   ],
   "source": [
    "def oq_intersect(chrom, transcript_bed):\n",
    "    oq_fn = '../data/ROC_data/regions/chrom_wise/Na_K_2_oq_regions_%s.bed' % chrom\n",
    "    oq_bed = pbt.BedTool(oq_fn)\n",
    "    intersect = transcript_bed.intersect(oq_bed, wo=True)\n",
    "    tids = {}\n",
    "    for l in intersect:\n",
    "        c = str(l).rstrip('\\n').split('\\t')\n",
    "        if int(c[10]) > 1:\n",
    "            start = max(0, int(c[7]) - int(c[1]))\n",
    "            end = min(2000, int(c[8]) - int(c[1]))\n",
    "            a = np.zeros(2001)\n",
    "            a[start:end] += 1\n",
    "            t_strand = c[5]\n",
    "            if t_strand == '-':\n",
    "                a = a[::-1]\n",
    "            tname = c[4]\n",
    "            if tname not in tids:\n",
    "                tids[tname] = {'sense': np.zeros(2001), 'antisense': np.zeros(2001)}\n",
    "            oq_strand = '+' if c[9] == '-' else '-'\n",
    "            if oq_strand == t_strand:\n",
    "                tids[tname]['sense'] += a\n",
    "            else:\n",
    "                tids[tname]['antisense'] += a\n",
    "    return tids\n",
    "\n",
    "tid_arrays = {}\n",
    "for chrom in tqdm(chroms):\n",
    "    t_bed = []\n",
    "    for strand,s in zip(['positive', 'negative'], ['+', '-']):\n",
    "        for i in chrom_wise_oncogene_info[chrom][strand]:\n",
    "            bedline = \"\\t\".join(map(str,\n",
    "                                [chrom, i[0], i[1], i[2], i[3], s]))\n",
    "            t_bed.append(bedline)\n",
    "    t_bed = pbt.BedTool('\\n'.join(t_bed), from_string=True)    \n",
    "    temp_dict = oq_intersect(chrom, t_bed)\n",
    "    for tid in temp_dict:\n",
    "        tid_arrays[tid] = temp_dict[tid]\n",
    "\n",
    "gene_sense_oq = []\n",
    "gene_antisense_oq = []\n",
    "for tid in tid_list:\n",
    "    if tid in tid_arrays:\n",
    "        gene_sense_oq.append(tid_arrays[tid]['sense'])\n",
    "        gene_antisense_oq.append(tid_arrays[tid]['antisense'])\n",
    "    else:\n",
    "        gene_sense_oq.append(np.zeros(2001))\n",
    "        gene_antisense_oq.append(np.zeros(2001))\n",
    "gene_sense_oq = np.array(gene_sense_oq)\n",
    "gene_antisense_oq = np.array(gene_antisense_oq)\n",
    "gene_sense_oq.shape, gene_antisense_oq.shape"
   ]
  },
  {
   "cell_type": "code",
   "execution_count": 182,
   "metadata": {
    "ExecuteTime": {
     "end_time": "2017-04-17T21:47:08.758937Z",
     "start_time": "2017-04-17T21:47:07.001271Z"
    },
    "collapsed": true,
    "run_control": {
     "frozen": false,
     "read_only": false
    }
   },
   "outputs": [],
   "source": [
    "def make_ranges(a):\n",
    "    ranges = []\n",
    "    for s,e in zip(np.where(np.diff(a) > 0)[0], np.where(np.diff(a) < 0)[0]):\n",
    "        ranges.append(list(range(s+1,e+1)))\n",
    "    return ranges   \n",
    "\n",
    "def g4_exp_overlap(g4_arrays, exp_arrays, cutoff=0.01):    \n",
    "    overlap = []\n",
    "    total = []\n",
    "    for g,e in zip(g4_arrays, exp_arrays):\n",
    "        e = np.where(e > cutoff)[0]\n",
    "        tg, tl, to, tot = len(e), 0, 0, 0\n",
    "        for r in make_ranges(g):\n",
    "            tot += 1\n",
    "            len_intersect = len(set(r).intersection(e))\n",
    "            if len_intersect > 0:\n",
    "                to += 1\n",
    "        overlap.append(to)\n",
    "        total.append(tot)\n",
    "    return np.array(overlap), np.array(total)\n",
    "\n",
    "s_overlap, s_total_g4s = g4_exp_overlap(gene_sense_g4, gene_sense_exp)\n",
    "as_overlap, as_total_g4s = g4_exp_overlap(gene_antisense_g4, gene_antisense_exp)"
   ]
  },
  {
   "cell_type": "code",
   "execution_count": 101,
   "metadata": {
    "ExecuteTime": {
     "end_time": "2017-04-17T07:08:20.042374Z",
     "start_time": "2017-04-17T07:08:20.031156Z"
    },
    "run_control": {
     "frozen": false,
     "read_only": false
    }
   },
   "outputs": [
    {
     "data": {
      "text/plain": [
       "(12246, 10033, 22279)"
      ]
     },
     "execution_count": 101,
     "metadata": {},
     "output_type": "execute_result"
    }
   ],
   "source": [
    "sum(s_total_g4s), sum(as_total_g4s), sum(s_total_g4s) + sum(as_total_g4s)"
   ]
  },
  {
   "cell_type": "code",
   "execution_count": 112,
   "metadata": {
    "ExecuteTime": {
     "end_time": "2017-04-17T07:10:48.550094Z",
     "start_time": "2017-04-17T07:10:48.540706Z"
    },
    "run_control": {
     "frozen": false,
     "read_only": false
    }
   },
   "outputs": [
    {
     "name": "stdout",
     "output_type": "stream",
     "text": [
      "4307 74.20744314266024\n"
     ]
    }
   ],
   "source": [
    "print (len(np.where((s_total_g4s + as_total_g4s) > 0)[0]),\n",
    "       len(np.where((s_total_g4s + as_total_g4s) > 0)[0])/len(as_total_g4s)*100)"
   ]
  },
  {
   "cell_type": "code",
   "execution_count": 116,
   "metadata": {
    "ExecuteTime": {
     "end_time": "2017-04-17T07:14:59.814482Z",
     "start_time": "2017-04-17T07:14:59.702992Z"
    },
    "run_control": {
     "frozen": false,
     "read_only": false
    }
   },
   "outputs": [
    {
     "name": "stdout",
     "output_type": "stream",
     "text": [
      "5210 89.7656788421778\n"
     ]
    }
   ],
   "source": [
    "exp_ctr = 0\n",
    "for i in range(gene_sense_exp.shape[0]):\n",
    "    if len(np.where(gene_sense_exp[i] > 0.01)[0]) > 0 or \\\n",
    "       len(np.where(gene_antisense_exp[i] > 0.01)[0]) > 0:\n",
    "        exp_ctr += 1\n",
    "print (exp_ctr, exp_ctr/gene_sense_g4.shape[0]*100)"
   ]
  },
  {
   "cell_type": "code",
   "execution_count": 119,
   "metadata": {
    "ExecuteTime": {
     "end_time": "2017-04-17T07:20:39.130918Z",
     "start_time": "2017-04-17T07:20:39.118160Z"
    },
    "run_control": {
     "frozen": false,
     "read_only": false
    }
   },
   "outputs": [
    {
     "data": {
      "text/plain": [
       "(17568, 0.78854526684321558)"
      ]
     },
     "execution_count": 119,
     "metadata": {},
     "output_type": "execute_result"
    }
   ],
   "source": [
    "sum(s_overlap) + sum(as_overlap), (sum(s_overlap) + sum(as_overlap))/(sum(s_total_g4s) + sum(as_total_g4s))"
   ]
  },
  {
   "cell_type": "code",
   "execution_count": 121,
   "metadata": {
    "ExecuteTime": {
     "end_time": "2017-04-17T07:22:18.054540Z",
     "start_time": "2017-04-17T07:22:18.046933Z"
    },
    "run_control": {
     "frozen": false,
     "read_only": false
    }
   },
   "outputs": [
    {
     "data": {
      "text/plain": [
       "4055"
      ]
     },
     "execution_count": 121,
     "metadata": {},
     "output_type": "execute_result"
    }
   ],
   "source": [
    "len(np.where((s_overlap + as_overlap) > 0)[0])"
   ]
  },
  {
   "cell_type": "code",
   "execution_count": 240,
   "metadata": {
    "ExecuteTime": {
     "end_time": "2017-04-17T22:35:01.263167Z",
     "start_time": "2017-04-17T22:34:57.590327Z"
    },
    "run_control": {
     "frozen": false,
     "read_only": false
    }
   },
   "outputs": [
    {
     "data": {
      "text/plain": [
       "938"
      ]
     },
     "execution_count": 240,
     "metadata": {},
     "output_type": "execute_result"
    }
   ],
   "source": [
    "ctr = []\n",
    "for i,j,a,b,n in zip(gene_sense_g4, gene_antisense_g4,\n",
    "                   gene_sense_exp, gene_antisense_exp, range(gene_antisense_exp.shape[0])):\n",
    "    if sum(i)+sum(j) == 0:\n",
    "        if len(np.where(a > 0.01)[0]) > 0 or len(np.where(b > 0.01)[0]) > 0:\n",
    "            ctr.append(n)\n",
    "len(ctr)"
   ]
  },
  {
   "cell_type": "code",
   "execution_count": 241,
   "metadata": {
    "ExecuteTime": {
     "end_time": "2017-04-17T22:35:01.295893Z",
     "start_time": "2017-04-17T22:35:01.265842Z"
    },
    "run_control": {
     "frozen": false,
     "read_only": false
    }
   },
   "outputs": [
    {
     "name": "stdout",
     "output_type": "stream",
     "text": [
      "323\n",
      "CREBBP 11 20\n",
      "SETD2 6 8\n",
      "HIST1H3B 1 1\n",
      "WRN 2 3\n",
      "LRIG3 5 9\n",
      "BUB1B 6 11\n",
      "SND1 11 16\n",
      "SBDS 5 5\n",
      "TAL2 1 1\n",
      "BIRC3 6 7\n",
      "MDS2 2 3\n",
      "LCP1 4 7\n",
      "PRDM1 6 7\n",
      "PDCD1LG2 1 1\n",
      "SFPQ 6 10\n",
      "FANCD2 9 13\n",
      "IL7R 8 10\n",
      "SSX2 2 3\n",
      "FCRL4 2 3\n",
      "SSX1 1 1\n",
      "ARHGAP26 11 20\n",
      "TNFRSF17 2 3\n"
     ]
    }
   ],
   "source": [
    "high_conf_genes = {}\n",
    "for i in np.array(tid_list)[ctr]:\n",
    "    if oncogenes_tid[i] not in high_conf_genes:\n",
    "        high_conf_genes[oncogenes_tid[i]] = []\n",
    "    high_conf_genes[oncogenes_tid[i]].append(i)\n",
    "print (len(high_conf_genes))\n",
    "    \n",
    "for i in high_conf_genes:\n",
    "    if len(high_conf_genes[i]) > num_transcripts[i]/2:\n",
    "        print (i, len(high_conf_genes[i]),  num_transcripts[i])"
   ]
  },
  {
   "cell_type": "code",
   "execution_count": 197,
   "metadata": {
    "ExecuteTime": {
     "end_time": "2017-04-17T21:56:39.049704Z",
     "start_time": "2017-04-17T21:56:38.117969Z"
    },
    "collapsed": true,
    "run_control": {
     "frozen": false,
     "read_only": false
    }
   },
   "outputs": [],
   "source": [
    "def g4_oq_overlap(g4_arrays, oq_arrays):\n",
    "    overlap = []\n",
    "    total = []\n",
    "    for g,o in zip(g4_arrays, oq_arrays):\n",
    "        to, tot = 0, 0\n",
    "        g = np.where(g > 0)[0]\n",
    "        for r in make_ranges(o):\n",
    "            tot += 1\n",
    "            len_intersect = len(set(r).intersection(g))\n",
    "            if len_intersect > 0:\n",
    "                to += 1\n",
    "        overlap.append(to)\n",
    "        total.append(tot)\n",
    "    return np.array(overlap), np.array(total)\n",
    "\n",
    "gq_s_overlap, gq_s_total_g4s = g4_oq_overlap(gene_sense_g4, gene_sense_oq)\n",
    "gq_as_overlap, gq_as_total_g4s = g4_oq_overlap(\n",
    "    gene_antisense_g4, gene_antisense_oq)"
   ]
  },
  {
   "cell_type": "code",
   "execution_count": 198,
   "metadata": {
    "ExecuteTime": {
     "end_time": "2017-04-17T21:56:39.633247Z",
     "start_time": "2017-04-17T21:56:39.623049Z"
    },
    "run_control": {
     "frozen": false,
     "read_only": false
    }
   },
   "outputs": [
    {
     "data": {
      "text/plain": [
       "2760"
      ]
     },
     "execution_count": 198,
     "metadata": {},
     "output_type": "execute_result"
    }
   ],
   "source": [
    "gq_s_total_g4s.sum() + gq_as_total_g4s.sum()"
   ]
  },
  {
   "cell_type": "code",
   "execution_count": 199,
   "metadata": {
    "ExecuteTime": {
     "end_time": "2017-04-17T21:56:42.245733Z",
     "start_time": "2017-04-17T21:56:42.238398Z"
    },
    "run_control": {
     "frozen": false,
     "read_only": false
    }
   },
   "outputs": [
    {
     "name": "stdout",
     "output_type": "stream",
     "text": [
      "2051 35.33769813921433\n"
     ]
    }
   ],
   "source": [
    "print (len(np.where((gq_s_total_g4s + gq_as_total_g4s) > 0)[0]),\n",
    "       len(np.where((gq_s_total_g4s + gq_as_total_g4s) > 0)[0])/len(gq_s_total_g4s)*100)"
   ]
  },
  {
   "cell_type": "code",
   "execution_count": 200,
   "metadata": {
    "ExecuteTime": {
     "end_time": "2017-04-17T21:56:43.142668Z",
     "start_time": "2017-04-17T21:56:43.134978Z"
    },
    "run_control": {
     "frozen": false,
     "read_only": false
    }
   },
   "outputs": [
    {
     "name": "stdout",
     "output_type": "stream",
     "text": [
      "1981 0.717753623188\n"
     ]
    }
   ],
   "source": [
    "print (gq_s_overlap.sum() + gq_as_overlap.sum(),\n",
    "       (gq_s_overlap.sum() + gq_as_overlap.sum())/ (gq_s_total_g4s.sum() + gq_as_total_g4s.sum()))"
   ]
  },
  {
   "cell_type": "code",
   "execution_count": 201,
   "metadata": {
    "ExecuteTime": {
     "end_time": "2017-04-17T21:56:47.064016Z",
     "start_time": "2017-04-17T21:56:47.054819Z"
    },
    "run_control": {
     "frozen": false,
     "read_only": false
    }
   },
   "outputs": [
    {
     "name": "stdout",
     "output_type": "stream",
     "text": [
      "1605 27.653342522398344\n"
     ]
    }
   ],
   "source": [
    "print (len(np.where((gq_s_overlap + gq_as_overlap) > 0)[0]),\n",
    "       len(np.where((gq_s_overlap + gq_as_overlap) > 0)[0])/len(gq_s_total_g4s)*100)"
   ]
  },
  {
   "cell_type": "code",
   "execution_count": 202,
   "metadata": {
    "ExecuteTime": {
     "end_time": "2017-04-17T21:56:50.089786Z",
     "start_time": "2017-04-17T21:56:49.102673Z"
    },
    "collapsed": true,
    "run_control": {
     "frozen": false,
     "read_only": false
    }
   },
   "outputs": [],
   "source": [
    "def oq_exp_overlap(oq_arrays, exp_arrays, cutoff=0.01):    \n",
    "    overlap = []\n",
    "    total = []\n",
    "    for o,e in zip(oq_arrays, exp_arrays):\n",
    "        e = np.where(e > cutoff)[0]\n",
    "        to, tot = 0, 0\n",
    "        for r in make_ranges(o):\n",
    "            tot += 1\n",
    "            len_intersect = len(set(r).intersection(e))\n",
    "            if len_intersect > 0:\n",
    "                to += 1\n",
    "        overlap.append(to)\n",
    "        total.append(tot)\n",
    "    return np.array(overlap), np.array(total)\n",
    "\n",
    "oe_s_overlap, oe_s_total_g4s = oq_exp_overlap(gene_sense_oq, gene_sense_exp)\n",
    "oe_as_overlap, oe_as_total_g4s = oq_exp_overlap(\n",
    "    gene_antisense_oq, gene_antisense_exp)"
   ]
  },
  {
   "cell_type": "code",
   "execution_count": 203,
   "metadata": {
    "ExecuteTime": {
     "end_time": "2017-04-17T21:56:50.098154Z",
     "start_time": "2017-04-17T21:56:50.092350Z"
    },
    "run_control": {
     "frozen": false,
     "read_only": false
    }
   },
   "outputs": [
    {
     "name": "stdout",
     "output_type": "stream",
     "text": [
      "2051 35.33769813921433\n"
     ]
    }
   ],
   "source": [
    "print (len(np.where((oe_s_total_g4s + oe_as_total_g4s) > 0)[0]),\n",
    "       len(np.where((oe_s_total_g4s + oe_as_total_g4s) > 0)[0])/len(oe_s_total_g4s)*100)"
   ]
  },
  {
   "cell_type": "code",
   "execution_count": 204,
   "metadata": {
    "ExecuteTime": {
     "end_time": "2017-04-17T21:56:51.711389Z",
     "start_time": "2017-04-17T21:56:51.702308Z"
    },
    "run_control": {
     "frozen": false,
     "read_only": false
    }
   },
   "outputs": [
    {
     "name": "stdout",
     "output_type": "stream",
     "text": [
      "2417 0.875724637681\n"
     ]
    }
   ],
   "source": [
    "print (oe_s_overlap.sum() + oe_as_overlap.sum(),\n",
    "       (oe_s_overlap.sum() + oe_as_overlap.sum())/ (oe_s_total_g4s.sum() + oe_as_total_g4s.sum()))"
   ]
  },
  {
   "cell_type": "code",
   "execution_count": 180,
   "metadata": {
    "ExecuteTime": {
     "end_time": "2017-04-17T21:41:49.074862Z",
     "start_time": "2017-04-17T21:41:49.067703Z"
    },
    "run_control": {
     "frozen": false,
     "read_only": false
    }
   },
   "outputs": [
    {
     "name": "stdout",
     "output_type": "stream",
     "text": [
      "3052 52.58442453480359\n"
     ]
    }
   ],
   "source": [
    "print (len(np.where((oe_s_overlap + oe_as_overlap) > 0)[0]),\n",
    "       len(np.where((oe_s_overlap + oe_as_overlap) > 0)[0])/len(oe_s_total_g4s)*100)"
   ]
  },
  {
   "cell_type": "code",
   "execution_count": null,
   "metadata": {
    "collapsed": true,
    "run_control": {
     "frozen": false,
     "read_only": false
    }
   },
   "outputs": [],
   "source": []
  },
  {
   "cell_type": "code",
   "execution_count": null,
   "metadata": {
    "collapsed": true,
    "run_control": {
     "frozen": false,
     "read_only": false
    }
   },
   "outputs": [],
   "source": []
  }
 ],
 "metadata": {
  "kernelspec": {
   "display_name": "Python [default]",
   "language": "python",
   "name": "python3"
  },
  "language_info": {
   "codemirror_mode": {
    "name": "ipython",
    "version": 3
   },
   "file_extension": ".py",
   "mimetype": "text/x-python",
   "name": "python",
   "nbconvert_exporter": "python",
   "pygments_lexer": "ipython3",
   "version": "3.5.2"
  }
 },
 "nbformat": 4,
 "nbformat_minor": 1
}
