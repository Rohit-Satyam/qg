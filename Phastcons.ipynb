{
 "cells": [
  {
   "cell_type": "code",
   "execution_count": 96,
   "metadata": {
    "ExecuteTime": {
     "end_time": "2017-02-03T03:33:59.073486",
     "start_time": "2017-02-03T03:33:59.052614"
    },
    "collapsed": true,
    "run_control": {
     "frozen": false,
     "read_only": false
    }
   },
   "outputs": [],
   "source": [
    "import numpy as np\n",
    "from tqdm import tqdm\n",
    "from IPython.display import clear_output\n",
    "import matplotlib.pyplot as plt\n",
    "from scipy.stats import zscore, mannwhitneyu\n",
    "\n",
    "plt.style.use('fivethirtyeight')\n",
    "def clean_axis(ax):\n",
    "    ax.xaxis.set_tick_params(labelsize=11)\n",
    "    ax.yaxis.set_tick_params(labelsize=11)\n",
    "    for i in ['top', 'bottom', 'left', 'right']:\n",
    "        ax.spines[i].set_visible(False)\n",
    "    ax.grid(which='major', linestyle='--', alpha=0.7)\n",
    "    return True"
   ]
  },
  {
   "cell_type": "code",
   "execution_count": 11,
   "metadata": {
    "ExecuteTime": {
     "end_time": "2017-02-03T02:03:53.201165",
     "start_time": "2017-02-03T02:03:51.374155"
    },
    "collapsed": false,
    "run_control": {
     "frozen": false,
     "read_only": false
    }
   },
   "outputs": [],
   "source": [
    "chroms = ['chr'+str(x) for x in range(1,23)] + ['chrX', 'chrY']\n",
    "chrom_info = [x.rstrip('\\n').split('\\t') for x in \n",
    "              open('/home/parashar/scratch/hg19_resource/hg19.genome').readlines()]\n",
    "chrom_info = {x[0]: int(x[1]) for x in chrom_info}\n",
    "\n",
    "gene_tss_info = {'positive': {}, 'negative': {}}\n",
    "for chrom in chroms:\n",
    "    gene_tss_info['positive'][chrom] = []\n",
    "    gene_tss_info['negative'][chrom] = []\n",
    "    with open('../data/annotation/chrom_wise_gencode_tss/%s.bed' % chrom) as h:\n",
    "        for l in h:\n",
    "            c = l.rstrip('\\n').split('\\t')\n",
    "            up = int(c[1]) - 1000\n",
    "            down = int(c[1]) + 1000 + 1\n",
    "            if c[5] == '+':\n",
    "                gene_tss_info['positive'][chrom].append((up, down, c[3]))\n",
    "            else:\n",
    "                gene_tss_info['negative'][chrom].append((up, down, c[3]))"
   ]
  },
  {
   "cell_type": "code",
   "execution_count": 15,
   "metadata": {
    "ExecuteTime": {
     "end_time": "2017-02-03T02:34:44.712573",
     "start_time": "2017-02-03T02:34:20.351412"
    },
    "collapsed": false,
    "run_control": {
     "frozen": true,
     "read_only": true
    }
   },
   "outputs": [],
   "source": [
    "gene_phastcons = []\n",
    "for chrom in chroms:\n",
    "    phastcons = np.load('../data/phastcons/chrom_arrays/%s.npy' % chrom, mmap_mode='r')\n",
    "    for i in tqdm(gene_tss_info['positive'][chrom], desc=chrom):\n",
    "        gene_phastcons.append(phastcons[i[0]:i[1]])\n",
    "    for i in tqdm(gene_tss_info['negative'][chrom], desc=chrom):\n",
    "        gene_phastcons.append(phastcons[i[0]:i[1]][::-1])\n",
    "    clear_output()\n",
    "np.save('../data/gene_arrays/gene_phastcons', np.array(gene_phastcons))"
   ]
  },
  {
   "cell_type": "code",
   "execution_count": 16,
   "metadata": {
    "ExecuteTime": {
     "end_time": "2017-02-03T02:35:54.688855",
     "start_time": "2017-02-03T02:35:27.657097"
    },
    "collapsed": false,
    "run_control": {
     "frozen": false,
     "read_only": false
    }
   },
   "outputs": [],
   "source": [
    "# gene array for exp scores was creaed in promoter_analysis notebook\n",
    "\n",
    "gene_array_exp = {}\n",
    "for orient in ['sense', 'antisense']:\n",
    "    gene_array_exp[orient] = np.load('../data/gene_arrays/exp_scores_%s.npy' % orient)\n",
    "gene_phastcons = np.load('../data/gene_arrays/gene_phastcons.npy')"
   ]
  },
  {
   "cell_type": "code",
   "execution_count": 34,
   "metadata": {
    "ExecuteTime": {
     "end_time": "2017-02-03T02:42:32.450388",
     "start_time": "2017-02-03T02:42:27.394315"
    },
    "collapsed": false,
    "run_control": {
     "frozen": false,
     "read_only": false
    }
   },
   "outputs": [],
   "source": [
    "mean_exp_sense = gene_array_exp['sense'].mean(axis=0)\n",
    "mean_exp_antisense = gene_array_exp['antisense'].mean(axis=0)\n",
    "mean_phastcons = gene_phastcons.mean(axis=0)\n",
    "\n",
    "z_exp_sense = zscore(mean_exp_sense)\n",
    "z_exp_antisense = zscore(mean_exp_antisense)\n",
    "z_phastcons = zscore(mean_phastcons)"
   ]
  },
  {
   "cell_type": "code",
   "execution_count": null,
   "metadata": {
    "collapsed": true,
    "run_control": {
     "frozen": false,
     "read_only": false
    }
   },
   "outputs": [],
   "source": [
    "top_quantile = []\n",
    "bottom_quantile = []\n",
    "for i,j in tqdm(zip(gene_phastcons, gene_array_exp['antisense'])):\n",
    "    top_quantile.append(j[:1000][i[:1000].argsort()[:100]])\n",
    "    bottom_quantile.append(j[:1000][i[:1000].argsort()[-100:]])\n",
    "top_quantile = np.array(top_quantile)\n",
    "bottom_quantile = np.array(bottom_quantile)\n",
    "\n",
    "a = sorted(top_quantile.max(axis=1))[::-1][:int(top_quantile.shape[0]/10)]\n",
    "b = sorted(bottom_quantile.max(axis=1))[::-1][:int(bottom_quantile.shape[0]/10)]\n",
    "len(a), len(b)"
   ]
  },
  {
   "cell_type": "code",
   "execution_count": 108,
   "metadata": {
    "ExecuteTime": {
     "end_time": "2017-02-03T03:52:22.698067",
     "start_time": "2017-02-03T03:52:21.808781"
    },
    "collapsed": false,
    "run_control": {
     "frozen": false,
     "read_only": false
    }
   },
   "outputs": [
    {
     "data": {
      "image/png": "[encoded data removed]",
      "text/plain": [
       "<matplotlib.figure.Figure at 0x2b1ef3ceee48>"
      ]
     },
     "metadata": {},
     "output_type": "display_data"
    },
    {
     "data": {
      "text/plain": [
       "MannwhitneyuResult(statistic=119745579.5, pvalue=0.0)"
      ]
     },
     "execution_count": 108,
     "metadata": {},
     "output_type": "execute_result"
    }
   ],
   "source": [
    "fig, ax = plt.subplots(1, 1, figsize=(2, 3))\n",
    "\n",
    "boxprops = dict(linestyle='-', linewidth=1.2, color='k')\n",
    "whiskerprops = dict(linestyle='--', linewidth=1.2, color='k')\n",
    "medianprops = dict(linestyle='-', linewidth=1.5, color='crimson')\n",
    "\n",
    "ax.boxplot([a, b], sym='', widths=[0.5, 0.5],\n",
    "           boxprops=boxprops, \n",
    "           medianprops=medianprops, whiskerprops=whiskerprops)\n",
    "ax.set_ylabel('Expectation scores', fontsize=12)\n",
    "ax.set_xticklabels(['High', 'Low'], rotation=45, fontsize=11)\n",
    "ax.set_xlabel('Phastcons score', fontsize=12)\n",
    "clean_axis(ax)\n",
    "\n",
    "plt.tight_layout()\n",
    "plt.show()\n",
    "\n",
    "plt.savefig('../images/phastcons_promoter.png', dpi=300, transparent=True, edgecolor='none')\n",
    "plt.savefig('../images/phastcons_promoter.svg', transparent=True, edgecolor='none')\n",
    "\n",
    "mannwhitneyu(a, b)"
   ]
  },
  {
   "cell_type": "code",
   "execution_count": null,
   "metadata": {
    "collapsed": true,
    "run_control": {
     "frozen": false,
     "read_only": false
    }
   },
   "outputs": [],
   "source": []
  }
 ],
 "metadata": {
  "kernelspec": {
   "display_name": "Python [default]",
   "language": "python",
   "name": "python3"
  },
  "language_info": {
   "codemirror_mode": {
    "name": "ipython",
    "version": 3
   },
   "file_extension": ".py",
   "mimetype": "text/x-python",
   "name": "python",
   "nbconvert_exporter": "python",
   "pygments_lexer": "ipython3",
   "version": "3.5.2"
  }
 },
 "nbformat": 4,
 "nbformat_minor": 1
}
