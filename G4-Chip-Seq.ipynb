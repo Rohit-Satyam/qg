{
 "cells": [
  {
   "cell_type": "code",
   "execution_count": 1,
   "metadata": {
    "ExecuteTime": {
     "end_time": "2017-06-07T10:19:52.423791Z",
     "start_time": "2017-06-07T10:19:29.178997Z"
    },
    "run_control": {
     "frozen": false,
     "read_only": false
    }
   },
   "outputs": [
    {
     "name": "stdout",
     "output_type": "stream",
     "text": [
      "Waiting for connection file: ~/.ipython/profile_default/security/ipcontroller-client.json\n"
     ]
    },
    {
     "ename": "OSError",
     "evalue": "Connection file '~/.ipython/profile_default/security/ipcontroller-client.json' not found.\nYou have attempted to connect to an IPython Cluster but no Controller could be found.\nPlease double-check your configuration and ensure that a cluster is running.",
     "output_type": "error",
     "traceback": [
      "\u001b[0;31m---------------------------------------------------------------------------\u001b[0m",
      "\u001b[0;31mOSError\u001b[0m                                   Traceback (most recent call last)",
      "\u001b[0;32m<ipython-input-1-e6e23070935a>\u001b[0m in \u001b[0;36m<module>\u001b[0;34m()\u001b[0m\n\u001b[1;32m     18\u001b[0m     \u001b[0;32mreturn\u001b[0m \u001b[0;32mTrue\u001b[0m\u001b[0;34m\u001b[0m\u001b[0m\n\u001b[1;32m     19\u001b[0m \u001b[0;34m\u001b[0m\u001b[0m\n\u001b[0;32m---> 20\u001b[0;31m \u001b[0mDVIEW\u001b[0m \u001b[0;34m=\u001b[0m \u001b[0mClient\u001b[0m\u001b[0;34m(\u001b[0m\u001b[0;34m)\u001b[0m\u001b[0;34m[\u001b[0m\u001b[0;34m:\u001b[0m\u001b[0;34m]\u001b[0m\u001b[0;34m\u001b[0m\u001b[0m\n\u001b[0m\u001b[1;32m     21\u001b[0m \u001b[0mDVIEW\u001b[0m\u001b[0;34m.\u001b[0m\u001b[0mblock\u001b[0m\u001b[0;34m=\u001b[0m\u001b[0;32mTrue\u001b[0m\u001b[0;34m\u001b[0m\u001b[0m\n\u001b[1;32m     22\u001b[0m \u001b[0mlen\u001b[0m\u001b[0;34m(\u001b[0m\u001b[0mDVIEW\u001b[0m\u001b[0;34m)\u001b[0m\u001b[0;34m\u001b[0m\u001b[0m\n",
      "\u001b[0;32m/home/parashar/anaconda3/lib/python3.5/site-packages/ipyparallel/client/client.py\u001b[0m in \u001b[0;36m__init__\u001b[0;34m(self, url_file, profile, profile_dir, ipython_dir, context, debug, sshserver, sshkey, password, paramiko, timeout, cluster_id, **extra_args)\u001b[0m\n\u001b[1;32m    395\u001b[0m                         \u001b[0mno_file_msg\u001b[0m\u001b[0;34m,\u001b[0m\u001b[0;34m\u001b[0m\u001b[0m\n\u001b[1;32m    396\u001b[0m                     ])\n\u001b[0;32m--> 397\u001b[0;31m                     \u001b[0;32mraise\u001b[0m \u001b[0mIOError\u001b[0m\u001b[0;34m(\u001b[0m\u001b[0mmsg\u001b[0m\u001b[0;34m)\u001b[0m\u001b[0;34m\u001b[0m\u001b[0m\n\u001b[0m\u001b[1;32m    398\u001b[0m         \u001b[0;32mif\u001b[0m \u001b[0murl_file\u001b[0m \u001b[0;32mis\u001b[0m \u001b[0;32mNone\u001b[0m\u001b[0;34m:\u001b[0m\u001b[0;34m\u001b[0m\u001b[0m\n\u001b[1;32m    399\u001b[0m             \u001b[0;32mraise\u001b[0m \u001b[0mIOError\u001b[0m\u001b[0;34m(\u001b[0m\u001b[0mno_file_msg\u001b[0m\u001b[0;34m)\u001b[0m\u001b[0;34m\u001b[0m\u001b[0m\n",
      "\u001b[0;31mOSError\u001b[0m: Connection file '~/.ipython/profile_default/security/ipcontroller-client.json' not found.\nYou have attempted to connect to an IPython Cluster but no Controller could be found.\nPlease double-check your configuration and ensure that a cluster is running."
     ]
    }
   ],
   "source": [
    "import pybedtools as pbt\n",
    "import numpy as np\n",
    "from tqdm import tqdm\n",
    "import glob\n",
    "from IPython.display import clear_output\n",
    "import matplotlib.pyplot as plt\n",
    "from scipy.stats import mannwhitneyu, wilcoxon, ttest_ind, chisquare\n",
    "from ipyparallel import Client\n",
    "from statsmodels.sandbox.stats.multicomp import multipletests\n",
    "\n",
    "plt.style.use('fivethirtyeight')\n",
    "def clean_axis(ax):\n",
    "    ax.xaxis.set_tick_params(labelsize=9)\n",
    "    ax.yaxis.set_tick_params(labelsize=9)\n",
    "    for i in ['top', 'bottom', 'left', 'right']:\n",
    "        ax.spines[i].set_visible(False)\n",
    "    ax.grid(which='major', linestyle='--', alpha=0.5)\n",
    "    return True\n",
    "\n",
    "DVIEW = Client()[:]\n",
    "DVIEW.block=True\n",
    "len(DVIEW)"
   ]
  },
  {
   "cell_type": "markdown",
   "metadata": {
    "run_control": {
     "frozen": false,
     "read_only": false
    }
   },
   "source": [
    "## The objective here is to check whether the expectation scores are higher in g4-chipSeq peaks compared to random peaks and how this compares to G4 motifs detected by QuadParser"
   ]
  },
  {
   "cell_type": "markdown",
   "metadata": {
    "run_control": {
     "frozen": false,
     "read_only": false
    }
   },
   "source": [
    "### We start by first extracting peak sequences and creating random peaks and saving them"
   ]
  },
  {
   "cell_type": "code",
   "execution_count": 45,
   "metadata": {
    "ExecuteTime": {
     "end_time": "2017-04-10T17:08:39.911096",
     "start_time": "2017-04-10T22:38:39.824180+05:30"
    },
    "collapsed": true,
    "run_control": {
     "frozen": true,
     "read_only": true
    }
   },
   "outputs": [],
   "source": [
    "_ = pbt.BedTool('../data/chip_seq_g4/rhh175_ChIPwthacat_704_502_entst_26082015_peaks.narrowPeak').saveas(\n",
    "    '../data/chip_seq_g4/hacat_peaks_rep1.bed')\n",
    "_ = pbt.BedTool('../data/chip_seq_g4/rhh_25cyc_BG4_12082015_peaks.narrowPeak').saveas(\n",
    "    '../data/chip_seq_g4/hacat_peaks_rep2.bed')"
   ]
  },
  {
   "cell_type": "code",
   "execution_count": 61,
   "metadata": {
    "ExecuteTime": {
     "end_time": "2017-04-10T17:17:51.016197",
     "start_time": "2017-04-10T22:47:50.726011+05:30"
    },
    "collapsed": true,
    "run_control": {
     "frozen": true,
     "read_only": true
    }
   },
   "outputs": [],
   "source": [
    "!bedtools intersect \\\n",
    "    -a ../data/chip_seq_g4/hacat_peaks_rep1.bed \\\n",
    "    -b ../data/chip_seq_g4/hacat_peaks_rep2.bed | \\\n",
    "    awk 'BEGIN{OFS=\"\\t\"}{print $1,$2,$3}' > ../data/chip_seq_g4/common_peaks.bed"
   ]
  },
  {
   "cell_type": "code",
   "execution_count": 121,
   "metadata": {
    "ExecuteTime": {
     "end_time": "2017-04-10T19:47:08.449735",
     "start_time": "2017-04-11T01:17:08.276987+05:30"
    },
    "run_control": {
     "frozen": true,
     "read_only": true
    }
   },
   "outputs": [
    {
     "name": "stdout",
     "output_type": "stream",
     "text": [
      "11691 ../data/chip_seq_g4/common_peaks.bed\r\n"
     ]
    }
   ],
   "source": [
    "!wc -l ../data/chip_seq_g4/common_peaks.bed"
   ]
  },
  {
   "cell_type": "code",
   "execution_count": 123,
   "metadata": {
    "ExecuteTime": {
     "end_time": "2017-05-15T02:29:31.743590Z",
     "start_time": "2017-05-15T02:23:51.443698Z"
    },
    "run_control": {
     "frozen": true,
     "read_only": true
    }
   },
   "outputs": [
    {
     "name": "stderr",
     "output_type": "stream",
     "text": [
      "100%|██████████| 1000/1000 [05:40<00:00,  2.94it/s]\n"
     ]
    }
   ],
   "source": [
    "peaks_bed = pbt.BedTool('../data/chip_seq_g4/common_peaks.bed')\n",
    "genome_info_fn = '/home/parashar/scratch/hg19_resource/hg19.genome'\n",
    "for i in tqdm(range(1000)):\n",
    "    out_fn = '../data/chip_seq_g4/random_regions/random_peaks_%d.bed' % i\n",
    "    _ = peaks_bed.shuffle(g=genome_info_fn, chrom=True).saveas(out_fn)"
   ]
  },
  {
   "cell_type": "code",
   "execution_count": 120,
   "metadata": {
    "ExecuteTime": {
     "end_time": "2017-05-15T02:23:22.294142Z",
     "start_time": "2017-05-15T02:23:13.480457Z"
    },
    "collapsed": true,
    "run_control": {
     "frozen": true,
     "read_only": true
    }
   },
   "outputs": [],
   "source": [
    "def get_chrom_seq(chrom):\n",
    "    fasta_base_dir ='/home/parashar/scratch/hg19_resource/chromosomes'\n",
    "    chrom_seq = \"\".join([x.rstrip('\\n') for x in\n",
    "               open(\"%s/%s.fa\" % (fasta_base_dir, chrom)).readlines()[1:]]).upper()\n",
    "    return chrom_seq\n",
    "\n",
    "chroms = ['chr'+str(x) for x in range(1,23)] + ['chrX', 'chrY']\n",
    "chrom_name_idx = {x:n for n,x in enumerate(chroms)}\n",
    "chrom_seqs = DVIEW.map_sync(get_chrom_seq, chroms)"
   ]
  },
  {
   "cell_type": "code",
   "execution_count": 124,
   "metadata": {
    "ExecuteTime": {
     "end_time": "2017-05-15T02:30:34.953134Z",
     "start_time": "2017-05-15T02:29:31.750099Z"
    },
    "run_control": {
     "frozen": true,
     "read_only": true
    }
   },
   "outputs": [
    {
     "name": "stderr",
     "output_type": "stream",
     "text": [
      "100%|██████████| 1000/1000 [01:03<00:00, 16.67it/s]\n"
     ]
    }
   ],
   "source": [
    "def extract_seq(bed_file, out_name):\n",
    "    chrom_wise_intervals = {}\n",
    "    for chrom in chroms:\n",
    "        chrom_wise_intervals[chrom] = []\n",
    "    with open (bed_file) as h:\n",
    "        for l in h:\n",
    "            c = l.split('\\t')\n",
    "            if c[0] in chroms:\n",
    "                chrom_wise_intervals[c[0]].append((int(c[1]), int(c[2])))\n",
    "    \n",
    "    sequences = []\n",
    "    for chrom in chroms:\n",
    "        for span in chrom_wise_intervals[chrom]:\n",
    "            sequences.append(chrom_seqs[chrom_name_idx[chrom]][span[0]:span[1]])\n",
    "    with open(out_name, 'w') as OUT:\n",
    "        OUT.write(\"\\n\".join(sequences))\n",
    "    return None\n",
    "\n",
    "_ = extract_seq('../data/chip_seq_g4/common_peaks.bed',\n",
    "            '../data/chip_seq_g4/common_peaks.seq')\n",
    "for i in tqdm(range(1000)):\n",
    "    in_fn = '../data/chip_seq_g4/random_regions/random_peaks_%d.bed' % i\n",
    "    out_fn = '../data/chip_seq_g4/random_regions/random_peaks_%d.seq' % i\n",
    "    _ = extract_seq(in_fn, out_fn)"
   ]
  },
  {
   "cell_type": "markdown",
   "metadata": {
    "ExecuteTime": {
     "end_time": "2016-12-30T04:54:30.263635",
     "start_time": "2016-12-30T04:54:30.258400"
    },
    "run_control": {
     "frozen": false,
     "read_only": false
    }
   },
   "source": [
    "### Lets now calculate the G4Hunter scores of the peaks and random peaks"
   ]
  },
  {
   "cell_type": "code",
   "execution_count": 125,
   "metadata": {
    "ExecuteTime": {
     "end_time": "2017-05-15T02:46:07.130783Z",
     "start_time": "2017-05-15T02:46:07.102136Z"
    },
    "run_control": {
     "frozen": true,
     "read_only": true
    }
   },
   "outputs": [
    {
     "name": "stdout",
     "output_type": "stream",
     "text": [
      "Overwriting G4Hunter_chip_seq_wrapper.py\n"
     ]
    }
   ],
   "source": [
    "%%writefile G4Hunter_chip_seq_wrapper.py\n",
    "\n",
    "import os\n",
    "\n",
    "script = '/home/parashar/scratch/quadcomb/scripts/G4Hunter.r'\n",
    "in_fn = '../data/chip_seq_g4/common_peaks.seq'\n",
    "out_fn = '../data/chip_seq_g4/g4hunter_scores.txt'\n",
    "bsub = \"bsub -n 2 -q debugq -J peaks -o g4hunter_chipseq_logs/peaks.log\"\n",
    "cmd = '%s Rscript %s %s %s' % (bsub, script, in_fn, out_fn)\n",
    "os.system(cmd)\n",
    "\n",
    "for i in range(1000):\n",
    "    in_fn = '../data/chip_seq_g4/random_regions/random_peaks_%d.seq' % i\n",
    "    out_fn = '../data/chip_seq_g4/g4hunter_random/random_%d.txt' % i\n",
    "    bsub = \"bsub -n 2 -q debugq -J %d -o g4hunter_chipseq_logs/%d.log\" % (i, i)\n",
    "    cmd = '%s Rscript %s %s %s' % (bsub, script, in_fn, out_fn)\n",
    "    os.system(cmd)"
   ]
  },
  {
   "cell_type": "code",
   "execution_count": 126,
   "metadata": {
    "ExecuteTime": {
     "end_time": "2017-05-15T02:46:54.103670Z",
     "start_time": "2017-05-15T02:46:19.219768Z"
    },
    "collapsed": true,
    "run_control": {
     "frozen": true,
     "read_only": true
    }
   },
   "outputs": [],
   "source": [
    "! mkdir g4hunter_chipseq_logs\n",
    "! python G4Hunter_chip_seq_wrapper.py\n",
    "clear_output()"
   ]
  },
  {
   "cell_type": "markdown",
   "metadata": {
    "run_control": {
     "frozen": false,
     "read_only": false
    }
   },
   "source": [
    "### Now lets load and the expectation scores and calculate the Expectation scores in each of the G4-Chip and random genomic location of equivalent span. Takes about 1 min for 100 random iterations with 30 cores"
   ]
  },
  {
   "cell_type": "code",
   "execution_count": 132,
   "metadata": {
    "ExecuteTime": {
     "end_time": "2017-05-15T03:00:20.434056Z",
     "start_time": "2017-05-15T02:52:50.026357Z"
    },
    "run_control": {
     "frozen": true,
     "read_only": true
    }
   },
   "outputs": [
    {
     "name": "stdout",
     "output_type": "stream",
     "text": [
      "8125\n"
     ]
    }
   ],
   "source": [
    "def calc_score_in_span(chrom):\n",
    "    import numpy as np\n",
    "    \n",
    "    def load_scores(strand):\n",
    "        in_dir = '/home/parashar/scratch/quadcomb/data/snipr'\n",
    "        fn = '%s/%s_%s_scores.npy' % (in_dir, chrom, strand)\n",
    "        return np.load(fn)\n",
    "\n",
    "    def calc(fn):\n",
    "        ac = 0\n",
    "        scores = []\n",
    "        with open(fn) as h:\n",
    "            for l in h:\n",
    "                c = l.rstrip('\\n').split('\\t')\n",
    "                if c[0] == chrom:\n",
    "                    p = pos[int(c[1]):int(c[2])]\n",
    "                    n = neg[int(c[1]):int(c[2])]\n",
    "                    if p.max() >= 185 or n.max() >= 185:\n",
    "                        ac += 1\n",
    "                    scores.append(p+n)\n",
    "        return scores, ac\n",
    "    \n",
    "    pos = load_scores('positive')\n",
    "    neg = load_scores('negative')\n",
    "    in_dir = '/home/parashar/scratch/quadcomb/data/chip_seq_g4'\n",
    "    peak_s, above_cutoff = calc('%s/common_peaks.bed' % in_dir)\n",
    "    rand_s = []\n",
    "    for i in range(1000):\n",
    "        in_fn = '%s/random_regions/random_peaks_%d.bed' % (in_dir, i)\n",
    "        rand_s.append(calc(in_fn))\n",
    "    return peak_s, rand_s, above_cutoff\n",
    "\n",
    "chroms = ['chr'+str(x) for x in range(1,23)] + ['chrX', 'chrY']\n",
    "res = DVIEW.map_sync(calc_score_in_span, chroms)\n",
    "\n",
    "peak_scores = []\n",
    "random_scores = [[] for x in range(1000)]\n",
    "random_above_cutoff = [0 for x in range(1000)]\n",
    "above_cutoff = []\n",
    "for i in res:\n",
    "    peak_scores.extend(i[0])\n",
    "    for n,j in enumerate(i[1]):\n",
    "        random_scores[n].extend(j[0])\n",
    "        random_above_cutoff[n] += j[1]\n",
    "    above_cutoff.append(i[2])\n",
    "print (sum(above_cutoff))\n",
    "np.save('../data/chip_seq_g4/sniprq_peak_scores', np.array(peak_scores))\n",
    "np.save('../data/chip_seq_g4/sniprq_random_region_scores',  np.array(random_scores))\n",
    "np.save('../data/chip_seq_g4/sniprq_random_region_ac',  np.array(random_above_cutoff))"
   ]
  },
  {
   "cell_type": "markdown",
   "metadata": {
    "run_control": {
     "frozen": false,
     "read_only": false
    }
   },
   "source": [
    "### Now lets calculate the number of G4 motifs of various configurations that occur in Peaks and random regions"
   ]
  },
  {
   "cell_type": "code",
   "execution_count": 2,
   "metadata": {
    "ExecuteTime": {
     "end_time": "2017-06-07T10:21:36.947826Z",
     "start_time": "2017-06-07T10:21:36.912911Z"
    },
    "collapsed": true,
    "run_control": {
     "frozen": false,
     "read_only": false
    }
   },
   "outputs": [],
   "source": [
    "from QuadFinder import QuadMotifFinder"
   ]
  },
  {
   "cell_type": "code",
   "execution_count": 39,
   "metadata": {
    "ExecuteTime": {
     "end_time": "2017-06-07T11:54:57.060401Z",
     "start_time": "2017-06-07T11:54:45.808637Z"
    },
    "collapsed": true,
    "run_control": {
     "frozen": false,
     "read_only": false
    },
    "scrolled": true
   },
   "outputs": [],
   "source": [
    "def get_chrom_seq(chrom):\n",
    "    fasta_base_dir ='/home/parashar/scratch/hg19_resource/chromosomes'\n",
    "    chrom_seq = \"\".join([x.rstrip('\\n') for x in\n",
    "               open(\"%s/%s.fa\" % (fasta_base_dir, chrom)).readlines()[1:]]).upper()\n",
    "    return chrom_seq, len(chrom_seq)\n",
    "\n",
    "def get_chrom_interval(chrom):\n",
    "    intervals = []\n",
    "    with open('../data/chip_seq_g4/common_peaks.bed') as h:\n",
    "        for l in h:\n",
    "            c = l.rstrip('\\n').split('\\t')\n",
    "            if c[0] == chrom:\n",
    "                intervals.append((int(c[1]), int(c[2])))\n",
    "    return intervals\n",
    "\n",
    "def get_random_intervals(chrom_len, intervals):\n",
    "    rand_intervals = []\n",
    "    for i in intervals:\n",
    "        d = i[1] - i[0]\n",
    "        r = np.random.randint(chrom_len-d)\n",
    "        rand_intervals.append((r, r + d))\n",
    "    return rand_intervals\n",
    "\n",
    "def get_g4_motifs(sequences):\n",
    "    q = QuadMotifFinder(sequences, stem=3, loop_start=1, loop_stop=25, greedy=True,\n",
    "                        bulge=5, is_seq=True, strands=['+', '-'], verbose=False)\n",
    "    q.run()\n",
    "    return len(set([x.split('\\t', 1)[0] for x in q.resNov]))\n",
    "    \n",
    "\n",
    "chroms = ['chr'+str(x) for x in range(1,23)] + ['chrX', 'chrY']\n",
    "\n",
    "peak_motifs = 0\n",
    "num_reps = 100\n",
    "random_motifs = [0 for x in range(num_reps)]\n",
    "for chrom in chroms:\n",
    "    chrom_seq, chrom_len = get_chrom_seq(chrom)\n",
    "    intervals = np.array(get_chrom_interval(chrom))\n",
    "    \n",
    "    peak_motifs += get_g4_motifs([chrom_seq[i[0]:i[1]].upper() for i in intervals])\n",
    "    for i in tqdm(range(num_reps), desc=chrom):\n",
    "        select_intervals = intervals[np.random.randint(0, len(intervals), 100)]\n",
    "        rand_intervals = get_random_intervals(chrom_len, select_intervals)\n",
    "        random_motifs[i] += get_g4_motifs([chrom_seq[i[0]:i[1]].upper()\n",
    "                                           for i in rand_intervals])\n",
    "    clear_output()\n",
    "    break"
   ]
  },
  {
   "cell_type": "markdown",
   "metadata": {
    "ExecuteTime": {
     "end_time": "2016-12-30T04:56:19.933767",
     "start_time": "2016-12-30T04:56:19.929345"
    },
    "run_control": {
     "frozen": false,
     "read_only": false
    }
   },
   "source": [
    "### Time to plot data"
   ]
  },
  {
   "cell_type": "code",
   "execution_count": 113,
   "metadata": {
    "ExecuteTime": {
     "end_time": "2017-06-01T13:07:40.248976Z",
     "start_time": "2017-06-01T13:05:05.572609Z"
    },
    "collapsed": true,
    "run_control": {
     "frozen": false,
     "read_only": false
    }
   },
   "outputs": [],
   "source": [
    "peak_sniprq = np.load('../data/chip_seq_g4/sniprq_peak_scores.npy')\n",
    "random_sniprq = np.load('../data/chip_seq_g4/sniprq_random_region_scores.npy')\n",
    "peak_ac = 8125\n",
    "random_ac = np.load('../data/chip_seq_g4/sniprq_random_region_ac.npy')"
   ]
  },
  {
   "cell_type": "code",
   "execution_count": 121,
   "metadata": {
    "ExecuteTime": {
     "end_time": "2017-06-01T13:30:46.134799Z",
     "start_time": "2017-06-01T13:26:20.975397Z"
    },
    "collapsed": true,
    "run_control": {
     "frozen": false,
     "read_only": false
    }
   },
   "outputs": [],
   "source": [
    "mean_peak = np.array([np.mean(x) for x in peak_sniprq])\n",
    "mean_random = []\n",
    "for i in random_sniprq:\n",
    "    mean_random.extend([np.mean(x) for x in i])\n",
    "mean_random = np.array(mean_random)"
   ]
  },
  {
   "cell_type": "code",
   "execution_count": 122,
   "metadata": {
    "ExecuteTime": {
     "end_time": "2017-06-01T13:30:55.469115Z",
     "start_time": "2017-06-01T13:30:46.138241Z"
    },
    "run_control": {
     "frozen": false,
     "read_only": false
    }
   },
   "outputs": [
    {
     "data": {
      "image/png": "[encoded data removed]",
      "text/plain": [
       "<matplotlib.figure.Figure at 0x2baa4514e828>"
      ]
     },
     "metadata": {},
     "output_type": "display_data"
    },
    {
     "data": {
      "text/plain": [
       "(3.0802313147212731e-15, 7.7064696564602573e-12, 4.276794115131298e-06)"
      ]
     },
     "execution_count": 122,
     "metadata": {},
     "output_type": "execute_result"
    }
   ],
   "source": [
    "fig, ax = plt.subplots(1, 1, figsize=(2.2, 2.5))\n",
    "\n",
    "boxprops = dict(linestyle='-', linewidth=1, color='k')\n",
    "whiskerprops = dict(linestyle='--', linewidth=1, color='k')\n",
    "medianprops = dict(linestyle='-', linewidth=1.5, color='crimson')\n",
    "\n",
    "ax.boxplot([mean_peak, mean_random], sym='', widths=[0.5, 0.5],)\n",
    "ax.set_ylabel('Mean SNIPR-Q\\nscore per peak', fontsize=10)\n",
    "ax.set_xticklabels(['G4 Chip-Seq\\npeaks', 'Random\\npeaks'], rotation=45, fontsize=10)\n",
    "clean_axis(ax)\n",
    "\n",
    "plt.tight_layout()\n",
    "plt.savefig('../images/g4_chip_seq_sniprq.svg', transparent=True, edgecolor='none')\n",
    "plt.show()\n",
    "\n",
    "pvals = []\n",
    "for i in range(5000):\n",
    "    pvals.append(mannwhitneyu(\n",
    "        [mean_peak[np.random.randint(len(mean_peak))] for x in range(100)],\n",
    "        [mean_random[np.random.randint(len(mean_random))] for x in range(100)])[1])\n",
    "corrected_pvals = multipletests(pvals, alpha=0.05, method='holm',\n",
    "                                is_sorted=False, returnsorted=False)[1]\n",
    "np.median(pvals), np.median(corrected_pvals), 0.05/mean_peak.shape[0]"
   ]
  },
  {
   "cell_type": "code",
   "execution_count": 123,
   "metadata": {
    "ExecuteTime": {
     "end_time": "2017-06-01T13:30:55.713573Z",
     "start_time": "2017-06-01T13:30:55.472866Z"
    },
    "run_control": {
     "frozen": false,
     "read_only": false
    }
   },
   "outputs": [
    {
     "data": {
      "text/plain": [
       "19.817908117752008"
      ]
     },
     "execution_count": 123,
     "metadata": {},
     "output_type": "execute_result"
    }
   ],
   "source": [
    "np.median(mean_peak)/np.median(mean_random)"
   ]
  },
  {
   "cell_type": "code",
   "execution_count": 124,
   "metadata": {
    "ExecuteTime": {
     "end_time": "2017-06-01T13:32:40.150513Z",
     "start_time": "2017-06-01T13:30:55.716425Z"
    },
    "run_control": {
     "frozen": false,
     "read_only": false
    }
   },
   "outputs": [
    {
     "data": {
      "text/plain": [
       "((11691,), (1000, 11691))"
      ]
     },
     "execution_count": 124,
     "metadata": {},
     "output_type": "execute_result"
    }
   ],
   "source": [
    "max_peak = np.array([np.max(x) for x in peak_sniprq])\n",
    "max_random = np.array([[np.max(y) for y in x] for x in random_sniprq.T]).T\n",
    "max_peak.shape, max_random.shape"
   ]
  },
  {
   "cell_type": "code",
   "execution_count": 154,
   "metadata": {
    "ExecuteTime": {
     "end_time": "2017-06-01T17:31:12.892910Z",
     "start_time": "2017-06-01T17:31:11.769151Z"
    },
    "run_control": {
     "frozen": false,
     "read_only": false
    },
    "scrolled": true
   },
   "outputs": [
    {
     "name": "stderr",
     "output_type": "stream",
     "text": [
      "100%|██████████| 1000/1000 [00:00<00:00, 1975.13it/s]\n"
     ]
    },
    {
     "data": {
      "image/png": "[encoded data removed]",
      "text/plain": [
       "<matplotlib.figure.Figure at 0x2baa61f8d2b0>"
      ]
     },
     "metadata": {},
     "output_type": "display_data"
    },
    {
     "name": "stdout",
     "output_type": "stream",
     "text": [
      "10 [11036, 7429.777] 1.4853743255 5.22062634577e-10\n"
     ]
    }
   ],
   "source": [
    "x = [1,2]\n",
    "for cutoff in [10, 50, 100, 185, 200, 500, 700, 800]:\n",
    "    fig, ax = plt.subplots(1, 1, figsize=(2, 2.4))\n",
    "    max_peak_ac = len(max_peak[max_peak > cutoff])\n",
    "    max_random_ac = [len(x[x > cutoff]) for x in max_random]\n",
    "    y = [max_peak_ac, np.mean(max_random_ac)]\n",
    "    ax.bar(x, y, yerr=[0, np.std(max_random_ac)],\n",
    "           color='grey')\n",
    "    vals = []\n",
    "    for i in tqdm(range(1000)):\n",
    "        rand_ints = [np.random.randint(len(max_peak)) for x in range(100)]\n",
    "        a = max_peak[rand_ints]\n",
    "        b = max_random[i][[rand_ints]]\n",
    "        vals.append((len(a[a > cutoff]), len(b[b > cutoff])))\n",
    "    vals = np.array(vals).T\n",
    "        \n",
    "#     corrected_pvals = multipletests(pvals, alpha=0.05, method='holm',\n",
    "#                                 is_sorted=False, returnsorted=False)[1]\n",
    "    ax.set_ylabel('No. of peaks with\\nSNIPR-Q above %d' % cutoff, fontsize=10)\n",
    "    ax.set_xticklabels(['', 'G4 Chip-Seq\\npeaks', 'Random\\npeaks'],\n",
    "                       rotation=45, fontsize=10, ha='center')\n",
    "    clean_axis(ax)\n",
    "    plt.tight_layout()\n",
    "    plt.savefig('../images/g4_chip_seq_above_cutoff%d.svg' % cutoff,\n",
    "                transparent=True, edgecolor='none')\n",
    "    plt.show()\n",
    "    print (cutoff, y, y[0]/y[1], np.median(corrected_pvals))\n",
    "    break"
   ]
  },
  {
   "cell_type": "code",
   "execution_count": 161,
   "metadata": {
    "ExecuteTime": {
     "end_time": "2017-06-01T17:32:22.515540Z",
     "start_time": "2017-06-01T17:32:22.506390Z"
    },
    "run_control": {
     "frozen": false,
     "read_only": false
    }
   },
   "outputs": [
    {
     "data": {
      "text/plain": [
       "Ks_2sampResult(statistic=1.0, pvalue=0.0)"
      ]
     },
     "execution_count": 161,
     "metadata": {},
     "output_type": "execute_result"
    }
   ],
   "source": [
    "ks_2samp(vals[0], vals[1])"
   ]
  },
  {
   "cell_type": "code",
   "execution_count": 160,
   "metadata": {
    "ExecuteTime": {
     "end_time": "2017-06-01T17:32:18.302133Z",
     "start_time": "2017-06-01T17:32:18.296331Z"
    },
    "collapsed": true,
    "run_control": {
     "frozen": false,
     "read_only": false
    }
   },
   "outputs": [],
   "source": [
    "from scipy.stats import ks_2samp"
   ]
  },
  {
   "cell_type": "markdown",
   "metadata": {
    "run_control": {
     "frozen": false,
     "read_only": false
    }
   },
   "source": [
    "## G4Hunter"
   ]
  },
  {
   "cell_type": "code",
   "execution_count": 12,
   "metadata": {
    "ExecuteTime": {
     "end_time": "2017-05-26T06:18:09.495077Z",
     "start_time": "2017-05-26T06:17:20.971466Z"
    },
    "run_control": {
     "frozen": false,
     "read_only": false
    }
   },
   "outputs": [
    {
     "name": "stderr",
     "output_type": "stream",
     "text": [
      "100%|██████████| 1000/1000 [00:48<00:00, 23.81it/s]\n"
     ]
    }
   ],
   "source": [
    "def load_hunter(fn):\n",
    "    s = []\n",
    "    with open(fn) as h:\n",
    "        next(h)\n",
    "        for l in h:\n",
    "            c = l.rstrip('\\n').split('\\t')\n",
    "            s.append(float(c[1]))\n",
    "    s = np.array(s)\n",
    "    return s\n",
    "\n",
    "peak_hunter_scores = load_hunter('../data/chip_seq_g4/g4hunter_scores.txt')\n",
    "random_hunter_scores = []\n",
    "for i in tqdm(range(1000)):\n",
    "    in_fn = '../data/chip_seq_g4/g4hunter_random/random_%d.txt' % i\n",
    "    random_hunter_scores.append(load_hunter(in_fn))\n",
    "random_hunter_scores = np.array(random_hunter_scores)"
   ]
  },
  {
   "cell_type": "code",
   "execution_count": 13,
   "metadata": {
    "ExecuteTime": {
     "end_time": "2017-05-26T06:18:19.015829Z",
     "start_time": "2017-05-26T06:18:09.498561Z"
    },
    "run_control": {
     "frozen": false,
     "read_only": false
    }
   },
   "outputs": [
    {
     "data": {
      "image/png": "[encoded data removed]",
      "text/plain": [
       "<matplotlib.figure.Figure at 0x2baa3efdcd30>"
      ]
     },
     "metadata": {},
     "output_type": "display_data"
    },
    {
     "data": {
      "text/plain": [
       "(6.1814365163786932e-05, 0.15457914575771728, 4.276794115131298e-06)"
      ]
     },
     "execution_count": 13,
     "metadata": {},
     "output_type": "execute_result"
    }
   ],
   "source": [
    "boxprops = dict(linestyle='-', linewidth=1, color='k')\n",
    "whiskerprops = dict(linestyle='--', linewidth=1, color='k')\n",
    "medianprops = dict(linestyle='-', linewidth=1.5, color='crimson')\n",
    "\n",
    "fig, ax = plt.subplots(1, 1, figsize=(2, 2.5))\n",
    "a = np.abs(peak_hunter_scores)\n",
    "b = np.abs(random_hunter_scores.flatten())\n",
    "ax.boxplot([a, b], sym='', widths=[0.5, 0.5],\n",
    "           boxprops=boxprops, medianprops=medianprops, whiskerprops=whiskerprops)\n",
    "\n",
    "ax.set_ylabel('G4Hunter score\\nper peak', fontsize=10)\n",
    "clean_axis(ax)\n",
    "ax.set_xticklabels(['G4 Chip-Seq\\npeaks', 'Random\\npeaks'], rotation=45, fontsize=10)\n",
    "\n",
    "plt.tight_layout()\n",
    "plt.savefig('../images/g4_chip_seq_hunter_scores.png', dpi=300, transparent=True, edgecolor='none')\n",
    "plt.savefig('../images/g4_chip_seq_hunter_scores.svg', transparent=True, edgecolor='none')\n",
    "plt.show()\n",
    "pvals = []\n",
    "for i in range(5000):\n",
    "    pvals.append(mannwhitneyu([a[np.random.randint(len(a))] for x in range(100)],\n",
    "                 [b[np.random.randint(len(b))] for x in range(100)])[1])\n",
    "corrected_pvals = multipletests(pvals, alpha=0.05, method='holm',\n",
    "                                is_sorted=False, returnsorted=False)[1]\n",
    "np.median(pvals), np.median(corrected_pvals), 0.05/a.shape[0]"
   ]
  },
  {
   "cell_type": "code",
   "execution_count": 14,
   "metadata": {
    "ExecuteTime": {
     "end_time": "2017-05-26T06:18:19.246385Z",
     "start_time": "2017-05-26T06:18:19.019595Z"
    },
    "run_control": {
     "frozen": false,
     "read_only": false
    }
   },
   "outputs": [
    {
     "data": {
      "text/plain": [
       "1.8518518518518521"
      ]
     },
     "execution_count": 14,
     "metadata": {},
     "output_type": "execute_result"
    }
   ],
   "source": [
    "np.median(a)/np.median(b)"
   ]
  },
  {
   "cell_type": "code",
   "execution_count": 15,
   "metadata": {
    "ExecuteTime": {
     "end_time": "2017-05-26T06:18:19.741356Z",
     "start_time": "2017-05-26T06:18:19.250102Z"
    },
    "run_control": {
     "frozen": false,
     "read_only": false
    }
   },
   "outputs": [
    {
     "data": {
      "image/png": "[encoded data removed]",
      "text/plain": [
       "<matplotlib.figure.Figure at 0x2bac0e0556d8>"
      ]
     },
     "metadata": {},
     "output_type": "display_data"
    },
    {
     "name": "stdout",
     "output_type": "stream",
     "text": [
      "[0.26800514498332051, 0.15864944665982381] 1.68929139449 Power_divergenceResult(statistic=7.5424728473817426, pvalue=1.0)\n"
     ]
    }
   ],
   "source": [
    "fig, ax = plt.subplots(1, 1, figsize=(2, 2.4))\n",
    "\n",
    "a = a.mean()\n",
    "b = np.array([np.abs(random_hunter_scores[x]).mean() for x in range(100)])\n",
    "\n",
    "x = [1,2]\n",
    "y = [a, b.mean()]\n",
    "ax.bar(x, y, yerr=[0, b.std()], color='grey')\n",
    "ax.set_ylabel('Average G4Hunter\\n' + 'score per peak', fontsize=10)\n",
    "ax.set_xticklabels(['', 'G4 Chip-Seq\\npeaks', 'Random\\npeaks'],\n",
    "                   rotation=45, fontsize=10, ha='center')\n",
    "clean_axis(ax)\n",
    "plt.tight_layout()\n",
    "plt.savefig('../images/g4_chip_seq_hunter_scores_bootstrap.png',\n",
    "            dpi=300, transparent=True, edgecolor='none')\n",
    "plt.savefig('../images/g4_chip_seq_hunter_scores_bootstrap.svg',\n",
    "            transparent=True, edgecolor='none')\n",
    "plt.show()\n",
    "print (y, y[0]/y[1], chisquare([a], b))"
   ]
  },
  {
   "cell_type": "code",
   "execution_count": 16,
   "metadata": {
    "ExecuteTime": {
     "end_time": "2017-05-26T06:18:19.752151Z",
     "start_time": "2017-05-26T06:18:19.744024Z"
    },
    "run_control": {
     "frozen": false,
     "read_only": false
    }
   },
   "outputs": [
    {
     "name": "stdout",
     "output_type": "stream",
     "text": [
      "4044\n",
      "1731\n"
     ]
    }
   ],
   "source": [
    "a = np.abs(peak_hunter_scores)\n",
    "b = np.abs(random_hunter_scores[0])\n",
    "\n",
    "print (len(a[a > 0.29]))\n",
    "print (len(b[b > 0.29]))"
   ]
  },
  {
   "cell_type": "markdown",
   "metadata": {
    "run_control": {
     "frozen": false,
     "read_only": false
    }
   },
   "source": [
    "## G4 Motifs"
   ]
  },
  {
   "cell_type": "code",
   "execution_count": 45,
   "metadata": {
    "ExecuteTime": {
     "end_time": "2017-06-01T06:52:14.088473Z",
     "start_time": "2017-06-01T06:52:14.026413Z"
    },
    "run_control": {
     "frozen": false,
     "read_only": false
    }
   },
   "outputs": [
    {
     "data": {
      "text/plain": [
       "((24, 2), (24, 2, 100))"
      ]
     },
     "execution_count": 45,
     "metadata": {},
     "output_type": "execute_result"
    }
   ],
   "source": [
    "peak_motifs = np.load('../data/chip_seq_g4/peaks_motifs.npy')\n",
    "random_motifs = np.load('../data/chip_seq_g4/random_peaks_motifs.npy')\n",
    "peak_motifs.shape, random_motifs.shape"
   ]
  },
  {
   "cell_type": "code",
   "execution_count": 78,
   "metadata": {
    "ExecuteTime": {
     "end_time": "2017-06-01T07:36:12.042812Z",
     "start_time": "2017-06-01T07:36:12.032191Z"
    },
    "run_control": {
     "frozen": false,
     "read_only": false
    }
   },
   "outputs": [
    {
     "data": {
      "text/plain": [
       "array([1219,  888,  654,  142,  521,  436,  622,  537,  532,  513,  680,\n",
       "        557,  180,  470,  462,  453,  718,  175,  616,  437,   67,  276,\n",
       "        139,    0])"
      ]
     },
     "execution_count": 78,
     "metadata": {},
     "output_type": "execute_result"
    }
   ],
   "source": [
    "peak_motifs[: ,1]"
   ]
  },
  {
   "cell_type": "code",
   "execution_count": 77,
   "metadata": {
    "ExecuteTime": {
     "end_time": "2017-06-01T07:36:03.056236Z",
     "start_time": "2017-06-01T07:36:03.046240Z"
    },
    "run_control": {
     "frozen": false,
     "read_only": false
    }
   },
   "outputs": [
    {
     "data": {
      "text/plain": [
       "array([ 854.76,  650.74,  474.81,   92.63,  367.56,  307.41,  463.16,\n",
       "        392.28,  355.67,  385.96,  519.  ,  420.61,  102.33,  301.81,\n",
       "        295.63,  334.76,  599.7 ,  119.65,  527.7 ,  347.77,   33.42,\n",
       "        166.05,   94.28,    0.  ])"
      ]
     },
     "execution_count": 77,
     "metadata": {},
     "output_type": "execute_result"
    }
   ],
   "source": [
    "random_motifs[: , 1 ,: ].mean(axis=1)"
   ]
  },
  {
   "cell_type": "code",
   "execution_count": 72,
   "metadata": {
    "ExecuteTime": {
     "end_time": "2017-06-01T07:35:18.927683Z",
     "start_time": "2017-06-01T07:35:18.251527Z"
    },
    "run_control": {
     "frozen": false,
     "read_only": false
    }
   },
   "outputs": [
    {
     "data": {
      "image/png": "[encoded data removed]",
      "text/plain": [
       "<matplotlib.figure.Figure at 0x2baa6f769940>"
      ]
     },
     "metadata": {},
     "output_type": "display_data"
    },
    {
     "name": "stdout",
     "output_type": "stream",
     "text": [
      "[11294, 8207.6900000000005] 1.37602662869 Power_divergenceResult(statistic=3431.1844279818615, pvalue=0.0)\n"
     ]
    }
   ],
   "source": [
    "fig, ax = plt.subplots(1, 1, figsize=(2, 2.4))\n",
    "\n",
    "a = peak_motifs[:, 1].sum()\n",
    "b = random_motifs.sum(axis=0)[1]\n",
    "\n",
    "x = [1,2]\n",
    "y = [a, b.mean()]\n",
    "ax.bar(x, y, yerr=[0, b.std()], color='grey')\n",
    "ax.set_ylabel('Total peaks\\nwith PG4s', fontsize=10)\n",
    "ax.set_xticklabels(['', 'G4 Chip-Seq\\npeaks', 'Random\\npeaks'],\n",
    "                   rotation=45, fontsize=10, ha='center')\n",
    "clean_axis(ax)\n",
    "plt.tight_layout()\n",
    "plt.savefig('../images/g4_chip_seq_g4_motifs_25_3.png',\n",
    "            dpi=300, transparent=True, edgecolor='none')\n",
    "plt.savefig('../images/g4_chip_seq_g4_motifs_25_3.svg',\n",
    "             transparent=True, edgecolor='none')\n",
    "plt.show()\n",
    "print (y, y[0]/y[1], chisquare([a], b[:3]))"
   ]
  },
  {
   "cell_type": "code",
   "execution_count": 25,
   "metadata": {
    "ExecuteTime": {
     "end_time": "2017-05-26T06:37:55.676972Z",
     "start_time": "2017-05-26T06:37:55.665878Z"
    },
    "run_control": {
     "frozen": false,
     "read_only": false
    }
   },
   "outputs": [
    {
     "data": {
      "text/plain": [
       "array([  151.8,   644.1,  1211.2,  3195.9,  6401.4,  7938.5])"
      ]
     },
     "execution_count": 25,
     "metadata": {},
     "output_type": "execute_result"
    }
   ],
   "source": [
    "random_motifs"
   ]
  }
 ],
 "metadata": {
  "kernelspec": {
   "display_name": "Python [default]",
   "language": "python",
   "name": "python3"
  },
  "language_info": {
   "codemirror_mode": {
    "name": "ipython",
    "version": 3
   },
   "file_extension": ".py",
   "mimetype": "text/x-python",
   "name": "python",
   "nbconvert_exporter": "python",
   "pygments_lexer": "ipython3",
   "version": "3.5.2"
  }
 },
 "nbformat": 4,
 "nbformat_minor": 1
}
