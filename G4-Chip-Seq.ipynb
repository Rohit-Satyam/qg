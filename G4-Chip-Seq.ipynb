{
 "cells": [
  {
   "cell_type": "code",
   "execution_count": 13,
   "metadata": {
    "ExecuteTime": {
     "end_time": "2017-05-07T21:26:20.636454Z",
     "start_time": "2017-05-07T21:26:20.586611Z"
    },
    "run_control": {
     "frozen": false,
     "read_only": false
    }
   },
   "outputs": [
    {
     "data": {
      "text/plain": [
       "30"
      ]
     },
     "execution_count": 13,
     "metadata": {},
     "output_type": "execute_result"
    }
   ],
   "source": [
    "import pybedtools as pbt\n",
    "import numpy as np\n",
    "from tqdm import tqdm\n",
    "import glob\n",
    "from IPython.display import clear_output\n",
    "import matplotlib.pyplot as plt\n",
    "from scipy.stats import mannwhitneyu, wilcoxon, ttest_ind, chisquare\n",
    "from ipyparallel import Client\n",
    "\n",
    "plt.style.use('fivethirtyeight')\n",
    "def clean_axis(ax):\n",
    "    ax.xaxis.set_tick_params(labelsize=9)\n",
    "    ax.yaxis.set_tick_params(labelsize=9)\n",
    "    for i in ['top', 'bottom', 'left', 'right']:\n",
    "        ax.spines[i].set_visible(False)\n",
    "    ax.grid(which='major', linestyle='--', alpha=0.5)\n",
    "    return True\n",
    "\n",
    "DVIEW = Client()[:]\n",
    "DVIEW.block=True\n",
    "len(DVIEW)"
   ]
  },
  {
   "cell_type": "markdown",
   "metadata": {
    "run_control": {
     "frozen": false,
     "read_only": false
    }
   },
   "source": [
    "## The objective here is to check whether the expectation scores are higher in g4-chipSeq peaks compared to random peaks and how this compares to G4 motifs detected by QuadParser"
   ]
  },
  {
   "cell_type": "markdown",
   "metadata": {
    "run_control": {
     "frozen": false,
     "read_only": false
    }
   },
   "source": [
    "### We start by first extracting peak sequences and creating random peaks and saving them"
   ]
  },
  {
   "cell_type": "code",
   "execution_count": 45,
   "metadata": {
    "ExecuteTime": {
     "end_time": "2017-04-10T17:08:39.911096",
     "start_time": "2017-04-10T22:38:39.824180+05:30"
    },
    "collapsed": true,
    "run_control": {
     "frozen": true,
     "read_only": true
    }
   },
   "outputs": [],
   "source": [
    "_ = pbt.BedTool('../data/chip_seq_g4/rhh175_ChIPwthacat_704_502_entst_26082015_peaks.narrowPeak').saveas(\n",
    "    '../data/chip_seq_g4/hacat_peaks_rep1.bed')\n",
    "_ = pbt.BedTool('../data/chip_seq_g4/rhh_25cyc_BG4_12082015_peaks.narrowPeak').saveas(\n",
    "    '../data/chip_seq_g4/hacat_peaks_rep2.bed')"
   ]
  },
  {
   "cell_type": "code",
   "execution_count": 61,
   "metadata": {
    "ExecuteTime": {
     "end_time": "2017-04-10T17:17:51.016197",
     "start_time": "2017-04-10T22:47:50.726011+05:30"
    },
    "collapsed": true,
    "run_control": {
     "frozen": true,
     "read_only": true
    }
   },
   "outputs": [],
   "source": [
    "!bedtools intersect \\\n",
    "    -a ../data/chip_seq_g4/hacat_peaks_rep1.bed \\\n",
    "    -b ../data/chip_seq_g4/hacat_peaks_rep2.bed | \\\n",
    "    awk 'BEGIN{OFS=\"\\t\"}{print $1,$2,$3}' > ../data/chip_seq_g4/common_peaks.bed"
   ]
  },
  {
   "cell_type": "code",
   "execution_count": 121,
   "metadata": {
    "ExecuteTime": {
     "end_time": "2017-04-10T19:47:08.449735",
     "start_time": "2017-04-11T01:17:08.276987+05:30"
    },
    "run_control": {
     "frozen": true,
     "read_only": true
    }
   },
   "outputs": [
    {
     "name": "stdout",
     "output_type": "stream",
     "text": [
      "11691 ../data/chip_seq_g4/common_peaks.bed\r\n"
     ]
    }
   ],
   "source": [
    "!wc -l ../data/chip_seq_g4/common_peaks.bed"
   ]
  },
  {
   "cell_type": "code",
   "execution_count": 65,
   "metadata": {
    "ExecuteTime": {
     "end_time": "2017-04-10T17:19:12.682705",
     "start_time": "2017-04-10T22:49:05.161561+05:30"
    },
    "run_control": {
     "frozen": true,
     "read_only": true
    }
   },
   "outputs": [
    {
     "name": "stderr",
     "output_type": "stream",
     "text": [
      "100%|██████████| 100/100 [00:07<00:00, 13.61it/s]\n"
     ]
    }
   ],
   "source": [
    "peaks_bed = pbt.BedTool('../data/chip_seq_g4/common_peaks.bed')\n",
    "genome_info_fn = '/home/parashar/scratch/hg19_resource/hg19.genome'\n",
    "for i in tqdm(range(100)):\n",
    "    out_fn = '../data/chip_seq_g4/random_regions/random_peaks_%d.bed' % i\n",
    "    _ = peaks_bed.shuffle(g=genome_info_fn, chrom=True).saveas(out_fn)"
   ]
  },
  {
   "cell_type": "code",
   "execution_count": 69,
   "metadata": {
    "ExecuteTime": {
     "end_time": "2017-04-10T17:26:04.103560",
     "start_time": "2017-04-10T22:55:55.545438+05:30"
    },
    "collapsed": true,
    "run_control": {
     "frozen": true,
     "read_only": true
    }
   },
   "outputs": [],
   "source": [
    "def get_chrom_seq(chrom):\n",
    "    fasta_base_dir ='/home/parashar/scratch/hg19_resource/chromosomes'\n",
    "    chrom_seq = \"\".join([x.rstrip('\\n') for x in\n",
    "               open(\"%s/%s.fa\" % (fasta_base_dir, chrom)).readlines()[1:]]).upper()\n",
    "    return chrom_seq\n",
    "\n",
    "chroms = ['chr'+str(x) for x in range(1,23)] + ['chrX', 'chrY']\n",
    "chrom_name_idx = {x:n for n,x in enumerate(chroms)}\n",
    "chrom_seqs = DVIEW.map_sync(get_chrom_seq, chroms)"
   ]
  },
  {
   "cell_type": "code",
   "execution_count": 70,
   "metadata": {
    "ExecuteTime": {
     "end_time": "2017-04-10T17:30:58.587948",
     "start_time": "2017-04-10T23:00:51.502405+05:30"
    },
    "run_control": {
     "frozen": true,
     "read_only": true
    }
   },
   "outputs": [
    {
     "name": "stderr",
     "output_type": "stream",
     "text": [
      "100%|██████████| 100/100 [00:06<00:00, 14.86it/s]\n"
     ]
    }
   ],
   "source": [
    "def extract_seq(bed_file, out_name):\n",
    "    chrom_wise_intervals = {}\n",
    "    for chrom in chroms:\n",
    "        chrom_wise_intervals[chrom] = []\n",
    "    with open (bed_file) as h:\n",
    "        for l in h:\n",
    "            c = l.split('\\t')\n",
    "            if c[0] in chroms:\n",
    "                chrom_wise_intervals[c[0]].append((int(c[1]), int(c[2])))\n",
    "    \n",
    "    sequences = []\n",
    "    for chrom in chroms:\n",
    "        for span in chrom_wise_intervals[chrom]:\n",
    "            sequences.append(chrom_seqs[chrom_name_idx[chrom]][span[0]:span[1]])\n",
    "    with open(out_name, 'w') as OUT:\n",
    "        OUT.write(\"\\n\".join(sequences))\n",
    "    return None\n",
    "\n",
    "_ = extract_seq('../data/chip_seq_g4/common_peaks.bed',\n",
    "            '../data/chip_seq_g4/common_peaks.seq')\n",
    "for i in tqdm(range(100)):\n",
    "    in_fn = '../data/chip_seq_g4/random_regions/random_peaks_%d.bed' % i\n",
    "    out_fn = '../data/chip_seq_g4/random_regions/random_peaks_%d.seq' % i\n",
    "    _ = extract_seq(in_fn, out_fn)"
   ]
  },
  {
   "cell_type": "markdown",
   "metadata": {
    "ExecuteTime": {
     "end_time": "2016-12-30T04:54:30.263635",
     "start_time": "2016-12-30T04:54:30.258400"
    },
    "run_control": {
     "frozen": false,
     "read_only": false
    }
   },
   "source": [
    "### Lets now calculate the G4Hunter scores of the peaks and random peaks"
   ]
  },
  {
   "cell_type": "code",
   "execution_count": 12,
   "metadata": {
    "ExecuteTime": {
     "end_time": "2017-04-10T17:52:24.579041",
     "start_time": "2017-04-10T23:22:24.570095+05:30"
    },
    "run_control": {
     "frozen": true,
     "read_only": true
    }
   },
   "outputs": [
    {
     "name": "stdout",
     "output_type": "stream",
     "text": [
      "Overwriting G4Hunter_chip_seq_wrapper.py\n"
     ]
    }
   ],
   "source": [
    "%%writefile G4Hunter_chip_seq_wrapper.py\n",
    "\n",
    "import os\n",
    "\n",
    "script = '/home/parashar/scratch/quadcomb/scripts/G4Hunter.r'\n",
    "in_fn = '../data/chip_seq_g4/common_peaks.seq'\n",
    "out_fn = '../data/chip_seq_g4/g4hunter_scores.txt'\n",
    "bsub = \"bsub -n 2 -q debugq -J peaks -o g4hunter_chipseq_logs/peaks.log\"\n",
    "cmd = '%s Rscript %s %s %s' % (bsub, script, in_fn, out_fn)\n",
    "os.system(cmd)\n",
    "\n",
    "for i in range(100):\n",
    "    in_fn = '../data/chip_seq_g4/random_regions/random_peaks_%d.seq' % i\n",
    "    out_fn = '../data/chip_seq_g4/g4hunter_random/random_%d.txt' % i\n",
    "    bsub = \"bsub -n 2 -q debugq -J %d -o g4hunter_chipseq_logs/%d.log\" % (i, i)\n",
    "    cmd = '%s Rscript %s %s %s' % (bsub, script, in_fn, out_fn)\n",
    "    os.system(cmd)"
   ]
  },
  {
   "cell_type": "code",
   "execution_count": null,
   "metadata": {
    "ExecuteTime": {
     "end_time": "2017-04-10T17:52:29.005162",
     "start_time": "2017-04-10T23:22:25.961280+05:30"
    },
    "collapsed": true,
    "run_control": {
     "frozen": true,
     "read_only": true
    }
   },
   "outputs": [],
   "source": [
    "! mkdir g4hunter_chipseq_logs\n",
    "! python G4Hunter_chip_seq_wrapper.py\n",
    "clear_output()"
   ]
  },
  {
   "cell_type": "markdown",
   "metadata": {
    "run_control": {
     "frozen": false,
     "read_only": false
    }
   },
   "source": [
    "### Now lets load and the expectation scores and calculate the Expectation scores in each of the G4-Chip and random genomic location of equivalent span. Takes about 30 mins for 100 random iterations with 30 cores"
   ]
  },
  {
   "cell_type": "code",
   "execution_count": 2,
   "metadata": {
    "ExecuteTime": {
     "end_time": "2017-05-03T09:58:34.876331Z",
     "start_time": "2017-05-03T09:29:05.638393Z"
    },
    "run_control": {
     "frozen": true,
     "read_only": true
    }
   },
   "outputs": [
    {
     "name": "stdout",
     "output_type": "stream",
     "text": [
      "7914\n"
     ]
    }
   ],
   "source": [
    "def calc_score_in_span(chrom):\n",
    "    import numpy as np\n",
    "    \n",
    "    def load_scores(strand):\n",
    "        in_dir = '/home/parashar/scratch/quadcomb/data/sniprq_scores'\n",
    "        fn = '%s/%s_%s.npy' % (in_dir, chrom, strand)\n",
    "        return np.load(fn)\n",
    "\n",
    "    def calc(fn):\n",
    "        ac = 0\n",
    "        scores = []\n",
    "        with open(fn) as h:\n",
    "            for l in h:\n",
    "                c = l.rstrip('\\n').split('\\t')\n",
    "                if c[0] == chrom:\n",
    "                    p = pos[int(c[1]):int(c[2])]\n",
    "                    n = neg[int(c[1]):int(c[2])]\n",
    "                    if p.max() >= 25 or n.max() >= 25:\n",
    "                        ac += 1\n",
    "                    scores.append(sum(p+n))\n",
    "        return scores, ac\n",
    "    \n",
    "    pos = load_scores('positive')\n",
    "    neg = load_scores('negative')\n",
    "    in_dir = '/home/parashar/scratch/quadcomb/data/chip_seq_g4'\n",
    "    peak_s, above_cutoff = calc('%s/common_peaks.bed' % in_dir)\n",
    "    rand_s = []\n",
    "    for i in range(100):\n",
    "        in_fn = '%s/random_regions/random_peaks_%d.bed' % (in_dir, i)\n",
    "        rand_s.append(calc(in_fn))\n",
    "    return peak_s, rand_s, above_cutoff\n",
    "\n",
    "chroms = ['chr'+str(x) for x in range(1,23)] + ['chrX', 'chrY']\n",
    "res = DVIEW.map_sync(calc_score_in_span, chroms)\n",
    "\n",
    "peak_scores = []\n",
    "random_scores = [[] for x in range(100)]\n",
    "random_above_cutoff = [0 for x in range(100)]\n",
    "above_cutoff = []\n",
    "for i in res:\n",
    "    peak_scores.extend(i[0])\n",
    "    for n,j in enumerate(i[1]):\n",
    "        random_scores[n].extend(j[0])\n",
    "        random_above_cutoff[n] += j[1]\n",
    "    above_cutoff.append(i[2])\n",
    "print (sum(above_cutoff))\n",
    "np.save('../data/chip_seq_g4/sniprq_peak_scores', np.array(peak_scores))\n",
    "np.save('../data/chip_seq_g4/sniprq_random_region_scores',  np.array(random_scores))\n",
    "np.save('../data/chip_seq_g4/sniprq_random_region_ac',  np.array(random_above_cutoff))"
   ]
  },
  {
   "cell_type": "markdown",
   "metadata": {
    "run_control": {
     "frozen": false,
     "read_only": false
    }
   },
   "source": [
    "### Now lets calculate the number of G4 motifs of various configurations that occur in Peaks and random regions"
   ]
  },
  {
   "cell_type": "code",
   "execution_count": null,
   "metadata": {
    "ExecuteTime": {
     "end_time": "2017-05-03T11:52:40.317518Z",
     "start_time": "2017-05-03T11:25:05.234628Z"
    },
    "collapsed": true,
    "run_control": {
     "frozen": true,
     "read_only": true
    }
   },
   "outputs": [],
   "source": [
    "g4_base_dir = '/home/parashar/scratch/quadruplexes/hg19'\n",
    "\n",
    "peak_motifs = []\n",
    "random_motifs = []\n",
    "chroms = ['chr'+str(x) for x in range(1,23)] + ['chrX', 'chrY']\n",
    "chrom_info_file = '/home/parashar/scratch/hg19_resource/hg19.genome'\n",
    "chrom_info = [x.rstrip('\\n').split('\\t') for x in\n",
    "              open(chrom_info_file).readlines()]\n",
    "chrom_info = {x[0]: (0, int(x[1])) for x in chrom_info}\n",
    "\n",
    "peaks_bed = pbt.BedTool('../data/chip_seq_g4/common_peaks.bed').set_chromsizes(chrom_info)\n",
    "for chrom in chroms:\n",
    "    chrom_wise = []\n",
    "    chrom_wise_random = []\n",
    "    for bulge in [0, 3]:\n",
    "        for loop in [5, 15, 25]:\n",
    "            print (chrom, loop, bulge)\n",
    "            g4_motifs = pbt.BedTool('%s/g3_%s_%s_%s_nov.bed' % (g4_base_dir, loop, bulge, chrom))\n",
    "            chrom_wise.append(peaks_bed.intersect(g4_motifs, u=True).count())\n",
    "            chrom_wise_random.append(np.mean(list(\n",
    "                        peaks_bed.randomintersection(g4_motifs, iterations=10, processes=15,\n",
    "                                                     shuffle_kwargs={'chrom': False})\n",
    "            )))\n",
    "            clear_output()\n",
    "    peak_motifs.append(list(chrom_wise))\n",
    "    random_motifs.append(list(chrom_wise_random))\n",
    "\n",
    "peak_motifs = np.array(peak_motifs)\n",
    "random_motifs = np.array(random_motifs)\n",
    "\n",
    "np.save('../data/chip_seq_g4/peaks_motifs', peak_motifs.sum(axis=0))\n",
    "np.save('../data/chip_seq_g4/random_peaks_motifs', random_motifs.sum(axis=0))"
   ]
  },
  {
   "cell_type": "markdown",
   "metadata": {
    "ExecuteTime": {
     "end_time": "2016-12-30T04:56:19.933767",
     "start_time": "2016-12-30T04:56:19.929345"
    },
    "run_control": {
     "frozen": false,
     "read_only": false
    }
   },
   "source": [
    "### Time to plot data"
   ]
  },
  {
   "cell_type": "code",
   "execution_count": 18,
   "metadata": {
    "ExecuteTime": {
     "end_time": "2017-05-07T22:06:07.296788Z",
     "start_time": "2017-05-07T22:06:07.269187Z"
    },
    "collapsed": true,
    "run_control": {
     "frozen": false,
     "read_only": false
    }
   },
   "outputs": [],
   "source": [
    "peak_sniprq = np.load('../data/chip_seq_g4/sniprq_peak_scores.npy')\n",
    "random_sniprq = np.load('../data/chip_seq_g4/sniprq_random_region_scores.npy')\n",
    "peak_ac = 7914\n",
    "random_ac = np.load('../data/chip_seq_g4/sniprq_random_region_ac.npy')"
   ]
  },
  {
   "cell_type": "code",
   "execution_count": 60,
   "metadata": {
    "ExecuteTime": {
     "end_time": "2017-05-07T22:39:42.347332Z",
     "start_time": "2017-05-07T22:39:41.871476Z"
    },
    "run_control": {
     "frozen": false,
     "read_only": false
    }
   },
   "outputs": [
    {
     "data": {
      "image/png": "[encoded data removed]",
      "text/plain": [
       "<matplotlib.figure.Figure at 0x2b5f26d5f6d8>"
      ]
     },
     "metadata": {},
     "output_type": "display_data"
    }
   ],
   "source": [
    "fig, ax = plt.subplots(1, 1, figsize=(2.2, 2.5))\n",
    "\n",
    "boxprops = dict(linestyle='-', linewidth=1, color='k')\n",
    "whiskerprops = dict(linestyle='--', linewidth=1, color='k')\n",
    "medianprops = dict(linestyle='-', linewidth=1.5, color='crimson')\n",
    "\n",
    "ax.boxplot([peak_sniprq, random_sniprq[1]], sym='', widths=[0.5, 0.5],)\n",
    "ax.set_ylabel('Total SNIPR-Q\\nscore per peak', fontsize=10)\n",
    "ax.set_xticklabels(['G4 Chip-Seq\\npeaks', 'Random\\npeaks'], rotation=45, fontsize=10)\n",
    "clean_axis(ax)\n",
    "\n",
    "plt.tight_layout()\n",
    "plt.savefig('../images/g4_chip_seq_sniprq.png', dpi=300, transparent=True, edgecolor='none')\n",
    "plt.savefig('../images/g4_chip_seq_sniprq.svg', transparent=True, edgecolor='none')\n",
    "plt.show()"
   ]
  },
  {
   "cell_type": "code",
   "execution_count": 62,
   "metadata": {
    "ExecuteTime": {
     "end_time": "2017-05-07T22:40:00.484831Z",
     "start_time": "2017-05-07T22:40:00.464275Z"
    }
   },
   "outputs": [
    {
     "data": {
      "text/plain": [
       "MannwhitneyuResult(statistic=29328403.5, pvalue=0.0)"
      ]
     },
     "execution_count": 62,
     "metadata": {},
     "output_type": "execute_result"
    }
   ],
   "source": [
    "mannwhitneyu(peak_sniprq, random_sniprq[1])"
   ]
  },
  {
   "cell_type": "code",
   "execution_count": 49,
   "metadata": {
    "ExecuteTime": {
     "end_time": "2017-05-07T22:24:48.208844Z",
     "start_time": "2017-05-07T22:24:47.738743Z"
    },
    "run_control": {
     "frozen": false,
     "read_only": false
    }
   },
   "outputs": [
    {
     "data": {
      "image/png": "[encoded data removed]",
      "text/plain": [
       "<matplotlib.figure.Figure at 0x2b5f26c629b0>"
      ]
     },
     "metadata": {},
     "output_type": "display_data"
    },
    {
     "name": "stdout",
     "output_type": "stream",
     "text": [
      "[7914, 2997.1599999999999] 2.64049967302 Power_divergenceResult(statistic=807199.38521986955, pvalue=0.0)\n"
     ]
    }
   ],
   "source": [
    "fig, ax = plt.subplots(1, 1, figsize=(2, 2.4))\n",
    "x = [1,2]\n",
    "y = [peak_ac, random_ac.mean()]\n",
    "ax.bar(x, y, yerr=[0, random_ac.std()], color='grey')\n",
    "ax.set_ylabel('No. of peaks with\\nSNIPR-Q above 25', fontsize=10)\n",
    "ax.set_xticklabels(['', 'G4 Chip-Seq\\npeaks', 'Random\\npeaks'],\n",
    "                   rotation=45, fontsize=10, ha='center')\n",
    "clean_axis(ax)\n",
    "plt.tight_layout()\n",
    "plt.savefig('../images/g4_chip_seq_above_cutoff.png',\n",
    "            dpi=300, transparent=True, edgecolor='none')\n",
    "plt.savefig('../images/g4_chip_seq_above_cutoff.svg',\n",
    "            transparent=True, edgecolor='none')\n",
    "plt.show()\n",
    "print (y, y[0]/y[1], chisquare([y[0]], random_ac))"
   ]
  },
  {
   "cell_type": "code",
   "execution_count": null,
   "metadata": {
    "collapsed": true
   },
   "outputs": [],
   "source": []
  },
  {
   "cell_type": "code",
   "execution_count": 21,
   "metadata": {
    "ExecuteTime": {
     "end_time": "2017-05-07T22:06:23.616972Z",
     "start_time": "2017-05-07T22:06:23.125991Z"
    },
    "run_control": {
     "frozen": false,
     "read_only": false
    }
   },
   "outputs": [
    {
     "data": {
      "image/png": "[encoded data removed]",
      "text/plain": [
       "<matplotlib.figure.Figure at 0x2b5f26c3e240>"
      ]
     },
     "metadata": {},
     "output_type": "display_data"
    },
    {
     "name": "stdout",
     "output_type": "stream",
     "text": [
      "[4073.2637926610214, 762.67216320246348] 5.34077941898 Power_divergenceResult(statistic=1439220.5981075901, pvalue=0.0)\n"
     ]
    }
   ],
   "source": [
    "fig, ax = plt.subplots(1, 1, figsize=(2, 2.4))\n",
    "x = [1,2]\n",
    "y = [peak_sniprq.mean(), random_sniprq.mean()]\n",
    "ax.bar(x, y, yerr=[0, random_sniprq.mean(axis=1).std()], color='grey')\n",
    "ax.set_ylabel('Average cumulative\\nSNIPR-Q score per peak', fontsize=10)\n",
    "ax.set_xticklabels(['', 'G4 Chip-Seq\\npeaks', 'Random\\npeaks'],\n",
    "                   rotation=45, fontsize=10, ha='center')\n",
    "clean_axis(ax)\n",
    "plt.tight_layout()\n",
    "plt.savefig('../images/g4_chip_seq_sniprq_scores_bootstrap.png',\n",
    "            dpi=300, transparent=True, edgecolor='none')\n",
    "plt.savefig('../images/g4_chip_seq_sniprq_scores_bootstrap.svg',\n",
    "            transparent=True, edgecolor='none')\n",
    "plt.show()\n",
    "print (y, y[0]/y[1], chisquare([peak_sniprq.mean()], random_sniprq.mean(axis=1)))"
   ]
  },
  {
   "cell_type": "code",
   "execution_count": 50,
   "metadata": {
    "ExecuteTime": {
     "end_time": "2017-05-07T22:25:29.453862Z",
     "start_time": "2017-05-07T22:25:29.058180Z"
    }
   },
   "outputs": [
    {
     "data": {
      "text/plain": [
       "(7.6575455730667557, 0.0)"
      ]
     },
     "execution_count": 50,
     "metadata": {},
     "output_type": "execute_result"
    }
   ],
   "source": [
    "fisher_exact([\n",
    "    [4073, 11691-4073],\n",
    "    [763, 11691-763]\n",
    "])"
   ]
  },
  {
   "cell_type": "code",
   "execution_count": 22,
   "metadata": {
    "ExecuteTime": {
     "end_time": "2017-05-07T22:06:29.161774Z",
     "start_time": "2017-05-07T22:06:26.725576Z"
    },
    "run_control": {
     "frozen": false,
     "read_only": false
    }
   },
   "outputs": [
    {
     "name": "stderr",
     "output_type": "stream",
     "text": [
      "100%|██████████| 100/100 [00:02<00:00, 42.08it/s]\n"
     ]
    }
   ],
   "source": [
    "def load_hunter(fn):\n",
    "    s = []\n",
    "    with open(fn) as h:\n",
    "        next(h)\n",
    "        for l in h:\n",
    "            c = l.rstrip('\\n').split('\\t')\n",
    "            s.append(float(c[1]))\n",
    "    s = np.array(s)\n",
    "    return s\n",
    "\n",
    "peak_hunter_scores = load_hunter('../data/chip_seq_g4/g4hunter_scores.txt')\n",
    "random_hunter_scores = []\n",
    "for i in tqdm(range(100)):\n",
    "    in_fn = '../data/chip_seq_g4/g4hunter_random/random_%d.txt' % i\n",
    "    random_hunter_scores.append(load_hunter(in_fn))\n",
    "random_hunter_scores = np.array(random_hunter_scores)"
   ]
  },
  {
   "cell_type": "code",
   "execution_count": 23,
   "metadata": {
    "ExecuteTime": {
     "end_time": "2017-05-07T22:06:30.157182Z",
     "start_time": "2017-05-07T22:06:29.662653Z"
    },
    "run_control": {
     "frozen": false,
     "read_only": false
    }
   },
   "outputs": [
    {
     "data": {
      "image/png": "[encoded data removed]",
      "text/plain": [
       "<matplotlib.figure.Figure at 0x2b5f26aaf780>"
      ]
     },
     "metadata": {},
     "output_type": "display_data"
    },
    {
     "data": {
      "text/plain": [
       "MannwhitneyuResult(statistic=46916088.5, pvalue=0.0)"
      ]
     },
     "execution_count": 23,
     "metadata": {},
     "output_type": "execute_result"
    }
   ],
   "source": [
    "boxprops = dict(linestyle='-', linewidth=1, color='k')\n",
    "whiskerprops = dict(linestyle='--', linewidth=1, color='k')\n",
    "medianprops = dict(linestyle='-', linewidth=1.5, color='crimson')\n",
    "\n",
    "fig, ax = plt.subplots(1, 1, figsize=(2, 2.5))\n",
    "a = np.abs(peak_hunter_scores)\n",
    "b = np.abs(random_hunter_scores[0])\n",
    "ax.boxplot([a, b], sym='', widths=[0.5, 0.5],\n",
    "           boxprops=boxprops, medianprops=medianprops, whiskerprops=whiskerprops)\n",
    "\n",
    "ax.set_ylabel('G4Hunter score\\nper peak', fontsize=10)\n",
    "clean_axis(ax)\n",
    "ax.set_xticklabels(['G4 Chip-Seq\\npeaks', 'Random\\npeaks'], rotation=45, fontsize=10)\n",
    "\n",
    "plt.tight_layout()\n",
    "plt.savefig('../images/g4_chip_seq_hunter_scores.png', dpi=300, transparent=True, edgecolor='none')\n",
    "plt.savefig('../images/g4_chip_seq_hunter_scores.svg', transparent=True, edgecolor='none')\n",
    "plt.show()\n",
    "mannwhitneyu(a ,b)"
   ]
  },
  {
   "cell_type": "code",
   "execution_count": 24,
   "metadata": {
    "ExecuteTime": {
     "end_time": "2017-05-07T22:06:32.014421Z",
     "start_time": "2017-05-07T22:06:31.532917Z"
    },
    "run_control": {
     "frozen": false,
     "read_only": false
    }
   },
   "outputs": [
    {
     "data": {
      "image/png": "[encoded data removed]",
      "text/plain": [
       "<matplotlib.figure.Figure at 0x2b5f26d28208>"
      ]
     },
     "metadata": {},
     "output_type": "display_data"
    },
    {
     "name": "stdout",
     "output_type": "stream",
     "text": [
      "[0.26800514498332051, 0.15856010839192539] 1.69024319989 Power_divergenceResult(statistic=7.5597859459017211, pvalue=1.0)\n"
     ]
    }
   ],
   "source": [
    "fig, ax = plt.subplots(1, 1, figsize=(2, 2.4))\n",
    "\n",
    "a = a.mean()\n",
    "b = np.array([np.abs(random_hunter_scores[x]).mean() for x in range(100)])\n",
    "\n",
    "x = [1,2]\n",
    "y = [a, b.mean()]\n",
    "ax.bar(x, y, yerr=[0, b.std()], color='grey')\n",
    "ax.set_ylabel('Average G4Hunter\\n' + 'score per peak', fontsize=10)\n",
    "ax.set_xticklabels(['', 'G4 Chip-Seq\\npeaks', 'Random\\npeaks'],\n",
    "                   rotation=45, fontsize=10, ha='center')\n",
    "clean_axis(ax)\n",
    "plt.tight_layout()\n",
    "plt.savefig('../images/g4_chip_seq_hunter_scores_bootstrap.png',\n",
    "            dpi=300, transparent=True, edgecolor='none')\n",
    "plt.savefig('../images/g4_chip_seq_hunter_scores_bootstrap.svg',\n",
    "            transparent=True, edgecolor='none')\n",
    "plt.show()\n",
    "print (y, y[0]/y[1], chisquare([a], b))"
   ]
  },
  {
   "cell_type": "code",
   "execution_count": 136,
   "metadata": {
    "ExecuteTime": {
     "end_time": "2017-05-03T11:07:20.995131Z",
     "start_time": "2017-05-03T11:07:20.986463Z"
    },
    "run_control": {
     "frozen": false,
     "read_only": false
    }
   },
   "outputs": [
    {
     "name": "stdout",
     "output_type": "stream",
     "text": [
      "4044\n",
      "1851\n"
     ]
    }
   ],
   "source": [
    "a = np.abs(peak_hunter_scores)\n",
    "b = np.abs(random_hunter_scores[0])\n",
    "\n",
    "print (len(a[a > 0.29]))\n",
    "print (len(b[b > 0.29]))"
   ]
  },
  {
   "cell_type": "code",
   "execution_count": 3,
   "metadata": {
    "ExecuteTime": {
     "end_time": "2017-05-03T12:03:09.266108Z",
     "start_time": "2017-05-03T12:03:09.251620Z"
    },
    "collapsed": true,
    "run_control": {
     "frozen": false,
     "read_only": false
    }
   },
   "outputs": [],
   "source": [
    "peak_motifs = np.load('../data/chip_seq_g4/peaks_motifs.npy')\n",
    "random_motifs = np.load('../data/chip_seq_g4/random_peaks_motifs.npy')"
   ]
  },
  {
   "cell_type": "code",
   "execution_count": 37,
   "metadata": {
    "ExecuteTime": {
     "end_time": "2017-05-07T22:12:33.872366Z",
     "start_time": "2017-05-07T22:12:33.428243Z"
    }
   },
   "outputs": [
    {
     "data": {
      "image/png": "[encoded data removed]",
      "text/plain": [
       "<matplotlib.figure.Figure at 0x2b5f26c12048>"
      ]
     },
     "metadata": {},
     "output_type": "display_data"
    },
    {
     "name": "stdout",
     "output_type": "stream",
     "text": [
      "[10968, 6891.3000000000011] 1.59157198206 Power_divergenceResult(statistic=2411.6614992817013, pvalue=nan)\n"
     ]
    }
   ],
   "source": [
    "fig, ax = plt.subplots(1, 1, figsize=(2, 2.4))\n",
    "\n",
    "a = peak_motifs[-1]\n",
    "b = random_motifs[-1]\n",
    "\n",
    "x = [1,2]\n",
    "y = [a, b.mean()]\n",
    "ax.bar(x, y, yerr=[0, 200], color='grey')\n",
    "ax.set_ylabel('Total peaks with PG4s', fontsize=10)\n",
    "ax.set_xticklabels(['', 'G4 Chip-Seq\\npeaks', 'Random\\npeaks'],\n",
    "                   rotation=45, fontsize=10, ha='center')\n",
    "clean_axis(ax)\n",
    "plt.tight_layout()\n",
    "plt.savefig('../images/g4_chip_seq_g4_motifs_25_3.png',\n",
    "            dpi=300, transparent=True, edgecolor='none')\n",
    "plt.savefig('../images/g4_chip_seq_g4_motifs_25_3.svg',\n",
    "             transparent=True, edgecolor='none')\n",
    "plt.show()\n",
    "print (y, y[0]/y[1], chisquare([a], b))"
   ]
  },
  {
   "cell_type": "code",
   "execution_count": 39,
   "metadata": {
    "ExecuteTime": {
     "end_time": "2017-05-07T22:21:19.044502Z",
     "start_time": "2017-05-07T22:21:19.038363Z"
    },
    "run_control": {
     "frozen": false,
     "read_only": false
    }
   },
   "outputs": [],
   "source": [
    "from scipy.stats import fisher_exact"
   ]
  },
  {
   "cell_type": "code",
   "execution_count": 53,
   "metadata": {
    "ExecuteTime": {
     "end_time": "2017-05-07T22:26:21.612784Z",
     "start_time": "2017-05-07T22:26:21.202026Z"
    },
    "run_control": {
     "frozen": false,
     "read_only": false
    }
   },
   "outputs": [
    {
     "data": {
      "text/plain": [
       "(10.566913003972347, 0.0)"
      ]
     },
     "execution_count": 53,
     "metadata": {},
     "output_type": "execute_result"
    }
   ],
   "source": [
    "fisher_exact([\n",
    "    [10968, 11691-10968],\n",
    "    [6891, 11691-6891]\n",
    "])"
   ]
  },
  {
   "cell_type": "code",
   "execution_count": 40,
   "metadata": {
    "ExecuteTime": {
     "end_time": "2017-05-07T22:21:40.307382Z",
     "start_time": "2017-05-07T22:21:40.296173Z"
    }
   },
   "outputs": [
    {
     "data": {
      "text/plain": [
       "array([ 1055,  3535,  5285,  7323, 10033, 10968])"
      ]
     },
     "execution_count": 40,
     "metadata": {},
     "output_type": "execute_result"
    }
   ],
   "source": [
    "peak_motifs"
   ]
  },
  {
   "cell_type": "code",
   "execution_count": 63,
   "metadata": {
    "ExecuteTime": {
     "end_time": "2017-05-07T22:51:05.692074Z",
     "start_time": "2017-05-07T22:51:05.681759Z"
    }
   },
   "outputs": [
    {
     "data": {
      "text/plain": [
       "0.6769309725429817"
      ]
     },
     "execution_count": 63,
     "metadata": {},
     "output_type": "execute_result"
    }
   ],
   "source": [
    "7914/11691"
   ]
  },
  {
   "cell_type": "code",
   "execution_count": null,
   "metadata": {
    "collapsed": true
   },
   "outputs": [],
   "source": []
  }
 ],
 "metadata": {
  "kernelspec": {
   "display_name": "Python [default]",
   "language": "python",
   "name": "python3"
  },
  "language_info": {
   "codemirror_mode": {
    "name": "ipython",
    "version": 3
   },
   "file_extension": ".py",
   "mimetype": "text/x-python",
   "name": "python",
   "nbconvert_exporter": "python",
   "pygments_lexer": "ipython3",
   "version": "3.5.2"
  }
 },
 "nbformat": 4,
 "nbformat_minor": 1
}
