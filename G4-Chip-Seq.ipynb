{
 "cells": [
  {
   "cell_type": "code",
   "execution_count": 1,
   "metadata": {
    "ExecuteTime": {
     "end_time": "2017-04-10T18:48:47.235784",
     "start_time": "2017-04-11T00:18:44.594231+05:30"
    },
    "collapsed": false,
    "run_control": {
     "frozen": false,
     "read_only": false
    }
   },
   "outputs": [
    {
     "data": {
      "text/plain": [
       "28"
      ]
     },
     "execution_count": 1,
     "metadata": {},
     "output_type": "execute_result"
    }
   ],
   "source": [
    "import pybedtools as pbt\n",
    "import numpy as np\n",
    "from tqdm import tqdm\n",
    "import glob\n",
    "from IPython.display import clear_output\n",
    "import matplotlib.pyplot as plt\n",
    "from scipy.stats import mannwhitneyu, wilcoxon, ttest_ind, chisquare\n",
    "from ipyparallel import Client\n",
    "\n",
    "plt.style.use('fivethirtyeight')\n",
    "def clean_axis(ax):\n",
    "    ax.xaxis.set_tick_params(labelsize=9)\n",
    "    ax.yaxis.set_tick_params(labelsize=9)\n",
    "    for i in ['top', 'bottom', 'left', 'right']:\n",
    "        ax.spines[i].set_visible(False)\n",
    "    ax.grid(which='major', linestyle='--', alpha=0.5)\n",
    "    return True\n",
    "\n",
    "DVIEW = Client()[:]\n",
    "DVIEW.block=True\n",
    "len(DVIEW)"
   ]
  },
  {
   "cell_type": "markdown",
   "metadata": {},
   "source": [
    "## The objective here is to check whether the expectation scores are higher in g4-chipSeq peaks compared to random peaks and how this compares to G4 motifs detected by QuadParser"
   ]
  },
  {
   "cell_type": "markdown",
   "metadata": {},
   "source": [
    "### We start by first extracting peak sequences and creating random peaks and saving them"
   ]
  },
  {
   "cell_type": "code",
   "execution_count": 45,
   "metadata": {
    "ExecuteTime": {
     "end_time": "2017-04-10T17:08:39.911096",
     "start_time": "2017-04-10T22:38:39.824180+05:30"
    },
    "collapsed": false,
    "run_control": {
     "frozen": true,
     "read_only": true
    }
   },
   "outputs": [],
   "source": [
    "_ = pbt.BedTool('../data/chip_seq_g4/rhh175_ChIPwthacat_704_502_entst_26082015_peaks.narrowPeak').saveas(\n",
    "    '../data/chip_seq_g4/hacat_peaks_rep1.bed')\n",
    "_ = pbt.BedTool('../data/chip_seq_g4/rhh_25cyc_BG4_12082015_peaks.narrowPeak').saveas(\n",
    "    '../data/chip_seq_g4/hacat_peaks_rep2.bed')"
   ]
  },
  {
   "cell_type": "code",
   "execution_count": 61,
   "metadata": {
    "ExecuteTime": {
     "end_time": "2017-04-10T17:17:51.016197",
     "start_time": "2017-04-10T22:47:50.726011+05:30"
    },
    "collapsed": false,
    "run_control": {
     "frozen": true,
     "read_only": true
    }
   },
   "outputs": [],
   "source": [
    "!bedtools intersect \\\n",
    "    -a ../data/chip_seq_g4/hacat_peaks_rep1.bed \\\n",
    "    -b ../data/chip_seq_g4/hacat_peaks_rep2.bed | \\\n",
    "    awk 'BEGIN{OFS=\"\\t\"}{print $1,$2,$3}' > ../data/chip_seq_g4/common_peaks.bed"
   ]
  },
  {
   "cell_type": "code",
   "execution_count": 121,
   "metadata": {
    "ExecuteTime": {
     "end_time": "2017-04-10T19:47:08.449735",
     "start_time": "2017-04-11T01:17:08.276987+05:30"
    },
    "collapsed": false,
    "run_control": {
     "frozen": true,
     "read_only": true
    }
   },
   "outputs": [
    {
     "name": "stdout",
     "output_type": "stream",
     "text": [
      "11691 ../data/chip_seq_g4/common_peaks.bed\r\n"
     ]
    }
   ],
   "source": [
    "!wc -l ../data/chip_seq_g4/common_peaks.bed"
   ]
  },
  {
   "cell_type": "code",
   "execution_count": 65,
   "metadata": {
    "ExecuteTime": {
     "end_time": "2017-04-10T17:19:12.682705",
     "start_time": "2017-04-10T22:49:05.161561+05:30"
    },
    "collapsed": false,
    "run_control": {
     "frozen": true,
     "read_only": true
    }
   },
   "outputs": [
    {
     "name": "stderr",
     "output_type": "stream",
     "text": [
      "100%|██████████| 100/100 [00:07<00:00, 13.61it/s]\n"
     ]
    }
   ],
   "source": [
    "peaks_bed = pbt.BedTool('../data/chip_seq_g4/common_peaks.bed')\n",
    "genome_info_fn = '/home/parashar/scratch/hg19_resource/hg19.genome'\n",
    "for i in tqdm(range(100)):\n",
    "    out_fn = '../data/chip_seq_g4/random_regions/random_peaks_%d.bed' % i\n",
    "    _ = peaks_bed.shuffle(g=genome_info_fn, chrom=True).saveas(out_fn)"
   ]
  },
  {
   "cell_type": "code",
   "execution_count": 69,
   "metadata": {
    "ExecuteTime": {
     "end_time": "2017-04-10T17:26:04.103560",
     "start_time": "2017-04-10T22:55:55.545438+05:30"
    },
    "collapsed": false,
    "run_control": {
     "frozen": true,
     "read_only": true
    }
   },
   "outputs": [],
   "source": [
    "def get_chrom_seq(chrom):\n",
    "    fasta_base_dir ='/home/parashar/scratch/hg19_resource/chromosomes'\n",
    "    chrom_seq = \"\".join([x.rstrip('\\n') for x in\n",
    "               open(\"%s/%s.fa\" % (fasta_base_dir, chrom)).readlines()[1:]]).upper()\n",
    "    return chrom_seq\n",
    "\n",
    "chroms = ['chr'+str(x) for x in range(1,23)] + ['chrX', 'chrY']\n",
    "chrom_name_idx = {x:n for n,x in enumerate(chroms)}\n",
    "chrom_seqs = DVIEW.map_sync(get_chrom_seq, chroms)"
   ]
  },
  {
   "cell_type": "code",
   "execution_count": 70,
   "metadata": {
    "ExecuteTime": {
     "end_time": "2017-04-10T17:30:58.587948",
     "start_time": "2017-04-10T23:00:51.502405+05:30"
    },
    "collapsed": false,
    "run_control": {
     "frozen": true,
     "read_only": true
    }
   },
   "outputs": [
    {
     "name": "stderr",
     "output_type": "stream",
     "text": [
      "100%|██████████| 100/100 [00:06<00:00, 14.86it/s]\n"
     ]
    }
   ],
   "source": [
    "def extract_seq(bed_file, out_name):\n",
    "    chrom_wise_intervals = {}\n",
    "    for chrom in chroms:\n",
    "        chrom_wise_intervals[chrom] = []\n",
    "    with open (bed_file) as h:\n",
    "        for l in h:\n",
    "            c = l.split('\\t')\n",
    "            if c[0] in chroms:\n",
    "                chrom_wise_intervals[c[0]].append((int(c[1]), int(c[2])))\n",
    "    \n",
    "    sequences = []\n",
    "    for chrom in chroms:\n",
    "        for span in chrom_wise_intervals[chrom]:\n",
    "            sequences.append(chrom_seqs[chrom_name_idx[chrom]][span[0]:span[1]])\n",
    "    with open(out_name, 'w') as OUT:\n",
    "        OUT.write(\"\\n\".join(sequences))\n",
    "    return None\n",
    "\n",
    "_ = extract_seq('../data/chip_seq_g4/common_peaks.bed',\n",
    "            '../data/chip_seq_g4/common_peaks.seq')\n",
    "for i in tqdm(range(100)):\n",
    "    in_fn = '../data/chip_seq_g4/random_regions/random_peaks_%d.bed' % i\n",
    "    out_fn = '../data/chip_seq_g4/random_regions/random_peaks_%d.seq' % i\n",
    "    _ = extract_seq(in_fn, out_fn)"
   ]
  },
  {
   "cell_type": "markdown",
   "metadata": {
    "ExecuteTime": {
     "end_time": "2016-12-30T04:54:30.263635",
     "start_time": "2016-12-30T04:54:30.258400"
    }
   },
   "source": [
    "### Lets now calculate the G4Hunter scores of the peaks and random peaks"
   ]
  },
  {
   "cell_type": "code",
   "execution_count": 12,
   "metadata": {
    "ExecuteTime": {
     "end_time": "2017-04-10T17:52:24.579041",
     "start_time": "2017-04-10T23:22:24.570095+05:30"
    },
    "collapsed": false,
    "run_control": {
     "frozen": true,
     "read_only": true
    }
   },
   "outputs": [
    {
     "name": "stdout",
     "output_type": "stream",
     "text": [
      "Overwriting G4Hunter_chip_seq_wrapper.py\n"
     ]
    }
   ],
   "source": [
    "%%writefile G4Hunter_chip_seq_wrapper.py\n",
    "\n",
    "import os\n",
    "\n",
    "script = '/home/parashar/scratch/quadcomb/scripts/G4Hunter.r'\n",
    "in_fn = '../data/chip_seq_g4/common_peaks.seq'\n",
    "out_fn = '../data/chip_seq_g4/g4hunter_scores.txt'\n",
    "bsub = \"bsub -n 2 -q debugq -J peaks -o g4hunter_chipseq_logs/peaks.log\"\n",
    "cmd = '%s Rscript %s %s %s' % (bsub, script, in_fn, out_fn)\n",
    "os.system(cmd)\n",
    "\n",
    "for i in range(100):\n",
    "    in_fn = '../data/chip_seq_g4/random_regions/random_peaks_%d.seq' % i\n",
    "    out_fn = '../data/chip_seq_g4/g4hunter_random/random_%d.txt' % i\n",
    "    bsub = \"bsub -n 2 -q debugq -J %d -o g4hunter_chipseq_logs/%d.log\" % (i, i)\n",
    "    cmd = '%s Rscript %s %s %s' % (bsub, script, in_fn, out_fn)\n",
    "    os.system(cmd)"
   ]
  },
  {
   "cell_type": "code",
   "execution_count": null,
   "metadata": {
    "ExecuteTime": {
     "end_time": "2017-04-10T17:52:29.005162",
     "start_time": "2017-04-10T23:22:25.961280+05:30"
    },
    "collapsed": false,
    "run_control": {
     "frozen": true,
     "read_only": true
    }
   },
   "outputs": [],
   "source": [
    "! mkdir g4hunter_chipseq_logs\n",
    "! python G4Hunter_chip_seq_wrapper.py\n",
    "clear_output()"
   ]
  },
  {
   "cell_type": "markdown",
   "metadata": {},
   "source": [
    "### Now lets load and the expectation scores and calculate the Expectation scores in each of the G4-Chip and random genomic location of equivalent span"
   ]
  },
  {
   "cell_type": "code",
   "execution_count": 125,
   "metadata": {
    "ExecuteTime": {
     "end_time": "2017-04-10T19:52:53.034348",
     "start_time": "2017-04-11T01:22:52.105349+05:30"
    },
    "collapsed": false,
    "run_control": {
     "frozen": true,
     "read_only": true
    }
   },
   "outputs": [
    {
     "name": "stdout",
     "output_type": "stream",
     "text": [
      "7720\n"
     ]
    }
   ],
   "source": [
    "def calc_score_in_span(chrom):\n",
    "    import numpy as np\n",
    "    \n",
    "    def load_scores(strand):\n",
    "        in_dir = '/home/parashar/scratch/quadcomb/data/QG_expectation_scores_corrected_values'\n",
    "        fn = '%s/%s_%s.npy' % (in_dir, chrom, strand)\n",
    "        return np.load(fn, mmap_mode='r')\n",
    "\n",
    "    def calc(fn):\n",
    "        ac = 0\n",
    "        scores = []\n",
    "        with open(fn) as h:\n",
    "            for l in h:\n",
    "                c = l.rstrip('\\n').split('\\t')\n",
    "                if c[0] == chrom:\n",
    "                    p = pos[int(c[1]):int(c[2])]\n",
    "                    n = neg[int(c[1]):int(c[2])]\n",
    "                    if p.max() > 0.01 or n.max() > 0.01:\n",
    "                        ac += 1\n",
    "                    scores.append(sum(p+n))\n",
    "        return scores, ac\n",
    "    \n",
    "    pos = load_scores('positive')\n",
    "    neg = load_scores('negative')\n",
    "    in_dir = '/home/parashar/scratch/quadcomb/data/chip_seq_g4'\n",
    "    peak_s, above_cutoff = calc('%s/common_peaks.bed' % in_dir)\n",
    "\n",
    "    rand_s = []\n",
    "    for i in range(100):\n",
    "        in_fn = '%s/random_regions/random_peaks_%d.bed' % (in_dir, i)\n",
    "        rand_s.append(calc(in_fn))\n",
    "    \n",
    "    return peak_s, rand_s, above_cutoff\n",
    "    \n",
    "\n",
    "chroms = ['chr'+str(x) for x in range(1,23)] + ['chrX', 'chrY']\n",
    "res = DVIEW.map_sync(calc_score_in_span, chroms)\n",
    "\n",
    "peak_scores = []\n",
    "random_scores = [[] for x in range(100)]\n",
    "above_cutoff = []\n",
    "for i in res:\n",
    "    peak_scores.extend(i[0])\n",
    "    for n,j in enumerate(i[1]):\n",
    "        random_scores[n].extend(j)\n",
    "    above_cutoff.append(i[2])\n",
    "print (sum(above_cutoff))\n",
    "np.save('../data/chip_seq_g4/peaks_exp_scores', np.array(peak_scores))\n",
    "np.save('../data/chip_seq_g4/peaks_exp_random_scores',  np.array(random_scores))"
   ]
  },
  {
   "cell_type": "code",
   "execution_count": 122,
   "metadata": {
    "ExecuteTime": {
     "end_time": "2017-04-10T19:50:17.297062",
     "start_time": "2017-04-11T01:20:17.285946+05:30"
    },
    "collapsed": false
   },
   "outputs": [
    {
     "data": {
      "text/plain": [
       "0.6603370113762723"
      ]
     },
     "execution_count": 122,
     "metadata": {},
     "output_type": "execute_result"
    }
   ],
   "source": [
    "7720/11691"
   ]
  },
  {
   "cell_type": "markdown",
   "metadata": {},
   "source": [
    "### Now lets calculate the number of G4 motifs of various configurations that occur in Peaks and random regions"
   ]
  },
  {
   "cell_type": "code",
   "execution_count": 5,
   "metadata": {
    "ExecuteTime": {
     "end_time": "2016-12-30T06:38:39.242138",
     "start_time": "2016-12-30T06:26:13.719001"
    },
    "collapsed": false,
    "run_control": {
     "frozen": true,
     "read_only": true
    }
   },
   "outputs": [],
   "source": [
    "g4_base_dir = '/home/parashar/scratch/quadruplexes/hg19'\n",
    "\n",
    "peak_motifs = []\n",
    "random_motifs = []\n",
    "chroms = ['chr'+str(x) for x in range(1,23)] + ['chrX', 'chrY']\n",
    "chrom_info_file = '/home/parashar/scratch/hg19_resource/hg19.genome'\n",
    "chrom_info = [x.rstrip('\\n').split('\\t') for x in\n",
    "              open(chrom_info_file).readlines()]\n",
    "chrom_info = {x[0]: (0, int(x[1])) for x in chrom_info}\n",
    "\n",
    "peaks_bed = pbt.BedTool('../data/chip_seq_g4/peaks.bed').set_chromsizes(chrom_info)\n",
    "# random_peaks = pbt.BedTool('./data/chip_seq_g4/random_peaks.bed')\n",
    "for chrom in chroms:\n",
    "    chrom_wise = []\n",
    "    chrom_wise_random = []\n",
    "    for bulge in [0, 3]:\n",
    "        for loop in [7, 15]:\n",
    "            print (chrom, loop, bulge)\n",
    "            g4_motifs = pbt.BedTool('%s/g3_%s_%s_%s_nov.bed' % (g4_base_dir, loop, bulge, chrom))\n",
    "            chrom_wise.append(peaks_bed.intersect(g4_motifs, u=True).count())\n",
    "            # chrom_wise.append(random_peaks.intersect(g4_motifs, u=True).count())\n",
    "            chrom_wise_random.append(np.mean(list(\n",
    "                        peaks_bed.randomintersection(g4_motifs, iterations=10, processes=15,\n",
    "                                                     shuffle_kwargs={'chrom': False})\n",
    "            )))\n",
    "            clear_output()\n",
    "    peak_motifs.append(list(chrom_wise))\n",
    "    random_motifs.append(list(chrom_wise_random))\n",
    "\n",
    "peak_motifs = np.array(peak_motifs)\n",
    "random_motifs = np.array(random_motifs)\n",
    "\n",
    "np.save('../data/chip_seq_g4/peaks_motifs', peak_motifs.sum(axis=0))\n",
    "np.save('../data/chip_seq_g4/random_peaks_motifs', random_motifs.sum(axis=0))"
   ]
  },
  {
   "cell_type": "markdown",
   "metadata": {
    "ExecuteTime": {
     "end_time": "2016-12-30T04:56:19.933767",
     "start_time": "2016-12-30T04:56:19.929345"
    }
   },
   "source": [
    "### Time to plot data"
   ]
  },
  {
   "cell_type": "code",
   "execution_count": 37,
   "metadata": {
    "ExecuteTime": {
     "end_time": "2017-04-10T18:59:40.947455",
     "start_time": "2017-04-11T00:29:40.307354+05:30"
    },
    "collapsed": false,
    "run_control": {
     "frozen": false,
     "read_only": false
    }
   },
   "outputs": [
    {
     "data": {
      "image/png": "[encoded data removed]",
      "text/plain": [
       "<matplotlib.figure.Figure at 0x2b1a3d247f28>"
      ]
     },
     "metadata": {},
     "output_type": "display_data"
    }
   ],
   "source": [
    "peak_exp = np.load('../data/chip_seq_g4/peaks_exp_scores.npy')\n",
    "random_exp = np.load('../data/chip_seq_g4/peaks_exp_random_scores.npy')\n",
    "\n",
    "fig, ax = plt.subplots(1, 1, figsize=(2.2, 2.5))\n",
    "\n",
    "boxprops = dict(linestyle='-', linewidth=1, color='k')\n",
    "whiskerprops = dict(linestyle='--', linewidth=1, color='k')\n",
    "medianprops = dict(linestyle='-', linewidth=1.5, color='crimson')\n",
    "\n",
    "ax.boxplot([peak_exp, random_exp[2]], sym='', widths=[0.5, 0.5],\n",
    "           boxprops=boxprops, \n",
    "           medianprops=medianprops, whiskerprops=whiskerprops)\n",
    "ax.set_ylabel(r'Total $\\xi$ score'+'\\n per peak', fontsize=10)\n",
    "ax.set_xticklabels(['G4 Chip-Seq\\npeaks', 'Random\\npeaks'], rotation=45, fontsize=10)\n",
    "clean_axis(ax)\n",
    "\n",
    "plt.tight_layout()\n",
    "plt.savefig('../images/g4_chip_seq_exp_scores.png', dpi=300, transparent=True, edgecolor='none')\n",
    "plt.savefig('../images/g4_chip_seq_exp_scores.svg', transparent=True, edgecolor='none')\n",
    "plt.show()"
   ]
  },
  {
   "cell_type": "code",
   "execution_count": 104,
   "metadata": {
    "ExecuteTime": {
     "end_time": "2017-04-10T19:36:51.022994",
     "start_time": "2017-04-11T01:06:50.436746+05:30"
    },
    "collapsed": false
   },
   "outputs": [
    {
     "data": {
      "image/png": "[encoded data removed]",
      "text/plain": [
       "<matplotlib.figure.Figure at 0x2b1a3b3dbf98>"
      ]
     },
     "metadata": {},
     "output_type": "display_data"
    },
    {
     "name": "stdout",
     "output_type": "stream",
     "text": [
      "[1.9161134069582291, 0.21746230836910604] 8.81124375681 Power_divergenceResult(statistic=1330.327334646795, pvalue=1.3491147977222946e-214)\n"
     ]
    }
   ],
   "source": [
    "fig, ax = plt.subplots(1, 1, figsize=(2, 2.4))\n",
    "x = [1,2]\n",
    "y = [peak_exp.mean(), random_exp.mean()]\n",
    "ax.bar(x, y, yerr=[0, random_exp.mean(axis=1).std()], color='grey')\n",
    "ax.set_ylabel('Average cumulative\\n' + r'$\\xi$' + ' score per peak', fontsize=10)\n",
    "ax.set_xticklabels(['', 'G4 Chip-Seq\\npeaks', 'Random\\npeaks'],\n",
    "                   rotation=45, fontsize=10, ha='center')\n",
    "clean_axis(ax)\n",
    "plt.tight_layout()\n",
    "plt.savefig('../images/g4_chip_seq_exp_scores_bootstrap.png',\n",
    "            dpi=300, transparent=True, edgecolor='none')\n",
    "plt.savefig('../images/g4_chip_seq_exp_scores_bootstrap.svg',\n",
    "            transparent=True, edgecolor='none')\n",
    "plt.show()\n",
    "print (y, y[0]/y[1], chisquare([peak_exp.mean()], random_exp.mean(axis=1)))"
   ]
  },
  {
   "cell_type": "code",
   "execution_count": 64,
   "metadata": {
    "ExecuteTime": {
     "end_time": "2017-04-10T19:21:53.464109",
     "start_time": "2017-04-11T00:51:50.841613+05:30"
    },
    "collapsed": false,
    "run_control": {
     "frozen": false,
     "read_only": false
    }
   },
   "outputs": [
    {
     "name": "stderr",
     "output_type": "stream",
     "text": [
      "100%|██████████| 100/100 [00:02<00:00, 39.50it/s]\n"
     ]
    }
   ],
   "source": [
    "def load_hunter(fn):\n",
    "    s = []\n",
    "    with open(fn) as h:\n",
    "        next(h)\n",
    "        for l in h:\n",
    "            c = l.rstrip('\\n').split('\\t')\n",
    "            s.append(float(c[1]))\n",
    "    s = np.array(s)\n",
    "    return s\n",
    "\n",
    "peak_hunter_scores = load_hunter('../data/chip_seq_g4/g4hunter_scores.txt')\n",
    "random_hunter_scores = []\n",
    "for i in tqdm(range(100)):\n",
    "    in_fn = '../data/chip_seq_g4/g4hunter_random/random_%d.txt' % i\n",
    "    random_hunter_scores.append(load_hunter(in_fn))\n",
    "random_hunter_scores = np.array(random_hunter_scores)"
   ]
  },
  {
   "cell_type": "code",
   "execution_count": 107,
   "metadata": {
    "ExecuteTime": {
     "end_time": "2017-04-10T19:39:18.776019",
     "start_time": "2017-04-11T01:09:18.297623+05:30"
    },
    "collapsed": false
   },
   "outputs": [
    {
     "data": {
      "image/png": "[encoded data removed]",
      "text/plain": [
       "<matplotlib.figure.Figure at 0x2b1a3f58b3c8>"
      ]
     },
     "metadata": {},
     "output_type": "display_data"
    }
   ],
   "source": [
    "boxprops = dict(linestyle='-', linewidth=1, color='k')\n",
    "whiskerprops = dict(linestyle='--', linewidth=1, color='k')\n",
    "medianprops = dict(linestyle='-', linewidth=1.5, color='crimson')\n",
    "\n",
    "fig, ax = plt.subplots(1, 1, figsize=(2, 2.5))\n",
    "a = peak_hunter_scores[peak_hunter_scores > 0]\n",
    "b = np.array(random_hunter_scores[0])\n",
    "b = b[b > 0]\n",
    "ax.boxplot([a, b], sym='', widths=[0.5, 0.5],\n",
    "           boxprops=boxprops, medianprops=medianprops, whiskerprops=whiskerprops)\n",
    "\n",
    "ax.set_ylabel('G4Hunter scores', fontsize=10)\n",
    "clean_axis(ax)\n",
    "ax.set_xticklabels(['G4 Chip-Seq\\npeaks', 'Random\\npeaks'], rotation=45, fontsize=10)\n",
    "\n",
    "plt.tight_layout()\n",
    "plt.savefig('../images/g4_chip_seq_hunter_scores.png', dpi=300, transparent=True, edgecolor='none')\n",
    "plt.savefig('../images/g4_chip_seq_hunter_scores.svg', transparent=True, edgecolor='none')\n",
    "plt.show()"
   ]
  },
  {
   "cell_type": "code",
   "execution_count": 102,
   "metadata": {
    "ExecuteTime": {
     "end_time": "2017-04-10T19:36:15.887432",
     "start_time": "2017-04-11T01:06:15.186961+05:30"
    },
    "collapsed": false
   },
   "outputs": [
    {
     "data": {
      "image/png": "[encoded data removed]",
      "text/plain": [
       "<matplotlib.figure.Figure at 0x2b1a3f3bd438>"
      ]
     },
     "metadata": {},
     "output_type": "display_data"
    },
    {
     "name": "stdout",
     "output_type": "stream",
     "text": [
      "[0.27239878116826505, 0.1744260898402813] 1.56168599215 Power_divergenceResult(statistic=5.5119194936208, pvalue=1.0)\n"
     ]
    }
   ],
   "source": [
    "fig, ax = plt.subplots(1, 1, figsize=(2, 2.4))\n",
    "\n",
    "a = peak_hunter_scores[peak_hunter_scores > 0].mean()\n",
    "b = []\n",
    "for i in range(100):\n",
    "    temp = random_hunter_scores[i]\n",
    "    temp = temp[temp > 0]\n",
    "    b.append(temp.mean())\n",
    "b = np.array(b)\n",
    "\n",
    "x = [1,2]\n",
    "y = [a, b.mean()]\n",
    "ax.bar(x, y, yerr=[0, b.std()], color='grey')\n",
    "ax.set_ylabel('Average G4Hunter\\n' + 'score per peak', fontsize=10)\n",
    "ax.set_xticklabels(['', 'G4 Chip-Seq\\npeaks', 'Random\\npeaks'],\n",
    "                   rotation=45, fontsize=10, ha='center')\n",
    "clean_axis(ax)\n",
    "plt.tight_layout()\n",
    "plt.savefig('../images/g4_chip_seq_hunter_scores_bootstrap.png',\n",
    "            dpi=300, transparent=True, edgecolor='none')\n",
    "plt.savefig('../images/g4_chip_seq_hunter_scores_bootstrap.svg',\n",
    "            transparent=True, edgecolor='none')\n",
    "plt.show()\n",
    "print (y, y[0]/y[1], chisquare([a], b))"
   ]
  },
  {
   "cell_type": "code",
   "execution_count": 127,
   "metadata": {
    "ExecuteTime": {
     "end_time": "2017-04-10T19:57:44.800992",
     "start_time": "2017-04-11T01:27:44.790657+05:30"
    },
    "collapsed": false
   },
   "outputs": [
    {
     "name": "stdout",
     "output_type": "stream",
     "text": [
      "5735\n",
      "103\n"
     ]
    }
   ],
   "source": [
    "print (len(peak_hunter_scores[peak_hunter_scores > 0]))\n",
    "print (len(peak_hunter_scores[peak_hunter_scores > 1]))"
   ]
  },
  {
   "cell_type": "code",
   "execution_count": 126,
   "metadata": {
    "ExecuteTime": {
     "end_time": "2017-04-10T19:55:20.283049",
     "start_time": "2017-04-11T01:25:20.272679+05:30"
    },
    "collapsed": false
   },
   "outputs": [
    {
     "data": {
      "text/plain": [
       "0.49054828500555986"
      ]
     },
     "execution_count": 126,
     "metadata": {},
     "output_type": "execute_result"
    }
   ],
   "source": [
    "5735/11691"
   ]
  }
 ],
 "metadata": {
  "kernelspec": {
   "display_name": "Python [default]",
   "language": "python",
   "name": "python3"
  },
  "language_info": {
   "codemirror_mode": {
    "name": "ipython",
    "version": 3
   },
   "file_extension": ".py",
   "mimetype": "text/x-python",
   "name": "python",
   "nbconvert_exporter": "python",
   "pygments_lexer": "ipython3",
   "version": "3.5.2"
  }
 },
 "nbformat": 4,
 "nbformat_minor": 1
}
