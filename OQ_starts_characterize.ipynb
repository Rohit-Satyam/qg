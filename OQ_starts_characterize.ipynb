{
 "cells": [
  {
   "cell_type": "code",
   "execution_count": 1,
   "metadata": {
    "ExecuteTime": {
     "end_time": "2017-05-09T18:40:17.754847Z",
     "start_time": "2017-05-09T18:40:16.649987Z"
    },
    "code_folding": [
     7,
     39,
     73,
     96,
     124,
     159,
     182,
     196,
     230,
     245,
     256
    ],
    "run_control": {
     "frozen": false,
     "read_only": false
    }
   },
   "outputs": [
    {
     "data": {
      "text/plain": [
       "30"
      ]
     },
     "execution_count": 1,
     "metadata": {},
     "output_type": "execute_result"
    }
   ],
   "source": [
    "from SNIPRQ import StemGroups, QuadPaths\n",
    "from tqdm import tqdm\n",
    "\n",
    "from ipyparallel import Client\n",
    "\n",
    "DVIEW = Client()[:]\n",
    "DVIEW.block=True\n",
    "len(DVIEW)"
   ]
  },
  {
   "cell_type": "code",
   "execution_count": null,
   "metadata": {
    "ExecuteTime": {
     "start_time": "2017-05-09T18:40:21.946Z"
    }
   },
   "outputs": [
    {
     "name": "stderr",
     "output_type": "stream",
     "text": [
      "\r",
      "0it [00:00, ?it/s]"
     ]
    }
   ],
   "source": [
    "def get_sam_line(bed_line):\n",
    "    c = bed_line.rstrip('\\n').split('\\t')\n",
    "    sam_dir = '/home/parashar/scratch/quadcomb/data/g4_seq/reanalysis/aligned_sequences'\n",
    "    sub_dirs = ['Na_K_1/SRR1693705', 'Na_K_1/SRR1693706']\n",
    "    for sd in sub_dirs:\n",
    "        read_name = c[3]\n",
    "        flag = '0' if c[5] == '+' else '16'\n",
    "        fn = sd.split('/')[-1][-2:] + '_' + str(int(int(read_name)/1e6)) + '.sam'\n",
    "        fn_path = \"%s/%s/%s\" % (sam_dir, sd, fn)\n",
    "        grep_res = !grep $read_name $fn_path\n",
    "        for res in grep_res:\n",
    "            sam_line = res.split('\\t')\n",
    "            if len(sam_line) in [19, 20]:\n",
    "                aligned_pos = int(sam_line[3]) - 1\n",
    "                change_point_pos = int(c[1])\n",
    "                if sam_line[0].split('.')[1] == read_name:\n",
    "                    if sam_line[2] == c[0]:\n",
    "                        if aligned_pos+150 > change_point_pos > aligned_pos:\n",
    "                            if sam_line[1] == flag:\n",
    "                                c[3] = sam_line[0]\n",
    "                                c[4] = str(aligned_pos)\n",
    "                                c.append(sam_line[9])\n",
    "                                return c\n",
    "    return ['False']\n",
    "\n",
    "changepoint_bed = '../data/oq_switchpoints/Na_K_1_unique.bed'\n",
    "bed_data = []\n",
    "sam_data = []\n",
    "with open(changepoint_bed) as h:\n",
    "    for l in tqdm(h):\n",
    "        bed_data.append(l)\n",
    "        if len(bed_data) == 300:\n",
    "            sam_data.extend(DVIEW.map_sync(get_sam_line, bed_data))\n",
    "            bed_data = []\n",
    "sam_data.extend(DVIEW.map_sync(get_sam_line, bed_data))\n",
    "with open('../data/oq_switchpoints/Na_K_1_unique_with_sam_data.bed', 'w') as OUT:\n",
    "    OUT.write('\\n'.join(['\\t'.join(x) for x in sam_data]))"
   ]
  },
  {
   "cell_type": "code",
   "execution_count": null,
   "metadata": {
    "ExecuteTime": {
     "start_time": "2017-05-09T18:40:22.802Z"
    },
    "collapsed": true
   },
   "outputs": [],
   "source": [
    "def get_sam_line(bed_line):\n",
    "    c = bed_line.rstrip('\\n').split('\\t')\n",
    "    sam_dir = '/home/parashar/scratch/quadcomb/data/g4_seq/reanalysis/aligned_sequences'\n",
    "    sub_dirs = ['Na_K_2/SRR1693705', 'Na_K_2/SRR1693706']\n",
    "    for sd in sub_dirs:\n",
    "        read_name = c[3]\n",
    "        flag = '0' if c[5] == '+' else '16'\n",
    "        fn = sd.split('/')[-1][-2:] + '_' + str(int(int(read_name)/1e6)) + '.sam'\n",
    "        fn_path = \"%s/%s/%s\" % (sam_dir, sd, fn)\n",
    "        grep_res = !grep $read_name $fn_path\n",
    "        for res in grep_res:\n",
    "            sam_line = res.split('\\t')\n",
    "            if len(sam_line) in [19, 20]:\n",
    "                aligned_pos = int(sam_line[3]) - 1\n",
    "                change_point_pos = int(c[1])\n",
    "                if sam_line[0].split('.')[1] == read_name:\n",
    "                    if sam_line[2] == c[0]:\n",
    "                        if aligned_pos+150 > change_point_pos > aligned_pos:\n",
    "                            if sam_line[1] == flag:\n",
    "                                c[3] = sam_line[0]\n",
    "                                c[4] = str(aligned_pos)\n",
    "                                c.append(sam_line[9])\n",
    "                                return c\n",
    "    return ['False']\n",
    "\n",
    "changepoint_bed = '../data/oq_switchpoints/Na_K_2_unique.bed'\n",
    "bed_data = []\n",
    "sam_data = []\n",
    "with open(changepoint_bed) as h:\n",
    "    for l in tqdm(h):\n",
    "        bed_data.append(l)\n",
    "        if len(bed_data) == 300:\n",
    "            sam_data.extend(DVIEW.map_sync(get_sam_line, bed_data))\n",
    "            bed_data = []\n",
    "sam_data.extend(DVIEW.map_sync(get_sam_line, bed_data))\n",
    "with open('../data/oq_switchpoints/Na_K_2_unique_with_sam_data.bed', 'w') as OUT:\n",
    "    OUT.write('\\n'.join(['\\t'.join(x) for x in sam_data]))"
   ]
  },
  {
   "cell_type": "code",
   "execution_count": null,
   "metadata": {
    "collapsed": true
   },
   "outputs": [],
   "source": []
  },
  {
   "cell_type": "code",
   "execution_count": null,
   "metadata": {
    "collapsed": true
   },
   "outputs": [],
   "source": []
  },
  {
   "cell_type": "code",
   "execution_count": null,
   "metadata": {
    "collapsed": true
   },
   "outputs": [],
   "source": []
  },
  {
   "cell_type": "code",
   "execution_count": null,
   "metadata": {
    "collapsed": true
   },
   "outputs": [],
   "source": []
  },
  {
   "cell_type": "code",
   "execution_count": null,
   "metadata": {
    "collapsed": true
   },
   "outputs": [],
   "source": []
  },
  {
   "cell_type": "code",
   "execution_count": null,
   "metadata": {
    "collapsed": true
   },
   "outputs": [],
   "source": []
  },
  {
   "cell_type": "code",
   "execution_count": null,
   "metadata": {
    "collapsed": true
   },
   "outputs": [],
   "source": []
  },
  {
   "cell_type": "code",
   "execution_count": null,
   "metadata": {
    "collapsed": true
   },
   "outputs": [],
   "source": []
  },
  {
   "cell_type": "code",
   "execution_count": 44,
   "metadata": {
    "ExecuteTime": {
     "end_time": "2017-05-09T11:09:44.962145Z",
     "start_time": "2017-05-09T11:09:44.938068Z"
    },
    "run_control": {
     "frozen": false,
     "read_only": false
    }
   },
   "outputs": [
    {
     "name": "stderr",
     "output_type": "stream",
     "text": [
      "100%|██████████| 47/47 [00:00<00:00, 18137.11it/s]\n"
     ]
    }
   ],
   "source": [
    "sg_obj = StemGroups(sequence=seq, max_loop_len=3, max_bulge_len=0, base='G')\n",
    "seq_qps = deque()\n",
    "seq_infos = {\n",
    "    'graph_end': deque(),\n",
    "    'graph_start': deque(),\n",
    "    'num_edges': deque(),\n",
    "    'num_nodes': deque(),\n",
    "    'num_quadpaths': deque()\n",
    "}\n",
    "for sg in sg_obj.generate_stems():\n",
    "    qp_obj = QuadPaths(stems=sg, max_loop_len=3)\n",
    "    seq_qps.append(qp_obj.QPS)\n",
    "    for k in qp_obj.info:\n",
    "        seq_infos[k].append(qp_obj.info[k])"
   ]
  },
  {
   "cell_type": "code",
   "execution_count": null,
   "metadata": {
    "collapsed": true
   },
   "outputs": [],
   "source": []
  }
 ],
 "metadata": {
  "kernelspec": {
   "display_name": "Python [default]",
   "language": "python",
   "name": "python3"
  },
  "language_info": {
   "codemirror_mode": {
    "name": "ipython",
    "version": 3
   },
   "file_extension": ".py",
   "mimetype": "text/x-python",
   "name": "python",
   "nbconvert_exporter": "python",
   "pygments_lexer": "ipython3",
   "version": "3.5.2"
  }
 },
 "nbformat": 4,
 "nbformat_minor": 2
}
