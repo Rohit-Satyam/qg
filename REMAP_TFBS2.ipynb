{
 "cells": [
  {
   "cell_type": "code",
   "execution_count": 3,
   "metadata": {
    "ExecuteTime": {
     "end_time": "2017-05-15T09:36:03.681689Z",
     "start_time": "2017-05-15T09:36:03.671511Z"
    },
    "run_control": {
     "frozen": false,
     "read_only": false
    }
   },
   "outputs": [],
   "source": [
    "from tqdm import tqdm\n",
    "import numpy as np\n",
    "from IPython.display import clear_output\n",
    "import matplotlib.pyplot as plt\n",
    "import glob"
   ]
  },
  {
   "cell_type": "code",
   "execution_count": 120,
   "metadata": {
    "ExecuteTime": {
     "end_time": "2017-05-15T06:40:23.708990Z",
     "start_time": "2017-05-15T06:40:23.694382Z"
    },
    "run_control": {
     "frozen": true,
     "read_only": true
    }
   },
   "outputs": [
    {
     "name": "stdout",
     "output_type": "stream",
     "text": [
      "Overwriting make_nz_snipr.py\n"
     ]
    }
   ],
   "source": [
    "%%writefile make_nz_snipr.py\n",
    "\n",
    "import numpy as np\n",
    "import sys\n",
    "\n",
    "chrom = sys.argv[1]\n",
    "strand = sys.argv[2]\n",
    "\n",
    "a = np.load('../data/snipr/%s_%s_scores.npy' % (chrom, strand))\n",
    "np.save('../data/snipr/%s_%s_scores_NZ.npy' % (chrom, strand), a[a>0])"
   ]
  },
  {
   "cell_type": "code",
   "execution_count": 310,
   "metadata": {
    "ExecuteTime": {
     "end_time": "2017-05-15T07:59:36.404649Z",
     "start_time": "2017-05-15T07:59:28.214456Z"
    },
    "run_control": {
     "frozen": true,
     "read_only": true
    },
    "scrolled": true
   },
   "outputs": [],
   "source": [
    "!rm -rf snipr_nz_logs\n",
    "!mkdir snipr_nz_logs\n",
    "chroms = ['chr'+str(x) for x in range(1,23)] + ['chrX', 'chrY', 'chrM']\n",
    "for chrom in chroms:\n",
    "    for strand in ['positive', 'negative']:\n",
    "        sig = \"%s_%s\" % (chrom, strand[0])\n",
    "        !bsub -q smp -J $sig -o ./snipr_nz_logs/$sig python make_nz_snipr.py $chrom $strand\n",
    "clear_output()"
   ]
  },
  {
   "cell_type": "code",
   "execution_count": null,
   "metadata": {
    "collapsed": true,
    "run_control": {
     "frozen": true,
     "read_only": true
    }
   },
   "outputs": [],
   "source": [
    "%%writefile TFBS_snipr.py\n",
    "\n",
    "import numpy as np\n",
    "import sys\n",
    "from tqdm import tqdm\n",
    "\n",
    "def bed_to_intervals(fn):\n",
    "    intervals = []\n",
    "    with open(fn) as h:\n",
    "        for l in h:\n",
    "            c = l.rstrip('\\n').split('\\t')\n",
    "            intervals.append((int(c[1]), int(c[2])))\n",
    "    return intervals\n",
    "\n",
    "if __name__ == '__main__':\n",
    "    \n",
    "    chrom = sys.argv[1]\n",
    "    tf = sys.argv[2]\n",
    "\n",
    "    rand_scores = []\n",
    "    tf_dir = \"/home/parashar/scratch/quadcomb/data/REMAP_TFBS/tf_wise_files\"\n",
    "    snipr_dir = '/home/parashar/scratch/quadcomb/data/snipr'\n",
    "\n",
    "    snipr = np.load('%s/%s_positive_scores.npy' % (snipr_dir, chrom), mmap_mode='r')\n",
    "    snipr_nz = np.load('%s/%s_positive_scores_NZ.npy' % (snipr_dir, chrom), mmap_mode='r')\n",
    "    nz_len = len(snipr_nz)\n",
    "    \n",
    "    scores = []\n",
    "    rand_scores = []\n",
    "    intervals = bed_to_intervals(\"%s/%s/%s.bed\" % (tf_dir, tf, chrom))\n",
    "    for interval in tqdm(intervals):\n",
    "        s = snipr[interval[0]:interval[1]]\n",
    "        s = s[s > 0]\n",
    "        s_len = len(s)\n",
    "        scores.append(s.sum())\n",
    "        temp = []\n",
    "        for i in range(1000):\n",
    "            r = np.random.randint(0, nz_len-s_len)\n",
    "            temp.append(snipr_nz[r:r+s_len].sum())\n",
    "        rand_scores.append(temp)\n",
    "\n",
    "    np.save('../data/REMAP_TFBS/snipr_tf/%s_%s_scores' % (chrom, tf), np.array(scores))\n",
    "    np.save('../data/REMAP_TFBS/snipr_tf/%s_%s_random_scores' % (chrom, tf), np.array(rand_scores))\n"
   ]
  },
  {
   "cell_type": "code",
   "execution_count": 8,
   "metadata": {
    "ExecuteTime": {
     "end_time": "2017-05-15T09:46:24.042112Z",
     "start_time": "2017-05-15T09:46:24.029629Z"
    },
    "run_control": {
     "frozen": true,
     "read_only": true
    }
   },
   "outputs": [
    {
     "name": "stdout",
     "output_type": "stream",
     "text": [
      "Overwriting TFBS_snipr_wrapper.py\n"
     ]
    }
   ],
   "source": [
    "%%writefile TFBS_snipr_wrapper.py\n",
    "\n",
    "import os\n",
    "import numpy as np\n",
    "import glob\n",
    "\n",
    "if __name__ == '__main__':\n",
    "    chroms = ['chr'+str(x) for x in range(1,23)] + ['chrX', 'chrY']\n",
    "    base_dir = \"/home/parashar/scratch/quadcomb/data/REMAP_TFBS/tf_wise_files\"\n",
    "    tfs = np.array([x.split('/')[-1] for x in sorted(glob.glob(\"%s/*\" % base_dir))])\n",
    "\n",
    "    script = 'TFBS_snipr.py'\n",
    "    for chrom in chroms:\n",
    "        for tf in tfs:\n",
    "            sig = \"%s_%s\" % (chrom, tf)\n",
    "            cmd = 'bsub -q debugq -J %s -o ./tfbs_snipr_logs/%s.log python %s %s %s' % (\n",
    "                    sig, sig, script, chrom, tf)\n",
    "            print (cmd)\n",
    "            os.system(cmd)"
   ]
  },
  {
   "cell_type": "code",
   "execution_count": 9,
   "metadata": {
    "ExecuteTime": {
     "end_time": "2017-05-15T09:56:55.717259Z",
     "start_time": "2017-05-15T09:56:55.700562Z"
    },
    "run_control": {
     "frozen": true,
     "read_only": true
    }
   },
   "outputs": [
    {
     "name": "stdout",
     "output_type": "stream",
     "text": [
      "Overwriting TFBS_calc_pval.py\n"
     ]
    }
   ],
   "source": [
    "%%writefile TFBS_calc_pval.py\n",
    "\n",
    "import numpy as np\n",
    "from scipy.stats import mannwhitneyu\n",
    "from statsmodels.sandbox.stats.multicomp import multipletests\n",
    "import sys\n",
    "\n",
    "def load_scores(chrom, tf):\n",
    "    a = np.load('../data/REMAP_TFBS/snipr_tf/%s_%s_scores.npy' % (chrom, tf),\n",
    "                mmap_mode='r')\n",
    "    b = np.load('../data/REMAP_TFBS/snipr_tf/%s_%s_random_scores.npy' % (chrom, tf),\n",
    "               mmap_mode='r')\n",
    "    return a,b\n",
    "\n",
    "def calc_pval(a, b):\n",
    "    pvals = []\n",
    "    for i in b:\n",
    "        r_a = [a[np.random.randint(len(a))] for x in range(1000)]\n",
    "        r_b = [i[np.random.randint(len(i))] for x in range(1000)]\n",
    "        pvals.append(mannwhitneyu(r_a, r_b)[1])       \n",
    "    corrected_pvals = multipletests(pvals, alpha=0.05, method='holm',\n",
    "                                    is_sorted=False, returnsorted=False)[1]\n",
    "    return np.array([pvals, corrected_pvals])\n",
    "\n",
    "if __name__ == '__main__':\n",
    "    \n",
    "    tf = sys.argv[1]\n",
    "    \n",
    "    scores = []\n",
    "    rand_scores = []\n",
    "    chroms = ['chr'+str(x) for x in range(1,23)] + ['chrX', 'chrY']\n",
    "    for chrom in chroms:\n",
    "        a, b = load_scores(chrom, tf)\n",
    "        scores.extend(a)\n",
    "        rand_scores.extend(b)\n",
    "    scores = np.array(scores)\n",
    "    rand_scores = np.array(rand_scores).T\n",
    "    np.save('../data/REMAP_TFBS/pvals/%s.npy' % tf,\n",
    "            calc_pval(scores, rand_scores))"
   ]
  },
  {
   "cell_type": "code",
   "execution_count": 10,
   "metadata": {
    "ExecuteTime": {
     "end_time": "2017-05-15T09:57:34.824980Z",
     "start_time": "2017-05-15T09:57:00.147929Z"
    },
    "run_control": {
     "frozen": true,
     "read_only": true
    },
    "scrolled": true
   },
   "outputs": [],
   "source": [
    "! rm -rf tfbs_pval_logs\n",
    "! mkdir tfbs_pval_logs\n",
    "base_dir = \"/home/parashar/scratch/quadcomb/data/REMAP_TFBS/tf_wise_files\"\n",
    "tfs = np.array([x.split('/')[-1] for x in sorted(glob.glob(\"%s/*\" % base_dir))])\n",
    "for tf in tfs:\n",
    "    !bsub -q debugq -J $tf -o ./tfbs_pval_logs/$tf python TFBS_calc_pval.py $tf\n",
    "clear_output()"
   ]
  },
  {
   "cell_type": "code",
   "execution_count": null,
   "metadata": {
    "collapsed": true
   },
   "outputs": [],
   "source": []
  }
 ],
 "metadata": {
  "kernelspec": {
   "display_name": "Python [default]",
   "language": "python",
   "name": "python3"
  },
  "language_info": {
   "codemirror_mode": {
    "name": "ipython",
    "version": 3
   },
   "file_extension": ".py",
   "mimetype": "text/x-python",
   "name": "python",
   "nbconvert_exporter": "python",
   "pygments_lexer": "ipython3",
   "version": "3.5.2"
  }
 },
 "nbformat": 4,
 "nbformat_minor": 2
}
