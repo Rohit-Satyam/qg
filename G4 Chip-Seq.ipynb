{
 "cells": [
  {
   "cell_type": "code",
   "execution_count": 1,
   "metadata": {
    "ExecuteTime": {
     "end_time": "2017-01-08T02:31:15.706928",
     "start_time": "2017-01-08T02:31:10.345590"
    },
    "collapsed": true,
    "run_control": {
     "frozen": false,
     "read_only": false
    }
   },
   "outputs": [],
   "source": [
    "import pybedtools as pbt\n",
    "import numpy as np\n",
    "from tqdm import tqdm\n",
    "import glob\n",
    "from IPython.display import clear_output\n",
    "import matplotlib.pyplot as plt\n",
    "from scipy.stats import mannwhitneyu\n",
    "\n",
    "plt.style.use('fivethirtyeight')\n",
    "def clean_axis(ax):\n",
    "    ax.xaxis.set_tick_params(labelsize=9)\n",
    "    ax.yaxis.set_tick_params(labelsize=9)\n",
    "    for i in ['top', 'bottom', 'left', 'right']:\n",
    "        ax.spines[i].set_visible(False)\n",
    "    ax.grid(which='major', linestyle='--', alpha=0.7)\n",
    "    return True"
   ]
  },
  {
   "cell_type": "markdown",
   "metadata": {},
   "source": [
    "## The objective here is to check whether the expectation scores are higher in g4-chipSeq peaks compared to random peaks and how this compares to G4 motifs detected by QuadParser"
   ]
  },
  {
   "cell_type": "markdown",
   "metadata": {},
   "source": [
    "### We start by first extracting peak sequences and creating random peaks and saving them"
   ]
  },
  {
   "cell_type": "code",
   "execution_count": 30,
   "metadata": {
    "ExecuteTime": {
     "end_time": "2016-12-30T04:20:46.990984",
     "start_time": "2016-12-30T04:18:21.567183"
    },
    "collapsed": false,
    "run_control": {
     "frozen": true,
     "read_only": true
    }
   },
   "outputs": [],
   "source": [
    "def extract_seq(bed_file, fasta_file, out_name):\n",
    "    chroms = ['chr'+str(x) for x in range(1,23)] + ['chrX', 'chrY']\n",
    "    chrom_wise_intervals = {}\n",
    "    for chrom in chroms:\n",
    "        chrom_wise_intervals[chrom] = []\n",
    "    with open (bed_file) as h:\n",
    "        for l in h:\n",
    "            c = l.split('\\t')\n",
    "            if c[0] in chroms:\n",
    "                chrom_wise_intervals[c[0]].append((int(c[1]), int(c[2])))\n",
    "    \n",
    "    sequences = []\n",
    "    fasta_base_dir ='/home/parashar/scratch/hg19_resource/chromosomes'\n",
    "    nuc_map = {'A': 'T', 'G': 'C', 'T': 'A', 'C': 'G', 'N': 'N'}\n",
    "    for chrom in chroms:\n",
    "        print (chrom)\n",
    "        chrom_seq = \"\".join([x.rstrip('\\n') for x in\n",
    "               open(\"%s/%s.fa\" % (fasta_base_dir, chrom)).readlines()[1:]]).upper()\n",
    "        for span in chrom_wise_intervals[chrom]:\n",
    "            sequences.append(chrom_seq[span[0]:span[1]])\n",
    "        clear_output()\n",
    "    with open(out_name, 'w') as OUT:\n",
    "        OUT.write(\"\\n\".join(sequences))\n",
    "\n",
    "peaks_bed = pbt.BedTool('./data/chip_seq_g4/rhh_25cyc_BG4_12082015_peaks.narrowPeak').saveas(\n",
    "    './data/chip_seq_g4/peaks.bed')\n",
    "random_bed = peaks_bed.shuffle(g='/home/parashar/scratch/hg19_resource/hg19.genome', chrom=True).saveas(\n",
    "    './data/chip_seq_g4/random_peaks.bed')\n",
    "extract_seq('./data/chip_seq_g4/peaks.bed',\n",
    "            '/home/parashar/scratch/hg19_resource/genome.fa', './data/chip_seq_g4/peaks.seq')\n",
    "extract_seq('./data/chip_seq_g4/random_peaks.bed',\n",
    "            '/home/parashar/scratch/hg19_resource/genome.fa', './data/chip_seq_g4/random_peaks.seq')"
   ]
  },
  {
   "cell_type": "markdown",
   "metadata": {
    "ExecuteTime": {
     "end_time": "2016-12-30T04:54:30.263635",
     "start_time": "2016-12-30T04:54:30.258400"
    },
    "heading_collapsed": true
   },
   "source": [
    "### Lets now calculate the G4Hunter scores of the peaks and random peaks"
   ]
  },
  {
   "cell_type": "code",
   "execution_count": null,
   "metadata": {
    "ExecuteTime": {
     "end_time": "2016-12-30T04:30:39.771595",
     "start_time": "2016-12-30T04:30:39.511916"
    },
    "collapsed": false,
    "hidden": true,
    "run_control": {
     "frozen": true,
     "read_only": true
    }
   },
   "outputs": [],
   "source": [
    "! Rscript G4Hunter.r ../data/chip_seq_g4/peaks.seq ../data/chip_seq_g4/peaks_hunter_scores.txt\n",
    "! Rscript G4Hunter.r ../data/chip_seq_g4/random_peaks.seq ../data/chip_seq_g4/random_peaks_hunter_scores.txt"
   ]
  },
  {
   "cell_type": "markdown",
   "metadata": {},
   "source": [
    "### Now lets load and the expectation scores and calculate the maximum Expectation scores in each of the G4-Chip and random genomic location of equivalent span"
   ]
  },
  {
   "cell_type": "code",
   "execution_count": 5,
   "metadata": {
    "ExecuteTime": {
     "end_time": "2016-12-30T04:37:16.088390",
     "start_time": "2016-12-30T04:36:09.421634"
    },
    "collapsed": false,
    "run_control": {
     "frozen": true,
     "read_only": true
    }
   },
   "outputs": [],
   "source": [
    "chroms = ['chr'+str(x) for x in range(1,23)] + ['chrX', 'chrY']\n",
    "chrom_info = [x.rstrip('\\n').split('\\t') for x in \n",
    "              open('/home/parashar/scratch/hg19_resource/hg19.genome').readlines()]\n",
    "chrom_info = {x[0]: int(x[1]) for x in chrom_info}\n",
    "\n",
    "peaks_bed = pbt.BedTool('./data/chip_seq_g4/peaks.bed')\n",
    "random_bed = pbt.BedTool('./data/chip_seq_g4/random_peaks.bed')\n",
    "\n",
    "scores = []\n",
    "random_scores = []\n",
    "\n",
    "for chrom in chroms:\n",
    "    exp_s = np.zeros(chrom_info[chrom])\n",
    "    for strand in ['positive', 'negative']:\n",
    "        scores_dir = './data/quad_graph_single_base_scores/%s/%s/*_exp_score.npy' % (\n",
    "            chrom, strand)\n",
    "        for fn in tqdm(glob.glob(scores_dir), desc=\"%s %s\" % (chrom, strand)):\n",
    "            exp = np.load(fn)\n",
    "            if exp.shape[0] > 1:\n",
    "                e_indices = np.array(exp[:, 0], dtype=int)\n",
    "                e_scores = np.array(exp[:, 1], dtype=float)\n",
    "                exp_s[e_indices] += e_scores\n",
    "    for i in peaks_bed:\n",
    "        c = str(i).rstrip('\\n').split('\\t')\n",
    "        if c[0] == chrom:\n",
    "            scores.append(max(exp_s[int(c[1]):int(c[2])]))\n",
    "    for i in random_bed:\n",
    "        c = str(i).rstrip('\\n').split('\\t')\n",
    "        if c[0] == chrom:\n",
    "            random_scores.append(max(exp_s[int(c[1]):int(c[2])]))\n",
    "    clear_output()\n",
    "scores = np.array(scores)\n",
    "random_scores = np.array(random_scores)\n",
    "np.save('./data/chip_seq_g4/peaks_exp_scores', scores)\n",
    "np.save('./data/chip_seq_g4/peaks_exp_random_scores', random_scores)"
   ]
  },
  {
   "cell_type": "markdown",
   "metadata": {},
   "source": [
    "### Now lets calculate the number of G4 motifs of various configurations that occur in Peaks and random regions"
   ]
  },
  {
   "cell_type": "code",
   "execution_count": 5,
   "metadata": {
    "ExecuteTime": {
     "end_time": "2016-12-30T06:38:39.242138",
     "start_time": "2016-12-30T06:26:13.719001"
    },
    "collapsed": false,
    "run_control": {
     "frozen": true,
     "read_only": true
    }
   },
   "outputs": [],
   "source": [
    "g4_base_dir = '/home/parashar/scratch/quadruplexes/hg19'\n",
    "\n",
    "peak_motifs = []\n",
    "random_motifs = []\n",
    "chroms = ['chr'+str(x) for x in range(1,23)] + ['chrX', 'chrY']\n",
    "chrom_info_file = '/home/parashar/scratch/hg19_resource/hg19.genome'\n",
    "chrom_info = [x.rstrip('\\n').split('\\t') for x in\n",
    "              open(chrom_info_file).readlines()]\n",
    "chrom_info = {x[0]: (0, int(x[1])) for x in chrom_info}\n",
    "\n",
    "peaks_bed = pbt.BedTool('./data/chip_seq_g4/peaks.bed').set_chromsizes(chrom_info)\n",
    "# random_peaks = pbt.BedTool('./data/chip_seq_g4/random_peaks.bed')\n",
    "for chrom in chroms:\n",
    "    chrom_wise = []\n",
    "    chrom_wise_random = []\n",
    "    for bulge in [0, 3]:\n",
    "        for loop in [3, 15]:\n",
    "            print (chrom, loop, bulge)\n",
    "            g4_motifs = pbt.BedTool('%s/g3_%s_%s_%s_nov.bed' % (g4_base_dir, loop, bulge, chrom))\n",
    "            chrom_wise.append(peaks_bed.intersect(g4_motifs, u=True).count())\n",
    "            # chrom_wise.append(random_peaks.intersect(g4_motifs, u=True).count())\n",
    "            chrom_wise_random.append(np.mean(list(\n",
    "                        peaks_bed.randomintersection(g4_motifs, iterations=10, processes=15,\n",
    "                                                     shuffle_kwargs={'chrom': False})\n",
    "            )))\n",
    "            clear_output()\n",
    "    peak_motifs.append(list(chrom_wise))\n",
    "    random_motifs.append(list(chrom_wise_random))\n",
    "\n",
    "peak_motifs = np.array(peak_motifs)\n",
    "random_motifs = np.array(random_motifs)\n",
    "\n",
    "np.save('./data/chip_seq_g4/peaks_motifs', peak_motifs.sum(axis=0))\n",
    "np.save('./data/chip_seq_g4/random_peaks_motifs', random_motifs.sum(axis=0))"
   ]
  },
  {
   "cell_type": "markdown",
   "metadata": {
    "ExecuteTime": {
     "end_time": "2016-12-30T04:56:19.933767",
     "start_time": "2016-12-30T04:56:19.929345"
    }
   },
   "source": [
    "### Time to plot data"
   ]
  },
  {
   "cell_type": "code",
   "execution_count": 12,
   "metadata": {
    "ExecuteTime": {
     "end_time": "2016-12-30T15:26:13.261398",
     "start_time": "2016-12-30T15:26:12.128522"
    },
    "collapsed": false,
    "run_control": {
     "frozen": false,
     "read_only": false
    }
   },
   "outputs": [
    {
     "data": {
      "image/png": "[encoded data removed]",
      "text/plain": [
       "<matplotlib.figure.Figure at 0x2ba3851f6780>"
      ]
     },
     "metadata": {},
     "output_type": "display_data"
    },
    {
     "data": {
      "text/plain": [
       "MannwhitneyuResult(statistic=74376725.5, pvalue=0.0)"
      ]
     },
     "execution_count": 12,
     "metadata": {},
     "output_type": "execute_result"
    }
   ],
   "source": [
    "peak_exp = np.load('./data/chip_seq_g4/peaks_exp_scores.npy')\n",
    "random_exp = np.load('./data/chip_seq_g4/peaks_exp_random_scores.npy')\n",
    "\n",
    "fig, ax = plt.subplots(1, 1, figsize=(2, 3))\n",
    "\n",
    "boxprops = dict(linestyle='-', linewidth=1, color='k')\n",
    "whiskerprops = dict(linestyle='--', linewidth=1, color='k')\n",
    "medianprops = dict(linestyle='-', linewidth=1.5, color='crimson')\n",
    "\n",
    "ax.boxplot([peak_exp, random_exp], sym='', widths=[0.5, 0.5],\n",
    "           boxprops=boxprops, \n",
    "           medianprops=medianprops, whiskerprops=whiskerprops)\n",
    "ax.set_ylim((-0.05, 0.7))\n",
    "ax.set_ylabel('Expectation scores', fontsize=9)\n",
    "ax.set_xticklabels(['G4 Chip-Seq\\npeaks', 'Random\\npeaks'], rotation=45, fontsize=9)\n",
    "clean_axis(ax)\n",
    "\n",
    "plt.tight_layout()\n",
    "plt.savefig('g4_chip_seq_exp_scores.png', dpi=300, transparent=True, edgecolor='none')\n",
    "plt.savefig('g4_chip_seq_exp_scores.svg', transparent=True, edgecolor='none')\n",
    "plt.show()\n",
    "mannwhitneyu(peak_exp, random_exp)"
   ]
  },
  {
   "cell_type": "code",
   "execution_count": 12,
   "metadata": {
    "ExecuteTime": {
     "end_time": "2017-01-11T18:46:39.386516",
     "start_time": "2017-01-11T18:46:38.838446"
    },
    "collapsed": false,
    "run_control": {
     "frozen": false,
     "read_only": false
    }
   },
   "outputs": [
    {
     "data": {
      "image/png": "[encoded data removed]",
      "text/plain": [
       "<matplotlib.figure.Figure at 0x2b1689ddde48>"
      ]
     },
     "metadata": {},
     "output_type": "display_data"
    },
    {
     "data": {
      "text/plain": [
       "MannwhitneyuResult(statistic=178480541.5, pvalue=0.02945673599491563)"
      ]
     },
     "execution_count": 12,
     "metadata": {},
     "output_type": "execute_result"
    }
   ],
   "source": [
    "def load_hunter(fn):\n",
    "    s = []\n",
    "    with open(fn) as h:\n",
    "        next(h)\n",
    "        for l in h:\n",
    "            c = l.rstrip('\\n').split('\\t')\n",
    "            s.append(float(c[1]))\n",
    "    return np.array(s)\n",
    "\n",
    "peak_hunter_scores = load_hunter('./data/chip_seq_g4/peaks_hunter_scores.txt')\n",
    "random_peaks_hunter_scores = load_hunter('./data/chip_seq_g4/random_peaks_hunter_scores.txt')\n",
    "\n",
    "fig, ax = plt.subplots(1, 1, figsize=(2, 3))\n",
    "\n",
    "boxprops = dict(linestyle='-', linewidth=1, color='k')\n",
    "whiskerprops = dict(linestyle='--', linewidth=1, color='k')\n",
    "medianprops = dict(linestyle='-', linewidth=1.5, color='crimson')\n",
    "\n",
    "ax.boxplot([peak_hunter_scores, random_peaks_hunter_scores], sym='', widths=[0.5, 0.5],\n",
    "           boxprops=boxprops, \n",
    "           medianprops=medianprops, whiskerprops=whiskerprops)\n",
    "#ax.set_ylim((-0.05, 0.7))\n",
    "ax.set_ylabel('G4Hunter scores', fontsize=9)\n",
    "ax.set_xticklabels(['G4 Chip-Seq\\npeaks', 'Random\\npeaks'], rotation=45, fontsize=9)\n",
    "clean_axis(ax)\n",
    "\n",
    "plt.tight_layout()\n",
    "plt.savefig('g4_chip_seq_hunter_scores.png', dpi=300, transparent=True, edgecolor='none')\n",
    "plt.savefig('g4_chip_seq_hunter_scores.svg', transparent=True, edgecolor='none')\n",
    "plt.show()\n",
    "mannwhitneyu(peak_hunter_scores, random_peaks_hunter_scores)"
   ]
  },
  {
   "cell_type": "code",
   "execution_count": 2,
   "metadata": {
    "ExecuteTime": {
     "end_time": "2017-01-08T02:31:23.294743",
     "start_time": "2017-01-08T02:31:23.240675"
    },
    "collapsed": true,
    "run_control": {
     "frozen": false,
     "read_only": false
    }
   },
   "outputs": [],
   "source": [
    "peak_motifs = np.load('./data/chip_seq_g4/peaks_motifs.npy')\n",
    "random_motifs = np.load('./data/chip_seq_g4/random_peaks_motifs.npy')"
   ]
  },
  {
   "cell_type": "code",
   "execution_count": null,
   "metadata": {
    "collapsed": true,
    "run_control": {
     "frozen": false,
     "read_only": false
    }
   },
   "outputs": [],
   "source": []
  },
  {
   "cell_type": "code",
   "execution_count": null,
   "metadata": {
    "collapsed": true,
    "run_control": {
     "frozen": false,
     "read_only": false
    }
   },
   "outputs": [],
   "source": [
    "fig, ax = plt.subplots(1, 1, figsize=(1.5, 2.5))\n",
    "\n",
    "boxprops = dict(linestyle='-', linewidth=1, color='k')\n",
    "whiskerprops = dict(linestyle='--', linewidth=1, color='k')\n",
    "medianprops = dict(linestyle='-', linewidth=1.5, color='crimson')\n",
    "\n",
    "ax.boxplot([peak_exp, random_exp], sym='', widths=[0.5, 0.5],\n",
    "           boxprops=boxprops, \n",
    "           medianprops=medianprops, whiskerprops=whiskerprops)\n",
    "ax.set_ylim((-0.05, 0.7))\n",
    "ax.set_ylabel('Expectation scores', fontsize=9)\n",
    "ax.set_xticklabels(['G4 Chip-Seq\\npeaks', 'Random\\npeaks'], rotation=45, fontsize=9)\n",
    "clean_axis(ax)\n",
    "plt.show()\n",
    "mannwhitneyu(scores, random_scores)"
   ]
  },
  {
   "cell_type": "code",
   "execution_count": 5,
   "metadata": {
    "ExecuteTime": {
     "end_time": "2017-01-08T02:32:47.053452",
     "start_time": "2017-01-08T02:32:46.785112"
    },
    "collapsed": false,
    "run_control": {
     "frozen": false,
     "read_only": false
    }
   },
   "outputs": [
    {
     "data": {
      "image/png": "[encoded data removed]",
      "text/plain": [
       "<matplotlib.figure.Figure at 0x2b1689d0ce10>"
      ]
     },
     "metadata": {},
     "output_type": "display_data"
    }
   ],
   "source": [
    "plt.plot(peak_motifs, '-o')\n",
    "plt.plot(random_motifs, '-o')\n",
    "plt.show()\n"
   ]
  },
  {
   "cell_type": "code",
   "execution_count": 6,
   "metadata": {
    "ExecuteTime": {
     "end_time": "2017-01-08T02:32:55.489942",
     "start_time": "2017-01-08T02:32:55.479652"
    },
    "collapsed": false,
    "run_control": {
     "frozen": false,
     "read_only": false
    }
   },
   "outputs": [
    {
     "data": {
      "text/plain": [
       "array([ 1064,  6094,  9596, 16549])"
      ]
     },
     "execution_count": 6,
     "metadata": {},
     "output_type": "execute_result"
    }
   ],
   "source": [
    "peak_motifs"
   ]
  },
  {
   "cell_type": "code",
   "execution_count": 7,
   "metadata": {
    "ExecuteTime": {
     "end_time": "2017-01-08T02:33:23.678634",
     "start_time": "2017-01-08T02:33:23.672166"
    },
    "collapsed": false,
    "run_control": {
     "frozen": false,
     "read_only": false
    }
   },
   "outputs": [
    {
     "data": {
      "text/plain": [
       "array([   180.3,   1512.2,   3492.6,  10671.5])"
      ]
     },
     "execution_count": 7,
     "metadata": {},
     "output_type": "execute_result"
    }
   ],
   "source": [
    "random_motifs"
   ]
  },
  {
   "cell_type": "code",
   "execution_count": null,
   "metadata": {
    "collapsed": true,
    "run_control": {
     "frozen": false,
     "read_only": false
    }
   },
   "outputs": [],
   "source": []
  }
 ],
 "metadata": {
  "kernelspec": {
   "display_name": "Python [default]",
   "language": "python",
   "name": "python3"
  },
  "language_info": {
   "codemirror_mode": {
    "name": "ipython",
    "version": 3
   },
   "file_extension": ".py",
   "mimetype": "text/x-python",
   "name": "python",
   "nbconvert_exporter": "python",
   "pygments_lexer": "ipython3",
   "version": "3.5.2"
  }
 },
 "nbformat": 4,
 "nbformat_minor": 1
}
