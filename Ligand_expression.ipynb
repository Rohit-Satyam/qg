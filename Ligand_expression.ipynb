{
 "cells": [
  {
   "cell_type": "code",
   "execution_count": 302,
   "metadata": {
    "ExecuteTime": {
     "end_time": "2017-05-07T18:30:56.074313Z",
     "start_time": "2017-05-07T18:30:55.580966Z"
    },
    "run_control": {
     "frozen": false,
     "read_only": false
    }
   },
   "outputs": [
    {
     "data": {
      "text/plain": [
       "30"
      ]
     },
     "execution_count": 302,
     "metadata": {},
     "output_type": "execute_result"
    }
   ],
   "source": [
    "import json\n",
    "import numpy as np\n",
    "from tqdm import tqdm\n",
    "import glob as glob\n",
    "import matplotlib.pyplot as plt\n",
    "from scipy.stats import zscore, mannwhitneyu, ttest_ind, ks_2samp, wilcoxon, ranksums\n",
    "import pybedtools as pbt\n",
    "from IPython.display import clear_output\n",
    "from ipyparallel import Client\n",
    "import seaborn.apionly as sns\n",
    "\n",
    "plt.style.use('fivethirtyeight')\n",
    "def clean_axis(ax):\n",
    "    ax.xaxis.set_tick_params(labelsize=9)\n",
    "    ax.yaxis.set_tick_params(labelsize=9)\n",
    "    for i in ['top', 'bottom', 'left', 'right']:\n",
    "        ax.spines[i].set_visible(False)\n",
    "    ax.grid(which='major', linestyle='--', alpha=0.5)\n",
    "    return True\n",
    "\n",
    "DVIEW = Client()[:]\n",
    "DVIEW.block=True\n",
    "len(DVIEW)"
   ]
  },
  {
   "cell_type": "code",
   "execution_count": 2,
   "metadata": {
    "ExecuteTime": {
     "end_time": "2017-05-03T14:39:37.783606Z",
     "start_time": "2017-05-03T14:39:37.774970Z"
    },
    "collapsed": true,
    "run_control": {
     "frozen": false,
     "read_only": false
    }
   },
   "outputs": [],
   "source": [
    "chroms = ['chr'+str(x) for x in range(1,23)] + ['chrX', 'chrY']\n",
    "chrom_info = [x.rstrip('\\n').split('\\t') for x in \n",
    "              open('/home/parashar/scratch/hg19_resource/hg19.genome').readlines()]\n",
    "chrom_info = {x[0]: int(x[1]) for x in chrom_info}"
   ]
  },
  {
   "cell_type": "code",
   "execution_count": 3,
   "metadata": {
    "ExecuteTime": {
     "end_time": "2017-05-03T14:39:48.332687Z",
     "start_time": "2017-05-03T14:39:37.788615Z"
    },
    "run_control": {
     "frozen": false,
     "read_only": false
    }
   },
   "outputs": [
    {
     "data": {
      "text/plain": [
       "58171"
      ]
     },
     "execution_count": 3,
     "metadata": {},
     "output_type": "execute_result"
    }
   ],
   "source": [
    "gencode_data = json.load(open('../data/annotation/hg19_gencode.json'))\n",
    "gene_strand = {}\n",
    "for i in gencode_data:\n",
    "    g = gencode_data[i]['gene_name']\n",
    "    s = gencode_data[i]['strand'] \n",
    "    if gencode_data[i]['chrom'] in chroms:\n",
    "        if g in gene_strand:\n",
    "            if gene_strand[g] != s:\n",
    "                pass\n",
    "        else:\n",
    "            gene_strand[g] = s\n",
    "len(gene_strand)"
   ]
  },
  {
   "cell_type": "code",
   "execution_count": 4,
   "metadata": {
    "ExecuteTime": {
     "end_time": "2017-05-03T14:39:48.666862Z",
     "start_time": "2017-05-03T14:39:48.335777Z"
    },
    "run_control": {
     "frozen": false,
     "read_only": false
    }
   },
   "outputs": [
    {
     "data": {
      "text/plain": [
       "(24, 1594, 718)"
      ]
     },
     "execution_count": 4,
     "metadata": {},
     "output_type": "execute_result"
    }
   ],
   "source": [
    "chrom_wise_gene_locus_map = {x:{} for x in chroms}\n",
    "phendc3_up_genes = []\n",
    "phendc3_down_genes = []\n",
    "with open('../data/ligands_rna_seq/GSE60630_phendc3_ht1080') as h:\n",
    "    next(h)\n",
    "    for l in h:\n",
    "        c = l.rstrip('\\n').split('\\t')\n",
    "        chrom = c[3].split(':')[0]\n",
    "        if chrom in chrom_wise_gene_locus_map and c[2] in gene_strand:\n",
    "            chrom_wise_gene_locus_map[chrom][c[2]] = [\n",
    "                int(x) for x in c[3].split(':')[1].split('-')] + [gene_strand[c[2]]]\n",
    "            if float(c[12]) < 0.05:\n",
    "                if float(c[9]) > np.log2(1.5):\n",
    "                    phendc3_up_genes.append(c[2])\n",
    "                elif float(c[9]) < np.log2(0.5):\n",
    "                    phendc3_down_genes.append(c[2])\n",
    "len(chrom_wise_gene_locus_map), len(phendc3_up_genes), len(phendc3_down_genes)"
   ]
  },
  {
   "cell_type": "code",
   "execution_count": 23,
   "metadata": {
    "ExecuteTime": {
     "end_time": "2017-05-03T11:24:44.838654Z",
     "start_time": "2017-05-03T11:23:59.585910Z"
    },
    "code_folding": [
     0
    ],
    "run_control": {
     "frozen": false,
     "read_only": false
    },
    "scrolled": true
   },
   "outputs": [
    {
     "name": "stdout",
     "output_type": "stream",
     "text": [
      "(5, 0)\n"
     ]
    },
    {
     "data": {
      "image/png": "[encoded data removed]",
      "text/plain": [
       "<matplotlib.figure.Figure at 0x2aec5cf65ef0>"
      ]
     },
     "metadata": {},
     "output_type": "display_data"
    },
    {
     "name": "stdout",
     "output_type": "stream",
     "text": [
      "[1270, 917.26999999999998] 1.38454326425 (5, 0) MannwhitneyuResult(statistic=206.0, pvalue=0.046412142247541061)\n",
      "(15, 0)\n"
     ]
    },
    {
     "data": {
      "image/png": "[encoded data removed]",
      "text/plain": [
       "<matplotlib.figure.Figure at 0x2aec5cfc7f98>"
      ]
     },
     "metadata": {},
     "output_type": "display_data"
    },
    {
     "name": "stdout",
     "output_type": "stream",
     "text": [
      "[1977, 1626.02] 1.21585220354 (15, 0) MannwhitneyuResult(statistic=229.0, pvalue=0.11385430944653702)\n",
      "(25, 0)\n"
     ]
    },
    {
     "data": {
      "image/png": "[encoded data removed]",
      "text/plain": [
       "<matplotlib.figure.Figure at 0x2aec5d02ff28>"
      ]
     },
     "metadata": {},
     "output_type": "display_data"
    },
    {
     "name": "stdout",
     "output_type": "stream",
     "text": [
      "[2129, 1812.54] 1.17459476756 (25, 0) MannwhitneyuResult(statistic=237.0, pvalue=0.14885025128924356)\n",
      "(5, 3)\n"
     ]
    },
    {
     "data": {
      "image/png": "[encoded data removed]",
      "text/plain": [
       "<matplotlib.figure.Figure at 0x2aec5cef5be0>"
      ]
     },
     "metadata": {},
     "output_type": "display_data"
    },
    {
     "name": "stdout",
     "output_type": "stream",
     "text": [
      "[2232, 2011.99] 1.10934945005 (5, 3) MannwhitneyuResult(statistic=253.0, pvalue=0.23841903063470776)\n",
      "(15, 3)\n"
     ]
    },
    {
     "data": {
      "image/png": "[encoded data removed]",
      "text/plain": [
       "<matplotlib.figure.Figure at 0x2aec5d1385c0>"
      ]
     },
     "metadata": {},
     "output_type": "display_data"
    },
    {
     "name": "stdout",
     "output_type": "stream",
     "text": [
      "[2299, 2139.1500000000001] 1.07472594255 (15, 3) MannwhitneyuResult(statistic=262.0, pvalue=0.29950823396296333)\n",
      "(25, 3)\n"
     ]
    },
    {
     "data": {
      "image/png": "[encoded data removed]",
      "text/plain": [
       "<matplotlib.figure.Figure at 0x2aec5d138240>"
      ]
     },
     "metadata": {},
     "output_type": "display_data"
    },
    {
     "name": "stdout",
     "output_type": "stream",
     "text": [
      "[2305, 2161.7800000000002] 1.06625095986 (25, 3) MannwhitneyuResult(statistic=262.5, pvalue=0.30309020794946584)\n"
     ]
    }
   ],
   "source": [
    "def calc_overlap(chrom):\n",
    "    import pybedtools as pbt\n",
    "    import numpy as np\n",
    "\n",
    "    def load_g4_bed():\n",
    "        g4_bed = []\n",
    "        with open('/home/parashar/scratch/quadruplexes/hg19/g3_%s_%s_%s_nov.bed' %\n",
    "                  (loop, bulge, chrom)) as h:\n",
    "            for l in h:\n",
    "                c = l.rstrip('\\n').split('\\t')\n",
    "                s = '+' if c[4] == 'G' else '-'\n",
    "                g4_bed.append('\\t'.join(map(str, [c[0], c[1], c[2], '.', '0', s])))\n",
    "        g4_bed = pbt.BedTool('\\n'.join(g4_bed), from_string=True)\n",
    "        return g4_bed\n",
    "\n",
    "    def load_de_non_de_genes():\n",
    "        de_bed = []\n",
    "        rest_bed = []\n",
    "        for gene, info in gene_info[chrom].items():\n",
    "            if info[2] == '+':\n",
    "                bed_line = '\\t'.join(map(str, [chrom, info[0]-offset, info[0]+offset,\n",
    "                                               gene, '0', info[2]]))\n",
    "            else:\n",
    "                bed_line = '\\t'.join(map(str, [chrom, info[1]-offset, info[1]+offset,\n",
    "                                               gene, '0', info[2]]))\n",
    "            if gene in de_genes:\n",
    "                de_bed.append(bed_line)\n",
    "            else:\n",
    "                rest_bed.append(bed_line)\n",
    "\n",
    "        de_bed = pbt.BedTool('\\n'.join(de_bed), from_string=True)\n",
    "        rest_bed = pbt.BedTool('\\n'.join(rest_bed), from_string=True)\n",
    "        return de_bed, rest_bed\n",
    "\n",
    "    g4_bed = load_g4_bed()\n",
    "    de_bed, rest_bed = load_de_non_de_genes()\n",
    "    g4_de = de_bed.intersect(g4_bed, u=True).count()\n",
    "    \n",
    "    rest_genes = []\n",
    "    for i in rest_bed:\n",
    "        rest_genes.append(str(i.name))\n",
    "    rest_genes = np.array(list(set(rest_genes)))\n",
    "    g4_rest = rest_bed.intersect(g4_bed, wo=True)\n",
    "    g4_rest_genes = []\n",
    "    for i in g4_rest:\n",
    "        g4_rest_genes.append(str(i.name))\n",
    "    g4_rest_genes = np.array(list(set(g4_rest_genes)))\n",
    "    \n",
    "    g4_rests = []\n",
    "    for i in range(100):\n",
    "        random_genes = set([rest_genes[np.random.randint(len(rest_genes))]\n",
    "                        for x in range(len(de_bed))])\n",
    "        g4_rests.append(len(random_genes.intersection(g4_rest_genes)))\n",
    "    \n",
    "    return g4_de, g4_rests\n",
    "\n",
    "offset = 500\n",
    "configs = [(5, 0), (15, 0), (25, 0), (5, 3), (15, 3), (25, 3)]\n",
    "\n",
    "for config in configs:\n",
    "    loop = str(config[0])\n",
    "    bulge = str(config[1])\n",
    "\n",
    "    _ = DVIEW.push(dict(\n",
    "        de_genes=phendc3_up_genes+phendc3_down_genes,\n",
    "        gene_info=chrom_wise_gene_locus_map,\n",
    "        loop=loop,\n",
    "        bulge=bulge,\n",
    "        offset=offset\n",
    "    ))\n",
    "    \n",
    "    print (config)\n",
    "    \n",
    "    res = DVIEW.map_sync(calc_overlap, chroms)\n",
    "    g4_de, g4_rests = [], []\n",
    "    for i in res:\n",
    "        g4_de.append(i[0])\n",
    "        g4_rests.append(i[1])\n",
    "    g4_de = np.array(g4_de)\n",
    "    g4_rests = np.array(g4_rests)\n",
    "    \n",
    "    fig, ax = plt.subplots(1, 1, figsize=(2, 2.4))\n",
    "    x = [1,2]\n",
    "    y = [g4_de.sum(), g4_rests.sum(axis=0).mean()]\n",
    "    ax.bar(x, y, yerr=[0, g4_rests.sum(axis=0).std()], color='grey')\n",
    "    ax.set_ylabel('Promoters with\\nG4 motif', fontsize=10)\n",
    "    ax.set_xticklabels(['', 'DE genes', 'Random genes'], fontsize=9, rotation=45, ha='right')\n",
    "    ax.set_ylim((0, 2600))\n",
    "    ax.set_yticks([x for x in range(0, 2600, 500)])\n",
    "    clean_axis(ax)\n",
    "    plt.tight_layout()\n",
    "    plt.savefig('../images/phendc3_rna_seq_G4_%d_%d.png' % (config[0], config[1]), dpi=300,\n",
    "                transparent=True, edgecolor='none')\n",
    "    plt.savefig('../images/phendc3_rna_seq_G4_%d_%d.svg' % (config[0], config[1]),\n",
    "                transparent=True, edgecolor='none')\n",
    "    plt.show()\n",
    "    print (y, y[0]/y[1], config, mannwhitneyu(g4_de, g4_rests.mean(axis=1)))"
   ]
  },
  {
   "cell_type": "code",
   "execution_count": 291,
   "metadata": {
    "ExecuteTime": {
     "end_time": "2017-05-07T18:27:30.006775Z",
     "start_time": "2017-05-07T18:27:26.065137Z"
    },
    "run_control": {
     "frozen": false,
     "read_only": false
    },
    "scrolled": true
   },
   "outputs": [],
   "source": [
    "def load_scores(chrom, chrom_info, strand):\n",
    "    fn = '../data/sniprq_scores/%s_%s.npy' % (chrom, strand)\n",
    "    return np.load(fn, mmap_mode='r')\n",
    "\n",
    "gene_names = []\n",
    "snipr_scores = []\n",
    "offset = 500\n",
    "for chrom in chroms:\n",
    "    print (chrom)\n",
    "    temp = []\n",
    "    pos_exp = load_scores(chrom, chrom_info, 'positive')\n",
    "    neg_exp = load_scores(chrom, chrom_info, 'negative')\n",
    "    for gene, info in chrom_wise_gene_locus_map[chrom].items():\n",
    "        gene_names.append(gene)\n",
    "        if info[2] == '+':\n",
    "            pos_score = pos_exp[info[0] - offset : info[0] + offset]\n",
    "            neg_score = neg_exp[info[0] - offset : info[0] + offset]\n",
    "        else:\n",
    "            pos_score = pos_exp[info[1] - offset : info[1] + offset][::-1]\n",
    "            neg_score = neg_exp[info[1] - offset : info[1] + offset][::-1]\n",
    "        temp.append(np.array(pos_score) + np.array(neg_score))\n",
    "    snipr_scores.append(np.array(temp))\n",
    "    clear_output()"
   ]
  },
  {
   "cell_type": "code",
   "execution_count": 292,
   "metadata": {
    "ExecuteTime": {
     "end_time": "2017-05-07T18:27:31.557427Z",
     "start_time": "2017-05-07T18:27:30.010310Z"
    },
    "run_control": {
     "frozen": false,
     "read_only": false
    }
   },
   "outputs": [
    {
     "data": {
      "text/plain": [
       "(2312, 18738, 2312)"
      ]
     },
     "execution_count": 292,
     "metadata": {},
     "output_type": "execute_result"
    }
   ],
   "source": [
    "de_snipr = []\n",
    "rest_snipr = []\n",
    "for n,chrom in enumerate(chroms):\n",
    "    de_temp = []\n",
    "    rest_temp = []\n",
    "    for i,gene in enumerate(chrom_wise_gene_locus_map[chrom]):\n",
    "        if gene in phendc3_up_genes or gene in phendc3_down_genes:\n",
    "            de_temp.append(snipr_scores[n][i])\n",
    "        else:\n",
    "            rest_temp.append(snipr_scores[n][i])\n",
    "    de_snipr.extend(de_temp)\n",
    "    rest_snipr.extend(rest_temp)\n",
    "random_rest_snipr = [rest_snipr[np.random.randint(len(rest_snipr))] for \n",
    "                     x in range(len(de_snipr))]\n",
    "de_snipr = np.array(de_snipr)\n",
    "random_rest_snipr = np.array(random_rest_snipr)\n",
    "len(de_snipr), len(rest_snipr), len(random_rest_snipr)"
   ]
  },
  {
   "cell_type": "code",
   "execution_count": 414,
   "metadata": {
    "ExecuteTime": {
     "end_time": "2017-05-07T20:02:07.847691Z",
     "start_time": "2017-05-07T20:02:07.002159Z"
    },
    "run_control": {
     "frozen": false,
     "read_only": false
    }
   },
   "outputs": [
    {
     "data": {
      "image/png": "[encoded data removed]",
      "text/plain": [
       "<matplotlib.figure.Figure at 0x2af1f3f527f0>"
      ]
     },
     "metadata": {},
     "output_type": "display_data"
    },
    {
     "data": {
      "text/plain": [
       "(MannwhitneyuResult(statistic=4499.5, pvalue=0.035618100508269079),\n",
       " 2.0164466565678425,\n",
       " 2312,\n",
       " 2312)"
      ]
     },
     "execution_count": 414,
     "metadata": {},
     "output_type": "execute_result"
    }
   ],
   "source": [
    "a = np.array([np.median(x) for x in de_snipr])\n",
    "b = np.array([np.median(x) for x in random_rest_snipr])\n",
    "\n",
    "fig, ax = plt.subplots(1, 1, figsize=(2.2, 2.5))\n",
    "\n",
    "boxprops = dict(linestyle='-', linewidth=1, color='k')\n",
    "whiskerprops = dict(linestyle='--', linewidth=1, color='k')\n",
    "medianprops = dict(linestyle='-', linewidth=1.5, color='crimson')\n",
    "\n",
    "ax.boxplot([np.log2(a+1), np.log2(b+1)], sym='', whis=1000, widths=[0.5, 0.5], whiskerprops=whiskerprops,\n",
    "           boxprops=boxprops, medianprops=medianprops)\n",
    "    \n",
    "ax.set_ylabel('Median SNIPR-Q\\nscore per promoter', fontsize=10)\n",
    "ax.set_xticklabels(['DE promoters', 'Non-DE promoters'], rotation=45, fontsize=10)\n",
    "clean_axis(ax)\n",
    "\n",
    "plt.tight_layout()\n",
    "plt.savefig('../images/phendc3_rna_seq_snipr_promoter_wise_MEDIAN.png', dpi=300, transparent=True, edgecolor='none')\n",
    "plt.savefig('../images/phendc3_rna_seq_snipr_promoter_wise_MEDIAN.svg', transparent=True, edgecolor='none')\n",
    "\n",
    "plt.show()\n",
    "mannwhitneyu(a[:100], b[:100]), np.mean(a)/np.mean(b), len(a), len(b)"
   ]
  },
  {
   "cell_type": "code",
   "execution_count": 422,
   "metadata": {
    "ExecuteTime": {
     "end_time": "2017-05-07T20:37:10.836518Z",
     "start_time": "2017-05-07T20:37:09.655754Z"
    }
   },
   "outputs": [
    {
     "data": {
      "image/png": "[encoded data removed]",
      "text/plain": [
       "<matplotlib.figure.Figure at 0x2af22e1d9128>"
      ]
     },
     "metadata": {},
     "output_type": "display_data"
    },
    {
     "data": {
      "text/plain": [
       "(MannwhitneyuResult(statistic=2108547.0, pvalue=8.5814024106425829e-36),\n",
       " 1.2593929804372843)"
      ]
     },
     "execution_count": 422,
     "metadata": {},
     "output_type": "execute_result"
    }
   ],
   "source": [
    "fig, ax = plt.subplots(1, 1, figsize=(3, 2.3))\n",
    "\n",
    "a = [np.max(x) for x in de_snipr]\n",
    "b = [np.max(x) for x in random_rest_snipr]\n",
    "\n",
    "ax.hist(a, alpha=0.7, bins=50, color='dodgerblue', label='DE genes')\n",
    "ax.hist(b, alpha=0.5, bins=50, color='crimson', label='Non-DE genes')\n",
    "ax.legend(frameon=False, fontsize=10)\n",
    "ax.set_xlabel('Max SNIPR-Q scores\\nper promoter', fontsize=10)\n",
    "ax.set_ylabel('Frequency', fontsize=10)\n",
    "clean_axis(ax)\n",
    "plt.tight_layout()\n",
    "plt.savefig('../images/phendc3_rna_seq_snipr_promoter_wise_MAX.svg',\n",
    "            transparent=True, edgecolor='none')\n",
    "plt.show()\n",
    "mannwhitneyu(a, b), np.mean(a)/np.mean(b)"
   ]
  },
  {
   "cell_type": "code",
   "execution_count": 425,
   "metadata": {
    "ExecuteTime": {
     "end_time": "2017-05-07T20:54:02.902163Z",
     "start_time": "2017-05-07T20:54:01.716385Z"
    }
   },
   "outputs": [
    {
     "data": {
      "image/png": "[encoded data removed]",
      "text/plain": [
       "<matplotlib.figure.Figure at 0x2af1f41be978>"
      ]
     },
     "metadata": {},
     "output_type": "display_data"
    },
    {
     "data": {
      "text/plain": [
       "(MannwhitneyuResult(statistic=1983449.0, pvalue=2.2328088437537869e-52),\n",
       " 1.4152126889020489)"
      ]
     },
     "execution_count": 425,
     "metadata": {},
     "output_type": "execute_result"
    }
   ],
   "source": [
    "fig, ax = plt.subplots(1, 1, figsize=(3, 2.3))\n",
    "\n",
    "a = [np.mean(x) for x in de_snipr]\n",
    "b = [np.mean(x) for x in random_rest_snipr]\n",
    "ax.hist(a, alpha=0.7, bins=50, color='dodgerblue', label='DE genes')\n",
    "ax.hist(b, alpha=0.5, bins=50, color='crimson', label='Non-DE genes')\n",
    "ax.legend(frameon=False, fontsize=10)\n",
    "ax.set_xlabel('Mean SNIPR-Q scores\\nper promoter', fontsize=10)\n",
    "ax.set_ylabel('Frequency', fontsize=10)\n",
    "ax.set_xlim((0, 110))\n",
    "clean_axis(ax)\n",
    "plt.tight_layout()\n",
    "plt.savefig('../images/phendc3_rna_seq_snipr_promoter_wise_MEAN.svg',\n",
    "            transparent=True, edgecolor='none')\n",
    "plt.show()\n",
    "mannwhitneyu(a, b), np.mean(a)/np.mean(b)"
   ]
  },
  {
   "cell_type": "code",
   "execution_count": 424,
   "metadata": {
    "ExecuteTime": {
     "end_time": "2017-05-07T20:50:18.752593Z",
     "start_time": "2017-05-07T20:50:17.091494Z"
    },
    "run_control": {
     "frozen": false,
     "read_only": false
    }
   },
   "outputs": [
    {
     "name": "stdout",
     "output_type": "stream",
     "text": [
      "(1000,) (1000,)\n",
      "33.9058559689 23.9581345156 1.4152126889\n"
     ]
    },
    {
     "data": {
      "image/png": "[encoded data removed]",
      "text/plain": [
       "<matplotlib.figure.Figure at 0x2af1f4464e80>"
      ]
     },
     "metadata": {},
     "output_type": "display_data"
    },
    {
     "data": {
      "text/plain": [
       "(MannwhitneyuResult(statistic=189393.5, pvalue=3.8432867012404671e-128),\n",
       " 1.4152126889020487)"
      ]
     },
     "execution_count": 424,
     "metadata": {},
     "output_type": "execute_result"
    }
   ],
   "source": [
    "a = np.array(de_snipr)\n",
    "r = np.array(random_rest_snipr)\n",
    "a = a.sum(axis=0)/len(a)\n",
    "r = r.sum(axis=0)/len(r)\n",
    "\n",
    "print (a.shape, r.shape)\n",
    "print (a.mean(), r.mean(), a.mean()/r.mean())\n",
    "\n",
    "fig, ax = plt.subplots(1, 1, figsize=(3.2, 2.2))\n",
    "\n",
    "ax.hist(r, bins=80, alpha=0.7, color='dodgerblue', label='Non-DE genes')\n",
    "ax.hist(a, bins=80, alpha=0.5, color='crimson', label='DE genes')\n",
    "ax.set_xlabel('Mean SNIPR-Q score at\\n each position in promoters', fontsize=10)\n",
    "ax.set_ylabel('Frequency', fontsize=10)\n",
    "ax.legend(frameon=False, loc= (0, 0.8), fontsize=9)\n",
    "clean_axis(ax)\n",
    "plt.tight_layout()\n",
    "plt.savefig('../images/phendc3_rna_seq_snipr_position_wise.png', dpi=300, transparent=True, edgecolor='none')\n",
    "plt.savefig('../images/phendc3_rna_seq_snipr_position_wise.svg', transparent=True, edgecolor='none')\n",
    "\n",
    "plt.show()\n",
    "\n",
    "mannwhitneyu(a, r), np.mean(a)/np.mean(r)"
   ]
  },
  {
   "cell_type": "code",
   "execution_count": 6,
   "metadata": {
    "ExecuteTime": {
     "end_time": "2017-05-03T14:46:12.631504Z",
     "start_time": "2017-05-03T14:44:53.816394Z"
    },
    "collapsed": true,
    "run_control": {
     "frozen": false,
     "read_only": false
    }
   },
   "outputs": [],
   "source": [
    "offset = 500\n",
    "sequences = []\n",
    "hunter_genes = []\n",
    "for chrom in chroms:\n",
    "    print (chrom)\n",
    "    chrom_seq = ''.join([x.rstrip('\\n').upper() for x in open(\n",
    "        '/home/parashar/scratch/hg19_resource/chromosomes/%s.fa' % chrom).readlines()[1:]])\n",
    "    for gene, info in chrom_wise_gene_locus_map[chrom].items():\n",
    "        hunter_genes.append(gene)\n",
    "        if info[2] == '+':\n",
    "            seq = chrom_seq[info[0] - offset : info[0] + offset]\n",
    "        else:\n",
    "            seq = chrom_seq[info[1] - offset : info[1] + offset][::-1]\n",
    "        sequences.append(seq)\n",
    "    clear_output()\n",
    "with open('../data/ligands_rna_seq/promoter_sequences.seq', 'w') as OUT:\n",
    "    OUT.write(\"\\n\".join(sequences))"
   ]
  },
  {
   "cell_type": "code",
   "execution_count": null,
   "metadata": {
    "ExecuteTime": {
     "end_time": "2017-05-03T14:46:58.172707Z",
     "start_time": "2017-05-03T14:46:12.634201Z"
    },
    "collapsed": true,
    "run_control": {
     "frozen": false,
     "read_only": false
    }
   },
   "outputs": [],
   "source": [
    "hunter_script = '/home/parashar/scratch/quadcomb/scripts/G4Hunter.r'\n",
    "in_fn = '../data/ligands_rna_seq/promoter_sequences.seq'\n",
    "out_fn = '../data/ligands_rna_seq/hunter_scores.txt'\n",
    "! Rscript $hunter_script $in_fn $out_fn\n",
    "clear_output()"
   ]
  },
  {
   "cell_type": "code",
   "execution_count": 130,
   "metadata": {
    "ExecuteTime": {
     "end_time": "2017-05-03T16:03:41.524672Z",
     "start_time": "2017-05-03T16:03:41.454404Z"
    },
    "run_control": {
     "frozen": false,
     "read_only": false
    }
   },
   "outputs": [
    {
     "data": {
      "text/plain": [
       "(21050, 21050)"
      ]
     },
     "execution_count": 130,
     "metadata": {},
     "output_type": "execute_result"
    }
   ],
   "source": [
    "hunter_scores = []\n",
    "with open(out_fn) as h:\n",
    "    next(h)\n",
    "    for l in h:\n",
    "        c = l.rstrip('\\n').split('\\t')\n",
    "        hunter_scores.append(abs(float(c[1])))\n",
    "len(hunter_scores) ,len(hunter_genes)"
   ]
  },
  {
   "cell_type": "code",
   "execution_count": 131,
   "metadata": {
    "ExecuteTime": {
     "end_time": "2017-05-03T16:03:43.885378Z",
     "start_time": "2017-05-03T16:03:42.461370Z"
    },
    "collapsed": true,
    "run_control": {
     "frozen": false,
     "read_only": false
    }
   },
   "outputs": [],
   "source": [
    "de_hunter = []\n",
    "rest_hunter = []\n",
    "for gene,s in zip(hunter_genes, hunter_scores):\n",
    "    if gene in phendc3_up_genes or gene in phendc3_down_genes:\n",
    "        de_hunter.append(s)\n",
    "    else:\n",
    "        rest_hunter.append(s)\n",
    "de_hunter = np.array(de_hunter)\n",
    "rest_hunter = np.array(rest_hunter)"
   ]
  },
  {
   "cell_type": "code",
   "execution_count": 420,
   "metadata": {
    "ExecuteTime": {
     "end_time": "2017-05-07T20:15:47.466838Z",
     "start_time": "2017-05-07T20:15:46.944844Z"
    },
    "run_control": {
     "frozen": false,
     "read_only": false
    }
   },
   "outputs": [
    {
     "data": {
      "image/png": "[encoded data removed]",
      "text/plain": [
       "<matplotlib.figure.Figure at 0x2af1f21329e8>"
      ]
     },
     "metadata": {},
     "output_type": "display_data"
    },
    {
     "data": {
      "text/plain": [
       "(MannwhitneyuResult(statistic=2318825.0, pvalue=3.1979921440508951e-15),\n",
       " 1.233745261458034)"
      ]
     },
     "execution_count": 420,
     "metadata": {},
     "output_type": "execute_result"
    }
   ],
   "source": [
    "a = de_hunter\n",
    "b = rest_hunter\n",
    "b = np.array([b[np.random.randint(len(b))] for x in range(len(a))])\n",
    "\n",
    "fig, ax = plt.subplots(1, 1, figsize=(2.2, 2.5))\n",
    "\n",
    "boxprops = dict(linestyle='-', linewidth=1, color='k')\n",
    "whiskerprops = dict(linestyle='--', linewidth=1, color='k')\n",
    "medianprops = dict(linestyle='-', linewidth=1.5, color='crimson')\n",
    "\n",
    "ax.boxplot([a, b], sym='', whis=10, widths=[0.5, 0.5], whiskerprops=whiskerprops,\n",
    "          boxprops=boxprops, medianprops=medianprops)\n",
    "\n",
    "ax.set_ylabel('G4Hunter\\nscore per promoter', fontsize=10)\n",
    "ax.set_xticklabels(['DE genes', 'Non-DE genes'], rotation=45, fontsize=10)\n",
    "clean_axis(ax)\n",
    "\n",
    "plt.tight_layout()\n",
    "plt.savefig('../images/phendc3_rna_seq_hunter_promoter_wise.png', dpi=300, transparent=True, edgecolor='none')\n",
    "plt.savefig('../images/phendc3_rna_seq_hunter_promoter_wise.svg', transparent=True, edgecolor='none')\n",
    "\n",
    "plt.show()\n",
    "mannwhitneyu(a, b), a.mean()/b.mean()"
   ]
  },
  {
   "cell_type": "code",
   "execution_count": null,
   "metadata": {
    "collapsed": true,
    "run_control": {
     "frozen": false,
     "read_only": false
    }
   },
   "outputs": [],
   "source": []
  }
 ],
 "metadata": {
  "kernelspec": {
   "display_name": "Python [default]",
   "language": "python",
   "name": "python3"
  },
  "language_info": {
   "codemirror_mode": {
    "name": "ipython",
    "version": 3
   },
   "file_extension": ".py",
   "mimetype": "text/x-python",
   "name": "python",
   "nbconvert_exporter": "python",
   "pygments_lexer": "ipython3",
   "version": "3.5.2"
  }
 },
 "nbformat": 4,
 "nbformat_minor": 1
}
