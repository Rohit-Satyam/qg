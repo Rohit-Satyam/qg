{
 "cells": [
  {
   "cell_type": "code",
   "execution_count": 1,
   "metadata": {
    "ExecuteTime": {
     "end_time": "2017-04-10T05:15:53.118356",
     "start_time": "2017-04-10T10:45:50.317348+05:30"
    },
    "collapsed": false,
    "run_control": {
     "frozen": false,
     "read_only": false
    }
   },
   "outputs": [
    {
     "data": {
      "text/plain": [
       "25"
      ]
     },
     "execution_count": 1,
     "metadata": {},
     "output_type": "execute_result"
    }
   ],
   "source": [
    "import json\n",
    "import numpy as np\n",
    "from tqdm import tqdm\n",
    "import glob as glob\n",
    "import matplotlib.pyplot as plt\n",
    "from scipy.stats import zscore, mannwhitneyu, ttest_ind, ks_2samp, wilcoxon\n",
    "import pybedtools as pbt\n",
    "from IPython.display import clear_output\n",
    "from ipyparallel import Client\n",
    "\n",
    "plt.style.use('fivethirtyeight')\n",
    "def clean_axis(ax):\n",
    "    ax.xaxis.set_tick_params(labelsize=9)\n",
    "    ax.yaxis.set_tick_params(labelsize=9)\n",
    "    for i in ['top', 'bottom', 'left', 'right']:\n",
    "        ax.spines[i].set_visible(False)\n",
    "    ax.grid(which='major', linestyle='--', alpha=0.5)\n",
    "    return True\n",
    "\n",
    "DVIEW = Client()[:]\n",
    "DVIEW.block=True\n",
    "len(DVIEW)"
   ]
  },
  {
   "cell_type": "code",
   "execution_count": 2,
   "metadata": {
    "ExecuteTime": {
     "end_time": "2017-04-10T05:15:53.154082",
     "start_time": "2017-04-10T10:45:53.121616+05:30"
    },
    "collapsed": true,
    "run_control": {
     "frozen": false,
     "read_only": false
    }
   },
   "outputs": [],
   "source": [
    "chroms = ['chr'+str(x) for x in range(1,23)] + ['chrX', 'chrY']\n",
    "chrom_info = [x.rstrip('\\n').split('\\t') for x in \n",
    "              open('/home/parashar/scratch/hg19_resource/hg19.genome').readlines()]\n",
    "chrom_info = {x[0]: int(x[1]) for x in chrom_info}"
   ]
  },
  {
   "cell_type": "code",
   "execution_count": 3,
   "metadata": {
    "ExecuteTime": {
     "end_time": "2017-04-10T05:16:03.728148",
     "start_time": "2017-04-10T10:45:53.158455+05:30"
    },
    "collapsed": false,
    "run_control": {
     "frozen": false,
     "read_only": false
    }
   },
   "outputs": [
    {
     "data": {
      "text/plain": [
       "58171"
      ]
     },
     "execution_count": 3,
     "metadata": {},
     "output_type": "execute_result"
    }
   ],
   "source": [
    "gencode_data = json.load(open('../data/annotation/hg19_gencode.json'))\n",
    "gene_strand = {}\n",
    "for i in gencode_data:\n",
    "    g = gencode_data[i]['gene_name']\n",
    "    s = gencode_data[i]['strand'] \n",
    "    if gencode_data[i]['chrom'] in chroms:\n",
    "        if g in gene_strand:\n",
    "            if gene_strand[g] != s:\n",
    "                pass\n",
    "        else:\n",
    "            gene_strand[g] = s\n",
    "len(gene_strand)"
   ]
  },
  {
   "cell_type": "code",
   "execution_count": 4,
   "metadata": {
    "ExecuteTime": {
     "end_time": "2017-04-10T05:16:06.483671",
     "start_time": "2017-04-10T10:46:06.159138+05:30"
    },
    "collapsed": false,
    "run_control": {
     "frozen": false,
     "read_only": false
    }
   },
   "outputs": [
    {
     "data": {
      "text/plain": [
       "(24, 1594, 718)"
      ]
     },
     "execution_count": 4,
     "metadata": {},
     "output_type": "execute_result"
    }
   ],
   "source": [
    "chrom_wise_gene_locus_map = {x:{} for x in chroms}\n",
    "phendc3_up_genes = []\n",
    "phendc3_down_genes = []\n",
    "with open('../data/ligands_rna_seq/GSE60630_phendc3_ht1080') as h:\n",
    "    next(h)\n",
    "    for l in h:\n",
    "        c = l.rstrip('\\n').split('\\t')\n",
    "        chrom = c[3].split(':')[0]\n",
    "        if chrom in chrom_wise_gene_locus_map and c[2] in gene_strand:\n",
    "            chrom_wise_gene_locus_map[chrom][c[2]] = [\n",
    "                int(x) for x in c[3].split(':')[1].split('-')] + [gene_strand[c[2]]]\n",
    "            if float(c[12]) < 0.05:\n",
    "                if float(c[9]) > np.log2(1.5):\n",
    "                    phendc3_up_genes.append(c[2])\n",
    "                elif float(c[9]) < np.log2(0.5):\n",
    "                    phendc3_down_genes.append(c[2])\n",
    "len(chrom_wise_gene_locus_map), len(phendc3_up_genes), len(phendc3_down_genes)"
   ]
  },
  {
   "cell_type": "code",
   "execution_count": 477,
   "metadata": {
    "ExecuteTime": {
     "end_time": "2017-04-10T08:42:12.253102",
     "start_time": "2017-04-10T14:11:34.225535+05:30"
    },
    "code_folding": [
     0
    ],
    "collapsed": false,
    "run_control": {
     "frozen": false,
     "read_only": false
    },
    "scrolled": true
   },
   "outputs": [
    {
     "name": "stdout",
     "output_type": "stream",
     "text": [
      "(5, 0)\n"
     ]
    },
    {
     "data": {
      "image/png": "[encoded data removed]",
      "text/plain": [
       "<matplotlib.figure.Figure at 0x2b4713a705f8>"
      ]
     },
     "metadata": {},
     "output_type": "display_data"
    },
    {
     "name": "stdout",
     "output_type": "stream",
     "text": [
      "[1270, 922.75] 1.37632078028 (5, 0) MannwhitneyuResult(statistic=207.0, pvalue=0.04845096607462223)\n",
      "(10, 0)\n"
     ]
    },
    {
     "data": {
      "image/png": "[encoded data removed]",
      "text/plain": [
       "<matplotlib.figure.Figure at 0x2b47281d6860>"
      ]
     },
     "metadata": {},
     "output_type": "display_data"
    },
    {
     "name": "stdout",
     "output_type": "stream",
     "text": [
      "[1790, 1411.1400000000001] 1.26847796817 (10, 0) MannwhitneyuResult(statistic=225.0, pvalue=0.098740202058349213)\n",
      "(15, 0)\n"
     ]
    },
    {
     "data": {
      "image/png": "[encoded data removed]",
      "text/plain": [
       "<matplotlib.figure.Figure at 0x2b465a143978>"
      ]
     },
     "metadata": {},
     "output_type": "display_data"
    },
    {
     "name": "stdout",
     "output_type": "stream",
     "text": [
      "[1977, 1627.1800000000001] 1.21498543492 (15, 0) MannwhitneyuResult(statistic=228.0, pvalue=0.1099295970857293)\n",
      "(15, 3)\n"
     ]
    },
    {
     "data": {
      "image/png": "[encoded data removed]",
      "text/plain": [
       "<matplotlib.figure.Figure at 0x2b471534bef0>"
      ]
     },
     "metadata": {},
     "output_type": "display_data"
    },
    {
     "name": "stdout",
     "output_type": "stream",
     "text": [
      "[2299, 2139.0100000000002] 1.07479628426 (15, 3) MannwhitneyuResult(statistic=262.0, pvalue=0.29950823396296333)\n",
      "(50, 3)\n"
     ]
    },
    {
     "data": {
      "image/png": "[encoded data removed]",
      "text/plain": [
       "<matplotlib.figure.Figure at 0x2b4713a7aef0>"
      ]
     },
     "metadata": {},
     "output_type": "display_data"
    },
    {
     "name": "stdout",
     "output_type": "stream",
     "text": [
      "[2312, 2168.8600000000001] 1.0659978053 (50, 3) MannwhitneyuResult(statistic=262.5, pvalue=0.30309509554488639)\n"
     ]
    }
   ],
   "source": [
    "def calc_overlap(chrom):\n",
    "    import pybedtools as pbt\n",
    "    import numpy as np\n",
    "\n",
    "    def load_g4_bed():\n",
    "        g4_bed = []\n",
    "        with open('/home/parashar/scratch/quadruplexes/hg19/g3_%s_%s_%s_nov.bed' %\n",
    "                  (loop, bulge, chrom)) as h:\n",
    "            for l in h:\n",
    "                c = l.rstrip('\\n').split('\\t')\n",
    "                s = '+' if c[4] == 'G' else '-'\n",
    "                g4_bed.append('\\t'.join(map(str, [c[0], c[1], c[2], '.', '0', s])))\n",
    "        g4_bed = pbt.BedTool('\\n'.join(g4_bed), from_string=True)\n",
    "        return g4_bed\n",
    "\n",
    "    def load_de_non_de_genes():\n",
    "        de_bed = []\n",
    "        rest_bed = []\n",
    "        for gene, info in gene_info[chrom].items():\n",
    "            if info[2] == '+':\n",
    "                bed_line = '\\t'.join(map(str, [chrom, info[0]-offset, info[0]+offset,\n",
    "                                               gene, '0', info[2]]))\n",
    "            else:\n",
    "                bed_line = '\\t'.join(map(str, [chrom, info[1]-offset, info[1]+offset,\n",
    "                                               gene, '0', info[2]]))\n",
    "            if gene in de_genes:\n",
    "                de_bed.append(bed_line)\n",
    "            else:\n",
    "                rest_bed.append(bed_line)\n",
    "\n",
    "        de_bed = pbt.BedTool('\\n'.join(de_bed), from_string=True)\n",
    "        rest_bed = pbt.BedTool('\\n'.join(rest_bed), from_string=True)\n",
    "        return de_bed, rest_bed\n",
    "\n",
    "    g4_bed = load_g4_bed()\n",
    "    de_bed, rest_bed = load_de_non_de_genes()\n",
    "    g4_de = de_bed.intersect(g4_bed, u=True).count()\n",
    "    \n",
    "    rest_genes = []\n",
    "    for i in rest_bed:\n",
    "        rest_genes.append(str(i.name))\n",
    "    rest_genes = np.array(list(set(rest_genes)))\n",
    "    g4_rest = rest_bed.intersect(g4_bed, wo=True)\n",
    "    g4_rest_genes = []\n",
    "    for i in g4_rest:\n",
    "        g4_rest_genes.append(str(i.name))\n",
    "    g4_rest_genes = np.array(list(set(g4_rest_genes)))\n",
    "    \n",
    "    g4_rests = []\n",
    "    for i in range(100):\n",
    "        random_genes = set([rest_genes[np.random.randint(len(rest_genes))]\n",
    "                        for x in range(len(de_bed))])\n",
    "        g4_rests.append(len(random_genes.intersection(g4_rest_genes)))\n",
    "    \n",
    "    return g4_de, g4_rests\n",
    "\n",
    "offset = 500\n",
    "configs = [(5, 0), (10, 0), (15, 0), (15, 3), (50, 3)]\n",
    "\n",
    "for config in configs:\n",
    "    loop = str(config[0])\n",
    "    bulge = str(config[1])\n",
    "\n",
    "    _ = DVIEW.push(dict(\n",
    "        de_genes=phendc3_up_genes+phendc3_down_genes,\n",
    "        gene_info=chrom_wise_gene_locus_map,\n",
    "        loop=loop,\n",
    "        bulge=bulge,\n",
    "        offset=offset\n",
    "    ))\n",
    "    \n",
    "    print (config)\n",
    "    \n",
    "    res = DVIEW.map_sync(calc_overlap, chroms)\n",
    "    g4_de, g4_rests = [], []\n",
    "    for i in res:\n",
    "        g4_de.append(i[0])\n",
    "        g4_rests.append(i[1])\n",
    "    g4_de = np.array(g4_de)\n",
    "    g4_rests = np.array(g4_rests)\n",
    "    \n",
    "    fig, ax = plt.subplots(1, 1, figsize=(2, 2.4))\n",
    "    x = [1,2]\n",
    "    y = [g4_de.sum(), g4_rests.sum(axis=0).mean()]\n",
    "    ax.bar(x, y, yerr=[0, g4_rests.sum(axis=0).std()], color='grey')\n",
    "    ax.set_ylabel('Promoters with\\nG4 motif', fontsize=10)\n",
    "    ax.set_xticklabels(['', 'DE genes', 'Random genes'], fontsize=9, rotation=45, ha='right')\n",
    "    ax.set_ylim((0, 2600))\n",
    "    ax.set_yticks([x for x in range(0, 2600, 500)])\n",
    "    clean_axis(ax)\n",
    "    plt.tight_layout()\n",
    "    plt.savefig('../images/phendc3_rna_seq_G4_%d_%d.png' % (config[0], config[1]), dpi=300,\n",
    "                transparent=True, edgecolor='none')\n",
    "    plt.savefig('../images/phendc3_rna_seq_G4_%d_%d.svg' % (config[0], config[1]),\n",
    "                transparent=True, edgecolor='none')\n",
    "    plt.show()\n",
    "    print (y, y[0]/y[1], config, mannwhitneyu(g4_de, g4_rests.mean(axis=1)))"
   ]
  },
  {
   "cell_type": "code",
   "execution_count": 471,
   "metadata": {
    "ExecuteTime": {
     "end_time": "2017-04-10T08:41:13.924483",
     "start_time": "2017-04-10T14:11:09.878632+05:30"
    },
    "collapsed": false,
    "run_control": {
     "frozen": false,
     "read_only": false
    },
    "scrolled": true
   },
   "outputs": [],
   "source": [
    "def load_scores(chrom, chrom_info, strand):\n",
    "    fn = '../data/QG_expectation_scores_corrected_values/%s_%s.npy' % (chrom, strand)\n",
    "    return np.load(fn, mmap_mode='r')\n",
    "\n",
    "gene_names = []\n",
    "exp_scores = []\n",
    "offset = 500\n",
    "for chrom in chroms:\n",
    "    print (chrom)\n",
    "    temp = []\n",
    "    pos_exp = load_scores(chrom, chrom_info, 'positive')\n",
    "    neg_exp = load_scores(chrom, chrom_info, 'negative')\n",
    "    for gene, info in chrom_wise_gene_locus_map[chrom].items():\n",
    "        gene_names.append(gene)\n",
    "        if info[2] == '+':\n",
    "            pos_score = pos_exp[info[0] - offset : info[0] + offset]\n",
    "            neg_score = neg_exp[info[0] - offset : info[0] + offset]\n",
    "        else:\n",
    "            pos_score = pos_exp[info[1] - offset : info[1] + offset][::-1]\n",
    "            neg_score = neg_exp[info[1] - offset : info[1] + offset][::-1]\n",
    "        temp.append(np.array(pos_score) + np.array(neg_score))\n",
    "    exp_scores.append(np.array(temp))\n",
    "    clear_output()"
   ]
  },
  {
   "cell_type": "code",
   "execution_count": 472,
   "metadata": {
    "ExecuteTime": {
     "end_time": "2017-04-10T08:41:15.475773",
     "start_time": "2017-04-10T14:11:13.927272+05:30"
    },
    "collapsed": true
   },
   "outputs": [],
   "source": [
    "de_exp = []\n",
    "rest_exp = []\n",
    "for n,chrom in enumerate(chroms):\n",
    "    de_temp = []\n",
    "    rest_temp = []\n",
    "    for i,gene in enumerate(chrom_wise_gene_locus_map[chrom]):\n",
    "        if gene in phendc3_up_genes or gene in phendc3_down_genes:\n",
    "            de_temp.append(exp_scores[n][i])\n",
    "        else:\n",
    "            rest_temp.append(exp_scores[n][i])\n",
    "    de_exp.append(np.array(de_temp))\n",
    "    rest_exp.append(np.array(rest_temp))"
   ]
  },
  {
   "cell_type": "code",
   "execution_count": 495,
   "metadata": {
    "ExecuteTime": {
     "end_time": "2017-04-10T09:02:02.507125",
     "start_time": "2017-04-10T14:32:00.720076+05:30"
    },
    "collapsed": false
   },
   "outputs": [
    {
     "name": "stdout",
     "output_type": "stream",
     "text": [
      "(1000,) (1000,)\n",
      "0.0135193805876 0.0104803887758 1.28996937774\n"
     ]
    },
    {
     "data": {
      "image/png": "[encoded data removed]",
      "text/plain": [
       "<matplotlib.figure.Figure at 0x2b472f25cbe0>"
      ]
     },
     "metadata": {},
     "output_type": "display_data"
    },
    {
     "name": "stdout",
     "output_type": "stream",
     "text": [
      "WilcoxonResult(statistic=17.0, pvalue=3.5000195640183923e-165)\n"
     ]
    }
   ],
   "source": [
    "a = []\n",
    "chr_wise_count = []\n",
    "for i in de_exp:\n",
    "    a.extend(i)\n",
    "a = np.array(a)\n",
    "\n",
    "r = []\n",
    "for i in rest_exp:\n",
    "    r.extend(i)\n",
    "r = np.array([r[np.random.randint(len(r))] for x in range(len(a))])\n",
    "\n",
    "a = a.sum(axis=0)/len(a)\n",
    "r = r.sum(axis=0)/len(r)\n",
    "\n",
    "print (a.shape, r.shape)\n",
    "print (a.mean(), r.mean(), a.mean()/r.mean())\n",
    "\n",
    "fig, ax = plt.subplots(1, 1, figsize=(3.2, 2.2))\n",
    "\n",
    "ax.hist(r, bins=80, alpha=0.7, color='grey', label='Random genes')\n",
    "ax.hist(a, bins=80, alpha=0.65, color='crimson', label='DE genes')\n",
    "ax.set_xlabel('Mean ' + r'$\\xi$' + ' score at\\n each position in promoters', fontsize=10)\n",
    "ax.set_ylabel('Frequency', fontsize=10)\n",
    "ax.legend(frameon=False, loc= (0, 0.8), fontsize=9)\n",
    "clean_axis(ax)\n",
    "plt.tight_layout()\n",
    "plt.savefig('../images/phendc3_rna_seq_exp_position_wise.png', dpi=300, transparent=True, edgecolor='none')\n",
    "plt.savefig('../images/phendc3_rna_seq_exp_position_wise.svg', transparent=True, edgecolor='none')\n",
    "\n",
    "plt.show()\n",
    "\n",
    "print (wilcoxon(a, r))"
   ]
  },
  {
   "cell_type": "code",
   "execution_count": 496,
   "metadata": {
    "ExecuteTime": {
     "end_time": "2017-04-10T09:02:09.941718",
     "start_time": "2017-04-10T14:32:09.926611+05:30"
    },
    "collapsed": true
   },
   "outputs": [],
   "source": [
    "?wilcoxon"
   ]
  },
  {
   "cell_type": "code",
   "execution_count": 491,
   "metadata": {
    "ExecuteTime": {
     "end_time": "2017-04-10T08:51:38.268287",
     "start_time": "2017-04-10T14:21:37.596439+05:30"
    },
    "collapsed": false
   },
   "outputs": [
    {
     "name": "stdout",
     "output_type": "stream",
     "text": [
      "(2312,) (2312,)\n",
      "0.213251094685 0.173285301263 1.23063579617 1.31283397783\n"
     ]
    },
    {
     "data": {
      "image/png": "[encoded data removed]",
      "text/plain": [
       "<matplotlib.figure.Figure at 0x2b47176b96a0>"
      ]
     },
     "metadata": {},
     "output_type": "display_data"
    },
    {
     "name": "stdout",
     "output_type": "stream",
     "text": [
      "Ttest_indResult(statistic=11.445102419438269, pvalue=6.2736610855003463e-30)\n"
     ]
    }
   ],
   "source": [
    "a = []\n",
    "chr_wise_count = []\n",
    "for i in [x.max(axis=1) for x in de_exp]:\n",
    "    a.extend(i)\n",
    "    chr_wise_count.append(len(i))\n",
    "a = np.array(a)\n",
    "\n",
    "r = []\n",
    "for i,c in zip([x.max(axis=1) for x in rest_exp], chr_wise_count):\n",
    "    rand_idx = [np.random.randint(len(i)) for x in range(c)]\n",
    "    r.extend(i[rand_idx])\n",
    "r = np.array(r)\n",
    "\n",
    "print (a.shape, r.shape)\n",
    "print (a.mean(), r.mean(), a.mean()/r.mean(), np.median(a)/np.median(r))\n",
    "\n",
    "fig, ax = plt.subplots(1, 1, figsize=(2.2, 2.5))\n",
    "\n",
    "boxprops = dict(linestyle='-', linewidth=1.2, color='k')\n",
    "whiskerprops = dict(linestyle='--', linewidth=1.2, color='k')\n",
    "medianprops = dict(linestyle='-', linewidth=1.5, color='crimson')\n",
    "\n",
    "ax.boxplot([a, r], sym='', widths=0.5, boxprops=boxprops, \n",
    "           medianprops=medianprops, whiskerprops=whiskerprops)\n",
    "ax.set_ylabel('Max. ' + r'$\\xi$' + 'score\\nper promoter', fontsize=10)\n",
    "ax.set_xticklabels([\n",
    "        'DE genes', 'Random genes',\n",
    "    ], rotation=45, fontsize=10, ha='right')\n",
    "clean_axis(ax)\n",
    "\n",
    "plt.tight_layout()\n",
    "plt.savefig('../images/phendc3_rna_seq_exp.png', dpi=300, transparent=True, edgecolor='none')\n",
    "plt.savefig('../images/phendc3_rna_seq_exp.svg', transparent=True, edgecolor='none')\n",
    "\n",
    "plt.show()\n",
    "\n",
    "print (ttest_ind(a, r))"
   ]
  },
  {
   "cell_type": "code",
   "execution_count": 509,
   "metadata": {
    "ExecuteTime": {
     "end_time": "2017-04-10T09:07:38.853576",
     "start_time": "2017-04-10T14:37:35.357234+05:30"
    },
    "collapsed": false,
    "run_control": {
     "frozen": false,
     "read_only": false
    }
   },
   "outputs": [
    {
     "data": {
      "text/plain": [
       "(array([43671, 26919, 21069, 13071, 19776, 14568, 22715, 13834, 16074,\n",
       "        18920, 27844, 19820,  6765, 13334, 11666, 26406, 29889,  5364,\n",
       "        40966,  9256,  4090, 13626,  9783,   249]),\n",
       " (24, 100),\n",
       " 14446.767916666666,\n",
       " 8645.5801914362)"
      ]
     },
     "execution_count": 509,
     "metadata": {},
     "output_type": "execute_result"
    }
   ],
   "source": [
    "exp_cutoff = 0.01\n",
    "\n",
    "de_exp_cut = []\n",
    "chr_wise_count = []\n",
    "for i in de_exp:\n",
    "    temp = 0\n",
    "    for j in i:\n",
    "        temp += len(np.where(j > exp_cutoff)[0])\n",
    "    de_exp_cut.append(temp)\n",
    "    chr_wise_count.append(len(i))\n",
    "de_exp_cut = np.array(de_exp_cut)\n",
    "\n",
    "rest_exp_cut = []\n",
    "\n",
    "for i,c in zip(rest_exp, chr_wise_count):\n",
    "    temp = []\n",
    "    for n in range(100):\n",
    "        t = 0\n",
    "        random_rest_exp = np.array([i[np.random.randint(len(i))]\n",
    "                                    for x in range(c)])\n",
    "        for j in random_rest_exp:\n",
    "            t += len(np.where(j > exp_cutoff)[0])\n",
    "        temp.append(t)\n",
    "    rest_exp_cut.append(np.array(temp))\n",
    "rest_exp_cut = np.array(rest_exp_cut)\n",
    "de_exp_cut, rest_exp_cut.shape, np.mean(rest_exp_cut), np.std(rest_exp_cut)"
   ]
  },
  {
   "cell_type": "code",
   "execution_count": 516,
   "metadata": {
    "ExecuteTime": {
     "end_time": "2017-04-10T09:14:10.722022",
     "start_time": "2017-04-10T14:44:10.163586+05:30"
    },
    "collapsed": false,
    "run_control": {
     "frozen": false,
     "read_only": false
    }
   },
   "outputs": [
    {
     "name": "stdout",
     "output_type": "stream",
     "text": [
      "[429.67500000000001, 346.72242999999997] 1.23924777523 Ttest_indResult(statistic=6.5917808506332047, pvalue=3.7392012937457889e-08)\n"
     ]
    },
    {
     "data": {
      "image/png": "[encoded data removed]",
      "text/plain": [
       "<matplotlib.figure.Figure at 0x2b473058b400>"
      ]
     },
     "metadata": {},
     "output_type": "display_data"
    }
   ],
   "source": [
    "fig, ax = plt.subplots(1, 1, figsize=(2, 2.4))\n",
    "x = [1,2]\n",
    "temp = rest_exp_cut.sum(axis=0)\n",
    "y = [sum(de_exp_cut)/1000, temp.mean()/1000]\n",
    "yerr = [0, temp.std()/1000]\n",
    "\n",
    "ax.bar(x, y, yerr=yerr, color='grey')\n",
    "ax.set_ylabel('Promoters with\\n' + r'$\\xi$' + ' > 0.01 (thousands)', fontsize=10)\n",
    "ax.set_xticklabels(['', 'DE genes', 'Random genes'], fontsize=9, rotation=45, ha='right')\n",
    "#ax.set_ylim((0, 2600))\n",
    "#ax.set_yticks([x for x in range(0, 2600, 500)])\n",
    "clean_axis(ax)\n",
    "plt.tight_layout()\n",
    "plt.savefig('../images/phendc3_rna_seq_e_0.01.png', dpi=300,\n",
    "            transparent=True, edgecolor='none')\n",
    "plt.savefig('../images/phendc3_rna_seq_e_0.01.svg',\n",
    "            transparent=True, edgecolor='none')\n",
    "print (y, y[0]/y[1], ttest_ind(de_exp_cut/chr_wise_count,\n",
    "                                  rest_exp_cut.mean(axis=1)/chr_wise_count))\n",
    "\n",
    "plt.show()"
   ]
  },
  {
   "cell_type": "code",
   "execution_count": 517,
   "metadata": {
    "ExecuteTime": {
     "end_time": "2017-04-10T09:14:56.255827",
     "start_time": "2017-04-10T14:44:56.245279+05:30"
    },
    "collapsed": false
   },
   "outputs": [
    {
     "data": {
      "text/plain": [
       "429675"
      ]
     },
     "execution_count": 517,
     "metadata": {},
     "output_type": "execute_result"
    }
   ],
   "source": [
    "sum(de_exp_cut)"
   ]
  }
 ],
 "metadata": {
  "kernelspec": {
   "display_name": "Python [default]",
   "language": "python",
   "name": "python3"
  },
  "language_info": {
   "codemirror_mode": {
    "name": "ipython",
    "version": 3
   },
   "file_extension": ".py",
   "mimetype": "text/x-python",
   "name": "python",
   "nbconvert_exporter": "python",
   "pygments_lexer": "ipython3",
   "version": "3.5.2"
  }
 },
 "nbformat": 4,
 "nbformat_minor": 1
}
