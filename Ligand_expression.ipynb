{
 "cells": [
  {
   "cell_type": "code",
   "execution_count": 1,
   "metadata": {
    "ExecuteTime": {
     "end_time": "2017-06-01T04:46:25.831394Z",
     "start_time": "2017-06-01T04:46:15.892234Z"
    },
    "collapsed": true,
    "run_control": {
     "frozen": false,
     "read_only": false
    }
   },
   "outputs": [],
   "source": [
    "import json\n",
    "import numpy as np\n",
    "from tqdm import tqdm\n",
    "import glob as glob\n",
    "import matplotlib as mpl\n",
    "import matplotlib.pyplot as plt\n",
    "from scipy.stats import zscore, mannwhitneyu, ttest_ind, ks_2samp, wilcoxon, ranksums\n",
    "import pybedtools as pbt\n",
    "from IPython.display import clear_output\n",
    "from ipyparallel import Client\n",
    "import seaborn.apionly as sns\n",
    "from statsmodels.sandbox.stats.multicomp import multipletests\n",
    "\n",
    "plt.style.use('fivethirtyeight')\n",
    "def clean_axis(ax):\n",
    "    ax.xaxis.set_tick_params(labelsize=10)\n",
    "    ax.yaxis.set_tick_params(labelsize=10)\n",
    "    for i in ['top', 'bottom', 'left', 'right']:\n",
    "        ax.spines[i].set_visible(False)\n",
    "    ax.grid(which='major', linestyle='--', alpha=0.5)\n",
    "    return True\n",
    "\n",
    "# DVIEW = Client()[:]\n",
    "# DVIEW.block=True\n",
    "# len(DVIEW)"
   ]
  },
  {
   "cell_type": "code",
   "execution_count": 2,
   "metadata": {
    "ExecuteTime": {
     "end_time": "2017-06-01T04:46:35.804891Z",
     "start_time": "2017-06-01T04:46:25.834322Z"
    },
    "run_control": {
     "frozen": false,
     "read_only": false
    }
   },
   "outputs": [
    {
     "data": {
      "text/plain": [
       "58171"
      ]
     },
     "execution_count": 2,
     "metadata": {},
     "output_type": "execute_result"
    }
   ],
   "source": [
    "chroms = ['chr'+str(x) for x in range(1,23)] + ['chrX', 'chrY']\n",
    "chrom_info = [x.rstrip('\\n').split('\\t') for x in \n",
    "              open('/home/parashar/scratch/hg19_resource/hg19.genome').readlines()]\n",
    "chrom_info = {x[0]: int(x[1]) for x in chrom_info}\n",
    "\n",
    "gencode_data = json.load(open('../data/annotation/hg19_gencode.json'))\n",
    "gene_strand = {}\n",
    "for i in gencode_data:\n",
    "    g = gencode_data[i]['gene_name']\n",
    "    s = gencode_data[i]['strand'] \n",
    "    if gencode_data[i]['chrom'] in chroms:\n",
    "        if g in gene_strand:\n",
    "            if gene_strand[g] != s:\n",
    "                pass\n",
    "        else:\n",
    "            gene_strand[g] = s\n",
    "len(gene_strand)"
   ]
  },
  {
   "cell_type": "code",
   "execution_count": 3,
   "metadata": {
    "ExecuteTime": {
     "end_time": "2017-06-01T04:46:36.193101Z",
     "start_time": "2017-06-01T04:46:35.808335Z"
    },
    "run_control": {
     "frozen": false,
     "read_only": false
    }
   },
   "outputs": [
    {
     "data": {
      "text/plain": [
       "(24, 1594, 718)"
      ]
     },
     "execution_count": 3,
     "metadata": {},
     "output_type": "execute_result"
    }
   ],
   "source": [
    "chrom_wise_gene_locus_map = {x:{} for x in chroms}\n",
    "phendc3_up_genes = []\n",
    "phendc3_down_genes = []\n",
    "with open('../data/ligands_rna_seq/GSE60630_phendc3_ht1080') as h:\n",
    "    next(h)\n",
    "    for l in h:\n",
    "        c = l.rstrip('\\n').split('\\t')\n",
    "        chrom = c[3].split(':')[0]\n",
    "        if chrom in chrom_wise_gene_locus_map and c[2] in gene_strand:\n",
    "            chrom_wise_gene_locus_map[chrom][c[2]] = [\n",
    "                int(x) for x in c[3].split(':')[1].split('-')] + [gene_strand[c[2]]]\n",
    "            if float(c[12]) < 0.05:\n",
    "                if float(c[9]) > np.log2(1.5):\n",
    "                    phendc3_up_genes.append(c[2])\n",
    "                elif float(c[9]) < np.log2(0.5):\n",
    "                    phendc3_down_genes.append(c[2])\n",
    "len(chrom_wise_gene_locus_map), len(phendc3_up_genes), len(phendc3_down_genes)"
   ]
  },
  {
   "cell_type": "code",
   "execution_count": 6,
   "metadata": {
    "ExecuteTime": {
     "end_time": "2017-05-14T08:11:04.141382Z",
     "start_time": "2017-05-14T08:10:09.245117Z"
    },
    "code_folding": [
     0
    ],
    "run_control": {
     "frozen": true,
     "read_only": true
    },
    "scrolled": true
   },
   "outputs": [
    {
     "name": "stdout",
     "output_type": "stream",
     "text": [
      "(5, 0)\n"
     ]
    },
    {
     "data": {
      "image/png": "[encoded data removed]",
      "text/plain": [
       "<matplotlib.figure.Figure at 0x2ab3a0534e48>"
      ]
     },
     "metadata": {},
     "output_type": "display_data"
    },
    {
     "name": "stdout",
     "output_type": "stream",
     "text": [
      "[1270, 915.97000000000003] 1.38650829176 (5, 0) MannwhitneyuResult(statistic=205.0, pvalue=0.044442768831605584)\n",
      "(15, 0)\n"
     ]
    },
    {
     "data": {
      "image/png": "[encoded data removed]",
      "text/plain": [
       "<matplotlib.figure.Figure at 0x2ab3a05a3f28>"
      ]
     },
     "metadata": {},
     "output_type": "display_data"
    },
    {
     "name": "stdout",
     "output_type": "stream",
     "text": [
      "[1977, 1626.1199999999999] 1.2157774334 (15, 0) MannwhitneyuResult(statistic=229.0, pvalue=0.11385430944653702)\n",
      "(25, 0)\n"
     ]
    },
    {
     "data": {
      "image/png": "[encoded data removed]",
      "text/plain": [
       "<matplotlib.figure.Figure at 0x2ab3a0609f98>"
      ]
     },
     "metadata": {},
     "output_type": "display_data"
    },
    {
     "name": "stdout",
     "output_type": "stream",
     "text": [
      "[2129, 1803.45] 1.18051512379 (25, 0) MannwhitneyuResult(statistic=237.0, pvalue=0.14885025128924356)\n",
      "(5, 5)\n"
     ]
    },
    {
     "data": {
      "image/png": "[encoded data removed]",
      "text/plain": [
       "<matplotlib.figure.Figure at 0x2ab3a06afe10>"
      ]
     },
     "metadata": {},
     "output_type": "display_data"
    },
    {
     "name": "stdout",
     "output_type": "stream",
     "text": [
      "[2265, 2074.75] 1.09169779492 (5, 5) MannwhitneyuResult(statistic=255.0, pvalue=0.2513730934210644)\n",
      "(15, 5)\n"
     ]
    },
    {
     "data": {
      "image/png": "[encoded data removed]",
      "text/plain": [
       "<matplotlib.figure.Figure at 0x2ab3a071afd0>"
      ]
     },
     "metadata": {},
     "output_type": "display_data"
    },
    {
     "name": "stdout",
     "output_type": "stream",
     "text": [
      "[2307, 2156.8400000000001] 1.06962037054 (15, 5) MannwhitneyuResult(statistic=262.0, pvalue=0.29950327567429136)\n",
      "(25, 5)\n"
     ]
    },
    {
     "data": {
      "image/png": "[encoded data removed]",
      "text/plain": [
       "<matplotlib.figure.Figure at 0x2ab3a06bae80>"
      ]
     },
     "metadata": {},
     "output_type": "display_data"
    },
    {
     "name": "stdout",
     "output_type": "stream",
     "text": [
      "[2312, 2168.8699999999999] 1.06599289031 (25, 5) MannwhitneyuResult(statistic=262.5, pvalue=0.30309509554488639)\n"
     ]
    }
   ],
   "source": [
    "def calc_overlap(chrom):\n",
    "    import pybedtools as pbt\n",
    "    import numpy as np\n",
    "\n",
    "    def load_g4_bed():\n",
    "        g4_bed = []\n",
    "        with open('/home/parashar/scratch/quadruplexes/hg19/g3_%s_%s_%s_nov.bed' %\n",
    "                  (loop, bulge, chrom)) as h:\n",
    "            for l in h:\n",
    "                c = l.rstrip('\\n').split('\\t')\n",
    "                s = '+' if c[4] == 'G' else '-'\n",
    "                g4_bed.append('\\t'.join(map(str, [c[0], c[1], c[2], '.', '0', s])))\n",
    "        g4_bed = pbt.BedTool('\\n'.join(g4_bed), from_string=True)\n",
    "        return g4_bed\n",
    "\n",
    "    def load_de_non_de_genes():\n",
    "        de_bed = []\n",
    "        rest_bed = []\n",
    "        for gene, info in gene_info[chrom].items():\n",
    "            if info[2] == '+':\n",
    "                bed_line = '\\t'.join(map(str, [chrom, info[0]-offset, info[0]+offset,\n",
    "                                               gene, '0', info[2]]))\n",
    "            else:\n",
    "                bed_line = '\\t'.join(map(str, [chrom, info[1]-offset, info[1]+offset,\n",
    "                                               gene, '0', info[2]]))\n",
    "            if gene in de_genes:\n",
    "                de_bed.append(bed_line)\n",
    "            else:\n",
    "                rest_bed.append(bed_line)\n",
    "\n",
    "        de_bed = pbt.BedTool('\\n'.join(de_bed), from_string=True)\n",
    "        rest_bed = pbt.BedTool('\\n'.join(rest_bed), from_string=True)\n",
    "        return de_bed, rest_bed\n",
    "\n",
    "    g4_bed = load_g4_bed()\n",
    "    de_bed, rest_bed = load_de_non_de_genes()\n",
    "    g4_de = de_bed.intersect(g4_bed, u=True).count()\n",
    "    \n",
    "    rest_genes = []\n",
    "    for i in rest_bed:\n",
    "        rest_genes.append(str(i.name))\n",
    "    rest_genes = np.array(list(set(rest_genes)))\n",
    "    g4_rest = rest_bed.intersect(g4_bed, wo=True)\n",
    "    g4_rest_genes = []\n",
    "    for i in g4_rest:\n",
    "        g4_rest_genes.append(str(i.name))\n",
    "    g4_rest_genes = np.array(list(set(g4_rest_genes)))\n",
    "    \n",
    "    g4_rests = []\n",
    "    for i in range(100):\n",
    "        random_genes = set([rest_genes[np.random.randint(len(rest_genes))]\n",
    "                        for x in range(len(de_bed))])\n",
    "        g4_rests.append(len(random_genes.intersection(g4_rest_genes)))\n",
    "    \n",
    "    return g4_de, g4_rests\n",
    "\n",
    "offset = 500\n",
    "configs = [(5, 0), (15, 0), (25, 0), (5, 5), (15, 5), (25, 5)]\n",
    "\n",
    "for config in configs:\n",
    "    loop = str(config[0])\n",
    "    bulge = str(config[1])\n",
    "\n",
    "    _ = DVIEW.push(dict(\n",
    "        de_genes=phendc3_up_genes+phendc3_down_genes,\n",
    "        gene_info=chrom_wise_gene_locus_map,\n",
    "        loop=loop,\n",
    "        bulge=bulge,\n",
    "        offset=offset\n",
    "    ))\n",
    "    \n",
    "    print (config)\n",
    "    \n",
    "    res = DVIEW.map_sync(calc_overlap, chroms)\n",
    "    g4_de, g4_rests = [], []\n",
    "    for i in res:\n",
    "        g4_de.append(i[0])\n",
    "        g4_rests.append(i[1])\n",
    "    g4_de = np.array(g4_de)\n",
    "    g4_rests = np.array(g4_rests)\n",
    "    \n",
    "    fig, ax = plt.subplots(1, 1, figsize=(2, 2.4))\n",
    "    x = [1,2]\n",
    "    y = [g4_de.sum(), g4_rests.sum(axis=0).mean()]\n",
    "    ax.bar(x, y, yerr=[0, g4_rests.sum(axis=0).std()], color='grey')\n",
    "    ax.set_ylabel('Promoters with\\nG4 motif', fontsize=10)\n",
    "    ax.set_xticklabels(['', 'DE genes', 'Random genes'], fontsize=9, rotation=45, ha='right')\n",
    "    ax.set_ylim((0, 2600))\n",
    "    ax.set_yticks([x for x in range(0, 2600, 500)])\n",
    "    clean_axis(ax)\n",
    "    plt.tight_layout()\n",
    "    plt.savefig('../images/phendc3_rna_seq_G4_%d_%d.png' % (config[0], config[1]), dpi=300,\n",
    "                transparent=True, edgecolor='none')\n",
    "    plt.savefig('../images/phendc3_rna_seq_G4_%d_%d.svg' % (config[0], config[1]),\n",
    "                transparent=True, edgecolor='none')\n",
    "    plt.show()\n",
    "    print (y, y[0]/y[1], config, mannwhitneyu(g4_de, g4_rests.mean(axis=1)))"
   ]
  },
  {
   "cell_type": "code",
   "execution_count": 4,
   "metadata": {
    "ExecuteTime": {
     "end_time": "2017-06-01T04:46:40.168404Z",
     "start_time": "2017-06-01T04:46:36.195997Z"
    },
    "run_control": {
     "frozen": false,
     "read_only": false
    },
    "scrolled": true
   },
   "outputs": [],
   "source": [
    "def load_scores(chrom, chrom_info, strand):\n",
    "    fn = '../data/snipr/%s_%s_scores.npy' % (chrom, strand)\n",
    "    return np.load(fn, mmap_mode='r')\n",
    "\n",
    "gene_names = []\n",
    "snipr_scores = []\n",
    "offset = 500\n",
    "for chrom in chroms:\n",
    "    print (chrom)\n",
    "    temp = []\n",
    "    pos_exp = load_scores(chrom, chrom_info, 'positive')\n",
    "    neg_exp = load_scores(chrom, chrom_info, 'negative')\n",
    "    for gene, info in chrom_wise_gene_locus_map[chrom].items():\n",
    "        gene_names.append(gene)\n",
    "        if info[2] == '+':\n",
    "            pos_score = pos_exp[info[0] - offset : info[0] + offset]\n",
    "            neg_score = neg_exp[info[0] - offset : info[0] + offset]\n",
    "        else:\n",
    "            pos_score = pos_exp[info[1] - offset : info[1] + offset][::-1]\n",
    "            neg_score = neg_exp[info[1] - offset : info[1] + offset][::-1]\n",
    "        temp.append(np.array(pos_score) + np.array(neg_score))\n",
    "    snipr_scores.append(np.array(temp))\n",
    "    clear_output()"
   ]
  },
  {
   "cell_type": "code",
   "execution_count": 5,
   "metadata": {
    "ExecuteTime": {
     "end_time": "2017-06-01T04:46:41.827608Z",
     "start_time": "2017-06-01T04:46:40.172162Z"
    },
    "run_control": {
     "frozen": false,
     "read_only": false
    }
   },
   "outputs": [
    {
     "data": {
      "text/plain": [
       "((2312, 1000), (18738, 1000))"
      ]
     },
     "execution_count": 5,
     "metadata": {},
     "output_type": "execute_result"
    }
   ],
   "source": [
    "de_snipr = []\n",
    "rest_snipr = []\n",
    "for n,chrom in enumerate(chroms):\n",
    "    de_temp = []\n",
    "    rest_temp = []\n",
    "    for i,gene in enumerate(chrom_wise_gene_locus_map[chrom]):\n",
    "        if gene in phendc3_up_genes or gene in phendc3_down_genes:\n",
    "            de_temp.append(snipr_scores[n][i])\n",
    "        else:\n",
    "            rest_temp.append(snipr_scores[n][i])\n",
    "    de_snipr.extend(de_temp)\n",
    "    rest_snipr.extend(rest_temp)\n",
    "de_snipr = np.array(de_snipr)\n",
    "rest_snipr = np.array(rest_snipr)\n",
    "de_snipr.shape, rest_snipr.shape"
   ]
  },
  {
   "cell_type": "code",
   "execution_count": 6,
   "metadata": {
    "ExecuteTime": {
     "end_time": "2017-06-01T04:47:35.388072Z",
     "start_time": "2017-06-01T04:46:41.831140Z"
    },
    "run_control": {
     "frozen": false,
     "read_only": false
    }
   },
   "outputs": [
    {
     "name": "stderr",
     "output_type": "stream",
     "text": [
      "100%|██████████| 1000/1000 [00:29<00:00, 34.27it/s]\n"
     ]
    },
    {
     "data": {
      "text/plain": [
       "(2312000, 1000)"
      ]
     },
     "execution_count": 6,
     "metadata": {},
     "output_type": "execute_result"
    }
   ],
   "source": [
    "pvals = []\n",
    "de = de_snipr.mean(axis=1)\n",
    "nonde_snipr = []\n",
    "for i in tqdm(range(1000)):\n",
    "    b = np.array([rest_snipr[np.random.randint(len(rest_snipr))]\n",
    "                  for x in range(len(de))])\n",
    "    nonde_snipr.extend(b)\n",
    "    x = [de[np.random.randint(len(de))] for x in range(100)]\n",
    "    y = np.array([b[np.random.randint(len(b))] for x in range(100)])\n",
    "    pvals.append(mannwhitneyu(x, y.mean(axis=1))[1])\n",
    "nonde_snipr = np.array(nonde_snipr)\n",
    "nonde = nonde_snipr.mean(axis=1)\n",
    "nonde_snipr.shape"
   ]
  },
  {
   "cell_type": "code",
   "execution_count": 7,
   "metadata": {
    "ExecuteTime": {
     "end_time": "2017-06-01T04:47:35.496235Z",
     "start_time": "2017-06-01T04:47:35.392471Z"
    },
    "run_control": {
     "frozen": false,
     "read_only": false
    }
   },
   "outputs": [
    {
     "name": "stdout",
     "output_type": "stream",
     "text": [
      "0.000648312526249 117.0845 82.31 1.42248207994 2312 2312000\n"
     ]
    }
   ],
   "source": [
    "print (np.median(pvals), np.median(de), np.median(nonde),\n",
    "       np.median(de)/np.median(nonde), len(de), len(nonde))"
   ]
  },
  {
   "cell_type": "code",
   "execution_count": 8,
   "metadata": {
    "ExecuteTime": {
     "end_time": "2017-06-01T04:47:36.306772Z",
     "start_time": "2017-06-01T04:47:35.499041Z"
    },
    "run_control": {
     "frozen": false,
     "read_only": false
    }
   },
   "outputs": [
    {
     "data": {
      "image/png": "[encoded data removed]",
      "text/plain": [
       "<matplotlib.figure.Figure at 0x2b6856a25fd0>"
      ]
     },
     "metadata": {},
     "output_type": "display_data"
    }
   ],
   "source": [
    "fig, ax = plt.subplots(1, 1, figsize=(2.2, 2.5))\n",
    "\n",
    "boxprops = dict(linestyle='-', linewidth=1, color='k')\n",
    "whiskerprops = dict(linestyle='--', linewidth=1, color='k')\n",
    "medianprops = dict(linestyle='-', linewidth=1.5, color='crimson')\n",
    "\n",
    "ax.boxplot([de, nonde], sym='', widths=[0.5, 0.5], whiskerprops=whiskerprops,\n",
    "           boxprops=boxprops, medianprops=medianprops)\n",
    "    \n",
    "ax.set_ylabel('Mean SNIPR-Q\\nscore per promoter', fontsize=10)\n",
    "ax.set_xticklabels(['DE promoters', 'Non-DE promoters'], rotation=45, fontsize=10)\n",
    "clean_axis(ax)\n",
    "\n",
    "plt.tight_layout()\n",
    "plt.savefig('../images/phendc3_rna_seq_snipr_promoter_wise_MEDIAN.png', dpi=300, transparent=True, edgecolor='none')\n",
    "plt.savefig('../images/phendc3_rna_seq_snipr_promoter_wise_MEDIAN.svg', transparent=True, edgecolor='none')\n",
    "\n",
    "plt.show()"
   ]
  },
  {
   "cell_type": "code",
   "execution_count": 9,
   "metadata": {
    "ExecuteTime": {
     "end_time": "2017-06-01T04:48:20.083975Z",
     "start_time": "2017-06-01T04:47:36.310046Z"
    },
    "run_control": {
     "frozen": false,
     "read_only": false
    }
   },
   "outputs": [
    {
     "name": "stderr",
     "output_type": "stream",
     "text": [
      "100%|██████████| 10000/10000 [00:15<00:00, 665.13it/s]\n"
     ]
    },
    {
     "data": {
      "text/plain": [
       "(0.0054266384209517033, 1.1283666764319003)"
      ]
     },
     "execution_count": 9,
     "metadata": {},
     "output_type": "execute_result"
    }
   ],
   "source": [
    "a = np.array([np.max(x) for x in de_snipr])\n",
    "b = np.array([np.max(x) for x in nonde_snipr])\n",
    "pvals = []\n",
    "for i in tqdm(range(10000)):\n",
    "    x = [a[np.random.randint(len(a))] for x in range(100)]\n",
    "    y = [b[np.random.randint(len(b))] for x in range(100)]\n",
    "    pvals.append(mannwhitneyu(x, y)[1])\n",
    "np.median(pvals), np.mean(a)/np.mean(b)"
   ]
  },
  {
   "cell_type": "code",
   "execution_count": 10,
   "metadata": {
    "ExecuteTime": {
     "end_time": "2017-06-01T04:48:21.061477Z",
     "start_time": "2017-06-01T04:48:20.086537Z"
    },
    "run_control": {
     "frozen": false,
     "read_only": false
    }
   },
   "outputs": [
    {
     "data": {
      "image/png": "[encoded data removed]",
      "text/plain": [
       "<matplotlib.figure.Figure at 0x2b6cf6661a20>"
      ]
     },
     "metadata": {},
     "output_type": "display_data"
    }
   ],
   "source": [
    "fig, ax = plt.subplots(1, 1, figsize=(3, 2.3))\n",
    "\n",
    "ax.hist(a, alpha=0.7, bins=40, color='crimson', label='DE genes', normed=True)\n",
    "ax.hist(b, alpha=0.5, bins=40, color='dodgerblue', label='Non-DE genes', normed=True)\n",
    "ax.legend(frameon=False, fontsize=10)\n",
    "ax.set_xlabel('Max SNIPR-Q scores\\nper promoter', fontsize=10)\n",
    "ax.set_ylabel('Frequency', fontsize=10)\n",
    "clean_axis(ax)\n",
    "plt.tight_layout()\n",
    "plt.savefig('../images/phendc3_rna_seq_snipr_promoter_wise_MAX.svg',\n",
    "            transparent=True, edgecolor='none')\n",
    "plt.show()"
   ]
  },
  {
   "cell_type": "code",
   "execution_count": 11,
   "metadata": {
    "ExecuteTime": {
     "end_time": "2017-06-01T04:48:30.733057Z",
     "start_time": "2017-06-01T04:48:21.064613Z"
    },
    "run_control": {
     "frozen": false,
     "read_only": false
    }
   },
   "outputs": [
    {
     "data": {
      "text/plain": [
       "(3.6128695737783532e-126,\n",
       " 119.5377776816609,\n",
       " 89.703479436418675,\n",
       " 1.332587971310395)"
      ]
     },
     "execution_count": 11,
     "metadata": {},
     "output_type": "execute_result"
    }
   ],
   "source": [
    "a = de_snipr.mean(axis=0)\n",
    "b = nonde_snipr.mean(axis=0)\n",
    "np.median(mannwhitneyu(a, b)[1]), np.mean(a),  np.mean(b), np.mean(a)/np.mean(b), "
   ]
  },
  {
   "cell_type": "code",
   "execution_count": 12,
   "metadata": {
    "ExecuteTime": {
     "end_time": "2017-06-01T04:48:30.740939Z",
     "start_time": "2017-06-01T04:48:30.736250Z"
    },
    "collapsed": true
   },
   "outputs": [],
   "source": [
    "non_de_reshaped = nonde_snipr.reshape(1000, 2312, 1000)\n",
    "per_pos_mean = non_de_reshaped.mean(axis=1)\n",
    "random_min_max = np.array([per_pos_mean.min(axis=0), per_pos_mean.max(axis=0)])"
   ]
  },
  {
   "cell_type": "code",
   "execution_count": 34,
   "metadata": {
    "ExecuteTime": {
     "end_time": "2017-06-01T06:13:53.989538Z",
     "start_time": "2017-06-01T06:13:53.447793Z"
    },
    "run_control": {
     "frozen": false,
     "read_only": false
    }
   },
   "outputs": [
    {
     "data": {
      "image/png": "[encoded data removed]",
      "text/plain": [
       "<matplotlib.figure.Figure at 0x2b689ff26a20>"
      ]
     },
     "metadata": {},
     "output_type": "display_data"
    }
   ],
   "source": [
    "fig, ax = plt.subplots(1, 1, figsize=(4,2.5))\n",
    "\n",
    "ax.plot(de_snipr.mean(axis=0), lw=1, label='DE genes')\n",
    "ax.fill_between(range(1000), random_min_max[0], random_min_max[1],\n",
    "                color='lightgrey', alpha=0.9, label='Non-DE genes')\n",
    "ax.axvline(500, lw=1, ls='--', c='k')\n",
    "ax.set_xticks(range(0, 1100, 100))\n",
    "ax.set_xticklabels(range(-500, 600, 100), rotation=90)\n",
    "clean_axis(ax)\n",
    "ax.legend(loc='best', frameon=False)\n",
    "plt.savefig('../images/phendc3_rna_seq_snipr_position_wise_wrt_TSS.svg',\n",
    "            transparent=True, edgecolor='none')\n",
    "plt.show()"
   ]
  },
  {
   "cell_type": "code",
   "execution_count": 14,
   "metadata": {
    "ExecuteTime": {
     "end_time": "2017-06-01T04:48:48.953652Z",
     "start_time": "2017-06-01T04:48:47.753684Z"
    },
    "run_control": {
     "frozen": false,
     "read_only": false
    }
   },
   "outputs": [
    {
     "data": {
      "image/png": "[encoded data removed]",
      "text/plain": [
       "<matplotlib.figure.Figure at 0x2b689ee34908>"
      ]
     },
     "metadata": {},
     "output_type": "display_data"
    }
   ],
   "source": [
    "fig, ax = plt.subplots(1, 1, figsize=(3.2, 2.2))\n",
    "\n",
    "ax.hist(b, bins=80, alpha=0.7, label='Non-DE genes')\n",
    "ax.hist(a, bins=80, alpha=0.5, color='crimson', label='DE genes')\n",
    "ax.set_xlabel('Mean SNIPR-Q score at\\n each position in promoters', fontsize=10)\n",
    "ax.set_ylabel('Frequency', fontsize=10)\n",
    "ax.legend(frameon=False, loc= (0, 0.8), fontsize=9)\n",
    "clean_axis(ax)\n",
    "plt.tight_layout()\n",
    "plt.savefig('../images/phendc3_rna_seq_snipr_position_wise.svg',\n",
    "            transparent=True, edgecolor='none')\n",
    "\n",
    "plt.show()"
   ]
  },
  {
   "cell_type": "code",
   "execution_count": 12,
   "metadata": {
    "ExecuteTime": {
     "end_time": "2017-05-26T04:23:21.106269Z",
     "start_time": "2017-05-26T04:21:58.732561Z"
    },
    "collapsed": true,
    "run_control": {
     "frozen": false,
     "read_only": false
    }
   },
   "outputs": [],
   "source": [
    "offset = 500\n",
    "sequences = []\n",
    "hunter_genes = []\n",
    "for chrom in chroms:\n",
    "    print (chrom)\n",
    "    chrom_seq = ''.join([x.rstrip('\\n').upper() for x in open(\n",
    "        '/home/parashar/scratch/hg19_resource/chromosomes/%s.fa' % chrom).readlines()[1:]])\n",
    "    for gene, info in chrom_wise_gene_locus_map[chrom].items():\n",
    "        hunter_genes.append(gene)\n",
    "        if info[2] == '+':\n",
    "            seq = chrom_seq[info[0] - offset : info[0] + offset]\n",
    "        else:\n",
    "            seq = chrom_seq[info[1] - offset : info[1] + offset][::-1]\n",
    "        sequences.append(seq)\n",
    "    clear_output()\n",
    "with open('../data/ligands_rna_seq/promoter_sequences.seq', 'w') as OUT:\n",
    "    OUT.write(\"\\n\".join(sequences))"
   ]
  },
  {
   "cell_type": "code",
   "execution_count": 13,
   "metadata": {
    "ExecuteTime": {
     "end_time": "2017-05-26T04:24:08.871468Z",
     "start_time": "2017-05-26T04:23:21.109935Z"
    },
    "collapsed": true,
    "run_control": {
     "frozen": false,
     "read_only": false
    }
   },
   "outputs": [],
   "source": [
    "hunter_script = '/home/parashar/scratch/quadcomb/scripts/G4Hunter.r'\n",
    "in_fn = '../data/ligands_rna_seq/promoter_sequences.seq'\n",
    "out_fn = '../data/ligands_rna_seq/hunter_scores.txt'\n",
    "! Rscript $hunter_script $in_fn $out_fn\n",
    "clear_output()"
   ]
  },
  {
   "cell_type": "code",
   "execution_count": 14,
   "metadata": {
    "ExecuteTime": {
     "end_time": "2017-05-26T04:24:08.949809Z",
     "start_time": "2017-05-26T04:24:08.877504Z"
    },
    "run_control": {
     "frozen": false,
     "read_only": false
    }
   },
   "outputs": [
    {
     "data": {
      "text/plain": [
       "21050"
      ]
     },
     "execution_count": 14,
     "metadata": {},
     "output_type": "execute_result"
    }
   ],
   "source": [
    "hunter_scores = []\n",
    "with open('../data/ligands_rna_seq/hunter_scores.txt') as h:\n",
    "    next(h)\n",
    "    for l in h:\n",
    "        c = l.rstrip('\\n').split('\\t')\n",
    "        hunter_scores.append(abs(float(c[1])))\n",
    "len(hunter_scores)"
   ]
  },
  {
   "cell_type": "code",
   "execution_count": 15,
   "metadata": {
    "ExecuteTime": {
     "end_time": "2017-05-26T04:24:10.409973Z",
     "start_time": "2017-05-26T04:24:08.952304Z"
    },
    "collapsed": true,
    "run_control": {
     "frozen": false,
     "read_only": false
    }
   },
   "outputs": [],
   "source": [
    "de_hunter = []\n",
    "rest_hunter = []\n",
    "for gene,s in zip(hunter_genes, hunter_scores):\n",
    "    if gene in phendc3_up_genes or gene in phendc3_down_genes:\n",
    "        de_hunter.append(s)\n",
    "    else:\n",
    "        rest_hunter.append(s)\n",
    "de_hunter = np.array(de_hunter)\n",
    "rest_hunter = np.array(rest_hunter)"
   ]
  },
  {
   "cell_type": "code",
   "execution_count": 39,
   "metadata": {
    "ExecuteTime": {
     "end_time": "2017-05-26T04:47:05.936520Z",
     "start_time": "2017-05-26T04:46:53.307104Z"
    },
    "run_control": {
     "frozen": false,
     "read_only": false
    }
   },
   "outputs": [
    {
     "name": "stderr",
     "output_type": "stream",
     "text": [
      "100%|██████████| 1000/1000 [00:12<00:00, 79.88it/s]\n"
     ]
    },
    {
     "data": {
      "text/plain": [
       "0.064506657556406305"
      ]
     },
     "execution_count": 39,
     "metadata": {},
     "output_type": "execute_result"
    }
   ],
   "source": [
    "pvals = []\n",
    "nonde = []\n",
    "for i in tqdm(range(10000)):\n",
    "    b = np.array([rest_hunter[np.random.randint(len(rest_hunter))]\n",
    "                  for x in range(len(de_hunter))])\n",
    "    nonde.extend(b)\n",
    "    x = [de_hunter[np.random.randint(len(de_hunter))] for x in range(100)]\n",
    "    y = [b[np.random.randint(len(b))] for x in range(100)]\n",
    "    pvals.append(mannwhitneyu(x, y)[1])\n",
    "np.median(pvals)"
   ]
  },
  {
   "cell_type": "code",
   "execution_count": 40,
   "metadata": {
    "ExecuteTime": {
     "end_time": "2017-05-26T04:47:08.957967Z",
     "start_time": "2017-05-26T04:47:08.142423Z"
    },
    "run_control": {
     "frozen": false,
     "read_only": false
    }
   },
   "outputs": [
    {
     "data": {
      "image/png": "[encoded data removed]",
      "text/plain": [
       "<matplotlib.figure.Figure at 0x2acc1c7423c8>"
      ]
     },
     "metadata": {},
     "output_type": "display_data"
    }
   ],
   "source": [
    "fig, ax = plt.subplots(1, 1, figsize=(2.2, 2.5))\n",
    "\n",
    "boxprops = dict(linestyle='-', linewidth=1, color='k')\n",
    "whiskerprops = dict(linestyle='--', linewidth=1, color='k')\n",
    "medianprops = dict(linestyle='-', linewidth=1.5, color='crimson')\n",
    "\n",
    "ax.boxplot([de_hunter, nonde], sym='', widths=[0.5, 0.5],\n",
    "          boxprops=boxprops, medianprops=medianprops, whiskerprops=whiskerprops)\n",
    "\n",
    "ax.set_ylabel('G4Hunter\\nscore per promoter', fontsize=10)\n",
    "ax.set_xticklabels(['DE genes', 'Non-DE genes'], rotation=45, fontsize=10)\n",
    "clean_axis(ax)\n",
    "\n",
    "plt.tight_layout()\n",
    "plt.savefig('../images/phendc3_rna_seq_hunter_promoter_wise.svg',\n",
    "            transparent=True, edgecolor='none')\n",
    "plt.show()"
   ]
  },
  {
   "cell_type": "code",
   "execution_count": null,
   "metadata": {
    "collapsed": true,
    "run_control": {
     "frozen": false,
     "read_only": false
    }
   },
   "outputs": [],
   "source": []
  },
  {
   "cell_type": "code",
   "execution_count": 76,
   "metadata": {
    "ExecuteTime": {
     "end_time": "2017-05-15T01:25:49.985221Z",
     "start_time": "2017-05-15T01:25:38.460574Z"
    },
    "run_control": {
     "frozen": false,
     "read_only": false
    }
   },
   "outputs": [
    {
     "name": "stderr",
     "output_type": "stream",
     "text": [
      "100%|██████████| 1000/1000 [00:11<00:00, 86.88it/s]\n"
     ]
    }
   ],
   "source": [
    "hunter_fc = []\n",
    "for i in tqdm(range(1000)):\n",
    "    b = np.array([b[np.random.randint(len(b))] for x in range(len(a))])\n",
    "    hunter_fc.append(np.mean(a)/np.mean(b))\n",
    "hunter_fc = sorted(hunter_fc)"
   ]
  },
  {
   "cell_type": "code",
   "execution_count": 81,
   "metadata": {
    "ExecuteTime": {
     "end_time": "2017-05-15T01:26:42.586268Z",
     "start_time": "2017-05-15T01:26:42.576236Z"
    },
    "run_control": {
     "frozen": false,
     "read_only": false
    }
   },
   "outputs": [
    {
     "data": {
      "text/plain": [
       "(1.1089837575722898, 1.3291701312394457)"
      ]
     },
     "execution_count": 81,
     "metadata": {},
     "output_type": "execute_result"
    }
   ],
   "source": [
    "hunter_fc[50], hunter_fc[950]"
   ]
  }
 ],
 "metadata": {
  "kernelspec": {
   "display_name": "Python [default]",
   "language": "python",
   "name": "python3"
  },
  "language_info": {
   "codemirror_mode": {
    "name": "ipython",
    "version": 3
   },
   "file_extension": ".py",
   "mimetype": "text/x-python",
   "name": "python",
   "nbconvert_exporter": "python",
   "pygments_lexer": "ipython3",
   "version": "3.5.2"
  }
 },
 "nbformat": 4,
 "nbformat_minor": 1
}
