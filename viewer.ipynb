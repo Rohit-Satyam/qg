{
 "cells": [
  {
   "cell_type": "code",
   "execution_count": 1,
   "metadata": {
    "run_control": {
     "frozen": false,
     "read_only": false
    }
   },
   "outputs": [],
   "source": [
    "from snipr import StemGroups, QuadPaths\n",
    "import numpy as np"
   ]
  },
  {
   "cell_type": "code",
   "execution_count": 15,
   "metadata": {
    "run_control": {
     "frozen": false,
     "read_only": false
    }
   },
   "outputs": [
    {
     "ename": "FileNotFoundError",
     "evalue": "[Errno 2] No such file or directory: 'chr22.fa'",
     "output_type": "error",
     "traceback": [
      "\u001b[0;31m---------------------------------------------------------------------------\u001b[0m",
      "\u001b[0;31mFileNotFoundError\u001b[0m                         Traceback (most recent call last)",
      "\u001b[0;32m<ipython-input-15-536479253a43>\u001b[0m in \u001b[0;36m<module>\u001b[0;34m()\u001b[0m\n\u001b[0;32m----> 1\u001b[0;31m \u001b[0mseq\u001b[0m \u001b[0;34m=\u001b[0m \u001b[0;34m\"\"\u001b[0m\u001b[0;34m.\u001b[0m\u001b[0mjoin\u001b[0m\u001b[0;34m(\u001b[0m\u001b[0;34m[\u001b[0m\u001b[0mx\u001b[0m\u001b[0;34m.\u001b[0m\u001b[0mrstrip\u001b[0m\u001b[0;34m(\u001b[0m\u001b[0;34m'\\n'\u001b[0m\u001b[0;34m)\u001b[0m\u001b[0;34m.\u001b[0m\u001b[0mupper\u001b[0m\u001b[0;34m(\u001b[0m\u001b[0;34m)\u001b[0m \u001b[0;32mfor\u001b[0m \u001b[0mx\u001b[0m \u001b[0;32min\u001b[0m \u001b[0mopen\u001b[0m\u001b[0;34m(\u001b[0m\u001b[0;34m'chr22.fa'\u001b[0m\u001b[0;34m)\u001b[0m\u001b[0;34m.\u001b[0m\u001b[0mreadlines\u001b[0m\u001b[0;34m(\u001b[0m\u001b[0;34m)\u001b[0m\u001b[0;34m[\u001b[0m\u001b[0;36m1\u001b[0m\u001b[0;34m:\u001b[0m\u001b[0;34m]\u001b[0m\u001b[0;34m]\u001b[0m\u001b[0;34m)\u001b[0m\u001b[0;34m\u001b[0m\u001b[0m\n\u001b[0m\u001b[1;32m      2\u001b[0m \u001b[0mlen\u001b[0m\u001b[0;34m(\u001b[0m\u001b[0mseq\u001b[0m\u001b[0;34m)\u001b[0m\u001b[0;34m\u001b[0m\u001b[0m\n",
      "\u001b[0;31mFileNotFoundError\u001b[0m: [Errno 2] No such file or directory: 'chr22.fa'"
     ]
    }
   ],
   "source": [
    "seq = \"\".join([x.rstrip('\\n').upper() for x in open('chr22.fa').readlines()[1:]])\n",
    "len(seq)"
   ]
  },
  {
   "cell_type": "code",
   "execution_count": 219,
   "metadata": {
    "run_control": {
     "frozen": false,
     "read_only": false
    }
   },
   "outputs": [
    {
     "name": "stderr",
     "output_type": "stream",
     "text": [
      "100%|██████████| 345/345 [00:00<00:00, 49025.44it/s]\n",
      "100%|██████████| 345/345 [00:00<00:00, 46269.58it/s]\n"
     ]
    },
    {
     "data": {
      "text/plain": [
       "(142988, array([  228,  3660, 32252,     1,   348]))"
      ]
     },
     "execution_count": 219,
     "metadata": {},
     "output_type": "execute_result"
    }
   ],
   "source": [
    "loop_probs = np.array([\n",
    "    0.50860458,  0.15217531,  0.08495005,  0.0549146 ,  0.03100226,\n",
    "    0.03100226,  0.02320335,  0.01585562,  0.01160168,  0.00986142,\n",
    "    0.00928134,  0.00689655,  0.00702546,  0.00670319,  0.00496294,\n",
    "    0.00489849,  0.00315823,  0.0026426 ,  0.00270706,  0.00238479,\n",
    "    0.00283597,  0.00174025,  0.00186916,  0.00212697,  0.00199807, 0.00174025])\n",
    "loop_probs = loop_probs/loop_probs[0]\n",
    "bulge_probs = np.array([ 0.78772061,  0.13447676,  0.05100671,  0.02679592])\n",
    "bulge_probs = bulge_probs/bulge_probs[0]\n",
    "\n",
    "seq = \"AGGGAAGGGAAGGGAAGGGAGGGAGGGAGGAGGGA\" * 10\n",
    "\n",
    "\n",
    "def get_scores():\n",
    "    scores = np.zeros(len(seq), dtype=int)\n",
    "    sg_object = StemGroups(seq, 26, 3, 'G')\n",
    "    for stem_group in sg_object.generate_stems():\n",
    "        qp_object = QuadPaths(stem_group, 26, loop_probs, bulge_probs)\n",
    "        for qp, s in qp_object.generate_quadpaths():\n",
    "            scores[qp[scores[qp] < s]] = s\n",
    "    return scores\n",
    "\n",
    "def get_info(scores):\n",
    "    arcs = []\n",
    "    graph_info = []\n",
    "    sg_object = StemGroups(seq, 26, 3, 'G')\n",
    "    for stem_group in sg_object.generate_stems():\n",
    "        qp_object = QuadPaths(stem_group, 26, loop_probs, bulge_probs)\n",
    "        n = 0\n",
    "        for qp, s in qp_object.generate_quadpaths():\n",
    "            if s == scores[qp[0]] == scores[qp[-1]]:\n",
    "                arcs.append((qp[0], qp[-1]+1, s))\n",
    "            n += 1\n",
    "        if len(qp_object.G.nodes()) > 0:\n",
    "            nodes = np.array(list(qp_object.nodeCodes.values()))\n",
    "            graph_info.append([len(qp_object.G.nodes()), len(qp_object.G.edges()),\n",
    "                               n, nodes.min(), nodes.max()])\n",
    "    return arcs, np.array(graph_info)\n",
    "\n",
    "scores = get_scores()\n",
    "arcs, graph_info = get_info(scores)\n",
    "sum(scores), graph_info.sum(axis=0)"
   ]
  },
  {
   "cell_type": "code",
   "execution_count": 234,
   "metadata": {
    "run_control": {
     "frozen": false,
     "read_only": false
    }
   },
   "outputs": [
    {
     "data": {
      "text/plain": [
       "[(16, 32, 809),\n",
       " (51, 67, 809),\n",
       " (86, 102, 809),\n",
       " (121, 137, 809),\n",
       " (156, 172, 809),\n",
       " (191, 207, 809),\n",
       " (226, 242, 809),\n",
       " (261, 277, 809),\n",
       " (296, 312, 809),\n",
       " (331, 347, 809)]"
      ]
     },
     "execution_count": 234,
     "metadata": {},
     "output_type": "execute_result"
    }
   ],
   "source": [
    "arcs"
   ]
  },
  {
   "cell_type": "code",
   "execution_count": 235,
   "metadata": {
    "run_control": {
     "frozen": false,
     "read_only": false
    }
   },
   "outputs": [
    {
     "data": {
      "text/plain": [
       "[0,\n",
       " 300,\n",
       " 300,\n",
       " 300,\n",
       " 0,\n",
       " 0,\n",
       " 391,\n",
       " 391,\n",
       " 391,\n",
       " 0,\n",
       " 0,\n",
       " 562,\n",
       " 562,\n",
       " 562,\n",
       " 0,\n",
       " 0,\n",
       " 809,\n",
       " 809,\n",
       " 809,\n",
       " 0,\n",
       " 809,\n",
       " 809,\n",
       " 809,\n",
       " 0,\n",
       " 809,\n",
       " 809,\n",
       " 809,\n",
       " 0,\n",
       " 809,\n",
       " 809,\n",
       " 0,\n",
       " 809,\n",
       " 358,\n",
       " 358,\n",
       " 0,\n",
       " 0,\n",
       " 358,\n",
       " 358,\n",
       " 358,\n",
       " 0,\n",
       " 0,\n",
       " 391,\n",
       " 391,\n",
       " 391,\n",
       " 0,\n",
       " 0,\n",
       " 562,\n",
       " 562,\n",
       " 562,\n",
       " 0,\n",
       " 0,\n",
       " 809,\n",
       " 809,\n",
       " 809,\n",
       " 0,\n",
       " 809,\n",
       " 809,\n",
       " 809,\n",
       " 0,\n",
       " 809,\n",
       " 809,\n",
       " 809,\n",
       " 0,\n",
       " 809,\n",
       " 809,\n",
       " 0,\n",
       " 809,\n",
       " 358,\n",
       " 358,\n",
       " 0,\n",
       " 0,\n",
       " 358,\n",
       " 358,\n",
       " 358,\n",
       " 0,\n",
       " 0,\n",
       " 391,\n",
       " 391,\n",
       " 391,\n",
       " 0,\n",
       " 0,\n",
       " 562,\n",
       " 562,\n",
       " 562,\n",
       " 0,\n",
       " 0,\n",
       " 809,\n",
       " 809,\n",
       " 809,\n",
       " 0,\n",
       " 809,\n",
       " 809,\n",
       " 809,\n",
       " 0,\n",
       " 809,\n",
       " 809,\n",
       " 809,\n",
       " 0,\n",
       " 809,\n",
       " 809,\n",
       " 0,\n",
       " 809,\n",
       " 358,\n",
       " 358,\n",
       " 0,\n",
       " 0,\n",
       " 358,\n",
       " 358,\n",
       " 358,\n",
       " 0,\n",
       " 0,\n",
       " 391,\n",
       " 391,\n",
       " 391,\n",
       " 0,\n",
       " 0,\n",
       " 562,\n",
       " 562,\n",
       " 562,\n",
       " 0,\n",
       " 0,\n",
       " 809,\n",
       " 809,\n",
       " 809,\n",
       " 0,\n",
       " 809,\n",
       " 809,\n",
       " 809,\n",
       " 0,\n",
       " 809,\n",
       " 809,\n",
       " 809,\n",
       " 0,\n",
       " 809,\n",
       " 809,\n",
       " 0,\n",
       " 809,\n",
       " 358,\n",
       " 358,\n",
       " 0,\n",
       " 0,\n",
       " 358,\n",
       " 358,\n",
       " 358,\n",
       " 0,\n",
       " 0,\n",
       " 391,\n",
       " 391,\n",
       " 391,\n",
       " 0,\n",
       " 0,\n",
       " 562,\n",
       " 562,\n",
       " 562,\n",
       " 0,\n",
       " 0,\n",
       " 809,\n",
       " 809,\n",
       " 809,\n",
       " 0,\n",
       " 809,\n",
       " 809,\n",
       " 809,\n",
       " 0,\n",
       " 809,\n",
       " 809,\n",
       " 809,\n",
       " 0,\n",
       " 809,\n",
       " 809,\n",
       " 0,\n",
       " 809,\n",
       " 358,\n",
       " 358,\n",
       " 0,\n",
       " 0,\n",
       " 358,\n",
       " 358,\n",
       " 358,\n",
       " 0,\n",
       " 0,\n",
       " 391,\n",
       " 391,\n",
       " 391,\n",
       " 0,\n",
       " 0,\n",
       " 562,\n",
       " 562,\n",
       " 562,\n",
       " 0,\n",
       " 0,\n",
       " 809,\n",
       " 809,\n",
       " 809,\n",
       " 0,\n",
       " 809,\n",
       " 809,\n",
       " 809,\n",
       " 0,\n",
       " 809,\n",
       " 809,\n",
       " 809,\n",
       " 0,\n",
       " 809,\n",
       " 809,\n",
       " 0,\n",
       " 809,\n",
       " 358,\n",
       " 358,\n",
       " 0,\n",
       " 0,\n",
       " 358,\n",
       " 358,\n",
       " 358,\n",
       " 0,\n",
       " 0,\n",
       " 391,\n",
       " 391,\n",
       " 391,\n",
       " 0,\n",
       " 0,\n",
       " 562,\n",
       " 562,\n",
       " 562,\n",
       " 0,\n",
       " 0,\n",
       " 809,\n",
       " 809,\n",
       " 809,\n",
       " 0,\n",
       " 809,\n",
       " 809,\n",
       " 809,\n",
       " 0,\n",
       " 809,\n",
       " 809,\n",
       " 809,\n",
       " 0,\n",
       " 809,\n",
       " 809,\n",
       " 0,\n",
       " 809,\n",
       " 358,\n",
       " 358,\n",
       " 0,\n",
       " 0,\n",
       " 358,\n",
       " 358,\n",
       " 358,\n",
       " 0,\n",
       " 0,\n",
       " 391,\n",
       " 391,\n",
       " 391,\n",
       " 0,\n",
       " 0,\n",
       " 562,\n",
       " 562,\n",
       " 562,\n",
       " 0,\n",
       " 0,\n",
       " 809,\n",
       " 809,\n",
       " 809,\n",
       " 0,\n",
       " 809,\n",
       " 809,\n",
       " 809,\n",
       " 0,\n",
       " 809,\n",
       " 809,\n",
       " 809,\n",
       " 0,\n",
       " 809,\n",
       " 809,\n",
       " 0,\n",
       " 809,\n",
       " 358,\n",
       " 358,\n",
       " 0,\n",
       " 0,\n",
       " 358,\n",
       " 358,\n",
       " 358,\n",
       " 0,\n",
       " 0,\n",
       " 391,\n",
       " 391,\n",
       " 391,\n",
       " 0,\n",
       " 0,\n",
       " 562,\n",
       " 562,\n",
       " 562,\n",
       " 0,\n",
       " 0,\n",
       " 809,\n",
       " 809,\n",
       " 809,\n",
       " 0,\n",
       " 809,\n",
       " 809,\n",
       " 809,\n",
       " 0,\n",
       " 809,\n",
       " 809,\n",
       " 809,\n",
       " 0,\n",
       " 809,\n",
       " 809,\n",
       " 0,\n",
       " 809,\n",
       " 358,\n",
       " 358,\n",
       " 0,\n",
       " 0,\n",
       " 358,\n",
       " 358,\n",
       " 358,\n",
       " 0,\n",
       " 0,\n",
       " 391,\n",
       " 391,\n",
       " 391,\n",
       " 0,\n",
       " 0,\n",
       " 562,\n",
       " 562,\n",
       " 562,\n",
       " 0,\n",
       " 0,\n",
       " 809,\n",
       " 809,\n",
       " 809,\n",
       " 0,\n",
       " 809,\n",
       " 809,\n",
       " 809,\n",
       " 0,\n",
       " 809,\n",
       " 809,\n",
       " 809,\n",
       " 0,\n",
       " 809,\n",
       " 809,\n",
       " 0,\n",
       " 809,\n",
       " 168,\n",
       " 140,\n",
       " 0]"
      ]
     },
     "execution_count": 235,
     "metadata": {},
     "output_type": "execute_result"
    }
   ],
   "source": [
    "list(scores)"
   ]
  },
  {
   "cell_type": "code",
   "execution_count": 229,
   "metadata": {
    "run_control": {
     "frozen": false,
     "read_only": false
    }
   },
   "outputs": [
    {
     "data": {
      "image/png": "[encoded data removed]",
      "text/plain": [
       "<matplotlib.figure.Figure at 0x7fedc6f56550>"
      ]
     },
     "metadata": {},
     "output_type": "display_data"
    }
   ],
   "source": [
    "fig, ax = plt.subplots(1, 1, figsize=(10, 4))\n",
    "ind = list(range(len(scores)))\n",
    "ax.bar(ind, scores, width=1, linewidth=0)\n",
    "for i in arcs:\n",
    "    x = range(i[0], i[1])\n",
    "    ax.plot(range(i[0], i[1]), [i[2] for y in range(len(x))], color='crimson')\n",
    "plt.show()"
   ]
  },
  {
   "cell_type": "code",
   "execution_count": 209,
   "metadata": {
    "run_control": {
     "frozen": false,
     "read_only": false
    }
   },
   "outputs": [
    {
     "data": {
      "text/plain": [
       "array([  0, 391, 391, 391,   0,   0, 562, 562, 562,   0,   0, 562, 562,\n",
       "       562,   0, 562, 562, 562,   0, 562, 562, 562,   0,   0, 562, 562,\n",
       "       562,   0,   0, 562, 562, 562,   0,   0, 562, 562, 562,   0, 562,\n",
       "       562, 562,   0, 562, 562, 562,   0])"
      ]
     },
     "execution_count": 209,
     "metadata": {},
     "output_type": "execute_result"
    }
   ],
   "source": [
    "scores"
   ]
  },
  {
   "cell_type": "code",
   "execution_count": null,
   "metadata": {
    "collapsed": true,
    "run_control": {
     "frozen": false,
     "read_only": false
    }
   },
   "outputs": [],
   "source": []
  }
 ],
 "metadata": {
  "kernelspec": {
   "display_name": "Python [default]",
   "language": "python",
   "name": "python3"
  },
  "language_info": {
   "codemirror_mode": {
    "name": "ipython",
    "version": 3
   },
   "file_extension": ".py",
   "mimetype": "text/x-python",
   "name": "python",
   "nbconvert_exporter": "python",
   "pygments_lexer": "ipython3",
   "version": "3.5.2"
  }
 },
 "nbformat": 4,
 "nbformat_minor": 2
}
