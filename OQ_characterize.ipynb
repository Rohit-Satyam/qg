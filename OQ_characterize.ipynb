{
 "cells": [
  {
   "cell_type": "code",
   "execution_count": 140,
   "metadata": {
    "ExecuteTime": {
     "end_time": "2017-06-02T06:38:06.973126Z",
     "start_time": "2017-06-02T06:38:06.837622Z"
    },
    "code_folding": [],
    "run_control": {
     "frozen": false,
     "read_only": false
    }
   },
   "outputs": [
    {
     "data": {
      "text/plain": [
       "30"
      ]
     },
     "execution_count": 140,
     "metadata": {},
     "output_type": "execute_result"
    }
   ],
   "source": [
    "from tqdm import tqdm\n",
    "from collections import Counter\n",
    "import numpy as np\n",
    "import matplotlib.pyplot as plt\n",
    "from SNIPRQ import StemGroups, QuadPaths\n",
    "from IPython.display import clear_output\n",
    "import networkx as nx\n",
    "from itertools import combinations_with_replacement\n",
    "from scipy.stats import mannwhitneyu\n",
    "from ipyparallel import Client\n",
    "\n",
    "plt.style.use('fivethirtyeight')\n",
    "def clean_axis(ax):\n",
    "    ax.xaxis.set_tick_params(labelsize=11)\n",
    "    ax.yaxis.set_tick_params(labelsize=11)\n",
    "    for i in ['top', 'bottom', 'left', 'right']:\n",
    "        ax.spines[i].set_visible(False)\n",
    "    ax.grid(which='major', linestyle='--', alpha=0.5)\n",
    "    return True\n",
    "\n",
    "DVIEW = Client()[:]\n",
    "DVIEW.block=True\n",
    "len(DVIEW)"
   ]
  },
  {
   "cell_type": "code",
   "execution_count": null,
   "metadata": {
    "ExecuteTime": {
     "start_time": "2017-05-14T19:57:29.422Z"
    },
    "collapsed": true,
    "run_control": {
     "frozen": true,
     "read_only": true
    }
   },
   "outputs": [],
   "source": [
    "# Will take around 2 hours to run\n",
    "\n",
    "from ipyparallel import Client\n",
    "DVIEW = Client()[:]\n",
    "DVIEW.block=True\n",
    "len(DVIEW)\n",
    "\n",
    "def get_sam_line(bed_line):\n",
    "    c = bed_line.rstrip('\\n').split('\\t')\n",
    "    sam_dir = '/home/parashar/scratch/quadcomb/data/g4_seq/reanalysis/aligned_sequences'\n",
    "    sub_dirs = ['Na_K_1/SRR1693705', 'Na_K_1/SRR1693706']\n",
    "    for sd in sub_dirs:\n",
    "        read_name = c[3]\n",
    "        flag = '0' if c[5] == '+' else '16'\n",
    "        fn = sd.split('/')[-1][-2:] + '_' + str(int(int(read_name)/1e6)) + '.sam'\n",
    "        fn_path = \"%s/%s/%s\" % (sam_dir, sd, fn)\n",
    "        grep_res = !grep $read_name $fn_path\n",
    "        for res in grep_res:\n",
    "            sam_line = res.split('\\t')\n",
    "            if len(sam_line) in [19, 20]:\n",
    "                aligned_pos = int(sam_line[3]) - 1\n",
    "                change_point_pos = int(c[1])\n",
    "                if sam_line[0].split('.')[1] == read_name:\n",
    "                    if sam_line[2] == c[0]:\n",
    "                        if aligned_pos+150 > change_point_pos > aligned_pos:\n",
    "                            if sam_line[1] == flag:\n",
    "                                c[3] = sam_line[0]\n",
    "                                c[4] = str(aligned_pos)\n",
    "                                c.append(sam_line[9])\n",
    "                                return c\n",
    "    return ['False']\n",
    "\n",
    "changepoint_bed = '../data/oq_switchpoints/Na_K_1_unique.bed'\n",
    "bed_data = []\n",
    "sam_data = []\n",
    "with open(changepoint_bed) as h:\n",
    "    for l in tqdm(h):\n",
    "        bed_data.append(l)\n",
    "        if len(bed_data) == 300:\n",
    "            sam_data.extend(DVIEW.map_sync(get_sam_line, bed_data))\n",
    "            bed_data = []\n",
    "sam_data.extend(DVIEW.map_sync(get_sam_line, bed_data))\n",
    "with open('../data/oq_switchpoints/Na_K_1_unique_with_sam_data.bed', 'w') as OUT:\n",
    "    OUT.write('\\n'.join(['\\t'.join(x) for x in sam_data]))"
   ]
  },
  {
   "cell_type": "code",
   "execution_count": 2,
   "metadata": {
    "ExecuteTime": {
     "end_time": "2017-05-25T11:34:09.503116Z",
     "start_time": "2017-05-25T11:33:26.956995Z"
    },
    "collapsed": true,
    "run_control": {
     "frozen": false,
     "read_only": false
    }
   },
   "outputs": [],
   "source": [
    "def comp(s):\n",
    "    nuc_map = {'A':'T', 'T':'A', 'G':'C', 'C':'G', 'N': 'N'}\n",
    "    return ''.join([nuc_map[i.upper()] for i in s])\n",
    "\n",
    "oq_sequences = []\n",
    "change_point_positions = []\n",
    "with open('../data/oq_switchpoints/Na_K_1_unique_with_sam_data.bed') as h:\n",
    "    for n,l in enumerate(h):\n",
    "        print ('\\r%d' % n, end='')\n",
    "        c = l.rstrip('\\n').split('\\t')\n",
    "        p = int(c[1]) - int(c[4])\n",
    "        s = c[6]\n",
    "        if c[5] == '-':\n",
    "            s = s[::-1]\n",
    "            # -1 considering a previous offset issue upstream\n",
    "            p = (len(s)-p-1)\n",
    "            oq_sequences.append(s) \n",
    "            change_point_positions.append(p)\n",
    "        if c[5] == \"+\":\n",
    "            s = comp(s)\n",
    "            oq_sequences.append(s) \n",
    "            change_point_positions.append(p)\n",
    "clear_output()"
   ]
  },
  {
   "cell_type": "code",
   "execution_count": 3,
   "metadata": {
    "ExecuteTime": {
     "end_time": "2017-05-25T11:34:16.380229Z",
     "start_time": "2017-05-25T11:34:09.508459Z"
    },
    "collapsed": true,
    "run_control": {
     "frozen": false,
     "read_only": false
    }
   },
   "outputs": [],
   "source": [
    "base_comp = np.array([[0, 0, 0, 0] for x in range(51)])\n",
    "nuc_idx = {'A': 0, 'T': 1, 'G': 2, 'C': 3}\n",
    "for p,s in zip(change_point_positions, oq_sequences):\n",
    "    ss = s[p-20:p+31]\n",
    "    for i in range(51):\n",
    "        if ss[i] == 'N':\n",
    "            continue\n",
    "        base_comp[i][nuc_idx[ss[i].upper()]] += 1"
   ]
  },
  {
   "cell_type": "code",
   "execution_count": 4,
   "metadata": {
    "ExecuteTime": {
     "end_time": "2017-05-14T20:02:49.465074Z",
     "start_time": "2017-05-14T20:02:47.979493Z"
    },
    "run_control": {
     "frozen": false,
     "read_only": false
    }
   },
   "outputs": [
    {
     "data": {
      "image/png": "[encoded data removed]",
      "text/plain": [
       "<matplotlib.figure.Figure at 0x2aba7dd2f240>"
      ]
     },
     "metadata": {},
     "output_type": "display_data"
    }
   ],
   "source": [
    "fig, ax = plt.subplots(1, 1, figsize=(8, 3.5))\n",
    "\n",
    "for i,j,c in zip(base_comp.T, ['A', 'T', 'G', 'C'],\n",
    "                 ['green', 'olive', 'crimson', 'darkgreen']):\n",
    "    ax.plot(i/base_comp.sum(axis=1)[0], label=j, lw=2, c=c, alpha=0.8)\n",
    "ax.axvline(20, lw=1, ls='--', c='k')\n",
    "ax.set_xticks(range(51))\n",
    "ax.set_xticklabels(range(-20, 31, 1), rotation=90)\n",
    "ax.set_xlabel('Distance from change-point', fontsize=12)\n",
    "ax.set_ylabel('Relative Frequency', fontsize=12)\n",
    "ax.set_xlim((-1, 52))\n",
    "ax.legend(fontsize=10, frameon=False, loc='upper left')\n",
    "clean_axis(ax)\n",
    "plt.tight_layout()\n",
    "plt.savefig('../images/BasecompGSS.svg', transparent=True, edgecolor='none')\n",
    "plt.show()"
   ]
  },
  {
   "cell_type": "code",
   "execution_count": 43,
   "metadata": {
    "ExecuteTime": {
     "end_time": "2017-05-14T20:25:50.454292Z",
     "start_time": "2017-05-14T20:25:50.440351Z"
    },
    "run_control": {
     "frozen": false,
     "read_only": false
    }
   },
   "outputs": [
    {
     "data": {
      "text/plain": [
       "(51, 4)"
      ]
     },
     "execution_count": 43,
     "metadata": {},
     "output_type": "execute_result"
    }
   ],
   "source": [
    "base_comp_ratio = []\n",
    "for i in range(base_comp.shape[0]):\n",
    "    base_comp_ratio.append(base_comp[i, :]/base_comp.sum(axis=1)[i])\n",
    "base_comp_ratio = np.array(base_comp_ratio)\n",
    "base_comp_ratio.shape"
   ]
  },
  {
   "cell_type": "code",
   "execution_count": 40,
   "metadata": {
    "ExecuteTime": {
     "end_time": "2017-05-14T20:24:57.730294Z",
     "start_time": "2017-05-14T20:24:57.718460Z"
    },
    "run_control": {
     "frozen": false,
     "read_only": false
    }
   },
   "outputs": [
    {
     "data": {
      "text/plain": [
       "array([83779, 83779, 83779, 83779, 83779, 83779, 83779, 83779, 83779,\n",
       "       83779, 83779, 83779, 83761, 83777, 83760, 83759, 83776, 83778,\n",
       "       83779, 83779, 83713, 83759, 83353, 82793, 80762, 80206, 80299,\n",
       "       81406, 82386, 82577, 82826, 82700, 83119, 83437, 83069, 83269,\n",
       "       83539, 83384, 83586, 83680, 83585, 83531, 83377, 83600, 83743,\n",
       "       83640, 83616, 83746, 83731, 83661, 83606])"
      ]
     },
     "execution_count": 40,
     "metadata": {},
     "output_type": "execute_result"
    }
   ],
   "source": [
    "base_comp.sum(axis=1)"
   ]
  },
  {
   "cell_type": "code",
   "execution_count": 46,
   "metadata": {
    "ExecuteTime": {
     "end_time": "2017-05-14T20:27:24.633185Z",
     "start_time": "2017-05-14T20:27:24.619273Z"
    },
    "run_control": {
     "frozen": false,
     "read_only": false
    }
   },
   "outputs": [
    {
     "data": {
      "text/plain": [
       "array([[ 0.28166963,  0.27983146,  0.23102448,  0.20747443],\n",
       "       [ 0.28394944,  0.26668974,  0.23902171,  0.21033911],\n",
       "       [ 0.29168407,  0.26801466,  0.2361451 ,  0.20415617],\n",
       "       [ 0.29132599,  0.27213263,  0.23337591,  0.20316547],\n",
       "       [ 0.28677831,  0.27561799,  0.23517827,  0.20242543]])"
      ]
     },
     "execution_count": 46,
     "metadata": {},
     "output_type": "execute_result"
    }
   ],
   "source": [
    "base_comp_ratio[:5, :]"
   ]
  },
  {
   "cell_type": "code",
   "execution_count": 45,
   "metadata": {
    "ExecuteTime": {
     "end_time": "2017-05-14T20:26:16.639498Z",
     "start_time": "2017-05-14T20:26:16.632621Z"
    },
    "run_control": {
     "frozen": false,
     "read_only": false
    }
   },
   "outputs": [
    {
     "data": {
      "text/plain": [
       "array([[ 0.27105838,  0.21503002,  0.35301209,  0.16089951],\n",
       "       [ 0.2671867 ,  0.2489458 ,  0.32911256,  0.15475494],\n",
       "       [ 0.18612925,  0.18610537,  0.48523741,  0.14252797],\n",
       "       [ 0.17945365,  0.18097729,  0.5165261 ,  0.12304296],\n",
       "       [ 0.2083751 ,  0.22557463,  0.44277898,  0.12327129]])"
      ]
     },
     "execution_count": 45,
     "metadata": {},
     "output_type": "execute_result"
    }
   ],
   "source": [
    "base_comp_ratio[19:24, :]"
   ]
  },
  {
   "cell_type": "code",
   "execution_count": 23,
   "metadata": {
    "ExecuteTime": {
     "end_time": "2017-05-14T20:21:04.194563Z",
     "start_time": "2017-05-14T20:21:04.188169Z"
    },
    "run_control": {
     "frozen": false,
     "read_only": false
    }
   },
   "outputs": [
    {
     "data": {
      "text/plain": [
       "array([1088958, 1046382, 1376493,  737383])"
      ]
     },
     "execution_count": 23,
     "metadata": {},
     "output_type": "execute_result"
    }
   ],
   "source": [
    "base_comp.sum(axis=0)"
   ]
  },
  {
   "cell_type": "code",
   "execution_count": 4,
   "metadata": {
    "ExecuteTime": {
     "end_time": "2017-05-25T11:42:11.673990Z",
     "start_time": "2017-05-25T11:34:16.382877Z"
    },
    "code_folding": [
     0,
     7
    ],
    "run_control": {
     "frozen": false,
     "read_only": false
    }
   },
   "outputs": [
    {
     "name": "stderr",
     "output_type": "stream",
     "text": [
      "100%|██████████| 83779/83779 [07:54<00:00, 176.73it/s]\n"
     ]
    },
    {
     "data": {
      "text/plain": [
       "((670676, 3), (133553, 3), (197506, 3))"
      ]
     },
     "execution_count": 4,
     "metadata": {},
     "output_type": "execute_result"
    }
   ],
   "source": [
    "def stem_encoder(stem_array, graphStart):\n",
    "    diff = np.diff(stem_array)\n",
    "    if diff[0] != 1:\n",
    "        return '%d%s**' % (stem_array[0] - graphStart, '-' * (diff[0] - 1))\n",
    "    else:\n",
    "        return '%d*%s*' % (stem_array[0] - graphStart, '-' * (diff[1] - 1))\n",
    "\n",
    "def populate_graph(stems):\n",
    "    G = nx.DiGraph()\n",
    "    maxLoopLen = 25\n",
    "    graphStart = stems[0][0]\n",
    "    all_starts = stems[:, 0]\n",
    "    nodeCodes = {}\n",
    "    sortedNodes = []\n",
    "    for stem in stems:\n",
    "        targets = np.where((all_starts > stem[2] + 1) &\n",
    "                 (all_starts <= stem[2] + maxLoopLen + 1))[0]\n",
    "        n1 = stem_encoder(stem, graphStart)\n",
    "        sortedNodes.append(n1)\n",
    "        nodeCodes[n1] = stem\n",
    "        for t in targets:\n",
    "            n2 = stem_encoder(stems[t], graphStart)\n",
    "            l = stems[t][0] - stem[2] - 1\n",
    "            G.add_edge(n1, n2, attr_dict={'length':l})\n",
    "    return nodeCodes, sortedNodes, G\n",
    "\n",
    "pre_cp = []\n",
    "mock_cp = []\n",
    "on_cp = []\n",
    "pre_cp_node_dist = {x:0 for x in range(0, 6)}\n",
    "post_cp_node_dist = {x:0 for x in range(0, 6)}\n",
    "\n",
    "for p,s in tqdm(zip(change_point_positions, oq_sequences),\n",
    "                total=len(change_point_positions)):\n",
    "    \n",
    "    sg_obj = StemGroups(s, max_loop_len=25, max_bulge_len=5, base='G')\n",
    "    for sg in sg_obj.generate_stems():\n",
    "        node_codes, sorted_nodes, G = populate_graph(sg)\n",
    "        for node in sorted_nodes:\n",
    "            s1_len = node.count('-')\n",
    "            node_span = list(range(node_codes[node][0], node_codes[node][2]))\n",
    "            closest_nodes = {x: [26, None] for x in range(6)}\n",
    "            if node not in G:\n",
    "                continue\n",
    "            for k,v in G[node].items():\n",
    "                s2_len = k.count('-')\n",
    "                if v['length'] < closest_nodes[s2_len][0]:\n",
    "                    closest_nodes[s2_len][0] = v['length']\n",
    "                    closest_nodes[s2_len][1] = k\n",
    "            min_dist = min([closest_nodes[x][0] for x in range(6)])\n",
    "            allowed_bulges = []\n",
    "            for s2_len in closest_nodes:\n",
    "                if closest_nodes[s2_len][0] <= min_dist+6:\n",
    "                    allowed_bulges.append(s2_len)\n",
    "            combinations = []\n",
    "            for s2_len in closest_nodes:\n",
    "                if closest_nodes[s2_len][1] is None or s2_len not in allowed_bulges:\n",
    "                    continue\n",
    "                combinations.append((min(s1_len, s2_len), closest_nodes[s2_len][0],\n",
    "                               max(s1_len, s2_len)))\n",
    "            if len(combinations) > 0:\n",
    "                if node_codes[node][-1] < p:\n",
    "                    pre_cp.extend(combinations)\n",
    "                    pre_cp_node_dist[s1_len] += 1\n",
    "                if 2*p > node_codes[node][0] >= p:\n",
    "                    post_cp_node_dist[s1_len] += 1\n",
    "                if p in node_span:\n",
    "                    on_cp.extend(combinations)\n",
    "                if p-5 in node_span:\n",
    "                    mock_cp.extend(combinations)\n",
    "pre_cp = np.array(pre_cp)\n",
    "mock_cp = np.array(mock_cp)\n",
    "on_cp = np.array(on_cp)\n",
    "pre_cp.shape, mock_cp.shape, on_cp.shape"
   ]
  },
  {
   "cell_type": "code",
   "execution_count": 6,
   "metadata": {
    "ExecuteTime": {
     "end_time": "2017-05-25T11:42:35.455705Z",
     "start_time": "2017-05-25T11:42:34.955208Z"
    },
    "run_control": {
     "frozen": false,
     "read_only": false
    }
   },
   "outputs": [
    {
     "data": {
      "image/png": "[encoded data removed]",
      "text/plain": [
       "<matplotlib.figure.Figure at 0x2accb7786f60>"
      ]
     },
     "metadata": {},
     "output_type": "display_data"
    }
   ],
   "source": [
    "a = sum(pre_cp_node_dist.values())\n",
    "b = sum(post_cp_node_dist.values())\n",
    "\n",
    "fig, ax = plt.subplots(1, 1, figsize=(5,2.5))\n",
    "for i in range(6):\n",
    "    if i == 0:\n",
    "        ax.bar([i], [post_cp_node_dist[i]], color='k',\n",
    "           width=0.4, label='Post change-point')\n",
    "        ax.bar([i+0.5], [pre_cp_node_dist[i]], color='grey',\n",
    "           width=0.4, label='Pre change-point')\n",
    "    else:\n",
    "        ax.bar([i], [post_cp_node_dist[i]], color='k', width=0.4)\n",
    "        ax.bar([i+0.5], [pre_cp_node_dist[i]], color='grey', width=0.4)\n",
    "ax.set_yticks([x for x in range(0, 300000, 50000)])\n",
    "ax.legend(frameon=False)\n",
    "clean_axis(ax)\n",
    "plt.savefig('../images/pre_post_cp_node_dist.svg', transparent=True, edgecolor='none')\n",
    "plt.show()"
   ]
  },
  {
   "cell_type": "code",
   "execution_count": 148,
   "metadata": {
    "ExecuteTime": {
     "end_time": "2017-06-07T03:33:57.612457Z",
     "start_time": "2017-06-07T03:33:37.083616Z"
    },
    "code_folding": [
     4,
     120,
     127
    ]
   },
   "outputs": [],
   "source": [
    "def get_nodes(seq):\n",
    "    import networkx as nx\n",
    "    import numpy as np\n",
    "    \n",
    "    class StemGroups(object):\n",
    "        \"\"\"\n",
    "            Searches for putative stems of G4. Identifies all stems of\n",
    "            pattern GGG, GNGG or GGNG starting from each base of the\n",
    "            sequence, where length of N can be upto max_bulge_len. This\n",
    "            function only considers stems with one bulge. Also only three\n",
    "            Gs will be considered as quartet forming Gs.\n",
    "\n",
    "            Input parameters:\n",
    "                sequence: A nucleotide sequence (type: str)\n",
    "                max_bulge_len: Maximum length of a bulge allowed in stem\n",
    "                               (type: int)\n",
    "                max_loop_len: Maximum length of a loop. i.e distance\n",
    "                              between two stems (type: int)\n",
    "                base: Can be either 'G' or 'C' depending which strand to\n",
    "                      search (type: str)\n",
    "        \"\"\"\n",
    "\n",
    "        def __init__(self, sequence, max_loop_len, max_bulge_len, base):\n",
    "\n",
    "            self.stems = []\n",
    "            self.stemLen = 3  # QuadGraph supports stem length of 3 only.\n",
    "            self.sequence = sequence.upper()\n",
    "            self.base = base\n",
    "            self.maxBulgeLen = max_bulge_len\n",
    "            self.maxLoopLen = max_loop_len\n",
    "            self.kmerSize = self.stemLen + self.maxBulgeLen\n",
    "            self.stems = []\n",
    "            self.pos = None\n",
    "            self.kmer = None\n",
    "            self.k_stems = None\n",
    "\n",
    "        def generate_stems(self):\n",
    "            \"\"\"\n",
    "                A generators that yields groups of stems such that,\n",
    "                within a group the stems are guaranteed to form a\n",
    "                G4 motif and also stems from different groups will not\n",
    "                form a G4 motif given the maximum allowed loop length\n",
    "\n",
    "                Yield value:\n",
    "                    numpy array of shape s x 3, where s is the numnber of\n",
    "                    stems found. For each stem sequence position of each G\n",
    "                    within the stem is indicated.\n",
    "            \"\"\"\n",
    "\n",
    "            for i in range(len(self.sequence) - self.kmerSize + 1):\n",
    "                self.pos = i\n",
    "                self.kmer = self.sequence[i: i + self.kmerSize]\n",
    "                self.k_stems = self._get_stems_in_kmer(self.kmer, self.pos)\n",
    "                if self._update_and_release_stems() is True:\n",
    "                    yield np.array(self.stems)\n",
    "                    self.stems = list(self.k_stems)\n",
    "\n",
    "            # iterating over sub-kmers of last kmer\n",
    "            for i in range(1, len(self.kmer) - self.stemLen + 1):\n",
    "                self.k_stems = self._get_stems_in_kmer(self.kmer[i:],\n",
    "                                                 self.pos + i)\n",
    "                if self._update_and_release_stems() is True:\n",
    "                    yield np.array(self.stems)\n",
    "                    self.stems = list(self.k_stems)\n",
    "\n",
    "            if len(self.stems) >= 4:\n",
    "                yield np.array(self.stems)\n",
    "\n",
    "            self.stems = []\n",
    "\n",
    "        def _get_stems_in_kmer(self, k, p):\n",
    "            \"\"\"\n",
    "                Identifies the perfect stem if present or a single bulged\n",
    "                stem without 'G' in the bulge.\n",
    "                Returns:\n",
    "                    One stem in the kmer (type: list)\n",
    "            \"\"\"\n",
    "            if k[:3] == self.base * 3:\n",
    "                return [[p, p + 1, p + 2]]\n",
    "            else:\n",
    "                k = np.array(list(k))\n",
    "                ks = len(k)\n",
    "                if k[0] == self.base:\n",
    "                    if k[1] == self.base:\n",
    "                        return [[p, p + 1, p + i] for i in\n",
    "                                np.where(k == self.base)[0][2:3]]\n",
    "                    else:\n",
    "                        for i in range(2, ks - 1):\n",
    "                            if k[i] == self.base and k[i + 1] == self.base:\n",
    "                                return [[p, p + i, p + i + 1]]\n",
    "                                break\n",
    "            return []\n",
    "\n",
    "        def _update_and_release_stems(self):\n",
    "            \"\"\"\n",
    "                Checks whether the set of stems for current kmer be\n",
    "                merged to the current group of stems or the stems be\n",
    "                yielded, the third scenario is where the stem group\n",
    "                is reset as stem form the current kmers and previous\n",
    "                stems are completely purged. This purging happens when\n",
    "                either the stem group has less than four non overlappping\n",
    "                stems and the new stems of current kmer are farther than\n",
    "                the maximum allowed loop length.\n",
    "\n",
    "            \"\"\"\n",
    "            len_stems = len(self.stems)\n",
    "            if len(self.k_stems) > 0:\n",
    "                if len_stems > 0:\n",
    "                    d = self.k_stems[0][0] - self.stems[-1][2]\n",
    "                    if d > self.maxLoopLen + 1:\n",
    "                        if len_stems >= 4:\n",
    "                            return True\n",
    "                        else:\n",
    "                            self.stems = list(self.k_stems)\n",
    "                    else:\n",
    "                        self.stems.extend(self.k_stems)\n",
    "                else:\n",
    "                    self.stems.extend(self.k_stems)\n",
    "            return False\n",
    "    \n",
    "    def stem_encoder(stem_array, graphStart):\n",
    "        diff = np.diff(stem_array)\n",
    "        if diff[0] != 1:\n",
    "            return '%d%s**' % (stem_array[0] - graphStart, '-' * (diff[0] - 1))\n",
    "        else:\n",
    "            return '%d*%s*' % (stem_array[0] - graphStart, '-' * (diff[1] - 1))\n",
    "\n",
    "    def populate_graph(stems):\n",
    "        G = nx.DiGraph()\n",
    "        maxLoopLen = 25\n",
    "        graphStart = stems[0][0]\n",
    "        all_starts = stems[:, 0]\n",
    "        nodeCodes = {}\n",
    "        sortedNodes = []\n",
    "        for stem in stems:\n",
    "            targets = np.where((all_starts > stem[2] + 1) &\n",
    "                     (all_starts <= stem[2] + maxLoopLen + 1))[0]\n",
    "            n1 = stem_encoder(stem, graphStart)\n",
    "            sortedNodes.append(n1)\n",
    "            nodeCodes[n1] = stem\n",
    "            for t in targets:\n",
    "                n2 = stem_encoder(stems[t], graphStart)\n",
    "                l = stems[t][0] - stem[2] - 1\n",
    "                G.add_edge(n1, n2, attr_dict={'length':l})\n",
    "        return nodeCodes, sortedNodes, G\n",
    "    \n",
    "    sg_obj = StemGroups(seq, max_loop_len=25, max_bulge_len=5, base='G')\n",
    "    nc = []\n",
    "    sn = []\n",
    "    for sg in sg_obj.generate_stems():\n",
    "        node_codes, sorted_nodes, G = populate_graph(sg)\n",
    "        nc.append(node_codes)\n",
    "        sn.append(sorted_nodes)\n",
    "    return nc, sn\n",
    "\n",
    "all_nodes = DVIEW.map(get_nodes, oq_sequences)\n",
    "len(all_nodes)"
   ]
  },
  {
   "cell_type": "code",
   "execution_count": 177,
   "metadata": {
    "ExecuteTime": {
     "end_time": "2017-06-07T03:55:40.009574Z",
     "start_time": "2017-06-07T03:55:34.633413Z"
    }
   },
   "outputs": [
    {
     "name": "stderr",
     "output_type": "stream",
     "text": [
      "100%|██████████| 83779/83779 [00:05<00:00, 15804.51it/s]\n"
     ]
    }
   ],
   "source": [
    "pre_cp_bulge_dist = {x:0 for x in range(0, 6)}\n",
    "post_cp_bulge_dist = {x:0 for x in range(0, 6)}\n",
    "pre_cp_bulge_dist_random = {x:0 for x in range(0, 6)}\n",
    "post_cp_bulge_dist_random = {x:0 for x in range(0, 6)}\n",
    "min_pos = min(change_point_positions)\n",
    "max_pos = max(change_point_positions)\n",
    "for p,n in tqdm(zip(change_point_positions, all_nodes),\n",
    "                total=len(change_point_positions)):\n",
    "    rp = np.random.randint(min_pos, max_pos)\n",
    "    for n_array in n[0]:\n",
    "        for i,j in n_array.items():\n",
    "            if j[0] <= 2*p:\n",
    "                bl = i.count('-')\n",
    "                if j[0] < p:\n",
    "                    pre_cp_bulge_dist[bl] += 1\n",
    "                else:\n",
    "                    post_cp_bulge_dist[bl] += 1\n",
    "            if j[0] <= 2*rp:\n",
    "                if j[0] < rp:\n",
    "                    pre_cp_bulge_dist_random[bl] += 1\n",
    "                else:\n",
    "                    post_cp_bulge_dist_random[bl] += 1"
   ]
  },
  {
   "cell_type": "code",
   "execution_count": 178,
   "metadata": {
    "ExecuteTime": {
     "end_time": "2017-06-07T03:55:40.515276Z",
     "start_time": "2017-06-07T03:55:40.013045Z"
    }
   },
   "outputs": [
    {
     "data": {
      "image/png": "[encoded data removed]",
      "text/plain": [
       "<matplotlib.figure.Figure at 0x2acd001a5780>"
      ]
     },
     "metadata": {},
     "output_type": "display_data"
    }
   ],
   "source": [
    "fig, ax = plt.subplots(1, 1, figsize=(5,2.5))\n",
    "for i in range(6):\n",
    "    if i == 0:\n",
    "        ax.bar([i], [post_cp_bulge_dist[i]], color='k',\n",
    "           width=0.4, label='Post change-point')\n",
    "        ax.bar([i+0.5], [pre_cp_bulge_dist[i]], color='grey',\n",
    "           width=0.4, label='Pre change-point')\n",
    "    else:\n",
    "        ax.bar([i], [post_cp_bulge_dist[i]], color='k', width=0.4)\n",
    "        ax.bar([i+0.5], [pre_cp_bulge_dist[i]], color='grey', width=0.4)\n",
    "#ax.set_yticks([x for x in range(0, 300000, 50000)])\n",
    "ax.legend(frameon=False)\n",
    "clean_axis(ax)\n",
    "plt.savefig('../images/pre_post_cp_node_dist.svg', transparent=True, edgecolor='none')\n",
    "plt.show()"
   ]
  },
  {
   "cell_type": "code",
   "execution_count": 179,
   "metadata": {
    "ExecuteTime": {
     "end_time": "2017-06-07T03:55:40.995634Z",
     "start_time": "2017-06-07T03:55:40.518575Z"
    }
   },
   "outputs": [
    {
     "data": {
      "image/png": "[encoded data removed]",
      "text/plain": [
       "<matplotlib.figure.Figure at 0x2acd00db6898>"
      ]
     },
     "metadata": {},
     "output_type": "display_data"
    }
   ],
   "source": [
    "fig, ax = plt.subplots(1, 1, figsize=(5,2.5))\n",
    "for i in range(6):\n",
    "    if i == 0:\n",
    "        ax.bar([i], [post_cp_bulge_dist_random[i]], color='k',\n",
    "           width=0.4, label='Post change-point')\n",
    "        ax.bar([i+0.5], [pre_cp_bulge_dist_random[i]], color='grey',\n",
    "           width=0.4, label='Pre change-point')\n",
    "    else:\n",
    "        ax.bar([i], [post_cp_bulge_dist_random[i]], color='k', width=0.4)\n",
    "        ax.bar([i+0.5], [pre_cp_bulge_dist_random[i]], color='grey', width=0.4)\n",
    "#ax.set_yticks([x for x in range(0, 300000, 50000)])\n",
    "ax.legend(frameon=False)\n",
    "clean_axis(ax)\n",
    "plt.savefig('../images/pre_post_cp_node_dist_random.svg', transparent=True, edgecolor='none')\n",
    "plt.show()"
   ]
  },
  {
   "cell_type": "code",
   "execution_count": 181,
   "metadata": {
    "ExecuteTime": {
     "end_time": "2017-06-07T04:05:26.238323Z",
     "start_time": "2017-06-07T04:04:14.526522Z"
    }
   },
   "outputs": [
    {
     "name": "stdout",
     "output_type": "stream",
     "text": [
      "[[270776, 82828], [226112, 160795]]\n",
      "(2.3247803287969266, 0.0)\n",
      "[[211552, 100190], [190132, 158357]]\n",
      "(1.7586313385544892, 0.0)\n",
      "[[99825, 72110], [99258, 92603]]\n",
      "(1.2915266131162508, 1.0824978300381712e-320)\n",
      "[[63538, 54364], [66222, 65626]]\n",
      "(1.1582325818751504, 8.0346863722960665e-75)\n",
      "[[45929, 43670], [50144, 51523]]\n",
      "(1.0806522587058272, 2.6932480573657747e-17)\n",
      "[[38278, 39100], [42427, 45135]]\n",
      "(1.0414624198495421, 3.857417493777931e-05)\n"
     ]
    }
   ],
   "source": [
    "for i in range(6):\n",
    "    table = [\n",
    "        [post_cp_bulge_dist[i], pre_cp_bulge_dist[i]],\n",
    "        [post_cp_bulge_dist_random[i], pre_cp_bulge_dist_random[i]]\n",
    "    ]\n",
    "    print (table)\n",
    "    print (fisher_exact(table))"
   ]
  },
  {
   "cell_type": "code",
   "execution_count": null,
   "metadata": {
    "collapsed": true
   },
   "outputs": [],
   "source": []
  },
  {
   "cell_type": "code",
   "execution_count": 138,
   "metadata": {
    "ExecuteTime": {
     "end_time": "2017-06-02T06:25:41.178322Z",
     "start_time": "2017-06-02T06:24:15.139185Z"
    },
    "run_control": {
     "frozen": false,
     "read_only": false
    }
   },
   "outputs": [
    {
     "name": "stderr",
     "output_type": "stream",
     "text": [
      "  6%|▋         | 64/1000 [01:25<20:55,  1.34s/it]\n"
     ]
    },
    {
     "ename": "KeyboardInterrupt",
     "evalue": "",
     "output_type": "error",
     "traceback": [
      "\u001b[0;31m---------------------------------------------------------------------------\u001b[0m",
      "\u001b[0;31mKeyboardInterrupt\u001b[0m                         Traceback (most recent call last)",
      "\u001b[0;32m<ipython-input-138-8c00ffa4fac1>\u001b[0m in \u001b[0;36m<module>\u001b[0;34m()\u001b[0m\n\u001b[1;32m     11\u001b[0m     \u001b[0;32mfor\u001b[0m \u001b[0mp\u001b[0m\u001b[0;34m,\u001b[0m\u001b[0ms\u001b[0m \u001b[0;32min\u001b[0m \u001b[0mzip\u001b[0m\u001b[0;34m(\u001b[0m\u001b[0mchange_point_positions\u001b[0m\u001b[0;34m,\u001b[0m \u001b[0moq_sequences\u001b[0m\u001b[0;34m)\u001b[0m\u001b[0;34m:\u001b[0m\u001b[0;34m\u001b[0m\u001b[0m\n\u001b[1;32m     12\u001b[0m         \u001b[0;32mif\u001b[0m \u001b[0mn\u001b[0m \u001b[0;32min\u001b[0m \u001b[0mrand_nums\u001b[0m\u001b[0;34m:\u001b[0m\u001b[0;34m\u001b[0m\u001b[0m\n\u001b[0;32m---> 13\u001b[0;31m             rand_pos = np.random.randint(min(change_point_positions),\n\u001b[0m\u001b[1;32m     14\u001b[0m                                          max(change_point_positions))\n\u001b[1;32m     15\u001b[0m             \u001b[0msg_obj\u001b[0m \u001b[0;34m=\u001b[0m \u001b[0mStemGroups\u001b[0m\u001b[0;34m(\u001b[0m\u001b[0ms\u001b[0m\u001b[0;34m,\u001b[0m \u001b[0mmax_loop_len\u001b[0m\u001b[0;34m=\u001b[0m\u001b[0;36m25\u001b[0m\u001b[0;34m,\u001b[0m \u001b[0mmax_bulge_len\u001b[0m\u001b[0;34m=\u001b[0m\u001b[0;36m5\u001b[0m\u001b[0;34m,\u001b[0m \u001b[0mbase\u001b[0m\u001b[0;34m=\u001b[0m\u001b[0;34m'G'\u001b[0m\u001b[0;34m)\u001b[0m\u001b[0;34m\u001b[0m\u001b[0m\n",
      "\u001b[0;31mKeyboardInterrupt\u001b[0m: "
     ]
    }
   ],
   "source": [
    "pvals = {x:[] for x in range(0, 6)}\n",
    "odd_ratio = {x:[] for x in range(0, 6)}\n",
    "for i in tqdm(range(1000)):\n",
    "    rand_nums = [np.random.randint(len(change_point_positions)) for x in range(100)]\n",
    "    n = 0\n",
    "    pre_temp = {x:0 for x in range(0, 6)}\n",
    "    post_temp = {x:0 for x in range(0, 6)}\n",
    "    pre_rand = {x:0 for x in range(0, 6)}\n",
    "    post_rand = {x:0 for x in range(0, 6)}\n",
    "    \n",
    "    for p,s in zip(change_point_positions, oq_sequences):\n",
    "        if n in rand_nums:\n",
    "            rand_pos = np.random.randint(min(change_point_positions),\n",
    "                                         max(change_point_positions))\n",
    "            sg_obj = StemGroups(s, max_loop_len=25, max_bulge_len=5, base='G')\n",
    "            for sg in sg_obj.generate_stems():\n",
    "                node_codes, sorted_nodes, G = populate_graph(sg)\n",
    "                for node in sorted_nodes:\n",
    "                    s1_len = node.count('-')\n",
    "                    if node_codes[node][-1] < p:\n",
    "                        pre_temp[s1_len] += 1\n",
    "                    if 2*p > node_codes[node][0] >= p:\n",
    "                        post_temp[s1_len] += 1\n",
    "                    if node_codes[node][-1] < rand_pos:\n",
    "                        pre_rand[s1_len] += 1\n",
    "                    if 2*p > node_codes[node][0] >= rand_pos:\n",
    "                        post_rand[s1_len] += 1  \n",
    "        n+=1\n",
    "    for i in range(6):\n",
    "        table = [\n",
    "            [pre_temp[i], post_temp[i]],\n",
    "            [pre_rand[i], post_rand[i]],\n",
    "        ]\n",
    "        pvals[i].append(fisher_exact(table)[1])\n",
    "        odd_ratio[i].append(fisher_exact(table)[0])"
   ]
  },
  {
   "cell_type": "code",
   "execution_count": 147,
   "metadata": {
    "ExecuteTime": {
     "end_time": "2017-06-07T03:21:28.542897Z",
     "start_time": "2017-06-07T03:21:28.533892Z"
    }
   },
   "outputs": [
    {
     "data": {
      "text/plain": [
       "1"
      ]
     },
     "execution_count": 147,
     "metadata": {},
     "output_type": "execute_result"
    }
   ],
   "source": []
  },
  {
   "cell_type": "code",
   "execution_count": 139,
   "metadata": {
    "ExecuteTime": {
     "end_time": "2017-06-02T06:30:28.112174Z",
     "start_time": "2017-06-02T06:29:51.783631Z"
    },
    "code_folding": [
     9,
     16
    ],
    "run_control": {
     "frozen": false,
     "read_only": false
    }
   },
   "outputs": [
    {
     "name": "stderr",
     "output_type": "stream",
     "text": [
      "181it [00:36,  6.71it/s]\n"
     ]
    },
    {
     "ename": "KeyboardInterrupt",
     "evalue": "",
     "output_type": "error",
     "traceback": [
      "\u001b[0;31m---------------------------------------------------------------------------\u001b[0m",
      "\u001b[0;31mKeyboardInterrupt\u001b[0m                         Traceback (most recent call last)",
      "\u001b[0;32m<ipython-input-139-9b58b935b121>\u001b[0m in \u001b[0;36m<module>\u001b[0;34m()\u001b[0m\n\u001b[1;32m     14\u001b[0m             \u001b[0;32mif\u001b[0m \u001b[0;36m2\u001b[0m\u001b[0;34m*\u001b[0m\u001b[0mp\u001b[0m \u001b[0;34m>\u001b[0m \u001b[0mnode_codes\u001b[0m\u001b[0;34m[\u001b[0m\u001b[0mnode\u001b[0m\u001b[0;34m]\u001b[0m\u001b[0;34m[\u001b[0m\u001b[0;36m0\u001b[0m\u001b[0;34m]\u001b[0m \u001b[0;34m>=\u001b[0m \u001b[0mp\u001b[0m\u001b[0;34m:\u001b[0m\u001b[0;34m\u001b[0m\u001b[0m\n\u001b[1;32m     15\u001b[0m                 \u001b[0mpost_temp\u001b[0m\u001b[0;34m[\u001b[0m\u001b[0ms1_len\u001b[0m\u001b[0;34m]\u001b[0m \u001b[0;34m+=\u001b[0m \u001b[0;36m1\u001b[0m\u001b[0;34m\u001b[0m\u001b[0m\n\u001b[0;32m---> 16\u001b[0;31m             rand_pos = np.random.randint(min(change_point_positions),\n\u001b[0m\u001b[1;32m     17\u001b[0m                                          max(change_point_positions))\n\u001b[1;32m     18\u001b[0m             \u001b[0;32mif\u001b[0m \u001b[0mnode_codes\u001b[0m\u001b[0;34m[\u001b[0m\u001b[0mnode\u001b[0m\u001b[0;34m]\u001b[0m\u001b[0;34m[\u001b[0m\u001b[0;34m-\u001b[0m\u001b[0;36m1\u001b[0m\u001b[0;34m]\u001b[0m \u001b[0;34m<\u001b[0m \u001b[0mrand_pos\u001b[0m\u001b[0;34m:\u001b[0m\u001b[0;34m\u001b[0m\u001b[0m\n",
      "\u001b[0;31mKeyboardInterrupt\u001b[0m: "
     ]
    }
   ],
   "source": [
    "pre_temp = {x:0 for x in range(0, 6)}\n",
    "post_temp = {x:0 for x in range(0, 6)}\n",
    "pre_rand = {x:0 for x in range(0, 6)}\n",
    "post_rand = {x:0 for x in range(0, 6)}\n",
    "\n",
    "def get_nodes(seq):\n",
    "    from SNIPRQ import StemGroups\n",
    "    import networkx as nx\n",
    "    \n",
    "    def stem_encoder(stem_array, graphStart):\n",
    "        diff = np.diff(stem_array)\n",
    "        if diff[0] != 1:\n",
    "            return '%d%s**' % (stem_array[0] - graphStart, '-' * (diff[0] - 1))\n",
    "        else:\n",
    "            return '%d*%s*' % (stem_array[0] - graphStart, '-' * (diff[1] - 1))\n",
    "\n",
    "    def populate_graph(stems):\n",
    "        G = nx.DiGraph()\n",
    "        maxLoopLen = 25\n",
    "        graphStart = stems[0][0]\n",
    "        all_starts = stems[:, 0]\n",
    "        nodeCodes = {}\n",
    "        sortedNodes = []\n",
    "        for stem in stems:\n",
    "            targets = np.where((all_starts > stem[2] + 1) &\n",
    "                     (all_starts <= stem[2] + maxLoopLen + 1))[0]\n",
    "            n1 = stem_encoder(stem, graphStart)\n",
    "            sortedNodes.append(n1)\n",
    "            nodeCodes[n1] = stem\n",
    "            for t in targets:\n",
    "                n2 = stem_encoder(stems[t], graphStart)\n",
    "                l = stems[t][0] - stem[2] - 1\n",
    "                G.add_edge(n1, n2, attr_dict={'length':l})\n",
    "        return nodeCodes, sortedNodes, G\n",
    "    \n",
    "    sg_obj = StemGroups(s, max_loop_len=25, max_bulge_len=5, base='G')\n",
    "    nc = []\n",
    "    sn = []\n",
    "    for sg in sg_obj.generate_stems():\n",
    "        node_codes, sorted_nodes, G = populate_graph(sg)\n",
    "        nc.append(node_codes)\n",
    "        sn.append(sorted_nodes)\n",
    "    return nc, sn\n",
    "\n",
    "res = DVIEW.map(get_nodes, oq_sequences)\n",
    "\n",
    "\n",
    "for p,s in tqdm(zip(change_point_positions, oq_sequences)):\n",
    "    \n",
    "    for sg in sg_obj.generate_stems():\n",
    "        node_codes, sorted_nodes, G = populate_graph(sg)\n",
    "        for node in sorted_nodes:\n",
    "            s1_len = node.count('-')\n",
    "            if node_codes[node][-1] < p:\n",
    "                pre_temp[s1_len] += 1\n",
    "            if 2*p > node_codes[node][0] >= p:\n",
    "                post_temp[s1_len] += 1\n",
    "            rand_pos = np.random.randint(min(change_point_positions),\n",
    "                                         max(change_point_positions))\n",
    "            if node_codes[node][-1] < rand_pos:\n",
    "                pre_rand[s1_len] += 1\n",
    "            if 2*p > node_codes[node][0] >= rand_pos:\n",
    "                post_rand[s1_len] += 1\n",
    "for i in range(6):\n",
    "    table = [\n",
    "        [pre_temp[i], post_temp[i]],\n",
    "        [pre_rand[i], post_rand[i]],\n",
    "    ]\n",
    "    print (i, fisher_exact(table))"
   ]
  },
  {
   "cell_type": "code",
   "execution_count": 137,
   "metadata": {
    "ExecuteTime": {
     "end_time": "2017-06-02T06:24:08.336183Z",
     "start_time": "2017-06-02T06:24:08.321354Z"
    },
    "run_control": {
     "frozen": false,
     "read_only": false
    }
   },
   "outputs": [
    {
     "name": "stdout",
     "output_type": "stream",
     "text": [
      "1.18743571545e-11\n",
      "1.02219468853e-08\n",
      "0.00262485521707\n",
      "0.0649397004663\n",
      "0.159979856696\n",
      "0.21112572743\n"
     ]
    }
   ],
   "source": [
    "for i in range(6):\n",
    "    print (np.median(pvals[i]))"
   ]
  },
  {
   "cell_type": "code",
   "execution_count": null,
   "metadata": {
    "collapsed": true,
    "run_control": {
     "frozen": false,
     "read_only": false
    }
   },
   "outputs": [],
   "source": []
  },
  {
   "cell_type": "code",
   "execution_count": 124,
   "metadata": {
    "ExecuteTime": {
     "end_time": "2017-06-02T05:08:12.279259Z",
     "start_time": "2017-06-02T05:08:12.272516Z"
    },
    "collapsed": true,
    "run_control": {
     "frozen": false,
     "read_only": false
    }
   },
   "outputs": [],
   "source": [
    "from scipy.stats import wilcoxon, ranksums, ttest_ind, fisher_exact"
   ]
  },
  {
   "cell_type": "code",
   "execution_count": 115,
   "metadata": {
    "ExecuteTime": {
     "end_time": "2017-06-02T05:04:20.379940Z",
     "start_time": "2017-06-02T05:04:18.608198Z"
    },
    "run_control": {
     "frozen": false,
     "read_only": false
    }
   },
   "outputs": [
    {
     "data": {
      "image/png": "[encoded data removed]",
      "text/plain": [
       "<matplotlib.figure.Figure at 0x2accc48994e0>"
      ]
     },
     "metadata": {},
     "output_type": "display_data"
    },
    {
     "name": "stdout",
     "output_type": "stream",
     "text": [
      "0 1.26166015849e-32\n"
     ]
    },
    {
     "data": {
      "image/png": "[encoded data removed]",
      "text/plain": [
       "<matplotlib.figure.Figure at 0x2accc475d400>"
      ]
     },
     "metadata": {},
     "output_type": "display_data"
    },
    {
     "name": "stdout",
     "output_type": "stream",
     "text": [
      "1 1.25761385932e-32\n"
     ]
    },
    {
     "data": {
      "image/png": "[encoded data removed]",
      "text/plain": [
       "<matplotlib.figure.Figure at 0x2accc496ca20>"
      ]
     },
     "metadata": {},
     "output_type": "display_data"
    },
    {
     "name": "stdout",
     "output_type": "stream",
     "text": [
      "2 2.35713327654e-32\n"
     ]
    },
    {
     "data": {
      "image/png": "[encoded data removed]",
      "text/plain": [
       "<matplotlib.figure.Figure at 0x2accc47bf7f0>"
      ]
     },
     "metadata": {},
     "output_type": "display_data"
    },
    {
     "name": "stdout",
     "output_type": "stream",
     "text": [
      "3 2.78647734487e-25\n"
     ]
    },
    {
     "data": {
      "image/png": "[encoded data removed]",
      "text/plain": [
       "<matplotlib.figure.Figure at 0x2accc48352b0>"
      ]
     },
     "metadata": {},
     "output_type": "display_data"
    },
    {
     "name": "stdout",
     "output_type": "stream",
     "text": [
      "4 6.65670154037e-20\n"
     ]
    },
    {
     "data": {
      "image/png": "[encoded data removed]",
      "text/plain": [
       "<matplotlib.figure.Figure at 0x2accc4813908>"
      ]
     },
     "metadata": {},
     "output_type": "display_data"
    },
    {
     "name": "stdout",
     "output_type": "stream",
     "text": [
      "5 5.70166458375e-13\n"
     ]
    }
   ],
   "source": [
    "for i in range(6):\n",
    "    p = mannwhitneyu(pre_dist[i], post_dist[i])[1]*100\n",
    "    plt.boxplot([pre_dist[i], post_dist[i]])\n",
    "    plt.show()\n",
    "    print (i, p)"
   ]
  },
  {
   "cell_type": "code",
   "execution_count": null,
   "metadata": {
    "collapsed": true,
    "run_control": {
     "frozen": false,
     "read_only": false
    }
   },
   "outputs": [],
   "source": []
  },
  {
   "cell_type": "code",
   "execution_count": null,
   "metadata": {
    "collapsed": true,
    "run_control": {
     "frozen": false,
     "read_only": false
    }
   },
   "outputs": [],
   "source": []
  },
  {
   "cell_type": "code",
   "execution_count": 83,
   "metadata": {
    "ExecuteTime": {
     "end_time": "2017-05-31T04:27:54.647672Z",
     "start_time": "2017-05-31T04:27:54.247573Z"
    },
    "run_control": {
     "frozen": false,
     "read_only": false
    }
   },
   "outputs": [
    {
     "data": {
      "image/png": "[encoded data removed]",
      "text/plain": [
       "<matplotlib.figure.Figure at 0x2accc287e2e8>"
      ]
     },
     "metadata": {},
     "output_type": "display_data"
    }
   ],
   "source": [
    "b1 = Counter(on_cp[:, 0])\n",
    "v = np.array([b1[x] for x in range(6)])\n",
    "v = v/v.sum()\n",
    "\n",
    "fig, ax = plt.subplots(1, 1, figsize=(5, 2.3))\n",
    "ax.bar(range(6), v, color='grey')\n",
    "ax.set_xticks(range(6))\n",
    "clean_axis(ax)\n",
    "ax.set_xlabel('Bulge length', fontsize=12)\n",
    "ax.set_ylabel('Relative frequency', fontsize=12)\n",
    "plt.savefig('../images/oq_bulge_combined_dist.svg', transparent=True, edgecolor='none')\n",
    "plt.show()"
   ]
  },
  {
   "cell_type": "code",
   "execution_count": 82,
   "metadata": {
    "ExecuteTime": {
     "end_time": "2017-05-31T04:27:48.488907Z",
     "start_time": "2017-05-31T04:27:47.781612Z"
    },
    "run_control": {
     "frozen": false,
     "read_only": false
    }
   },
   "outputs": [
    {
     "data": {
      "image/png": "[encoded data removed]",
      "text/plain": [
       "<matplotlib.figure.Figure at 0x2accc1d74710>"
      ]
     },
     "metadata": {},
     "output_type": "display_data"
    }
   ],
   "source": [
    "l = Counter(on_cp[:, 1])\n",
    "v = np.array([l[x] for x in range(1,26)])\n",
    "v = v/v.sum()\n",
    "\n",
    "fig, ax = plt.subplots(1, 1, figsize=(5, 2.2))\n",
    "ax.bar(range(25), v, color='grey')\n",
    "ax.set_xticks(range(25))\n",
    "ax.set_xticklabels(range(1,26), rotation=90)\n",
    "ax.set_xlabel('Loop length', fontsize=12)\n",
    "ax.set_ylabel('Relative frequency', fontsize=12)\n",
    "clean_axis(ax)\n",
    "plt.savefig('../images/oq_loops_combined_dist.svg', transparent=True, edgecolor='none')\n",
    "plt.show()"
   ]
  },
  {
   "cell_type": "code",
   "execution_count": 41,
   "metadata": {
    "ExecuteTime": {
     "end_time": "2017-05-30T20:11:11.989991Z",
     "start_time": "2017-05-30T20:11:03.369860Z"
    },
    "run_control": {
     "frozen": false,
     "read_only": false
    },
    "scrolled": true
   },
   "outputs": [
    {
     "name": "stdout",
     "output_type": "stream",
     "text": [
      "0 0\n",
      "0 1\n",
      "0 2\n",
      "0 3\n",
      "0 4\n",
      "0 5\n",
      "1 1\n",
      "1 2\n",
      "1 3\n",
      "1 4\n",
      "1 5\n",
      "2 2\n",
      "2 3\n",
      "2 4\n",
      "2 5\n",
      "3 3\n",
      "3 4\n",
      "3 5\n",
      "4 4\n",
      "4 5\n",
      "5 5\n"
     ]
    },
    {
     "data": {
      "image/png": "[encoded data removed]",
      "text/plain": [
       "<matplotlib.figure.Figure at 0x2accc1a5f3c8>"
      ]
     },
     "metadata": {},
     "output_type": "display_data"
    }
   ],
   "source": [
    "fig, axis = plt.subplots(6, 4, figsize=(10, 10))\n",
    "row = 0\n",
    "col = 0\n",
    "for b1 in range(6):\n",
    "    for b2 in range(6):\n",
    "        if b1 > b2:\n",
    "            continue\n",
    "        print (b1, b2)\n",
    "        ax = axis[row, col]\n",
    "        a = Counter(on_cp[np.where((on_cp[:, 0] == b1) &\n",
    "                                   (on_cp[:, 2] == b2))[0], 1])\n",
    "        y = np.array([a[x] for x in range(1,26)])\n",
    "        ax.bar(range(1,26), np.log2(y+1), color='grey')\n",
    "        ax.text(13, 8, \"  B%d - B%d\\nn=%d\" % (b1, b2, sum(y)), fontsize=10)\n",
    "        if row == 6:\n",
    "            ax.set_xlabel('Loop lengths', fontsize=11)\n",
    "        if col == 0:\n",
    "            ax.set_ylabel('Log2\\n(Frequency)', fontsize=11)\n",
    "        ax.set_xticks(range(1,26,3))\n",
    "        ax.set_ylim((0, 13))\n",
    "        clean_axis(ax)\n",
    "        col +=1\n",
    "        if col == 4:\n",
    "            row += 1\n",
    "            col = 0\n",
    "plt.savefig('../images/oq_loop_dist_all.svg', transparent=True, edgecolor='none')\n",
    "plt.show()"
   ]
  },
  {
   "cell_type": "code",
   "execution_count": 13,
   "metadata": {
    "ExecuteTime": {
     "end_time": "2017-05-25T11:45:59.228621Z",
     "start_time": "2017-05-25T11:45:58.755568Z"
    },
    "run_control": {
     "frozen": false,
     "read_only": false
    }
   },
   "outputs": [
    {
     "data": {
      "image/png": "[encoded data removed]",
      "text/plain": [
       "<matplotlib.figure.Figure at 0x2accc0ff0c88>"
      ]
     },
     "metadata": {},
     "output_type": "display_data"
    },
    {
     "name": "stdout",
     "output_type": "stream",
     "text": [
      "[111  61 102 151 106  74  84 100  41  17  19  19  21  18  18  19  16  11\n",
      "   8  18  11  13  13  12  14]\n"
     ]
    }
   ],
   "source": [
    "fig, ax = plt.subplots(1, 1, figsize=(5,2.5))\n",
    "\n",
    "a = Counter(on_cp[np.where((on_cp[:, 0] == 5) & (on_cp[:, 2] == 5))[0], 1])\n",
    "y = np.array([a[x] for x in range(1,26)])\n",
    "\n",
    "ax.bar(range(1,26), np.log2(y+1))\n",
    "ax.set_xlabel('Loop lengths', fontsize=11)\n",
    "ax.set_ylabel('Log2 (Frequency)', fontsize=11)\n",
    "\n",
    "clean_axis(ax)\n",
    "\n",
    "plt.tight_layout()\n",
    "plt.savefig('../images/oq_loop_dist_5_5.svg', transparent=True, edgecolor='none')\n",
    "plt.show()\n",
    "print (y)"
   ]
  },
  {
   "cell_type": "code",
   "execution_count": 11,
   "metadata": {
    "ExecuteTime": {
     "end_time": "2017-05-25T11:44:01.224513Z",
     "start_time": "2017-05-25T11:44:00.701964Z"
    },
    "run_control": {
     "frozen": false,
     "read_only": false
    }
   },
   "outputs": [
    {
     "data": {
      "image/png": "[encoded data removed]",
      "text/plain": [
       "<matplotlib.figure.Figure at 0x2accb77d9c88>"
      ]
     },
     "metadata": {},
     "output_type": "display_data"
    },
    {
     "data": {
      "text/plain": [
       "[[18333, 28700, 19836, 14669, 10026, 7693],\n",
       " [13225, 17308, 12555, 8494, 6624],\n",
       " [6130, 8252, 6063, 4494],\n",
       " [2996, 4060, 3025],\n",
       " [1566, 2380],\n",
       " [1077]]"
      ]
     },
     "execution_count": 11,
     "metadata": {},
     "output_type": "execute_result"
    }
   ],
   "source": [
    "total_loops = [[] for x in range(6)]\n",
    "for i in combinations_with_replacement(range(0,6), 2):\n",
    "    a = len(np.where((on_cp[:, 0] == i[0]) & (on_cp[:, 2] == i[1]))[0])\n",
    "    total_loops[i[0]].append(a)\n",
    "    \n",
    "fig, ax = plt.subplots(1, 1, figsize=(8, 6))\n",
    "for i in range(6):\n",
    "    for j in range(len(total_loops[i])):\n",
    "        ax.scatter([i], [j+i], s=total_loops[i][j]/10, c='k')\n",
    "plt.savefig('../images/oq_bulge_on_cp_scatter.svg',\n",
    "            transparent=True, edgecolor='none')\n",
    "plt.show()\n",
    "total_loops"
   ]
  },
  {
   "cell_type": "code",
   "execution_count": 536,
   "metadata": {
    "ExecuteTime": {
     "end_time": "2017-05-12T22:31:51.425213Z",
     "start_time": "2017-05-12T22:31:49.372918Z"
    },
    "run_control": {
     "frozen": false,
     "read_only": false
    }
   },
   "outputs": [
    {
     "name": "stdout",
     "output_type": "stream",
     "text": [
      "0 1 0 7665\n",
      "0 2 0 4230\n",
      "0 3 0 2048\n",
      "0 4 0 1516\n",
      "0 5 0 716\n",
      "0 6 0 808\n",
      "0 7 0 412\n",
      "0 8 0 247\n",
      "0 9 0 160\n",
      "0 10 0 107\n",
      "0 11 0 71\n",
      "0 12 0 60\n",
      "0 13 0 55\n",
      "0 14 0 51\n",
      "0 15 0 34\n",
      "0 16 0 24\n",
      "0 17 0 36\n",
      "0 18 0 14\n",
      "0 19 0 19\n",
      "0 20 0 8\n",
      "0 21 0 11\n",
      "0 22 0 11\n",
      "0 23 0 6\n",
      "0 24 0 13\n",
      "0 25 0 11\n",
      "0 1 1 4712\n",
      "0 2 1 7451\n",
      "0 3 1 5548\n",
      "0 4 1 3180\n",
      "0 5 1 2288\n",
      "0 6 1 1647\n",
      "0 7 1 1571\n",
      "0 8 1 606\n",
      "0 9 1 298\n",
      "0 10 1 280\n",
      "0 11 1 193\n",
      "0 12 1 132\n",
      "0 13 1 140\n",
      "0 14 1 113\n",
      "0 15 1 80\n",
      "0 16 1 74\n",
      "0 17 1 52\n",
      "0 18 1 59\n",
      "0 19 1 47\n",
      "0 20 1 40\n",
      "0 21 1 36\n",
      "0 22 1 37\n",
      "0 23 1 38\n",
      "0 24 1 32\n",
      "0 25 1 46\n",
      "0 1 2 2416\n",
      "0 2 2 4248\n",
      "0 3 2 4019\n",
      "0 4 2 2691\n",
      "0 5 2 1768\n",
      "0 6 2 1295\n",
      "0 7 2 1309\n",
      "0 8 2 496\n",
      "0 9 2 287\n",
      "0 10 2 223\n",
      "0 11 2 162\n",
      "0 12 2 137\n",
      "0 13 2 126\n",
      "0 14 2 117\n",
      "0 15 2 87\n",
      "0 16 2 85\n",
      "0 17 2 77\n",
      "0 18 2 58\n",
      "0 19 2 41\n",
      "0 20 2 40\n",
      "0 21 2 35\n",
      "0 22 2 29\n",
      "0 23 2 18\n",
      "0 24 2 33\n",
      "0 25 2 39\n",
      "0 1 3 1488\n",
      "0 2 3 4405\n",
      "0 3 3 2751\n",
      "0 4 3 1645\n",
      "0 5 3 1233\n",
      "0 6 3 982\n",
      "0 7 3 883\n",
      "0 8 3 345\n",
      "0 9 3 196\n",
      "0 10 3 128\n",
      "0 11 3 98\n",
      "0 12 3 100\n",
      "0 13 3 85\n",
      "0 14 3 59\n",
      "0 15 3 45\n",
      "0 16 3 43\n",
      "0 17 3 31\n",
      "0 18 3 23\n",
      "0 19 3 18\n",
      "0 20 3 17\n",
      "0 21 3 20\n",
      "0 22 3 19\n",
      "0 23 3 23\n",
      "0 24 3 21\n",
      "0 25 3 11\n",
      "0 1 4 1017\n",
      "0 2 4 2775\n",
      "0 3 4 1850\n",
      "0 4 4 1243\n",
      "0 5 4 836\n",
      "0 6 4 656\n",
      "0 7 4 628\n",
      "0 8 4 250\n",
      "0 9 4 146\n",
      "0 10 4 107\n",
      "0 11 4 84\n",
      "0 12 4 93\n",
      "0 13 4 52\n",
      "0 14 4 50\n",
      "0 15 4 36\n",
      "0 16 4 33\n",
      "0 17 4 29\n",
      "0 18 4 32\n",
      "0 19 4 22\n",
      "0 20 4 20\n",
      "0 21 4 10\n",
      "0 22 4 16\n",
      "0 23 4 13\n",
      "0 24 4 14\n",
      "0 25 4 14\n",
      "0 1 5 684\n",
      "0 2 5 2294\n",
      "0 3 5 1358\n",
      "0 4 5 867\n",
      "0 5 5 549\n",
      "0 6 5 509\n",
      "0 7 5 533\n",
      "0 8 5 223\n",
      "0 9 5 132\n",
      "0 10 5 78\n",
      "0 11 5 58\n",
      "0 12 5 49\n",
      "0 13 5 50\n",
      "0 14 5 49\n",
      "0 15 5 34\n",
      "0 16 5 24\n",
      "0 17 5 26\n",
      "0 18 5 27\n",
      "0 19 5 26\n",
      "0 20 5 27\n",
      "0 21 5 18\n",
      "0 22 5 19\n",
      "0 23 5 19\n",
      "0 24 5 15\n",
      "0 25 5 25\n",
      "1 1 1 4344\n",
      "1 2 1 1828\n",
      "1 3 1 2229\n",
      "1 4 1 1164\n",
      "1 5 1 869\n",
      "1 6 1 701\n",
      "1 7 1 692\n",
      "1 8 1 344\n",
      "1 9 1 172\n",
      "1 10 1 112\n",
      "1 11 1 106\n",
      "1 12 1 90\n",
      "1 13 1 70\n",
      "1 14 1 69\n",
      "1 15 1 57\n",
      "1 16 1 52\n",
      "1 17 1 44\n",
      "1 18 1 44\n",
      "1 19 1 43\n",
      "1 20 1 34\n",
      "1 21 1 31\n",
      "1 22 1 33\n",
      "1 23 1 31\n",
      "1 24 1 33\n",
      "1 25 1 33\n",
      "1 1 2 5234\n",
      "1 2 2 1838\n",
      "1 3 2 2412\n",
      "1 4 2 1880\n",
      "1 5 2 1329\n",
      "1 6 2 1148\n",
      "1 7 2 1200\n",
      "1 8 2 594\n",
      "1 9 2 330\n",
      "1 10 2 203\n",
      "1 11 2 151\n",
      "1 12 2 121\n",
      "1 13 2 118\n",
      "1 14 2 106\n",
      "1 15 2 93\n",
      "1 16 2 91\n",
      "1 17 2 82\n",
      "1 18 2 61\n",
      "1 19 2 58\n",
      "1 20 2 48\n",
      "1 21 2 43\n",
      "1 22 2 47\n",
      "1 23 2 52\n",
      "1 24 2 44\n",
      "1 25 2 25\n",
      "1 1 3 3281\n",
      "1 2 3 1156\n",
      "1 3 3 2274\n",
      "1 4 3 1489\n",
      "1 5 3 990\n",
      "1 6 3 883\n",
      "1 7 3 871\n",
      "1 8 3 431\n",
      "1 9 3 247\n",
      "1 10 3 157\n",
      "1 11 3 116\n",
      "1 12 3 80\n",
      "1 13 3 75\n",
      "1 14 3 76\n",
      "1 15 3 56\n",
      "1 16 3 53\n",
      "1 17 3 61\n",
      "1 18 3 39\n",
      "1 19 3 30\n",
      "1 20 3 33\n",
      "1 21 3 32\n",
      "1 22 3 36\n",
      "1 23 3 28\n",
      "1 24 3 30\n",
      "1 25 3 31\n",
      "1 1 4 2049\n",
      "1 2 4 782\n",
      "1 3 4 1351\n",
      "1 4 4 1008\n",
      "1 5 4 769\n",
      "1 6 4 599\n",
      "1 7 4 649\n",
      "1 8 4 334\n",
      "1 9 4 157\n",
      "1 10 4 111\n",
      "1 11 4 101\n",
      "1 12 4 92\n",
      "1 13 4 72\n",
      "1 14 4 44\n",
      "1 15 4 56\n",
      "1 16 4 46\n",
      "1 17 4 44\n",
      "1 18 4 36\n",
      "1 19 4 27\n",
      "1 20 4 43\n",
      "1 21 4 34\n",
      "1 22 4 24\n",
      "1 23 4 26\n",
      "1 24 4 24\n",
      "1 25 4 16\n",
      "1 1 5 1405\n",
      "1 2 5 575\n",
      "1 3 5 1180\n",
      "1 4 5 805\n",
      "1 5 5 601\n",
      "1 6 5 436\n",
      "1 7 5 413\n",
      "1 8 5 281\n",
      "1 9 5 141\n",
      "1 10 5 104\n",
      "1 11 5 80\n",
      "1 12 5 71\n",
      "1 13 5 49\n",
      "1 14 5 57\n",
      "1 15 5 53\n",
      "1 16 5 65\n",
      "1 17 5 58\n",
      "1 18 5 37\n",
      "1 19 5 30\n",
      "1 20 5 34\n",
      "1 21 5 40\n",
      "1 22 5 30\n",
      "1 23 5 36\n",
      "1 24 5 24\n",
      "1 25 5 19\n",
      "2 1 2 1687\n",
      "2 2 2 445\n",
      "2 3 2 688\n",
      "2 4 2 881\n",
      "2 5 2 531\n",
      "2 6 2 465\n",
      "2 7 2 517\n",
      "2 8 2 258\n",
      "2 9 2 128\n",
      "2 10 2 87\n",
      "2 11 2 78\n",
      "2 12 2 50\n",
      "2 13 2 43\n",
      "2 14 2 42\n",
      "2 15 2 30\n",
      "2 16 2 31\n",
      "2 17 2 24\n",
      "2 18 2 21\n",
      "2 19 2 28\n",
      "2 20 2 28\n",
      "2 21 2 21\n",
      "2 22 2 14\n",
      "2 23 2 14\n",
      "2 24 2 7\n",
      "2 25 2 12\n",
      "2 1 3 1732\n",
      "2 2 3 543\n",
      "2 3 3 1108\n",
      "2 4 3 1216\n",
      "2 5 3 834\n",
      "2 6 3 715\n",
      "2 7 3 808\n",
      "2 8 3 365\n",
      "2 9 3 169\n",
      "2 10 3 120\n",
      "2 11 3 75\n",
      "2 12 3 65\n",
      "2 13 3 58\n",
      "2 14 3 71\n",
      "2 15 3 61\n",
      "2 16 3 41\n",
      "2 17 3 49\n",
      "2 18 3 38\n",
      "2 19 3 31\n",
      "2 20 3 38\n",
      "2 21 3 25\n",
      "2 22 3 27\n",
      "2 23 3 16\n",
      "2 24 3 21\n",
      "2 25 3 26\n",
      "2 1 4 1178\n",
      "2 2 4 396\n",
      "2 3 4 757\n",
      "2 4 4 851\n",
      "2 5 4 615\n",
      "2 6 4 533\n",
      "2 7 4 545\n",
      "2 8 4 382\n",
      "2 9 4 125\n",
      "2 10 4 82\n",
      "2 11 4 84\n",
      "2 12 4 67\n",
      "2 13 4 72\n",
      "2 14 4 56\n",
      "2 15 4 37\n",
      "2 16 4 38\n",
      "2 17 4 42\n",
      "2 18 4 26\n",
      "2 19 4 29\n",
      "2 20 4 29\n",
      "2 21 4 26\n",
      "2 22 4 19\n",
      "2 23 4 22\n",
      "2 24 4 32\n",
      "2 25 4 20\n",
      "2 1 5 694\n",
      "2 2 5 235\n",
      "2 3 5 523\n",
      "2 4 5 619\n",
      "2 5 5 491\n",
      "2 6 5 442\n",
      "2 7 5 477\n",
      "2 8 5 276\n",
      "2 9 5 124\n",
      "2 10 5 97\n",
      "2 11 5 80\n",
      "2 12 5 49\n",
      "2 13 5 45\n",
      "2 14 5 49\n",
      "2 15 5 41\n",
      "2 16 5 30\n",
      "2 17 5 23\n",
      "2 18 5 23\n",
      "2 19 5 31\n",
      "2 20 5 38\n",
      "2 21 5 25\n",
      "2 22 5 20\n",
      "2 23 5 25\n",
      "2 24 5 20\n",
      "2 25 5 17\n",
      "3 1 3 452\n",
      "3 2 3 215\n",
      "3 3 3 377\n",
      "3 4 3 571\n",
      "3 5 3 377\n",
      "3 6 3 257\n",
      "3 7 3 292\n",
      "3 8 3 137\n",
      "3 9 3 64\n",
      "3 10 3 33\n",
      "3 11 3 23\n",
      "3 12 3 37\n",
      "3 13 3 29\n",
      "3 14 3 19\n",
      "3 15 3 13\n",
      "3 16 3 18\n",
      "3 17 3 12\n",
      "3 18 3 8\n",
      "3 19 3 9\n",
      "3 20 3 6\n",
      "3 21 3 4\n",
      "3 22 3 13\n",
      "3 23 3 13\n",
      "3 24 3 9\n",
      "3 25 3 8\n",
      "3 1 4 565\n",
      "3 2 4 277\n",
      "3 3 4 525\n",
      "3 4 4 667\n",
      "3 5 4 398\n",
      "3 6 4 342\n",
      "3 7 4 438\n",
      "3 8 4 222\n",
      "3 9 4 88\n",
      "3 10 4 78\n",
      "3 11 4 48\n",
      "3 12 4 42\n",
      "3 13 4 50\n",
      "3 14 4 36\n",
      "3 15 4 39\n",
      "3 16 4 28\n",
      "3 17 4 33\n",
      "3 18 4 37\n",
      "3 19 4 24\n",
      "3 20 4 27\n",
      "3 21 4 17\n",
      "3 22 4 16\n",
      "3 23 4 18\n",
      "3 24 4 18\n",
      "3 25 4 27\n",
      "3 1 5 360\n",
      "3 2 5 189\n",
      "3 3 5 339\n",
      "3 4 5 415\n",
      "3 5 5 375\n",
      "3 6 5 316\n",
      "3 7 5 316\n",
      "3 8 5 204\n",
      "3 9 5 69\n",
      "3 10 5 57\n",
      "3 11 5 54\n",
      "3 12 5 50\n",
      "3 13 5 41\n",
      "3 14 5 38\n",
      "3 15 5 24\n",
      "3 16 5 24\n",
      "3 17 5 23\n",
      "3 18 5 17\n",
      "3 19 5 15\n",
      "3 20 5 24\n",
      "3 21 5 13\n",
      "3 22 5 20\n",
      "3 23 5 16\n",
      "3 24 5 17\n",
      "3 25 5 9\n",
      "4 1 4 168\n",
      "4 2 4 99\n",
      "4 3 4 217\n",
      "4 4 4 212\n",
      "4 5 4 155\n",
      "4 6 4 140\n",
      "4 7 4 190\n",
      "4 8 4 124\n",
      "4 9 4 39\n",
      "4 10 4 28\n",
      "4 11 4 15\n",
      "4 12 4 21\n",
      "4 13 4 17\n",
      "4 14 4 12\n",
      "4 15 4 12\n",
      "4 16 4 10\n",
      "4 17 4 13\n",
      "4 18 4 14\n",
      "4 19 4 10\n",
      "4 20 4 12\n",
      "4 21 4 12\n",
      "4 22 4 10\n",
      "4 23 4 12\n",
      "4 24 4 13\n",
      "4 25 4 11\n",
      "4 1 5 281\n",
      "4 2 5 163\n",
      "4 3 5 245\n",
      "4 4 5 299\n",
      "4 5 5 220\n",
      "4 6 5 212\n",
      "4 7 5 219\n",
      "4 8 5 169\n",
      "4 9 5 87\n",
      "4 10 5 45\n",
      "4 11 5 61\n",
      "4 12 5 39\n",
      "4 13 5 38\n",
      "4 14 5 31\n",
      "4 15 5 36\n",
      "4 16 5 23\n",
      "4 17 5 26\n",
      "4 18 5 31\n",
      "4 19 5 33\n",
      "4 20 5 20\n",
      "4 21 5 18\n",
      "4 22 5 19\n",
      "4 23 5 28\n",
      "4 24 5 19\n",
      "4 25 5 18\n",
      "5 1 5 111\n",
      "5 2 5 61\n",
      "5 3 5 102\n",
      "5 4 5 151\n",
      "5 5 5 106\n",
      "5 6 5 74\n",
      "5 7 5 84\n",
      "5 8 5 100\n",
      "5 9 5 41\n",
      "5 10 5 17\n",
      "5 11 5 19\n",
      "5 12 5 19\n",
      "5 13 5 21\n",
      "5 14 5 18\n",
      "5 15 5 18\n",
      "5 16 5 19\n",
      "5 17 5 16\n",
      "5 18 5 11\n",
      "5 19 5 8\n",
      "5 20 5 18\n",
      "5 21 5 11\n",
      "5 22 5 13\n",
      "5 23 5 13\n",
      "5 24 5 12\n",
      "5 25 5 14\n"
     ]
    }
   ],
   "source": [
    "for i in combinations_with_replacement(range(6), 2):\n",
    "    for j in range(1,26):\n",
    "        a = len(on_cp[np.where((on_cp[:, 0] == i[0]) &\n",
    "                     (on_cp[:, 2] == i[1]) &\n",
    "                     (on_cp[:, 1] == j))[0]])\n",
    "        print (i[0], j, i[1], a)"
   ]
  },
  {
   "cell_type": "code",
   "execution_count": 431,
   "metadata": {
    "ExecuteTime": {
     "end_time": "2017-05-12T06:41:07.580541Z",
     "start_time": "2017-05-12T06:41:07.284310Z"
    },
    "collapsed": true,
    "run_control": {
     "frozen": false,
     "read_only": false
    }
   },
   "outputs": [],
   "source": [
    "table = np.array([\n",
    "    [[1], [], [], [], [], []],\n",
    "    [[], [], [], [], [], []],\n",
    "    [[], [], [], [], [], []],\n",
    "    [[], [], [], [], [], []],\n",
    "    [[], [], [], [], [], []],\n",
    "    [[], [], [], [], [], []],\n",
    "])\n",
    "table_sums = np.zeros(shape=(6,6), dtype=int)\n",
    "\n",
    "for i in combinations_with_replacement(range(6), 2):\n",
    "    vals = []\n",
    "    for j in range(1,26):\n",
    "        a = len(on_cp[np.where((on_cp[:, 0] == i[0]) &\n",
    "                     (on_cp[:, 2] == i[1]) &\n",
    "                     (on_cp[:, 1] == j))[0]])\n",
    "        #print (i[0], j, i[1], a)\n",
    "        vals.append(a)\n",
    "    table[i[0], i[1]] = vals\n",
    "    table[i[1], i[0]] = vals\n",
    "    table_sums[i[0], i[1]] = sum(vals)\n",
    "    table_sums[i[1], i[0]] = sum(vals)"
   ]
  },
  {
   "cell_type": "code",
   "execution_count": 435,
   "metadata": {
    "ExecuteTime": {
     "end_time": "2017-05-12T06:41:59.288840Z",
     "start_time": "2017-05-12T06:41:59.277096Z"
    },
    "run_control": {
     "frozen": false,
     "read_only": false
    }
   },
   "outputs": [
    {
     "data": {
      "text/plain": [
       "array([[13768, 11745,  7713,  6588,  4565,  3807],\n",
       "       [11745,  5970,  6872,  4574,  3151,  2466],\n",
       "       [ 7713,  6872,  2301,  2637,  2091,  1456],\n",
       "       [ 6588,  4574,  2637,   833,  1270,   912],\n",
       "       [ 4565,  3151,  2091,  1270,   526,   894],\n",
       "       [ 3807,  2466,  1456,   912,   894,   448]])"
      ]
     },
     "execution_count": 435,
     "metadata": {},
     "output_type": "execute_result"
    }
   ],
   "source": [
    "table_sums"
   ]
  },
  {
   "cell_type": "code",
   "execution_count": 441,
   "metadata": {
    "ExecuteTime": {
     "end_time": "2017-05-12T06:44:26.332930Z",
     "start_time": "2017-05-12T06:44:26.322743Z"
    },
    "run_control": {
     "frozen": false,
     "read_only": false
    }
   },
   "outputs": [
    {
     "data": {
      "text/plain": [
       "48186"
      ]
     },
     "execution_count": 441,
     "metadata": {},
     "output_type": "execute_result"
    }
   ],
   "source": [
    "table_sums.sum(axis=1)[0]"
   ]
  },
  {
   "cell_type": "code",
   "execution_count": 437,
   "metadata": {
    "ExecuteTime": {
     "end_time": "2017-05-12T06:42:51.216612Z",
     "start_time": "2017-05-12T06:42:51.205925Z"
    },
    "run_control": {
     "frozen": false,
     "read_only": false
    }
   },
   "outputs": [
    {
     "data": {
      "text/plain": [
       "array([48186, 34778, 23070, 16814, 12497,  9983])"
      ]
     },
     "execution_count": 437,
     "metadata": {},
     "output_type": "execute_result"
    }
   ],
   "source": []
  },
  {
   "cell_type": "code",
   "execution_count": 433,
   "metadata": {
    "ExecuteTime": {
     "end_time": "2017-05-12T06:41:30.670698Z",
     "start_time": "2017-05-12T06:41:30.662982Z"
    },
    "collapsed": true,
    "run_control": {
     "frozen": false,
     "read_only": false
    }
   },
   "outputs": [],
   "source": [
    "import matplotlib.gridspec as gridspec\n",
    "gs = gridspec.GridSpec(100, 100)"
   ]
  },
  {
   "cell_type": "code",
   "execution_count": null,
   "metadata": {
    "collapsed": true,
    "run_control": {
     "frozen": false,
     "read_only": false
    }
   },
   "outputs": [],
   "source": [
    "for i in range(6):\n",
    "    r = 100*(table_sums[i, j]/table_sums.sum(axis=1)[0])\n",
    "    for j in range(6):\n",
    "        \n",
    "        ax = plt.subplot(gs[:r, :r])"
   ]
  }
 ],
 "metadata": {
  "kernelspec": {
   "display_name": "Python [default]",
   "language": "python",
   "name": "python3"
  },
  "language_info": {
   "codemirror_mode": {
    "name": "ipython",
    "version": 3
   },
   "file_extension": ".py",
   "mimetype": "text/x-python",
   "name": "python",
   "nbconvert_exporter": "python",
   "pygments_lexer": "ipython3",
   "version": "3.5.2"
  }
 },
 "nbformat": 4,
 "nbformat_minor": 2
}
