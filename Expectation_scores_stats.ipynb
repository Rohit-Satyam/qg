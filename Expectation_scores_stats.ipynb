{
 "cells": [
  {
   "cell_type": "code",
   "execution_count": 2,
   "metadata": {
    "ExecuteTime": {
     "end_time": "2017-04-09T05:38:30.845848",
     "start_time": "2017-04-09T11:08:30.790793+05:30"
    },
    "collapsed": false,
    "run_control": {
     "frozen": false,
     "read_only": false
    }
   },
   "outputs": [
    {
     "data": {
      "text/plain": [
       "25"
      ]
     },
     "execution_count": 2,
     "metadata": {},
     "output_type": "execute_result"
    }
   ],
   "source": [
    "import numpy as np\n",
    "from tqdm import tqdm\n",
    "import glob\n",
    "import matplotlib.pyplot as plt\n",
    "from scipy.stats import mannwhitneyu, ttest_ind, zscore, pearsonr, wilcoxon\n",
    "import pybedtools as pbt\n",
    "from scipy.integrate import simps\n",
    "from IPython.display import clear_output\n",
    "import pandas as pd\n",
    "from ipyparallel import Client\n",
    "\n",
    "plt.style.use('fivethirtyeight')\n",
    "def clean_axis(ax):\n",
    "    ax.xaxis.set_tick_params(labelsize=9)\n",
    "    ax.yaxis.set_tick_params(labelsize=9)\n",
    "    for i in ['top', 'bottom', 'left', 'right']:\n",
    "        ax.spines[i].set_visible(False)\n",
    "    ax.grid(which='major', linestyle='--', alpha=0.5)\n",
    "    return True\n",
    "\n",
    "DVIEW = Client()[:]\n",
    "DVIEW.block=True\n",
    "len(DVIEW)"
   ]
  },
  {
   "cell_type": "code",
   "execution_count": 6,
   "metadata": {
    "ExecuteTime": {
     "end_time": "2017-04-09T05:45:04.645832",
     "start_time": "2017-04-09T11:12:46.544325+05:30"
    },
    "collapsed": false,
    "run_control": {
     "frozen": false,
     "read_only": false
    },
    "scrolled": true
   },
   "outputs": [],
   "source": [
    "def calc_stats(chrom):\n",
    "    import numpy as np\n",
    "    \n",
    "    def approx_motifs(a):\n",
    "        ctr = 0\n",
    "        cctr = {}\n",
    "        for i in a:\n",
    "            if i not in cctr:\n",
    "                cctr[i] = 0\n",
    "            cctr[i]+=1\n",
    "            if cctr[i] == 12:\n",
    "                cctr[i] = 0\n",
    "                ctr+=1\n",
    "        return ctr\n",
    "    \n",
    "    num_g = {'positive': [], 'negative': []}\n",
    "    motifs = {'positive': [], 'negative': []}\n",
    "    cut_offs = [0.5, 0.1, 0.01, 0.001, 1e-5, 1e-10, 1e-20]\n",
    "    indir = '/home/parashar/scratch/quadcomb/data/QG_expectation_scores_corrected_values'\n",
    "    for strand in ['positive', 'negative']:\n",
    "        fn_in = '%s/%s_%s.npy' % (indir, chrom, strand)\n",
    "        a = np.load(fn_in)\n",
    "        nz = a[a > 0]\n",
    "        for cf in cut_offs:\n",
    "            b = nz[nz > cf]\n",
    "            num_g[strand].append(len(b))\n",
    "            motifs[strand].append(approx_motifs(b))\n",
    "    return num_g, motifs\n",
    "\n",
    "chroms = ['chr'+str(x) for x in range(1,23)] + ['chrX', 'chrY']\n",
    "res = DVIEW.map_sync(calc_stats, chroms)"
   ]
  },
  {
   "cell_type": "code",
   "execution_count": 13,
   "metadata": {
    "ExecuteTime": {
     "end_time": "2017-04-09T05:47:42.648045",
     "start_time": "2017-04-09T11:17:42.634300+05:30"
    },
    "collapsed": false,
    "run_control": {
     "frozen": false,
     "read_only": false
    }
   },
   "outputs": [
    {
     "name": "stdout",
     "output_type": "stream",
     "text": [
      "32782002\n",
      "{'positive': [344, 29445, 199785, 381757, 619108, 746335, 747037], 'negative': [345, 29989, 199708, 382016, 618997, 745993, 746667]}\n"
     ]
    }
   ],
   "source": [
    "cut_offs = [0.5, 0.1, 0.01, 0.001, 1e-5, 1e-10, 1e-20],\n",
    "\n",
    "for i in res:\n",
    "    \n",
    "        print (sum(i[0]['positive'])\n",
    "    print (i[1])\n",
    "    break\n",
    "    "
   ]
  },
  {
   "cell_type": "code",
   "execution_count": 179,
   "metadata": {
    "ExecuteTime": {
     "end_time": "2017-03-29T14:53:58.063971",
     "start_time": "2017-03-29T14:53:58.057416"
    },
    "collapsed": false,
    "run_control": {
     "frozen": false,
     "read_only": false
    }
   },
   "outputs": [
    {
     "name": "stdout",
     "output_type": "stream",
     "text": [
      "1458\t117138\t800996\t1634137\t2928752\t3760098\t3767169\n",
      "1509\t113974\t791444\t1626613\t2907893\t3732872\t3739546\n",
      "180\t14792\t119851\t256486\t464937\t596068\t597115\n",
      "186\t15077\t118619\t253303\t458029\t585317\t586417\n"
     ]
    }
   ],
   "source": [
    "for chrom in ['chrX', 'chrY']:\n",
    "    print (\"\\t\".join(map(str, num_g[chrom]['positive'])))\n",
    "    print (\"\\t\".join(map(str, num_g[chrom]['negative'])))    "
   ]
  },
  {
   "cell_type": "code",
   "execution_count": 151,
   "metadata": {
    "ExecuteTime": {
     "end_time": "2017-03-29T12:55:36.805359",
     "start_time": "2017-03-29T12:55:36.798811"
    },
    "collapsed": false,
    "run_control": {
     "frozen": false,
     "read_only": false
    }
   },
   "outputs": [
    {
     "name": "stdout",
     "output_type": "stream",
     "text": [
      "0.5 7205\n",
      "0.1 622933\n",
      "0.01 4316976\n",
      "0.001 8392890\n",
      "1e-05 13955355\n",
      "1e-10 17123821\n",
      "1e-20 17140281\n"
     ]
    }
   ],
   "source": [
    "for i in range(len(cut_offs)):\n",
    "    v = 0\n",
    "    for chrom in chroms:\n",
    "        v+=motifs[chrom]['positive'][i]\n",
    "        v+=motifs[chrom]['negative'][i]\n",
    "    print (cut_offs[i], v)"
   ]
  },
  {
   "cell_type": "code",
   "execution_count": 184,
   "metadata": {
    "ExecuteTime": {
     "end_time": "2017-03-29T15:40:47.690759",
     "start_time": "2017-03-29T15:40:47.686117"
    },
    "collapsed": true,
    "run_control": {
     "frozen": false,
     "read_only": false
    }
   },
   "outputs": [],
   "source": [
    "from collections import Counter"
   ]
  },
  {
   "cell_type": "code",
   "execution_count": 236,
   "metadata": {
    "ExecuteTime": {
     "end_time": "2017-03-29T16:59:14.203311",
     "start_time": "2017-03-29T16:57:22.730383"
    },
    "collapsed": false,
    "run_control": {
     "frozen": false,
     "read_only": false
    }
   },
   "outputs": [
    {
     "name": "stdout",
     "output_type": "stream",
     "text": [
      "chr1 1543900 178480655 53261734\n",
      "chr2 1499943 171133452 50281568\n",
      "chr3 1196799 135765093 39488479\n",
      "chr4 1042507 117234654 33742095\n",
      "chr5 1075474 121939314 35450520\n",
      "chr6 1018596 115566198 33690818\n",
      "chr7 1004566 115339960 34147490\n",
      "chr8 895238 102037948 29908455\n",
      "chr9 800357 92223280 27428076\n",
      "chr10 892461 102853135 30548390\n",
      "chr11 884738 102064825 30438106\n",
      "chr12 854457 97892269 28900139\n",
      "chr13 539500 60865702 17614650\n",
      "chr14 577109 66325987 19617637\n",
      "chr15 575730 66554369 19865248\n",
      "chr16 623707 73514709 22451185\n",
      "chr17 633825 75205538 23220888\n",
      "chr18 456737 51841529 15151881\n",
      "chr19 501522 60812949 19227288\n",
      "chr20 457057 53568634 16270220\n",
      "chr21 224289 25891231 7733076\n",
      "chr22 308936 37336382 11746555\n",
      "chrX 919083 104151753 30070154\n",
      "chrY 162061 18592426 5355816\n"
     ]
    }
   ],
   "source": [
    "ctrs = {}\n",
    "spans = {}\n",
    "gs = {}\n",
    "for chrom in chroms:\n",
    "    ctr = 0\n",
    "    g4_bed = '/home/parashar/scratch/quadruplexes/hg19/g3_50_3_%s_nov.bed' % chrom\n",
    "    ctr = 0\n",
    "    span = 0\n",
    "    g = 0\n",
    "    with open(g4_bed) as h:\n",
    "        for l in h:\n",
    "            c = l.rstrip('\\n').split('\\t')\n",
    "            s = int(c[2]) - int(c[1])\n",
    "            span+=s\n",
    "            ctr+=1\n",
    "            g4 = c[5].upper()\n",
    "            if c[4][0] == \"G\":\n",
    "                g+= g4.count('G')\n",
    "            else:\n",
    "                g+= g4.count('C')\n",
    "    gs[chrom] = g\n",
    "    ctrs[chrom] = ctr\n",
    "    spans[chrom] = span\n",
    "    print (chrom, ctr, span, g)"
   ]
  },
  {
   "cell_type": "code",
   "execution_count": 197,
   "metadata": {
    "ExecuteTime": {
     "end_time": "2017-03-29T16:01:32.759891",
     "start_time": "2017-03-29T16:01:32.751810"
    },
    "collapsed": false,
    "run_control": {
     "frozen": false,
     "read_only": false
    }
   },
   "outputs": [
    {
     "data": {
      "text/plain": [
       "537072052"
      ]
     },
     "execution_count": 197,
     "metadata": {},
     "output_type": "execute_result"
    }
   ],
   "source": [
    "sum(list(ctrs.values()))"
   ]
  },
  {
   "cell_type": "code",
   "execution_count": 211,
   "metadata": {
    "ExecuteTime": {
     "end_time": "2017-03-29T16:18:44.394303",
     "start_time": "2017-03-29T16:18:44.384234"
    },
    "collapsed": false,
    "run_control": {
     "frozen": false,
     "read_only": false
    }
   },
   "outputs": [
    {
     "data": {
      "text/plain": [
       "0.010810810909009009"
      ]
     },
     "execution_count": 211,
     "metadata": {},
     "output_type": "execute_result"
    }
   ],
   "source": [
    "x = np.linspace(1e-10, 0.6, 1000)\n",
    "x[18]"
   ]
  },
  {
   "cell_type": "code",
   "execution_count": 216,
   "metadata": {
    "ExecuteTime": {
     "end_time": "2017-03-29T16:19:20.815157",
     "start_time": "2017-03-29T16:19:20.809910"
    },
    "collapsed": false,
    "run_control": {
     "frozen": false,
     "read_only": false
    }
   },
   "outputs": [
    {
     "data": {
      "text/plain": [
       "16"
      ]
     },
     "execution_count": 216,
     "metadata": {},
     "output_type": "execute_result"
    }
   ],
   "source": [
    "np.argmax(tpr-fpr)"
   ]
  },
  {
   "cell_type": "code",
   "execution_count": 217,
   "metadata": {
    "ExecuteTime": {
     "end_time": "2017-03-29T16:19:30.427572",
     "start_time": "2017-03-29T16:19:30.417931"
    },
    "collapsed": false,
    "run_control": {
     "frozen": false,
     "read_only": false
    }
   },
   "outputs": [
    {
     "data": {
      "text/plain": [
       "array([ 0.00900901,  0.00960961,  0.01021021])"
      ]
     },
     "execution_count": 217,
     "metadata": {},
     "output_type": "execute_result"
    }
   ],
   "source": [
    "x[15:18]"
   ]
  }
 ],
 "metadata": {
  "kernelspec": {
   "display_name": "Python [default]",
   "language": "python",
   "name": "python3"
  },
  "language_info": {
   "codemirror_mode": {
    "name": "ipython",
    "version": 3
   },
   "file_extension": ".py",
   "mimetype": "text/x-python",
   "name": "python",
   "nbconvert_exporter": "python",
   "pygments_lexer": "ipython3",
   "version": "3.5.2"
  }
 },
 "nbformat": 4,
 "nbformat_minor": 1
}
