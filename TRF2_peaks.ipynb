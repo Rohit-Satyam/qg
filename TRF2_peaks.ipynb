{
 "cells": [
  {
   "cell_type": "code",
   "execution_count": 1,
   "metadata": {
    "ExecuteTime": {
     "end_time": "2017-05-19T15:07:50.687588Z",
     "start_time": "2017-05-19T15:07:47.302128Z"
    },
    "run_control": {
     "frozen": false,
     "read_only": false
    }
   },
   "outputs": [
    {
     "data": {
      "text/plain": [
       "30"
      ]
     },
     "execution_count": 1,
     "metadata": {},
     "output_type": "execute_result"
    }
   ],
   "source": [
    "import matplotlib.pyplot as plt\n",
    "import pybedtools as pbt\n",
    "import glob\n",
    "from tqdm import tqdm\n",
    "import numpy as np\n",
    "from IPython.display import clear_output\n",
    "import seaborn.apionly as sns\n",
    "from scipy.stats import mannwhitneyu, poisson\n",
    "import json\n",
    "from ipyparallel import Client\n",
    "import os\n",
    "from scipy.stats import fisher_exact\n",
    "\n",
    "plt.style.use('fivethirtyeight')\n",
    "def clean_axis(ax):\n",
    "    ax.xaxis.set_tick_params(labelsize=9)\n",
    "    ax.yaxis.set_tick_params(labelsize=9)\n",
    "    for i in ['top', 'bottom', 'left', 'right']:\n",
    "        ax.spines[i].set_visible(False)\n",
    "    ax.grid(which='major', linestyle='--', alpha=0.7)\n",
    "    fig.patch.set_alpha(0)\n",
    "    ax.patch.set_alpha(0)\n",
    "    return True\n",
    "\n",
    "DVIEW = Client()[:]\n",
    "DVIEW.block=True\n",
    "len(DVIEW)"
   ]
  },
  {
   "cell_type": "markdown",
   "metadata": {
    "run_control": {
     "frozen": false,
     "read_only": false
    }
   },
   "source": [
    "### First we need to create arrays consisting of expectation scores around center of each TRF2 peak"
   ]
  },
  {
   "cell_type": "markdown",
   "metadata": {
    "run_control": {
     "frozen": false,
     "read_only": false
    }
   },
   "source": [
    "#### Creating peak arrays and their shuffle controls"
   ]
  },
  {
   "cell_type": "code",
   "execution_count": 34,
   "metadata": {
    "ExecuteTime": {
     "end_time": "2017-05-19T15:37:22.631179Z",
     "start_time": "2017-05-19T15:29:19.075708Z"
    },
    "code_folding": [],
    "run_control": {
     "frozen": false,
     "read_only": false
    }
   },
   "outputs": [
    {
     "name": "stdout",
     "output_type": "stream",
     "text": [
      "importing numpy on engine(s)\n",
      "importing pybedtools on engine(s)\n"
     ]
    }
   ],
   "source": [
    "def chrom_to_peaks(chrom):\n",
    "    \n",
    "    def bed_to_chrom_wise_interval(bed):\n",
    "        chrom_wise_peaks = {x: [] for x in chroms}\n",
    "        for i in bed:\n",
    "            chrom_wise_peaks[i.chrom].append((i.start, i.end))\n",
    "        return chrom_wise_peaks\n",
    "    \n",
    "    pos = numpy.load(\"%s/%s_positive_scores.npy\" % (snipr_dir, chrom), mmap_mode='r')\n",
    "    neg = numpy.load(\"%s/%s_negative_scores.npy\" % (snipr_dir, chrom), mmap_mode='r')\n",
    "    \n",
    "    interval_scores = []\n",
    "    chrom_wise_peaks = bed_to_chrom_wise_interval(pybedtools.BedTool(bed_file))\n",
    "    for i in chrom_wise_peaks[chrom]:\n",
    "        peak_mid = i[0] + (i[1] - i[0])\n",
    "        interval_scores.append(pos[peak_mid-offset:peak_mid+offset] +\n",
    "                               neg[peak_mid-offset:peak_mid+offset])\n",
    "    interval_scores = numpy.array(interval_scores)\n",
    "    a_mean = [numpy.sum(x)/len(numpy.nonzero(x)[0])\n",
    "                  if len(numpy.nonzero(x)[0]) > 0 else 0 for x in interval_scores]\n",
    "    a_ac_sum = sum([1 if len(numpy.where(x >= 185)[0]) > 0 else 0\n",
    "                    for x in interval_scores])\n",
    "    \n",
    "    b_means = []\n",
    "    b_ac_sums = []\n",
    "    for i in range(num_iters):\n",
    "        chrom_wise_peaks = bed_to_chrom_wise_interval(\n",
    "            pybedtools.BedTool(bed_file).shuffle(chrom=True, g=chrom_info_file))\n",
    "        shuffle_scores = []\n",
    "        for i in chrom_wise_peaks[chrom]:\n",
    "            peak_mid = i[0] + (i[1] - i[0])\n",
    "            shuffle_scores.append(pos[peak_mid-offset:peak_mid+offset] +\n",
    "                        neg[peak_mid-offset:peak_mid+offset])\n",
    "        shuffle_scores = numpy.array(shuffle_scores)\n",
    "        b_means.append([numpy.sum(x)/len(numpy.nonzero(x)[0])\n",
    "                  if len(numpy.nonzero(x)[0]) > 0 else 0 for x in shuffle_scores])\n",
    "        b_ac_sums.append(sum([1 if len(numpy.where(x >= 185)[0]) > 0 else 0\n",
    "                        for x in shuffle_scores]))\n",
    "    return a_mean, a_ac_sum, b_means, b_ac_sums\n",
    "\n",
    "num_iters = 1000\n",
    "chroms = ['chr'+str(x) for x in range(1,23)] + ['chrX', 'chrY']\n",
    "with DVIEW.sync_imports():\n",
    "    import numpy\n",
    "    import pybedtools\n",
    "\n",
    "_ = DVIEW.push(dict(\n",
    "        #bed_file=os.path.abspath('../data/TRF2/IDR_peaks.bed'),\n",
    "        bed_file=os.path.abspath('../data/TRF2/all_common_peaks.bed'),\n",
    "        offset=100,\n",
    "        snipr_dir=os.path.abspath('../data/snipr'),\n",
    "        chroms=chroms,\n",
    "        chrom_info_file='/home/parashar/scratch/hg19_resource/hg19.genome',\n",
    "        num_iters=num_iters\n",
    "))\n",
    "\n",
    "res = DVIEW.map_sync(chrom_to_peaks, chroms)\n",
    "a_mean, a_ac_sum, b_means, b_ac_sums = ([], 0, [[] for x in range(num_iters)],\n",
    "                                        [0 for x in range(num_iters)])\n",
    "for i in res:\n",
    "    a_mean.extend(i[0])\n",
    "    a_ac_sum += i[1]\n",
    "    for j in range(num_iters):\n",
    "        b_means[j].extend(i[2][j])\n",
    "        b_ac_sums[j] += i[3][j]\n",
    "#save_dir = '../data/TRF2/idr'\n",
    "save_dir = '../data/TRF2/all'\n",
    "np.save('%s_peaks_scores' % save_dir, np.array(a_mean, dtype=float))\n",
    "np.save('%s_peaks_above_185' % save_dir, np.array([a_ac_sum], dtype=int))\n",
    "np.save('%s_shuffle_peaks_scores' % save_dir, np.array(b_means, dtype=float))\n",
    "np.save('%s_shuffle_peaks_above_185' % save_dir, np.array(b_ac_sums, dtype=int))"
   ]
  },
  {
   "cell_type": "markdown",
   "metadata": {
    "run_control": {
     "frozen": false,
     "read_only": false
    }
   },
   "source": [
    "### Now lets investigate whether SNIPR-Q scores in the TRF2 peak region is actually higher than expectation"
   ]
  },
  {
   "cell_type": "code",
   "execution_count": 35,
   "metadata": {
    "ExecuteTime": {
     "end_time": "2017-05-19T15:51:24.130920Z",
     "start_time": "2017-05-19T15:51:23.990790Z"
    },
    "run_control": {
     "frozen": false,
     "read_only": false
    }
   },
   "outputs": [],
   "source": [
    "save_dir = '../data/TRF2/all'\n",
    "a_mean = np.load('%s_peaks_scores.npy' % save_dir)\n",
    "a_ac_sum = np.load('%s_peaks_above_185.npy' % save_dir)\n",
    "b_means = np.load('%s_shuffle_peaks_scores.npy' % save_dir)\n",
    "b_ac_sums = np.load('%s_shuffle_peaks_above_185.npy' % save_dir)"
   ]
  },
  {
   "cell_type": "code",
   "execution_count": 37,
   "metadata": {
    "ExecuteTime": {
     "end_time": "2017-05-19T15:51:49.946769Z",
     "start_time": "2017-05-19T15:51:39.540013Z"
    }
   },
   "outputs": [
    {
     "name": "stderr",
     "output_type": "stream",
     "text": [
      "100%|██████████| 1000/1000 [00:10<00:00, 96.10it/s]\n"
     ]
    }
   ],
   "source": [
    "pvals = []\n",
    "for i in tqdm(range(1000)):\n",
    "    pvals.append(mannwhitneyu(a_mean, b_means[i])[1])"
   ]
  },
  {
   "cell_type": "code",
   "execution_count": 46,
   "metadata": {
    "ExecuteTime": {
     "end_time": "2017-05-19T15:53:04.552148Z",
     "start_time": "2017-05-19T15:53:04.105423Z"
    }
   },
   "outputs": [
    {
     "data": {
      "text/plain": [
       "(34.367088607594937, 23.898017099338759, 2.6703662518331499e-41)"
      ]
     },
     "execution_count": 46,
     "metadata": {},
     "output_type": "execute_result"
    }
   ],
   "source": [
    "np.median(a_mean), np.mean([np.median(x) for x in b_means]), max(pvals)"
   ]
  },
  {
   "cell_type": "code",
   "execution_count": 51,
   "metadata": {
    "ExecuteTime": {
     "end_time": "2017-05-19T15:56:25.414252Z",
     "start_time": "2017-05-19T15:56:24.970711Z"
    }
   },
   "outputs": [
    {
     "data": {
      "text/plain": [
       "1.4380728101724327"
      ]
     },
     "execution_count": 51,
     "metadata": {},
     "output_type": "execute_result"
    }
   ],
   "source": [
    "np.median(a_mean)/np.mean([np.median(x) for x in b_means])"
   ]
  },
  {
   "cell_type": "code",
   "execution_count": 49,
   "metadata": {
    "ExecuteTime": {
     "end_time": "2017-05-19T15:53:30.635898Z",
     "start_time": "2017-05-19T15:53:28.797794Z"
    }
   },
   "outputs": [
    {
     "data": {
      "text/plain": [
       "(6846, 5754.0330000000004, (1.2859258330148025, 1.2287426543569645e-31))"
      ]
     },
     "execution_count": 49,
     "metadata": {},
     "output_type": "execute_result"
    }
   ],
   "source": [
    "p = fisher_exact([\n",
    "    [sum(a_ac_sum), a_mean.shape[0]-sum(a_ac_sum)],\n",
    "    [np.mean(b_ac_sums), a_mean.shape[0]-np.mean(b_ac_sums)]\n",
    "])\n",
    "sum(a_ac_sum), np.mean(b_ac_sums), p"
   ]
  },
  {
   "cell_type": "code",
   "execution_count": 53,
   "metadata": {
    "ExecuteTime": {
     "end_time": "2017-05-19T15:58:03.493699Z",
     "start_time": "2017-05-19T15:58:03.480833Z"
    }
   },
   "outputs": [
    {
     "data": {
      "text/plain": [
       "((20347,), 0.3364623777461051, 0.28279515407676808)"
      ]
     },
     "execution_count": 53,
     "metadata": {},
     "output_type": "execute_result"
    }
   ],
   "source": [
    "a_mean.shape, sum(a_ac_sum)/a_mean.shape[0], np.mean(b_ac_sums)/a_mean.shape[0]"
   ]
  },
  {
   "cell_type": "code",
   "execution_count": 56,
   "metadata": {
    "ExecuteTime": {
     "end_time": "2017-05-17T04:03:02.659207Z",
     "start_time": "2017-05-17T04:03:02.161024Z"
    },
    "run_control": {
     "frozen": false,
     "read_only": false
    }
   },
   "outputs": [
    {
     "data": {
      "image/png": "[encoded data removed]",
      "text/plain": [
       "<matplotlib.figure.Figure at 0x2b8ed4be5978>"
      ]
     },
     "metadata": {},
     "output_type": "display_data"
    }
   ],
   "source": [
    "fig, ax = plt.subplots(1, 1, figsize=(2, 3))\n",
    "\n",
    "boxprops = dict(linestyle='-', linewidth=1, color='k')\n",
    "whiskerprops = dict(linestyle='--', linewidth=1, color='k')\n",
    "medianprops = dict(linestyle='-', linewidth=1.5, color='crimson')\n",
    "\n",
    "ax.boxplot([a, b[0]], sym='', widths=[0.5, 0.5],\n",
    "           boxprops=boxprops, \n",
    "           medianprops=medianprops, whiskerprops=whiskerprops)\n",
    "ax.set_ylabel(r'Total $\\xi$ score in each peak', fontsize=10)\n",
    "ax.set_xticklabels([r'$TRF2_{HC}$'+'\\n'+'$peaks$', r'$Shuffled$'+'\\n'+'$peaks$'],\n",
    "                   rotation=45, fontsize=10)\n",
    "clean_axis(ax)\n",
    "\n",
    "plt.tight_layout()\n",
    "plt.show()"
   ]
  },
  {
   "cell_type": "code",
   "execution_count": 51,
   "metadata": {
    "ExecuteTime": {
     "end_time": "2017-05-17T04:01:21.025779Z",
     "start_time": "2017-05-17T04:01:19.381851Z"
    },
    "collapsed": true,
    "run_control": {
     "frozen": false,
     "read_only": false
    }
   },
   "outputs": [],
   "source": [
    "sorted_peaks_array = peaks_array[peaks_array.sum(axis=1).argsort()[::-1]]\n",
    "sorted_shuffle_array = [i[i.sum(axis=1).argsort()[::-1]] for i in shuffle_array]"
   ]
  },
  {
   "cell_type": "code",
   "execution_count": 52,
   "metadata": {
    "ExecuteTime": {
     "end_time": "2017-05-17T04:01:27.393600Z",
     "start_time": "2017-05-17T04:01:22.461797Z"
    },
    "run_control": {
     "frozen": false,
     "read_only": false
    }
   },
   "outputs": [
    {
     "data": {
      "image/png": "[encoded data removed]",
      "text/plain": [
       "<matplotlib.figure.Figure at 0x2b8fcc113668>"
      ]
     },
     "metadata": {},
     "output_type": "display_data"
    }
   ],
   "source": [
    "fig, ax = plt.subplots(1, 1, figsize=(5, 8))\n",
    "\n",
    "ax = sns.heatmap(sorted_peaks_array, vmax=0.3, \n",
    "          xticklabels=[], yticklabels=[], ax=ax)\n",
    "\n",
    "ax.set_xticks([x+1000 for x in [-1000, -750, -500, -250, 0, 250, 500, 750, 1000]])\n",
    "ax.set_xticklabels([-1000, -750, -500, -250, 0, 250, 500, 750, 1000], fontsize=9, rotation=40)\n",
    "ax.set_yticks([])\n",
    "ax.axvline(1000, ls='--', color='k', lw=1)\n",
    "plt.show()"
   ]
  },
  {
   "cell_type": "markdown",
   "metadata": {
    "run_control": {
     "frozen": false,
     "read_only": false
    }
   },
   "source": [
    "### Now we are going to look at motif based approaches and how they overlap the TRF2 binding sites"
   ]
  },
  {
   "cell_type": "code",
   "execution_count": 92,
   "metadata": {
    "ExecuteTime": {
     "end_time": "2017-05-17T08:04:50.418741Z",
     "start_time": "2017-05-17T08:04:41.186075Z"
    },
    "collapsed": true,
    "run_control": {
     "frozen": false,
     "read_only": false
    }
   },
   "outputs": [],
   "source": [
    "def make_chrom_wise_bed(bed):\n",
    "    chroms = ['chr'+str(x) for x in range(1,23)] + ['chrX', 'chrY']\n",
    "    chrom_wise = {x:[] for x in chroms}\n",
    "    for i in bed:\n",
    "        chrom_wise[i.chrom].append(str(i).rstrip('\\n'))\n",
    "    for chrom in chroms:\n",
    "         chrom_wise[chrom] = pbt.BedTool('\\n'.join(chrom_wise[chrom]), from_string=True)\n",
    "    return chrom_wise\n",
    "\n",
    "chrom_wise_peaks = make_chrom_wise_bed(pbt.BedTool('../data/TRF2/IDR_peaks.bed'))\n",
    "chroms = ['chr'+str(x) for x in range(1,23)] + ['chrX', 'chrY']\n",
    "shuffled_chrom_wise_peaks = [\n",
    "    make_chrom_wise_bed(pbt.BedTool('../data/TRF2/IDR_peaks.bed').shuffle(\n",
    "        chrom=True, g='/home/parashar/scratch/hg19_resource/hg19.genome')) for x in range(100)\n",
    "]"
   ]
  },
  {
   "cell_type": "code",
   "execution_count": 96,
   "metadata": {
    "ExecuteTime": {
     "end_time": "2017-05-17T08:05:43.291208Z",
     "start_time": "2017-05-17T08:05:43.275383Z"
    },
    "run_control": {
     "frozen": false,
     "read_only": false
    }
   },
   "outputs": [
    {
     "data": {
      "text/plain": [
       "{'chr1': <BedTool(MISSING FILE: /tmp/pybedtools.y16vlecr.tmp)>,\n",
       " 'chr10': <BedTool(MISSING FILE: /tmp/pybedtools.cwrrtg2h.tmp)>,\n",
       " 'chr11': <BedTool(MISSING FILE: /tmp/pybedtools.pdbysmbp.tmp)>,\n",
       " 'chr12': <BedTool(MISSING FILE: /tmp/pybedtools.iyf5az_w.tmp)>,\n",
       " 'chr13': <BedTool(MISSING FILE: /tmp/pybedtools.bt_141qi.tmp)>,\n",
       " 'chr14': <BedTool(MISSING FILE: /tmp/pybedtools.rsdw7lyr.tmp)>,\n",
       " 'chr15': <BedTool(MISSING FILE: /tmp/pybedtools.z261eucz.tmp)>,\n",
       " 'chr16': <BedTool(MISSING FILE: /tmp/pybedtools.5b4m5_az.tmp)>,\n",
       " 'chr17': <BedTool(MISSING FILE: /tmp/pybedtools.h3ddsznz.tmp)>,\n",
       " 'chr18': <BedTool(MISSING FILE: /tmp/pybedtools.4n5hzu16.tmp)>,\n",
       " 'chr19': <BedTool(MISSING FILE: /tmp/pybedtools.qruxjwpx.tmp)>,\n",
       " 'chr2': <BedTool(MISSING FILE: /tmp/pybedtools.wvh7q7mo.tmp)>,\n",
       " 'chr20': <BedTool(MISSING FILE: /tmp/pybedtools.patn__sg.tmp)>,\n",
       " 'chr21': <BedTool(MISSING FILE: /tmp/pybedtools.h1fs8k2d.tmp)>,\n",
       " 'chr22': <BedTool(MISSING FILE: /tmp/pybedtools.k8b2fzfe.tmp)>,\n",
       " 'chr3': <BedTool(MISSING FILE: /tmp/pybedtools.3hgm6tpq.tmp)>,\n",
       " 'chr4': <BedTool(MISSING FILE: /tmp/pybedtools.z3l9qgs_.tmp)>,\n",
       " 'chr5': <BedTool(MISSING FILE: /tmp/pybedtools.ygub_yzl.tmp)>,\n",
       " 'chr6': <BedTool(MISSING FILE: /tmp/pybedtools.6wlkx411.tmp)>,\n",
       " 'chr7': <BedTool(MISSING FILE: /tmp/pybedtools.rxjf3lb9.tmp)>,\n",
       " 'chr8': <BedTool(MISSING FILE: /tmp/pybedtools.bflsazls.tmp)>,\n",
       " 'chr9': <BedTool(MISSING FILE: /tmp/pybedtools.h5tj3tvk.tmp)>,\n",
       " 'chrX': <BedTool(MISSING FILE: /tmp/pybedtools.u2ulnn8k.tmp)>,\n",
       " 'chrY': <BedTool(MISSING FILE: /tmp/pybedtools.b15hi79f.tmp)>}"
      ]
     },
     "execution_count": 96,
     "metadata": {},
     "output_type": "execute_result"
    }
   ],
   "source": [
    "chrom_wise_peaks"
   ]
  },
  {
   "cell_type": "code",
   "execution_count": 95,
   "metadata": {
    "ExecuteTime": {
     "end_time": "2017-05-17T08:05:05.915293Z",
     "start_time": "2017-05-17T08:05:04.923476Z"
    },
    "code_folding": [],
    "run_control": {
     "frozen": false,
     "read_only": false
    }
   },
   "outputs": [
    {
     "name": "stdout",
     "output_type": "stream",
     "text": [
      "importing pybedtools on engine(s)\n",
      "5 0 chr1\n"
     ]
    },
    {
     "ename": "BEDToolsError",
     "evalue": "\nCommand was:\n\n\tbedtools intersect -u -b /home/parashar/scratch/quadruplexes/hg19/g3_5_0_chr1_nov.bed -a /tmp/pybedtools.y16vlecr.tmp\n\nError message was:\nError: Unable to open file /tmp/pybedtools.y16vlecr.tmp. Exiting.\n",
     "output_type": "error",
     "traceback": [
      "\u001b[0;31m---------------------------------------------------------------------------\u001b[0m",
      "\u001b[0;31mBEDToolsError\u001b[0m                             Traceback (most recent call last)",
      "\u001b[0;32m<ipython-input-95-0c3d0994736e>\u001b[0m in \u001b[0;36m<module>\u001b[0;34m()\u001b[0m\n\u001b[1;32m     22\u001b[0m             \u001b[0mg4_bed\u001b[0m \u001b[0;34m=\u001b[0m \u001b[0mpbt\u001b[0m\u001b[0;34m.\u001b[0m\u001b[0mBedTool\u001b[0m\u001b[0;34m(\u001b[0m\u001b[0mg4_bed_file\u001b[0m\u001b[0;34m)\u001b[0m\u001b[0;34m\u001b[0m\u001b[0m\n\u001b[1;32m     23\u001b[0m             overlap['%d_%d' % (loop, bulge)].append(\n\u001b[0;32m---> 24\u001b[0;31m                 \u001b[0mchrom_wise_peaks\u001b[0m\u001b[0;34m[\u001b[0m\u001b[0mchrom\u001b[0m\u001b[0;34m]\u001b[0m\u001b[0;34m.\u001b[0m\u001b[0mintersect\u001b[0m\u001b[0;34m(\u001b[0m\u001b[0mg4_bed\u001b[0m\u001b[0;34m,\u001b[0m \u001b[0mu\u001b[0m\u001b[0;34m=\u001b[0m\u001b[0;32mTrue\u001b[0m\u001b[0;34m)\u001b[0m\u001b[0;34m.\u001b[0m\u001b[0mcount\u001b[0m\u001b[0;34m(\u001b[0m\u001b[0;34m)\u001b[0m\u001b[0;34m\u001b[0m\u001b[0m\n\u001b[0m\u001b[1;32m     25\u001b[0m             )\n\u001b[1;32m     26\u001b[0m             _ = DVIEW.push(dict(\n",
      "\u001b[0;32m/home/parashar/anaconda3/lib/python3.5/site-packages/pybedtools/bedtool.py\u001b[0m in \u001b[0;36mdecorated\u001b[0;34m(self, *args, **kwargs)\u001b[0m\n\u001b[1;32m    773\u001b[0m             \u001b[0;31m# this calls the actual method in the first place; *result* is\u001b[0m\u001b[0;34m\u001b[0m\u001b[0;34m\u001b[0m\u001b[0m\n\u001b[1;32m    774\u001b[0m             \u001b[0;31m# whatever you get back\u001b[0m\u001b[0;34m\u001b[0m\u001b[0;34m\u001b[0m\u001b[0m\n\u001b[0;32m--> 775\u001b[0;31m             \u001b[0mresult\u001b[0m \u001b[0;34m=\u001b[0m \u001b[0mmethod\u001b[0m\u001b[0;34m(\u001b[0m\u001b[0mself\u001b[0m\u001b[0;34m,\u001b[0m \u001b[0;34m*\u001b[0m\u001b[0margs\u001b[0m\u001b[0;34m,\u001b[0m \u001b[0;34m**\u001b[0m\u001b[0mkwargs\u001b[0m\u001b[0;34m)\u001b[0m\u001b[0;34m\u001b[0m\u001b[0m\n\u001b[0m\u001b[1;32m    776\u001b[0m \u001b[0;34m\u001b[0m\u001b[0m\n\u001b[1;32m    777\u001b[0m             \u001b[0;31m# add appropriate tags\u001b[0m\u001b[0;34m\u001b[0m\u001b[0;34m\u001b[0m\u001b[0m\n",
      "\u001b[0;32m/home/parashar/anaconda3/lib/python3.5/site-packages/pybedtools/bedtool.py\u001b[0m in \u001b[0;36mwrapped\u001b[0;34m(self, *args, **kwargs)\u001b[0m\n\u001b[1;32m    335\u001b[0m             stream = call_bedtools(cmds, tmp, stdin=stdin,\n\u001b[1;32m    336\u001b[0m                                    \u001b[0mcheck_stderr\u001b[0m\u001b[0;34m=\u001b[0m\u001b[0mcheck_stderr\u001b[0m\u001b[0;34m,\u001b[0m\u001b[0;34m\u001b[0m\u001b[0m\n\u001b[0;32m--> 337\u001b[0;31m                                    \u001b[0mdecode_output\u001b[0m\u001b[0;34m=\u001b[0m\u001b[0mdecode_output\u001b[0m\u001b[0;34m,\u001b[0m\u001b[0;34m\u001b[0m\u001b[0m\n\u001b[0m\u001b[1;32m    338\u001b[0m                                    )\n\u001b[1;32m    339\u001b[0m \u001b[0;34m\u001b[0m\u001b[0m\n",
      "\u001b[0;32m/home/parashar/anaconda3/lib/python3.5/site-packages/pybedtools/helpers.py\u001b[0m in \u001b[0;36mcall_bedtools\u001b[0;34m(cmds, tmpfn, stdin, check_stderr, decode_output, encode_input)\u001b[0m\n\u001b[1;32m    354\u001b[0m                 \u001b[0msys\u001b[0m\u001b[0;34m.\u001b[0m\u001b[0mstderr\u001b[0m\u001b[0;34m.\u001b[0m\u001b[0mwrite\u001b[0m\u001b[0;34m(\u001b[0m\u001b[0mstderr\u001b[0m\u001b[0;34m)\u001b[0m\u001b[0;34m\u001b[0m\u001b[0m\n\u001b[1;32m    355\u001b[0m             \u001b[0;32melse\u001b[0m\u001b[0;34m:\u001b[0m\u001b[0;34m\u001b[0m\u001b[0m\n\u001b[0;32m--> 356\u001b[0;31m                 \u001b[0;32mraise\u001b[0m \u001b[0mBEDToolsError\u001b[0m\u001b[0;34m(\u001b[0m\u001b[0msubprocess\u001b[0m\u001b[0;34m.\u001b[0m\u001b[0mlist2cmdline\u001b[0m\u001b[0;34m(\u001b[0m\u001b[0mcmds\u001b[0m\u001b[0;34m)\u001b[0m\u001b[0;34m,\u001b[0m \u001b[0mstderr\u001b[0m\u001b[0;34m)\u001b[0m\u001b[0;34m\u001b[0m\u001b[0m\n\u001b[0m\u001b[1;32m    357\u001b[0m \u001b[0;34m\u001b[0m\u001b[0m\n\u001b[1;32m    358\u001b[0m \u001b[0;34m\u001b[0m\u001b[0m\n",
      "\u001b[0;31mBEDToolsError\u001b[0m: \nCommand was:\n\n\tbedtools intersect -u -b /home/parashar/scratch/quadruplexes/hg19/g3_5_0_chr1_nov.bed -a /tmp/pybedtools.y16vlecr.tmp\n\nError message was:\nError: Unable to open file /tmp/pybedtools.y16vlecr.tmp. Exiting.\n"
     ]
    }
   ],
   "source": [
    "def calc_overlap(chrom, i):\n",
    "    return shuffled_chrom_wise_peaks[i][chrom].intersect(g4_bed, u=True).count()\n",
    "    \n",
    "with DVIEW.sync_imports():\n",
    "    import pybedtools\n",
    "\n",
    "_ = DVIEW.push(dict(\n",
    "    shuffled_chrom_wise_peaks=shuffled_chrom_wise_peaks,\n",
    "))\n",
    "pbt.cleanup()\n",
    "\n",
    "overlap = {}\n",
    "shuffle_overlap = {}\n",
    "for loop in [5, 25]:\n",
    "    for bulge in [0, 5]:\n",
    "        overlap['%d_%d' % (loop, bulge)] = []\n",
    "        shuffle_overlap['%d_%d' % (loop, bulge)] = []\n",
    "        for chrom in chroms:\n",
    "            print (loop, bulge, chrom)\n",
    "            g4_bed_file = '/home/parashar/scratch/quadruplexes/hg19/g3_%d_%d_%s_nov.bed' % (\n",
    "                    loop, bulge, chrom)\n",
    "            g4_bed = pbt.BedTool(g4_bed_file)\n",
    "            overlap['%d_%d' % (loop, bulge)].append(\n",
    "                chrom_wise_peaks[chrom].intersect(g4_bed, u=True).count()\n",
    "            )\n",
    "            _ = DVIEW.push(dict(\n",
    "                g4_bed=g4_bed\n",
    "            ))\n",
    "            temp = DVIEW.map_sync(calc_overlap, [chrom for x in range(100)], range(100))\n",
    "            shuffle_overlap['%d_%d' % (loop, bulge)].append(temp)\n",
    "            clear_output()\n",
    "\n",
    "with open('../data/TRF2/motif_overlap.json', 'w') as OUT:\n",
    "    json.dump(overlap, OUT, indent=2)\n",
    "with open('../data/TRF2/shuffle_motif_overlap.json', 'w') as OUT:\n",
    "    json.dump(shuffle_overlap, OUT, indent=2)"
   ]
  },
  {
   "cell_type": "code",
   "execution_count": 68,
   "metadata": {
    "ExecuteTime": {
     "end_time": "2017-05-17T04:06:35.639731Z",
     "start_time": "2017-05-17T04:06:35.592730Z"
    },
    "collapsed": true,
    "run_control": {
     "frozen": false,
     "read_only": false
    }
   },
   "outputs": [],
   "source": [
    "overlap = json.load(open('../data/TRF2/motif_overlap.json'))\n",
    "shuffle_overlap = json.load(open('../data/TRF2/shuffle_motif_overlap.json'))"
   ]
  },
  {
   "cell_type": "code",
   "execution_count": 74,
   "metadata": {
    "ExecuteTime": {
     "end_time": "2017-05-17T04:07:16.026846Z",
     "start_time": "2017-05-17T04:07:16.017224Z"
    },
    "run_control": {
     "frozen": false,
     "read_only": false
    }
   },
   "outputs": [
    {
     "data": {
      "text/plain": [
       "1211"
      ]
     },
     "execution_count": 74,
     "metadata": {},
     "output_type": "execute_result"
    }
   ],
   "source": [
    "sum(overlap['15_3'])"
   ]
  },
  {
   "cell_type": "code",
   "execution_count": 84,
   "metadata": {
    "ExecuteTime": {
     "end_time": "2017-05-17T04:09:42.275349Z",
     "start_time": "2017-05-17T04:09:42.263462Z"
    },
    "collapsed": true,
    "run_control": {
     "frozen": false,
     "read_only": false
    }
   },
   "outputs": [],
   "source": [
    "shuffles = []\n",
    "for i in range(100):\n",
    "    shuffles.append(sum([x[i] for x in shuffle_overlap['15_3']]))"
   ]
  },
  {
   "cell_type": "code",
   "execution_count": null,
   "metadata": {
    "collapsed": true,
    "run_control": {
     "frozen": false,
     "read_only": false
    }
   },
   "outputs": [],
   "source": []
  },
  {
   "cell_type": "code",
   "execution_count": 85,
   "metadata": {
    "ExecuteTime": {
     "end_time": "2017-05-17T04:09:43.304543Z",
     "start_time": "2017-05-17T04:09:43.022325Z"
    },
    "run_control": {
     "frozen": false,
     "read_only": false
    }
   },
   "outputs": [
    {
     "data": {
      "image/png": "[encoded data removed]",
      "text/plain": [
       "<matplotlib.figure.Figure at 0x2b8ed49785f8>"
      ]
     },
     "metadata": {},
     "output_type": "display_data"
    }
   ],
   "source": [
    "plt.hist(shuffles)\n",
    "plt.axvline(sum(overlap['15_3']))\n",
    "plt.show()"
   ]
  },
  {
   "cell_type": "code",
   "execution_count": null,
   "metadata": {
    "collapsed": true,
    "run_control": {
     "frozen": false,
     "read_only": false
    }
   },
   "outputs": [],
   "source": []
  },
  {
   "cell_type": "code",
   "execution_count": 193,
   "metadata": {
    "ExecuteTime": {
     "end_time": "2017-01-22T02:57:06.443603",
     "start_time": "2017-01-22T02:57:05.419883"
    },
    "run_control": {
     "frozen": false,
     "read_only": false
    }
   },
   "outputs": [
    {
     "data": {
      "image/png": "[encoded data removed]",
      "text/plain": [
       "<matplotlib.figure.Figure at 0x2ad4dabe6e48>"
      ]
     },
     "metadata": {},
     "output_type": "display_data"
    }
   ],
   "source": [
    "plt.style.use('fivethirtyeight')\n",
    "def clean_axis(ax, hidegrids=False):\n",
    "    ax.xaxis.set_tick_params(labelsize=11)\n",
    "    ax.yaxis.set_tick_params(labelsize=11)\n",
    "    for i in ['top', 'bottom', 'left', 'right']:\n",
    "        ax.spines[i].set_visible(False)\n",
    "    if hidegrids is True:\n",
    "        ax.grid(lw=0)\n",
    "    else:\n",
    "        ax.grid(which='major', linestyle='--', alpha=0.7)\n",
    "    return True\n",
    "\n",
    "fig, axis = plt.subplots(1, 2, figsize=(8, 2.5))\n",
    "\n",
    "ax = axis[0]\n",
    "\n",
    "ind1  = [0.5+x for x in range(len(overlap))]\n",
    "vals1 = [sum(overlap['%d_0' % x]) for x in [1,3,5,7,10,15]] + \\\n",
    "        [sum(overlap['%d_3' % x]) for x in [1,3,5,7,10,15]]\n",
    "ax.bar(ind1, vals1, width=0.4, label='TRF2 peaks', color='crimson', alpha=0.8)\n",
    "ind2  = [0.9+x for x in range(len(overlap))]\n",
    "vals2 = [np.array(shuffle_overlap['%d_0' % x]).mean(axis=1).sum() for x in [1,3,5,7,10,15]] + \\\n",
    "        [np.array(shuffle_overlap['%d_3' % x]).mean(axis=1).sum() for x in [1,3,5,7,10,15]]\n",
    "yerr = [np.array(shuffle_overlap['%d_0' % x]).mean(axis=1).std() for x in [1,3,5,7,10,15]] + \\\n",
    "       [np.array(shuffle_overlap['%d_3' % x]).mean(axis=1).std() for x in [1,3,5,7,10,15]]\n",
    "ax.bar(ind2, vals2, width=0.35, yerr=yerr, label='Shuffled peaks', color='dodgerblue', alpha=0.8)\n",
    "\n",
    "ax.plot([0.5, 6], [700, 700], lw=1, color='k', ls='--')\n",
    "ax.plot([6.5, 12], [1350, 1350], lw=1, color='k', ls='--')\n",
    "ax.text(0.16, 0.52, 'No bulges', transform=ax.transAxes, fontsize=10)\n",
    "ax.text(0.575, 0.99, 'Bulge length=3', transform=ax.transAxes, fontsize=10)\n",
    "\n",
    "tot_peaks = sum([x.count() for x in chrom_wise_peaks.values()])\n",
    "fp = (vals1[0]/tot_peaks)*100\n",
    "lp = (vals1[-1]/tot_peaks)*100\n",
    "ax.text(0.01, 0.1, \"%.1f%%\" % fp, transform=ax.transAxes, fontsize=9)\n",
    "ax.text(0.86, 0.87, \"%.1f%%\" % lp, transform=ax.transAxes, fontsize=9)\n",
    "\n",
    "ax.set_xticks(ind2)\n",
    "ax.set_xticklabels(['L%d' % x for x in [1,3,5,7,10,15]] +\n",
    "                   ['L%d' % x for x in [1,3,5,7,10,15]], rotation=45)\n",
    "ax.set_xlabel('Loop length of G4 motif', fontsize=11)\n",
    "ax.set_ylabel('Number of\\noverlapped peaks', fontsize=11)\n",
    "ax.legend(frameon=False, fontsize=9)\n",
    "clean_axis(ax)\n",
    "\n",
    "\n",
    "#---------------------------------------------------------------------------------------------\n",
    "ax = axis[1]\n",
    "\n",
    "shuf_vals = [np.array(shuffle_overlap['%d_0' % x]).sum(axis=0) for x in [1,3,5,7,10,15]] + \\\n",
    "            [np.array(shuffle_overlap['%d_3' % x]).sum(axis=0) for x in [1,3,5,7,10,15]]\n",
    "pvals = [poisson.pmf(i, mu=j.mean())*tot_peaks for i,j in zip(vals1, shuf_vals)]\n",
    "\n",
    "vals = np.array(vals1) / np.array(vals2)\n",
    "ax.bar(ind1, vals, width=0.4, label='TRF2 peaks', color='k', alpha=0.8)\n",
    "ax.plot([0.5,5.5], [2.9, 2.9], lw=1, color='k', ls='--')\n",
    "ax.plot([6.5,11.5], [1.5, 1.5], lw=1, color='k', ls='--')\n",
    "ax.text(0.16, 0.99, 'No bulges', transform=ax.transAxes, fontsize=10)\n",
    "ax.text(0.575, 0.53, 'Bulge length=3', transform=ax.transAxes, fontsize=10)\n",
    "ax.set_xticks(ind1)\n",
    "ax.set_xticklabels(['L%d' % x for x in [1,3,5,7,10,15]] +\n",
    "                   ['L%d' % x for x in [1,3,5,7,10,15]], rotation=45)\n",
    "ax.set_xlabel('Loop length of G4 motif', fontsize=11)\n",
    "ax.set_ylabel('Fold change\\nover shuffle', fontsize=11)\n",
    "for x,y in zip(range(6), [2.4, 2.65, 2.1, 1.9, 1.7, 1.6]):\n",
    "    ax.text(ind1[x]-0.25, y, '*', fontsize=11)\n",
    "clean_axis(ax)\n",
    "\n",
    "plt.tight_layout()\n",
    "plt.show()"
   ]
  },
  {
   "cell_type": "code",
   "execution_count": 194,
   "metadata": {
    "ExecuteTime": {
     "end_time": "2017-01-22T02:57:29.494198",
     "start_time": "2017-01-22T02:57:29.485167"
    },
    "run_control": {
     "frozen": false,
     "read_only": false
    }
   },
   "outputs": [
    {
     "data": {
      "text/plain": [
       "[0.17834604786767594,\n",
       " 4.1046105980750708e-26,\n",
       " 5.6847394213504276e-23,\n",
       " 6.1615200227555592e-22,\n",
       " 3.0371559805667941e-22,\n",
       " 1.5997131354579705e-21,\n",
       " 0.0019676477401053853,\n",
       " 0.0013255688978465814,\n",
       " 0.059770259156931474,\n",
       " 0.23067765667753204,\n",
       " 0.4019219931821098,\n",
       " 0.64662644301160932]"
      ]
     },
     "execution_count": 194,
     "metadata": {},
     "output_type": "execute_result"
    }
   ],
   "source": [
    "pvals"
   ]
  },
  {
   "cell_type": "code",
   "execution_count": 2,
   "metadata": {
    "ExecuteTime": {
     "end_time": "2017-01-31T21:10:48.774562",
     "start_time": "2017-01-31T21:10:48.757862"
    },
    "collapsed": true,
    "run_control": {
     "frozen": false,
     "read_only": false
    }
   },
   "outputs": [],
   "source": [
    "chrom_info = '/home/parashar/scratch/hg19_resource/hg19.genome'\n",
    "\n",
    "def get_g4_bed(loop_len=7, bulge_len=0):\n",
    "    base_dir = '/home/parashar/scratch/quadruplexes/hg19'\n",
    "    chroms = ['chr'+str(x) for x in range(1, 23)] + ['chrX', 'chrY']\n",
    "    bed = []\n",
    "    for chrom in chroms:\n",
    "        with open(\"%s/g3_%s_%s_%s_nov.bed\" % (base_dir, loop_len, bulge_len, chrom)) as h:\n",
    "            for l in tqdm(h, desc=chrom):\n",
    "                if len(l) > 8:\n",
    "                    c = l.rstrip('\\n').split('\\t')\n",
    "                    strand = '+' if c[4][0] == 'G' else '-'\n",
    "                    line = c[0:3]+[c[5], '0', strand]\n",
    "                    bed.append('\\t'.join(line))\n",
    "    clear_output()\n",
    "    return pbt.BedTool('\\n'.join(bed), from_string=True).sort()"
   ]
  },
  {
   "cell_type": "code",
   "execution_count": 3,
   "metadata": {
    "ExecuteTime": {
     "end_time": "2017-01-31T21:10:59.600131",
     "start_time": "2017-01-31T21:10:49.549184"
    },
    "run_control": {
     "frozen": false,
     "read_only": false
    }
   },
   "outputs": [
    {
     "data": {
      "text/plain": [
       "374697"
      ]
     },
     "execution_count": 3,
     "metadata": {},
     "output_type": "execute_result"
    }
   ],
   "source": [
    "g4 = get_g4_bed()\n",
    "g4.count()"
   ]
  },
  {
   "cell_type": "code",
   "execution_count": 4,
   "metadata": {
    "ExecuteTime": {
     "end_time": "2017-01-31T21:10:59.678917",
     "start_time": "2017-01-31T21:10:59.602494"
    },
    "run_control": {
     "frozen": false,
     "read_only": false
    }
   },
   "outputs": [
    {
     "data": {
      "text/plain": [
       "1246"
      ]
     },
     "execution_count": 4,
     "metadata": {},
     "output_type": "execute_result"
    }
   ],
   "source": [
    "trf2_idr_peaks = pbt.BedTool('../data/TRF2/IDR_peaks.bed')\n",
    "trf2_idr_peaks.count()"
   ]
  },
  {
   "cell_type": "code",
   "execution_count": 5,
   "metadata": {
    "ExecuteTime": {
     "end_time": "2017-01-31T21:11:02.499656",
     "start_time": "2017-01-31T21:10:59.681453"
    },
    "run_control": {
     "frozen": false,
     "read_only": false
    }
   },
   "outputs": [
    {
     "data": {
      "text/plain": [
       "200052"
      ]
     },
     "execution_count": 5,
     "metadata": {},
     "output_type": "execute_result"
    }
   ],
   "source": [
    "tss_info = pbt.BedTool('/home/parashar/scratch/quadcomb/data/annotation/gencode_tss.bed')\n",
    "tss_info.count()"
   ]
  },
  {
   "cell_type": "code",
   "execution_count": 6,
   "metadata": {
    "ExecuteTime": {
     "end_time": "2017-01-31T21:11:03.419882",
     "start_time": "2017-01-31T21:11:02.502081"
    },
    "run_control": {
     "frozen": false,
     "read_only": false
    }
   },
   "outputs": [
    {
     "data": {
      "text/plain": [
       "2104"
      ]
     },
     "execution_count": 6,
     "metadata": {},
     "output_type": "execute_result"
    }
   ],
   "source": [
    "peaks_g4 = trf2_idr_peaks.intersect(g4, wao=True)\n",
    "peaks_g4.count()"
   ]
  },
  {
   "cell_type": "code",
   "execution_count": 7,
   "metadata": {
    "ExecuteTime": {
     "end_time": "2017-01-31T21:11:04.302095",
     "start_time": "2017-01-31T21:11:03.422326"
    },
    "run_control": {
     "frozen": false,
     "read_only": false
    }
   },
   "outputs": [
    {
     "data": {
      "text/plain": [
       "347"
      ]
     },
     "execution_count": 7,
     "metadata": {},
     "output_type": "execute_result"
    }
   ],
   "source": [
    "peaks_g4 = trf2_idr_peaks.intersect(g4, u=True, wa=True)\n",
    "peaks_g4.count()"
   ]
  },
  {
   "cell_type": "code",
   "execution_count": 8,
   "metadata": {
    "ExecuteTime": {
     "end_time": "2017-01-31T21:11:04.747552",
     "start_time": "2017-01-31T21:11:04.304350"
    },
    "run_control": {
     "frozen": false,
     "read_only": false
    }
   },
   "outputs": [
    {
     "data": {
      "text/plain": [
       "1202"
      ]
     },
     "execution_count": 8,
     "metadata": {},
     "output_type": "execute_result"
    }
   ],
   "source": [
    "peaks_g4 = g4.intersect(trf2_idr_peaks, u=True, wa=True)\n",
    "peaks_g4.count()"
   ]
  },
  {
   "cell_type": "code",
   "execution_count": null,
   "metadata": {
    "collapsed": true,
    "run_control": {
     "frozen": false,
     "read_only": false
    }
   },
   "outputs": [],
   "source": []
  },
  {
   "cell_type": "code",
   "execution_count": 15,
   "metadata": {
    "ExecuteTime": {
     "end_time": "2017-01-31T21:11:47.295867",
     "start_time": "2017-01-31T21:11:41.502444"
    },
    "run_control": {
     "frozen": false,
     "read_only": false
    }
   },
   "outputs": [
    {
     "data": {
      "text/plain": [
       "200257"
      ]
     },
     "execution_count": 15,
     "metadata": {},
     "output_type": "execute_result"
    }
   ],
   "source": [
    "g4_peaks_tss = tss_info.slop(b=500, g=chrom_info).intersect(peaks_g4, wao=True)\n",
    "g4_peaks_tss.count()"
   ]
  },
  {
   "cell_type": "code",
   "execution_count": 16,
   "metadata": {
    "ExecuteTime": {
     "end_time": "2017-01-31T21:11:53.563578",
     "start_time": "2017-01-31T21:11:47.300407"
    },
    "run_control": {
     "frozen": false,
     "read_only": false
    },
    "scrolled": true
   },
   "outputs": [
    {
     "name": "stdout",
     "output_type": "stream",
     "text": [
      "chr1\t228752355\t228753356\tENST00000363511.1\t.\t-\tchr1\t228752877\t228752909\tCCCCAAGAGCCCAGCCCGGCCCGGCCGTGCCC\t0\t-\t32\n",
      "chr1\t228752355\t228753356\tENST00000363511.1\t.\t-\tchr1\t228753157\t228753179\tCCCCCTCTTGCCCCACCCACCC\t0\t-\t22\n",
      "chr1\t228752355\t228753356\tENST00000363511.1\t.\t-\tchr1\t228753283\t228753305\tGGGGGGGCAAGAGGGCGTGGGG\t0\t+\t22\n",
      "chr1\t228750114\t228751115\tENST00000362467.1\t.\t-\tchr1\t228750636\t228750668\tCCCCAAGAGCCCAGCCCGGCCCGGCCGTGCCC\t0\t-\t32\n",
      "chr1\t228750114\t228751115\tENST00000362467.1\t.\t-\tchr1\t228750916\t228750938\tCCCCCTCTTGCCCCACCCACCC\t0\t-\t22\n",
      "chr1\t228750114\t228751115\tENST00000362467.1\t.\t-\tchr1\t228751042\t228751064\tGGGGGGGCAAGAGGGCGTGGGG\t0\t+\t22\n",
      "chr1\t228745632\t228746633\tENST00000362482.1\t.\t-\tchr1\t228746154\t228746186\tCCCCAAGAGCCCAGCCCGGCCCGGCCGTGCCC\t0\t-\t32\n",
      "chr1\t228745632\t228746633\tENST00000362482.1\t.\t-\tchr1\t228746434\t228746456\tCCCCCTCTTGCCCCACCCACCC\t0\t-\t22\n",
      "chr1\t228745632\t228746633\tENST00000362482.1\t.\t-\tchr1\t228746560\t228746582\tGGGGGGGCAAGAGGGCGTGGGG\t0\t+\t22\n",
      "chr1\t228779173\t228780174\tENST00000365387.1\t.\t-\tchr1\t228779695\t228779727\tCCCCAAGAgcccggcccggcccggccgtgccc\t0\t-\t32\n",
      "chr1\t228779173\t228780174\tENST00000365387.1\t.\t-\tchr1\t228779975\t228779997\tCCCCCTCTTGCCCCACCCACCC\t0\t-\t22\n",
      "chr1\t228779173\t228780174\tENST00000365387.1\t.\t-\tchr1\t228780101\t228780123\tGGGGGGGCAAGAGGGCGTGGGG\t0\t+\t22\n",
      "chr1\t228776932\t228777933\tENST00000365055.1\t.\t-\tchr1\t228777454\t228777486\tCCCCAAGAgcccggcccggcccggccgtgccc\t0\t-\t32\n",
      "chr1\t228776932\t228777933\tENST00000365055.1\t.\t-\tchr1\t228777734\t228777756\tCCCCCTCTTGCCCCACCCACCC\t0\t-\t22\n",
      "chr1\t228776932\t228777933\tENST00000365055.1\t.\t-\tchr1\t228777860\t228777882\tGGGGGGGCAAGAGGGCGTGGGG\t0\t+\t22\n",
      "chr1\t228774701\t228775702\tENST00000364485.1\t.\t-\tchr1\t228775223\t228775255\tCCCCAAGAGCCCAGCCCGGCCCGGCCGTGCCC\t0\t-\t32\n",
      "chr1\t228774701\t228775702\tENST00000364485.1\t.\t-\tchr1\t228775629\t228775651\tGGGGGGGCAAGAGGGCGTGGGG\t0\t+\t22\n",
      "chr1\t228772460\t228773461\tENST00000365656.1\t.\t-\tchr1\t228772982\t228773014\tCCCCAAGAGCCCAGCCCGGCCCGGCCGTGCCC\t0\t-\t32\n",
      "chr1\t228772460\t228773461\tENST00000365656.1\t.\t-\tchr1\t228773262\t228773284\tCCCCCTCTTGCCCCACCCACCC\t0\t-\t22\n",
      "chr1\t228772460\t228773461\tENST00000365656.1\t.\t-\tchr1\t228773388\t228773410\tGGGGGGGCAAGAGGGCGTGGGG\t0\t+\t22\n",
      "chr1\t228756811\t228757812\tENST00000363754.1\t.\t-\tchr1\t228757333\t228757365\tCCCCAAGAGCCCAGCCCGGCCCGGCCGTGCCC\t0\t-\t32\n",
      "chr1\t228756811\t228757812\tENST00000363754.1\t.\t-\tchr1\t228757613\t228757635\tCCCCCTCTTGCCCCACCCACCC\t0\t-\t22\n",
      "chr1\t228756811\t228757812\tENST00000363754.1\t.\t-\tchr1\t228757739\t228757761\tGGGGGGGCAAGAGGGCGTGGGG\t0\t+\t22\n",
      "chr1\t228754596\t228755597\tENST00000362526.1\t.\t-\tchr1\t228755118\t228755150\tCCCCAAGAGCCCAGCCCGGCCCGGCCGTGCCC\t0\t-\t32\n",
      "chr1\t228754596\t228755597\tENST00000362526.1\t.\t-\tchr1\t228755398\t228755420\tCCCCCTCTTGCCCCACCCACCC\t0\t-\t22\n",
      "chr1\t228754596\t228755597\tENST00000362526.1\t.\t-\tchr1\t228755524\t228755546\tGGGGGGGCAAGAGGGCGTGGGG\t0\t+\t22\n",
      "chr1\t32044853\t32045854\tENST00000498429.5_1\t.\t+\tchr1\t32045323\t32045346\tCCCCACCCCTCCCCACCATTCCC\t0\t-\t23\n",
      "chr10\t88413873\t88414874\tENST00000443292.1_1\t.\t+\tchr10\t88414566\t88414591\tCCCGCCCAGCCCAACCCAAGAGCCC\t0\t-\t25\n",
      "chr10\t88413873\t88414874\tENST00000241891.9_1\t.\t+\tchr10\t88414566\t88414591\tCCCGCCCAGCCCAACCCAAGAGCCC\t0\t-\t25\n",
      "chr10\t88413813\t88414814\tENST00000372071.6_1\t.\t+\tchr10\t88414566\t88414591\tCCCGCCCAGCCCAACCCAAGAGCCC\t0\t-\t25\n",
      "chr10\t135483465\t135484466\tENST00000611504.1_1\t.\t+\tchr10\t135483570\t135483598\tcccccctcccccctcccccctctccccc\t0\t-\t28\n",
      "chr10\t135483465\t135484466\tENST00000611504.1_1\t.\t+\tchr10\t135483642\t135483668\tccctcccccaccaccccccccacccc\t0\t-\t26\n",
      "chr11\t79151194\t79152195\tENST00000278550.11_1\t.\t-\tchr11\t79151192\t79151219\tGGGCCGGGGCGGGGAACGGGATCCGGG\t0\t+\t25\n",
      "chr11\t79151194\t79152195\tENST00000278550.11_1\t.\t-\tchr11\t79151249\t79151274\tCCCTCCCACCCGCTTCCCACCTCCC\t0\t-\t25\n",
      "chr11\t79151194\t79152195\tENST00000278550.11_1\t.\t-\tchr11\t79151276\t79151298\tCCCTCCCCCAACCCTTGCTCCC\t0\t-\t22\n",
      "chr11\t64038839\t64039840\tENST00000493798.1_1\t.\t-\tchr11\t64038885\t64038912\tGGGAAGAGCTGGGGAGTGGGGGCGGGG\t0\t+\t27\n",
      "chr12\t66217410\t66218411\tENST00000403681.6_1\t.\t+\tchr12\t66217913\t66217944\tCCCGGGATCCCCGGCCTGTCCCTTTAACCCC\t0\t-\t31\n",
      "chr12\t66217739\t66218740\tENST00000536545.5_1\t.\t+\tchr12\t66217913\t66217944\tCCCGGGATCCCCGGCCTGTCCCTTTAACCCC\t0\t-\t31\n",
      "chr12\t66217739\t66218740\tENST00000537275.5_1\t.\t+\tchr12\t66217913\t66217944\tCCCGGGATCCCCGGCCTGTCCCTTTAACCCC\t0\t-\t31\n",
      "chr12\t66217739\t66218740\tENST00000354636.7_1\t.\t+\tchr12\t66217913\t66217944\tCCCGGGATCCCCGGCCTGTCCCTTTAACCCC\t0\t-\t31\n",
      "chr12\t66217739\t66218740\tENST00000537429.5_1\t.\t+\tchr12\t66217913\t66217944\tCCCGGGATCCCCGGCCTGTCCCTTTAACCCC\t0\t-\t31\n",
      "chr12\t66217739\t66218740\tENST00000425208.6_1\t.\t+\tchr12\t66217913\t66217944\tCCCGGGATCCCCGGCCTGTCCCTTTAACCCC\t0\t-\t31\n",
      "chr12\t66217739\t66218740\tENST00000393578.7_1\t.\t+\tchr12\t66217913\t66217944\tCCCGGGATCCCCGGCCTGTCCCTTTAACCCC\t0\t-\t31\n",
      "chr12\t3861183\t3862184\tENST00000637958.1_1\t.\t+\tchr12\t3862134\t3862160\tcccccggccgccccggccgcccACCC\t0\t-\t26\n",
      "chr12\t3861762\t3862763\tENST00000252322.1_1\t.\t-\tchr12\t3862134\t3862160\tcccccggccgccccggccgcccACCC\t0\t-\t26\n",
      "chr12\t3861767\t3862768\tENST00000440314.6_1\t.\t-\tchr12\t3862134\t3862160\tcccccggccgccccggccgcccACCC\t0\t-\t26\n",
      "chr12\t3861865\t3862866\tENST00000535507.1_1\t.\t-\tchr12\t3862134\t3862160\tcccccggccgccccggccgcccACCC\t0\t-\t26\n",
      "chr14\t65181920\t65182921\tENST00000554088.1_1\t.\t+\tchr14\t65182836\t65182862\tGGGGATGGGAATGGGGTGGGATGGGG\t0\t+\t26\n",
      "chr15\t89868330\t89869331\tENST00000532584.5_1\t.\t-\tchr15\t89868995\t89869017\tCCCCACCCACCCTCCAAAGCCC\t0\t-\t22\n",
      "chr15\t89868317\t89869318\tENST00000526398.1_1\t.\t-\tchr15\t89868995\t89869017\tCCCCACCCACCCTCCAAAGCCC\t0\t-\t22\n",
      "chr15\t89868289\t89869290\tENST00000635986.1_1\t.\t-\tchr15\t89868995\t89869017\tCCCCACCCACCCTCCAAAGCCC\t0\t-\t22\n",
      "chr15\t89868214\t89869215\tENST00000526573.1_1\t.\t-\tchr15\t89868995\t89869017\tCCCCACCCACCCTCCAAAGCCC\t0\t-\t22\n",
      "chr15\t60690440\t60691441\tENST00000559818.5_1\t.\t-\tchr15\t60690720\t60690742\tGGGGGCGCCCGGGGAGGGAGGG\t0\t+\t22\n",
      "chr15\t60689741\t60690742\tENST00000451270.6_1\t.\t-\tchr15\t60690246\t60690273\tcccgccccgccccgccccgccTCCCCC\t0\t-\t27\n",
      "chr15\t60689741\t60690742\tENST00000451270.6_1\t.\t-\tchr15\t60690378\t60690401\tCCCCAGCGCCCCTGGCCCTGCCC\t0\t-\t23\n",
      "chr15\t60689741\t60690742\tENST00000451270.6_1\t.\t-\tchr15\t60690720\t60690742\tGGGGGCGCCCGGGGAGGGAGGG\t0\t+\t22\n",
      "chr15\t60689731\t60690732\tENST00000558985.5_1\t.\t-\tchr15\t60690246\t60690273\tcccgccccgccccgccccgccTCCCCC\t0\t-\t27\n",
      "chr15\t60689731\t60690732\tENST00000558985.5_1\t.\t-\tchr15\t60690378\t60690401\tCCCCAGCGCCCCTGGCCCTGCCC\t0\t-\t23\n",
      "chr15\t60689731\t60690732\tENST00000558985.5_1\t.\t-\tchr15\t60690720\t60690742\tGGGGGCGCCCGGGGAGGGAGGG\t0\t+\t12\n",
      "chr15\t60689699\t60690700\tENST00000559725.5_1\t.\t-\tchr15\t60690246\t60690273\tcccgccccgccccgccccgccTCCCCC\t0\t-\t27\n",
      "chr15\t60689699\t60690700\tENST00000559725.5_1\t.\t-\tchr15\t60690378\t60690401\tCCCCAGCGCCCCTGGCCCTGCCC\t0\t-\t23\n",
      "chr15\t60689686\t60690687\tENST00000560495.1_1\t.\t-\tchr15\t60690246\t60690273\tcccgccccgccccgccccgccTCCCCC\t0\t-\t27\n",
      "chr15\t60689686\t60690687\tENST00000560495.1_1\t.\t-\tchr15\t60690378\t60690401\tCCCCAGCGCCCCTGGCCCTGCCC\t0\t-\t23\n",
      "chr15\t60689686\t60690687\tENST00000558169.5_1\t.\t-\tchr15\t60690246\t60690273\tcccgccccgccccgccccgccTCCCCC\t0\t-\t27\n",
      "chr15\t60689686\t60690687\tENST00000558169.5_1\t.\t-\tchr15\t60690378\t60690401\tCCCCAGCGCCCCTGGCCCTGCCC\t0\t-\t23\n",
      "chr15\t60689686\t60690687\tENST00000559559.5_1\t.\t-\tchr15\t60690246\t60690273\tcccgccccgccccgccccgccTCCCCC\t0\t-\t27\n",
      "chr15\t60689686\t60690687\tENST00000559559.5_1\t.\t-\tchr15\t60690378\t60690401\tCCCCAGCGCCCCTGGCCCTGCCC\t0\t-\t23\n",
      "chr15\t60689684\t60690685\tENST00000560936.2_1\t.\t-\tchr15\t60690246\t60690273\tcccgccccgccccgccccgccTCCCCC\t0\t-\t27\n",
      "chr15\t60689684\t60690685\tENST00000560936.2_1\t.\t-\tchr15\t60690378\t60690401\tCCCCAGCGCCCCTGGCCCTGCCC\t0\t-\t23\n",
      "chr15\t60689684\t60690685\tENST00000560546.5_1\t.\t-\tchr15\t60690246\t60690273\tcccgccccgccccgccccgccTCCCCC\t0\t-\t27\n",
      "chr15\t60689684\t60690685\tENST00000560546.5_1\t.\t-\tchr15\t60690378\t60690401\tCCCCAGCGCCCCTGGCCCTGCCC\t0\t-\t23\n",
      "chr15\t60689684\t60690685\tENST00000559370.5_1\t.\t-\tchr15\t60690246\t60690273\tcccgccccgccccgccccgccTCCCCC\t0\t-\t27\n",
      "chr15\t60689684\t60690685\tENST00000559370.5_1\t.\t-\tchr15\t60690378\t60690401\tCCCCAGCGCCCCTGGCCCTGCCC\t0\t-\t23\n",
      "chr15\t60689684\t60690685\tENST00000557937.5_1\t.\t-\tchr15\t60690246\t60690273\tcccgccccgccccgccccgccTCCCCC\t0\t-\t27\n",
      "chr15\t60689684\t60690685\tENST00000557937.5_1\t.\t-\tchr15\t60690378\t60690401\tCCCCAGCGCCCCTGGCCCTGCCC\t0\t-\t23\n",
      "chr15\t60689684\t60690685\tENST00000561445.5_1\t.\t-\tchr15\t60690246\t60690273\tcccgccccgccccgccccgccTCCCCC\t0\t-\t27\n",
      "chr15\t60689684\t60690685\tENST00000561445.5_1\t.\t-\tchr15\t60690378\t60690401\tCCCCAGCGCCCCTGGCCCTGCCC\t0\t-\t23\n",
      "chr15\t60689684\t60690685\tENST00000560468.5_1\t.\t-\tchr15\t60690246\t60690273\tcccgccccgccccgccccgccTCCCCC\t0\t-\t27\n",
      "chr15\t60689684\t60690685\tENST00000560468.5_1\t.\t-\tchr15\t60690378\t60690401\tCCCCAGCGCCCCTGGCCCTGCCC\t0\t-\t23\n",
      "chr15\t60689684\t60690685\tENST00000558558.5_1\t.\t-\tchr15\t60690246\t60690273\tcccgccccgccccgccccgccTCCCCC\t0\t-\t27\n",
      "chr15\t60689684\t60690685\tENST00000558558.5_1\t.\t-\tchr15\t60690378\t60690401\tCCCCAGCGCCCCTGGCCCTGCCC\t0\t-\t23\n",
      "chr15\t60689684\t60690685\tENST00000557906.5_1\t.\t-\tchr15\t60690246\t60690273\tcccgccccgccccgccccgccTCCCCC\t0\t-\t27\n",
      "chr15\t60689684\t60690685\tENST00000557906.5_1\t.\t-\tchr15\t60690378\t60690401\tCCCCAGCGCCCCTGGCCCTGCCC\t0\t-\t23\n",
      "chr15\t60689684\t60690685\tENST00000559113.5_1\t.\t-\tchr15\t60690246\t60690273\tcccgccccgccccgccccgccTCCCCC\t0\t-\t27\n",
      "chr15\t60689684\t60690685\tENST00000559113.5_1\t.\t-\tchr15\t60690378\t60690401\tCCCCAGCGCCCCTGGCCCTGCCC\t0\t-\t23\n",
      "chr15\t60689684\t60690685\tENST00000561022.5_1\t.\t-\tchr15\t60690246\t60690273\tcccgccccgccccgccccgccTCCCCC\t0\t-\t27\n",
      "chr15\t60689684\t60690685\tENST00000561022.5_1\t.\t-\tchr15\t60690378\t60690401\tCCCCAGCGCCCCTGGCCCTGCCC\t0\t-\t23\n",
      "chr15\t60689684\t60690685\tENST00000558132.5_1\t.\t-\tchr15\t60690246\t60690273\tcccgccccgccccgccccgccTCCCCC\t0\t-\t27\n",
      "chr15\t60689684\t60690685\tENST00000558132.5_1\t.\t-\tchr15\t60690378\t60690401\tCCCCAGCGCCCCTGGCCCTGCCC\t0\t-\t23\n",
      "chr15\t60689684\t60690685\tENST00000560466.5_1\t.\t-\tchr15\t60690246\t60690273\tcccgccccgccccgccccgccTCCCCC\t0\t-\t27\n",
      "chr15\t60689684\t60690685\tENST00000560466.5_1\t.\t-\tchr15\t60690378\t60690401\tCCCCAGCGCCCCTGGCCCTGCCC\t0\t-\t23\n",
      "chr15\t60689684\t60690685\tENST00000421017.6_1\t.\t-\tchr15\t60690246\t60690273\tcccgccccgccccgccccgccTCCCCC\t0\t-\t27\n",
      "chr15\t60689684\t60690685\tENST00000421017.6_1\t.\t-\tchr15\t60690378\t60690401\tCCCCAGCGCCCCTGGCCCTGCCC\t0\t-\t23\n",
      "chr15\t60689684\t60690685\tENST00000396024.7_1\t.\t-\tchr15\t60690246\t60690273\tcccgccccgccccgccccgccTCCCCC\t0\t-\t27\n",
      "chr15\t60689684\t60690685\tENST00000396024.7_1\t.\t-\tchr15\t60690378\t60690401\tCCCCAGCGCCCCTGGCCCTGCCC\t0\t-\t23\n",
      "chr15\t60689683\t60690684\tENST00000332680.8_1\t.\t-\tchr15\t60690246\t60690273\tcccgccccgccccgccccgccTCCCCC\t0\t-\t27\n",
      "chr15\t60689683\t60690684\tENST00000332680.8_1\t.\t-\tchr15\t60690378\t60690401\tCCCCAGCGCCCCTGGCCCTGCCC\t0\t-\t23\n",
      "chr15\t60689682\t60690683\tENST00000559956.5_1\t.\t-\tchr15\t60690246\t60690273\tcccgccccgccccgccccgccTCCCCC\t0\t-\t27\n",
      "chr15\t60689682\t60690683\tENST00000559956.5_1\t.\t-\tchr15\t60690378\t60690401\tCCCCAGCGCCCCTGGCCCTGCCC\t0\t-\t23\n",
      "chr15\t60689676\t60690677\tENST00000559467.5_1\t.\t-\tchr15\t60690246\t60690273\tcccgccccgccccgccccgccTCCCCC\t0\t-\t27\n",
      "chr15\t60689676\t60690677\tENST00000559467.5_1\t.\t-\tchr15\t60690378\t60690401\tCCCCAGCGCCCCTGGCCCTGCCC\t0\t-\t23\n",
      "chr15\t60689672\t60690673\tENST00000559780.5_1\t.\t-\tchr15\t60690246\t60690273\tcccgccccgccccgccccgccTCCCCC\t0\t-\t27\n",
      "chr15\t60689672\t60690673\tENST00000559780.5_1\t.\t-\tchr15\t60690378\t60690401\tCCCCAGCGCCCCTGGCCCTGCCC\t0\t-\t23\n",
      "chr15\t60689672\t60690673\tENST00000558503.5_1\t.\t-\tchr15\t60690246\t60690273\tcccgccccgccccgccccgccTCCCCC\t0\t-\t27\n",
      "chr15\t60689672\t60690673\tENST00000558503.5_1\t.\t-\tchr15\t60690378\t60690401\tCCCCAGCGCCCCTGGCCCTGCCC\t0\t-\t23\n",
      "chr15\t60689671\t60690672\tENST00000557986.5_1\t.\t-\tchr15\t60690246\t60690273\tcccgccccgccccgccccgccTCCCCC\t0\t-\t27\n",
      "chr15\t60689671\t60690672\tENST00000557986.5_1\t.\t-\tchr15\t60690378\t60690401\tCCCCAGCGCCCCTGGCCCTGCCC\t0\t-\t23\n",
      "chr15\t60689666\t60690667\tENST00000560165.5_1\t.\t-\tchr15\t60690246\t60690273\tcccgccccgccccgccccgccTCCCCC\t0\t-\t27\n",
      "chr15\t60689666\t60690667\tENST00000560165.5_1\t.\t-\tchr15\t60690378\t60690401\tCCCCAGCGCCCCTGGCCCTGCCC\t0\t-\t23\n",
      "chr15\t60689662\t60690663\tENST00000558998.5_1\t.\t-\tchr15\t60690246\t60690273\tcccgccccgccccgccccgccTCCCCC\t0\t-\t27\n",
      "chr15\t60689662\t60690663\tENST00000558998.5_1\t.\t-\tchr15\t60690378\t60690401\tCCCCAGCGCCCCTGGCCCTGCCC\t0\t-\t23\n",
      "chr16\t57662726\t57663727\tENST00000569992.5_1\t.\t+\tchr16\t57663173\t57663197\tGGGAGGGGACTGGGGCCCAAGGGG\t0\t+\t24\n",
      "chr16\t88945943\t88946944\tENST00000563920.1_1\t.\t-\tchr16\t88946630\t88946650\tcccaaccctaaccctaaccc\t0\t-\t20\n",
      "chr16\t69418972\t69419973\tENST00000566750.5_1\t.\t-\tchr16\t69419419\t69419445\tCCCCCAGTCCCGACTCCCGGTCCCCC\t0\t-\t26\n",
      "chr16\t69418972\t69419973\tENST00000566750.5_1\t.\t-\tchr16\t69419469\t69419497\tCCCCCCTCCCCCGGCCCGGCCCTCACCC\t0\t-\t28\n",
      "chr16\t69418972\t69419973\tENST00000566750.5_1\t.\t-\tchr16\t69419767\t69419783\tccctccccgccctccc\t0\t-\t16\n",
      "chr16\t69419001\t69420002\tENST00000569611.6_1\t.\t-\tchr16\t69419419\t69419445\tCCCCCAGTCCCGACTCCCGGTCCCCC\t0\t-\t26\n",
      "chr16\t69419001\t69420002\tENST00000569611.6_1\t.\t-\tchr16\t69419469\t69419497\tCCCCCCTCCCCCGGCCCGGCCCTCACCC\t0\t-\t28\n",
      "chr16\t69419001\t69420002\tENST00000569611.6_1\t.\t-\tchr16\t69419767\t69419783\tccctccccgccctccc\t0\t-\t16\n",
      "chr16\t69419135\t69420136\tENST00000569280.1_1\t.\t-\tchr16\t69419419\t69419445\tCCCCCAGTCCCGACTCCCGGTCCCCC\t0\t-\t26\n",
      "chr16\t69419135\t69420136\tENST00000569280.1_1\t.\t-\tchr16\t69419469\t69419497\tCCCCCCTCCCCCGGCCCGGCCCTCACCC\t0\t-\t28\n",
      "chr16\t69419135\t69420136\tENST00000569280.1_1\t.\t-\tchr16\t69419767\t69419783\tccctccccgccctccc\t0\t-\t16\n",
      "chr16\t69419390\t69420391\tENST00000567296.6_1\t.\t-\tchr16\t69419419\t69419445\tCCCCCAGTCCCGACTCCCGGTCCCCC\t0\t-\t26\n",
      "chr16\t69419390\t69420391\tENST00000567296.6_1\t.\t-\tchr16\t69419469\t69419497\tCCCCCCTCCCCCGGCCCGGCCCTCACCC\t0\t-\t28\n",
      "chr16\t69419390\t69420391\tENST00000567296.6_1\t.\t-\tchr16\t69419767\t69419783\tccctccccgccctccc\t0\t-\t16\n",
      "chr16\t69419390\t69420391\tENST00000254942.7_1\t.\t-\tchr16\t69419419\t69419445\tCCCCCAGTCCCGACTCCCGGTCCCCC\t0\t-\t26\n",
      "chr16\t69419390\t69420391\tENST00000254942.7_1\t.\t-\tchr16\t69419469\t69419497\tCCCCCCTCCCCCGGCCCGGCCCTCACCC\t0\t-\t28\n",
      "chr16\t69419390\t69420391\tENST00000254942.7_1\t.\t-\tchr16\t69419767\t69419783\tccctccccgccctccc\t0\t-\t16\n",
      "chr17\t48206617\t48207618\tENST00000511964.1_1\t.\t-\tchr17\t48206664\t48206687\tGGGCGTCGGGCGGGAGGGAGGGG\t0\t+\t23\n",
      "chr17\t48206617\t48207618\tENST00000511964.1_1\t.\t-\tchr17\t48206712\t48206739\tCCCCCTCCCCTGACAGCCCGGCACCCC\t0\t-\t27\n",
      "chr17\t48206617\t48207618\tENST00000511964.1_1\t.\t-\tchr17\t48206825\t48206851\tCCCGAGTGGCCCTAGCCCCAGTTCCC\t0\t-\t26\n",
      "chr17\t48206617\t48207618\tENST00000511964.1_1\t.\t-\tchr17\t48206946\t48206974\tGGGGGCCGGGCAGGAGAGGGGTGGGGGG\t0\t+\t28\n",
      "chr17\t48206617\t48207618\tENST00000511964.1_1\t.\t-\tchr17\t48207067\t48207094\tGGGAGATGGAGGGCGGGGGATGTGGGG\t0\t+\t27\n",
      "chr17\t48206617\t48207618\tENST00000511964.1_1\t.\t-\tchr17\t48207250\t48207271\tCCCTCCCCGCCCCTGCCGCCC\t0\t-\t21\n",
      "chr17\t48206617\t48207618\tENST00000511964.1_1\t.\t-\tchr17\t48207336\t48207365\tGGGGTCCgcgggggtctccggggaagggg\t0\t+\t29\n",
      "chr17\t48206617\t48207618\tENST00000511964.1_1\t.\t-\tchr17\t48207419\t48207446\tgggagggagcgagggggcgggggcggg\t0\t+\t27\n",
      "chr17\t48206659\t48207660\tENST00000507043.1_1\t.\t-\tchr17\t48206664\t48206687\tGGGCGTCGGGCGGGAGGGAGGGG\t0\t+\t23\n",
      "chr17\t48206659\t48207660\tENST00000507043.1_1\t.\t-\tchr17\t48206712\t48206739\tCCCCCTCCCCTGACAGCCCGGCACCCC\t0\t-\t27\n",
      "chr17\t48206659\t48207660\tENST00000507043.1_1\t.\t-\tchr17\t48206825\t48206851\tCCCGAGTGGCCCTAGCCCCAGTTCCC\t0\t-\t26\n",
      "chr17\t48206659\t48207660\tENST00000507043.1_1\t.\t-\tchr17\t48206946\t48206974\tGGGGGCCGGGCAGGAGAGGGGTGGGGGG\t0\t+\t28\n",
      "chr17\t48206659\t48207660\tENST00000507043.1_1\t.\t-\tchr17\t48207067\t48207094\tGGGAGATGGAGGGCGGGGGATGTGGGG\t0\t+\t27\n",
      "chr17\t48206659\t48207660\tENST00000507043.1_1\t.\t-\tchr17\t48207250\t48207271\tCCCTCCCCGCCCCTGCCGCCC\t0\t-\t21\n",
      "chr17\t48206659\t48207660\tENST00000507043.1_1\t.\t-\tchr17\t48207336\t48207365\tGGGGTCCgcgggggtctccggggaagggg\t0\t+\t29\n",
      "chr17\t48206659\t48207660\tENST00000507043.1_1\t.\t-\tchr17\t48207419\t48207446\tgggagggagcgagggggcgggggcggg\t0\t+\t27\n",
      "chr17\t48206677\t48207678\tENST00000513474.1_1\t.\t-\tchr17\t48206664\t48206687\tGGGCGTCGGGCGGGAGGGAGGGG\t0\t+\t10\n",
      "chr17\t48206677\t48207678\tENST00000513474.1_1\t.\t-\tchr17\t48206712\t48206739\tCCCCCTCCCCTGACAGCCCGGCACCCC\t0\t-\t27\n",
      "chr17\t48206677\t48207678\tENST00000513474.1_1\t.\t-\tchr17\t48206825\t48206851\tCCCGAGTGGCCCTAGCCCCAGTTCCC\t0\t-\t26\n",
      "chr17\t48206677\t48207678\tENST00000513474.1_1\t.\t-\tchr17\t48206946\t48206974\tGGGGGCCGGGCAGGAGAGGGGTGGGGGG\t0\t+\t28\n",
      "chr17\t48206677\t48207678\tENST00000513474.1_1\t.\t-\tchr17\t48207067\t48207094\tGGGAGATGGAGGGCGGGGGATGTGGGG\t0\t+\t27\n",
      "chr17\t48206677\t48207678\tENST00000513474.1_1\t.\t-\tchr17\t48207250\t48207271\tCCCTCCCCGCCCCTGCCGCCC\t0\t-\t21\n",
      "chr17\t48206677\t48207678\tENST00000513474.1_1\t.\t-\tchr17\t48207336\t48207365\tGGGGTCCgcgggggtctccggggaagggg\t0\t+\t29\n",
      "chr17\t48206677\t48207678\tENST00000513474.1_1\t.\t-\tchr17\t48207419\t48207446\tgggagggagcgagggggcgggggcggg\t0\t+\t27\n",
      "chr17\t48206685\t48207686\tENST00000330175.8_1\t.\t-\tchr17\t48206664\t48206687\tGGGCGTCGGGCGGGAGGGAGGGG\t0\t+\t2\n",
      "chr17\t48206685\t48207686\tENST00000330175.8_1\t.\t-\tchr17\t48206712\t48206739\tCCCCCTCCCCTGACAGCCCGGCACCCC\t0\t-\t27\n",
      "chr17\t48206685\t48207686\tENST00000330175.8_1\t.\t-\tchr17\t48206825\t48206851\tCCCGAGTGGCCCTAGCCCCAGTTCCC\t0\t-\t26\n",
      "chr17\t48206685\t48207686\tENST00000330175.8_1\t.\t-\tchr17\t48206946\t48206974\tGGGGGCCGGGCAGGAGAGGGGTGGGGGG\t0\t+\t28\n",
      "chr17\t48206685\t48207686\tENST00000330175.8_1\t.\t-\tchr17\t48207067\t48207094\tGGGAGATGGAGGGCGGGGGATGTGGGG\t0\t+\t27\n",
      "chr17\t48206685\t48207686\tENST00000330175.8_1\t.\t-\tchr17\t48207250\t48207271\tCCCTCCCCGCCCCTGCCGCCC\t0\t-\t21\n",
      "chr17\t48206685\t48207686\tENST00000330175.8_1\t.\t-\tchr17\t48207336\t48207365\tGGGGTCCgcgggggtctccggggaagggg\t0\t+\t29\n",
      "chr17\t48206685\t48207686\tENST00000330175.8_1\t.\t-\tchr17\t48207419\t48207446\tgggagggagcgagggggcgggggcggg\t0\t+\t27\n",
      "chr17\t48206745\t48207746\tENST00000503131.1_1\t.\t-\tchr17\t48206825\t48206851\tCCCGAGTGGCCCTAGCCCCAGTTCCC\t0\t-\t26\n",
      "chr17\t48206745\t48207746\tENST00000503131.1_1\t.\t-\tchr17\t48206946\t48206974\tGGGGGCCGGGCAGGAGAGGGGTGGGGGG\t0\t+\t28\n",
      "chr17\t48206745\t48207746\tENST00000503131.1_1\t.\t-\tchr17\t48207067\t48207094\tGGGAGATGGAGGGCGGGGGATGTGGGG\t0\t+\t27\n",
      "chr17\t48206745\t48207746\tENST00000503131.1_1\t.\t-\tchr17\t48207250\t48207271\tCCCTCCCCGCCCCTGCCGCCC\t0\t-\t21\n",
      "chr17\t48206745\t48207746\tENST00000503131.1_1\t.\t-\tchr17\t48207336\t48207365\tGGGGTCCgcgggggtctccggggaagggg\t0\t+\t29\n",
      "chr17\t48206745\t48207746\tENST00000503131.1_1\t.\t-\tchr17\t48207419\t48207446\tgggagggagcgagggggcgggggcggg\t0\t+\t27\n",
      "chr17\t48242845\t48243846\tENST00000514934.1_1\t.\t+\tchr17\t48243592\t48243616\tGGGGATCCAGGGAATGGGGCTGGG\t0\t+\t24\n",
      "chr17\t48242845\t48243846\tENST00000514934.1_1\t.\t+\tchr17\t48243620\t48243644\tGGGCTCTGGGATGAAGGGGCTGGG\t0\t+\t24\n",
      "chr17\t48242864\t48243865\tENST00000513821.5_1\t.\t+\tchr17\t48243592\t48243616\tGGGGATCCAGGGAATGGGGCTGGG\t0\t+\t24\n",
      "chr17\t48242864\t48243865\tENST00000513821.5_1\t.\t+\tchr17\t48243620\t48243644\tGGGCTCTGGGATGAAGGGGCTGGG\t0\t+\t24\n",
      "chr17\t48242865\t48243866\tENST00000344627.10_1\t.\t+\tchr17\t48243592\t48243616\tGGGGATCCAGGGAATGGGGCTGGG\t0\t+\t24\n",
      "chr17\t48242865\t48243866\tENST00000344627.10_1\t.\t+\tchr17\t48243620\t48243644\tGGGCTCTGGGATGAAGGGGCTGGG\t0\t+\t24\n",
      "chr17\t48242865\t48243866\tENST00000262018.7_1\t.\t+\tchr17\t48243592\t48243616\tGGGGATCCAGGGAATGGGGCTGGG\t0\t+\t24\n",
      "chr17\t48242865\t48243866\tENST00000262018.7_1\t.\t+\tchr17\t48243620\t48243644\tGGGCTCTGGGATGAAGGGGCTGGG\t0\t+\t24\n",
      "chr17\t48242869\t48243870\tENST00000502555.5_1\t.\t+\tchr17\t48243592\t48243616\tGGGGATCCAGGGAATGGGGCTGGG\t0\t+\t24\n",
      "chr17\t48242869\t48243870\tENST00000502555.5_1\t.\t+\tchr17\t48243620\t48243644\tGGGCTCTGGGATGAAGGGGCTGGG\t0\t+\t24\n",
      "chr17\t48242905\t48243906\tENST00000511303.5_1\t.\t+\tchr17\t48243592\t48243616\tGGGGATCCAGGGAATGGGGCTGGG\t0\t+\t24\n",
      "chr17\t48242905\t48243906\tENST00000511303.5_1\t.\t+\tchr17\t48243620\t48243644\tGGGCTCTGGGATGAAGGGGCTGGG\t0\t+\t24\n",
      "chr17\t48244441\t48245442\tENST00000512526.1_1\t.\t+\tchr17\t48244573\t48244595\tCCCCCATCCCCACCCCAATCCC\t0\t-\t22\n",
      "chr17\t77783977\t77784978\tENST00000459144.1\t.\t+\tchr17\t77784169\t77784195\tCCCCCGCCCGCTCCCCGCCCCCTCCC\t0\t-\t26\n",
      "chr17\t77783977\t77784978\tENST00000459144.1\t.\t+\tchr17\t77784373\t77784402\tCCCACTCCCACCCCACGCACCCCCTCCCC\t0\t-\t29\n",
      "chr17\t72462054\t72463055\tENST00000360141.7_1\t.\t+\tchr17\t72462313\t72462337\tCCCCTTCCCTCAGCCCCGAAGCCC\t0\t-\t24\n",
      "chr17\t72462296\t72463297\tENST00000392625.7_1\t.\t+\tchr17\t72462313\t72462337\tCCCCTTCCCTCAGCCCCGAAGCCC\t0\t-\t24\n",
      "chr17\t72462313\t72463314\tENST00000310828.9_1\t.\t+\tchr17\t72462313\t72462337\tCCCCTTCCCTCAGCCCCGAAGCCC\t0\t-\t24\n",
      "chr17\t72462313\t72463314\tENST00000361933.7_1\t.\t+\tchr17\t72462313\t72462337\tCCCCTTCCCTCAGCCCCGAAGCCC\t0\t-\t24\n",
      "chr17\t72462314\t72463315\tENST00000582319.5_1\t.\t+\tchr17\t72462313\t72462337\tCCCCTTCCCTCAGCCCCGAAGCCC\t0\t-\t23\n",
      "chr17\t74117156\t74118157\tENST00000589507.6_1\t.\t-\tchr17\t74117653\t74117686\tgggccgggccgggccaggccgggccgCGAGGGG\t0\t+\t33\n",
      "chr17\t74117156\t74118157\tENST00000589507.6_1\t.\t-\tchr17\t74117773\t74117795\tGGGGCCAGGGTCATGGGTGGGG\t0\t+\t22\n",
      "chr17\t74117156\t74118157\tENST00000589507.6_1\t.\t-\tchr17\t74118075\t74118101\tGGGCTGCGCTGGGCAGCGGGTGCGGG\t0\t+\t26\n",
      "chr17\t7990520\t7991521\tENST00000319144.4_1\t.\t-\tchr17\t7991151\t7991178\tGGGCCCTAGGGAAGTTGCGGGAGGGGG\t0\t+\t27\n",
      "chr17\t7990520\t7991521\tENST00000319144.4_1\t.\t-\tchr17\t7991316\t7991341\tGGGCGGGGGAGGGTAGGGGGAGGGG\t0\t+\t25\n",
      "chr17\t7990873\t7991874\tENST00000583321.1\t.\t+\tchr17\t7991151\t7991178\tGGGCCCTAGGGAAGTTGCGGGAGGGGG\t0\t+\t27\n",
      "chr17\t7990873\t7991874\tENST00000583321.1\t.\t+\tchr17\t7991316\t7991341\tGGGCGGGGGAGGGTAGGGGGAGGGG\t0\t+\t25\n",
      "chr17\t4617345\t4618346\tENST00000572782.1_1\t.\t+\tchr17\t4618147\t4618176\tGGGAAGAAGGGGAAAGGGGCAGAGCTGGG\t0\t+\t29\n",
      "chr17\t4618383\t4619384\tENST00000571206.1_1\t.\t+\tchr17\t4618533\t4618556\tGGGCTGGGTGGGGCAGGCTTGGG\t0\t+\t23\n",
      "chr17\t38217656\t38218657\tENST00000585047.5_1\t.\t+\tchr17\t38218098\t38218129\tGGGAACCGGCGGGGCCAGGGGGGTGCTGGGG\t0\t+\t31\n",
      "chr17\t38217945\t38218946\tENST00000578218.5_1\t.\t+\tchr17\t38218098\t38218129\tGGGAACCGGCGGGGCCAGGGGGGTGCTGGGG\t0\t+\t31\n",
      "chr17\t38217945\t38218946\tENST00000394121.8_1\t.\t+\tchr17\t38218098\t38218129\tGGGAACCGGCGGGGCCAGGGGGGTGCTGGGG\t0\t+\t31\n",
      "chr18\t46456051\t46457052\tENST00000587336.1_1\t.\t-\tchr18\t46456198\t46456220\tCCCTTCTCCCACCCTATCCCCC\t0\t-\t22\n",
      "chr18\t46456051\t46457052\tENST00000587336.1_1\t.\t-\tchr18\t46456451\t46456482\tCCCTCCCTGGCCCCCCTCCCCGTGCACTCCC\t0\t-\t31\n",
      "chr18\t46456051\t46457052\tENST00000587336.1_1\t.\t-\tchr18\t46456674\t46456701\tCCCAGCCCTTTCACCCCTAAAGCACCC\t0\t-\t27\n",
      "chr18\t10602\t11603\tENST00000575820.1_1\t.\t+\tchr18\t10596\t10618\tcccctacccctaaccctaaccc\t0\t-\t16\n",
      "chr18\t10602\t11603\tENST00000575820.1_1\t.\t+\tchr18\t10775\t10796\tccctggactgcccgcccgccc\t0\t-\t21\n",
      "chr18\t10690\t11691\tENST00000572573.1_1\t.\t+\tchr18\t10775\t10796\tccctggactgcccgcccgccc\t0\t-\t21\n",
      "chr18\t93829\t94830\tENST00000622049.1_1\t.\t-\tchr18\t94622\t94645\tccctaaccctaaaccctaacccc\t0\t-\t23\n",
      "chr18\t93829\t94830\tENST00000622049.1_1\t.\t-\tchr18\t94660\t94681\tccctaaccccaaccctaaccc\t0\t-\t21\n",
      "chr19\t41332176\t41333177\tENST00000437853.1_1\t.\t-\tchr19\t41332292\t41332317\tGGGGTGGGGGTTGGGGCTGAGGGGG\t0\t+\t25\n",
      "chr19\t41332176\t41333177\tENST00000437853.1_1\t.\t-\tchr19\t41332384\t41332411\tGGGTGGGGTCAGATGGGAGGGGGCGGG\t0\t+\t27\n",
      "chr19\t39409923\t39410924\tENST00000598563.5_1\t.\t-\tchr19\t39410689\t39410715\tGGGAGAGGGGCGTGGGGAGCCAGGGG\t0\t+\t26\n",
      "chr19\t39410138\t39411139\tENST00000602034.1_1\t.\t-\tchr19\t39410689\t39410715\tGGGAGAGGGGCGTGGGGAGCCAGGGG\t0\t+\t26\n",
      "chr19\t59097024\t59098025\tENST00000597341.1_1\t.\t+\tchr19\t59097936\t59097957\tgggttagggtcagggtcaggg\t0\t+\t21\n",
      "chr19\t59097024\t59098025\tENST00000597341.1_1\t.\t+\tchr19\t59097960\t59097981\tgggtcagggtcagggttaggg\t0\t+\t21\n",
      "chr19\t59097024\t59098025\tENST00000597341.1_1\t.\t+\tchr19\t59097985\t59098006\tgggtcagggtcagggtcaggg\t0\t+\t21\n",
      "chr19\t59097024\t59098025\tENST00000597341.1_1\t.\t+\tchr19\t59098009\t59098029\tgggttagggtagggttaggg\t0\t+\t16\n",
      "chr19\t59097151\t59098152\tENST00000492393.5_1\t.\t+\tchr19\t59097936\t59097957\tgggttagggtcagggtcaggg\t0\t+\t21\n",
      "chr19\t59097151\t59098152\tENST00000492393.5_1\t.\t+\tchr19\t59097960\t59097981\tgggtcagggtcagggttaggg\t0\t+\t21\n",
      "chr19\t59097151\t59098152\tENST00000492393.5_1\t.\t+\tchr19\t59097985\t59098006\tgggtcagggtcagggtcaggg\t0\t+\t21\n",
      "chr19\t59097151\t59098152\tENST00000492393.5_1\t.\t+\tchr19\t59098009\t59098029\tgggttagggtagggttaggg\t0\t+\t20\n",
      "chr19\t59097151\t59098152\tENST00000492393.5_1\t.\t+\tchr19\t59098032\t59098052\tgggttagggttagggtaggg\t0\t+\t20\n",
      "chr19\t59097151\t59098152\tENST00000492393.5_1\t.\t+\tchr19\t59098055\t59098076\tgggttagggttagggttaggg\t0\t+\t21\n",
      "chr19\t59097151\t59098152\tENST00000595439.5_1\t.\t+\tchr19\t59097936\t59097957\tgggttagggtcagggtcaggg\t0\t+\t21\n",
      "chr19\t59097151\t59098152\tENST00000595439.5_1\t.\t+\tchr19\t59097960\t59097981\tgggtcagggtcagggttaggg\t0\t+\t21\n",
      "chr19\t59097151\t59098152\tENST00000595439.5_1\t.\t+\tchr19\t59097985\t59098006\tgggtcagggtcagggtcaggg\t0\t+\t21\n",
      "chr19\t59097151\t59098152\tENST00000595439.5_1\t.\t+\tchr19\t59098009\t59098029\tgggttagggtagggttaggg\t0\t+\t20\n",
      "chr19\t59097151\t59098152\tENST00000595439.5_1\t.\t+\tchr19\t59098032\t59098052\tgggttagggttagggtaggg\t0\t+\t20\n",
      "chr19\t59097151\t59098152\tENST00000595439.5_1\t.\t+\tchr19\t59098055\t59098076\tgggttagggttagggttaggg\t0\t+\t21\n",
      "chr19\t49523279\t49524280\tENST00000637680.1_1\t.\t-\tchr19\t49524224\t49524247\tCCCCGGGGCTCCCCGACCCTCCC\t0\t-\t23\n",
      "chr2\t133109794\t133110795\tENST00000458407.1_1\t.\t+\tchr2\t133110086\t133110104\tcccccggcccgcccgccc\t0\t-\t18\n",
      "chr2\t220435462\t220436463\tENST00000373876.5_1\t.\t-\tchr2\t220435987\t220436013\tGGgggggcaggggggggtgcggaggg\t0\t+\t26\n",
      "chr2\t220435462\t220436463\tENST00000373876.5_1\t.\t-\tchr2\t220436026\t220436054\tggggcggcggggtcggggcgcggctggg\t0\t+\t28\n",
      "chr2\t220435510\t220436511\tENST00000404537.5_1\t.\t-\tchr2\t220435987\t220436013\tGGgggggcaggggggggtgcggaggg\t0\t+\t26\n",
      "chr2\t220435510\t220436511\tENST00000404537.5_1\t.\t-\tchr2\t220436026\t220436054\tggggcggcggggtcggggcgcggctggg\t0\t+\t28\n",
      "chr2\t220435510\t220436511\tENST00000603926.5_1\t.\t-\tchr2\t220435987\t220436013\tGGgggggcaggggggggtgcggaggg\t0\t+\t26\n",
      "chr2\t220435510\t220436511\tENST00000603926.5_1\t.\t-\tchr2\t220436026\t220436054\tggggcggcggggtcggggcgcggctggg\t0\t+\t28\n",
      "chr2\t220435510\t220436511\tENST00000373873.8_1\t.\t-\tchr2\t220435987\t220436013\tGGgggggcaggggggggtgcggaggg\t0\t+\t26\n",
      "chr2\t220435510\t220436511\tENST00000373873.8_1\t.\t-\tchr2\t220436026\t220436054\tggggcggcggggtcggggcgcggctggg\t0\t+\t28\n",
      "chr2\t220435685\t220436686\tENST00000289656.3_1\t.\t-\tchr2\t220435987\t220436013\tGGgggggcaggggggggtgcggaggg\t0\t+\t26\n",
      "chr2\t220435685\t220436686\tENST00000289656.3_1\t.\t-\tchr2\t220436026\t220436054\tggggcggcggggtcggggcgcggctggg\t0\t+\t28\n",
      "chr2\t220435713\t220436714\tENST00000465589.1_1\t.\t-\tchr2\t220435987\t220436013\tGGgggggcaggggggggtgcggaggg\t0\t+\t26\n",
      "chr2\t220435713\t220436714\tENST00000465589.1_1\t.\t-\tchr2\t220436026\t220436054\tggggcggcggggtcggggcgcggctggg\t0\t+\t28\n",
      "chr2\t220436080\t220437081\tENST00000491370.1_1\t.\t-\tchr2\t220436830\t220436852\tCCCAGCCCCTCCCCCACATCCC\t0\t-\t22\n",
      "chr2\t220436080\t220437081\tENST00000491370.1_1\t.\t-\tchr2\t220436979\t220437012\tGGGTAGAAGAGGGTGGGTGTGGGATGGGGAGGG\t0\t+\t33\n",
      "chr2\t220436416\t220437417\tENST00000243786.2_1\t.\t+\tchr2\t220436830\t220436852\tCCCAGCCCCTCCCCCACATCCC\t0\t-\t22\n",
      "chr2\t220436416\t220437417\tENST00000243786.2_1\t.\t+\tchr2\t220436979\t220437012\tGGGTAGAAGAGGGTGGGTGTGGGATGGGGAGGG\t0\t+\t33\n",
      "chr2\t204399484\t204400485\tENST00000457812.5_1\t.\t-\tchr2\t204400025\t204400051\tGggcggcggcgggagcgggggcgggg\t0\t+\t26\n",
      "chr2\t204399484\t204400485\tENST00000457812.5_1\t.\t-\tchr2\t204400227\t204400248\tcccgccgcccttccctagccc\t0\t-\t21\n",
      "chr2\t204399484\t204400485\tENST00000457812.5_1\t.\t-\tchr2\t204400252\t204400276\tcccgcgccggccctccgccctccc\t0\t-\t24\n",
      "chr2\t204399501\t204400502\tENST00000465669.1_1\t.\t-\tchr2\t204400025\t204400051\tGggcggcggcgggagcgggggcgggg\t0\t+\t26\n",
      "chr2\t204399501\t204400502\tENST00000465669.1_1\t.\t-\tchr2\t204400227\t204400248\tcccgccgcccttccctagccc\t0\t-\t21\n",
      "chr2\t204399501\t204400502\tENST00000465669.1_1\t.\t-\tchr2\t204400252\t204400276\tcccgcgccggccctccgccctccc\t0\t-\t24\n",
      "chr2\t204399557\t204400558\tENST00000453034.5_1\t.\t-\tchr2\t204400025\t204400051\tGggcggcggcgggagcgggggcgggg\t0\t+\t26\n",
      "chr2\t204399557\t204400558\tENST00000453034.5_1\t.\t-\tchr2\t204400227\t204400248\tcccgccgcccttccctagccc\t0\t-\t21\n",
      "chr2\t204399557\t204400558\tENST00000453034.5_1\t.\t-\tchr2\t204400252\t204400276\tcccgcgccggccctccgccctccc\t0\t-\t24\n",
      "chr2\t204399557\t204400558\tENST00000420371.2_1\t.\t-\tchr2\t204400025\t204400051\tGggcggcggcgggagcgggggcgggg\t0\t+\t26\n",
      "chr2\t204399557\t204400558\tENST00000420371.2_1\t.\t-\tchr2\t204400227\t204400248\tcccgccgcccttccctagccc\t0\t-\t21\n",
      "chr2\t204399557\t204400558\tENST00000420371.2_1\t.\t-\tchr2\t204400252\t204400276\tcccgcgccggccctccgccctccc\t0\t-\t24\n",
      "chr2\t204399557\t204400558\tENST00000308091.8_1\t.\t-\tchr2\t204400025\t204400051\tGggcggcggcgggagcgggggcgggg\t0\t+\t26\n",
      "chr2\t204399557\t204400558\tENST00000308091.8_1\t.\t-\tchr2\t204400227\t204400248\tcccgccgcccttccctagccc\t0\t-\t21\n",
      "chr2\t204399557\t204400558\tENST00000308091.8_1\t.\t-\tchr2\t204400252\t204400276\tcccgcgccggccctccgccctccc\t0\t-\t24\n",
      "chr2\t204399557\t204400558\tENST00000630330.2_1\t.\t-\tchr2\t204400025\t204400051\tGggcggcggcgggagcgggggcgggg\t0\t+\t26\n",
      "chr2\t204399557\t204400558\tENST00000630330.2_1\t.\t-\tchr2\t204400227\t204400248\tcccgccgcccttccctagccc\t0\t-\t21\n",
      "chr2\t204399557\t204400558\tENST00000630330.2_1\t.\t-\tchr2\t204400252\t204400276\tcccgcgccggccctccgccctccc\t0\t-\t24\n",
      "chr2\t204399632\t204400633\tENST00000319170.9_1\t.\t-\tchr2\t204400025\t204400051\tGggcggcggcgggagcgggggcgggg\t0\t+\t26\n",
      "chr2\t204399632\t204400633\tENST00000319170.9_1\t.\t-\tchr2\t204400227\t204400248\tcccgccgcccttccctagccc\t0\t-\t21\n",
      "chr2\t204399632\t204400633\tENST00000319170.9_1\t.\t-\tchr2\t204400252\t204400276\tcccgcgccggccctccgccctccc\t0\t-\t24\n",
      "chr2\t45877983\t45878984\tENST00000421201.1_1\t.\t+\tchr2\t45878046\t45878070\tccccgccccccggctgacccgccc\t0\t-\t24\n",
      "chr2\t45877983\t45878984\tENST00000421201.1_1\t.\t+\tchr2\t45878774\t45878796\tCCCCGCCCCGTCCCACCGCCCC\t0\t-\t22\n",
      "chr2\t45878412\t45879413\tENST00000306156.7_1\t.\t+\tchr2\t45878774\t45878796\tCCCCGCCCCGTCCCACCGCCCC\t0\t-\t22\n",
      "chr2\t42996532\t42997533\tENST00000406007.6_1\t.\t-\tchr2\t42997036\t42997063\tCCCAGCCCACCCAGCCCCAGTGGGCCC\t0\t-\t27\n",
      "chr20\t51588445\t51589446\tENST00000371497.9_1\t.\t+\tchr20\t51588460\t51588481\tCCCCTCCCCCTTCCCAGCCCC\t0\t-\t21\n",
      "chr20\t51588445\t51589446\tENST00000371497.9_1\t.\t+\tchr20\t51588753\t51588777\tcccccgcccccAGCCCCTCTCCCC\t0\t-\t24\n",
      "chr21\t9825331\t9826332\tENST00000581792.1\t.\t+\tchr21\t9825511\t9825538\tCCCGGGTGCCCTTGCCCTCACGGTCCC\t0\t-\t27\n",
      "chr21\t9825331\t9826332\tENST00000581792.1\t.\t+\tchr21\t9825541\t9825568\tCCCTCGCCCGTCTGTGCCCTCTTCCCC\t0\t-\t27\n",
      "chr21\t9825331\t9826332\tENST00000581792.1\t.\t+\tchr21\t9826306\t9826328\tgggtcggggggtggggcccggg\t0\t+\t22\n",
      "chr21\t9825702\t9826703\tENST00000577708.1\t.\t+\tchr21\t9826306\t9826328\tgggtcggggggtggggcccggg\t0\t+\t22\n",
      "chr3\t133748257\t133749258\tENST00000493729.5_1\t.\t-\tchr3\t133749002\t133749026\tgggcccggggaggggaggtgaggg\t0\t+\t24\n",
      "chr3\t133748266\t133749267\tENST00000481359.3_1\t.\t-\tchr3\t133749002\t133749026\tgggcccggggaggggaggtgaggg\t0\t+\t24\n",
      "chr3\t133748268\t133749269\tENST00000462770.5_1\t.\t-\tchr3\t133749002\t133749026\tgggcccggggaggggaggtgaggg\t0\t+\t24\n",
      "chr3\t133748268\t133749269\tENST00000464676.5_1\t.\t-\tchr3\t133749002\t133749026\tgggcccggggaggggaggtgaggg\t0\t+\t24\n",
      "chr3\t133748268\t133749269\tENST00000478651.1_1\t.\t-\tchr3\t133749002\t133749026\tgggcccggggaggggaggtgaggg\t0\t+\t24\n",
      "chr3\t133748419\t133749420\tENST00000310926.8_1\t.\t-\tchr3\t133749002\t133749026\tgggcccggggaggggaggtgaggg\t0\t+\t24\n",
      "chr3\t196044584\t196045585\tENST00000426563.5_1\t.\t-\tchr3\t196044784\t196044808\tcccgcctcccgccccgcggacccc\t0\t-\t24\n",
      "chr3\t196044592\t196045593\tENST00000431391.1_1\t.\t-\tchr3\t196044784\t196044808\tcccgcctcccgccccgcggacccc\t0\t-\t24\n",
      "chr3\t196044658\t196045659\tENST00000325318.9_1\t.\t-\tchr3\t196044784\t196044808\tcccgcctcccgccccgcggacccc\t0\t-\t24\n",
      "chr3\t196044669\t196045670\tENST00000446494.1_1\t.\t-\tchr3\t196044784\t196044808\tcccgcctcccgccccgcggacccc\t0\t-\t24\n",
      "chr3\t196044700\t196045701\tENST00000420226.1_1\t.\t+\tchr3\t196044784\t196044808\tcccgcctcccgccccgcggacccc\t0\t-\t24\n",
      "chr3\t196044720\t196045721\tENST00000452051.1_1\t.\t+\tchr3\t196044784\t196044808\tcccgcctcccgccccgcggacccc\t0\t-\t24\n",
      "chr3\t196044776\t196045777\tENST00000444939.1_1\t.\t+\tchr3\t196044784\t196044808\tcccgcctcccgccccgcggacccc\t0\t-\t24\n",
      "chr4\t699072\t700073\tENST00000482726.1\t.\t+\tchr4\t699056\t699077\tcccaaccctaaccctaacccc\t0\t-\t5\n",
      "chr4\t699072\t700073\tENST00000482726.1\t.\t+\tchr4\t699171\t699193\tcccctaacccgacccctgaccc\t0\t-\t22\n",
      "chr4\t699072\t700073\tENST00000482726.1\t.\t+\tchr4\t699414\t699442\tcccctggccctcgcgccccgcggctccc\t0\t-\t28\n",
      "chr4\t699072\t700073\tENST00000482726.1\t.\t+\tchr4\t699485\t699511\tcccctccccgcccctatccccacccc\t0\t-\t26\n",
      "chr4\t699072\t700073\tENST00000400151.2\t.\t+\tchr4\t699056\t699077\tcccaaccctaaccctaacccc\t0\t-\t5\n",
      "chr4\t699072\t700073\tENST00000400151.2\t.\t+\tchr4\t699171\t699193\tcccctaacccgacccctgaccc\t0\t-\t22\n",
      "chr4\t699072\t700073\tENST00000400151.2\t.\t+\tchr4\t699414\t699442\tcccctggccctcgcgccccgcggctccc\t0\t-\t28\n",
      "chr4\t699072\t700073\tENST00000400151.2\t.\t+\tchr4\t699485\t699511\tcccctccccgcccctatccccacccc\t0\t-\t26\n",
      "chr4\t699070\t700071\tENST00000475288.1\t.\t+\tchr4\t699056\t699077\tcccaaccctaaccctaacccc\t0\t-\t7\n",
      "chr4\t699070\t700071\tENST00000475288.1\t.\t+\tchr4\t699171\t699193\tcccctaacccgacccctgaccc\t0\t-\t22\n",
      "chr4\t699070\t700071\tENST00000475288.1\t.\t+\tchr4\t699414\t699442\tcccctggccctcgcgccccgcggctccc\t0\t-\t28\n",
      "chr4\t699070\t700071\tENST00000475288.1\t.\t+\tchr4\t699485\t699511\tcccctccccgcccctatccccacccc\t0\t-\t26\n",
      "chr4\t699053\t700054\tENST00000362003.5\t.\t+\tchr4\t699056\t699077\tcccaaccctaaccctaacccc\t0\t-\t21\n",
      "chr4\t699053\t700054\tENST00000362003.5\t.\t+\tchr4\t699171\t699193\tcccctaacccgacccctgaccc\t0\t-\t22\n",
      "chr4\t699053\t700054\tENST00000362003.5\t.\t+\tchr4\t699414\t699442\tcccctggccctcgcgccccgcggctccc\t0\t-\t28\n",
      "chr4\t699053\t700054\tENST00000362003.5\t.\t+\tchr4\t699485\t699511\tcccctccccgcccctatccccacccc\t0\t-\t26\n",
      "chr4\t699036\t700037\tENST00000419774.1\t.\t+\tchr4\t699056\t699077\tcccaaccctaaccctaacccc\t0\t-\t21\n",
      "chr4\t699036\t700037\tENST00000419774.1\t.\t+\tchr4\t699171\t699193\tcccctaacccgacccctgaccc\t0\t-\t22\n",
      "chr4\t699036\t700037\tENST00000419774.1\t.\t+\tchr4\t699414\t699442\tcccctggccctcgcgccccgcggctccc\t0\t-\t28\n",
      "chr4\t699036\t700037\tENST00000419774.1\t.\t+\tchr4\t699485\t699511\tcccctccccgcccctatccccacccc\t0\t-\t26\n",
      "chr4\t945698\t946699\tENST00000506669.1_1\t.\t+\tchr4\t945725\t945751\tCCCAGCTCCCACCCGGCCCTGAGCCC\t0\t-\t26\n",
      "chr4\t699231\t700232\tENST00000521023.2\t.\t+\tchr4\t699414\t699442\tcccctggccctcgcgccccgcggctccc\t0\t-\t28\n",
      "chr4\t699231\t700232\tENST00000521023.2\t.\t+\tchr4\t699485\t699511\tcccctccccgcccctatccccacccc\t0\t-\t26\n",
      "chr4\t699231\t700232\tENST00000440452.1\t.\t+\tchr4\t699414\t699442\tcccctggccctcgcgccccgcggctccc\t0\t-\t28\n",
      "chr4\t699231\t700232\tENST00000440452.1\t.\t+\tchr4\t699485\t699511\tcccctccccgcccctatccccacccc\t0\t-\t26\n",
      "chr4\t699163\t700164\tENST00000484141.1\t.\t+\tchr4\t699171\t699193\tcccctaacccgacccctgaccc\t0\t-\t22\n",
      "chr4\t699163\t700164\tENST00000484141.1\t.\t+\tchr4\t699414\t699442\tcccctggccctcgcgccccgcggctccc\t0\t-\t28\n",
      "chr4\t699163\t700164\tENST00000484141.1\t.\t+\tchr4\t699485\t699511\tcccctccccgcccctatccccacccc\t0\t-\t26\n",
      "chr4\t699120\t700121\tENST00000430644.1\t.\t+\tchr4\t699171\t699193\tcccctaacccgacccctgaccc\t0\t-\t22\n",
      "chr4\t699120\t700121\tENST00000430644.1\t.\t+\tchr4\t699414\t699442\tcccctggccctcgcgccccgcggctccc\t0\t-\t28\n",
      "chr4\t699120\t700121\tENST00000430644.1\t.\t+\tchr4\t699485\t699511\tcccctccccgcccctatccccacccc\t0\t-\t26\n",
      "chr4\t699072\t700073\tENST00000470161.2\t.\t+\tchr4\t699056\t699077\tcccaaccctaaccctaacccc\t0\t-\t5\n",
      "chr4\t699072\t700073\tENST00000470161.2\t.\t+\tchr4\t699171\t699193\tcccctaacccgacccctgaccc\t0\t-\t22\n",
      "chr4\t699072\t700073\tENST00000470161.2\t.\t+\tchr4\t699414\t699442\tcccctggccctcgcgccccgcggctccc\t0\t-\t28\n",
      "chr4\t699072\t700073\tENST00000470161.2\t.\t+\tchr4\t699485\t699511\tcccctccccgcccctatccccacccc\t0\t-\t26\n",
      "chr4\t699072\t700073\tENST00000427463.1\t.\t+\tchr4\t699056\t699077\tcccaaccctaaccctaacccc\t0\t-\t5\n",
      "chr4\t699072\t700073\tENST00000427463.1\t.\t+\tchr4\t699171\t699193\tcccctaacccgacccctgaccc\t0\t-\t22\n",
      "chr4\t699072\t700073\tENST00000427463.1\t.\t+\tchr4\t699414\t699442\tcccctggccctcgcgccccgcggctccc\t0\t-\t28\n",
      "chr4\t699072\t700073\tENST00000427463.1\t.\t+\tchr4\t699485\t699511\tcccctccccgcccctatccccacccc\t0\t-\t26\n",
      "chr5\t1294603\t1295604\tENST00000460137.6_1\t.\t-\tchr5\t1295203\t1295231\tggggaggggctgggagggcccggagggg\t0\t+\t28\n",
      "chr5\t1294603\t1295604\tENST00000460137.6_1\t.\t-\tchr5\t1295234\t1295260\tgggccggggacccgggaggggtcggg\t0\t+\t26\n",
      "chr5\t1294603\t1295604\tENST00000334602.10_1\t.\t-\tchr5\t1295203\t1295231\tggggaggggctgggagggcccggagggg\t0\t+\t28\n",
      "chr5\t1294603\t1295604\tENST00000334602.10_1\t.\t-\tchr5\t1295234\t1295260\tgggccggggacccgggaggggtcggg\t0\t+\t26\n",
      "chr5\t1294603\t1295604\tENST00000508104.2_2\t.\t-\tchr5\t1295203\t1295231\tggggaggggctgggagggcccggagggg\t0\t+\t28\n",
      "chr5\t1294603\t1295604\tENST00000508104.2_2\t.\t-\tchr5\t1295234\t1295260\tgggccggggacccgggaggggtcggg\t0\t+\t26\n",
      "chr5\t1294661\t1295662\tENST00000310581.9_1\t.\t-\tchr5\t1295203\t1295231\tggggaggggctgggagggcccggagggg\t0\t+\t28\n",
      "chr5\t1294661\t1295662\tENST00000310581.9_1\t.\t-\tchr5\t1295234\t1295260\tgggccggggacccgggaggggtcggg\t0\t+\t26\n",
      "chr5\t1294683\t1295684\tENST00000522877.1_1\t.\t-\tchr5\t1295203\t1295231\tggggaggggctgggagggcccggagggg\t0\t+\t28\n",
      "chr5\t1294683\t1295684\tENST00000522877.1_1\t.\t-\tchr5\t1295234\t1295260\tgggccggggacccgggaggggtcggg\t0\t+\t26\n",
      "chr6\t167369111\t167370112\tENST00000507747.1_1\t.\t-\tchr6\t167369257\t167369287\tCCCAGGGCTCCCCCCAACCCACTCCTTCCC\t0\t-\t30\n",
      "chr6\t36806604\t36807605\tENST00000633136.1_1\t.\t-\tchr6\t36807312\t36807337\tgggaagagggcggagggagcggggg\t0\t+\t25\n",
      "chr6\t36806604\t36807605\tENST00000633136.1_1\t.\t-\tchr6\t36807442\t36807467\tggggcgcggggagaggggCTCGGGG\t0\t+\t25\n",
      "chr6\t36806719\t36807720\tENST00000633280.1_1\t.\t-\tchr6\t36807312\t36807337\tgggaagagggcggagggagcggggg\t0\t+\t25\n",
      "chr6\t36806719\t36807720\tENST00000633280.1_1\t.\t-\tchr6\t36807442\t36807467\tggggcgcggggagaggggCTCGGGG\t0\t+\t25\n",
      "chr6\t36807277\t36808278\tENST00000244751.6_1\t.\t-\tchr6\t36807312\t36807337\tgggaagagggcggagggagcggggg\t0\t+\t25\n",
      "chr6\t36807277\t36808278\tENST00000244751.6_1\t.\t-\tchr6\t36807442\t36807467\tggggcgcggggagaggggCTCGGGG\t0\t+\t25\n",
      "chr6\t36807277\t36808278\tENST00000244751.6_1\t.\t-\tchr6\t36807826\t36807848\tggggccggggcggggccgcggg\t0\t+\t22\n",
      "chr6\t36807277\t36808278\tENST00000244751.6_1\t.\t-\tchr6\t36808046\t36808068\tGGGGGAGGGGGAGGGTTATGGG\t0\t+\t22\n",
      "chr6\t48035888\t48036889\tENST00000398738.2_2\t.\t-\tchr6\t48036607\t48036633\tgggggcgggcggcgggcgccgcgggg\t0\t+\t26\n",
      "chr6\t48035888\t48036889\tENST00000398738.2_2\t.\t-\tchr6\t48036633\t48036662\tcccACCCCCTCCCCGGTCTCCCCGCGCCC\t0\t-\t29\n",
      "chr6\t48035888\t48036889\tENST00000398738.2_2\t.\t-\tchr6\t48036876\t48036907\tgggggggggggctgagggggggagaggaggg\t0\t+\t13\n",
      "chr6\t48035924\t48036925\tENST00000339488.8_2\t.\t-\tchr6\t48036607\t48036633\tgggggcgggcggcgggcgccgcgggg\t0\t+\t26\n",
      "chr6\t48035924\t48036925\tENST00000339488.8_2\t.\t-\tchr6\t48036633\t48036662\tcccACCCCCTCCCCGGTCTCCCCGCGCCC\t0\t-\t29\n",
      "chr6\t48035924\t48036925\tENST00000339488.8_2\t.\t-\tchr6\t48036876\t48036907\tgggggggggggctgagggggggagaggaggg\t0\t+\t31\n",
      "chr6\t43705070\t43706071\tENST00000424283.1_1\t.\t-\tchr6\t43705554\t43705579\tGGGGTTGGGAGCTCCTGGGGCTGGG\t0\t+\t25\n",
      "chr6\t43705070\t43706071\tENST00000424283.1_1\t.\t-\tchr6\t43705707\t43705731\tGGGCTGGGCTTGGGAGCGGCGGGG\t0\t+\t24\n",
      "chr6\t43468203\t43469204\tENST00000490050.1_1\t.\t+\tchr6\t43469033\t43469063\tCCCTACCATCCCCTCTTCCTCCCCTGACCC\t0\t-\t30\n",
      "chr6\t43468763\t43469764\tENST00000454762.1_1\t.\t+\tchr6\t43469033\t43469063\tCCCTACCATCCCCTCTTCCTCCCCTGACCC\t0\t-\t30\n",
      "chr6\t43468763\t43469764\tENST00000454762.1_1\t.\t+\tchr6\t43469229\t43469257\tCCCCTCTGCCCTTGATCCCACAACACCC\t0\t-\t28\n",
      "chr7\t150674687\t150675688\tENST00000430723.4_1\t.\t-\tchr7\t150675437\t150675460\tcccccgcctcccggccccctccc\t0\t-\t23\n",
      "chr7\t150674687\t150675688\tENST00000430723.4_1\t.\t-\tchr7\t150675484\t150675509\tccctctcccccccccatcccgcccc\t0\t-\t25\n",
      "chr7\t150674723\t150675724\tENST00000532957.5_1\t.\t-\tchr7\t150675437\t150675460\tcccccgcctcccggccccctccc\t0\t-\t23\n",
      "chr7\t150674723\t150675724\tENST00000532957.5_1\t.\t-\tchr7\t150675484\t150675509\tccctctcccccccccatcccgcccc\t0\t-\t25\n",
      "chr7\t150674902\t150675903\tENST00000262186.9_1\t.\t-\tchr7\t150675437\t150675460\tcccccgcctcccggccccctccc\t0\t-\t23\n",
      "chr7\t150674902\t150675903\tENST00000262186.9_1\t.\t-\tchr7\t150675484\t150675509\tccctctcccccccccatcccgcccc\t0\t-\t25\n",
      "chr7\t136552915\t136553916\tENST00000445907.6_1\t.\t+\tchr7\t136553158\t136553181\tGGGAAGGGACTCGGGGTTGGGGG\t0\t+\t23\n",
      "chr7\t136553024\t136554025\tENST00000471195.5_1\t.\t+\tchr7\t136553158\t136553181\tGGGAAGGGACTCGGGGTTGGGGG\t0\t+\t23\n",
      "chr7\t136553024\t136554025\tENST00000471195.5_1\t.\t+\tchr7\t136553931\t136553962\tcccgcctctcccgcctctcccgccCCACCCC\t0\t-\t31\n",
      "chr7\t136553331\t136554332\tENST00000453373.5_1\t.\t+\tchr7\t136553931\t136553962\tcccgcctctcccgcctctcccgccCCACCCC\t0\t-\t31\n",
      "chr7\t136553331\t136554332\tENST00000453373.5_1\t.\t+\tchr7\t136554262\t136554290\tGGGGTCGGGGCTTGGGGGAATTGGAGGG\t0\t+\t28\n",
      "chr7\t136553331\t136554332\tENST00000481598.5_1\t.\t+\tchr7\t136553931\t136553962\tcccgcctctcccgcctctcccgccCCACCCC\t0\t-\t31\n",
      "chr7\t136553331\t136554332\tENST00000481598.5_1\t.\t+\tchr7\t136554262\t136554290\tGGGGTCGGGGCTTGGGGGAATTGGAGGG\t0\t+\t28\n",
      "chr7\t136553331\t136554332\tENST00000480591.5_1\t.\t+\tchr7\t136553931\t136553962\tcccgcctctcccgcctctcccgccCCACCCC\t0\t-\t31\n",
      "chr7\t136553331\t136554332\tENST00000480591.5_1\t.\t+\tchr7\t136554262\t136554290\tGGGGTCGGGGCTTGGGGGAATTGGAGGG\t0\t+\t28\n",
      "chr7\t136553331\t136554332\tENST00000320658.9_1\t.\t+\tchr7\t136553931\t136553962\tcccgcctctcccgcctctcccgccCCACCCC\t0\t-\t31\n",
      "chr7\t136553331\t136554332\tENST00000320658.9_1\t.\t+\tchr7\t136554262\t136554290\tGGGGTCGGGGCTTGGGGGAATTGGAGGG\t0\t+\t28\n",
      "chr7\t136553368\t136554369\tENST00000401861.1_1\t.\t+\tchr7\t136553931\t136553962\tcccgcctctcccgcctctcccgccCCACCCC\t0\t-\t31\n",
      "chr7\t136553368\t136554369\tENST00000401861.1_1\t.\t+\tchr7\t136554262\t136554290\tGGGGTCGGGGCTTGGGGGAATTGGAGGG\t0\t+\t28\n",
      "chr7\t28648177\t28649178\tENST00000426500.5_1\t.\t+\tchr7\t28648151\t28648178\tCCCAGTctccctgcctccctggctccc\t0\t-\t1\n",
      "chr7\t28648177\t28649178\tENST00000426500.5_1\t.\t+\tchr7\t28648179\t28648205\tcccttccaccctcctcccaatctccc\t0\t-\t26\n",
      "chr7\t50850106\t50851107\tENST00000483819.1_1\t.\t-\tchr7\t50850640\t50850667\tCCCTCTGCTGCCCAATCCCCGGATCCC\t0\t-\t27\n",
      "chr7\t50849763\t50850764\tENST00000401949.5_1\t.\t-\tchr7\t50850640\t50850667\tCCCTCTGCTGCCCAATCCCCGGATCCC\t0\t-\t27\n",
      "chr7\t57881406\t57882407\tENST00000415634.1_1\t.\t+\tchr7\t57881580\t57881608\tcccacagccccctctcccacgccacccc\t0\t-\t28\n",
      "chr8\t23190648\t23191649\tENST00000520925.1_1\t.\t-\tchr8\t23190851\t23190873\tCCCTCAACACCCTCCCATCCCC\t0\t-\t22\n",
      "chr8\t23190565\t23191566\tENST00000518472.1_1\t.\t-\tchr8\t23190851\t23190873\tCCCTCAACACCCTCCCATCCCC\t0\t-\t22\n",
      "chr8\t23190507\t23191508\tENST00000520349.1_1\t.\t-\tchr8\t23190851\t23190873\tCCCTCAACACCCTCCCATCCCC\t0\t-\t22\n",
      "chr8\t37374038\t37375039\tENST00000521989.2_1\t.\t-\tchr8\t37375033\t37375063\tCCCCCACGCGCCCCCGCCCCGCCACTCCCC\t0\t-\t6\n",
      "chr9\t141023350\t141024351\tENST00000617023.1_1\t.\t+\tchr9\t141023517\t141023538\tgggttagggttggggttaggg\t0\t+\t21\n",
      "chr9\t141023350\t141024351\tENST00000617023.1_1\t.\t+\tchr9\t141023602\t141023625\tggggtttagggttagggttcggg\t0\t+\t23\n",
      "chr9\t135036833\t135037834\tENST00000393229.3_1\t.\t+\tchr9\t135037343\t135037368\tgggcgggcgatgcgggcggcgcggg\t0\t+\t25\n",
      "chr9\t135036833\t135037834\tENST00000393229.3_1\t.\t+\tchr9\t135037513\t135037535\tCCCTCGGCCCGCGCCCCCACCC\t0\t-\t22\n",
      "chr9\t135036833\t135037834\tENST00000393229.3_1\t.\t+\tchr9\t135037623\t135037651\tGGGGTAAGGCGGGCGGGGAGAGCCCGGG\t0\t+\t28\n",
      "chr9\t135036562\t135037563\tENST00000372179.7_1\t.\t+\tchr9\t135037343\t135037368\tgggcgggcgatgcgggcggcgcggg\t0\t+\t25\n",
      "chr9\t135036562\t135037563\tENST00000372179.7_1\t.\t+\tchr9\t135037513\t135037535\tCCCTCGGCCCGCGCCCCCACCC\t0\t-\t22\n",
      "chr9\t44989813\t44990814\tENST00000377542.3_1\t.\t+\tchr9\t44990092\t44990120\tcccgcggccccctctcccacgccgcccc\t0\t-\t28\n",
      "chr9\t67793610\t67794611\tENST00000377484.3\t.\t-\tchr9\t67794304\t67794332\tggggcggcgtgggagagggggccgcggg\t0\t+\t28\n"
     ]
    },
    {
     "data": {
      "text/plain": [
       "394"
      ]
     },
     "execution_count": 16,
     "metadata": {},
     "output_type": "execute_result"
    }
   ],
   "source": [
    "transcripts = []\n",
    "for i in g4_peaks_tss:\n",
    "    c = str(i).rstrip('\\n').split('\\t')\n",
    "    if c[6] != '.':\n",
    "        transcripts.append(c[3])\n",
    "        print (str(i).rstrip('\\n'))\n",
    "len(transcripts)"
   ]
  },
  {
   "cell_type": "code",
   "execution_count": 17,
   "metadata": {
    "ExecuteTime": {
     "end_time": "2017-01-31T21:11:53.777957",
     "start_time": "2017-01-31T21:11:53.566105"
    },
    "collapsed": true,
    "run_control": {
     "frozen": false,
     "read_only": false
    }
   },
   "outputs": [],
   "source": [
    "t_to_g = json.load(open(\n",
    "        '/home/parashar/scratch/quadcomb/data/annotation/gencode_tid_to_gene_name.json'))"
   ]
  },
  {
   "cell_type": "code",
   "execution_count": 18,
   "metadata": {
    "ExecuteTime": {
     "end_time": "2017-01-31T21:11:53.785652",
     "start_time": "2017-01-31T21:11:53.780125"
    },
    "collapsed": true,
    "run_control": {
     "frozen": false,
     "read_only": false
    }
   },
   "outputs": [],
   "source": [
    "genes = []\n",
    "for i in transcripts:\n",
    "    genes.append(t_to_g[i])"
   ]
  },
  {
   "cell_type": "code",
   "execution_count": 19,
   "metadata": {
    "ExecuteTime": {
     "end_time": "2017-01-31T21:11:53.802163",
     "start_time": "2017-01-31T21:11:53.787526"
    },
    "run_control": {
     "frozen": false,
     "read_only": false
    }
   },
   "outputs": [
    {
     "name": "stdout",
     "output_type": "stream",
     "text": [
      "394 72\n"
     ]
    }
   ],
   "source": [
    "print (len(genes), len(set(genes)))"
   ]
  },
  {
   "cell_type": "code",
   "execution_count": 21,
   "metadata": {
    "ExecuteTime": {
     "end_time": "2017-01-31T21:19:30.913864",
     "start_time": "2017-01-31T21:19:30.906587"
    },
    "run_control": {
     "frozen": false,
     "read_only": false
    }
   },
   "outputs": [
    {
     "name": "stdout",
     "output_type": "stream",
     "text": [
      "RNA5S4\n",
      "RNA5S4\n",
      "RNA5S4\n",
      "RNA5S3\n",
      "RNA5S3\n",
      "RNA5S3\n",
      "RNA5S1\n",
      "RNA5S1\n",
      "RNA5S1\n",
      "RNA5S16\n",
      "RNA5S16\n",
      "RNA5S16\n",
      "RNA5S15\n",
      "RNA5S15\n",
      "RNA5S15\n",
      "RNA5S14\n",
      "RNA5S14\n",
      "RNA5S13\n",
      "RNA5S13\n",
      "RNA5S13\n",
      "RNA5S6\n",
      "RNA5S6\n",
      "RNA5S6\n",
      "RNA5S5\n",
      "RNA5S5\n",
      "RNA5S5\n",
      "TINAGL1\n",
      "OPN4\n",
      "OPN4\n",
      "OPN4\n",
      "DUX4L11\n",
      "DUX4L11\n",
      "TENM4\n",
      "TENM4\n",
      "TENM4\n",
      "BAD\n",
      "HMGA2\n",
      "HMGA2\n",
      "HMGA2\n",
      "HMGA2\n",
      "HMGA2\n",
      "HMGA2\n",
      "HMGA2\n",
      "RP3-488M23.3\n",
      "CRACR2A\n",
      "CRACR2A\n",
      "CRACR2A\n",
      "PLEKHG3\n",
      "POLG\n",
      "POLG\n",
      "POLG\n",
      "POLG\n",
      "ANXA2\n",
      "ANXA2\n",
      "ANXA2\n",
      "ANXA2\n",
      "ANXA2\n",
      "ANXA2\n",
      "ANXA2\n",
      "ANXA2\n",
      "ANXA2\n",
      "ANXA2\n",
      "ANXA2\n",
      "ANXA2\n",
      "ANXA2\n",
      "ANXA2\n",
      "ANXA2\n",
      "ANXA2\n",
      "ANXA2\n",
      "ANXA2\n",
      "ANXA2\n",
      "ANXA2\n",
      "ANXA2\n",
      "ANXA2\n",
      "ANXA2\n",
      "ANXA2\n",
      "ANXA2\n",
      "ANXA2\n",
      "ANXA2\n",
      "ANXA2\n",
      "ANXA2\n",
      "ANXA2\n",
      "ANXA2\n",
      "ANXA2\n",
      "ANXA2\n",
      "ANXA2\n",
      "ANXA2\n",
      "ANXA2\n",
      "ANXA2\n",
      "ANXA2\n",
      "ANXA2\n",
      "ANXA2\n",
      "ANXA2\n",
      "ANXA2\n",
      "ANXA2\n",
      "ANXA2\n",
      "ANXA2\n",
      "ANXA2\n",
      "ANXA2\n",
      "ANXA2\n",
      "ANXA2\n",
      "ANXA2\n",
      "ANXA2\n",
      "ANXA2\n",
      "ANXA2\n",
      "ANXA2\n",
      "ANXA2\n",
      "ANXA2\n",
      "ANXA2\n",
      "ANXA2\n",
      "ANXA2\n",
      "ADGRG1\n",
      "CBFA2T3\n",
      "TERF2\n",
      "TERF2\n",
      "TERF2\n",
      "TERF2\n",
      "TERF2\n",
      "TERF2\n",
      "TERF2\n",
      "TERF2\n",
      "TERF2\n",
      "TERF2\n",
      "TERF2\n",
      "TERF2\n",
      "TERF2\n",
      "TERF2\n",
      "TERF2\n",
      "SAMD14\n",
      "SAMD14\n",
      "SAMD14\n",
      "SAMD14\n",
      "SAMD14\n",
      "SAMD14\n",
      "SAMD14\n",
      "SAMD14\n",
      "SAMD14\n",
      "SAMD14\n",
      "SAMD14\n",
      "SAMD14\n",
      "SAMD14\n",
      "SAMD14\n",
      "SAMD14\n",
      "SAMD14\n",
      "SAMD14\n",
      "SAMD14\n",
      "SAMD14\n",
      "SAMD14\n",
      "SAMD14\n",
      "SAMD14\n",
      "SAMD14\n",
      "SAMD14\n",
      "SAMD14\n",
      "SAMD14\n",
      "SAMD14\n",
      "SAMD14\n",
      "SAMD14\n",
      "SAMD14\n",
      "SAMD14\n",
      "SAMD14\n",
      "SAMD14\n",
      "SAMD14\n",
      "SAMD14\n",
      "SAMD14\n",
      "SAMD14\n",
      "SAMD14\n",
      "SGCA\n",
      "SGCA\n",
      "SGCA\n",
      "SGCA\n",
      "SGCA\n",
      "SGCA\n",
      "SGCA\n",
      "SGCA\n",
      "SGCA\n",
      "SGCA\n",
      "SGCA\n",
      "SGCA\n",
      "SGCA\n",
      "AC100791.2\n",
      "AC100791.2\n",
      "CD300A\n",
      "CD300A\n",
      "CD300A\n",
      "CD300A\n",
      "CD300A\n",
      "EXOC7\n",
      "EXOC7\n",
      "EXOC7\n",
      "ALOX12B\n",
      "ALOX12B\n",
      "MIR4314\n",
      "MIR4314\n",
      "ARRB2\n",
      "ARRB2\n",
      "THRA\n",
      "THRA\n",
      "THRA\n",
      "SMAD7\n",
      "SMAD7\n",
      "SMAD7\n",
      "AP005530.1\n",
      "AP005530.1\n",
      "AP005530.1\n",
      "RP11-683L23.6\n",
      "RP11-683L23.6\n",
      "CYP2F2P\n",
      "CYP2F2P\n",
      "SARS2\n",
      "SARS2\n",
      "AC016629.7\n",
      "AC016629.7\n",
      "AC016629.7\n",
      "AC016629.7\n",
      "CENPBD1P1\n",
      "CENPBD1P1\n",
      "CENPBD1P1\n",
      "CENPBD1P1\n",
      "CENPBD1P1\n",
      "CENPBD1P1\n",
      "CENPBD1P1\n",
      "CENPBD1P1\n",
      "CENPBD1P1\n",
      "CENPBD1P1\n",
      "CENPBD1P1\n",
      "CENPBD1P1\n",
      "CTB-60B18.10\n",
      "FAM201B\n",
      "OBSL1\n",
      "OBSL1\n",
      "OBSL1\n",
      "OBSL1\n",
      "OBSL1\n",
      "OBSL1\n",
      "OBSL1\n",
      "OBSL1\n",
      "OBSL1\n",
      "OBSL1\n",
      "OBSL1\n",
      "OBSL1\n",
      "OBSL1\n",
      "OBSL1\n",
      "INHA\n",
      "INHA\n",
      "RAPH1\n",
      "RAPH1\n",
      "RAPH1\n",
      "RAPH1\n",
      "RAPH1\n",
      "RAPH1\n",
      "RAPH1\n",
      "RAPH1\n",
      "RAPH1\n",
      "RAPH1\n",
      "RAPH1\n",
      "RAPH1\n",
      "RAPH1\n",
      "RAPH1\n",
      "RAPH1\n",
      "RAPH1\n",
      "RAPH1\n",
      "RAPH1\n",
      "RAPH1\n",
      "RAPH1\n",
      "RAPH1\n",
      "PRKCE\n",
      "PRKCE\n",
      "PRKCE\n",
      "HAAO\n",
      "TSHZ2\n",
      "TSHZ2\n",
      "MIR3648\n",
      "MIR3648\n",
      "MIR3648\n",
      "MIR3687\n",
      "SLCO2A1\n",
      "SLCO2A1\n",
      "SLCO2A1\n",
      "SLCO2A1\n",
      "SLCO2A1\n",
      "SLCO2A1\n",
      "TCTEX1D2\n",
      "RP11-447L10.1\n",
      "TCTEX1D2\n",
      "TCTEX1D2\n",
      "TM4SF19-AS1\n",
      "TM4SF19-AS1\n",
      "TM4SF19-AS1\n",
      "PCGF3\n",
      "PCGF3\n",
      "PCGF3\n",
      "PCGF3\n",
      "PCGF3\n",
      "PCGF3\n",
      "PCGF3\n",
      "PCGF3\n",
      "PCGF3\n",
      "PCGF3\n",
      "PCGF3\n",
      "PCGF3\n",
      "PCGF3\n",
      "PCGF3\n",
      "PCGF3\n",
      "PCGF3\n",
      "PCGF3\n",
      "PCGF3\n",
      "PCGF3\n",
      "PCGF3\n",
      "TMEM175\n",
      "PCGF3\n",
      "PCGF3\n",
      "PCGF3\n",
      "PCGF3\n",
      "PCGF3\n",
      "PCGF3\n",
      "PCGF3\n",
      "PCGF3\n",
      "PCGF3\n",
      "PCGF3\n",
      "PCGF3\n",
      "PCGF3\n",
      "PCGF3\n",
      "PCGF3\n",
      "PCGF3\n",
      "PCGF3\n",
      "PCGF3\n",
      "PCGF3\n",
      "TERT\n",
      "TERT\n",
      "TERT\n",
      "TERT\n",
      "TERT\n",
      "TERT\n",
      "TERT\n",
      "TERT\n",
      "TERT\n",
      "TERT\n",
      "RP11-514O12.4\n",
      "CPNE5\n",
      "CPNE5\n",
      "CPNE5\n",
      "CPNE5\n",
      "CPNE5\n",
      "CPNE5\n",
      "CPNE5\n",
      "CPNE5\n",
      "PTCHD4\n",
      "PTCHD4\n",
      "PTCHD4\n",
      "PTCHD4\n",
      "PTCHD4\n",
      "PTCHD4\n",
      "RP1-261G23.5\n",
      "RP1-261G23.5\n",
      "TJAP1\n",
      "TJAP1\n",
      "TJAP1\n",
      "KCNH2\n",
      "KCNH2\n",
      "KCNH2\n",
      "KCNH2\n",
      "KCNH2\n",
      "KCNH2\n",
      "CHRM2\n",
      "CHRM2\n",
      "CHRM2\n",
      "CHRM2\n",
      "CHRM2\n",
      "CHRM2\n",
      "CHRM2\n",
      "CHRM2\n",
      "CHRM2\n",
      "CHRM2\n",
      "CHRM2\n",
      "CHRM2\n",
      "CHRM2\n",
      "CREB5\n",
      "CREB5\n",
      "GRB10\n",
      "GRB10\n",
      "RP11-548K12.11\n",
      "LOXL2\n",
      "LOXL2\n",
      "LOXL2\n",
      "RP11-150O12.6\n",
      "RP11-424E7.5\n",
      "RP11-424E7.5\n",
      "NTNG2\n",
      "NTNG2\n",
      "NTNG2\n",
      "NTNG2\n",
      "NTNG2\n",
      "FAM27C\n",
      "FAM27B\n"
     ]
    }
   ],
   "source": [
    "print ('\\n'.join(genes))"
   ]
  },
  {
   "cell_type": "code",
   "execution_count": 20,
   "metadata": {
    "ExecuteTime": {
     "end_time": "2017-01-31T21:11:53.816893",
     "start_time": "2017-01-31T21:11:53.806052"
    },
    "run_control": {
     "frozen": false,
     "read_only": false
    }
   },
   "outputs": [
    {
     "name": "stdout",
     "output_type": "stream",
     "text": [
      "TERF2\n",
      "HAAO\n",
      "TSHZ2\n",
      "CENPBD1P1\n",
      "RP3-488M23.3\n",
      "RP1-261G23.5\n",
      "TMEM175\n",
      "ADGRG1\n",
      "TERT\n",
      "ALOX12B\n",
      "SARS2\n",
      "SGCA\n",
      "SAMD14\n",
      "RAPH1\n",
      "TINAGL1\n",
      "POLG\n",
      "PRKCE\n",
      "TJAP1\n",
      "CREB5\n",
      "THRA\n",
      "DUX4L11\n",
      "GRB10\n",
      "OBSL1\n",
      "BAD\n",
      "FAM27B\n",
      "PTCHD4\n",
      "PCGF3\n",
      "SLCO2A1\n",
      "RP11-683L23.6\n",
      "CBFA2T3\n",
      "AC100791.2\n",
      "AP005530.1\n",
      "INHA\n",
      "TM4SF19-AS1\n",
      "CHRM2\n",
      "NTNG2\n",
      "CTB-60B18.10\n",
      "RP11-548K12.11\n",
      "OPN4\n",
      "CRACR2A\n",
      "LOXL2\n",
      "FAM27C\n",
      "CYP2F2P\n",
      "CPNE5\n",
      "PLEKHG3\n",
      "ARRB2\n",
      "RP11-514O12.4\n",
      "FAM201B\n",
      "TENM4\n",
      "EXOC7\n",
      "SMAD7\n",
      "ANXA2\n",
      "CD300A\n",
      "TCTEX1D2\n",
      "RP11-424E7.5\n",
      "HMGA2\n",
      "AC016629.7\n",
      "KCNH2\n",
      "RP11-150O12.6\n",
      "RP11-447L10.1\n"
     ]
    }
   ],
   "source": [
    "print ('\\n'.join([x for x in set(genes) if x[:3] not in ['RNA', 'MIR'] ]))"
   ]
  },
  {
   "cell_type": "code",
   "execution_count": null,
   "metadata": {
    "collapsed": true,
    "run_control": {
     "frozen": false,
     "read_only": false
    }
   },
   "outputs": [],
   "source": []
  }
 ],
 "metadata": {
  "kernelspec": {
   "display_name": "Python [default]",
   "language": "python",
   "name": "python3"
  },
  "language_info": {
   "codemirror_mode": {
    "name": "ipython",
    "version": 3
   },
   "file_extension": ".py",
   "mimetype": "text/x-python",
   "name": "python",
   "nbconvert_exporter": "python",
   "pygments_lexer": "ipython3",
   "version": "3.5.2"
  }
 },
 "nbformat": 4,
 "nbformat_minor": 1
}
