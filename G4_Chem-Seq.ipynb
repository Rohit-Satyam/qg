{
 "cells": [
  {
   "cell_type": "code",
   "execution_count": 1,
   "metadata": {
    "ExecuteTime": {
     "end_time": "2017-05-05T05:30:49.771356Z",
     "start_time": "2017-05-05T05:30:47.317297Z"
    },
    "collapsed": true,
    "run_control": {
     "frozen": false,
     "read_only": false
    }
   },
   "outputs": [],
   "source": [
    "import numpy as np\n",
    "from tqdm import tqdm\n",
    "import matplotlib.pyplot as plt\n",
    "from scipy.integrate import simps\n",
    "from IPython.display import clear_output\n",
    "import glob\n",
    "import pybedtools as pbt\n",
    "\n",
    "plt.style.use('fivethirtyeight')\n",
    "def clean_axis(ax):\n",
    "    ax.xaxis.set_tick_params(labelsize=9)\n",
    "    ax.yaxis.set_tick_params(labelsize=9)\n",
    "    for i in ['top', 'bottom', 'left', 'right']:\n",
    "        ax.spines[i].set_visible(False)\n",
    "    ax.grid(which='major', linestyle='--', alpha=0.5)\n",
    "    return True"
   ]
  },
  {
   "cell_type": "code",
   "execution_count": 60,
   "metadata": {
    "ExecuteTime": {
     "end_time": "2017-05-05T05:29:19.423277Z",
     "start_time": "2017-05-05T05:28:09.584269Z"
    },
    "run_control": {
     "frozen": true,
     "read_only": true
    }
   },
   "outputs": [],
   "source": [
    "def extract_seq(bed_file):\n",
    "    chroms = ['chr'+str(x) for x in range(1,23)] + ['chrX', 'chrY']\n",
    "    control_chrom_wise_intervals = {}\n",
    "    chrom_wise_intervals = {}\n",
    "    for chrom in chroms:\n",
    "        chrom_wise_intervals[chrom] = []\n",
    "        control_chrom_wise_intervals[chrom] = []\n",
    "    control_bed = []\n",
    "    with open (bed_file) as h:\n",
    "        for l in h:\n",
    "            c = l.split('\\t')\n",
    "            if c[0] in chroms:\n",
    "                chrom_wise_intervals[c[0]].append((int(c[1]), int(c[2])))\n",
    "                len_int = int(c[2]) - int(c[1])\n",
    "                start = int(c[1])-500-len_int\n",
    "                end = int(c[1])-500\n",
    "                control_chrom_wise_intervals[c[0]].append((start, end))\n",
    "                control_bed.append('\\t'.join([chrom, str(start), str(end)]))\n",
    "    \n",
    "    sequences = []\n",
    "    control_sequences = []\n",
    "    fasta_base_dir ='/home/parashar/scratch/hg19_resource/chromosomes'\n",
    "    nuc_map = {'A': 'T', 'G': 'C', 'T': 'A', 'C': 'G', 'N': 'N'}\n",
    "    for chrom in chroms:\n",
    "        print (chrom)\n",
    "        chrom_seq = \"\".join([x.rstrip('\\n') for x in\n",
    "               open(\"%s/%s.fa\" % (fasta_base_dir, chrom)).readlines()[1:]]).upper()\n",
    "        for span in chrom_wise_intervals[chrom]:\n",
    "            sequences.append(chrom_seq[span[0]:span[1]])\n",
    "        for span in control_chrom_wise_intervals[chrom]:\n",
    "            control_sequences.append(chrom_seq[span[0]:span[1]])\n",
    "        clear_output()\n",
    "    with open('../data/chem_seq_g4/peaks.seq', 'w') as OUT:\n",
    "        OUT.write(\"\\n\".join(sequences))\n",
    "    with open('../data/chem_seq_g4/control_peaks.seq', 'w') as OUT:\n",
    "        OUT.write(\"\\n\".join(control_sequences))\n",
    "    with open('../data/chem_seq_g4/control_peaks.bed', 'w') as OUT:\n",
    "        OUT.write(\"\\n\".join(control_bed))\n",
    "\n",
    "extract_seq('../data/chem_seq_g4/common_peaks.bed')"
   ]
  },
  {
   "cell_type": "code",
   "execution_count": 61,
   "metadata": {
    "ExecuteTime": {
     "end_time": "2017-05-05T05:29:32.331534Z",
     "start_time": "2017-05-05T05:29:28.164416Z"
    },
    "run_control": {
     "frozen": true,
     "read_only": true
    },
    "scrolled": true
   },
   "outputs": [],
   "source": [
    "! Rscript G4Hunter.r ../data/chem_seq_g4/peaks.seq ../data/chem_seq_g4/peaks_hunter_scores.txt\n",
    "! Rscript G4Hunter.r ../data/chem_seq_g4/control_peaks.seq ../data/chem_seq_g4/control_peaks_hunter_scores.txt\n",
    "clear_output()"
   ]
  },
  {
   "cell_type": "code",
   "execution_count": 2,
   "metadata": {
    "ExecuteTime": {
     "end_time": "2017-05-05T05:30:56.551769Z",
     "start_time": "2017-05-05T05:30:55.359143Z"
    },
    "run_control": {
     "frozen": false,
     "read_only": false
    }
   },
   "outputs": [],
   "source": [
    "chroms = ['chr'+str(x) for x in range(1,23)] + ['chrX', 'chrY']\n",
    "chrom_info = [x.rstrip('\\n').split('\\t') for x in \n",
    "              open('/home/parashar/scratch/hg19_resource/hg19.genome').readlines()]\n",
    "chrom_info = {x[0]: int(x[1]) for x in chrom_info}\n",
    "\n",
    "peaks_bed = pbt.BedTool('../data/chem_seq_g4/common_peaks.bed')\n",
    "control_bed = pbt.BedTool('../data/chem_seq_g4/control_peaks.bed')\n",
    "\n",
    "scores = []\n",
    "control_scores = []\n",
    "for chrom in chroms:\n",
    "    pos_score = np.load('../data/sniprq_scores/%s_%s.npy' % (chrom, 'positive'), mmap_mode='r')\n",
    "    neg_score = np.load('../data/sniprq_scores/%s_%s.npy' % (chrom, 'negative'), mmap_mode='r')\n",
    "    for i,j in zip(peaks_bed, control_bed):\n",
    "        ci = str(i).rstrip('\\n').split('\\t')\n",
    "        cj = str(j).rstrip('\\n').split('\\t')\n",
    "        if ci[0] == chrom:\n",
    "            scores.append(pos_score[int(ci[1]):int(ci[2])] + neg_score[int(ci[1]):int(ci[2])])\n",
    "            control_scores.append(pos_score[int(cj[1]):int(cj[2])] + neg_score[int(cj[1]):int(cj[2])])\n",
    "np.save('../data/chem_seq_g4/peaks_snipr_scores', np.array(scores))\n",
    "np.save('../data/chem_seq_g4/peaks_snipr_control_scores', np.array(control_scores))"
   ]
  },
  {
   "cell_type": "code",
   "execution_count": 3,
   "metadata": {
    "ExecuteTime": {
     "end_time": "2017-05-05T05:30:57.545586Z",
     "start_time": "2017-05-05T05:30:57.501350Z"
    },
    "collapsed": true
   },
   "outputs": [],
   "source": [
    "peak_snipr = np.load('../data/chem_seq_g4/peaks_snipr_scores.npy')\n",
    "control_snipr = np.load('../data/chem_seq_g4/peaks_snipr_control_scores.npy')"
   ]
  },
  {
   "cell_type": "code",
   "execution_count": 9,
   "metadata": {
    "ExecuteTime": {
     "end_time": "2017-05-05T05:31:33.152188Z",
     "start_time": "2017-05-05T05:31:32.800206Z"
    },
    "run_control": {
     "frozen": false,
     "read_only": false
    }
   },
   "outputs": [
    {
     "data": {
      "image/png": "[encoded data removed]",
      "text/plain": [
       "<matplotlib.figure.Figure at 0x2aac3eaefe10>"
      ]
     },
     "metadata": {},
     "output_type": "display_data"
    }
   ],
   "source": [
    "peak_snipr = np.load('../data/chem_seq_g4/peaks_snipr_scores.npy')\n",
    "control_snipr = np.load('../data/chem_seq_g4/peaks_snipr_control_scores.npy')\n",
    "\n",
    "fig, ax = plt.subplots(1, 1, figsize=(2.2, 2.5))\n",
    "\n",
    "boxprops = dict(linestyle='-', linewidth=1, color='k')\n",
    "whiskerprops = dict(linestyle='--', linewidth=1, color='k')\n",
    "medianprops = dict(linestyle='-', linewidth=1.5, color='crimson')\n",
    "\n",
    "ax.boxplot([[np.sum(x) for x in peak_snipr], [np.sum(x) for x in control_snipr]],\n",
    "           sym='', widths=[0.5, 0.5], boxprops=boxprops, \n",
    "           medianprops=medianprops, whiskerprops=whiskerprops)\n",
    "#ax.set_ylim((-0.05, 0.7))\n",
    "ax.set_ylabel(r'Total $\\xi$ score'+'\\n per peak', fontsize=10)\n",
    "clean_axis(ax)\n",
    "ax.set_xticklabels(['G4 Chem-Seq\\npeaks', 'Random\\npeaks'], rotation=45, fontsize=10)\n",
    "\n",
    "plt.tight_layout()\n",
    "#plt.savefig('../images/g4_chem_seq_exp_scores.png', dpi=300, transparent=True, edgecolor='none')\n",
    "#plt.savefig('../images/g4_chem_seq_exp_scores.svg', transparent=True, edgecolor='none')\n",
    "plt.show()\n",
    "#mannwhitneyu([sum(x) for x in peak_exp], [sum(x) for x in random_exp])"
   ]
  },
  {
   "cell_type": "code",
   "execution_count": 5,
   "metadata": {
    "ExecuteTime": {
     "end_time": "2017-05-05T05:31:01.222185Z",
     "start_time": "2017-05-05T05:31:00.726167Z"
    },
    "run_control": {
     "frozen": false,
     "read_only": false
    }
   },
   "outputs": [
    {
     "data": {
      "image/png": "[encoded data removed]",
      "text/plain": [
       "<matplotlib.figure.Figure at 0x2aac3eafd198>"
      ]
     },
     "metadata": {},
     "output_type": "display_data"
    }
   ],
   "source": [
    "def load_hunter(fn):\n",
    "    s = []\n",
    "    with open(fn) as h:\n",
    "        next(h)\n",
    "        for l in h:\n",
    "            c = l.rstrip('\\n').split('\\t')\n",
    "            s.append(abs(float(c[1])))\n",
    "    s = np.array(s)\n",
    "    return s\n",
    "\n",
    "peak_hunter_scores = load_hunter('../data/chem_seq_g4/peaks_hunter_scores.txt')\n",
    "random_peaks_hunter_scores = load_hunter('../data/chem_seq_g4/control_peaks_hunter_scores.txt')\n",
    "\n",
    "fig, ax = plt.subplots(1, 1, figsize=(2, 2.5))\n",
    "\n",
    "boxprops = dict(linestyle='-', linewidth=1, color='k')\n",
    "whiskerprops = dict(linestyle='--', linewidth=1, color='k')\n",
    "medianprops = dict(linestyle='-', linewidth=1.5, color='crimson')\n",
    "\n",
    "ax.boxplot([peak_hunter_scores, random_peaks_hunter_scores], sym='', widths=[0.5, 0.5],\n",
    "           boxprops=boxprops, \n",
    "           medianprops=medianprops, whiskerprops=whiskerprops)\n",
    "ax.set_ylabel('G4Hunter scores', fontsize=10)\n",
    "ax.set_xticklabels(['G4 Chem-Seq\\npeaks', 'Random\\npeaks'], rotation=45, fontsize=10)\n",
    "clean_axis(ax)\n",
    "\n",
    "plt.tight_layout()\n",
    "plt.savefig('../images/g4_chem_seq_hunter_scores.png', dpi=300, transparent=True, edgecolor='none')\n",
    "plt.savefig('../images/g4_chem_seq_hunter_scores.svg', transparent=True, edgecolor='none')\n",
    "plt.show()"
   ]
  },
  {
   "cell_type": "code",
   "execution_count": null,
   "metadata": {
    "collapsed": true,
    "run_control": {
     "frozen": false,
     "read_only": false
    }
   },
   "outputs": [],
   "source": []
  }
 ],
 "metadata": {
  "kernelspec": {
   "display_name": "Python [default]",
   "language": "python",
   "name": "python3"
  },
  "language_info": {
   "codemirror_mode": {
    "name": "ipython",
    "version": 3
   },
   "file_extension": ".py",
   "mimetype": "text/x-python",
   "name": "python",
   "nbconvert_exporter": "python",
   "pygments_lexer": "ipython3",
   "version": "3.5.2"
  }
 },
 "nbformat": 4,
 "nbformat_minor": 1
}
