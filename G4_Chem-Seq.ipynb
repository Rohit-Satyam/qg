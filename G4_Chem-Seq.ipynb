{
 "cells": [
  {
   "cell_type": "code",
   "execution_count": 1,
   "metadata": {
    "ExecuteTime": {
     "end_time": "2017-02-11T06:42:27.280857",
     "start_time": "2017-02-11T06:42:24.560083"
    },
    "collapsed": true,
    "run_control": {
     "frozen": false,
     "read_only": false
    }
   },
   "outputs": [],
   "source": [
    "import numpy as np\n",
    "from tqdm import tqdm\n",
    "import matplotlib.pyplot as plt\n",
    "from scipy.integrate import simps\n",
    "from IPython.display import clear_output\n",
    "import glob\n",
    "import pybedtools as pbt\n",
    "\n",
    "plt.style.use('fivethirtyeight')\n",
    "def clean_axis(ax):\n",
    "    ax.xaxis.set_tick_params(labelsize=9)\n",
    "    ax.yaxis.set_tick_params(labelsize=9)\n",
    "    for i in ['top', 'bottom', 'left', 'right']:\n",
    "        ax.spines[i].set_visible(False)\n",
    "    ax.grid(which='major', linestyle='--', alpha=0.5)\n",
    "    return True"
   ]
  },
  {
   "cell_type": "code",
   "execution_count": 15,
   "metadata": {
    "ExecuteTime": {
     "end_time": "2017-02-11T06:57:28.593212",
     "start_time": "2017-02-11T06:55:09.365466"
    },
    "collapsed": false
   },
   "outputs": [],
   "source": [
    "def extract_seq(bed_file, fasta_file, out_name):\n",
    "    chroms = ['chr'+str(x) for x in range(1,23)] + ['chrX', 'chrY']\n",
    "    chrom_wise_intervals = {}\n",
    "    for chrom in chroms:\n",
    "        chrom_wise_intervals[chrom] = []\n",
    "    with open (bed_file) as h:\n",
    "        for l in h:\n",
    "            c = l.split('\\t')\n",
    "            if c[0] in chroms:\n",
    "                chrom_wise_intervals[c[0]].append((int(c[1]), int(c[2])))\n",
    "    \n",
    "    sequences = []\n",
    "    fasta_base_dir ='/home/parashar/scratch/hg19_resource/chromosomes'\n",
    "    nuc_map = {'A': 'T', 'G': 'C', 'T': 'A', 'C': 'G', 'N': 'N'}\n",
    "    for chrom in chroms:\n",
    "        print (chrom)\n",
    "        chrom_seq = \"\".join([x.rstrip('\\n') for x in\n",
    "               open(\"%s/%s.fa\" % (fasta_base_dir, chrom)).readlines()[1:]]).upper()\n",
    "        for span in chrom_wise_intervals[chrom]:\n",
    "            sequences.append(chrom_seq[span[0]:span[1]])\n",
    "        clear_output()\n",
    "    with open(out_name, 'w') as OUT:\n",
    "        OUT.write(\"\\n\".join(sequences))\n",
    "\n",
    "peaks_bed = pbt.BedTool('../data/chem_seq_g4/common_peaks.bed')\n",
    "random_bed = peaks_bed.shuffle(g='/home/parashar/scratch/hg19_resource/hg19.genome', chrom=True).saveas(\n",
    "    '../data/chem_seq_g4/random_peaks.bed')\n",
    "extract_seq('../data/chem_seq_g4/common_peaks.bed',\n",
    "            '/home/parashar/scratch/hg19_resource/genome.fa', '../data/chem_seq_g4/peaks.seq')\n",
    "extract_seq('../data/chem_seq_g4/random_peaks.bed',\n",
    "            '/home/parashar/scratch/hg19_resource/genome.fa', '../data/chem_seq_g4/random_peaks.seq')"
   ]
  },
  {
   "cell_type": "code",
   "execution_count": 16,
   "metadata": {
    "ExecuteTime": {
     "end_time": "2017-02-11T06:57:32.746811",
     "start_time": "2017-02-11T06:57:28.597528"
    },
    "collapsed": false
   },
   "outputs": [
    {
     "name": "stdout",
     "output_type": "stream",
     "text": [
      "[1] \"../data/chem_seq_g4/peaks.seq\"              \n",
      "[2] \"../data/chem_seq_g4/peaks_hunter_scores.txt\"\n",
      "Loading required package: S4Vectors\n",
      "Loading required package: methods\n",
      "Loading required package: stats4\n",
      "Loading required package: BiocGenerics\n",
      "Loading required package: parallel\n",
      "\n",
      "Attaching package: ‘BiocGenerics’\n",
      "\n",
      "The following objects are masked from ‘package:parallel’:\n",
      "\n",
      "    clusterApply, clusterApplyLB, clusterCall, clusterEvalQ,\n",
      "    clusterExport, clusterMap, parApply, parCapply, parLapply,\n",
      "    parLapplyLB, parRapply, parSapply, parSapplyLB\n",
      "\n",
      "The following objects are masked from ‘package:stats’:\n",
      "\n",
      "    IQR, mad, xtabs\n",
      "\n",
      "The following objects are masked from ‘package:base’:\n",
      "\n",
      "    anyDuplicated, append, as.data.frame, cbind, colnames, do.call,\n",
      "    duplicated, eval, evalq, Filter, Find, get, grep, grepl, intersect,\n",
      "    is.unsorted, lapply, lengths, Map, mapply, match, mget, order,\n",
      "    paste, pmax, pmax.int, pmin, pmin.int, Position, rank, rbind,\n",
      "    Reduce, rownames, sapply, setdiff, sort, table, tapply, union,\n",
      "    unique, unsplit, which, which.max, which.min\n",
      "\n",
      "\n",
      "Attaching package: ‘S4Vectors’\n",
      "\n",
      "The following objects are masked from ‘package:base’:\n",
      "\n",
      "    colMeans, colSums, expand.grid, rowMeans, rowSums\n",
      "\n",
      "[1] \"../data/chem_seq_g4/random_peaks.seq\"              \n",
      "[2] \"../data/chem_seq_g4/random_peaks_hunter_scores.txt\"\n",
      "Loading required package: S4Vectors\n",
      "Loading required package: methods\n",
      "Loading required package: stats4\n",
      "Loading required package: BiocGenerics\n",
      "Loading required package: parallel\n",
      "\n",
      "Attaching package: ‘BiocGenerics’\n",
      "\n",
      "The following objects are masked from ‘package:parallel’:\n",
      "\n",
      "    clusterApply, clusterApplyLB, clusterCall, clusterEvalQ,\n",
      "    clusterExport, clusterMap, parApply, parCapply, parLapply,\n",
      "    parLapplyLB, parRapply, parSapply, parSapplyLB\n",
      "\n",
      "The following objects are masked from ‘package:stats’:\n",
      "\n",
      "    IQR, mad, xtabs\n",
      "\n",
      "The following objects are masked from ‘package:base’:\n",
      "\n",
      "    anyDuplicated, append, as.data.frame, cbind, colnames, do.call,\n",
      "    duplicated, eval, evalq, Filter, Find, get, grep, grepl, intersect,\n",
      "    is.unsorted, lapply, lengths, Map, mapply, match, mget, order,\n",
      "    paste, pmax, pmax.int, pmin, pmin.int, Position, rank, rbind,\n",
      "    Reduce, rownames, sapply, setdiff, sort, table, tapply, union,\n",
      "    unique, unsplit, which, which.max, which.min\n",
      "\n",
      "\n",
      "Attaching package: ‘S4Vectors’\n",
      "\n",
      "The following objects are masked from ‘package:base’:\n",
      "\n",
      "    colMeans, colSums, expand.grid, rowMeans, rowSums\n",
      "\n"
     ]
    }
   ],
   "source": [
    "! Rscript G4Hunter.r ../data/chem_seq_g4/peaks.seq ../data/chem_seq_g4/peaks_hunter_scores.txt\n",
    "! Rscript G4Hunter.r ../data/chem_seq_g4/random_peaks.seq ../data/chem_seq_g4/random_peaks_hunter_scores.txt"
   ]
  },
  {
   "cell_type": "code",
   "execution_count": 17,
   "metadata": {
    "ExecuteTime": {
     "end_time": "2017-02-11T06:58:10.449033",
     "start_time": "2017-02-11T06:57:32.752192"
    },
    "collapsed": false
   },
   "outputs": [],
   "source": [
    "chroms = ['chr'+str(x) for x in range(1,23)] + ['chrX', 'chrY']\n",
    "chrom_info = [x.rstrip('\\n').split('\\t') for x in \n",
    "              open('/home/parashar/scratch/hg19_resource/hg19.genome').readlines()]\n",
    "chrom_info = {x[0]: int(x[1]) for x in chrom_info}\n",
    "\n",
    "peaks_bed = pbt.BedTool('../data/chem_seq_g4/common_peaks.bed')\n",
    "random_bed = pbt.BedTool('../data/chem_seq_g4/random_peaks.bed')\n",
    "\n",
    "scores = []\n",
    "random_scores = []\n",
    "for chrom in chroms:\n",
    "    exp_s = np.zeros(chrom_info[chrom])\n",
    "    for strand in ['positive', 'negative']:\n",
    "        scores_dir = '../data/quad_graph_single_base_scores/%s/%s/*_exp_score.npy' % (\n",
    "            chrom, strand)\n",
    "        for fn in tqdm(glob.glob(scores_dir), desc=\"%s %s\" % (chrom, strand)):\n",
    "            exp = np.load(fn)\n",
    "            if exp.shape[0] > 1:\n",
    "                e_indices = np.array(exp[:, 0], dtype=int)\n",
    "                e_scores = np.array(exp[:, 1], dtype=float)\n",
    "                exp_s[e_indices] += e_scores\n",
    "    for i in peaks_bed:\n",
    "        c = str(i).rstrip('\\n').split('\\t')\n",
    "        if c[0] == chrom:\n",
    "            scores.append(exp_s[int(c[1]):int(c[2])])\n",
    "    for i in random_bed:\n",
    "        c = str(i).rstrip('\\n').split('\\t')\n",
    "        if c[0] == chrom:\n",
    "            random_scores.append(exp_s[int(c[1]):int(c[2])])\n",
    "    clear_output()\n",
    "scores = np.array(scores)\n",
    "random_scores = np.array(random_scores)\n",
    "np.save('../data/chem_seq_g4/peaks_exp_scores', scores)\n",
    "np.save('../data/chem_seq_g4/peaks_exp_random_scores', random_scores)"
   ]
  },
  {
   "cell_type": "code",
   "execution_count": 28,
   "metadata": {
    "ExecuteTime": {
     "end_time": "2017-02-11T07:22:49.406051",
     "start_time": "2017-02-11T07:22:48.650488"
    },
    "collapsed": false
   },
   "outputs": [
    {
     "data": {
      "image/png": "[encoded data removed]",
      "text/plain": [
       "<matplotlib.figure.Figure at 0x2baeab579be0>"
      ]
     },
     "metadata": {},
     "output_type": "display_data"
    }
   ],
   "source": [
    "peak_exp = np.load('../data/chem_seq_g4/peaks_exp_scores.npy')\n",
    "random_exp = np.load('../data/chem_seq_g4/peaks_exp_random_scores.npy')\n",
    "\n",
    "fig, ax = plt.subplots(1, 1, figsize=(2.2, 2.5))\n",
    "\n",
    "boxprops = dict(linestyle='-', linewidth=1, color='k')\n",
    "whiskerprops = dict(linestyle='--', linewidth=1, color='k')\n",
    "medianprops = dict(linestyle='-', linewidth=1.5, color='crimson')\n",
    "\n",
    "ax.boxplot([[max(x) for x in peak_exp], [max(x) for x in random_exp]], sym='', widths=[0.5, 0.5],\n",
    "           boxprops=boxprops, \n",
    "           medianprops=medianprops, whiskerprops=whiskerprops)\n",
    "#ax.set_ylim((-0.05, 0.7))\n",
    "ax.set_ylabel(r'Total $\\xi$ score'+'\\n per peak', fontsize=10)\n",
    "clean_axis(ax)\n",
    "ax.set_xticklabels(['G4 Chem-Seq\\npeaks', 'Random\\npeaks'], rotation=45, fontsize=10)\n",
    "\n",
    "plt.tight_layout()\n",
    "plt.savefig('../images/g4_chem_seq_exp_scores.png', dpi=300, transparent=True, edgecolor='none')\n",
    "plt.savefig('../images/g4_chem_seq_exp_scores.svg', transparent=True, edgecolor='none')\n",
    "plt.show()\n",
    "#mannwhitneyu([sum(x) for x in peak_exp], [sum(x) for x in random_exp])"
   ]
  },
  {
   "cell_type": "code",
   "execution_count": 24,
   "metadata": {
    "ExecuteTime": {
     "end_time": "2017-02-11T07:12:38.625137",
     "start_time": "2017-02-11T07:12:38.527830"
    },
    "collapsed": false
   },
   "outputs": [
    {
     "data": {
      "text/plain": [
       "254"
      ]
     },
     "execution_count": 24,
     "metadata": {},
     "output_type": "execute_result"
    }
   ],
   "source": [
    "len([max(x) for x in peak_exp if max(x) > 0.15])"
   ]
  },
  {
   "cell_type": "code",
   "execution_count": 27,
   "metadata": {
    "ExecuteTime": {
     "end_time": "2017-02-11T07:13:37.257531",
     "start_time": "2017-02-11T07:13:36.802810"
    },
    "collapsed": false
   },
   "outputs": [
    {
     "name": "stdout",
     "output_type": "stream",
     "text": [
      "(120,)\n",
      "(0,)\n"
     ]
    },
    {
     "data": {
      "image/png": "[encoded data removed]",
      "text/plain": [
       "<matplotlib.figure.Figure at 0x2baeab6f64e0>"
      ]
     },
     "metadata": {},
     "output_type": "display_data"
    }
   ],
   "source": [
    "def load_hunter(fn):\n",
    "    s = []\n",
    "    with open(fn) as h:\n",
    "        next(h)\n",
    "        for l in h:\n",
    "            c = l.rstrip('\\n').split('\\t')\n",
    "            s.append(float(c[1]))\n",
    "    s = np.array(s)\n",
    "    s = s[s>0.5]\n",
    "    print (s.shape)\n",
    "    return s\n",
    "\n",
    "peak_hunter_scores = load_hunter('../data/chem_seq_g4/peaks_hunter_scores.txt')\n",
    "random_peaks_hunter_scores = load_hunter('../data/chem_seq_g4/random_peaks_hunter_scores.txt')\n",
    "\n",
    "fig, ax = plt.subplots(1, 1, figsize=(2, 2.5))\n",
    "\n",
    "boxprops = dict(linestyle='-', linewidth=1, color='k')\n",
    "whiskerprops = dict(linestyle='--', linewidth=1, color='k')\n",
    "medianprops = dict(linestyle='-', linewidth=1.5, color='crimson')\n",
    "\n",
    "ax.boxplot([peak_hunter_scores, random_peaks_hunter_scores], sym='', widths=[0.5, 0.5],\n",
    "           boxprops=boxprops, \n",
    "           medianprops=medianprops, whiskerprops=whiskerprops)\n",
    "\n",
    "ax.set_ylabel('G4Hunter scores', fontsize=10)\n",
    "clean_axis(ax)\n",
    "ax.set_xticklabels(['G4 Chem-Seq\\npeaks', 'Random\\npeaks'], rotation=45, fontsize=10)\n",
    "\n",
    "plt.tight_layout()\n",
    "plt.savefig('../images/g4_chem_seq_hunter_scores.png', dpi=300, transparent=True, edgecolor='none')\n",
    "plt.savefig('../images/g4_chem_seq_hunter_scores.svg', transparent=True, edgecolor='none')\n",
    "plt.show()"
   ]
  },
  {
   "cell_type": "code",
   "execution_count": null,
   "metadata": {
    "collapsed": true
   },
   "outputs": [],
   "source": []
  }
 ],
 "metadata": {
  "kernelspec": {
   "display_name": "Python [default]",
   "language": "python",
   "name": "python3"
  },
  "language_info": {
   "codemirror_mode": {
    "name": "ipython",
    "version": 3
   },
   "file_extension": ".py",
   "mimetype": "text/x-python",
   "name": "python",
   "nbconvert_exporter": "python",
   "pygments_lexer": "ipython3",
   "version": "3.5.2"
  }
 },
 "nbformat": 4,
 "nbformat_minor": 1
}
