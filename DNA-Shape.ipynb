{
 "cells": [
  {
   "cell_type": "code",
   "execution_count": 1,
   "metadata": {
    "ExecuteTime": {
     "end_time": "2017-05-05T04:37:35.498414Z",
     "start_time": "2017-05-05T04:37:31.267149Z"
    },
    "collapsed": true,
    "run_control": {
     "frozen": false,
     "read_only": false
    }
   },
   "outputs": [],
   "source": [
    "import numpy as np\n",
    "from tqdm import tqdm\n",
    "from IPython.display import clear_output\n",
    "import matplotlib.pyplot as plt\n",
    "from scipy.stats import zscore, mannwhitneyu\n",
    "import h5py\n",
    "import glob\n",
    "\n",
    "plt.style.use('fivethirtyeight')\n",
    "def clean_axis(ax):\n",
    "    ax.xaxis.set_tick_params(labelsize=11)\n",
    "    ax.yaxis.set_tick_params(labelsize=11)\n",
    "    for i in ['top', 'bottom', 'left', 'right']:\n",
    "        ax.spines[i].set_visible(False)\n",
    "    ax.grid(which='major', linestyle='--', alpha=0.7)\n",
    "    return True"
   ]
  },
  {
   "cell_type": "code",
   "execution_count": 2,
   "metadata": {
    "ExecuteTime": {
     "end_time": "2017-05-05T04:37:35.519417Z",
     "start_time": "2017-05-05T04:37:35.504733Z"
    },
    "collapsed": true,
    "run_control": {
     "frozen": false,
     "read_only": false
    }
   },
   "outputs": [],
   "source": [
    "chroms = ['chr'+str(x) for x in range(1,23)] + ['chrX', 'chrY']\n",
    "chrom_info = [x.rstrip('\\n').split('\\t') for x in \n",
    "              open('/home/parashar/scratch/hg19_resource/hg19.genome').readlines()]\n",
    "chrom_info = {x[0]: int(x[1]) for x in chrom_info}"
   ]
  },
  {
   "cell_type": "code",
   "execution_count": 17,
   "metadata": {
    "ExecuteTime": {
     "end_time": "2017-05-05T04:41:47.457173Z",
     "start_time": "2017-05-05T04:41:46.685874Z"
    },
    "run_control": {
     "frozen": false,
     "read_only": false
    }
   },
   "outputs": [],
   "source": [
    "chrom = 'chr10'\n",
    "scores = np.load('../data/sniprq_scores/chr10_positive.npy')"
   ]
  },
  {
   "cell_type": "code",
   "execution_count": 43,
   "metadata": {
    "ExecuteTime": {
     "end_time": "2017-05-05T04:44:35.266904Z",
     "start_time": "2017-05-05T04:44:28.627359Z"
    },
    "collapsed": true,
    "run_control": {
     "frozen": false,
     "read_only": false
    }
   },
   "outputs": [],
   "source": [
    "shape = np.array(h5py.File(\n",
    "        '../data/dna_shape/hdf5_files/chr10_Roll.h5')['shape']['Roll'])[:, 0]"
   ]
  },
  {
   "cell_type": "code",
   "execution_count": 44,
   "metadata": {
    "ExecuteTime": {
     "end_time": "2017-05-05T04:44:35.278254Z",
     "start_time": "2017-05-05T04:44:35.269978Z"
    },
    "run_control": {
     "frozen": false,
     "read_only": false
    }
   },
   "outputs": [
    {
     "data": {
      "text/plain": [
       "((135534747,), (135534746,))"
      ]
     },
     "execution_count": 44,
     "metadata": {},
     "output_type": "execute_result"
    }
   ],
   "source": [
    "scores.shape, shape.shape"
   ]
  },
  {
   "cell_type": "code",
   "execution_count": 45,
   "metadata": {
    "ExecuteTime": {
     "end_time": "2017-05-05T04:44:36.799208Z",
     "start_time": "2017-05-05T04:44:35.281738Z"
    },
    "run_control": {
     "frozen": false,
     "read_only": false
    }
   },
   "outputs": [
    {
     "name": "stdout",
     "output_type": "stream",
     "text": [
      "(2364814,) -4551535.13001\n"
     ]
    }
   ],
   "source": [
    "idx = np.where((scores < 5) & (scores > 0))[0]\n",
    "shape_low = shape[idx]\n",
    "shape_low = shape_low[~np.isnan(shape_low)]\n",
    "print (idx.shape, sum(shape_low))"
   ]
  },
  {
   "cell_type": "code",
   "execution_count": 46,
   "metadata": {
    "ExecuteTime": {
     "end_time": "2017-05-05T04:44:37.393433Z",
     "start_time": "2017-05-05T04:44:36.802708Z"
    },
    "run_control": {
     "frozen": false,
     "read_only": false
    }
   },
   "outputs": [
    {
     "name": "stdout",
     "output_type": "stream",
     "text": [
      "(263049,) -507827.83\n"
     ]
    }
   ],
   "source": [
    "idx = np.where(scores > 200)[0]\n",
    "shape_hi = shape[idx]\n",
    "shape_hi = shape_hi[~np.isnan(shape_hi)]\n",
    "print (idx.shape, sum(shape_hi))"
   ]
  },
  {
   "cell_type": "code",
   "execution_count": 47,
   "metadata": {
    "ExecuteTime": {
     "end_time": "2017-05-05T04:44:38.152369Z",
     "start_time": "2017-05-05T04:44:37.396365Z"
    },
    "run_control": {
     "frozen": false,
     "read_only": false
    },
    "scrolled": true
   },
   "outputs": [
    {
     "data": {
      "image/png": "[encoded data removed]",
      "text/plain": [
       "<matplotlib.figure.Figure at 0x2b1e840b7e48>"
      ]
     },
     "metadata": {},
     "output_type": "display_data"
    }
   ],
   "source": [
    "plt.hist(shape_hi, bins=50, alpha=0.6, color='crimson', normed=True)\n",
    "plt.hist(shape_low, bins=50, alpha=0.6, color='dodgerblue', normed=True)\n",
    "plt.show()"
   ]
  },
  {
   "cell_type": "code",
   "execution_count": 154,
   "metadata": {
    "ExecuteTime": {
     "end_time": "2017-02-15T15:45:25.092623",
     "start_time": "2017-02-15T15:45:25.076020"
    },
    "run_control": {
     "frozen": false,
     "read_only": false
    }
   },
   "outputs": [
    {
     "data": {
      "text/plain": [
       "(33.895409582017969, 34.244876626965514)"
      ]
     },
     "execution_count": 154,
     "metadata": {},
     "output_type": "execute_result"
    }
   ],
   "source": [
    "np.mean(shape_hi), np.mean(shape_low)"
   ]
  },
  {
   "cell_type": "code",
   "execution_count": 156,
   "metadata": {
    "ExecuteTime": {
     "end_time": "2017-02-15T15:46:24.347765",
     "start_time": "2017-02-15T15:46:23.118922"
    },
    "run_control": {
     "frozen": false,
     "read_only": false
    }
   },
   "outputs": [
    {
     "data": {
      "text/plain": [
       "MannwhitneyuResult(statistic=885368663406.5, pvalue=0.0)"
      ]
     },
     "execution_count": 156,
     "metadata": {},
     "output_type": "execute_result"
    }
   ],
   "source": [
    "mannwhitneyu(shape_hi, shape_low)"
   ]
  },
  {
   "cell_type": "raw",
   "metadata": {},
   "source": [
    "(i) MGW > 8.5 Å or < 1.5 Å (∼5.8 Å in B-DNA); (ii) HelT > 45° (∼35° in B-DNA); and (iii) |Roll| > 20° (∼0° in B-DNA).\n",
    "\n",
    "http://rohslab.cmb.usc.edu/DNAshape/serverHelp.html"
   ]
  }
 ],
 "metadata": {
  "kernelspec": {
   "display_name": "Python [default]",
   "language": "python",
   "name": "python3"
  },
  "language_info": {
   "codemirror_mode": {
    "name": "ipython",
    "version": 3
   },
   "file_extension": ".py",
   "mimetype": "text/x-python",
   "name": "python",
   "nbconvert_exporter": "python",
   "pygments_lexer": "ipython3",
   "version": "3.5.2"
  }
 },
 "nbformat": 4,
 "nbformat_minor": 1
}
