{
 "cells": [
  {
   "cell_type": "code",
   "execution_count": 19,
   "metadata": {
    "ExecuteTime": {
     "end_time": "2017-02-15T14:55:53.019809",
     "start_time": "2017-02-15T14:55:53.006372"
    },
    "collapsed": true,
    "run_control": {
     "frozen": false,
     "read_only": false
    }
   },
   "outputs": [],
   "source": [
    "import numpy as np\n",
    "from tqdm import tqdm\n",
    "from IPython.display import clear_output\n",
    "import matplotlib.pyplot as plt\n",
    "from scipy.stats import zscore, mannwhitneyu\n",
    "import h5py\n",
    "import glob\n",
    "\n",
    "plt.style.use('fivethirtyeight')\n",
    "def clean_axis(ax):\n",
    "    ax.xaxis.set_tick_params(labelsize=11)\n",
    "    ax.yaxis.set_tick_params(labelsize=11)\n",
    "    for i in ['top', 'bottom', 'left', 'right']:\n",
    "        ax.spines[i].set_visible(False)\n",
    "    ax.grid(which='major', linestyle='--', alpha=0.7)\n",
    "    return True"
   ]
  },
  {
   "cell_type": "code",
   "execution_count": 17,
   "metadata": {
    "ExecuteTime": {
     "end_time": "2017-02-15T14:55:16.284907",
     "start_time": "2017-02-15T14:55:16.261609"
    },
    "collapsed": true,
    "run_control": {
     "frozen": false,
     "read_only": false
    }
   },
   "outputs": [],
   "source": [
    "chroms = ['chr'+str(x) for x in range(1,23)] + ['chrX', 'chrY']\n",
    "chrom_info = [x.rstrip('\\n').split('\\t') for x in \n",
    "              open('/home/parashar/scratch/hg19_resource/hg19.genome').readlines()]\n",
    "chrom_info = {x[0]: int(x[1]) for x in chrom_info}"
   ]
  },
  {
   "cell_type": "code",
   "execution_count": 53,
   "metadata": {
    "ExecuteTime": {
     "end_time": "2017-02-15T15:08:33.291599",
     "start_time": "2017-02-15T15:08:10.861051"
    },
    "collapsed": false,
    "run_control": {
     "frozen": false,
     "read_only": false
    }
   },
   "outputs": [
    {
     "name": "stderr",
     "output_type": "stream",
     "text": [
      "chr1 positive: 100%|██████████| 250/250 [00:11<00:00, 26.90it/s]\n",
      "chr1 negative: 100%|██████████| 250/250 [00:10<00:00, 22.81it/s]\n"
     ]
    }
   ],
   "source": [
    "chrom = 'chr1'\n",
    "exp_s = np.zeros(chrom_info[chrom])\n",
    "for strand in ['positive', 'negative']:\n",
    "    scores_dir = '../data/quad_graph_single_base_scores/%s/%s/*_exp_score.npy' % (\n",
    "        chrom, strand)\n",
    "    for fn in tqdm(glob.glob(scores_dir), desc=\"%s %s\" % (chrom, strand)):\n",
    "        exp = np.load(fn)\n",
    "        if exp.shape[0] > 1:\n",
    "            e_indices = np.array(exp[:, 0], dtype=int)\n",
    "            e_scores = np.array([2**(-1/x) if x > 0  else 0 for x in exp[:, 1]], dtype=float)\n",
    "            exp_s[e_indices] += e_scores"
   ]
  },
  {
   "cell_type": "code",
   "execution_count": 150,
   "metadata": {
    "ExecuteTime": {
     "end_time": "2017-02-15T15:45:21.041322",
     "start_time": "2017-02-15T15:45:10.324737"
    },
    "collapsed": true,
    "run_control": {
     "frozen": false,
     "read_only": false
    }
   },
   "outputs": [],
   "source": [
    "shape = np.array(h5py.File(\n",
    "        '../data/dna_shape/hdf5_files/chr1_HelT.h5')['shape']['HelT'])[:, 0]"
   ]
  },
  {
   "cell_type": "code",
   "execution_count": 133,
   "metadata": {
    "ExecuteTime": {
     "end_time": "2017-02-15T15:37:49.011124",
     "start_time": "2017-02-15T15:37:49.004913"
    },
    "collapsed": false,
    "run_control": {
     "frozen": false,
     "read_only": false
    }
   },
   "outputs": [
    {
     "data": {
      "text/plain": [
       "((249250621,), (249250620,))"
      ]
     },
     "execution_count": 133,
     "metadata": {},
     "output_type": "execute_result"
    }
   ],
   "source": [
    "exp_s.shape, shape.shape"
   ]
  },
  {
   "cell_type": "code",
   "execution_count": 151,
   "metadata": {
    "ExecuteTime": {
     "end_time": "2017-02-15T15:45:23.274997",
     "start_time": "2017-02-15T15:45:21.044665"
    },
    "collapsed": false,
    "run_control": {
     "frozen": false,
     "read_only": false
    }
   },
   "outputs": [
    {
     "name": "stdout",
     "output_type": "stream",
     "text": [
      "(3113849,)\n"
     ]
    }
   ],
   "source": [
    "idx = np.where((exp_s < 0.00001) & (exp_s > 0))[0]\n",
    "shape_low = shape[idx]\n",
    "shape_low = shape_low[~np.isnan(shape_low)]\n",
    "print (idx.shape)"
   ]
  },
  {
   "cell_type": "code",
   "execution_count": 152,
   "metadata": {
    "ExecuteTime": {
     "end_time": "2017-02-15T15:45:24.380018",
     "start_time": "2017-02-15T15:45:23.277844"
    },
    "collapsed": false,
    "run_control": {
     "frozen": false,
     "read_only": false
    }
   },
   "outputs": [
    {
     "name": "stdout",
     "output_type": "stream",
     "text": [
      "(713691,)\n"
     ]
    }
   ],
   "source": [
    "idx = np.where(exp_s > 0.1)[0]\n",
    "shape_hi = shape[idx]\n",
    "print (idx.shape)"
   ]
  },
  {
   "cell_type": "code",
   "execution_count": 153,
   "metadata": {
    "ExecuteTime": {
     "end_time": "2017-02-15T15:45:25.073552",
     "start_time": "2017-02-15T15:45:24.382819"
    },
    "collapsed": false,
    "run_control": {
     "frozen": false,
     "read_only": false
    },
    "scrolled": true
   },
   "outputs": [
    {
     "data": {
      "image/png": "[encoded data removed]",
      "text/plain": [
       "<matplotlib.figure.Figure at 0x2b85e3b900b8>"
      ]
     },
     "metadata": {},
     "output_type": "display_data"
    }
   ],
   "source": [
    "plt.hist(shape_hi, bins=50, alpha=0.6, color='crimson', normed=True)\n",
    "plt.hist(shape_low, bins=50, alpha=0.6, color='dodgerblue', normed=True)\n",
    "plt.show()"
   ]
  },
  {
   "cell_type": "code",
   "execution_count": 154,
   "metadata": {
    "ExecuteTime": {
     "end_time": "2017-02-15T15:45:25.092623",
     "start_time": "2017-02-15T15:45:25.076020"
    },
    "collapsed": false,
    "run_control": {
     "frozen": false,
     "read_only": false
    }
   },
   "outputs": [
    {
     "data": {
      "text/plain": [
       "(33.895409582017969, 34.244876626965514)"
      ]
     },
     "execution_count": 154,
     "metadata": {},
     "output_type": "execute_result"
    }
   ],
   "source": [
    "np.mean(shape_hi), np.mean(shape_low)"
   ]
  },
  {
   "cell_type": "code",
   "execution_count": 156,
   "metadata": {
    "ExecuteTime": {
     "end_time": "2017-02-15T15:46:24.347765",
     "start_time": "2017-02-15T15:46:23.118922"
    },
    "collapsed": false,
    "run_control": {
     "frozen": false,
     "read_only": false
    }
   },
   "outputs": [
    {
     "data": {
      "text/plain": [
       "MannwhitneyuResult(statistic=885368663406.5, pvalue=0.0)"
      ]
     },
     "execution_count": 156,
     "metadata": {},
     "output_type": "execute_result"
    }
   ],
   "source": [
    "mannwhitneyu(shape_hi, shape_low)"
   ]
  },
  {
   "cell_type": "raw",
   "metadata": {},
   "source": [
    "(i) MGW > 8.5 Å or < 1.5 Å (∼5.8 Å in B-DNA); (ii) HelT > 45° (∼35° in B-DNA); and (iii) |Roll| > 20° (∼0° in B-DNA).\n",
    "\n",
    "http://rohslab.cmb.usc.edu/DNAshape/serverHelp.html"
   ]
  }
 ],
 "metadata": {
  "kernelspec": {
   "display_name": "Python [default]",
   "language": "python",
   "name": "python3"
  },
  "language_info": {
   "codemirror_mode": {
    "name": "ipython",
    "version": 3
   },
   "file_extension": ".py",
   "mimetype": "text/x-python",
   "name": "python",
   "nbconvert_exporter": "python",
   "pygments_lexer": "ipython3",
   "version": "3.5.2"
  }
 },
 "nbformat": 4,
 "nbformat_minor": 1
}
