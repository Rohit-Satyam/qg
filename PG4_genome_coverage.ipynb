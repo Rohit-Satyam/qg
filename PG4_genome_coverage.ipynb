{
 "cells": [
  {
   "cell_type": "code",
   "execution_count": 43,
   "metadata": {
    "ExecuteTime": {
     "end_time": "2017-05-08T09:04:13.342480Z",
     "start_time": "2017-05-08T09:04:12.939006Z"
    },
    "collapsed": true,
    "run_control": {
     "frozen": false,
     "read_only": false
    }
   },
   "outputs": [],
   "source": [
    "import pybedtools as pbt\n",
    "import numpy as np\n",
    "from tqdm import tqdm\n",
    "import matplotlib.pyplot as plt\n",
    "\n",
    "plt.style.use('fivethirtyeight')\n",
    "def clean_axis(ax):\n",
    "    ax.xaxis.set_tick_params(labelsize=9)\n",
    "    ax.yaxis.set_tick_params(labelsize=9)\n",
    "    for i in ['top', 'bottom', 'left', 'right']:\n",
    "        ax.spines[i].set_visible(False)\n",
    "    ax.grid(which='major', linestyle='--', alpha=0.5)\n",
    "    return True"
   ]
  },
  {
   "cell_type": "code",
   "execution_count": 10,
   "metadata": {
    "ExecuteTime": {
     "end_time": "2017-05-06T10:35:47.957169Z",
     "start_time": "2017-05-06T10:32:11.320149Z"
    },
    "run_control": {
     "frozen": false,
     "read_only": false
    },
    "scrolled": false
   },
   "outputs": [
    {
     "name": "stdout",
     "output_type": "stream",
     "text": [
      "5 0 5326617 246128\n",
      "5 3 123744652 4481756\n",
      "10 0 17408587 592803\n",
      "10 3 297726983 8137053\n",
      "15 0 36911619 989528\n",
      "15 3 518055494 11363561\n",
      "20 0 62551418 1395347\n",
      "20 3 742035308 13777306\n",
      "25 0 95259462 1814347\n",
      "25 3 1004005129 15586788\n"
     ]
    }
   ],
   "source": [
    "base_dir = '/home/parashar/scratch/quadruplexes/hg19'\n",
    "chroms = ['chr' + str(x) for x in range(1,23)] + ['chrX', 'chrY']\n",
    "for i in [5, 10, 15, 20, 25]:\n",
    "    for j in [0, 3]:\n",
    "        tot = 0\n",
    "        num = 0\n",
    "        for chrom in chroms: \n",
    "            fn = '%s/g3_%d_%d_%s_nov.bed' % (base_dir, i, j, chrom)\n",
    "            with open(fn) as h:\n",
    "                for l in h:\n",
    "                    c = l.rstrip('\\n').split('\\t')\n",
    "                    tot += int(c[2]) - int(c[1])\n",
    "                    num += 1\n",
    "        print (i, j, tot, num)        "
   ]
  },
  {
   "cell_type": "code",
   "execution_count": 15,
   "metadata": {
    "ExecuteTime": {
     "end_time": "2017-05-06T11:00:20.419990Z",
     "start_time": "2017-05-06T11:00:20.405298Z"
    },
    "run_control": {
     "frozen": false,
     "read_only": false
    }
   },
   "outputs": [
    {
     "data": {
      "text/plain": [
       "3095677412"
      ]
     },
     "execution_count": 15,
     "metadata": {},
     "output_type": "execute_result"
    }
   ],
   "source": [
    "sum([int(x.rstrip('\\n').split('\\t')[1]) for x in \n",
    "    open('/home/parashar/scratch/hg19_resource/hg19.genome').readlines()\n",
    "         if x.split('\\t')[0] in chroms])"
   ]
  },
  {
   "cell_type": "code",
   "execution_count": 26,
   "metadata": {
    "ExecuteTime": {
     "end_time": "2017-05-06T11:40:11.809365Z",
     "start_time": "2017-05-06T11:40:11.799436Z"
    },
    "run_control": {
     "frozen": false,
     "read_only": false
    }
   },
   "outputs": [
    {
     "data": {
      "text/plain": [
       "0.005181303755302266"
      ]
     },
     "execution_count": 26,
     "metadata": {},
     "output_type": "execute_result"
    }
   ],
   "source": [
    "32079290/(3095677412*2)"
   ]
  },
  {
   "cell_type": "code",
   "execution_count": null,
   "metadata": {
    "collapsed": true
   },
   "outputs": [],
   "source": []
  }
 ],
 "metadata": {
  "kernelspec": {
   "display_name": "Python [default]",
   "language": "python",
   "name": "python3"
  },
  "language_info": {
   "codemirror_mode": {
    "name": "ipython",
    "version": 3
   },
   "file_extension": ".py",
   "mimetype": "text/x-python",
   "name": "python",
   "nbconvert_exporter": "python",
   "pygments_lexer": "ipython3",
   "version": "3.5.2"
  }
 },
 "nbformat": 4,
 "nbformat_minor": 2
}
