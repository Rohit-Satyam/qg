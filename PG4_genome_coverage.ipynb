{
 "cells": [
  {
   "cell_type": "code",
   "execution_count": 110,
   "metadata": {
    "ExecuteTime": {
     "end_time": "2017-05-14T07:37:27.728210Z",
     "start_time": "2017-05-14T07:37:27.704446Z"
    },
    "run_control": {
     "frozen": false,
     "read_only": false
    }
   },
   "outputs": [],
   "source": [
    "import pybedtools as pbt\n",
    "import numpy as np\n",
    "from tqdm import tqdm\n",
    "import matplotlib.pyplot as plt\n",
    "from scipy.stats import norm\n",
    "\n",
    "plt.style.use('fivethirtyeight')\n",
    "def clean_axis(ax):\n",
    "    ax.xaxis.set_tick_params(labelsize=9)\n",
    "    ax.yaxis.set_tick_params(labelsize=9)\n",
    "    for i in ['top', 'bottom', 'left', 'right']:\n",
    "        ax.spines[i].set_visible(False)\n",
    "    ax.grid(which='major', linestyle='--', alpha=0.5)\n",
    "    return True"
   ]
  },
  {
   "cell_type": "code",
   "execution_count": 142,
   "metadata": {
    "ExecuteTime": {
     "end_time": "2017-05-14T10:03:19.994575Z",
     "start_time": "2017-05-14T10:00:32.288770Z"
    },
    "run_control": {
     "frozen": false,
     "read_only": false
    },
    "scrolled": false
   },
   "outputs": [
    {
     "name": "stdout",
     "output_type": "stream",
     "text": [
      "25 0 95259462 1814347\n",
      "25 5 1381727120 19984894\n",
      "15 0 36911619 989528\n",
      "15 5 778193162 15862161\n",
      "5 0 5326617 246128\n",
      "5 5 204804090 6731377\n"
     ]
    }
   ],
   "source": [
    "base_dir = '/home/parashar/scratch/quadruplexes/hg19'\n",
    "chroms = ['chr' + str(x) for x in range(1,23)] + ['chrX', 'chrY']\n",
    "for i in [5, 15, 25][::-1]:\n",
    "    for j in [0, 5]:\n",
    "        tot = 0\n",
    "        num = 0\n",
    "        for chrom in chroms: \n",
    "            fn = '%s/g3_%d_%d_%s_nov.bed' % (base_dir, i, j, chrom)\n",
    "            with open(fn) as h:\n",
    "                for l in h:\n",
    "                    c = l.rstrip('\\n').split('\\t')\n",
    "                    tot += int(c[2]) - int(c[1])\n",
    "                    num += 1\n",
    "        print (i, j, tot, num)        "
   ]
  },
  {
   "cell_type": "code",
   "execution_count": 15,
   "metadata": {
    "ExecuteTime": {
     "end_time": "2017-05-06T11:00:20.419990Z",
     "start_time": "2017-05-06T11:00:20.405298Z"
    },
    "run_control": {
     "frozen": false,
     "read_only": false
    }
   },
   "outputs": [
    {
     "data": {
      "text/plain": [
       "3095677412"
      ]
     },
     "execution_count": 15,
     "metadata": {},
     "output_type": "execute_result"
    }
   ],
   "source": [
    "sum([int(x.rstrip('\\n').split('\\t')[1]) for x in \n",
    "    open('/home/parashar/scratch/hg19_resource/hg19.genome').readlines()\n",
    "         if x.split('\\t')[0] in chroms])"
   ]
  },
  {
   "cell_type": "code",
   "execution_count": 143,
   "metadata": {
    "ExecuteTime": {
     "end_time": "2017-05-14T10:08:18.564052Z",
     "start_time": "2017-05-14T10:08:18.553850Z"
    },
    "run_control": {
     "frozen": false,
     "read_only": false
    }
   },
   "outputs": [
    {
     "data": {
      "text/plain": [
       "0.22317039796264146"
      ]
     },
     "execution_count": 143,
     "metadata": {},
     "output_type": "execute_result"
    }
   ],
   "source": [
    "1381727120/(3095677412*2)"
   ]
  },
  {
   "cell_type": "code",
   "execution_count": 80,
   "metadata": {
    "ExecuteTime": {
     "end_time": "2017-05-14T07:30:14.958405Z",
     "start_time": "2017-05-14T07:30:10.410550Z"
    },
    "run_control": {
     "frozen": false,
     "read_only": false
    }
   },
   "outputs": [],
   "source": [
    "base_dir = '/home/parashar/scratch/quadcomb/data/null_dist_pg4s'\n",
    "null_dist = {}\n",
    "for bulge in ['0', '5']:\n",
    "    null_dist[int(bulge)] = {}\n",
    "    for loop in ['5', '10', '15', '25']:\n",
    "        null_dist[int(bulge)][int(loop)] = {}\n",
    "        for feat_len in ['50', '100', '500', '1000']:\n",
    "            null_dist[int(bulge)][int(loop)][int(feat_len)] = []\n",
    "            for chrom in chroms:                    \n",
    "                fn = '%s/%s_%s_%s_10_%s' % ( base_dir, chrom, loop, bulge, feat_len)\n",
    "                dist = [int(x.rstrip('\\n')) for x in open(fn).readlines()]\n",
    "                null_dist[int(bulge)][int(loop)][int(feat_len)].append(dist)\n",
    "            null_dist[int(bulge)][int(loop)][int(feat_len)] = np.array(\n",
    "                    null_dist[int(bulge)][int(loop)][int(feat_len)])"
   ]
  },
  {
   "cell_type": "code",
   "execution_count": 120,
   "metadata": {
    "ExecuteTime": {
     "end_time": "2017-05-14T07:41:22.567228Z",
     "start_time": "2017-05-14T07:41:22.001081Z"
    }
   },
   "outputs": [
    {
     "data": {
      "image/png": "[encoded data removed]",
      "text/plain": [
       "<matplotlib.figure.Figure at 0x2aafb14cd7b8>"
      ]
     },
     "metadata": {},
     "output_type": "display_data"
    }
   ],
   "source": [
    "a = null_dist[0][5][500].sum(axis=0)\n",
    "f = np.random.normal(loc=a.mean(), scale=a.std(), size=50000)\n",
    "cutoff = norm.ppf(0.99, loc=f.mean(), scale=f.std())\n",
    "\n",
    "plt.hist(a, bins=40, alpha=0.5, normed=True)\n",
    "plt.hist(f, bins=40, alpha=0.4, normed=True)\n",
    "plt.axvline(cutoff)\n",
    "plt.show()"
   ]
  },
  {
   "cell_type": "code",
   "execution_count": 158,
   "metadata": {
    "ExecuteTime": {
     "end_time": "2017-05-14T14:42:17.710401Z",
     "start_time": "2017-05-14T14:42:17.695333Z"
    }
   },
   "outputs": [],
   "source": [
    "chrom_lens = {x.rstrip('\\n').split('\\t')[0]: int(x.rstrip('\\n').split('\\t')[1]) for x in\n",
    "                  open('/home/parashar/scratch/hg19_resource/hg19.genome').readlines()}\n",
    "features_per_mb = 10\n",
    "num_regions = sum([int(chrom_lens[chrom]/1e6)*features_per_mb for chrom in chroms])"
   ]
  },
  {
   "cell_type": "code",
   "execution_count": 160,
   "metadata": {
    "ExecuteTime": {
     "end_time": "2017-05-14T14:42:23.937472Z",
     "start_time": "2017-05-14T14:42:23.694522Z"
    }
   },
   "outputs": [
    {
     "name": "stdout",
     "output_type": "stream",
     "text": [
      "0 5 50 165 187 225 0.728974401748\n",
      "0 5 100 274 302 352 1.13805838361\n",
      "0 5 500 1071 1124 1220 3.94946590003\n",
      "0 5 1000 1973 2044 2173 7.0337696613\n",
      "0 10 50 442 476 539 1.74364596561\n",
      "0 10 100 697 740 819 2.65091480899\n",
      "0 10 500 2413 2490 2630 8.51543299881\n",
      "0 10 1000 4163 4262 4443 14.3824001352\n",
      "0 15 50 812 858 942 3.04803791866\n",
      "0 15 100 1223 1279 1383 4.47570022948\n",
      "0 15 500 3822 3916 4088 13.2342070256\n",
      "0 15 1000 6295 6410 6622 21.4378588791\n",
      "0 25 50 1725 1790 1911 6.18672843694\n",
      "0 25 100 2420 2497 2639 8.54300330527\n",
      "0 25 500 6486 6600 6810 22.0461279548\n",
      "0 25 1000 9992 10125 10368 33.5637025855\n",
      "5 5 50 4600 4703 4892 15.8364328288\n",
      "5 5 100 6674 6790 7002 22.6684780495\n",
      "5 5 500 15956 16099 16361 52.9654097736\n",
      "5 5 1000 21191 21322 21562 69.8037424349\n",
      "5 10 50 8761 8891 9128 29.5496898901\n",
      "5 10 100 11762 11900 12152 39.3409308181\n",
      "5 10 500 21939 22068 22304 72.204724652\n",
      "5 10 1000 25796 25902 26094 84.4744151275\n",
      "5 15 50 11955 12095 12352 39.9877554054\n",
      "5 15 100 15142 15285 15548 50.3323334761\n",
      "5 15 500 24455 24567 24774 80.1998012161\n",
      "5 15 1000 27206 27294 27456 88.8821955442\n",
      "5 25 50 16666 16809 17070 55.2592964636\n",
      "5 25 100 19525 19662 19914 64.4667917373\n",
      "5 25 500 26756 26850 27022 87.4784828735\n",
      "5 25 1000 28170 28246 28386 91.8941790433\n"
     ]
    }
   ],
   "source": [
    "for bulge in [0, 5]:\n",
    "    for loop in [5, 10, 15, 25]:\n",
    "        for feat_len in [50, 100, 500, 1000]:\n",
    "            a = null_dist[bulge][loop][feat_len].sum(axis=0)\n",
    "            f = np.random.normal(loc=a.mean(), scale=a.std(), size=50000)\n",
    "            p = norm.ppf(1-0.05, loc=f.mean(), scale=f.std())\n",
    "            q = norm.ppf(1-0.05/num_regions, loc=f.mean(), scale=f.std()) \n",
    "            print (bulge, loop, feat_len, int(round(f.mean())),\n",
    "                   int(round(p)), int(round(q)), 100*q/num_regions)"
   ]
  },
  {
   "cell_type": "code",
   "execution_count": null,
   "metadata": {
    "collapsed": true
   },
   "outputs": [],
   "source": []
  }
 ],
 "metadata": {
  "kernelspec": {
   "display_name": "Python [default]",
   "language": "python",
   "name": "python3"
  },
  "language_info": {
   "codemirror_mode": {
    "name": "ipython",
    "version": 3
   },
   "file_extension": ".py",
   "mimetype": "text/x-python",
   "name": "python",
   "nbconvert_exporter": "python",
   "pygments_lexer": "ipython3",
   "version": "3.5.2"
  }
 },
 "nbformat": 4,
 "nbformat_minor": 2
}
