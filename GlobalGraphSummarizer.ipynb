{
 "cells": [
  {
   "cell_type": "code",
   "execution_count": 2,
   "metadata": {
    "ExecuteTime": {
     "end_time": "2017-02-17T19:20:24.055267",
     "start_time": "2017-02-17T19:20:21.853298"
    },
    "collapsed": false,
    "run_control": {
     "frozen": false,
     "read_only": false
    }
   },
   "outputs": [],
   "source": [
    "import json\n",
    "import numpy as np\n",
    "import matplotlib as mpl\n",
    "import matplotlib.pyplot as plt\n",
    "from scipy.stats import spearmanr, pearsonr, norm, shapiro\n",
    "import os\n",
    "from itertools import combinations\n",
    "import pandas as pd\n",
    "from collections import defaultdict\n",
    "from tqdm import tqdm\n",
    "from scipy import ndimage\n",
    "import glob\n",
    "import json\n",
    "from IPython.display import clear_output\n",
    "\n",
    "plt.style.use('fivethirtyeight')\n",
    "def clean_axis(ax):\n",
    "    ax.xaxis.set_tick_params(labelsize=9)\n",
    "    ax.yaxis.set_tick_params(labelsize=9)\n",
    "    for i in ['top', 'bottom', 'left', 'right']:\n",
    "        ax.spines[i].set_visible(False)\n",
    "    ax.grid(which='major', linestyle='--', alpha=0.5)\n",
    "    return True"
   ]
  },
  {
   "cell_type": "markdown",
   "metadata": {
    "ExecuteTime": {
     "end_time": "2017-02-08T02:24:05.145478",
     "start_time": "2017-02-08T02:24:05.140243"
    }
   },
   "source": [
    "## In this notebook we are going to take a general survey of all the QuadGraphs created"
   ]
  },
  {
   "cell_type": "code",
   "execution_count": 3,
   "metadata": {
    "ExecuteTime": {
     "end_time": "2017-02-17T19:20:33.217940",
     "start_time": "2017-02-17T19:20:24.059839"
    },
    "collapsed": false,
    "run_control": {
     "frozen": false,
     "read_only": false
    },
    "scrolled": false
   },
   "outputs": [],
   "source": [
    "chroms= ['chr'+str(x) for x in range(1, 23)] + ['chrX', 'chrY']\n",
    "bed = []\n",
    "data = {\n",
    "    'nodes': [],\n",
    "    'edges': [],\n",
    "    'quads': [],\n",
    "    'endPos': [],\n",
    "    'beginPos': [],\n",
    "    'strands': [],\n",
    "    'chroms': [],\n",
    "    'ghostBeginPos': []\n",
    "}\n",
    "for strand in ['positive', 'negative']:\n",
    "    s = '+' if strand == 'positive' else '-'\n",
    "    data_dir = '../data/chrom_wise_graph_summary/%s' % strand\n",
    "    for chrom in chroms:\n",
    "        d = json.load(open('%s/%s.json' % (data_dir, chrom)))\n",
    "        d['strands'] = [s for x in range(len(d['nodes']))]\n",
    "        d['chroms'] = [chrom for x in range(len(d['nodes']))]\n",
    "        for i in d:\n",
    "            data[i].extend(d[i])"
   ]
  },
  {
   "cell_type": "code",
   "execution_count": 4,
   "metadata": {
    "ExecuteTime": {
     "end_time": "2017-02-17T19:20:33.227228",
     "start_time": "2017-02-17T19:20:33.220507"
    },
    "collapsed": false,
    "run_control": {
     "frozen": false,
     "read_only": false
    }
   },
   "outputs": [
    {
     "data": {
      "text/plain": [
       "dict_keys(['beginPos', 'strands', 'nodes', 'edges', 'ghostBeginPos', 'chroms', 'endPos', 'quads'])"
      ]
     },
     "execution_count": 4,
     "metadata": {},
     "output_type": "execute_result"
    }
   ],
   "source": [
    "data.keys()"
   ]
  },
  {
   "cell_type": "code",
   "execution_count": 5,
   "metadata": {
    "ExecuteTime": {
     "end_time": "2017-02-17T19:20:35.715246",
     "start_time": "2017-02-17T19:20:33.229318"
    },
    "collapsed": true,
    "run_control": {
     "frozen": false,
     "read_only": false
    }
   },
   "outputs": [],
   "source": [
    "nodes = np.array(data['nodes'])\n",
    "edges = np.array(data['edges'])\n",
    "data['spans'] = np.array(data['endPos']) - np.array(data['beginPos'])\n",
    "data['graph_density'] = (2*edges)/(nodes * (nodes-1))\n",
    "data['node_density'] = nodes/data['spans']\n",
    "data['score'] = np.array(data['node_density']) + np.array(data['graph_density'])"
   ]
  },
  {
   "cell_type": "code",
   "execution_count": 6,
   "metadata": {
    "ExecuteTime": {
     "end_time": "2017-02-17T19:20:36.833466",
     "start_time": "2017-02-17T19:20:35.717832"
    },
    "collapsed": false,
    "run_control": {
     "frozen": false,
     "read_only": false
    }
   },
   "outputs": [
    {
     "data": {
      "text/plain": [
       "(5858234, 200097266, 2010711252, 433579218942, 994118624)"
      ]
     },
     "execution_count": 6,
     "metadata": {},
     "output_type": "execute_result"
    }
   ],
   "source": [
    "len(data['nodes']), sum(data['nodes']), sum(data['edges']), sum(data['quads']), sum(data['spans'])"
   ]
  },
  {
   "cell_type": "code",
   "execution_count": 7,
   "metadata": {
    "ExecuteTime": {
     "end_time": "2017-02-17T19:20:37.973391",
     "start_time": "2017-02-17T19:20:36.835516"
    },
    "collapsed": false,
    "run_control": {
     "frozen": false,
     "read_only": false
    }
   },
   "outputs": [
    {
     "data": {
      "text/plain": [
       "(18438, 475937, 1476614909, 50853)"
      ]
     },
     "execution_count": 7,
     "metadata": {},
     "output_type": "execute_result"
    }
   ],
   "source": [
    "max(data['nodes']), max(data['edges']), max(data['quads']), max(data['spans'])"
   ]
  },
  {
   "cell_type": "code",
   "execution_count": 8,
   "metadata": {
    "ExecuteTime": {
     "end_time": "2017-02-17T19:20:39.130315",
     "start_time": "2017-02-17T19:20:37.975677"
    },
    "collapsed": false,
    "run_control": {
     "frozen": false,
     "read_only": false
    }
   },
   "outputs": [
    {
     "data": {
      "text/plain": [
       "(4, 3, 1, 14)"
      ]
     },
     "execution_count": 8,
     "metadata": {},
     "output_type": "execute_result"
    }
   ],
   "source": [
    "min(data['nodes']), min(data['edges']), min(data['quads']), min(data['spans'])"
   ]
  },
  {
   "cell_type": "code",
   "execution_count": 9,
   "metadata": {
    "ExecuteTime": {
     "end_time": "2017-02-17T19:20:40.764029",
     "start_time": "2017-02-17T19:20:39.133068"
    },
    "collapsed": false,
    "run_control": {
     "frozen": false,
     "read_only": false
    }
   },
   "outputs": [
    {
     "data": {
      "text/plain": [
       "(34.156584731849222,\n",
       " 343.22822406889173,\n",
       " 74011.932425710547,\n",
       " 169.69595683613866)"
      ]
     },
     "execution_count": 9,
     "metadata": {},
     "output_type": "execute_result"
    }
   ],
   "source": [
    "np.mean(data['nodes']), np.mean(data['edges']), np.mean(data['quads']), np.mean(data['spans'])"
   ]
  },
  {
   "cell_type": "code",
   "execution_count": 10,
   "metadata": {
    "ExecuteTime": {
     "end_time": "2017-02-17T19:20:42.692433",
     "start_time": "2017-02-17T19:20:40.766622"
    },
    "collapsed": false,
    "run_control": {
     "frozen": false,
     "read_only": false
    }
   },
   "outputs": [
    {
     "data": {
      "text/plain": [
       "(20.0, 75.0, 293.0, 123.0)"
      ]
     },
     "execution_count": 10,
     "metadata": {},
     "output_type": "execute_result"
    }
   ],
   "source": [
    "np.median(data['nodes']), np.median(data['edges']), np.median(data['quads']), np.median(data['spans'])"
   ]
  },
  {
   "cell_type": "code",
   "execution_count": 11,
   "metadata": {
    "ExecuteTime": {
     "end_time": "2017-02-17T19:20:43.252649",
     "start_time": "2017-02-17T19:20:42.695052"
    },
    "collapsed": false,
    "run_control": {
     "frozen": false,
     "read_only": false
    }
   },
   "outputs": [
    {
     "data": {
      "text/plain": [
       "87200"
      ]
     },
     "execution_count": 11,
     "metadata": {},
     "output_type": "execute_result"
    }
   ],
   "source": [
    "len(np.where(np.array(data['quads']) == 1)[0])"
   ]
  },
  {
   "cell_type": "code",
   "execution_count": 12,
   "metadata": {
    "ExecuteTime": {
     "end_time": "2017-02-17T19:20:43.833591",
     "start_time": "2017-02-17T19:20:43.254966"
    },
    "collapsed": false,
    "run_control": {
     "frozen": false,
     "read_only": false
    }
   },
   "outputs": [
    {
     "data": {
      "text/plain": [
       "4976817"
      ]
     },
     "execution_count": 12,
     "metadata": {},
     "output_type": "execute_result"
    }
   ],
   "source": [
    "len(np.where(np.array(data['quads']) > 10)[0])"
   ]
  },
  {
   "cell_type": "code",
   "execution_count": 59,
   "metadata": {
    "ExecuteTime": {
     "end_time": "2017-02-08T03:07:45.291799",
     "start_time": "2017-02-08T03:07:35.746733"
    },
    "collapsed": false,
    "run_control": {
     "frozen": false,
     "read_only": false
    }
   },
   "outputs": [
    {
     "data": {
      "image/png": "[encoded data removed]",
      "text/plain": [
       "<matplotlib.figure.Figure at 0x2b503981f978>"
      ]
     },
     "metadata": {},
     "output_type": "display_data"
    }
   ],
   "source": [
    "plt.style.use('fivethirtyeight')\n",
    "\n",
    "from matplotlib.ticker import FuncFormatter\n",
    "\n",
    "def millions(x, pos):\n",
    "    return '%1.2f' % (x*1e-6)\n",
    "formatter = FuncFormatter(millions)\n",
    "\n",
    "keys = ['nodes', 'edges', 'quads', 'spans', 'graph_density', 'node_density']\n",
    "loc = [(0, 0), (0, 1), (1, 0), (1, 1), (2, 0), (2, 1)]\n",
    "labels = ['Number of\\nnodes per graph', 'Number of\\nedges per graph', 'Number of\\nPG4 per graph',\n",
    "          'Length of\\nspan per graph', 'Density of\\neach graph', 'Node\\ndensity per graph']\n",
    "fig, axis = plt.subplots(2, 2, figsize=(5,4))\n",
    "for i in range(4):\n",
    "    ax = axis[loc[i]]\n",
    "    ax.hist(np.log2(data[keys[i]]), bins=80, edgecolor='none',\n",
    "            alpha=0.8)\n",
    "    median = np.median(data[keys[i]])\n",
    "    ax.axvline(np.log2(median), lw=1, ls='--', color='k', alpha=0.6)\n",
    "    if loc[i][1] == 0:\n",
    "        ax.set_ylabel('Frequency (x1e6)', fontsize=10)\n",
    "    ax.set_xlabel('Log2 (%s)' % labels[i], fontsize=10)\n",
    "    ax.yaxis.set_major_formatter(formatter)\n",
    "    ax.text(0.5, 0.8, \"Median: %d\" % median, fontsize=10, transform=ax.transAxes)\n",
    "    clean_axis(ax)\n",
    "\n",
    "fig.tight_layout()\n",
    "plt.savefig('../images/properties_distribution.svg', transparent=True, edgecolor='none')\n",
    "plt.savefig('../images/properties_distribution.png', dpi=300, transparent=True, edgecolor='none')\n",
    "plt.show()"
   ]
  },
  {
   "cell_type": "code",
   "execution_count": 31,
   "metadata": {
    "ExecuteTime": {
     "end_time": "2016-11-25T23:50:11.780528",
     "start_time": "2016-11-25T23:49:14.453539"
    },
    "collapsed": false,
    "run_control": {
     "frozen": true,
     "read_only": true
    }
   },
   "outputs": [
    {
     "name": "stderr",
     "output_type": "stream",
     "text": [
      "100%|██████████| 5858234/5858234 [00:56<00:00, 102930.66it/s]\n"
     ]
    }
   ],
   "source": [
    "out_handles = {chrom: open('./data/QuadGraphs_bed/%s.bed' % chrom, 'w')\n",
    "               for chrom in chroms}\n",
    "\n",
    "for i in tqdm(range(len(data['nodes']))):\n",
    "    bed_line = [data['chroms'][i], data['beginPos'][i], data['endPos'][i] + 1,\n",
    "                data['ghostBeginPos'][i], data['score'][i], data['strands'][i]]\n",
    "    out_handles[data['chroms'][i]].write(\"\\t\".join(map(str, bed_line)) + '\\n')\n",
    "    \n",
    "for i in out_handles:\n",
    "    out_handles[i].close()"
   ]
  },
  {
   "cell_type": "code",
   "execution_count": null,
   "metadata": {
    "collapsed": true,
    "run_control": {
     "frozen": true,
     "read_only": true
    }
   },
   "outputs": [],
   "source": [
    "!cat QuadGraphs_bed/* | sort -k 1,1 -k2n,2 > QuadGraph.bed"
   ]
  },
  {
   "cell_type": "markdown",
   "metadata": {
    "ExecuteTime": {
     "end_time": "2017-02-08T02:29:27.521478",
     "start_time": "2017-02-08T02:29:27.516337"
    },
    "collapsed": true,
    "run_control": {
     "frozen": false,
     "read_only": false
    }
   },
   "source": [
    "### Now we will see the distribution of loops and bulge lengths in the QuadGraphs. The distributions were precalculated using the script: QG_all_loop_len_calc.py"
   ]
  },
  {
   "cell_type": "code",
   "execution_count": 13,
   "metadata": {
    "ExecuteTime": {
     "end_time": "2017-02-17T19:21:59.000044",
     "start_time": "2017-02-17T19:20:43.836351"
    },
    "collapsed": false,
    "run_control": {
     "frozen": false,
     "read_only": false
    }
   },
   "outputs": [],
   "source": [
    "loop_dir = \"../data/quad_graph_loop_profile\"\n",
    "chroms = ['chr%d' % i for i in range(1, 23)] + ['chrX', 'chrY']\n",
    "strands = [\"positive\", 'negative']\n",
    "keys = [\n",
    "        \"0_0\", \"0_1\", \"0_2\", \"0_3\",\n",
    "        \"1_0\", \"1_1\", \"1_2\", \"1_3\",\n",
    "        \"2_0\", \"2_1\", \"2_2\", \"2_3\",\n",
    "        \"3_0\", \"3_1\", \"3_2\", \"3_3\",\n",
    "    ]\n",
    "loop_data = {str(x): [] for x in range(1, 51)}\n",
    "bulge_data = {'0': [], '1': [], '2': [], '3': []}\n",
    "for chrom in chroms:\n",
    "    fns = sorted(glob.glob(\"%s/%s/*/*.json\" % (loop_dir, chrom)))\n",
    "    for fn in tqdm(fns, desc=chrom):\n",
    "        d = json.load(open(fn))\n",
    "        temp = {str(x): 0 for x in range(1, 51)}\n",
    "        for k in d[0]:\n",
    "            for l in d[0][k]:\n",
    "                temp[l]+=d[0][k][l]\n",
    "        for l in temp:\n",
    "            loop_data[l].append(temp[l])\n",
    "        for k in d[1]:\n",
    "            bulge_data[k].append(d[1][k])\n",
    "    clear_output()"
   ]
  },
  {
   "cell_type": "code",
   "execution_count": 14,
   "metadata": {
    "ExecuteTime": {
     "end_time": "2017-02-17T19:22:01.526032",
     "start_time": "2017-02-17T19:21:59.003922"
    },
    "collapsed": false,
    "run_control": {
     "frozen": false,
     "read_only": false
    }
   },
   "outputs": [
    {
     "data": {
      "image/png": "[encoded data removed]",
      "text/plain": [
       "<matplotlib.figure.Figure at 0x2ab4cfaf7f98>"
      ]
     },
     "metadata": {},
     "output_type": "display_data"
    }
   ],
   "source": [
    "boxprops = dict(linestyle='-', linewidth=1, color='k', alpha=0.8)\n",
    "medianprops = dict(linestyle='-', linewidth=1.5, color='crimson', alpha=0.8)\n",
    "whiskerprops = dict(linestyle='-', linewidth=1.5, color='k', alpha=0.8)\n",
    "\n",
    "for_box = []\n",
    "for i in range(1, 26):\n",
    "    for_box.append(np.array(loop_data[str(i)]))\n",
    "fig, ax = plt.subplots(1, 1, figsize=(5,2.2))\n",
    "ax.boxplot(for_box, sym='', boxprops=boxprops,\n",
    "           medianprops=medianprops, whiskerprops=whiskerprops)\n",
    "ax.set_xlabel('Loop length', fontsize=10)\n",
    "ax.set_ylabel('Number of loops', fontsize=10)\n",
    "ax.set_yticks([x for x in range(0, 30000, 5000)])\n",
    "ax.set_ylim((-1000, 25001))\n",
    "clean_axis(ax)\n",
    "plt.tight_layout()\n",
    "\n",
    "plt.savefig('../images/quadgraph_loop_dists.svg', transparent=True, edgecolor='none')\n",
    "plt.savefig('../images/quadgraph_loop_dists.png', dpi=300, transparent=True, edgecolor='none')\n",
    "plt.show()"
   ]
  },
  {
   "cell_type": "code",
   "execution_count": 15,
   "metadata": {
    "ExecuteTime": {
     "end_time": "2017-02-17T19:22:02.104513",
     "start_time": "2017-02-17T19:22:01.528090"
    },
    "collapsed": false,
    "run_control": {
     "frozen": false,
     "read_only": false
    }
   },
   "outputs": [
    {
     "data": {
      "image/png": "[encoded data removed]",
      "text/plain": [
       "<matplotlib.figure.Figure at 0x2ab3f53ca860>"
      ]
     },
     "metadata": {},
     "output_type": "display_data"
    }
   ],
   "source": [
    "boxprops = dict(linestyle='-', linewidth=1, color='k', alpha=0.8)\n",
    "medianprops = dict(linestyle='-', linewidth=1.5, color='crimson', alpha=0.8)\n",
    "whiskerprops = dict(linestyle='-', linewidth=1.5, color='k', alpha=0.8)\n",
    "\n",
    "for_box = []\n",
    "for i in range(0, 4):\n",
    "    for_box.append(np.array(bulge_data[str(i)]))\n",
    "\n",
    "fig, ax = plt.subplots(1, 1, figsize=(2.5,2.2))\n",
    "ax.boxplot(for_box, sym='', boxprops=boxprops,\n",
    "           medianprops=medianprops, whiskerprops=whiskerprops)\n",
    "ax.set_ylabel('Number of stems', fontsize=10)\n",
    "ax.set_yticks([x for x in range(0, 30000, 5000)])\n",
    "ax.set_ylim((-1000, 25001))\n",
    "ax.set_xticklabels(['GGG', '1nt bulge', '2nt bulge', '3nt bulge'],\n",
    "                      rotation=45, ha='right', va='top', fontsize=12)\n",
    "clean_axis(ax)\n",
    "plt.tight_layout()\n",
    "plt.savefig('../images/quadgraph_bulges.svg', transparent=True, edgecolor='none')\n",
    "plt.savefig('../images/quadgraph_bulges.png', dpi=300, transparent=True, edgecolor='none')\n",
    "plt.show()"
   ]
  },
  {
   "cell_type": "code",
   "execution_count": null,
   "metadata": {
    "collapsed": true,
    "run_control": {
     "frozen": false,
     "read_only": false
    }
   },
   "outputs": [],
   "source": []
  }
 ],
 "metadata": {
  "anaconda-cloud": {},
  "kernelspec": {
   "display_name": "Python [default]",
   "language": "python",
   "name": "python3"
  },
  "language_info": {
   "codemirror_mode": {
    "name": "ipython",
    "version": 3
   },
   "file_extension": ".py",
   "mimetype": "text/x-python",
   "name": "python",
   "nbconvert_exporter": "python",
   "pygments_lexer": "ipython3",
   "version": "3.5.2"
  },
  "nav_menu": {},
  "toc": {
   "navigate_menu": true,
   "number_sections": true,
   "sideBar": true,
   "threshold": 6,
   "toc_cell": false,
   "toc_section_display": "block",
   "toc_window_display": false
  }
 },
 "nbformat": 4,
 "nbformat_minor": 1
}
