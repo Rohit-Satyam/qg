{
 "cells": [
  {
   "cell_type": "code",
   "execution_count": 3,
   "metadata": {
    "ExecuteTime": {
     "end_time": "2017-05-30T09:08:58.854096Z",
     "start_time": "2017-05-30T09:08:58.204475Z"
    },
    "collapsed": true,
    "run_control": {
     "frozen": false,
     "read_only": false
    }
   },
   "outputs": [],
   "source": [
    "import numpy as np\n",
    "from IPython.display import clear_output\n",
    "import matplotlib.pyplot as plt\n",
    "from matplotlib.ticker import FuncFormatter\n",
    "\n",
    "plt.style.use('fivethirtyeight')\n",
    "def clean_axis(ax):\n",
    "    ax.xaxis.set_tick_params(labelsize=9)\n",
    "    ax.yaxis.set_tick_params(labelsize=9)\n",
    "    for i in ['top', 'bottom', 'left', 'right']:\n",
    "        ax.spines[i].set_visible(False)\n",
    "    ax.grid(which='major', linestyle='--', alpha=0.5)\n",
    "    return True"
   ]
  },
  {
   "cell_type": "code",
   "execution_count": 2,
   "metadata": {
    "ExecuteTime": {
     "end_time": "2017-05-14T19:27:02.420482Z",
     "start_time": "2017-05-14T19:27:02.413199Z"
    },
    "collapsed": true,
    "run_control": {
     "frozen": false,
     "read_only": false
    }
   },
   "outputs": [],
   "source": [
    "chroms= ['chr'+str(x) for x in range(1, 23)] + ['chrX', 'chrY', 'chrM']\n",
    "chrom_lens = {x.rstrip('\\n').split('\\t')[0]: int(x.rstrip('\\n').split('\\t')[1]) for x in\n",
    "                  open('/home/parashar/scratch/hg19_resource/hg19.genome').readlines()}\n",
    "genome_len = sum(chrom_lens.values())"
   ]
  },
  {
   "cell_type": "code",
   "execution_count": 8,
   "metadata": {
    "ExecuteTime": {
     "end_time": "2017-05-14T19:52:38.446405Z",
     "start_time": "2017-05-14T19:52:23.020916Z"
    },
    "run_control": {
     "frozen": false,
     "read_only": false
    },
    "scrolled": true
   },
   "outputs": [
    {
     "name": "stdout",
     "output_type": "stream",
     "text": [
      "chr1 (646364, 5)\n",
      "chr1 (649077, 5)\n",
      "chr2 (627887, 5)\n",
      "chr2 (627753, 5)\n",
      "chr3 (502387, 5)\n",
      "chr3 (504183, 5)\n",
      "chr4 (435063, 5)\n",
      "chr4 (437005, 5)\n",
      "chr5 (450976, 5)\n",
      "chr5 (451655, 5)\n",
      "chr6 (428234, 5)\n",
      "chr6 (428383, 5)\n",
      "chr7 (419546, 5)\n",
      "chr7 (420159, 5)\n",
      "chr8 (373589, 5)\n",
      "chr8 (374614, 5)\n",
      "chr9 (332567, 5)\n",
      "chr9 (334295, 5)\n",
      "chr10 (372865, 5)\n",
      "chr10 (373842, 5)\n",
      "chr11 (368168, 5)\n",
      "chr11 (370074, 5)\n",
      "chr12 (359423, 5)\n",
      "chr12 (360345, 5)\n",
      "chr13 (224780, 5)\n",
      "chr13 (225481, 5)\n",
      "chr14 (241663, 5)\n",
      "chr14 (241522, 5)\n",
      "chr15 (241457, 5)\n",
      "chr15 (242380, 5)\n",
      "chr16 (259226, 5)\n",
      "chr16 (259721, 5)\n",
      "chr17 (263347, 5)\n",
      "chr17 (264841, 5)\n",
      "chr18 (191543, 5)\n",
      "chr18 (191322, 5)\n",
      "chr19 (203854, 5)\n",
      "chr19 (205865, 5)\n",
      "chr20 (190513, 5)\n",
      "chr20 (190138, 5)\n",
      "chr21 (91767, 5)\n",
      "chr21 (92773, 5)\n",
      "chr22 (125338, 5)\n",
      "chr22 (125883, 5)\n",
      "chrX (386443, 5)\n",
      "chrX (386722, 5)\n",
      "chrY (65711, 5)\n",
      "chrY (65828, 5)\n",
      "chrM (12, 5)\n",
      "chrM (68, 5)\n"
     ]
    }
   ],
   "source": [
    "info = np.array([[0, 0, 0, 0, 0]])\n",
    "for chrom in chroms:\n",
    "    for strand in ['positive', 'negative']:\n",
    "        chrom_info = np.load('../data/snipr/%s_%s_info.npy' % (chrom, strand))\n",
    "        print (chrom, chrom_info.shape)\n",
    "        info = np.vstack([info, chrom_info])\n",
    "info = info[1:]\n",
    "processed_info = [info[:, 0], info[:, 1], info[:, 2], info[:, 4]+1-info[:, 3]]"
   ]
  },
  {
   "cell_type": "code",
   "execution_count": 9,
   "metadata": {
    "ExecuteTime": {
     "end_time": "2017-05-14T19:52:47.734954Z",
     "start_time": "2017-05-14T19:52:45.093745Z"
    },
    "run_control": {
     "frozen": false,
     "read_only": false
    }
   },
   "outputs": [
    {
     "data": {
      "text/plain": [
       "(15, 25813)"
      ]
     },
     "execution_count": 9,
     "metadata": {},
     "output_type": "execute_result"
    }
   ],
   "source": [
    "min(processed_info[3]), max(processed_info[3])"
   ]
  },
  {
   "cell_type": "code",
   "execution_count": 10,
   "metadata": {
    "ExecuteTime": {
     "end_time": "2017-05-14T19:52:52.689867Z",
     "start_time": "2017-05-14T19:52:48.645917Z"
    },
    "run_control": {
     "frozen": false,
     "read_only": false
    }
   },
   "outputs": [
    {
     "data": {
      "text/plain": [
       "(15626652, 24359271257, 1610165962)"
      ]
     },
     "execution_count": 10,
     "metadata": {},
     "output_type": "execute_result"
    }
   ],
   "source": [
    "len(processed_info[0]), sum(processed_info[2]), sum(processed_info[3])"
   ]
  },
  {
   "cell_type": "code",
   "execution_count": 11,
   "metadata": {
    "ExecuteTime": {
     "end_time": "2017-05-14T19:52:57.448501Z",
     "start_time": "2017-05-14T19:52:55.448415Z"
    },
    "run_control": {
     "frozen": false,
     "read_only": false
    }
   },
   "outputs": [
    {
     "data": {
      "text/plain": [
       "0.26006542828239587"
      ]
     },
     "execution_count": 11,
     "metadata": {},
     "output_type": "execute_result"
    }
   ],
   "source": [
    "sum(processed_info[3])/(genome_len*2)"
   ]
  },
  {
   "cell_type": "code",
   "execution_count": 12,
   "metadata": {
    "ExecuteTime": {
     "end_time": "2017-05-14T19:53:11.370705Z",
     "start_time": "2017-05-14T19:53:02.190647Z"
    },
    "run_control": {
     "frozen": false,
     "read_only": false
    }
   },
   "outputs": [
    {
     "data": {
      "image/png": "[encoded data removed]",
      "text/plain": [
       "<matplotlib.figure.Figure at 0x2b8a355bbe48>"
      ]
     },
     "metadata": {},
     "output_type": "display_data"
    }
   ],
   "source": [
    "def millions(x, pos):\n",
    "    return '%1.2f' % (x*1e-6)\n",
    "formatter = FuncFormatter(millions)\n",
    "\n",
    "loc = [(0, 0), (0, 1), (1, 0), (1, 1)]\n",
    "xlims = [(0, 8), (0, 12), (0, 16), (0, 10)]\n",
    "labels = ['Number of\\nnodes per graph', 'Number of\\nedges per graph',\n",
    "          'Number of\\nPG4 per graph', 'Length of\\nspan per graph',]\n",
    "fig, axis = plt.subplots(2, 2, figsize=(5,4))\n",
    "for i in range(4):\n",
    "    ax = axis[loc[i]]\n",
    "    ax.hist(np.log2(processed_info[i]), bins=70, edgecolor='none',\n",
    "            alpha=0.5, color='crimson')\n",
    "    median = np.median(processed_info[i])\n",
    "    ax.axvline(np.log2(median), lw=1, ls='--', color='k', alpha=0.6)\n",
    "    if loc[i][1] == 0:\n",
    "        ax.set_ylabel('Frequency (x1e6)', fontsize=10)\n",
    "    ax.set_xlabel('Log2 (%s)' % labels[i], fontsize=10)\n",
    "    ax.yaxis.set_major_formatter(formatter)\n",
    "    ax.text(0.5, 0.8, \"Median: %d\" % median, fontsize=10, transform=ax.transAxes)\n",
    "    ax.set_xlim(xlims[i])\n",
    "    clean_axis(ax)\n",
    "\n",
    "fig.tight_layout()\n",
    "plt.savefig('../images/properties_distribution.svg', transparent=True, edgecolor='none')\n",
    "plt.savefig('../images/properties_distribution.png', dpi=300, transparent=True, edgecolor='none')\n",
    "plt.show()"
   ]
  },
  {
   "cell_type": "code",
   "execution_count": null,
   "metadata": {
    "ExecuteTime": {
     "end_time": "2017-05-30T09:34:21.821495Z",
     "start_time": "2017-05-30T10:34:26.997Z"
    },
    "collapsed": true
   },
   "outputs": [],
   "source": [
    "from collections import Counter"
   ]
  },
  {
   "cell_type": "code",
   "execution_count": 31,
   "metadata": {
    "ExecuteTime": {
     "end_time": "2017-05-30T19:12:25.155884Z",
     "start_time": "2017-05-30T19:11:39.847503Z"
    }
   },
   "outputs": [
    {
     "ename": "IndexError",
     "evalue": "index 4985259 is out of bounds for axis 1 with size 4985013",
     "output_type": "error",
     "traceback": [
      "\u001b[0;31m---------------------------------------------------------------------------\u001b[0m",
      "\u001b[0;31mIndexError\u001b[0m                                Traceback (most recent call last)",
      "\u001b[0;32m<ipython-input-31-56ab2b26ab97>\u001b[0m in \u001b[0;36m<module>\u001b[0;34m()\u001b[0m\n\u001b[1;32m     15\u001b[0m         \u001b[0mseq\u001b[0m \u001b[0;34m=\u001b[0m \u001b[0mload_seq\u001b[0m\u001b[0;34m(\u001b[0m\u001b[0mchrom\u001b[0m\u001b[0;34m)\u001b[0m\u001b[0;34m\u001b[0m\u001b[0m\n\u001b[1;32m     16\u001b[0m         \u001b[0mnz\u001b[0m \u001b[0;34m=\u001b[0m \u001b[0mnp\u001b[0m\u001b[0;34m.\u001b[0m\u001b[0mnonzero\u001b[0m\u001b[0;34m(\u001b[0m\u001b[0msnipr\u001b[0m\u001b[0;34m)\u001b[0m\u001b[0;34m[\u001b[0m\u001b[0;36m0\u001b[0m\u001b[0;34m]\u001b[0m\u001b[0;34m\u001b[0m\u001b[0m\n\u001b[0;32m---> 17\u001b[0;31m         \u001b[0mbases\u001b[0m \u001b[0;34m=\u001b[0m \u001b[0mseq\u001b[0m\u001b[0;34m[\u001b[0m\u001b[0mnz\u001b[0m\u001b[0;34m]\u001b[0m\u001b[0;34m\u001b[0m\u001b[0m\n\u001b[0m\u001b[1;32m     18\u001b[0m         \u001b[0mcounter\u001b[0m \u001b[0;34m=\u001b[0m \u001b[0mCounter\u001b[0m\u001b[0;34m(\u001b[0m\u001b[0mbases\u001b[0m\u001b[0;34m)\u001b[0m\u001b[0;34m\u001b[0m\u001b[0m\n\u001b[1;32m     19\u001b[0m         \u001b[0;32mbreak\u001b[0m\u001b[0;34m\u001b[0m\u001b[0m\n",
      "\u001b[0;31mIndexError\u001b[0m: index 4985259 is out of bounds for axis 1 with size 4985013"
     ]
    }
   ],
   "source": [
    "def load_scores(chrom, strand):\n",
    "    in_dir = '/home/parashar/scratch/quadcomb/data/snipr'\n",
    "    fn = '%s/%s_%s_scores.npy' % (in_dir, chrom, strand)\n",
    "    return np.load(fn)\n",
    "\n",
    "def load_seq(chrom):\n",
    "    seq_fn = '/home/parashar/scratch/hg19_resource/chromosomes/%s.fa' % chrom\n",
    "    seq = [list(x.rstrip('\\n')) for x in open(seq_fn).readlines()[1:]]\n",
    "    return np.array(seq).flatten()\n",
    "\n",
    "chroms = ['chr'+str(x) for x in range(1,23)] + ['chrX', 'chrY']\n",
    "for chrom in chroms:\n",
    "    for strand in ['positive', 'negative']:\n",
    "        snipr = load_scores(chrom, strand)\n",
    "        seq = load_seq(chrom)\n",
    "        nz = np.nonzero(snipr)[0]\n",
    "        bases = seq[nz]\n",
    "        counter = Counter(bases)\n",
    "        break\n",
    "    break"
   ]
  },
  {
   "cell_type": "code",
   "execution_count": 9,
   "metadata": {
    "ExecuteTime": {
     "end_time": "2017-05-30T09:14:06.011360Z",
     "start_time": "2017-05-30T09:14:06.002803Z"
    }
   },
   "outputs": [
    {
     "data": {
      "text/plain": [
       "((249250621,), 249250621)"
      ]
     },
     "execution_count": 9,
     "metadata": {},
     "output_type": "execute_result"
    }
   ],
   "source": [
    "snipr.shape, len(seq), counter"
   ]
  }
 ],
 "metadata": {
  "kernelspec": {
   "display_name": "Python [default]",
   "language": "python",
   "name": "python3"
  },
  "language_info": {
   "codemirror_mode": {
    "name": "ipython",
    "version": 3
   },
   "file_extension": ".py",
   "mimetype": "text/x-python",
   "name": "python",
   "nbconvert_exporter": "python",
   "pygments_lexer": "ipython3",
   "version": "3.5.2"
  }
 },
 "nbformat": 4,
 "nbformat_minor": 2
}
