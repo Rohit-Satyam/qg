{
 "cells": [
  {
   "cell_type": "code",
   "execution_count": 5,
   "metadata": {
    "ExecuteTime": {
     "end_time": "2016-12-08T16:39:48.432046",
     "start_time": "2016-12-08T16:39:48.414334"
    },
    "collapsed": false,
    "run_control": {
     "frozen": false,
     "read_only": false
    }
   },
   "outputs": [],
   "source": [
    "import json\n",
    "import numpy as np\n",
    "import matplotlib as mpl\n",
    "import matplotlib.pyplot as plt\n",
    "from scipy.stats import spearmanr, pearsonr, norm, shapiro\n",
    "import os\n",
    "from itertools import combinations\n",
    "import pandas as pd\n",
    "from collections import defaultdict\n",
    "from tqdm import tqdm\n",
    "from scipy import ndimage\n",
    "import glob\n",
    "import json\n",
    "\n",
    "%matplotlib inline"
   ]
  },
  {
   "cell_type": "code",
   "execution_count": 2,
   "metadata": {
    "ExecuteTime": {
     "end_time": "2016-12-07T16:15:42.602486",
     "start_time": "2016-12-07T16:15:30.953776"
    },
    "collapsed": false,
    "run_control": {
     "frozen": false,
     "read_only": false
    },
    "scrolled": false
   },
   "outputs": [],
   "source": [
    "chroms= ['chr'+str(x) for x in range(1, 23)] + ['chrX', 'chrY']\n",
    "bed = []\n",
    "data = {\n",
    "    'nodes': [],\n",
    "    'edges': [],\n",
    "    'quads': [],\n",
    "    'endPos': [],\n",
    "    'beginPos': [],\n",
    "    'strands': [],\n",
    "    'chroms': [],\n",
    "    'ghostBeginPos': []\n",
    "}\n",
    "for strand in ['positive', 'negative']:\n",
    "    s = '+' if strand == 'positive' else '-'\n",
    "    data_dir = './data/chrom_wise_graph_summary/%s' % strand\n",
    "    for chrom in chroms:\n",
    "        d = json.load(open('%s/%s.json' % (data_dir, chrom)))\n",
    "        d['strands'] = [s for x in range(len(d['nodes']))]\n",
    "        d['chroms'] = [chrom for x in range(len(d['nodes']))]\n",
    "        for i in d:\n",
    "            data[i].extend(d[i])"
   ]
  },
  {
   "cell_type": "code",
   "execution_count": 3,
   "metadata": {
    "ExecuteTime": {
     "end_time": "2016-12-07T16:15:42.613698",
     "start_time": "2016-12-07T16:15:42.605601"
    },
    "collapsed": false,
    "run_control": {
     "frozen": false,
     "read_only": false
    }
   },
   "outputs": [
    {
     "data": {
      "text/plain": [
       "dict_keys(['nodes', 'edges', 'quads', 'strands', 'beginPos', 'endPos', 'chroms', 'ghostBeginPos'])"
      ]
     },
     "execution_count": 3,
     "metadata": {},
     "output_type": "execute_result"
    }
   ],
   "source": [
    "data.keys()"
   ]
  },
  {
   "cell_type": "code",
   "execution_count": 4,
   "metadata": {
    "ExecuteTime": {
     "end_time": "2016-12-07T16:15:45.186165",
     "start_time": "2016-12-07T16:15:42.616180"
    },
    "collapsed": true,
    "run_control": {
     "frozen": false,
     "read_only": false
    }
   },
   "outputs": [],
   "source": [
    "nodes = np.array(data['nodes'])\n",
    "edges = np.array(data['edges'])\n",
    "data['spans'] = np.array(data['endPos']) - np.array(data['beginPos'])\n",
    "data['graph_density'] = (2*edges)/(nodes * (nodes-1))\n",
    "data['node_density'] = nodes/data['spans']\n",
    "data['score'] = np.array(data['node_density']) + np.array(data['graph_density'])"
   ]
  },
  {
   "cell_type": "code",
   "execution_count": 5,
   "metadata": {
    "ExecuteTime": {
     "end_time": "2016-12-07T16:15:46.291162",
     "start_time": "2016-12-07T16:15:45.188520"
    },
    "collapsed": false,
    "run_control": {
     "frozen": false,
     "read_only": false
    }
   },
   "outputs": [
    {
     "data": {
      "text/plain": [
       "(5858234, 200097266, 2010711252, 433579218942, 994118624)"
      ]
     },
     "execution_count": 5,
     "metadata": {},
     "output_type": "execute_result"
    }
   ],
   "source": [
    "len(data['nodes']), sum(data['nodes']), sum(data['edges']), sum(data['quads']), sum(data['spans'])"
   ]
  },
  {
   "cell_type": "code",
   "execution_count": 6,
   "metadata": {
    "ExecuteTime": {
     "end_time": "2016-12-07T16:15:47.452022",
     "start_time": "2016-12-07T16:15:46.293288"
    },
    "collapsed": false,
    "run_control": {
     "frozen": false,
     "read_only": false
    }
   },
   "outputs": [
    {
     "data": {
      "text/plain": [
       "(18438, 475937, 1476614909, 50853)"
      ]
     },
     "execution_count": 6,
     "metadata": {},
     "output_type": "execute_result"
    }
   ],
   "source": [
    "max(data['nodes']), max(data['edges']), max(data['quads']), max(data['spans'])"
   ]
  },
  {
   "cell_type": "code",
   "execution_count": 7,
   "metadata": {
    "ExecuteTime": {
     "end_time": "2016-12-07T16:15:48.616446",
     "start_time": "2016-12-07T16:15:47.454943"
    },
    "collapsed": false,
    "run_control": {
     "frozen": false,
     "read_only": false
    }
   },
   "outputs": [
    {
     "data": {
      "text/plain": [
       "(4, 3, 1, 14)"
      ]
     },
     "execution_count": 7,
     "metadata": {},
     "output_type": "execute_result"
    }
   ],
   "source": [
    "min(data['nodes']), min(data['edges']), min(data['quads']), min(data['spans'])"
   ]
  },
  {
   "cell_type": "code",
   "execution_count": 8,
   "metadata": {
    "ExecuteTime": {
     "end_time": "2016-12-07T16:15:50.289349",
     "start_time": "2016-12-07T16:15:48.619057"
    },
    "collapsed": false,
    "run_control": {
     "frozen": false,
     "read_only": false
    }
   },
   "outputs": [
    {
     "data": {
      "text/plain": [
       "(34.156584731849222,\n",
       " 343.22822406889173,\n",
       " 74011.932425710547,\n",
       " 169.69595683613866)"
      ]
     },
     "execution_count": 8,
     "metadata": {},
     "output_type": "execute_result"
    }
   ],
   "source": [
    "np.mean(data['nodes']), np.mean(data['edges']), np.mean(data['quads']), np.mean(data['spans'])"
   ]
  },
  {
   "cell_type": "code",
   "execution_count": 9,
   "metadata": {
    "ExecuteTime": {
     "end_time": "2016-12-07T16:15:52.254830",
     "start_time": "2016-12-07T16:15:50.291770"
    },
    "collapsed": false,
    "run_control": {
     "frozen": false,
     "read_only": false
    }
   },
   "outputs": [
    {
     "data": {
      "text/plain": [
       "(20.0, 75.0, 293.0, 123.0)"
      ]
     },
     "execution_count": 9,
     "metadata": {},
     "output_type": "execute_result"
    }
   ],
   "source": [
    "np.median(data['nodes']), np.median(data['edges']), np.median(data['quads']), np.median(data['spans'])"
   ]
  },
  {
   "cell_type": "code",
   "execution_count": 10,
   "metadata": {
    "ExecuteTime": {
     "end_time": "2016-12-07T16:15:52.827317",
     "start_time": "2016-12-07T16:15:52.257206"
    },
    "collapsed": false,
    "run_control": {
     "frozen": false,
     "read_only": false
    }
   },
   "outputs": [
    {
     "data": {
      "text/plain": [
       "87200"
      ]
     },
     "execution_count": 10,
     "metadata": {},
     "output_type": "execute_result"
    }
   ],
   "source": [
    "len(np.where(np.array(data['quads']) == 1)[0])"
   ]
  },
  {
   "cell_type": "code",
   "execution_count": 53,
   "metadata": {
    "ExecuteTime": {
     "end_time": "2016-12-07T17:07:57.223574",
     "start_time": "2016-12-07T17:07:46.971004"
    },
    "collapsed": false,
    "run_control": {
     "frozen": false,
     "read_only": false
    }
   },
   "outputs": [
    {
     "data": {
      "image/png": "[encoded data removed]",
      "text/plain": [
       "<matplotlib.figure.Figure at 0x2b0a13395c88>"
      ]
     },
     "metadata": {},
     "output_type": "display_data"
    }
   ],
   "source": [
    "plt.style.use('fivethirtyeight')\n",
    "\n",
    "from matplotlib.ticker import FuncFormatter\n",
    "\n",
    "def millions(x, pos):\n",
    "    return '%1.2f' % (x*1e-6)\n",
    "formatter = FuncFormatter(millions)\n",
    "\n",
    "keys = ['nodes', 'edges', 'quads', 'spans', 'graph_density', 'node_density']\n",
    "loc = [(0, 0), (0, 1), (1, 0), (1, 1), (2, 0), (2, 1)]\n",
    "labels = ['Number of nodes per graph', 'Number of edges per graph', 'Number of PG4 per graph',\n",
    "          'Length of span per graph', 'Density of each graph', 'Node density per graph']\n",
    "#fig, axis = plt.subplots(3, 2, figsize=(6,5))\n",
    "#for i in range(6):\n",
    "fig, axis = plt.subplots(2, 2, figsize=(6,4.5))\n",
    "for i in range(4):\n",
    "    ax = axis[loc[i]]\n",
    "    ax.hist(np.log2(data[keys[i]]), bins=80, edgecolor='none',\n",
    "            alpha=0.8)\n",
    "    median = np.median(data[keys[i]])\n",
    "    ax.axvline(np.log2(median), lw=1, ls='--', color='k',\n",
    "               alpha=0.6, label=\"Median: %d\" % median)\n",
    "    if loc[i][1] == 0:\n",
    "        ax.set_ylabel('Frequency (x1e6)', fontsize=9)\n",
    "    ax.set_xlabel('Log2 (%s)' % labels[i], fontsize=9)\n",
    "    ax.xaxis.set_tick_params(labelsize=9)\n",
    "    ax.yaxis.set_tick_params(labelsize=9)\n",
    "    ax.grid(which='major', linestyle='--', alpha=0.7)\n",
    "    ax.yaxis.set_major_formatter(formatter)\n",
    "    for i in ['top', 'bottom', 'left', 'right']:\n",
    "        ax.spines[i].set_visible(False)\n",
    "    ax.legend(loc='best', frameon=False, fontsize=9)\n",
    "\n",
    "fig.tight_layout()\n",
    "plt.savefig('properties_distribution.pdf', transparent=True, edgecolor='none')\n",
    "plt.savefig('properties_distribution.png', dpi=300, transparent=True, edgecolor='none')\n",
    "plt.show()"
   ]
  },
  {
   "cell_type": "code",
   "execution_count": 28,
   "metadata": {
    "ExecuteTime": {
     "end_time": "2016-11-25T23:49:05.501398",
     "start_time": "2016-11-25T23:48:53.983102"
    },
    "collapsed": false,
    "run_control": {
     "frozen": false,
     "read_only": false
    }
   },
   "outputs": [
    {
     "data": {
      "text/html": [
       "<div>\n",
       "<table border=\"1\" class=\"dataframe\">\n",
       "  <thead>\n",
       "    <tr style=\"text-align: right;\">\n",
       "      <th></th>\n",
       "      <th>nodes</th>\n",
       "      <th>edges</th>\n",
       "      <th>quads</th>\n",
       "      <th>spans</th>\n",
       "      <th>graph_density</th>\n",
       "      <th>node_density</th>\n",
       "    </tr>\n",
       "  </thead>\n",
       "  <tbody>\n",
       "    <tr>\n",
       "      <th>nodes</th>\n",
       "      <td>NaN</td>\n",
       "      <td>0.913340</td>\n",
       "      <td>0.442394</td>\n",
       "      <td>0.862069</td>\n",
       "      <td>-0.419221</td>\n",
       "      <td>0.331613</td>\n",
       "    </tr>\n",
       "    <tr>\n",
       "      <th>edges</th>\n",
       "      <td>0.913340</td>\n",
       "      <td>NaN</td>\n",
       "      <td>0.691379</td>\n",
       "      <td>0.664405</td>\n",
       "      <td>-0.250547</td>\n",
       "      <td>0.323343</td>\n",
       "    </tr>\n",
       "    <tr>\n",
       "      <th>quads</th>\n",
       "      <td>0.442394</td>\n",
       "      <td>0.691379</td>\n",
       "      <td>NaN</td>\n",
       "      <td>0.243230</td>\n",
       "      <td>-0.072381</td>\n",
       "      <td>0.109046</td>\n",
       "    </tr>\n",
       "    <tr>\n",
       "      <th>spans</th>\n",
       "      <td>0.862069</td>\n",
       "      <td>0.664405</td>\n",
       "      <td>0.243230</td>\n",
       "      <td>NaN</td>\n",
       "      <td>-0.603182</td>\n",
       "      <td>0.020505</td>\n",
       "    </tr>\n",
       "    <tr>\n",
       "      <th>graph_density</th>\n",
       "      <td>-0.419221</td>\n",
       "      <td>-0.250547</td>\n",
       "      <td>-0.072381</td>\n",
       "      <td>-0.603182</td>\n",
       "      <td>NaN</td>\n",
       "      <td>0.068453</td>\n",
       "    </tr>\n",
       "    <tr>\n",
       "      <th>node_density</th>\n",
       "      <td>0.331613</td>\n",
       "      <td>0.323343</td>\n",
       "      <td>0.109046</td>\n",
       "      <td>0.020505</td>\n",
       "      <td>0.068453</td>\n",
       "      <td>NaN</td>\n",
       "    </tr>\n",
       "  </tbody>\n",
       "</table>\n",
       "</div>"
      ],
      "text/plain": [
       "                  nodes     edges     quads     spans  graph_density  \\\n",
       "nodes               NaN  0.913340  0.442394  0.862069      -0.419221   \n",
       "edges          0.913340       NaN  0.691379  0.664405      -0.250547   \n",
       "quads          0.442394  0.691379       NaN  0.243230      -0.072381   \n",
       "spans          0.862069  0.664405  0.243230       NaN      -0.603182   \n",
       "graph_density -0.419221 -0.250547 -0.072381 -0.603182            NaN   \n",
       "node_density   0.331613  0.323343  0.109046  0.020505       0.068453   \n",
       "\n",
       "               node_density  \n",
       "nodes              0.331613  \n",
       "edges              0.323343  \n",
       "quads              0.109046  \n",
       "spans              0.020505  \n",
       "graph_density      0.068453  \n",
       "node_density            NaN  "
      ]
     },
     "execution_count": 28,
     "metadata": {},
     "output_type": "execute_result"
    }
   ],
   "source": [
    "rvals = defaultdict(dict)\n",
    "keys = ['nodes', 'edges', 'quads', 'spans', 'graph_density', 'node_density']\n",
    "for i in combinations(keys, r=2):\n",
    "    rvals[i[0]][i[1]] = pearsonr(data[i[0]], data[i[1]])[0]\n",
    "df = pd.DataFrame(rvals).reindex(keys).reindex_axis(keys, axis=1)\n",
    "for i in df:\n",
    "    for j in keys:\n",
    "        df[j][i] = df[i][j]\n",
    "df"
   ]
  },
  {
   "cell_type": "code",
   "execution_count": 29,
   "metadata": {
    "ExecuteTime": {
     "end_time": "2016-11-25T23:49:13.271379",
     "start_time": "2016-11-25T23:49:05.504245"
    },
    "collapsed": false,
    "run_control": {
     "frozen": false,
     "read_only": false
    }
   },
   "outputs": [
    {
     "name": "stderr",
     "output_type": "stream",
     "text": [
      "/home/parashar/anaconda3/lib/python3.5/site-packages/scipy/stats/morestats.py:1330: UserWarning: p-value may not be accurate for N > 5000.\n",
      "  warnings.warn(\"p-value may not be accurate for N > 5000.\")\n"
     ]
    },
    {
     "data": {
      "image/png": "[encoded data removed]",
      "text/plain": [
       "<matplotlib.figure.Figure at 0x2b9eebdb28d0>"
      ]
     },
     "metadata": {},
     "output_type": "display_data"
    }
   ],
   "source": [
    "fig, ax = plt.subplots(1, 1, figsize=(6,5))\n",
    "\n",
    "shapiro_w = \"%.3f\" % shapiro(np.log(data['score']))[0]\n",
    "loc = np.mean(np.log(data['score']))\n",
    "scale = np.std(np.log(data['score']))\n",
    "norm = np.random.normal(loc, scale, len(data['score']))\n",
    "_ = ax.hist(np.log(data['score']), bins=500, color='dodgerblue',\n",
    "            edgecolor='none', alpha=0.7, normed=True, label='Graph scores')\n",
    "_ = ax.hist(norm, bins=50, alpha=0.8, normed=True, histtype='step',\n",
    "            lw=2, label='Fitted normal\\ndistribution\\n(SW=%s)' % shapiro_w)\n",
    "ax.legend()\n",
    "ax.set_xlabel('Graph score')\n",
    "ax.set_ylabel('Relative frequency')\n",
    "\n",
    "fig.tight_layout()\n",
    "plt.savefig('graph_score_dist.png', dpi=200)\n",
    "plt.show()"
   ]
  },
  {
   "cell_type": "code",
   "execution_count": 30,
   "metadata": {
    "ExecuteTime": {
     "end_time": "2016-11-25T23:49:14.450770",
     "start_time": "2016-11-25T23:49:13.273874"
    },
    "collapsed": false,
    "run_control": {
     "frozen": false,
     "read_only": false
    }
   },
   "outputs": [
    {
     "data": {
      "text/plain": [
       "(0.060119181110434752, 5.288694638694639)"
      ]
     },
     "execution_count": 30,
     "metadata": {},
     "output_type": "execute_result"
    }
   ],
   "source": [
    "min(data['score']), max(data['score'])"
   ]
  },
  {
   "cell_type": "code",
   "execution_count": 31,
   "metadata": {
    "ExecuteTime": {
     "end_time": "2016-11-25T23:50:11.780528",
     "start_time": "2016-11-25T23:49:14.453539"
    },
    "collapsed": false,
    "run_control": {
     "frozen": false,
     "read_only": false
    }
   },
   "outputs": [
    {
     "name": "stderr",
     "output_type": "stream",
     "text": [
      "100%|██████████| 5858234/5858234 [00:56<00:00, 102930.66it/s]\n"
     ]
    }
   ],
   "source": [
    "out_handles = {chrom: open('./data/QuadGraphs_bed/%s.bed' % chrom, 'w')\n",
    "               for chrom in chroms}\n",
    "\n",
    "for i in tqdm(range(len(data['nodes']))):\n",
    "    bed_line = [data['chroms'][i], data['beginPos'][i], data['endPos'][i] + 1,\n",
    "                data['ghostBeginPos'][i], data['score'][i], data['strands'][i]]\n",
    "    out_handles[data['chroms'][i]].write(\"\\t\".join(map(str, bed_line)) + '\\n')\n",
    "    \n",
    "for i in out_handles:\n",
    "    out_handles[i].close()"
   ]
  },
  {
   "cell_type": "code",
   "execution_count": null,
   "metadata": {
    "collapsed": true,
    "run_control": {
     "frozen": false,
     "read_only": false
    }
   },
   "outputs": [],
   "source": [
    "!cat QuadGraphs_bed/* | sort -k 1,1 -k2n,2 > QuadGraph.bed"
   ]
  },
  {
   "cell_type": "code",
   "execution_count": null,
   "metadata": {
    "collapsed": true,
    "run_control": {
     "frozen": false,
     "read_only": false
    }
   },
   "outputs": [],
   "source": []
  },
  {
   "cell_type": "code",
   "execution_count": 100,
   "metadata": {
    "ExecuteTime": {
     "end_time": "2016-12-09T23:44:22.227581",
     "start_time": "2016-12-09T23:43:16.211658"
    },
    "collapsed": false,
    "run_control": {
     "frozen": false,
     "read_only": false
    }
   },
   "outputs": [
    {
     "name": "stderr",
     "output_type": "stream",
     "text": [
      "chr1: 100%|██████████| 500/500 [00:01<00:00, 302.93it/s]\n",
      "chr2: 100%|██████████| 488/488 [00:05<00:00, 88.01it/s]\n",
      "chr3: 100%|██████████| 398/398 [00:04<00:00, 89.55it/s]\n",
      "chr4: 100%|██████████| 384/384 [00:04<00:00, 91.67it/s]\n",
      "chr5: 100%|██████████| 362/362 [00:03<00:00, 90.56it/s]\n",
      "chr6: 100%|██████████| 344/344 [00:03<00:00, 91.69it/s]\n",
      "chr7: 100%|██████████| 320/320 [00:03<00:00, 91.41it/s]\n",
      "chr8: 100%|██████████| 294/294 [00:03<00:00, 90.45it/s]\n",
      "chr9: 100%|██████████| 284/284 [00:03<00:00, 91.16it/s]\n",
      "chr10: 100%|██████████| 272/272 [00:02<00:00, 92.67it/s]\n",
      "chr11: 100%|██████████| 272/272 [00:03<00:00, 87.52it/s]\n",
      "chr12: 100%|██████████| 268/268 [00:02<00:00, 90.59it/s]\n",
      "chr13: 100%|██████████| 232/232 [00:02<00:00, 94.42it/s]\n",
      "chr14: 100%|██████████| 216/216 [00:02<00:00, 84.14it/s]\n",
      "chr15: 100%|██████████| 206/206 [00:02<00:00, 87.47it/s]\n",
      "chr16: 100%|██████████| 182/182 [00:02<00:00, 90.62it/s]\n",
      "chr17: 100%|██████████| 164/164 [00:01<00:00, 86.80it/s]\n",
      "chr18: 100%|██████████| 158/158 [00:01<00:00, 93.24it/s]\n",
      "chr19: 100%|██████████| 120/120 [00:01<00:00, 91.25it/s]\n",
      "chr20: 100%|██████████| 128/128 [00:01<00:00, 91.60it/s]\n",
      "chr21: 100%|██████████| 98/98 [00:01<00:00, 81.25it/s]\n",
      "chr22: 100%|██████████| 104/104 [00:01<00:00, 90.47it/s]\n",
      "chrX: 100%|██████████| 312/312 [00:03<00:00, 85.40it/s]\n",
      "chrY: 100%|██████████| 120/120 [00:01<00:00, 85.19it/s]\n"
     ]
    }
   ],
   "source": [
    "loop_dir = \"./data/quad_graph_loop_profile\"\n",
    "chroms = ['chr%d' % i for i in range(1, 23)] + ['chrX', 'chrY']\n",
    "strands = [\"positive\", 'negative']\n",
    "keys = [\n",
    "        \"0_0\", \"0_1\", \"0_2\", \"0_3\",\n",
    "        \"1_0\", \"1_1\", \"1_2\", \"1_3\",\n",
    "        \"2_0\", \"2_1\", \"2_2\", \"2_3\",\n",
    "        \"3_0\", \"3_1\", \"3_2\", \"3_3\",\n",
    "    ]\n",
    "loop_data = {str(x): [] for x in range(1, 51)}\n",
    "bulge_data = {'0': [], '1': [], '2': [], '3': []}\n",
    "for chrom in chroms:\n",
    "    fns = sorted(glob.glob(\"%s/%s/*/*.json\" % (loop_dir, chrom)))\n",
    "    for fn in tqdm(fns, desc=chrom):\n",
    "        d = json.load(open(fn))\n",
    "        temp = {str(x): 0 for x in range(1, 51)}\n",
    "        for k in d[0]:\n",
    "            for l in d[0][k]:\n",
    "                temp[l]+=d[0][k][l]\n",
    "        for l in temp:\n",
    "            loop_data[l].append(temp[l])\n",
    "        for k in d[1]:\n",
    "            bulge_data[k].append(d[1][k])"
   ]
  },
  {
   "cell_type": "code",
   "execution_count": 107,
   "metadata": {
    "ExecuteTime": {
     "end_time": "2016-12-09T23:46:07.781611",
     "start_time": "2016-12-09T23:46:06.453718"
    },
    "collapsed": false,
    "run_control": {
     "frozen": false,
     "read_only": false
    }
   },
   "outputs": [
    {
     "data": {
      "image/png": "[encoded data removed]",
      "text/plain": [
       "<matplotlib.figure.Figure at 0x2b1fc4d04da0>"
      ]
     },
     "metadata": {},
     "output_type": "display_data"
    }
   ],
   "source": [
    "plt.style.use('fivethirtyeight')\n",
    "\n",
    "boxprops = dict(linestyle='-', linewidth=1, color='k', alpha=0.8)\n",
    "medianprops = dict(linestyle='-', linewidth=1.5, color='crimson', alpha=0.8)\n",
    "whiskerprops = dict(linestyle='-', linewidth=1.5, color='k', alpha=0.8)\n",
    "\n",
    "for_box = []\n",
    "for i in range(1, 26):\n",
    "    for_box.append(np.array(loop_data[str(i)]))\n",
    "fig, ax = plt.subplots(1, 1, figsize=(6,2))\n",
    "ax.boxplot(for_box, sym='', boxprops=boxprops,\n",
    "           medianprops=medianprops, whiskerprops=whiskerprops)\n",
    "ax.xaxis.set_tick_params(labelsize=9)\n",
    "ax.yaxis.set_tick_params(labelsize=9)\n",
    "ax.grid(which='major', linestyle='--', alpha=0.7)\n",
    "for i in ['top', 'bottom', 'left', 'right']:\n",
    "    ax.spines[i].set_visible(False)\n",
    "ax.set_xlabel('Loop length', fontsize=10)\n",
    "ax.set_ylabel('Number of loops', fontsize=10)\n",
    "ax.set_yticks([x for x in range(0, 30000, 5000)])\n",
    "ax.set_ylim((-1000, 25001))\n",
    "plt.tight_layout()\n",
    "plt.savefig('quadgraph_loop_dists.pdf', transparent=True, edgecolor='none')\n",
    "plt.savefig('quadgraph_loop_dists.png', dpi=300, transparent=True, edgecolor='none')\n",
    "plt.show()"
   ]
  },
  {
   "cell_type": "code",
   "execution_count": 124,
   "metadata": {
    "ExecuteTime": {
     "end_time": "2016-12-09T23:50:50.826021",
     "start_time": "2016-12-09T23:50:50.351935"
    },
    "collapsed": false,
    "run_control": {
     "frozen": false,
     "read_only": false
    }
   },
   "outputs": [
    {
     "data": {
      "image/png": "[encoded data removed]",
      "text/plain": [
       "<matplotlib.figure.Figure at 0x2b1fe7202ac8>"
      ]
     },
     "metadata": {},
     "output_type": "display_data"
    }
   ],
   "source": [
    "plt.style.use('fivethirtyeight')\n",
    "\n",
    "boxprops = dict(linestyle='-', linewidth=1, color='k', alpha=0.8)\n",
    "medianprops = dict(linestyle='-', linewidth=1.5, color='crimson', alpha=0.8)\n",
    "whiskerprops = dict(linestyle='-', linewidth=1.5, color='k', alpha=0.8)\n",
    "\n",
    "for_box = []\n",
    "for i in range(0, 4):\n",
    "    for_box.append(np.array(bulge_data[str(i)]))\n",
    "\n",
    "fig, ax = plt.subplots(1, 1, figsize=(3,2))\n",
    "ax.boxplot(for_box, sym='', boxprops=boxprops,\n",
    "           medianprops=medianprops, whiskerprops=whiskerprops)\n",
    "ax.xaxis.set_tick_params(labelsize=9)\n",
    "ax.yaxis.set_tick_params(labelsize=9)\n",
    "ax.grid(which='major', linestyle='--', alpha=0.7)\n",
    "for i in ['top', 'bottom', 'left', 'right']:\n",
    "    ax.spines[i].set_visible(False)\n",
    "ax.set_ylabel('Frequency', fontsize=10)\n",
    "ax.set_yticks([x for x in range(0, 30000, 5000)])\n",
    "ax.set_ylim((-1000, 25001))\n",
    "ax.set_xticklabels(['GGG', '1nt bulge', '2nt bulge', '3nt bulge'],\n",
    "                      rotation=45, ha='right', va='top')\n",
    "plt.tight_layout()\n",
    "plt.savefig('quadgraph_bulges.pdf', transparent=True, edgecolor='none')\n",
    "plt.savefig('quadgraph_bulges.png', dpi=300, transparent=True, edgecolor='none')\n",
    "plt.show()"
   ]
  }
 ],
 "metadata": {
  "anaconda-cloud": {},
  "kernelspec": {
   "display_name": "Python [default]",
   "language": "python",
   "name": "python3"
  },
  "language_info": {
   "codemirror_mode": {
    "name": "ipython",
    "version": 3
   },
   "file_extension": ".py",
   "mimetype": "text/x-python",
   "name": "python",
   "nbconvert_exporter": "python",
   "pygments_lexer": "ipython3",
   "version": "3.5.2"
  },
  "nav_menu": {},
  "toc": {
   "navigate_menu": true,
   "number_sections": true,
   "sideBar": true,
   "threshold": 6,
   "toc_cell": false,
   "toc_section_display": "block",
   "toc_window_display": false
  }
 },
 "nbformat": 4,
 "nbformat_minor": 1
}
