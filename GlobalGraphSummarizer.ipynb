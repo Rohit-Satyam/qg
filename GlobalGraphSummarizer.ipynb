{
 "cells": [
  {
   "cell_type": "code",
   "execution_count": 23,
   "metadata": {
    "ExecuteTime": {
     "end_time": "2017-05-05T05:43:46.768414Z",
     "start_time": "2017-05-05T05:43:46.753673Z"
    },
    "collapsed": true,
    "run_control": {
     "frozen": false,
     "read_only": false
    }
   },
   "outputs": [],
   "source": [
    "import numpy as np\n",
    "from IPython.display import clear_output\n",
    "import matplotlib.pyplot as plt\n",
    "from matplotlib.ticker import FuncFormatter\n",
    "\n",
    "plt.style.use('fivethirtyeight')\n",
    "def clean_axis(ax):\n",
    "    ax.xaxis.set_tick_params(labelsize=9)\n",
    "    ax.yaxis.set_tick_params(labelsize=9)\n",
    "    for i in ['top', 'bottom', 'left', 'right']:\n",
    "        ax.spines[i].set_visible(False)\n",
    "    ax.grid(which='major', linestyle='--', alpha=0.5)\n",
    "    return True"
   ]
  },
  {
   "cell_type": "code",
   "execution_count": 3,
   "metadata": {
    "ExecuteTime": {
     "end_time": "2017-05-05T05:38:08.846333Z",
     "start_time": "2017-05-05T05:38:08.838319Z"
    },
    "collapsed": true
   },
   "outputs": [],
   "source": [
    "chroms= ['chr'+str(x) for x in range(1, 23)] + ['chrX', 'chrY']"
   ]
  },
  {
   "cell_type": "code",
   "execution_count": 22,
   "metadata": {
    "ExecuteTime": {
     "end_time": "2017-05-05T05:42:48.285898Z",
     "start_time": "2017-05-05T05:42:37.697455Z"
    }
   },
   "outputs": [],
   "source": [
    "info = np.array([[0, 0, 0, 0, 0]])\n",
    "for chrom in chroms:\n",
    "    for strand in ['positive', 'negative']:\n",
    "        chrom_info = np.load('../data/sniprq_scores/%s_%s_info.npy' % (chrom, strand))\n",
    "        print (chrom, chrom_info.shape)\n",
    "        info = np.vstack([info, chrom_info])\n",
    "    clear_output()\n",
    "info = info[1:]"
   ]
  },
  {
   "cell_type": "code",
   "execution_count": 34,
   "metadata": {
    "ExecuteTime": {
     "end_time": "2017-05-05T05:49:17.654686Z",
     "start_time": "2017-05-05T05:49:17.453890Z"
    }
   },
   "outputs": [],
   "source": [
    "processed_info = [info[:, 0], info[:, 1], info[:, 2], info[:, 4]-info[:, 3]]"
   ]
  },
  {
   "cell_type": "code",
   "execution_count": 60,
   "metadata": {
    "ExecuteTime": {
     "end_time": "2017-05-05T09:33:19.416955Z",
     "start_time": "2017-05-05T09:33:17.460282Z"
    }
   },
   "outputs": [
    {
     "data": {
      "text/plain": [
       "1204402718"
      ]
     },
     "execution_count": 60,
     "metadata": {},
     "output_type": "execute_result"
    }
   ],
   "source": [
    "sum(processed_info[3])"
   ]
  },
  {
   "cell_type": "code",
   "execution_count": 61,
   "metadata": {
    "ExecuteTime": {
     "end_time": "2017-05-05T09:33:26.326087Z",
     "start_time": "2017-05-05T09:33:24.284298Z"
    }
   },
   "outputs": [
    {
     "data": {
      "text/plain": [
       "3062528532"
      ]
     },
     "execution_count": 61,
     "metadata": {},
     "output_type": "execute_result"
    }
   ],
   "source": [
    "sum(processed_info[2])"
   ]
  },
  {
   "cell_type": "code",
   "execution_count": 55,
   "metadata": {
    "ExecuteTime": {
     "end_time": "2017-05-05T05:59:32.728308Z",
     "start_time": "2017-05-05T05:59:24.886459Z"
    }
   },
   "outputs": [
    {
     "data": {
      "image/png": "[encoded data removed]",
      "text/plain": [
       "<matplotlib.figure.Figure at 0x2b1775383518>"
      ]
     },
     "metadata": {},
     "output_type": "display_data"
    }
   ],
   "source": [
    "def millions(x, pos):\n",
    "    return '%1.2f' % (x*1e-6)\n",
    "formatter = FuncFormatter(millions)\n",
    "\n",
    "loc = [(0, 0), (0, 1), (1, 0), (1, 1)]\n",
    "xlims = [(0, 8), (0, 12), (0, 16), (0, 10)]\n",
    "labels = ['Number of\\nnodes per graph', 'Number of\\nedges per graph',\n",
    "          'Number of\\nPG4 per graph', 'Length of\\nspan per graph',]\n",
    "fig, axis = plt.subplots(2, 2, figsize=(5,4))\n",
    "for i in range(4):\n",
    "    ax = axis[loc[i]]\n",
    "    ax.hist(np.log2(processed_info[i]), bins=50, edgecolor='none',\n",
    "            alpha=0.5, color='crimson')\n",
    "    median = np.median(processed_info[i])\n",
    "    ax.axvline(np.log2(median), lw=1, ls='--', color='k', alpha=0.6)\n",
    "    if loc[i][1] == 0:\n",
    "        ax.set_ylabel('Frequency (x1e6)', fontsize=10)\n",
    "    ax.set_xlabel('Log2 (%s)' % labels[i], fontsize=10)\n",
    "    ax.yaxis.set_major_formatter(formatter)\n",
    "    ax.text(0.5, 0.8, \"Median: %d\" % median, fontsize=10, transform=ax.transAxes)\n",
    "    ax.set_xlim(xlims[i])\n",
    "    clean_axis(ax)\n",
    "\n",
    "fig.tight_layout()\n",
    "plt.savefig('../images/properties_distribution.svg', transparent=True, edgecolor='none')\n",
    "plt.savefig('../images/properties_distribution.png', dpi=300, transparent=True, edgecolor='none')\n",
    "plt.show()"
   ]
  },
  {
   "cell_type": "code",
   "execution_count": null,
   "metadata": {
    "collapsed": true
   },
   "outputs": [],
   "source": []
  }
 ],
 "metadata": {
  "kernelspec": {
   "display_name": "Python [default]",
   "language": "python",
   "name": "python3"
  },
  "language_info": {
   "codemirror_mode": {
    "name": "ipython",
    "version": 3
   },
   "file_extension": ".py",
   "mimetype": "text/x-python",
   "name": "python",
   "nbconvert_exporter": "python",
   "pygments_lexer": "ipython3",
   "version": "3.5.2"
  }
 },
 "nbformat": 4,
 "nbformat_minor": 2
}
