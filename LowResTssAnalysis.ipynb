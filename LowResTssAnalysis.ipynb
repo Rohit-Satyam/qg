{
 "cells": [
  {
   "cell_type": "code",
   "execution_count": 1,
   "metadata": {
    "collapsed": false
   },
   "outputs": [
    {
     "name": "stdout",
     "output_type": "stream",
     "text": [
      "26\n"
     ]
    }
   ],
   "source": [
    "import matplotlib.pyplot as plt\n",
    "import numpy as np\n",
    "import pandas as pd\n",
    "import seaborn.apionly as sns\n",
    "from sklearn import cluster\n",
    "from ipyparallel import Client\n",
    "import scipy.cluster.hierarchy as sch\n",
    "import json\n",
    "import scipy as sp\n",
    "import scipy.stats\n",
    "\n",
    "%matplotlib inline\n",
    "\n",
    "_RC = Client()\n",
    "_DVIEW = _RC[:]\n",
    "print (len(_RC))"
   ]
  },
  {
   "cell_type": "code",
   "execution_count": 10,
   "metadata": {
    "collapsed": false
   },
   "outputs": [],
   "source": [
    "@_DVIEW.parallel(block=True)\n",
    "def intersect_to_array(chrom, window=2000, binsize=20):\n",
    "    import pybedtools as pbt\n",
    "    from collections import OrderedDict\n",
    "    import numpy as np\n",
    "    \n",
    "    def make_gene_array(bed_intersect_line, window):\n",
    "        c = str(bed_intersect_line).split('\\t')\n",
    "        window = 2 * window\n",
    "        a = np.zeros(window)\n",
    "        if c[6] == '.':\n",
    "            return c[3], a\n",
    "        strand = c[5]\n",
    "        s = int(c[7]) - int(c[1])\n",
    "        e = int(c[8]) - int(c[1])\n",
    "        if s < 0:\n",
    "            s = 0\n",
    "        if e  >= window:\n",
    "            e = window - 1\n",
    "        if strand == \"-\":\n",
    "            s = window - s\n",
    "            e = window - e\n",
    "            temp = s\n",
    "            s = e\n",
    "            e = temp\n",
    "        a[s:e]+=float(c[10])\n",
    "        return c[3], a\n",
    "\n",
    "    def get_binned_array(a, b):\n",
    "        remainder = len(a) % b\n",
    "        if remainder > 0:\n",
    "            binned = a[:-remainder]\n",
    "        else:\n",
    "            binned = a.copy()\n",
    "        binned = binned.reshape(len(a) // b, b).mean(axis=1)\n",
    "        if remainder > 0:\n",
    "            return np.append(binned, a[-remainder:].mean())\n",
    "        return binned\n",
    "    \n",
    "    base_dir = '/home/parashar/scratch/quadcomb/data/'\n",
    "    gencode_tss_loc = base_dir + 'annotation/chrom_wise_gencode_tss'\n",
    "    qg_dir = base_dir + 'QuadGraphs_bed'\n",
    "    gencode_tss = pbt.BedTool(\"%s/%s.bed\" % (gencode_tss_loc, chrom)).slop(\n",
    "                    b=window, genome='hg19')\n",
    "    qg_bed = pbt.BedTool(\"%s/%s.bed\" % (qg_dir, chrom))\n",
    "    intersect = gencode_tss.intersect(qg_bed, wao=True)\n",
    "    gene_arrays = OrderedDict()\n",
    "    for n,i in enumerate(intersect):\n",
    "        g, a = make_gene_array(i, window)\n",
    "        if g not in gene_arrays:\n",
    "            gene_arrays[g] = get_binned_array(a, binsize)            \n",
    "        else:\n",
    "            gene_arrays[g] += get_binned_array(a, binsize)\n",
    "    return gene_arrays    "
   ]
  },
  {
   "cell_type": "code",
   "execution_count": 11,
   "metadata": {
    "collapsed": false
   },
   "outputs": [],
   "source": [
    "chroms = ['chr'+str(x) for x in range(1, 23)] + ['chrX', 'chrY']\n",
    "gene_arrays = intersect_to_array.map(chroms)"
   ]
  },
  {
   "cell_type": "code",
   "execution_count": null,
   "metadata": {
    "collapsed": true
   },
   "outputs": [],
   "source": [
    "def deduplicate_matrix(m):\n",
    "    deduplicated_matrix = []\n",
    "    last = m[0]\n",
    "    for i in m[1:]:\n",
    "        if (i != last).any():\n",
    "            deduplicated_matrix.append(i)\n",
    "        last = i[:]\n",
    "    return np.array(deduplicated_matrix)\n",
    "\n",
    "def plot_matrix(chrom, m):\n",
    "    fig_height = max(1, m.shape[0]//2000)\n",
    "    fig, ax = plt.subplots(1,1, figsize=(3, fig_height))\n",
    "    sns.heatmap(m, yticklabels=False, xticklabels=False, cbar=True,\n",
    "                vmin=0, vmax=2.5, cmap='YlGnBu', ax=ax, lw=0)\n",
    "    ax.set_xticks([0, 50, 100])\n",
    "    ax.axvline(50, color='Grey', alpha=0.7, ls='--')\n",
    "    ax.set_xticklabels([-2000, 'TSS', 2000], rotation=30)\n",
    "    ax.set_title(chrom, fontsize=14)\n",
    "    fig.tight_layout()\n",
    "    plt.savefig('./images/tss_g4/%s.png' % chrom, dpi=200)\n",
    "    plt.show()"
   ]
  },
  {
   "cell_type": "code",
   "execution_count": null,
   "metadata": {
    "collapsed": false,
    "scrolled": false
   },
   "outputs": [],
   "source": [
    "all_values = []\n",
    "all_transcripts = []\n",
    "for chrom, ga in zip(chroms, gene_arrays):\n",
    "    matrix = deduplicate_matrix(np.array(list(ga.values())))\n",
    "    print (chrom, matrix.shape)\n",
    "    if chrom == \"chr14\":\n",
    "        plot_matrix(chrom, matrix)\n",
    "    all_values.extend([x for x in matrix])\n",
    "    all_transcripts.extend(ga.keys())\n",
    "all_values = np.array(all_values)"
   ]
  },
  {
   "cell_type": "code",
   "execution_count": 7,
   "metadata": {
    "collapsed": true
   },
   "outputs": [],
   "source": [
    "def mean_confidence_interval(data, confidence=0.99):\n",
    "    a = 1.0*np.array(data)\n",
    "    n = len(a)\n",
    "    m, se = np.mean(a), scipy.stats.sem(a)\n",
    "    h = se * sp.stats.t._ppf((1 + confidence) / 2., n - 1)\n",
    "    return m, m - h, m + h\n",
    "\n",
    "res = []\n",
    "for i in range(all_values.shape[1]):\n",
    "    res.append(mean_confidence_interval(all_values[:, i]))\n",
    "res = np.array(res).T"
   ]
  },
  {
   "cell_type": "code",
   "execution_count": 8,
   "metadata": {
    "collapsed": false
   },
   "outputs": [
    {
     "data": {
      "image/png": "[encoded data removed]",
      "text/plain": [
       "<matplotlib.figure.Figure at 0x2ab2cc008a58>"
      ]
     },
     "metadata": {},
     "output_type": "display_data"
    }
   ],
   "source": [
    "plt.style.use('ggplot')\n",
    "fig, ax = plt.subplots(1, 1, figsize=(7,5))\n",
    "\n",
    "f = 3\n",
    "x = list(range(len(res[0])))\n",
    "y1 = res[0] - ((res[0]-res[1]) * f)\n",
    "y2 = res[0] + ((res[2]-res[0]) * f)\n",
    "\n",
    "ax.axvline(1000, color='k', alpha=0.6, ls='--', label='Mean QGS')\n",
    "ax.fill_between(x, y1, y2, alpha=1, label='QGS variance')\n",
    "ax.set_xticklabels([-2000, -1000, 'TSS', 1000, 2000], fontsize=14, rotation=30)\n",
    "for label in ax.get_yticklabels():\n",
    "    label.set_fontsize(14)\n",
    "ax.set_xlabel('Distance from TSS', fontsize=18)\n",
    "ax.set_ylabel('Mean QGS', fontsize=18)\n",
    "fig.tight_layout()\n",
    "plt.savefig('./images/tss_summary.png', dpi=200)\n",
    "plt.show()"
   ]
  },
  {
   "cell_type": "code",
   "execution_count": 16,
   "metadata": {
    "collapsed": false
   },
   "outputs": [],
   "source": [
    "voi = [t for v, t in zip(all_values, all_transcripts) if (v>2.5).any()]\n",
    "gencode_data = json.load(open('./data/annotation/hg19_gencode.json'))goi = []\n",
    "for i in voi:\n",
    "    goi.append(gencode_data[i]['gene_name'].split('.')[0])\n",
    "goi = list(set(goi))"
   ]
  },
  {
   "cell_type": "code",
   "execution_count": 11,
   "metadata": {
    "collapsed": false
   },
   "outputs": [
    {
     "data": {
      "text/plain": [
       "(183864, 2000)"
      ]
     },
     "execution_count": 11,
     "metadata": {},
     "output_type": "execute_result"
    }
   ],
   "source": [
    "all_values.shape"
   ]
  },
  {
   "cell_type": "code",
   "execution_count": null,
   "metadata": {
    "collapsed": true
   },
   "outputs": [],
   "source": []
  }
 ],
 "metadata": {
  "kernelspec": {
   "display_name": "Python [default]",
   "language": "python",
   "name": "python3"
  },
  "language_info": {
   "codemirror_mode": {
    "name": "ipython",
    "version": 3
   },
   "file_extension": ".py",
   "mimetype": "text/x-python",
   "name": "python",
   "nbconvert_exporter": "python",
   "pygments_lexer": "ipython3",
   "version": "3.5.2"
  }
 },
 "nbformat": 4,
 "nbformat_minor": 1
}
