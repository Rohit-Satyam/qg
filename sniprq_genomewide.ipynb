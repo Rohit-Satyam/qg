{
 "cells": [
  {
   "cell_type": "code",
   "execution_count": 1,
   "metadata": {
    "ExecuteTime": {
     "end_time": "2017-05-01T05:19:02.163004Z",
     "start_time": "2017-05-01T05:19:00.982291Z"
    },
    "run_control": {
     "frozen": false,
     "read_only": false
    }
   },
   "outputs": [
    {
     "data": {
      "text/plain": [
       "30"
      ]
     },
     "execution_count": 1,
     "metadata": {},
     "output_type": "execute_result"
    }
   ],
   "source": [
    "from sniprq import StemGroups, QuadPaths\n",
    "import numpy as np\n",
    "from IPython.display import clear_output\n",
    "from ipyparallel import Client\n",
    "\n",
    "DVIEW = Client()[:]\n",
    "DVIEW.block=True\n",
    "len(DVIEW)"
   ]
  },
  {
   "cell_type": "code",
   "execution_count": 2,
   "metadata": {
    "ExecuteTime": {
     "end_time": "2017-05-02T14:29:03.423232Z",
     "start_time": "2017-05-01T05:19:10.308576Z"
    },
    "code_folding": [
     6,
     18,
     41,
     55,
     73,
     126
    ],
    "run_control": {
     "frozen": false,
     "read_only": false
    }
   },
   "outputs": [
    {
     "name": "stdout",
     "output_type": "stream",
     "text": [
      "chr1 G\n"
     ]
    },
    {
     "name": "stderr",
     "output_type": "stream",
     "text": [
      "100%|██████████| 249250616/249250616 [1:14:10<00:00, 56009.67it/s] \n"
     ]
    },
    {
     "name": "stdout",
     "output_type": "stream",
     "text": [
      "chr1 C\n"
     ]
    },
    {
     "name": "stderr",
     "output_type": "stream",
     "text": [
      "100%|██████████| 249250616/249250616 [1:14:18<00:00, 55908.93it/s] \n"
     ]
    },
    {
     "name": "stdout",
     "output_type": "stream",
     "text": [
      "chr2 G\n"
     ]
    },
    {
     "name": "stderr",
     "output_type": "stream",
     "text": [
      "100%|██████████| 243199368/243199368 [1:16:31<00:00, 52969.94it/s]  \n"
     ]
    },
    {
     "name": "stdout",
     "output_type": "stream",
     "text": [
      "chr2 C\n"
     ]
    },
    {
     "name": "stderr",
     "output_type": "stream",
     "text": [
      "100%|██████████| 243199368/243199368 [1:46:40<00:00, 37998.06it/s]  \n"
     ]
    },
    {
     "name": "stdout",
     "output_type": "stream",
     "text": [
      "chr3 G\n"
     ]
    },
    {
     "name": "stderr",
     "output_type": "stream",
     "text": [
      "100%|██████████| 198022425/198022425 [54:39<00:00, 60380.63it/s]  \n"
     ]
    },
    {
     "name": "stdout",
     "output_type": "stream",
     "text": [
      "chr3 C\n"
     ]
    },
    {
     "name": "stderr",
     "output_type": "stream",
     "text": [
      "100%|██████████| 198022425/198022425 [1:00:01<00:00, 54977.71it/s]\n"
     ]
    },
    {
     "name": "stdout",
     "output_type": "stream",
     "text": [
      "chr4 G\n"
     ]
    },
    {
     "name": "stderr",
     "output_type": "stream",
     "text": [
      "100%|██████████| 191154271/191154271 [51:37<00:00, 61719.80it/s]  \n"
     ]
    },
    {
     "name": "stdout",
     "output_type": "stream",
     "text": [
      "chr4 C\n"
     ]
    },
    {
     "name": "stderr",
     "output_type": "stream",
     "text": [
      "100%|██████████| 191154271/191154271 [56:22<00:00, 56509.75it/s]  \n"
     ]
    },
    {
     "name": "stdout",
     "output_type": "stream",
     "text": [
      "chr5 G\n"
     ]
    },
    {
     "name": "stderr",
     "output_type": "stream",
     "text": [
      "100%|██████████| 180915255/180915255 [50:40<00:00, 59497.60it/s]  \n"
     ]
    },
    {
     "name": "stdout",
     "output_type": "stream",
     "text": [
      "chr5 C\n"
     ]
    },
    {
     "name": "stderr",
     "output_type": "stream",
     "text": [
      "100%|██████████| 180915255/180915255 [49:58<00:00, 60327.23it/s]  \n"
     ]
    },
    {
     "name": "stdout",
     "output_type": "stream",
     "text": [
      "chr6 G\n"
     ]
    },
    {
     "name": "stderr",
     "output_type": "stream",
     "text": [
      "100%|██████████| 171115062/171115062 [45:25<00:00, 62790.27it/s]  \n"
     ]
    },
    {
     "name": "stdout",
     "output_type": "stream",
     "text": [
      "chr6 C\n"
     ]
    },
    {
     "name": "stderr",
     "output_type": "stream",
     "text": [
      "100%|██████████| 171115062/171115062 [45:47<00:00, 62275.00it/s]  \n"
     ]
    },
    {
     "name": "stdout",
     "output_type": "stream",
     "text": [
      "chr7 G\n"
     ]
    },
    {
     "name": "stderr",
     "output_type": "stream",
     "text": [
      "100%|██████████| 159138658/159138658 [51:04<00:00, 51926.32it/s]  \n"
     ]
    },
    {
     "name": "stdout",
     "output_type": "stream",
     "text": [
      "chr7 C\n"
     ]
    },
    {
     "name": "stderr",
     "output_type": "stream",
     "text": [
      "100%|██████████| 159138658/159138658 [52:34<00:00, 50449.80it/s]  \n"
     ]
    },
    {
     "name": "stdout",
     "output_type": "stream",
     "text": [
      "chr8 G\n"
     ]
    },
    {
     "name": "stderr",
     "output_type": "stream",
     "text": [
      "100%|██████████| 146364017/146364017 [43:19<00:00, 56311.06it/s]  \n"
     ]
    },
    {
     "name": "stdout",
     "output_type": "stream",
     "text": [
      "chr8 C\n"
     ]
    },
    {
     "name": "stderr",
     "output_type": "stream",
     "text": [
      "100%|██████████| 146364017/146364017 [44:08<00:00, 55257.85it/s]  \n"
     ]
    },
    {
     "name": "stdout",
     "output_type": "stream",
     "text": [
      "chr9 G\n"
     ]
    },
    {
     "name": "stderr",
     "output_type": "stream",
     "text": [
      "100%|██████████| 141213426/141213426 [41:35<00:00, 56584.05it/s] \n"
     ]
    },
    {
     "name": "stdout",
     "output_type": "stream",
     "text": [
      "chr9 C\n"
     ]
    },
    {
     "name": "stderr",
     "output_type": "stream",
     "text": [
      "100%|██████████| 141213426/141213426 [41:07<00:00, 57220.16it/s] \n"
     ]
    },
    {
     "name": "stdout",
     "output_type": "stream",
     "text": [
      "chr10 G\n"
     ]
    },
    {
     "name": "stderr",
     "output_type": "stream",
     "text": [
      "100%|██████████| 135534742/135534742 [40:36<00:00, 55629.41it/s] \n"
     ]
    },
    {
     "name": "stdout",
     "output_type": "stream",
     "text": [
      "chr10 C\n"
     ]
    },
    {
     "name": "stderr",
     "output_type": "stream",
     "text": [
      "100%|██████████| 135534742/135534742 [41:58<00:00, 53817.61it/s] \n"
     ]
    },
    {
     "name": "stdout",
     "output_type": "stream",
     "text": [
      "chr11 G\n"
     ]
    },
    {
     "name": "stderr",
     "output_type": "stream",
     "text": [
      "100%|██████████| 135006511/135006511 [43:19<00:00, 51939.55it/s] \n"
     ]
    },
    {
     "name": "stdout",
     "output_type": "stream",
     "text": [
      "chr11 C\n"
     ]
    },
    {
     "name": "stderr",
     "output_type": "stream",
     "text": [
      "100%|██████████| 135006511/135006511 [41:26<00:00, 54302.13it/s] \n"
     ]
    },
    {
     "name": "stdout",
     "output_type": "stream",
     "text": [
      "chr12 G\n"
     ]
    },
    {
     "name": "stderr",
     "output_type": "stream",
     "text": [
      "100%|██████████| 133851890/133851890 [39:42<00:00, 56183.77it/s] \n"
     ]
    },
    {
     "name": "stdout",
     "output_type": "stream",
     "text": [
      "chr12 C\n"
     ]
    },
    {
     "name": "stderr",
     "output_type": "stream",
     "text": [
      "100%|██████████| 133851890/133851890 [41:20<00:00, 53954.70it/s] \n"
     ]
    },
    {
     "name": "stdout",
     "output_type": "stream",
     "text": [
      "chr13 G\n"
     ]
    },
    {
     "name": "stderr",
     "output_type": "stream",
     "text": [
      "100%|██████████| 115169873/115169873 [29:46<00:00, 64456.15it/s] \n"
     ]
    },
    {
     "name": "stdout",
     "output_type": "stream",
     "text": [
      "chr13 C\n"
     ]
    },
    {
     "name": "stderr",
     "output_type": "stream",
     "text": [
      "100%|██████████| 115169873/115169873 [29:11<00:00, 65754.98it/s] \n"
     ]
    },
    {
     "name": "stdout",
     "output_type": "stream",
     "text": [
      "chr14 G\n"
     ]
    },
    {
     "name": "stderr",
     "output_type": "stream",
     "text": [
      "100%|██████████| 107349535/107349535 [29:25<00:00, 60790.27it/s] \n"
     ]
    },
    {
     "name": "stdout",
     "output_type": "stream",
     "text": [
      "chr14 C\n"
     ]
    },
    {
     "name": "stderr",
     "output_type": "stream",
     "text": [
      "100%|██████████| 107349535/107349535 [34:43<00:00, 51525.91it/s] \n"
     ]
    },
    {
     "name": "stdout",
     "output_type": "stream",
     "text": [
      "chr15 G\n"
     ]
    },
    {
     "name": "stderr",
     "output_type": "stream",
     "text": [
      "100%|██████████| 102531387/102531387 [33:30<00:00, 50992.29it/s] \n"
     ]
    },
    {
     "name": "stdout",
     "output_type": "stream",
     "text": [
      "chr15 C\n"
     ]
    },
    {
     "name": "stderr",
     "output_type": "stream",
     "text": [
      "100%|██████████| 102531387/102531387 [34:33<00:00, 49445.16it/s] \n"
     ]
    },
    {
     "name": "stdout",
     "output_type": "stream",
     "text": [
      "chr16 G\n"
     ]
    },
    {
     "name": "stderr",
     "output_type": "stream",
     "text": [
      "100%|██████████| 90354748/90354748 [31:54<00:00, 47200.83it/s]  \n"
     ]
    },
    {
     "name": "stdout",
     "output_type": "stream",
     "text": [
      "chr16 C\n"
     ]
    },
    {
     "name": "stderr",
     "output_type": "stream",
     "text": [
      "100%|██████████| 90354748/90354748 [31:20<00:00, 48060.62it/s]  \n"
     ]
    },
    {
     "name": "stdout",
     "output_type": "stream",
     "text": [
      "chr17 G\n"
     ]
    },
    {
     "name": "stderr",
     "output_type": "stream",
     "text": [
      "100%|██████████| 81195205/81195205 [28:42<00:00, 47133.36it/s]  \n"
     ]
    },
    {
     "name": "stdout",
     "output_type": "stream",
     "text": [
      "chr17 C\n"
     ]
    },
    {
     "name": "stderr",
     "output_type": "stream",
     "text": [
      "100%|██████████| 81195205/81195205 [28:14<00:00, 47926.12it/s]  \n"
     ]
    },
    {
     "name": "stdout",
     "output_type": "stream",
     "text": [
      "chr18 G\n"
     ]
    },
    {
     "name": "stderr",
     "output_type": "stream",
     "text": [
      "100%|██████████| 78077243/78077243 [24:06<00:00, 53962.14it/s]  \n"
     ]
    },
    {
     "name": "stdout",
     "output_type": "stream",
     "text": [
      "chr18 C\n"
     ]
    },
    {
     "name": "stderr",
     "output_type": "stream",
     "text": [
      "100%|██████████| 78077243/78077243 [21:58<00:00, 59202.52it/s]  \n"
     ]
    },
    {
     "name": "stdout",
     "output_type": "stream",
     "text": [
      "chr19 G\n"
     ]
    },
    {
     "name": "stderr",
     "output_type": "stream",
     "text": [
      "100%|██████████| 59128978/59128978 [23:44<00:00, 41495.32it/s]  \n"
     ]
    },
    {
     "name": "stdout",
     "output_type": "stream",
     "text": [
      "chr19 C\n"
     ]
    },
    {
     "name": "stderr",
     "output_type": "stream",
     "text": [
      "100%|██████████| 59128978/59128978 [25:37<00:00, 38458.47it/s]  \n"
     ]
    },
    {
     "name": "stdout",
     "output_type": "stream",
     "text": [
      "chr20 G\n"
     ]
    },
    {
     "name": "stderr",
     "output_type": "stream",
     "text": [
      "100%|██████████| 63025515/63025515 [19:00<00:00, 55248.86it/s]  \n"
     ]
    },
    {
     "name": "stdout",
     "output_type": "stream",
     "text": [
      "chr20 C\n"
     ]
    },
    {
     "name": "stderr",
     "output_type": "stream",
     "text": [
      "100%|██████████| 63025515/63025515 [18:39<00:00, 56315.61it/s]  \n"
     ]
    },
    {
     "name": "stdout",
     "output_type": "stream",
     "text": [
      "chr21 G\n"
     ]
    },
    {
     "name": "stderr",
     "output_type": "stream",
     "text": [
      "100%|██████████| 48129890/48129890 [17:20<00:00, 46261.76it/s] \n"
     ]
    },
    {
     "name": "stdout",
     "output_type": "stream",
     "text": [
      "chr21 C\n"
     ]
    },
    {
     "name": "stderr",
     "output_type": "stream",
     "text": [
      "100%|██████████| 48129890/48129890 [13:21<00:00, 60065.18it/s] \n"
     ]
    },
    {
     "name": "stdout",
     "output_type": "stream",
     "text": [
      "chr22 G\n"
     ]
    },
    {
     "name": "stderr",
     "output_type": "stream",
     "text": [
      "100%|██████████| 51304561/51304561 [21:40<00:00, 39458.75it/s] \n"
     ]
    },
    {
     "name": "stdout",
     "output_type": "stream",
     "text": [
      "chr22 C\n"
     ]
    },
    {
     "name": "stderr",
     "output_type": "stream",
     "text": [
      "100%|██████████| 51304561/51304561 [20:01<00:00, 42685.47it/s] \n"
     ]
    },
    {
     "name": "stdout",
     "output_type": "stream",
     "text": [
      "chrX G\n"
     ]
    },
    {
     "name": "stderr",
     "output_type": "stream",
     "text": [
      "100%|██████████| 155270555/155270555 [44:17<00:00, 58417.44it/s]  \n"
     ]
    },
    {
     "name": "stdout",
     "output_type": "stream",
     "text": [
      "chrX C\n"
     ]
    },
    {
     "name": "stderr",
     "output_type": "stream",
     "text": [
      "100%|██████████| 155270555/155270555 [45:07<00:00, 57348.56it/s]  \n"
     ]
    },
    {
     "name": "stdout",
     "output_type": "stream",
     "text": [
      "chrY G\n"
     ]
    },
    {
     "name": "stderr",
     "output_type": "stream",
     "text": [
      "100%|██████████| 59373561/59373561 [15:35<00:00, 63486.48it/s]  \n"
     ]
    },
    {
     "name": "stdout",
     "output_type": "stream",
     "text": [
      "chrY C\n"
     ]
    },
    {
     "name": "stderr",
     "output_type": "stream",
     "text": [
      "100%|██████████| 59373561/59373561 [16:26<00:00, 60198.79it/s]  \n"
     ]
    }
   ],
   "source": [
    "def distribute_job(stem_group):\n",
    "    import numpy as np\n",
    "    import networkx as nx\n",
    "    \n",
    "    class QuadPaths(object):\n",
    "\n",
    "        def __init__(self, stems, max_loop_len, loop_probs, bulge_probs):\n",
    "\n",
    "            self.stems = stems\n",
    "            self.maxLoopLen = max_loop_len\n",
    "            self.loopProbs = loop_probs\n",
    "            self.bulgeProbs = bulge_probs\n",
    "            self.graphStart = self.stems[0][0]\n",
    "            self.nodeCodes = {}\n",
    "            self.nodeQuadCounts = {}\n",
    "            self.sortedNodeCodes = []\n",
    "            self.G = self._populate_graph()\n",
    "\n",
    "        def _populate_graph(self):\n",
    "            \"\"\"\n",
    "                Construct a directed acyclic graph of stems. Each edge\n",
    "                represents the loop of a putative G4. Is assued that the\n",
    "                stems are 2D array of shape nx3, where n is the number\n",
    "                of stems and 3 represents the position of each G in the\n",
    "                corresponding stem. The array should be pre-sorted by first\n",
    "                stem position to ensure that the resultant graph is acyclic.\n",
    "            \"\"\"\n",
    "            G = nx.DiGraph()\n",
    "            all_starts = self.stems[:, 0]\n",
    "            for stem in self.stems:\n",
    "                targets = np.where((all_starts > stem[2] + 1) &\n",
    "                         (all_starts <= stem[2] + self.maxLoopLen + 1))[0]\n",
    "                n1 = self._stem_encoder(stem)\n",
    "                self.nodeQuadCounts[n1] = 0\n",
    "                self.nodeCodes[n1] = stem\n",
    "                self.sortedNodeCodes.append(n1)\n",
    "                for t in targets:\n",
    "                    n2 = self._stem_encoder(self.stems[t])\n",
    "                    G.add_edge(n1, n2)\n",
    "            return G\n",
    "\n",
    "        def _stem_encoder(self, stem_array):\n",
    "            \"\"\"\n",
    "                Represents the bases of a stem in a string notation.\n",
    "                For example: '41*---*' represents a stem with three\n",
    "                bulges and stems at position 41, 42 and 46.\n",
    "            \"\"\"\n",
    "            diff = np.diff(stem_array)\n",
    "            if diff[0] != 1:\n",
    "                return '%d%s**' % (stem_array[0] - self.graphStart,\n",
    "                                   '-' * (diff[0] - 1))\n",
    "            else:\n",
    "                return '%d*%s*' % (stem_array[0] - self.graphStart,\n",
    "                                   '-' * (diff[1] - 1))\n",
    "\n",
    "        def _score_paths(self, qp):\n",
    "            loop_lens = qp[:, 0][1:] - qp[: , 2][:-1] - 1\n",
    "            try:\n",
    "                loop_scores = self.loopProbs[loop_lens - 1] * 1000\n",
    "            except:\n",
    "                print (qp)\n",
    "                return 0\n",
    "\n",
    "            bulge_lens = [x[2] - x[0] - 2 for x in qp]\n",
    "            bulge_scores = []\n",
    "            for i in range(3):\n",
    "                bulge_scores.append((\n",
    "                    self.bulgeProbs[bulge_lens[i]] +\n",
    "                    self.bulgeProbs[bulge_lens[i + 1]]\n",
    "                )/2)\n",
    "            scores = bulge_scores*loop_scores\n",
    "            return int(3/np.sum(1/scores)) + 1\n",
    "\n",
    "        def generate_quadpaths(self):\n",
    "            \"\"\"\n",
    "                Recursive iteration over all 4-node paths in the\n",
    "                graph to save all the quad-paths in the graph. This\n",
    "                function also helps identify stems which do not form\n",
    "                a quad-path.\n",
    "            \"\"\"\n",
    "            best_triplet = None # caching\n",
    "            max_l = self.maxLoopLen + 1\n",
    "            for n1 in self.sortedNodeCodes:\n",
    "                if n1 not in self.G:\n",
    "                    continue\n",
    "                n1_a = self.nodeCodes[n1]\n",
    "                if best_triplet is not None:\n",
    "                    if max_l >= best_triplet[0][0] - n1_a[2] > 1:\n",
    "                        self.nodeQuadCounts[n1] = 1\n",
    "                        qp = np.vstack([n1_a, best_triplet])\n",
    "                        score = self._score_paths(qp)\n",
    "                        yield qp.flatten(), score                    \n",
    "                        continue\n",
    "                triplet_score = 0\n",
    "                best_triplet = None\n",
    "                s2 = self.G.successors(n1)\n",
    "                for n2 in self.sortedNodeCodes:\n",
    "                    if n2 not in s2:\n",
    "                        continue\n",
    "                    n2_a = self.nodeCodes[n2]\n",
    "                    s3 = self.G.successors(n2)\n",
    "                    for n3 in self.sortedNodeCodes:\n",
    "                        if n3 not in s3:\n",
    "                            continue\n",
    "                        n3_a = self.nodeCodes[n3]\n",
    "                        s4 = self.G.successors(n3)\n",
    "                        for n4 in self.sortedNodeCodes:\n",
    "                            if n4 not in s4:\n",
    "                                continue\n",
    "                            n4_a = self.nodeCodes[n4]\n",
    "                            self.nodeQuadCounts[n1] = 1\n",
    "                            self.nodeQuadCounts[n2] = 1\n",
    "                            self.nodeQuadCounts[n3] = 1\n",
    "                            self.nodeQuadCounts[n4] = 1\n",
    "                            qp = np.array([n1_a, n2_a, n3_a, n4_a])\n",
    "                            score = self._score_paths(qp)\n",
    "                            if score > triplet_score:\n",
    "                                best_triplet = qp[1:]\n",
    "                                triplet_score = score\n",
    "                            yield qp.flatten(), score\n",
    "                            # # Makes searches non-exhaustive but\n",
    "                            # # gives a great performance boost\n",
    "                            if n4_a[2] - n4_a[0] == 2:\n",
    "                                break\n",
    "            self._remove_non_quad_nodes()\n",
    "\n",
    "        def _remove_non_quad_nodes(self):\n",
    "            \"\"\"\n",
    "                Remove nodes that do not occur in any quad-path from\n",
    "                the graph.\n",
    "            \"\"\"\n",
    "            del_nodes = []\n",
    "            for node in self.G.nodes():\n",
    "                if self.nodeQuadCounts[node] == 0:\n",
    "                    del_nodes.append(node)\n",
    "            for node in del_nodes:\n",
    "                self.G.remove_node(node)\n",
    "            return True\n",
    "\n",
    "    loop_probs = np.array([\n",
    "    0.50860458,  0.15217531,  0.08495005,  0.0549146 ,  0.03100226,\n",
    "    0.03100226,  0.02320335,  0.01585562,  0.01160168,  0.00986142,\n",
    "    0.00928134,  0.00689655,  0.00702546,  0.00670319,  0.00496294,\n",
    "    0.00489849,  0.00315823,  0.0026426 ,  0.00270706,  0.00238479,\n",
    "    0.00283597,  0.00174025,  0.00186916,  0.00212697,  0.00199807, 0.00174025])\n",
    "    loop_probs = loop_probs/loop_probs[0]\n",
    "    bulge_probs = np.array([ 0.78772061,  0.13447676,  0.05100671,  0.02679592])\n",
    "    bulge_probs = bulge_probs/bulge_probs[0]\n",
    "    \n",
    "    qp_object = QuadPaths(stem_group, 26, loop_probs, bulge_probs)\n",
    "    qps, graph_info = {}, []\n",
    "    n = 0\n",
    "    for qp, s in qp_object.generate_quadpaths():\n",
    "        n += 1\n",
    "        for i in qp:\n",
    "            if i not in qps:\n",
    "                qps[i] = s\n",
    "            elif s > qps[i]:\n",
    "                qps[i] = s\n",
    "    if len(qp_object.G.nodes()) > 0:\n",
    "        nodes = np.array(list(qp_object.nodeCodes.values()))\n",
    "        graph_info = [len(qp_object.G.nodes()), len(qp_object.G.edges()),\n",
    "                      n, nodes.min(), nodes.max()]\n",
    "    return qps, graph_info\n",
    "\n",
    "fasta_loc = \"/home/parashar/scratch/hg19_resource/chromosomes\"\n",
    "chroms = ['chr'+str(x) for x in range(1,23)] + ['chrX', 'chrY']\n",
    "for chrom in chroms:\n",
    "    for base, strand in zip(['G', 'C'], ['positive', 'negative']):\n",
    "        print (chrom, base)\n",
    "        chrom_seq = \"\".join([x.rstrip('\\n').upper() for x in \n",
    "                             open('%s/%s.fa' % (fasta_loc, chrom)).readlines()[1:]])\n",
    "        scores = np.zeros(len(chrom_seq), dtype=int)\n",
    "        graph_info = []\n",
    "        sg_object = StemGroups(chrom_seq, 26, 3, base)\n",
    "        temp = []\n",
    "        for stem_group in sg_object.generate_stems():\n",
    "            temp.append(stem_group)\n",
    "            if len(temp) == 60000:\n",
    "                res = DVIEW.map_sync(distribute_job, temp)\n",
    "                for qps, gi in res:\n",
    "                    idx, s = [], []\n",
    "                    for k, v in qps.items():\n",
    "                        idx.append(k)\n",
    "                        s.append(v)\n",
    "                    scores[idx] = s\n",
    "                    if len(gi) == 5:\n",
    "                        graph_info.append(gi)\n",
    "                temp = []\n",
    "        if len(temp) > 0:\n",
    "            res = DVIEW.map_sync(distribute_job, temp)\n",
    "            for qps, gi in res:\n",
    "                idx, s = [], []\n",
    "                for k, v in qps.items():\n",
    "                    idx.append(k)\n",
    "                    s.append(v)\n",
    "                scores[idx] = s\n",
    "                if len(gi) == 5:\n",
    "                    graph_info.append(gi)\n",
    "        np.save('../data/sniprq_scores/%s_%s' % (chrom, strand), scores)\n",
    "        np.save('../data/sniprq_scores/%s_%s_info' % (chrom, strand),\n",
    "                np.array(graph_info))"
   ]
  },
  {
   "cell_type": "code",
   "execution_count": null,
   "metadata": {
    "collapsed": true,
    "run_control": {
     "frozen": false,
     "read_only": false
    }
   },
   "outputs": [],
   "source": []
  }
 ],
 "metadata": {
  "kernelspec": {
   "display_name": "Python [default]",
   "language": "python",
   "name": "python3"
  },
  "language_info": {
   "codemirror_mode": {
    "name": "ipython",
    "version": 3
   },
   "file_extension": ".py",
   "mimetype": "text/x-python",
   "name": "python",
   "nbconvert_exporter": "python",
   "pygments_lexer": "ipython3",
   "version": "3.5.2"
  }
 },
 "nbformat": 4,
 "nbformat_minor": 2
}
