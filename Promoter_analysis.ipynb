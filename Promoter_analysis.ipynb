{
 "cells": [
  {
   "cell_type": "code",
   "execution_count": 9,
   "metadata": {
    "ExecuteTime": {
     "end_time": "2017-02-19T18:02:22.457959",
     "start_time": "2017-02-19T18:02:22.437117"
    },
    "collapsed": true,
    "run_control": {
     "frozen": false,
     "read_only": false
    }
   },
   "outputs": [],
   "source": [
    "import numpy as np\n",
    "from tqdm import tqdm\n",
    "import glob\n",
    "import matplotlib.pyplot as plt\n",
    "from scipy.stats import mannwhitneyu, ttest_ind, zscore, pearsonr, wilcoxon\n",
    "import pybedtools as pbt\n",
    "from scipy.integrate import simps\n",
    "from IPython.display import clear_output\n",
    "\n",
    "plt.style.use('fivethirtyeight')\n",
    "def clean_axis(ax):\n",
    "    ax.xaxis.set_tick_params(labelsize=9)\n",
    "    ax.yaxis.set_tick_params(labelsize=9)\n",
    "    for i in ['top', 'bottom', 'left', 'right']:\n",
    "        ax.spines[i].set_visible(False)\n",
    "    ax.grid(which='major', linestyle='--', alpha=0.5)\n",
    "    return True"
   ]
  },
  {
   "cell_type": "code",
   "execution_count": 2,
   "metadata": {
    "ExecuteTime": {
     "end_time": "2017-02-15T16:18:44.204162",
     "start_time": "2017-02-15T16:18:44.146845"
    },
    "collapsed": true,
    "run_control": {
     "frozen": false,
     "read_only": true
    }
   },
   "outputs": [],
   "source": [
    "chroms = ['chr'+str(x) for x in range(1,23)] + ['chrX', 'chrY']\n",
    "chrom_info = [x.rstrip('\\n').split('\\t') for x in \n",
    "              open('/home/parashar/scratch/hg19_resource/hg19.genome').readlines()]\n",
    "chrom_info = {x[0]: int(x[1]) for x in chrom_info}"
   ]
  },
  {
   "cell_type": "markdown",
   "metadata": {},
   "source": [
    "### Okay, first thing to do here is to get information on TSS arranged by strand and chromosomes"
   ]
  },
  {
   "cell_type": "code",
   "execution_count": 3,
   "metadata": {
    "ExecuteTime": {
     "end_time": "2017-02-15T16:18:45.217306",
     "start_time": "2017-02-15T16:18:44.208188"
    },
    "collapsed": false,
    "run_control": {
     "frozen": false,
     "read_only": true
    }
   },
   "outputs": [],
   "source": [
    "gene_tss_info = {'positive': {}, 'negative': {}}\n",
    "for chrom in chroms:\n",
    "    gene_tss_info['positive'][chrom] = []\n",
    "    gene_tss_info['negative'][chrom] = []\n",
    "    with open('../data/annotation/chrom_wise_gencode_tss/%s.bed' % chrom) as h:\n",
    "        for l in h:\n",
    "            c = l.rstrip('\\n').split('\\t')\n",
    "            up = int(c[1]) - 1000\n",
    "            down = int(c[1]) + 1000 + 1\n",
    "            if c[5] == '+':\n",
    "                gene_tss_info['positive'][chrom].append((up, down, c[3]))\n",
    "            else:\n",
    "                gene_tss_info['negative'][chrom].append((up, down, c[3]))"
   ]
  },
  {
   "cell_type": "code",
   "execution_count": 4,
   "metadata": {
    "ExecuteTime": {
     "end_time": "2017-02-15T16:18:45.654500",
     "start_time": "2017-02-15T16:18:45.220326"
    },
    "collapsed": false,
    "run_control": {
     "frozen": false,
     "read_only": true
    }
   },
   "outputs": [],
   "source": [
    "utr5_info = {'positive': {}, 'negative': {}}\n",
    "for chrom in chroms:\n",
    "    utr5_info['positive'][chrom] = []\n",
    "    utr5_info['negative'][chrom] = []\n",
    "    with open('../data/annotation/chrom_wise_genocode_utr_5/%s.bed' % chrom) as h:\n",
    "        for l in h:\n",
    "            c = l.rstrip('\\n').split('\\t')\n",
    "            up = int(c[1]) - 1000\n",
    "            down = int(c[1]) + 1000 + 1\n",
    "            if c[5] == '+':\n",
    "                utr5_info['positive'][chrom].append((up, down, c[3]))\n",
    "            else:\n",
    "                utr5_info['negative'][chrom].append((up, down, c[3]))"
   ]
  },
  {
   "cell_type": "markdown",
   "metadata": {},
   "source": [
    "### Lets load the expectation array in each of the promoter region and save it to a numpy. This is a 2D array array of shape (no. of promoters, +/- regions around TSS)"
   ]
  },
  {
   "cell_type": "code",
   "execution_count": 66,
   "metadata": {
    "ExecuteTime": {
     "end_time": "2017-01-09T12:37:02.229714",
     "start_time": "2017-01-09T12:28:52.926026"
    },
    "collapsed": false,
    "run_control": {
     "frozen": true,
     "read_only": true
    }
   },
   "outputs": [],
   "source": [
    "def load_scores(chrom, chrom_info, strand):\n",
    "    scores_dir = './data/quad_graph_single_base_scores/%s/%s/*_exp_score.npy' % (\n",
    "            chrom, strand)\n",
    "    chrom_score = np.zeros(chrom_info[chrom])\n",
    "    for fn in tqdm(glob.glob(scores_dir), desc=\"%s %s\" % (chrom, strand)):\n",
    "            exp = np.load(fn)\n",
    "            if exp.shape[0] > 1:\n",
    "                e_indices = np.array(exp[:, 0], dtype=int)\n",
    "                e_scores = np.array(exp[:, 1], dtype=float)\n",
    "                chrom_score[e_indices] += e_scores\n",
    "    return chrom_score\n",
    "\n",
    "gene_sense_exp = []\n",
    "gene_antisense_exp = []\n",
    "for strand, opp_strand in zip(['positive', 'negative'], ['negative', 'positive']):\n",
    "    for chrom in chroms:\n",
    "        exp_scores = load_scores(chrom, chrom_info, strand)\n",
    "        for i in gene_tss_info[strand][chrom]:\n",
    "            if strand == 'positive':\n",
    "                gene_sense_exp.append(\n",
    "                    [2**(-1/x) if x !=0 else 0 for x in exp_scores[i[0]:i[1]]]\n",
    "                )\n",
    "            else:\n",
    "                gene_sense_exp.append(\n",
    "                    [2**(-1/x) if x !=0 else 0 for x in exp_scores[i[0]:i[1]]][::-1]\n",
    "                )\n",
    "        for i in gene_tss_info[opp_strand][chrom]:\n",
    "            if opp_strand == 'positive':\n",
    "                gene_antisense_exp.append(\n",
    "                    [2**(-1/x) if x !=0 else 0 for x in exp_scores[i[0]:i[1]]]\n",
    "                )\n",
    "            else:\n",
    "                gene_antisense_exp.append(\n",
    "                    [2**(-1/x) if x !=0 else 0 for x in exp_scores[i[0]:i[1]]][::-1]\n",
    "                )\n",
    "        clear_output()\n",
    "        \n",
    "gene_sense_exp = np.array(gene_sense_exp)\n",
    "gene_antisense_exp = np.array(gene_antisense_exp)\n",
    "np.save('./data/gene_arrays/exp_scores_sense', gene_sense_exp)\n",
    "np.save('./data/gene_arrays/exp_scores_antisense', gene_antisense_exp)"
   ]
  },
  {
   "cell_type": "code",
   "execution_count": 8,
   "metadata": {
    "ExecuteTime": {
     "end_time": "2017-02-15T16:32:51.883314",
     "start_time": "2017-02-15T16:22:39.488584"
    },
    "collapsed": false,
    "run_control": {
     "frozen": false,
     "read_only": false
    }
   },
   "outputs": [],
   "source": [
    "def load_scores(chrom, chrom_info, strand):\n",
    "    scores_dir = '../data/quad_graph_single_base_scores/%s/%s/*_delta_score.npy' % (\n",
    "            chrom, strand)\n",
    "    chrom_score = np.zeros(chrom_info[chrom])\n",
    "    fns = glob.glob(scores_dir)\n",
    "    for fn in tqdm(fns, desc=\"%s %s\" % (chrom, strand)):\n",
    "            exp = np.load(fn)\n",
    "            if exp.shape[0] > 1:\n",
    "                e_indices = np.array(exp[:, 0], dtype=int)\n",
    "                e_scores = np.array(exp[:, 1], dtype=float)\n",
    "                chrom_score[e_indices] += e_scores\n",
    "    return chrom_score\n",
    "\n",
    "gene_sense_exp = []\n",
    "gene_antisense_exp = []\n",
    "for strand, opp_strand in zip(['positive', 'negative'], ['negative', 'positive']):\n",
    "    for chrom in chroms:\n",
    "        exp_scores = load_scores(chrom, chrom_info, strand)\n",
    "        for i in gene_tss_info[strand][chrom]:\n",
    "            if strand == 'positive':\n",
    "                gene_sense_exp.append(\n",
    "                    [2**(-1/x) if x !=0 else 0 for x in exp_scores[i[0]:i[1]]]\n",
    "                )\n",
    "            else:\n",
    "                gene_sense_exp.append(\n",
    "                    [2**(-1/x) if x !=0 else 0 for x in exp_scores[i[0]:i[1]]][::-1]\n",
    "                )\n",
    "        for i in gene_tss_info[opp_strand][chrom]:\n",
    "            if opp_strand == 'positive':\n",
    "                gene_antisense_exp.append(\n",
    "                    [2**(-1/x) if x !=0 else 0 for x in exp_scores[i[0]:i[1]]]\n",
    "                )\n",
    "            else:\n",
    "                gene_antisense_exp.append(\n",
    "                    [2**(-1/x) if x !=0 else 0 for x in exp_scores[i[0]:i[1]]][::-1]\n",
    "                )\n",
    "        clear_output()\n",
    "\n",
    "gene_sense_exp = np.array(gene_sense_exp)\n",
    "gene_antisense_exp = np.array(gene_antisense_exp)\n",
    "np.save('../data/gene_arrays/delta_scores_sense', gene_sense_exp)\n",
    "np.save('../data/gene_arrays/delta_scores_antisense', gene_antisense_exp)"
   ]
  },
  {
   "cell_type": "markdown",
   "metadata": {
    "heading_collapsed": true
   },
   "source": [
    "### Now lets also calculate the G content in the promoters"
   ]
  },
  {
   "cell_type": "code",
   "execution_count": null,
   "metadata": {
    "ExecuteTime": {
     "end_time": "2016-12-16T12:36:25.499581",
     "start_time": "2016-12-16T12:31:42.376676"
    },
    "collapsed": false,
    "hidden": true,
    "run_control": {
     "frozen": true,
     "read_only": true
    }
   },
   "outputs": [],
   "source": [
    "for strand, base, inv_base in zip(['positive', 'negative'], ['G', 'C'], ['C', 'G']):\n",
    "    gene_array_g_content = []\n",
    "    for chrom in tqdm(chroms):\n",
    "        g_comp = np.zeros(chrom_info[chrom])\n",
    "        fasta = '/home/parashar/scratch/hg19_resource/chromosomes/%s.fa' % chrom\n",
    "        seq = \"\".join([x.rstrip('\\n') for x in open(fasta).readlines()[1:]])\n",
    "        for i in gene_tss_info[strand][chrom]:\n",
    "            a = list(map(int, seq[i[0]:i[1]].upper().replace('A', '0').replace(\n",
    "            'T', '0').replace('N', '0').replace(inv_base, '0').replace(base, '1')))\n",
    "            gene_array_g_content.append(a)\n",
    "    np.save('./data/gene_arrays/g_comp_%s' % strand, np.array(gene_array_g_content))"
   ]
  },
  {
   "cell_type": "markdown",
   "metadata": {
    "heading_collapsed": true
   },
   "source": [
    "### Now also save the G4 motifs in the same promoter regions"
   ]
  },
  {
   "cell_type": "code",
   "execution_count": 12,
   "metadata": {
    "ExecuteTime": {
     "end_time": "2017-01-09T15:25:25.106771",
     "start_time": "2017-01-09T15:03:10.171272"
    },
    "collapsed": false,
    "hidden": true,
    "run_control": {
     "frozen": true,
     "read_only": true
    }
   },
   "outputs": [],
   "source": [
    "con_quad_dir = '/home/parashar/scratch/quadruplexes/hg19'\n",
    "\n",
    "for loop in [3, 7, 15]:\n",
    "    for bulge in [0, 3]:\n",
    "        g4_motif_sense = []\n",
    "        g4_motif_antisense = []\n",
    "        for strand, opp_strand, base in zip(\n",
    "            ['positive', 'negative'], ['negative', 'positive'], ['G', 'C']):    \n",
    "            for chrom in tqdm(chroms, desc=\"%d_%d_%s\" % (loop, bulge, strand)):\n",
    "                chrom_array = np.zeros(chrom_info[chrom])\n",
    "                fn = '%s/g3_%d_%d_%s_ov.bed' % (con_quad_dir, loop, bulge, chrom)\n",
    "                with open(fn) as h:\n",
    "                    for l in h:\n",
    "                        c = l.split('\\t')\n",
    "                        if c[0] == chrom and c[4][0] == base:\n",
    "                            chrom_array[int(c[1]):int(c[2])] += 1\n",
    "                for i in gene_tss_info[strand][chrom]:\n",
    "                    if strand == 'positive':\n",
    "                        g4_motif_sense.append(chrom_array[i[0]:i[1]])\n",
    "                    else:\n",
    "                        g4_motif_sense.append(chrom_array[i[0]:i[1]][::-1])\n",
    "                for i in gene_tss_info[opp_strand][chrom]:\n",
    "                    if opp_strand == 'positive':\n",
    "                        g4_motif_antisense.append(chrom_array[i[0]:i[1]])\n",
    "                    else:\n",
    "                        g4_motif_antisense.append(chrom_array[i[0]:i[1]][::-1])\n",
    "        np.save('./data/gene_arrays/g3_%d_%d_sense' % (loop, bulge),\n",
    "                np.array(g4_motif_sense))\n",
    "        np.save('./data/gene_arrays/g3_%d_%d_antisense' % (loop, bulge),\n",
    "                np.array(g4_motif_antisense))\n",
    "        clear_output()"
   ]
  },
  {
   "cell_type": "markdown",
   "metadata": {
    "ExecuteTime": {
     "end_time": "2017-01-02T04:50:36.946903",
     "start_time": "2017-01-02T04:50:36.937592"
    },
    "heading_collapsed": true
   },
   "source": [
    "### We will also check out the TSS distribution of OQs"
   ]
  },
  {
   "cell_type": "code",
   "execution_count": 13,
   "metadata": {
    "ExecuteTime": {
     "end_time": "2017-01-09T15:26:15.967161",
     "start_time": "2017-01-09T15:25:25.108532"
    },
    "collapsed": false,
    "hidden": true,
    "run_control": {
     "frozen": true,
     "read_only": true
    }
   },
   "outputs": [],
   "source": [
    "oq_sense = []\n",
    "oq_antisense = []\n",
    "for strandsymb, opp_strand, strand in zip(['+', '-'],\n",
    "                                          ['negative', 'positive'], ['positive', 'negative']):\n",
    "    for chrom in chroms:\n",
    "        region_bed_file = \"./data/ROC_data/regions/chrom_wise/Na_K_2_oq_regions_%s.bed\" % chrom\n",
    "        chrom_array = np.zeros(chrom_info[chrom])\n",
    "        with open(region_bed_file) as h:\n",
    "            for l in tqdm(h, desc=\"%s %s\" % (chrom, strandsymb)):\n",
    "                c = l.rstrip('\\n').split('\\t')\n",
    "                if c[3] == strandsymb:\n",
    "                    chrom_array[int(c[1]): int(c[2])] = 1\n",
    "        for i in gene_tss_info[strand][chrom]:\n",
    "            if strand == 'positive':\n",
    "                oq_antisense.append(chrom_array[i[0]:i[1]])\n",
    "            else:\n",
    "                oq_antisense.append(chrom_array[i[0]:i[1]][::-1])\n",
    "        for i in gene_tss_info[opp_strand][chrom]:\n",
    "            if opp_strand == 'positive':\n",
    "                oq_sense.append(chrom_array[i[0]:i[1]])\n",
    "            else:\n",
    "                oq_sense.append(chrom_array[i[0]:i[1]][::-1])\n",
    "        clear_output()\n",
    "np.save('./data/gene_arrays/K2_oq_sense', np.array(oq_sense))\n",
    "np.save('./data/gene_arrays/K2_oq_antisense', np.array(oq_antisense))"
   ]
  },
  {
   "cell_type": "code",
   "execution_count": 5,
   "metadata": {
    "ExecuteTime": {
     "end_time": "2017-01-17T12:24:52.628330",
     "start_time": "2017-01-17T12:24:24.436031"
    },
    "collapsed": false,
    "hidden": true,
    "run_control": {
     "frozen": true,
     "read_only": true
    }
   },
   "outputs": [],
   "source": [
    "oq_utr = []\n",
    "for strandsymb, opp_strand, strand in zip(['+', '-'],\n",
    "                                          ['negative', 'positive'], ['positive', 'negative']):\n",
    "    for chrom in chroms:\n",
    "        region_bed_file = \"./data/ROC_data/regions/chrom_wise/Na_K_2_oq_regions_%s.bed\" % chrom\n",
    "        chrom_array = np.zeros(chrom_info[chrom])\n",
    "        with open(region_bed_file) as h:\n",
    "            for l in tqdm(h, desc=\"%s %s\" % (chrom, strandsymb)):\n",
    "                c = l.rstrip('\\n').split('\\t')\n",
    "                if c[3] == strandsymb:\n",
    "                    chrom_array[int(c[1]): int(c[2])] = 1\n",
    "        for i in utr5_info[opp_strand][chrom]:\n",
    "            if opp_strand == 'positive':\n",
    "                oq_utr.append(chrom_array[i[0]:i[1]])\n",
    "            else:\n",
    "                oq_utr.append(chrom_array[i[0]:i[1]][::-1])\n",
    "        clear_output()\n",
    "oq_utr = np.array(oq_utr)"
   ]
  },
  {
   "cell_type": "markdown",
   "metadata": {},
   "source": [
    "### Time to plot"
   ]
  },
  {
   "cell_type": "code",
   "execution_count": 11,
   "metadata": {
    "ExecuteTime": {
     "end_time": "2017-02-19T18:06:59.368859",
     "start_time": "2017-02-19T18:06:51.115811"
    },
    "collapsed": false,
    "run_control": {
     "frozen": false,
     "read_only": false
    }
   },
   "outputs": [],
   "source": [
    "gene_array_oq = {}\n",
    "gene_array_exp = {}\n",
    "for orient in ['sense', 'antisense']:\n",
    "    gene_array_oq[orient] = np.load('../data/gene_arrays/K2_oq_%s.npy' % orient)\n",
    "    gene_array_exp[orient] = np.load('../data/gene_arrays/exp_scores_%s.npy' % orient)"
   ]
  },
  {
   "cell_type": "code",
   "execution_count": 13,
   "metadata": {
    "ExecuteTime": {
     "end_time": "2017-02-19T18:08:24.599737",
     "start_time": "2017-02-19T18:08:16.267280"
    },
    "collapsed": false,
    "run_control": {
     "frozen": false,
     "read_only": false
    }
   },
   "outputs": [
    {
     "name": "stdout",
     "output_type": "stream",
     "text": [
      "(200015, 2001) (162205,)\n",
      "(200015, 2001) (157841,)\n"
     ]
    },
    {
     "data": {
      "image/png": "[encoded data removed]",
      "text/plain": [
       "<matplotlib.figure.Figure at 0x2b0bbb9cad68>"
      ]
     },
     "metadata": {},
     "output_type": "display_data"
    }
   ],
   "source": [
    "fig, ax = plt.subplots(1, 1, figsize=(3.4, 2.2))\n",
    "\n",
    "max_y = 0\n",
    "cutoff = 0.01\n",
    "\n",
    "a = gene_array_exp['sense']\n",
    "idx = np.where((a.max(axis=1) > cutoff))[0]\n",
    "print (a.shape, idx.shape)\n",
    "exp = a[idx, :].sum(axis=0)\n",
    "ax.plot(exp, c='crimson', lw=0.7, alpha=0.7, label='Sense\\nstrand')\n",
    "max_y = max(max_y, exp.max())\n",
    "\n",
    "a = gene_array_exp['antisense']\n",
    "idx = np.where((a.max(axis=1) > cutoff))[0]\n",
    "print (a.shape, idx.shape)\n",
    "exp = a[idx, :].sum(axis=0)\n",
    "ax.plot(exp, c='dodgerblue', lw=0.7, alpha=0.8, label='Antisense\\nstrand')\n",
    "max_y = max(max_y, exp.max())\n",
    "\n",
    "ax.axvline(1000, lw=0.5, ls='--', c='k', alpha=0.4)\n",
    "ax.legend(frameon=False, fontsize=9, loc=(0, 0.55))\n",
    "ax.set_ylabel(r'Total $\\xi$ score', fontsize=10)\n",
    "ax.set_xlabel('Distance from TSS', fontsize=10)\n",
    "ax.set_xticklabels([-1000, -500, 0, 500, 1000], rotation=30)\n",
    "ax.set_xlim((0, 2010))\n",
    "ax.text(0.8, 0.87, r'$\\xi$ > %.2f' % cutoff, fontsize=9, transform=ax.transAxes)\n",
    "ax.set_ylim((0, max_y + 0.1 * max_y))\n",
    "clean_axis(ax)\n",
    "\n",
    "plt.tight_layout()\n",
    "plt.savefig('../images/promoter_high_exp_scores.png', dpi=300, transparent=True, edgecolor='none')\n",
    "plt.savefig('../images/promoter_high_exp_scores.svg', transparent=True, edgecolor='none')\n",
    "plt.show()"
   ]
  },
  {
   "cell_type": "code",
   "execution_count": 14,
   "metadata": {
    "ExecuteTime": {
     "end_time": "2017-02-19T18:08:28.838717",
     "start_time": "2017-02-19T18:08:24.602730"
    },
    "collapsed": false,
    "run_control": {
     "frozen": false,
     "read_only": false
    }
   },
   "outputs": [
    {
     "name": "stdout",
     "output_type": "stream",
     "text": [
      "(200015, 2001) (37810,)\n",
      "(200015, 2001) (42174,)\n"
     ]
    },
    {
     "data": {
      "image/png": "[encoded data removed]",
      "text/plain": [
       "<matplotlib.figure.Figure at 0x2b0b8d06f518>"
      ]
     },
     "metadata": {},
     "output_type": "display_data"
    }
   ],
   "source": [
    "fig, ax = plt.subplots(1, 1, figsize=(3.4, 2.2))\n",
    "max_y = 0\n",
    "\n",
    "a = gene_array_exp['sense']\n",
    "idx = np.where((a.max(axis=1) < cutoff))[0]\n",
    "exp = a[idx, :].sum(axis=0)\n",
    "print (a.shape, idx.shape)\n",
    "ax.plot(exp, c='crimson', lw=0.5, alpha=0.7, label='Sense\\nstrand')\n",
    "max_y = max(max_y, exp.max())\n",
    "\n",
    "a = gene_array_exp['antisense']\n",
    "idx = np.where((a.max(axis=1) < cutoff))[0]\n",
    "print (a.shape, idx.shape)\n",
    "exp = a[idx, :].sum(axis=0)\n",
    "ax.plot(exp, c='dodgerblue', lw=0.5, alpha=0.8, label='Antisense\\nstrand')\n",
    "max_y = max(max_y, exp.max())\n",
    "\n",
    "ax.axvline(1000, lw=0.5, ls='--', c='k', alpha=0.4)\n",
    "ax.legend(frameon=False, fontsize=9, loc=(0, 0.55))\n",
    "ax.set_ylabel(r'Total $\\xi$ score', fontsize=10)\n",
    "ax.set_xlabel('Distance from TSS', fontsize=10)\n",
    "ax.set_xticklabels([-1000, -500, 0, 500, 1000], rotation=30)\n",
    "ax.set_xlim((0, 2010))\n",
    "ax.text(0.8, 0.87, r'$\\xi$ < %.2f' % cutoff, fontsize=9, transform=ax.transAxes)\n",
    "ax.set_ylim((0, max_y + 0.1 * max_y))\n",
    "clean_axis(ax)\n",
    "\n",
    "plt.tight_layout()\n",
    "plt.savefig('../images/promoter_low_exp_scores.png', dpi=300, transparent=True, edgecolor='none')\n",
    "plt.savefig('../images/promoter_low_exp_scores.svg', transparent=True, edgecolor='none')\n",
    "plt.show()"
   ]
  },
  {
   "cell_type": "code",
   "execution_count": 22,
   "metadata": {
    "ExecuteTime": {
     "end_time": "2017-02-11T07:41:55.809135",
     "start_time": "2017-02-11T07:41:48.985158"
    },
    "collapsed": false,
    "run_control": {
     "frozen": false,
     "read_only": false
    }
   },
   "outputs": [
    {
     "data": {
      "image/png": "[encoded data removed]",
      "text/plain": [
       "<matplotlib.figure.Figure at 0x2b2c14798080>"
      ]
     },
     "metadata": {},
     "output_type": "display_data"
    }
   ],
   "source": [
    "fig, ax = plt.subplots(1, 1, figsize=(3.2, 2.2))\n",
    "\n",
    "ax.plot(gene_array_oq['sense'].sum(axis=0), c='crimson',\n",
    "        lw=1.5, alpha=0.7, label='Sense\\nstrand')\n",
    "ax.plot(gene_array_oq['antisense'].sum(axis=0), c='dodgerblue',\n",
    "        lw=1.5, alpha=0.8, label='Antisense\\nstrand')\n",
    "max_y = max(gene_array_oq['sense'].sum(axis=0).max(),\n",
    "            gene_array_oq['antisense'].sum(axis=0).max())\n",
    "\n",
    "ax.axvline(1000, lw=0.5, ls='--', c='k', alpha=0.4)\n",
    "ax.legend(frameon=False, fontsize=7, loc=(0, 0.55))\n",
    "ax.set_ylabel('Number of OQs', fontsize=10)\n",
    "ax.set_xlabel('Distance from TSS', fontsize=10)\n",
    "ax.set_xticklabels([-1000, -500, 0, 500, 1000], rotation=30)\n",
    "ax.set_xlim((0, 2010))\n",
    "#ax.set_ylim((0, max_y + 0.1 * max_y))\n",
    "clean_axis(ax)\n",
    "\n",
    "plt.tight_layout()\n",
    "plt.savefig('../images/promoter_OQs.png', dpi=300, transparent=True, edgecolor='none')\n",
    "plt.savefig('../images/promoter_OQs.svg', transparent=True, edgecolor='none')\n",
    "plt.show()\n"
   ]
  },
  {
   "cell_type": "code",
   "execution_count": 13,
   "metadata": {
    "ExecuteTime": {
     "end_time": "2017-02-11T07:36:56.619521",
     "start_time": "2017-02-11T07:35:09.016173"
    },
    "collapsed": false,
    "run_control": {
     "frozen": false,
     "read_only": false
    }
   },
   "outputs": [],
   "source": [
    "gene_array_g4 = {}\n",
    "for orient in ['sense', 'antisense']:\n",
    "    gene_array_g4[orient] = {}\n",
    "    for loop in [3, 15]:\n",
    "        for bulge in [0, 3]:\n",
    "            gene_array_g4[orient][\"%d_%d\" % (loop, bulge)] = np.load(\n",
    "                '../data/gene_arrays/g3_%s_%s_%s.npy' % (loop, bulge, orient))"
   ]
  },
  {
   "cell_type": "code",
   "execution_count": 24,
   "metadata": {
    "ExecuteTime": {
     "end_time": "2017-02-11T07:56:20.394955",
     "start_time": "2017-02-11T07:56:00.523323"
    },
    "collapsed": false,
    "run_control": {
     "frozen": false,
     "read_only": false
    }
   },
   "outputs": [
    {
     "data": {
      "image/png": "[encoded data removed]",
      "text/plain": [
       "<matplotlib.figure.Figure at 0x2b2c146fe5f8>"
      ]
     },
     "metadata": {},
     "output_type": "display_data"
    },
    {
     "data": {
      "image/png": "[encoded data removed]",
      "text/plain": [
       "<matplotlib.figure.Figure at 0x2b2c14875ba8>"
      ]
     },
     "metadata": {},
     "output_type": "display_data"
    },
    {
     "data": {
      "image/png": "[encoded data removed]",
      "text/plain": [
       "<matplotlib.figure.Figure at 0x2b261d608d68>"
      ]
     },
     "metadata": {},
     "output_type": "display_data"
    }
   ],
   "source": [
    "loops_bulges = [[3, 0], [3, 3], [15, 3]]\n",
    "\n",
    "for lb in loops_bulges:\n",
    "    max_y = 0\n",
    "    fig, ax = plt.subplots(1, 1, figsize=(3.5, 2.2))\n",
    "    \n",
    "    a = gene_array_g4['sense'][\"%d_%d\" % (lb[0], lb[1])]\n",
    "    ax.plot((a.sum(axis=0)), lw=1.2, alpha=0.7,\n",
    "            color='crimson', label='Sense\\nstrand')\n",
    "    max_y = max(max_y, a.sum(axis=0).max())\n",
    "    \n",
    "    a = gene_array_g4['antisense'][\"%d_%d\" % (lb[0], lb[1])]\n",
    "    ax.plot((a.sum(axis=0)), lw=1.2, alpha=0.8,\n",
    "            color='dodgerblue', label='Antisense\\nstrand')\n",
    "    max_y = max(max_y, a.sum(axis=0).max())\n",
    "    \n",
    "    ax.set_ylabel('No. of G4 motifs', fontsize=10)\n",
    "    ax.set_xlabel('Distance from TSS', fontsize=10)\n",
    "    ax.set_xticklabels([-1000, -500, 0, 500, 1000], rotation=30)\n",
    "    ax.legend(frameon=False, loc=(0, 0.55), fontsize=8, ncol=1)\n",
    "    ax.text(0.7, 0.8, \"G3L1-%d B%d\" % (lb[0], lb[1]), fontsize=9, transform=ax.transAxes)\n",
    "    ax.set_ylim((0, max_y + 0.1 * max_y))\n",
    "    clean_axis(ax)\n",
    "    \n",
    "    plt.tight_layout()\n",
    "    plt.savefig('../images/promoter_motifs_%d_%d.png' % (lb[0], lb[1]),\n",
    "                dpi=300, transparent=True, edgecolor='none')\n",
    "    plt.savefig('../images/promoter_motifs_%d_%d.svg' % (lb[0], lb[1]),\n",
    "                transparent=True, edgecolor='none')\n",
    "    plt.show()"
   ]
  }
 ],
 "metadata": {
  "kernelspec": {
   "display_name": "Python [default]",
   "language": "python",
   "name": "python3"
  },
  "language_info": {
   "codemirror_mode": {
    "name": "ipython",
    "version": 3
   },
   "file_extension": ".py",
   "mimetype": "text/x-python",
   "name": "python",
   "nbconvert_exporter": "python",
   "pygments_lexer": "ipython3",
   "version": "3.5.2"
  }
 },
 "nbformat": 4,
 "nbformat_minor": 1
}
