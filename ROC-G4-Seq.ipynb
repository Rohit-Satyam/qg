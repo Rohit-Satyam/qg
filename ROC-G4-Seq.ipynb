{
 "cells": [
  {
   "cell_type": "code",
   "execution_count": 2,
   "metadata": {
    "ExecuteTime": {
     "end_time": "2017-05-02T21:05:52.476592Z",
     "start_time": "2017-05-02T21:05:49.521938Z"
    },
    "run_control": {
     "frozen": false,
     "read_only": false
    }
   },
   "outputs": [
    {
     "data": {
      "text/plain": [
       "30"
      ]
     },
     "execution_count": 2,
     "metadata": {},
     "output_type": "execute_result"
    }
   ],
   "source": [
    "import numpy as np\n",
    "from tqdm import tqdm\n",
    "import matplotlib.pyplot as plt\n",
    "from IPython.display import clear_output\n",
    "import glob\n",
    "import pybedtools as pbt\n",
    "from ipyparallel import Client\n",
    "from sklearn import metrics\n",
    "from itertools import product\n",
    "\n",
    "plt.style.use('fivethirtyeight')\n",
    "def clean_axis(ax):\n",
    "    ax.xaxis.set_tick_params(labelsize=9)\n",
    "    ax.yaxis.set_tick_params(labelsize=9)\n",
    "    for i in ['top', 'bottom', 'left', 'right']:\n",
    "        ax.spines[i].set_visible(False)\n",
    "    ax.grid(which='major', linestyle='--', alpha=0.5)\n",
    "    return True\n",
    "\n",
    "DVIEW = Client()[:]\n",
    "DVIEW.block=True\n",
    "len(DVIEW)"
   ]
  },
  {
   "cell_type": "markdown",
   "metadata": {
    "run_control": {
     "frozen": false,
     "read_only": false
    }
   },
   "source": [
    "## The objective here is to demonstrate that Expectation scores predict the G4 structures better than Quadparser and G4Hunter algorithms. For this two approaches will be used."
   ]
  },
  {
   "cell_type": "markdown",
   "metadata": {
    "run_control": {
     "frozen": false,
     "read_only": false
    }
   },
   "source": [
    "### First using G4-Seq data, all the genomic regions that either have OQs or do not have OQs (i.e. regions sequenced but did not show only a marginal mismatch rate) were identified. Now using these regions TP, FN, FP, TN were identified using different Expectation value cutoffs. (Will run for approx 2 minutes)"
   ]
  },
  {
   "cell_type": "code",
   "execution_count": 117,
   "metadata": {
    "ExecuteTime": {
     "end_time": "2017-05-02T23:03:33.447033Z",
     "start_time": "2017-05-02T23:01:31.859067Z"
    },
    "run_control": {
     "frozen": true,
     "read_only": true
    }
   },
   "outputs": [
    {
     "name": "stdout",
     "output_type": "stream",
     "text": [
      "(1, 12585192, 0, 242859443, 0)\n",
      "(3, 11977617, 607575, 214300398, 28559045)\n",
      "(5, 11364784, 1220408, 185855064, 57004379)\n",
      "(7, 10596652, 1988540, 153335727, 89523716)\n",
      "(10, 9646883, 2938309, 119165624, 123693819)\n",
      "(15, 8769051, 3816141, 91947287, 150912156)\n",
      "(25, 7412612, 5172580, 58182754, 184676689)\n",
      "(40, 6216632, 6368560, 37978204, 204881239)\n",
      "(65, 5101828, 7483364, 23417653, 219441790)\n",
      "(105, 3878936, 8706256, 13464741, 229394702)\n",
      "(170, 2694869, 9890323, 6731038, 236128405)\n",
      "(275, 1523199, 11061993, 1612825, 241246618)\n",
      "(445, 629581, 11955611, 420079, 242439364)\n",
      "(1000, 24910, 12560282, 1042, 242858401)\n"
     ]
    }
   ],
   "source": [
    "def evaluate_positions_wrapper(chrom, strand):\n",
    "    import numpy as np\n",
    "      \n",
    "    def evaluate_positions(bed_file, strand):\n",
    "        h = open(bed_file)\n",
    "        bed_data = h.readlines()\n",
    "        h.close()\n",
    "        cutoff_values = [1, 3, 5, 7, 10, 15, 25, 40, 65, 105, 170, 275, 445, 1000]\n",
    "        pos_vals = [0 for x in cutoff_values]\n",
    "        neg_vals = [0 for x in cutoff_values]\n",
    "        for l in bed_data:\n",
    "            c = l.rstrip('\\n').split('\\t')\n",
    "            if c[3] == strand:\n",
    "                start = int(c[1])\n",
    "                stop = int(c[2])\n",
    "                positions_scores = scores[start:stop]\n",
    "                positions_scores = positions_scores[positions_scores > 1]\n",
    "                for n,cutoff in enumerate(cutoff_values):\n",
    "                    a = len(np.where(positions_scores >= cutoff)[0])\n",
    "                    pos_vals[n] += a\n",
    "                    neg_vals[n] += len(positions_scores) - a\n",
    "        return pos_vals, neg_vals\n",
    "\n",
    "    if strand == \"+\":\n",
    "        opp_strand = 'negative'\n",
    "    elif strand == \"-\":\n",
    "        opp_strand = 'positive'\n",
    "    else:\n",
    "        raise ValueError(\"Strand should be either '+' or '-'\")\n",
    "\n",
    "    base_dir = '/home/parashar/scratch/quadcomb/data'\n",
    "    scores = np.load('%s/sniprq_scores/%s_%s.npy' % \n",
    "                     (base_dir, chrom, opp_strand), mmap_mode='r')\n",
    "    true_p, false_neg = evaluate_positions(\n",
    "        \"%s/ROC_data/regions/chrom_wise/Na_K_2_oq_regions_%s.bed\" % (base_dir, chrom),\n",
    "            strand)\n",
    "    false_p, true_neg  =  evaluate_positions(\n",
    "        \"%s/ROC_data/regions/chrom_wise/Na_K_2_no_oq_regions_%s.bed\" % (base_dir, chrom),\n",
    "            strand)\n",
    "    return true_p, false_neg, false_p, true_neg\n",
    "\n",
    "chroms = ['chr' + str(x) for x in range(1, 23)] + ['chrX', 'chrY']\n",
    "res = DVIEW.map_sync(evaluate_positions_wrapper, *[chroms*2, (np.repeat(['+', '-'], 24))])\n",
    "\n",
    "tp, fn, fp, tn = np.array(res).sum(axis=0)\n",
    "cutoff_values = [1, 3, 5, 7, 10, 15, 25, 40, 65, 105, 170, 275, 445, 1000]\n",
    "for i in zip(cutoff_values, tp, fn, fp, tn):\n",
    "    print (i)\n",
    "\n",
    "sniprq_tpr = tp / (tp + fn)\n",
    "sniprq_fpr = fp / (fp + tn)\n",
    "np.save('../data/ROC_data/K2_SNIPRQ_TPR', sniprq_tpr)\n",
    "np.save('../data/ROC_data/K2_SNIPRQ_FPR', sniprq_fpr)"
   ]
  },
  {
   "cell_type": "markdown",
   "metadata": {
    "run_control": {
     "frozen": false,
     "read_only": false
    }
   },
   "source": [
    "### Similarly TP, FN, FP and TN were identified for the Quadparser. Will take around 2.30 min with 30 cores."
   ]
  },
  {
   "cell_type": "code",
   "execution_count": 52,
   "metadata": {
    "ExecuteTime": {
     "end_time": "2017-05-02T21:53:35.678580Z",
     "start_time": "2017-05-02T21:47:41.550384Z"
    },
    "run_control": {
     "frozen": true,
     "read_only": true
    }
   },
   "outputs": [
    {
     "name": "stdout",
     "output_type": "stream",
     "text": [
      "((0, 3), 16020, 1290657, 5396, 9151896)\n",
      "((0, 5), 36249, 1270428, 28046, 9129246)\n",
      "((0, 7), 53066, 1253611, 61908, 9095384)\n",
      "((0, 10), 73908, 1232769, 131909, 9025383)\n",
      "((0, 15), 98455, 1208222, 271528, 8885764)\n",
      "((0, 20), 116086, 1190591, 417030, 8740262)\n",
      "((0, 25), 129945, 1176732, 562617, 8594675)\n",
      "((0, 30), 141724, 1164953, 702831, 8454461)\n",
      "((0, 35), 154386, 1152291, 878168, 8279124)\n",
      "((0, 40), 164818, 1141859, 1009263, 8148029)\n",
      "((0, 45), 174437, 1132240, 1131289, 8026003)\n",
      "((0, 50), 185038, 1121639, 1286879, 7870413)\n",
      "((3, 3), 122126, 1184551, 693101, 8464191)\n",
      "((3, 5), 156267, 1150410, 1096817, 8060475)\n",
      "((3, 7), 179203, 1127474, 1437792, 7719500)\n",
      "((3, 10), 205476, 1101201, 1806382, 7350910)\n",
      "((3, 15), 246265, 1060412, 2320945, 6836347)\n",
      "((3, 20), 280563, 1026114, 2686072, 6471220)\n",
      "((3, 25), 313054, 993623, 2968627, 6188665)\n",
      "((3, 30), 340632, 966045, 3189921, 5967371)\n",
      "((3, 35), 367668, 939009, 3396700, 5760592)\n",
      "((3, 40), 389652, 917025, 3540737, 5616555)\n",
      "((3, 45), 409297, 897380, 3653168, 5504124)\n",
      "((3, 50), 428267, 878410, 3763299, 5393993)\n"
     ]
    }
   ],
   "source": [
    "def evaluate_motif_positions_wrapper(chrom):\n",
    "    import pybedtools as pbt\n",
    "\n",
    "    def evaluate_motif_positions(region_bed_file):\n",
    "        g4_bed_file = \"/home/parashar/scratch/quadruplexes/hg19/g3_%d_%d_%s_nov.bed\" % (\n",
    "            int(loop), int(bulge), chrom)\n",
    "        fixed_g4_bed = []\n",
    "        with open(g4_bed_file) as h:\n",
    "            for l in h:\n",
    "                c = l.split('\\t')\n",
    "                strand = \"+\" if c[4][0] == \"G\" else \"C\"\n",
    "                fixed_g4_bed.append(\"\\t\".join([\n",
    "                    c[0], c[1], c[2], '.', '0', strand\n",
    "                ]))\n",
    "        g4_bed = pbt.BedTool(\"\\n\".join(fixed_g4_bed), from_string=True)\n",
    "\n",
    "        fixed_region_bed = []\n",
    "        with open(region_bed_file) as h:\n",
    "            for l in h:\n",
    "                c = l.split('\\t')\n",
    "                fixed_region_bed.append(\"\\t\".join([\n",
    "                    c[0], c[1], c[2], '.', '0', c[3]\n",
    "                ]))\n",
    "        region_bed = pbt.BedTool(\"\\n\".join(fixed_region_bed), from_string=True)\n",
    "        overlap = region_bed.intersect(g4_bed, S=True, u=True).count()\n",
    "        return overlap, len(fixed_region_bed) - overlap\n",
    "    \n",
    "    res = []\n",
    "    regions_dir = '/home/parashar/scratch/quadcomb/data/ROC_data/regions/chrom_wise'\n",
    "    for bulge in [0, 3]:\n",
    "        for loop in [3, 5, 7, 10, 15, 20, 25, 30, 35, 40, 45, 50]:\n",
    "            g4_base_dir = '/home/parashar/scratch/quadruplexes/hg19'\n",
    "            g4_bed_file = \"%s/g3_%d_%d_%s_nov.bed\" % (g4_base_dir, loop, bulge, chrom)\n",
    "            base_dir = '/home/parashar/scratch/quadcomb/data'\n",
    "            true_p, false_neg = evaluate_motif_positions(\n",
    "                \"%s/Na_K_2_oq_regions_%s.bed\" % (regions_dir, chrom))\n",
    "            false_p, true_neg = evaluate_motif_positions(\n",
    "                \"%s/Na_K_2_no_oq_regions_%s.bed\" % (regions_dir, chrom))\n",
    "            res.append([true_p, false_neg, false_p, true_neg])\n",
    "    return res\n",
    "\n",
    "chroms = ['chr' + str(x) for x in range(1, 23)] + ['chrX', 'chrY']\n",
    "res = DVIEW.map_sync(evaluate_motif_positions_wrapper, chroms)\n",
    "\n",
    "tp, fn, fp, tn = np.array(res).sum(axis=0).T\n",
    "for i in zip(list(product([0,3], [3, 5, 7, 10, 15, 20, 25, 30, 35, 40, 45, 50])),\n",
    "             tp, fn, fp, tn):\n",
    "    print (i)\n",
    "\n",
    "motif_tpr = tp / (tp + fn)\n",
    "motif_fpr = fp / (fp + tn)\n",
    "np.save('../data/ROC_data/K2_MOTIF_TPR', motif_tpr)\n",
    "np.save('../data/ROC_data/K2_MOTIF_FPR', motif_fpr)"
   ]
  },
  {
   "cell_type": "markdown",
   "metadata": {
    "run_control": {
     "frozen": false,
     "read_only": false
    }
   },
   "source": [
    "### Similarly to identify TP, TN, FP, FN in G4Hunter following steps were taken:"
   ]
  },
  {
   "cell_type": "markdown",
   "metadata": {
    "run_control": {
     "frozen": false,
     "read_only": false
    }
   },
   "source": [
    "#### First sequences of OQ and No-OQ regions were extracted and then G4Hunter script was run on them"
   ]
  },
  {
   "cell_type": "code",
   "execution_count": 94,
   "metadata": {
    "ExecuteTime": {
     "end_time": "2016-12-26T08:01:21.957137",
     "start_time": "2016-12-26T07:51:36.658703"
    },
    "collapsed": true,
    "run_control": {
     "frozen": true,
     "read_only": true
    }
   },
   "outputs": [],
   "source": [
    "def extract_seq(region_bed_file, fasta_file):\n",
    "    bed = pbt.BedTool(region_bed_file)\n",
    "    sequences = []\n",
    "    data = open(bed.sequence(fi=fasta_file, s=True).seqfn).readlines()\n",
    "    nuc_map = {'A': 'T', 'G': 'C', 'T': 'A', 'C': 'G', 'N': 'N'}\n",
    "    for i in range(1, len(data), 2):\n",
    "        seq = \"\".join([nuc_map[x] for x in data[i].rstrip('\\n').upper()])\n",
    "        sequences.append(seq)\n",
    "    with open('data/ROC_data/seq_g4_hunter/%s.seq' % \n",
    "              region_bed_file.split('/')[-1].split('.')[0], 'w') as OUT:\n",
    "        OUT.write(\"\\n\".join(sequences))\n",
    "\n",
    "chroms = ['chr' + str(x) for x in range(1, 23)] + ['chrX', 'chrY']\n",
    "\n",
    "for chrom in chroms:\n",
    "    extract_seq(\n",
    "        \"../data/ROC_data/regions/chrom_wise/Na_K_2_oq_regions_%s.bed\" % chrom,\n",
    "        \"/home/parashar/scratch/hg19_resource/chromosomes/%s.fa\" % chrom\n",
    "    )\n",
    "    extract_seq(\n",
    "        \"../data/ROC_data/regions/chrom_wise/Na_K_2_no_oq_regions_%s.bed\" % chrom,\n",
    "        \"/home/parashar/scratch/hg19_resource/chromosomes/%s.fa\" % chrom\n",
    "    )"
   ]
  },
  {
   "cell_type": "markdown",
   "metadata": {
    "run_control": {
     "frozen": false,
     "read_only": false
    }
   },
   "source": [
    "#### TP, FP, FN, TN values were calculated at various cutoffs for G4Hunter scores. Runs in 5 seconds with 30 cores."
   ]
  },
  {
   "cell_type": "code",
   "execution_count": 111,
   "metadata": {
    "ExecuteTime": {
     "end_time": "2017-05-02T22:56:54.607520Z",
     "start_time": "2017-05-02T22:56:52.537381Z"
    },
    "collapsed": true,
    "run_control": {
     "frozen": false,
     "read_only": false
    }
   },
   "outputs": [],
   "source": [
    "def evaluate_hunter_scores_wrapper(chrom):\n",
    "    import numpy as np\n",
    "\n",
    "    def evaluate_hunter_scores(fn):\n",
    "        scores = []\n",
    "        with open(fn) as handle:\n",
    "            next(handle)\n",
    "            for l in handle:\n",
    "                c = l.rstrip('\\n').split('\\t')\n",
    "                scores.append(float(c[1]))\n",
    "        scores = np.array(scores)\n",
    "        #scores = scores[scores > 0]\n",
    "        pos = []\n",
    "        neg = []\n",
    "        for i in [-4, -1, -0.2, -0.05, -0.02, -0.01, 0,\n",
    "                  0.01, 0.05, 0.1, 0.2, 0.3, 0.4, 0.5, 1, 1.5, 2, 2.5]:\n",
    "            pos.append(len(np.where(scores >= i)[0]))\n",
    "            neg.append(len(scores) - pos[-1])\n",
    "        return pos, neg\n",
    "    \n",
    "    base_dir = '/home/parashar/scratch/quadcomb/data/ROC_data/scores_g4_hunter'\n",
    "    true_p, false_neg = evaluate_hunter_scores(\n",
    "        \"%s/Na_K_2_oq_regions_%s\" % (base_dir, chrom))\n",
    "    false_p, true_neg = evaluate_hunter_scores(\n",
    "        \"%s/Na_K_2_no_oq_regions_%s\" % (base_dir, chrom))\n",
    "    return true_p, false_neg, false_p, true_neg\n",
    "\n",
    "chroms = ['chr' + str(x) for x in range(1, 23)] + ['chrX', 'chrY']\n",
    "res = DVIEW.map_sync(evaluate_hunter_scores_wrapper, chroms)\n",
    "tp, fn, fp, tn = np.array(res).sum(axis=0)\n",
    "hunter_tpr = tp / (tp + fn)\n",
    "hunter_fpr = fp / (fp + tn)\n",
    "np.save('../data/ROC_data/K2_HUNTER_TPR', hunter_tpr)\n",
    "np.save('../data/ROC_data/K2_HUNTER_FPR', hunter_fpr)"
   ]
  },
  {
   "cell_type": "markdown",
   "metadata": {
    "ExecuteTime": {
     "end_time": "2016-12-29T17:10:08.339001",
     "start_time": "2016-12-29T17:10:08.334931"
    },
    "run_control": {
     "frozen": true,
     "read_only": true
    }
   },
   "source": [
    "### Now lets load all the TPR and FPR values and make ROC curve for the values"
   ]
  },
  {
   "cell_type": "code",
   "execution_count": 118,
   "metadata": {
    "ExecuteTime": {
     "end_time": "2017-05-02T23:07:37.640245Z",
     "start_time": "2017-05-02T23:07:37.608459Z"
    },
    "collapsed": true,
    "run_control": {
     "frozen": false,
     "read_only": false
    }
   },
   "outputs": [],
   "source": [
    "sniprq_tpr = np.load('../data/ROC_data/K2_SNIPRQ_TPR.npy')\n",
    "sniprq_fpr = np.load('../data/ROC_data/K2_SNIPRQ_FPR.npy')\n",
    "motif_tpr = np.load('../data/ROC_data/K2_MOTIF_TPR.npy')\n",
    "motif_fpr = np.load('../data/ROC_data/K2_MOTIF_FPR.npy')\n",
    "hunter_tpr = np.load('../data/ROC_data/K2_HUNTER_TPR.npy')\n",
    "hunter_fpr = np.load('../data/ROC_data/K2_HUNTER_FPR.npy')"
   ]
  },
  {
   "cell_type": "code",
   "execution_count": 121,
   "metadata": {
    "ExecuteTime": {
     "end_time": "2017-05-02T23:10:01.927607Z",
     "start_time": "2017-05-02T23:10:01.171760Z"
    },
    "run_control": {
     "frozen": false,
     "read_only": false
    },
    "scrolled": false
   },
   "outputs": [
    {
     "data": {
      "image/png": "[encoded data removed]",
      "text/plain": [
       "<matplotlib.figure.Figure at 0x2b2180627048>"
      ]
     },
     "metadata": {},
     "output_type": "display_data"
    },
    {
     "name": "stdout",
     "output_type": "stream",
     "text": [
      "0.722614086258 0.506507432726 0.462103122579\n"
     ]
    }
   ],
   "source": [
    "fig, ax = plt.subplots(1, 1, figsize=(3.2,2.8))\n",
    "\n",
    "ax.plot(sniprq_fpr, sniprq_tpr, lw=1, color='green', alpha=0.6, label='SNIPR-Q')\n",
    "ax.scatter(sniprq_fpr, sniprq_tpr, s=5, color='green', marker='o', alpha=0.9)\n",
    "\n",
    "ax.plot(hunter_fpr, hunter_tpr, lw=1, color='blue', alpha=0.6, label='G4Hunter')\n",
    "ax.scatter(hunter_fpr, hunter_tpr, s=5, color='blue', marker='o', alpha=0.9)\n",
    "\n",
    "sorted_idx_motif = np.argsort(motif_fpr)\n",
    "extrapolate_slope = ((motif_tpr[sorted_idx_motif][-7]-motif_tpr[sorted_idx_motif][-1]) /\n",
    "                     (motif_fpr[sorted_idx_motif][-7]-motif_fpr[sorted_idx_motif][-1]))\n",
    "\n",
    "ax.plot(motif_fpr[sorted_idx_motif], motif_tpr[sorted_idx_motif],\n",
    "        lw=1, color='red', alpha=0.6, label='QuadParser/\\nQuadBase2')\n",
    "ax.plot([motif_fpr[sorted_idx_motif][-1], 0.99, 1],\n",
    "        [motif_tpr[sorted_idx_motif][-1], extrapolate_slope, 1],\n",
    "        lw=1, color='red', alpha=0.6, ls=':')\n",
    "ax.scatter(motif_fpr[sorted_idx_motif], motif_tpr[sorted_idx_motif],\n",
    "           s=5, color='red', marker='o', alpha=0.8)\n",
    "\n",
    "\n",
    "ax.plot([0,1], [0, 1], lw=1, ls='--', color='k')\n",
    "clean_axis(ax)\n",
    "ax.legend(frameon=False, loc=(0, 0.7), fontsize=8, scatterpoints=1)\n",
    "ax.set_xticks([0, 0.2, 0.4, 0.6, 0.8, 1])\n",
    "ax.set_yticks([0, 0.2, 0.4, 0.6, 0.8, 1])\n",
    "ax.set_xlim((-0.1,1.1))\n",
    "ax.set_ylim((-0.1,1.1))\n",
    "ax.set_xlabel('False Positive Rate', fontsize=10)\n",
    "ax.set_ylabel('True Positive Rate', fontsize=10)\n",
    "\n",
    "plt.tight_layout()\n",
    "plt.savefig('../images/roc_g4_seq.png', dpi=300, transparent=True, edgecolor='none')\n",
    "plt.savefig('../images/roc_g4_seq.svg', transparent=True, edgecolor='none')\n",
    "plt.show()\n",
    "\n",
    "print (metrics.auc(sniprq_fpr, sniprq_tpr),\n",
    "       metrics.auc(hunter_fpr, hunter_tpr),\n",
    "       metrics.auc(list(motif_fpr[sorted_idx_motif])+[1],\n",
    "                   list(motif_tpr[sorted_idx_motif])+[1]))"
   ]
  },
  {
   "cell_type": "code",
   "execution_count": 126,
   "metadata": {
    "ExecuteTime": {
     "end_time": "2017-05-07T13:36:50.854276Z",
     "start_time": "2017-05-07T13:36:50.417658Z"
    },
    "run_control": {
     "frozen": false,
     "read_only": false
    }
   },
   "outputs": [
    {
     "data": {
      "image/png": "[encoded data removed]",
      "text/plain": [
       "<matplotlib.figure.Figure at 0x2b21806bcc50>"
      ]
     },
     "metadata": {},
     "output_type": "display_data"
    },
    {
     "data": {
      "text/plain": [
       "(array([6]),\n",
       " array([ 0.34942097]),\n",
       " array([ 0.58899475]),\n",
       " array([ 0.23957378]),\n",
       " array([25]))"
      ]
     },
     "execution_count": 126,
     "metadata": {},
     "output_type": "execute_result"
    }
   ],
   "source": [
    "fig, ax = plt.subplots(1, 1, figsize=(2.5,2))\n",
    "\n",
    "diff = sniprq_tpr-sniprq_fpr\n",
    "max_pos = np.where(diff == max(diff))[0]\n",
    "x = np.array([1, 3, 5, 7, 10, 15, 25, 40, 65, 105, 170, 275, 445, 1000])\n",
    "\n",
    "ax.plot(np.log2(x), diff, lw=2, color='k', alpha=0.6)\n",
    "ax.set_xlabel('Log2(SNIPR-Q score)', fontsize=10)\n",
    "ax.set_ylabel('TPR-FPR', fontsize=10)\n",
    "ax.axvline(np.log2(x[max_pos]), lw=1, ls='--')\n",
    "clean_axis(ax)\n",
    "\n",
    "plt.tight_layout()\n",
    "plt.savefig('../images/roc_g4_seq_diff_max_val.png', dpi=300, transparent=True, edgecolor='none')\n",
    "plt.savefig('../images/roc_g4_seq_diff_max_val.svg', transparent=True, edgecolor='none')\n",
    "plt.show()\n",
    "\n",
    "max_pos, diff[max_pos], sniprq_tpr[max_pos], sniprq_fpr[max_pos], x[max_pos]"
   ]
  },
  {
   "cell_type": "code",
   "execution_count": null,
   "metadata": {
    "collapsed": true,
    "run_control": {
     "frozen": false,
     "read_only": false
    }
   },
   "outputs": [],
   "source": []
  }
 ],
 "metadata": {
  "kernelspec": {
   "display_name": "Python [default]",
   "language": "python",
   "name": "python3"
  },
  "language_info": {
   "codemirror_mode": {
    "name": "ipython",
    "version": 3
   },
   "file_extension": ".py",
   "mimetype": "text/x-python",
   "name": "python",
   "nbconvert_exporter": "python",
   "pygments_lexer": "ipython3",
   "version": "3.5.2"
  }
 },
 "nbformat": 4,
 "nbformat_minor": 1
}
