{
 "cells": [
  {
   "cell_type": "code",
   "execution_count": 2,
   "metadata": {
    "ExecuteTime": {
     "end_time": "2017-02-14T01:45:06.093949",
     "start_time": "2017-02-14T01:45:03.124576"
    },
    "collapsed": true,
    "run_control": {
     "frozen": false,
     "read_only": false
    }
   },
   "outputs": [],
   "source": [
    "import numpy as np\n",
    "from tqdm import tqdm\n",
    "import matplotlib.pyplot as plt\n",
    "from scipy.integrate import simps\n",
    "from IPython.display import clear_output\n",
    "import glob\n",
    "import pybedtools as pbt\n",
    "\n",
    "plt.style.use('fivethirtyeight')\n",
    "def clean_axis(ax):\n",
    "    ax.xaxis.set_tick_params(labelsize=9)\n",
    "    ax.yaxis.set_tick_params(labelsize=9)\n",
    "    for i in ['top', 'bottom', 'left', 'right']:\n",
    "        ax.spines[i].set_visible(False)\n",
    "    ax.grid(which='major', linestyle='--', alpha=0.5)\n",
    "    return True"
   ]
  },
  {
   "cell_type": "markdown",
   "metadata": {
    "run_control": {
     "frozen": false,
     "read_only": false
    }
   },
   "source": [
    "## The objective here is to demonstrate that Expectation scores predict the G4 structures better than Quadparser and G4Hunter algorithms. For this two approaches will be used."
   ]
  },
  {
   "cell_type": "markdown",
   "metadata": {},
   "source": [
    "### First using G4-Seq data, all the genomic regions that either have OQs or do not have OQs (i.e. regions sequenced but did not show only a marginal mismatch rate) were identified. Now using these regions TP, FN, FP, TN were identified using different Expectation value cutoffs."
   ]
  },
  {
   "cell_type": "code",
   "execution_count": 27,
   "metadata": {
    "ExecuteTime": {
     "end_time": "2017-02-11T16:35:19.594208",
     "start_time": "2017-02-11T10:32:20.298517"
    },
    "collapsed": false,
    "run_control": {
     "frozen": true,
     "read_only": true
    }
   },
   "outputs": [],
   "source": [
    "def load_scores(scores_dir, chrom):\n",
    "    chrom_info_file = '/home/parashar/scratch/hg19_resource/hg19.genome'\n",
    "    chrom_info = [x.rstrip('\\n').split('\\t') for x in\n",
    "                  open(chrom_info_file).readlines()]\n",
    "    chrom_info = {x[0]: int(x[1]) for x in chrom_info}\n",
    "    exp_s = np.zeros(chrom_info[chrom])\n",
    "    for fn in glob.glob(scores_dir):\n",
    "        exp = np.load(fn)\n",
    "        if exp.shape[0] > 1:\n",
    "            e_indices = np.array(exp[:, 0], dtype=int)\n",
    "            e_scores = np.array(exp[:, 1], dtype=float)\n",
    "            exp_s[e_indices] += e_scores\n",
    "    return exp_s\n",
    "\n",
    "def evaluate_positions(bed_file, strand, scores, cutoff_values):\n",
    "    positions = []\n",
    "    h = open(bed_file)\n",
    "    bed_data = h.readlines()\n",
    "    h.close()\n",
    "    for l in tqdm(bed_data, desc='Making positions'):\n",
    "        c = l.rstrip('\\n').split('\\t')\n",
    "        if c[3] == strand:\n",
    "            start = int(c[1])\n",
    "            stop = int(c[2])\n",
    "            positions.extend(list(range(start, stop)))\n",
    "    positions_scores = scores[positions]\n",
    "    positions_scores = [2**(-1/x) for x in\n",
    "                        positions_scores[np.nonzero(positions_scores)[0]]]\n",
    "    \n",
    "    pos_vals = []\n",
    "    neg_vals = []\n",
    "    for cutoff in tqdm(cutoff_values, desc='Evaluating positions'):\n",
    "        pos_vals.append(len(np.where(positions_scores >= cutoff)[0]))\n",
    "        neg_vals.append(len(positions_scores) - pos_vals[-1])\n",
    "    return pos_vals, neg_vals\n",
    "\n",
    "true_p = []\n",
    "false_p = []\n",
    "true_neg = []\n",
    "false_neg = []\n",
    "\n",
    "chroms = ['chr' + str(x) for x in range(1, 23)] + ['chrX', 'chrY']\n",
    "cutoff_values = np.linspace(1e-10, 0.6, 1000)\n",
    "for chrom in chroms:\n",
    "    for strand, opp_strand in zip(['+', '-'], ['negative', 'positive']):\n",
    "        scores_dir = '../data/quad_graph_single_base_scores/%s/%s/*_exp_score.npy' % (\n",
    "            chrom, opp_strand)\n",
    "        scores = load_scores(scores_dir, chrom)\n",
    "        print (chrom, strand, flush=True)\n",
    "        \n",
    "        temp_val = evaluate_positions(\n",
    "            \"../data/ROC_data/regions/chrom_wise/Na_K_2_oq_regions_%s.bed\" % chrom,\n",
    "            strand, scores, cutoff_values\n",
    "        )\n",
    "        true_p.append(temp_val[0])\n",
    "        false_neg.append(temp_val[1])\n",
    "        \n",
    "        temp_val =  evaluate_positions(\n",
    "            \"../data/ROC_data/regions/chrom_wise/Na_K_2_no_oq_regions_%s.bed\" % chrom,\n",
    "            strand, scores, cutoff_values\n",
    "        )\n",
    "        false_p.append(temp_val[0])\n",
    "        true_neg.append(temp_val[1])\n",
    "        clear_output()\n",
    "        \n",
    "true_p = np.array(true_p)\n",
    "false_neg = np.array(false_neg)\n",
    "false_p = np.array(false_p)\n",
    "true_neg = np.array(true_neg)\n",
    "\n",
    "np.save('../data/ROC_data/K2_TP', true_p)\n",
    "np.save('../data/ROC_data/K2_FN', false_neg)\n",
    "np.save('../data/ROC_data/K2_FP', false_p)\n",
    "np.save('../data/ROC_data/K2_TN', true_neg)"
   ]
  },
  {
   "cell_type": "markdown",
   "metadata": {},
   "source": [
    "### Similarly TP, FN, FP and TN were identified for the Quadparser"
   ]
  },
  {
   "cell_type": "code",
   "execution_count": 5,
   "metadata": {
    "ExecuteTime": {
     "end_time": "2017-02-10T17:15:30.103960",
     "start_time": "2017-02-10T17:04:42.832850"
    },
    "collapsed": false,
    "run_control": {
     "frozen": true,
     "read_only": true
    }
   },
   "outputs": [],
   "source": [
    "def evaluate_motif_positions(region_bed_file, g4_bed_file):\n",
    "    fixed_g4_bed = []\n",
    "    with open(g4_bed_file) as h:\n",
    "        for l in h:\n",
    "            c = l.split('\\t')\n",
    "            strand = \"+\" if c[4][0] == \"G\" else \"C\"\n",
    "            fixed_g4_bed.append(\"\\t\".join([\n",
    "                c[0], c[1], c[2], '.', '0', strand\n",
    "            ]))\n",
    "    g4_bed = pbt.BedTool(\"\\n\".join(fixed_g4_bed), from_string=True)\n",
    "\n",
    "    fixed_region_bed = []\n",
    "    with open(region_bed_file) as h:\n",
    "        for l in h:\n",
    "            c = l.split('\\t')\n",
    "            fixed_region_bed.append(\"\\t\".join([\n",
    "                c[0], c[1], c[2], '.', '0', c[3]\n",
    "            ]))\n",
    "    region_bed = pbt.BedTool(\"\\n\".join(fixed_region_bed), from_string=True)\n",
    "    overlap = g4_bed.intersect(region_bed, S=True).count()\n",
    "    return overlap, len(fixed_region_bed) - overlap\n",
    "\n",
    "true_p_motif = []\n",
    "false_p_motif = []\n",
    "true_neg_motif = []\n",
    "false_neg_motif = []\n",
    "\n",
    "chroms = ['chr' + str(x) for x in range(1, 23)] + ['chrX', 'chrY']\n",
    "\n",
    "for chrom in chroms:\n",
    "    chrom_wise_data = [[], [], [], []]\n",
    "    for bulge in [0, 3]:\n",
    "        for loop in [7, 15]:\n",
    "            print (chrom, bulge, loop)\n",
    "            temp_val = evaluate_motif_positions(\n",
    "                \"../data/ROC_data/regions/chrom_wise/Na_K_2_oq_regions_%s.bed\" % chrom,\n",
    "                \"/home/parashar/scratch/quadruplexes/hg19/g3_%d_%d_%s_nov.bed\" % (\n",
    "                    loop, bulge, chrom)\n",
    "            )\n",
    "            chrom_wise_data[0].append(temp_val[0])\n",
    "            chrom_wise_data[1].append(temp_val[1])\n",
    "            \n",
    "            temp_val = evaluate_motif_positions(\n",
    "                \"../data/ROC_data/regions/chrom_wise/Na_K_2_no_oq_regions_%s.bed\" % chrom,\n",
    "                \"/home/parashar/scratch/quadruplexes/hg19/g3_%d_%d_%s_nov.bed\" % (\n",
    "                    loop, bulge, chrom)\n",
    "            )\n",
    "            chrom_wise_data[2].append(temp_val[0])\n",
    "            chrom_wise_data[3].append(temp_val[1])\n",
    "            \n",
    "            clear_output()\n",
    "    true_p_motif.append(chrom_wise_data[0])\n",
    "    false_neg_motif.append(chrom_wise_data[1])\n",
    "    false_p_motif.append(chrom_wise_data[2])\n",
    "    true_neg_motif.append(chrom_wise_data[3])\n",
    "\n",
    "true_p_motif = np.array(true_p_motif)\n",
    "false_neg_motif = np.array(false_neg_motif)\n",
    "false_p_motif = np.array(false_p_motif)\n",
    "true_neg_motif = np.array(true_neg_motif)\n",
    "\n",
    "np.save('../data/ROC_data/K2_TP_motif', true_p_motif)\n",
    "np.save('../data/ROC_data/K2_FN_motif', false_neg_motif)\n",
    "np.save('../data/ROC_data/K2_FP_motif', false_p_motif)\n",
    "np.save('../data/ROC_data/K2_TN_motif', true_neg_motif)"
   ]
  },
  {
   "cell_type": "markdown",
   "metadata": {},
   "source": [
    "### Similarly to identify TP, TN, FP, FN in G4Hunter following steps were taken:"
   ]
  },
  {
   "cell_type": "markdown",
   "metadata": {},
   "source": [
    "#### First sequences of OQ and No-OQ regions were extracted and then G4Hunter script was run on them"
   ]
  },
  {
   "cell_type": "code",
   "execution_count": 94,
   "metadata": {
    "ExecuteTime": {
     "end_time": "2016-12-26T08:01:21.957137",
     "start_time": "2016-12-26T07:51:36.658703"
    },
    "collapsed": false,
    "run_control": {
     "frozen": true,
     "read_only": true
    }
   },
   "outputs": [],
   "source": [
    "def extract_seq(region_bed_file, fasta_file):\n",
    "    bed = pbt.BedTool(region_bed_file)\n",
    "    sequences = []\n",
    "    data = open(bed.sequence(fi=fasta_file, s=True).seqfn).readlines()\n",
    "    nuc_map = {'A': 'T', 'G': 'C', 'T': 'A', 'C': 'G', 'N': 'N'}\n",
    "    for i in range(1, len(data), 2):\n",
    "        seq = \"\".join([nuc_map[x] for x in data[i].rstrip('\\n').upper()])\n",
    "        sequences.append(seq)\n",
    "    with open('data/ROC_data/seq_g4_hunter/%s.seq' % \n",
    "              region_bed_file.split('/')[-1].split('.')[0], 'w') as OUT:\n",
    "        OUT.write(\"\\n\".join(sequences))\n",
    "\n",
    "chroms = ['chr' + str(x) for x in range(1, 23)] + ['chrX', 'chrY']\n",
    "\n",
    "for chrom in chroms:\n",
    "    extract_seq(\n",
    "        \"../data/ROC_data/regions/chrom_wise/Na_K_2_oq_regions_%s.bed\" % chrom,\n",
    "        \"/home/parashar/scratch/hg19_resource/chromosomes/%s.fa\" % chrom\n",
    "    )\n",
    "    extract_seq(\n",
    "        \"../data/ROC_data/regions/chrom_wise/Na_K_2_no_oq_regions_%s.bed\" % chrom,\n",
    "        \"/home/parashar/scratch/hg19_resource/chromosomes/%s.fa\" % chrom\n",
    "    )"
   ]
  },
  {
   "cell_type": "markdown",
   "metadata": {},
   "source": [
    "#### TP, FP, FN, TN values were calculated at various cutoffs for G4Hunter scores"
   ]
  },
  {
   "cell_type": "code",
   "execution_count": 52,
   "metadata": {
    "ExecuteTime": {
     "end_time": "2017-02-10T15:55:20.710391",
     "start_time": "2017-02-10T15:54:58.428038"
    },
    "collapsed": false,
    "run_control": {
     "frozen": true,
     "read_only": true
    }
   },
   "outputs": [],
   "source": [
    "def evaluate_hunter_scores(fn):\n",
    "    scores = []\n",
    "    with open(fn) as handle:\n",
    "        next(handle)\n",
    "        for l in handle:\n",
    "            c = l.rstrip('\\n').split('\\t')\n",
    "            scores.append(float(c[1]))\n",
    "    scores = np.array(scores)\n",
    "    pos = []\n",
    "    neg = []\n",
    "    for i in [0.1, 1, 2]:\n",
    "        pos.append(len(np.where(scores >= i)[0]))\n",
    "        neg.append(len(scores) - pos[-1])\n",
    "    return pos, neg\n",
    "\n",
    "true_p_hunter = []\n",
    "false_neg_hunter = []\n",
    "false_p_hunter = []\n",
    "true_neg_hunter = []\n",
    "\n",
    "chroms = ['chr' + str(x) for x in range(1, 23)] + ['chrX', 'chrY']\n",
    "base_dir = '../data/ROC_data/scores_g4_hunter'\n",
    "for chrom in tqdm(chroms):\n",
    "    temp_val = evaluate_hunter_scores(\"%s/Na_K_2_oq_regions_%s\" % (base_dir, chrom))\n",
    "    true_p_hunter.append(temp_val[0])\n",
    "    false_neg_hunter.append(temp_val[1])\n",
    "    \n",
    "    temp_val = evaluate_hunter_scores(\"%s/Na_K_2_no_oq_regions_%s\" % (base_dir, chrom))\n",
    "    false_p_hunter.append(temp_val[0])\n",
    "    true_neg_hunter.append(temp_val[1])\n",
    "\n",
    "clear_output()\n",
    "true_p_hunter = np.array(true_p_hunter)\n",
    "false_neg_hunter = np.array(false_neg_hunter)\n",
    "false_p_hunter = np.array(false_p_hunter)\n",
    "true_neg_hunter = np.array(true_neg_hunter)\n",
    "\n",
    "np.save('../data/ROC_data/K2_TP_hunter', true_p_hunter)\n",
    "np.save('../data/ROC_data/K2_FN_hunter', false_neg_hunter)\n",
    "np.save('../data/ROC_data/K2_FP_hunter', false_p_hunter)\n",
    "np.save('../data/ROC_data/K2_TN_hunter', true_neg_hunter)"
   ]
  },
  {
   "cell_type": "markdown",
   "metadata": {
    "ExecuteTime": {
     "end_time": "2016-12-29T17:10:08.339001",
     "start_time": "2016-12-29T17:10:08.334931"
    }
   },
   "source": [
    "### Now lets load all the TP, FP, FN, Tn values and make ROC and PR curves for the same"
   ]
  },
  {
   "cell_type": "code",
   "execution_count": 3,
   "metadata": {
    "ExecuteTime": {
     "end_time": "2017-02-14T01:45:06.563202",
     "start_time": "2017-02-14T01:45:06.478899"
    },
    "collapsed": false,
    "run_control": {
     "frozen": false,
     "read_only": false
    }
   },
   "outputs": [],
   "source": [
    "true_p_motif = np.load('../data/ROC_data/K2_TP_motif.npy')\n",
    "false_neg_motif = np.load('../data/ROC_data/K2_FN_motif.npy')\n",
    "false_p_motif = np.load('../data/ROC_data/K2_FP_motif.npy')\n",
    "true_neg_motif = np.load('../data/ROC_data/K2_TN_motif.npy')\n",
    "\n",
    "tpr_motif = true_p_motif.sum(axis=0) / (true_p_motif.sum(axis=0) +\n",
    "                                        false_neg_motif.sum(axis=0))\n",
    "fpr_motif  = false_p_motif.sum(axis=0) / (false_p_motif.sum(axis=0) +\n",
    "                                          true_neg_motif.sum(axis=0))"
   ]
  },
  {
   "cell_type": "code",
   "execution_count": 4,
   "metadata": {
    "ExecuteTime": {
     "end_time": "2017-02-14T01:45:07.247131",
     "start_time": "2017-02-14T01:45:07.190075"
    },
    "collapsed": true,
    "run_control": {
     "frozen": false,
     "read_only": false
    }
   },
   "outputs": [],
   "source": [
    "true_p_hunter = np.load('../data/ROC_data/K2_TP_hunter.npy')\n",
    "false_neg_hunter = np.load('../data/ROC_data/K2_FN_hunter.npy')\n",
    "false_p_hunter = np.load('../data/ROC_data/K2_FP_hunter.npy')\n",
    "true_neg_hunter = np.load('../data/ROC_data/K2_TN_hunter.npy')\n",
    "\n",
    "tpr_hunter = true_p_hunter.sum(axis=0) / (true_p_hunter.sum(axis=0) +\n",
    "                                        false_neg_hunter.sum(axis=0))\n",
    "fpr_hunter = false_p_hunter.sum(axis=0) / (false_p_hunter.sum(axis=0) +\n",
    "                                          true_neg_hunter.sum(axis=0))"
   ]
  },
  {
   "cell_type": "code",
   "execution_count": 5,
   "metadata": {
    "ExecuteTime": {
     "end_time": "2017-02-14T01:45:07.881841",
     "start_time": "2017-02-14T01:45:07.773479"
    },
    "collapsed": false,
    "run_control": {
     "frozen": false,
     "read_only": false
    }
   },
   "outputs": [],
   "source": [
    "true_p = np.load('../data/ROC_data/K2_TP.npy')\n",
    "false_neg = np.load('../data/ROC_data/K2_FN.npy')\n",
    "false_p = np.load('../data/ROC_data/K2_FP.npy')\n",
    "true_neg = np.load('../data/ROC_data/K2_TN.npy')\n",
    "tpr = true_p.sum(axis=0) / (true_p.sum(axis=0) + false_neg.sum(axis=0))\n",
    "fpr = false_p.sum(axis=0) / (false_p.sum(axis=0) + true_neg.sum(axis=0))"
   ]
  },
  {
   "cell_type": "code",
   "execution_count": 6,
   "metadata": {
    "ExecuteTime": {
     "end_time": "2017-02-14T01:45:09.746997",
     "start_time": "2017-02-14T01:45:08.666097"
    },
    "collapsed": false,
    "run_control": {
     "frozen": false,
     "read_only": false
    },
    "scrolled": false
   },
   "outputs": [
    {
     "data": {
      "image/png": "[encoded data removed]",
      "text/plain": [
       "<matplotlib.figure.Figure at 0x2b116f376128>"
      ]
     },
     "metadata": {},
     "output_type": "display_data"
    }
   ],
   "source": [
    "fig, ax = plt.subplots(1, 1, figsize=(3.2,2.8))\n",
    "\n",
    "ax.plot(fpr, tpr, lw=1, color='grey', alpha=0.6, label=r'$\\xi$' + ' score')\n",
    "ax.scatter(fpr_hunter, tpr_hunter, s=5, color='blue', marker='o', alpha=0.9,\n",
    "          label='G4Hunter')\n",
    "ax.scatter(fpr_motif, tpr_motif, s=5,\n",
    "           color='r', marker='o', alpha=0.8, label='QuadParser')\n",
    "ax.plot([0,1], [0, 1], lw=1, ls='--', color='k')\n",
    "clean_axis(ax)\n",
    "ax.legend(frameon=False, loc=(0, 0.7), fontsize=8, scatterpoints=1)\n",
    "ax.set_xlim((-0.1,1.1))\n",
    "ax.set_ylim((-0.1,1.1))\n",
    "ax.set_xlabel('False Positive Rate', fontsize=10)\n",
    "ax.set_ylabel('True Positive Rate', fontsize=10)\n",
    "\n",
    "plt.tight_layout()\n",
    "plt.savefig('../images/roc_g4_seq.png', dpi=300, transparent=True, edgecolor='none')\n",
    "plt.savefig('../images/roc_g4_seq.svg', transparent=True, edgecolor='none')\n",
    "plt.show()"
   ]
  },
  {
   "cell_type": "code",
   "execution_count": 7,
   "metadata": {
    "ExecuteTime": {
     "end_time": "2017-02-14T01:45:21.101624",
     "start_time": "2017-02-14T01:45:20.479076"
    },
    "collapsed": false,
    "run_control": {
     "frozen": false,
     "read_only": false
    }
   },
   "outputs": [
    {
     "data": {
      "image/png": "[encoded data removed]",
      "text/plain": [
       "<matplotlib.figure.Figure at 0x2b1173d88780>"
      ]
     },
     "metadata": {},
     "output_type": "display_data"
    },
    {
     "data": {
      "text/plain": [
       "(array([16]), array([ 0.35119026]), array([ 0.00960961]))"
      ]
     },
     "execution_count": 7,
     "metadata": {},
     "output_type": "execute_result"
    }
   ],
   "source": [
    "fig, ax = plt.subplots(1, 1, figsize=(2.5,2))\n",
    "\n",
    "diff = tpr-fpr\n",
    "max_pos = np.where(diff == max(diff))[0]\n",
    "x = np.linspace(1e-10, 0.6, 1000)\n",
    "\n",
    "ax.plot(x, diff, lw=2, color='k', alpha=0.6)\n",
    "ax.set_xlabel(r'$\\xi$' + ' score', fontsize=10)\n",
    "ax.set_ylabel('TPR-FPR', fontsize=10)\n",
    "ax.axvline(x[max_pos], lw=1, ls='--')\n",
    "clean_axis(ax)\n",
    "\n",
    "plt.tight_layout()\n",
    "plt.savefig('../images/roc_g4_seq_diff_max_val.png', dpi=300, transparent=True, edgecolor='none')\n",
    "plt.savefig('../images/roc_g4_seq_diff_max_val.svg', transparent=True, edgecolor='none')\n",
    "plt.show()\n",
    "\n",
    "max_pos, diff[max_pos], x[max_pos]"
   ]
  },
  {
   "cell_type": "code",
   "execution_count": 1,
   "metadata": {
    "ExecuteTime": {
     "end_time": "2017-04-03T17:02:40.085995",
     "start_time": "2017-04-03T17:02:29.282090"
    },
    "collapsed": false,
    "run_control": {
     "frozen": false,
     "read_only": false
    }
   },
   "outputs": [
    {
     "ename": "NameError",
     "evalue": "name 'np' is not defined",
     "output_type": "error",
     "traceback": [
      "\u001b[0;31m---------------------------------------------------------------------------\u001b[0m",
      "\u001b[0;31mNameError\u001b[0m                                 Traceback (most recent call last)",
      "\u001b[0;32m<ipython-input-1-3049fe66387e>\u001b[0m in \u001b[0;36m<module>\u001b[0;34m()\u001b[0m\n\u001b[0;32m----> 1\u001b[0;31m \u001b[0;32mfor\u001b[0m \u001b[0mi\u001b[0m\u001b[0;34m,\u001b[0m\u001b[0mj\u001b[0m \u001b[0;32min\u001b[0m \u001b[0mzip\u001b[0m\u001b[0;34m(\u001b[0m\u001b[0mnp\u001b[0m\u001b[0;34m.\u001b[0m\u001b[0mlinspace\u001b[0m\u001b[0;34m(\u001b[0m\u001b[0;36m1e-20\u001b[0m\u001b[0;34m,\u001b[0m \u001b[0;36m0.6\u001b[0m\u001b[0;34m,\u001b[0m \u001b[0;36m1000\u001b[0m\u001b[0;34m)\u001b[0m\u001b[0;34m,\u001b[0m \u001b[0mdiff\u001b[0m\u001b[0;34m)\u001b[0m\u001b[0;34m:\u001b[0m\u001b[0;34m\u001b[0m\u001b[0m\n\u001b[0m\u001b[1;32m      2\u001b[0m     \u001b[0mprint\u001b[0m \u001b[0;34m(\u001b[0m\u001b[0mi\u001b[0m\u001b[0;34m,\u001b[0m \u001b[0mj\u001b[0m\u001b[0;34m)\u001b[0m\u001b[0;34m\u001b[0m\u001b[0m\n",
      "\u001b[0;31mNameError\u001b[0m: name 'np' is not defined"
     ]
    }
   ],
   "source": [
    "for i,j in zip(np.linspace(1e-20, 0.6, 1000), diff):\n",
    "    print (i, j)"
   ]
  },
  {
   "cell_type": "code",
   "execution_count": null,
   "metadata": {
    "collapsed": true,
    "run_control": {
     "frozen": false,
     "read_only": false
    }
   },
   "outputs": [],
   "source": []
  }
 ],
 "metadata": {
  "kernelspec": {
   "display_name": "Python [default]",
   "language": "python",
   "name": "python3"
  },
  "language_info": {
   "codemirror_mode": {
    "name": "ipython",
    "version": 3
   },
   "file_extension": ".py",
   "mimetype": "text/x-python",
   "name": "python",
   "nbconvert_exporter": "python",
   "pygments_lexer": "ipython3",
   "version": "3.5.2"
  }
 },
 "nbformat": 4,
 "nbformat_minor": 1
}
